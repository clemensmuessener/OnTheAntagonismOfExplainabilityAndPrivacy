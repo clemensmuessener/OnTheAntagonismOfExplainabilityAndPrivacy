{
 "cells": [
  {
   "cell_type": "markdown",
   "id": "75916e17",
   "metadata": {},
   "source": [
    "# SHAP Dependence Plot Membership Inference Experiments"
   ]
  },
  {
   "cell_type": "code",
   "execution_count": 1,
   "id": "f6661d3f",
   "metadata": {},
   "outputs": [],
   "source": [
    "import pandas as pd\n",
    "import sklearn.ensemble as es\n",
    "from sklearn.tree import DecisionTreeClassifier\n",
    "from sklearn.neural_network import MLPClassifier\n",
    "import matplotlib.pyplot as plt\n",
    "import numpy as np\n",
    "import logging\n",
    "import time\n",
    "import shap"
   ]
  },
  {
   "cell_type": "code",
   "execution_count": 2,
   "id": "a5238708",
   "metadata": {},
   "outputs": [],
   "source": [
    "%run experiment_setup.ipynb"
   ]
  },
  {
   "cell_type": "code",
   "execution_count": 3,
   "id": "bd2bf147",
   "metadata": {},
   "outputs": [],
   "source": [
    "logging.basicConfig()\n",
    "\n",
    "logger = logging.getLogger('xai-privacy')\n",
    "logger.setLevel(logging.INFO)"
   ]
  },
  {
   "cell_type": "markdown",
   "id": "c6a61bbc",
   "metadata": {},
   "source": [
    "This notebook will go through the experiment for membership inference with the SHAP dependence plot. Membership inference means an attacker with access to the explanation can tell for a test sample whether it was included in the training data or not.\n",
    "\n",
    "The idea for SHAP dependence plot membership inference is as follows: Check for each feature value of the test sample if there exists a datapoint at that x-value in the SHAP dependence plot for that feature. If at least one feature value does not appear in the respective SHAP dependence plot then the sample cannot be part of the training data. Otherwise, the sample may be part of the training data.\n",
    "\n",
    "First, we define two functions that will help us run the experiment later.\n",
    "\n",
    "The first function can execute membership inference for one sample."
   ]
  },
  {
   "cell_type": "code",
   "execution_count": 4,
   "id": "81820325",
   "metadata": {},
   "outputs": [],
   "source": [
    "class ShapDependenceMembershipInference(XaiPrivacyExperiment):\n",
    "    def train_explainer(self, data_train, model):\n",
    "        # Generate SHAP dependence plots for each feature (only for training data)\n",
    "        logger.debug(f'Calculating SHAP values for dependence plots...')\n",
    "        \n",
    "        x_train = data_train.drop(self.outcome_name, axis=1)\n",
    "        num_of_features = x_train.shape[1]\n",
    "        \n",
    "        explainer = shap.Explainer(model.predict, x_train)\n",
    "\n",
    "        shap_values = explainer(x_train)\n",
    "\n",
    "        d_plots_for_features = []\n",
    "\n",
    "        for i in range(num_of_features):\n",
    "            logger.debug(f'Calculating dependence plot for feature {i} of {num_of_features}')\n",
    "            fig, ax = plt.subplots()\n",
    "\n",
    "            # calculate SHAP dependence plot for the i-th feature using the shap values for the heart disease likelihood output\n",
    "            # do not show the plot, do not include interactions\n",
    "            shap.dependence_plot(i, shap_values.values, x_train, show=False, interaction_index=None, ax=ax)\n",
    "\n",
    "            # x, y data of plot\n",
    "            path_collection_offsets = ax.collections[0].get_offsets()\n",
    "            d_plots_for_features.append(path_collection_offsets)\n",
    "\n",
    "            # close current figure\n",
    "            plt.close()\n",
    "            \n",
    "        return d_plots_for_features\n",
    "        \n",
    "    @staticmethod\n",
    "    def membership_inference_attack_no_model_access(explainer, samples_df):\n",
    "        d_plots_for_features = explainer\n",
    "        samples = samples_df.to_numpy()\n",
    "        \n",
    "        feature_values_for_features = []\n",
    "        for shap_dependence_plot in d_plots_for_features:\n",
    "            feature_values_for_features.append([datapoint[0] for datapoint in shap_dependence_plot])\n",
    "\n",
    "        results = np.empty(samples.shape[0])\n",
    "\n",
    "        for i, sample in enumerate(samples):\n",
    "            logger.debug(f'Checking sample {sample} ...')\n",
    "\n",
    "            is_member = True\n",
    "\n",
    "            for j, feature_values_for_feature in enumerate(feature_values_for_features):\n",
    "\n",
    "                # check if j-th feature value of sample is contained in j-th shap dependence plot:\n",
    "                feature_value = sample[j]\n",
    "\n",
    "                if feature_value in feature_values_for_feature:\n",
    "                    logger.debug(f'Feature {j} ({feature_value}) is contained in respective SHAP dependence plot.')\n",
    "                    continue\n",
    "                else:\n",
    "                    logger.debug(f'Feature {j} ({feature_value}) is NOT contained in respective SHAP dependence plot.')\n",
    "                    is_member = False\n",
    "                    break\n",
    "\n",
    "            logger.debug(f'Inferred membership as {is_member}')\n",
    "            results[i] = is_member\n",
    "\n",
    "        return results"
   ]
  },
  {
   "cell_type": "markdown",
   "id": "d2ef61e5",
   "metadata": {},
   "source": [
    "# Dataset 1: Heart Disease (continuous)"
   ]
  },
  {
   "cell_type": "markdown",
   "id": "bdb2e40d",
   "metadata": {},
   "source": [
    "Before running the experiment, we we will have a short look at the visual explanation of a SHAP dependence plot. The underlying data of these graphs will be our attack vector for membership inference.\n",
    "\n",
    "Each dot represents the SHAP value of one training sample for the feature 'age'. The higher the SHAP value, the more that feature has contributed in that sample to a positive classifcation for heart disease. The x axis shows the value of the feature age in the respective training samples."
   ]
  },
  {
   "cell_type": "code",
   "execution_count": 5,
   "id": "64c4cf59",
   "metadata": {},
   "outputs": [
    {
     "data": {
      "image/png": "[encoded data removed]",
      "text/plain": [
       "<Figure size 432x360 with 1 Axes>"
      ]
     },
     "metadata": {
      "needs_background": "light"
     },
     "output_type": "display_data"
    }
   ],
   "source": [
    "# Train a random forest model on training data.\n",
    "features = data_num.drop('heart_disease_label', axis=1)\n",
    "labels = data_num['heart_disease_label']\n",
    "\n",
    "model = es.RandomForestClassifier(random_state=0)\n",
    "model = model.fit(features, labels)\n",
    "\n",
    "# Example SHAP dependence plot:\n",
    "features_100 = features.iloc[:100, :]\n",
    "explainer = shap.Explainer(model, features)\n",
    "shap_values = explainer(features_100)\n",
    "shap.dependence_plot(\"age\", shap_values.values[:, :, 1], features_100, interaction_index=None)"
   ]
  },
  {
   "cell_type": "markdown",
   "id": "883edb84",
   "metadata": {},
   "source": [
    "As a proof of concept for our privacy attack, we run the experiment with a very small amount of repetitions with logging to show that the membership inference function works in principle."
   ]
  },
  {
   "cell_type": "code",
   "execution_count": 6,
   "id": "813b7a63",
   "metadata": {
    "scrolled": true
   },
   "outputs": [
    {
     "name": "stderr",
     "output_type": "stream",
     "text": [
      "DEBUG:xai-privacy:Calculating SHAP values for dependence plots...\n",
      "Exact explainer: 1901it [00:15, 48.87it/s]                           \n",
      "DEBUG:xai-privacy:Calculating dependence plot for feature 0 of 8\n",
      "DEBUG:xai-privacy:Calculating dependence plot for feature 1 of 8\n",
      "DEBUG:xai-privacy:Calculating dependence plot for feature 2 of 8\n",
      "DEBUG:xai-privacy:Calculating dependence plot for feature 3 of 8\n",
      "DEBUG:xai-privacy:Calculating dependence plot for feature 4 of 8\n",
      "DEBUG:xai-privacy:Calculating dependence plot for feature 5 of 8\n",
      "DEBUG:xai-privacy:Calculating dependence plot for feature 6 of 8\n",
      "DEBUG:xai-privacy:Calculating dependence plot for feature 7 of 8\n",
      "DEBUG:xai-privacy:Checking sample [ 54.     3.   173.   121.    79.    26.21  75.    68.  ] ...\n",
      "DEBUG:xai-privacy:Feature 0 (54.0) is contained in respective SHAP dependence plot.\n",
      "DEBUG:xai-privacy:Feature 1 (3.0) is contained in respective SHAP dependence plot.\n",
      "DEBUG:xai-privacy:Feature 2 (173.0) is contained in respective SHAP dependence plot.\n",
      "DEBUG:xai-privacy:Feature 3 (121.0) is contained in respective SHAP dependence plot.\n",
      "DEBUG:xai-privacy:Feature 4 (79.0) is contained in respective SHAP dependence plot.\n",
      "DEBUG:xai-privacy:Feature 5 (26.21) is contained in respective SHAP dependence plot.\n",
      "DEBUG:xai-privacy:Feature 6 (75.0) is contained in respective SHAP dependence plot.\n",
      "DEBUG:xai-privacy:Feature 7 (68.0) is contained in respective SHAP dependence plot.\n",
      "DEBUG:xai-privacy:Inferred membership as True\n",
      "DEBUG:xai-privacy:Checking sample [ 60.    20.   285.   131.5   82.    27.87  60.   103.  ] ...\n",
      "DEBUG:xai-privacy:Feature 0 (60.0) is contained in respective SHAP dependence plot.\n",
      "DEBUG:xai-privacy:Feature 1 (20.0) is contained in respective SHAP dependence plot.\n",
      "DEBUG:xai-privacy:Feature 2 (285.0) is contained in respective SHAP dependence plot.\n",
      "DEBUG:xai-privacy:Feature 3 (131.5) is contained in respective SHAP dependence plot.\n",
      "DEBUG:xai-privacy:Feature 4 (82.0) is contained in respective SHAP dependence plot.\n",
      "DEBUG:xai-privacy:Feature 5 (27.87) is contained in respective SHAP dependence plot.\n",
      "DEBUG:xai-privacy:Feature 6 (60.0) is contained in respective SHAP dependence plot.\n",
      "DEBUG:xai-privacy:Feature 7 (103.0) is contained in respective SHAP dependence plot.\n",
      "DEBUG:xai-privacy:Inferred membership as True\n",
      "DEBUG:xai-privacy:Checking sample [ 63.     0.   306.   195.   105.    27.96  75.    87.  ] ...\n",
      "DEBUG:xai-privacy:Feature 0 (63.0) is contained in respective SHAP dependence plot.\n",
      "DEBUG:xai-privacy:Feature 1 (0.0) is contained in respective SHAP dependence plot.\n",
      "DEBUG:xai-privacy:Feature 2 (306.0) is contained in respective SHAP dependence plot.\n",
      "DEBUG:xai-privacy:Feature 3 (195.0) is contained in respective SHAP dependence plot.\n",
      "DEBUG:xai-privacy:Feature 4 (105.0) is contained in respective SHAP dependence plot.\n",
      "DEBUG:xai-privacy:Feature 5 (27.96) is contained in respective SHAP dependence plot.\n",
      "DEBUG:xai-privacy:Feature 6 (75.0) is contained in respective SHAP dependence plot.\n",
      "DEBUG:xai-privacy:Feature 7 (87.0) is contained in respective SHAP dependence plot.\n",
      "DEBUG:xai-privacy:Inferred membership as True\n",
      "DEBUG:xai-privacy:Checking sample [ 54.    30.   215.   117.5   70.5   26.77  60.    75.  ] ...\n",
      "DEBUG:xai-privacy:Feature 0 (54.0) is contained in respective SHAP dependence plot.\n",
      "DEBUG:xai-privacy:Feature 1 (30.0) is contained in respective SHAP dependence plot.\n",
      "DEBUG:xai-privacy:Feature 2 (215.0) is contained in respective SHAP dependence plot.\n",
      "DEBUG:xai-privacy:Feature 3 (117.5) is contained in respective SHAP dependence plot.\n",
      "DEBUG:xai-privacy:Feature 4 (70.5) is contained in respective SHAP dependence plot.\n",
      "DEBUG:xai-privacy:Feature 5 (26.77) is contained in respective SHAP dependence plot.\n",
      "DEBUG:xai-privacy:Feature 6 (60.0) is contained in respective SHAP dependence plot.\n",
      "DEBUG:xai-privacy:Feature 7 (75.0) is contained in respective SHAP dependence plot.\n",
      "DEBUG:xai-privacy:Inferred membership as True\n",
      "DEBUG:xai-privacy:Checking sample [ 48.     0.   237.   124.5   66.5   33.29  80.    91.  ] ...\n",
      "DEBUG:xai-privacy:Feature 0 (48.0) is contained in respective SHAP dependence plot.\n",
      "DEBUG:xai-privacy:Feature 1 (0.0) is contained in respective SHAP dependence plot.\n",
      "DEBUG:xai-privacy:Feature 2 (237.0) is contained in respective SHAP dependence plot.\n",
      "DEBUG:xai-privacy:Feature 3 (124.5) is contained in respective SHAP dependence plot.\n",
      "DEBUG:xai-privacy:Feature 4 (66.5) is contained in respective SHAP dependence plot.\n",
      "DEBUG:xai-privacy:Feature 5 (33.29) is contained in respective SHAP dependence plot.\n",
      "DEBUG:xai-privacy:Feature 6 (80.0) is contained in respective SHAP dependence plot.\n",
      "DEBUG:xai-privacy:Feature 7 (91.0) is contained in respective SHAP dependence plot.\n",
      "DEBUG:xai-privacy:Inferred membership as True\n",
      "DEBUG:xai-privacy:Checking sample [ 60.    0.  278.  160.5  96.   26.4  55.   75. ] ...\n",
      "DEBUG:xai-privacy:Feature 0 (60.0) is contained in respective SHAP dependence plot.\n",
      "DEBUG:xai-privacy:Feature 1 (0.0) is contained in respective SHAP dependence plot.\n",
      "DEBUG:xai-privacy:Feature 2 (278.0) is contained in respective SHAP dependence plot.\n",
      "DEBUG:xai-privacy:Feature 3 (160.5) is contained in respective SHAP dependence plot.\n",
      "DEBUG:xai-privacy:Feature 4 (96.0) is contained in respective SHAP dependence plot.\n",
      "DEBUG:xai-privacy:Feature 5 (26.4) is contained in respective SHAP dependence plot.\n",
      "DEBUG:xai-privacy:Feature 6 (55.0) is contained in respective SHAP dependence plot.\n",
      "DEBUG:xai-privacy:Feature 7 (75.0) is contained in respective SHAP dependence plot.\n",
      "DEBUG:xai-privacy:Inferred membership as True\n",
      "DEBUG:xai-privacy:Checking sample [ 40.    30.   162.   129.    76.5   24.12  70.    73.  ] ...\n",
      "DEBUG:xai-privacy:Feature 0 (40.0) is contained in respective SHAP dependence plot.\n",
      "DEBUG:xai-privacy:Feature 1 (30.0) is contained in respective SHAP dependence plot.\n",
      "DEBUG:xai-privacy:Feature 2 (162.0) is contained in respective SHAP dependence plot.\n",
      "DEBUG:xai-privacy:Feature 3 (129.0) is contained in respective SHAP dependence plot.\n",
      "DEBUG:xai-privacy:Feature 4 (76.5) is contained in respective SHAP dependence plot.\n",
      "DEBUG:xai-privacy:Feature 5 (24.12) is contained in respective SHAP dependence plot.\n",
      "DEBUG:xai-privacy:Feature 6 (70.0) is contained in respective SHAP dependence plot.\n",
      "DEBUG:xai-privacy:Feature 7 (73.0) is contained in respective SHAP dependence plot.\n",
      "DEBUG:xai-privacy:Inferred membership as True\n",
      "DEBUG:xai-privacy:Checking sample [ 44.     0.   190.   122.    81.    36.12  70.   143.  ] ...\n",
      "DEBUG:xai-privacy:Feature 0 (44.0) is contained in respective SHAP dependence plot.\n",
      "DEBUG:xai-privacy:Feature 1 (0.0) is contained in respective SHAP dependence plot.\n",
      "DEBUG:xai-privacy:Feature 2 (190.0) is contained in respective SHAP dependence plot.\n",
      "DEBUG:xai-privacy:Feature 3 (122.0) is contained in respective SHAP dependence plot.\n",
      "DEBUG:xai-privacy:Feature 4 (81.0) is contained in respective SHAP dependence plot.\n",
      "DEBUG:xai-privacy:Feature 5 (36.12) is contained in respective SHAP dependence plot.\n",
      "DEBUG:xai-privacy:Feature 6 (70.0) is contained in respective SHAP dependence plot.\n",
      "DEBUG:xai-privacy:Feature 7 (143.0) is NOT contained in respective SHAP dependence plot.\n",
      "DEBUG:xai-privacy:Inferred membership as False\n",
      "DEBUG:xai-privacy:Checking sample [ 55.     0.   331.   128.    84.    21.18  70.    76.  ] ...\n",
      "DEBUG:xai-privacy:Feature 0 (55.0) is contained in respective SHAP dependence plot.\n",
      "DEBUG:xai-privacy:Feature 1 (0.0) is contained in respective SHAP dependence plot.\n",
      "DEBUG:xai-privacy:Feature 2 (331.0) is contained in respective SHAP dependence plot.\n",
      "DEBUG:xai-privacy:Feature 3 (128.0) is contained in respective SHAP dependence plot.\n",
      "DEBUG:xai-privacy:Feature 4 (84.0) is contained in respective SHAP dependence plot.\n",
      "DEBUG:xai-privacy:Feature 5 (21.18) is contained in respective SHAP dependence plot.\n",
      "DEBUG:xai-privacy:Feature 6 (70.0) is contained in respective SHAP dependence plot.\n",
      "DEBUG:xai-privacy:Feature 7 (76.0) is contained in respective SHAP dependence plot.\n",
      "DEBUG:xai-privacy:Inferred membership as True\n",
      "DEBUG:xai-privacy:Checking sample [ 40.    30.   267.   146.    93.5   27.47  87.    89.  ] ...\n",
      "DEBUG:xai-privacy:Feature 0 (40.0) is contained in respective SHAP dependence plot.\n",
      "DEBUG:xai-privacy:Feature 1 (30.0) is contained in respective SHAP dependence plot.\n"
     ]
    },
    {
     "name": "stderr",
     "output_type": "stream",
     "text": [
      "DEBUG:xai-privacy:Feature 2 (267.0) is contained in respective SHAP dependence plot.\n",
      "DEBUG:xai-privacy:Feature 3 (146.0) is contained in respective SHAP dependence plot.\n",
      "DEBUG:xai-privacy:Feature 4 (93.5) is contained in respective SHAP dependence plot.\n",
      "DEBUG:xai-privacy:Feature 5 (27.47) is NOT contained in respective SHAP dependence plot.\n",
      "DEBUG:xai-privacy:Inferred membership as False\n"
     ]
    },
    {
     "name": "stdout",
     "output_type": "stream",
     "text": [
      "Accuracy: 0.7, precision: 0.625, recall: 1.0\n"
     ]
    }
   ],
   "source": [
    "logger.setLevel(logging.DEBUG)\n",
    "\n",
    "EXP = ShapDependenceMembershipInference(data_num, continuous_features_num, outcome_name_num, 42)\n",
    "EXP.membership_inference_experiment(10, DecisionTreeClassifier(random_state=0), model_access=False)\n",
    "\n",
    "logger.setLevel(logging.INFO)"
   ]
  },
  {
   "cell_type": "markdown",
   "id": "3192b2eb",
   "metadata": {},
   "source": [
    "The proof of concept should show that the membership inference function predicts membership accurately in some cases. A false negative should not appear (recall is 100%). However, only some control samples are actually detected as not being part of the training data. You can change the random state to try out a few different runs with different tested samples."
   ]
  },
  {
   "cell_type": "markdown",
   "id": "4dcb3db0",
   "metadata": {},
   "source": [
    "Now we begin executing the actual experiment. We begin by defining the matrix that will hold the results for all our different experiment variations. Then we execute the first variation of the experiment for this dataset."
   ]
  },
  {
   "cell_type": "code",
   "execution_count": 7,
   "id": "2afeb15f",
   "metadata": {},
   "outputs": [],
   "source": [
    "results_ = {'dataset': [], 'model': [], 'accuracy': [], 'precision': [], 'recall': []}\n",
    "\n",
    "results = pd.DataFrame(data = results_)"
   ]
  },
  {
   "cell_type": "code",
   "execution_count": 9,
   "id": "2ced13c7",
   "metadata": {},
   "outputs": [
    {
     "name": "stdout",
     "output_type": "stream",
     "text": [
      "features: continuous, model: decision tree.\n"
     ]
    },
    {
     "name": "stderr",
     "output_type": "stream",
     "text": [
      "Exact explainer: 1901it [00:12, 33.31it/s]                           \n"
     ]
    },
    {
     "name": "stdout",
     "output_type": "stream",
     "text": [
      "Accuracy: 0.64, precision: 0.5813953488372093, recall: 1.0\n",
      "--- 13.390016555786133 seconds ---\n"
     ]
    }
   ],
   "source": [
    "print(\"features: continuous, model: decision tree.\")\n",
    "\n",
    "start_time = time.time()\n",
    "\n",
    "EXP = ShapDependenceMembershipInference(data_num, continuous_features_num, outcome_name_num, 0)\n",
    "accuracy, precision, recall = EXP.membership_inference_experiment(100,\\\n",
    "                                DecisionTreeClassifier(random_state=0), model_access=False)\n",
    "\n",
    "results.loc[len(results.index)] = ['continuous', 'decision tree', accuracy, precision, recall]\n",
    "\n",
    "print(\"--- %s seconds ---\" % (time.time() - start_time))"
   ]
  },
  {
   "cell_type": "markdown",
   "id": "12447755",
   "metadata": {},
   "source": [
    "In the following cells, we vary the number of shown ICE explanations, the number of training samples and the model."
   ]
  },
  {
   "cell_type": "code",
   "execution_count": 10,
   "id": "10f5513d",
   "metadata": {},
   "outputs": [
    {
     "name": "stdout",
     "output_type": "stream",
     "text": [
      "features: continuous, model: random forest.\n"
     ]
    },
    {
     "name": "stderr",
     "output_type": "stream",
     "text": [
      "Exact explainer: 1901it [06:56,  4.45it/s]                          \n"
     ]
    },
    {
     "name": "stdout",
     "output_type": "stream",
     "text": [
      "Accuracy: 0.64, precision: 0.5813953488372093, recall: 1.0\n",
      "--- 417.63120436668396 seconds ---\n"
     ]
    }
   ],
   "source": [
    "print(\"features: continuous, model: random forest.\")\n",
    "\n",
    "start_time = time.time()\n",
    "\n",
    "EXP = ShapDependenceMembershipInference(data_num, continuous_features_num, outcome_name_num, 0)\n",
    "accuracy, precision, recall = EXP.membership_inference_experiment(100,\\\n",
    "                                es.RandomForestClassifier(random_state=0), model_access=False)\n",
    "\n",
    "results.loc[len(results.index)] = ['continuous', 'random forest', accuracy, precision, recall]\n",
    "\n",
    "print(\"--- %s seconds ---\" % (time.time() - start_time))"
   ]
  },
  {
   "cell_type": "code",
   "execution_count": 11,
   "id": "5583f0d6",
   "metadata": {},
   "outputs": [
    {
     "name": "stdout",
     "output_type": "stream",
     "text": [
      "features: continuous, model: neural network.\n"
     ]
    },
    {
     "name": "stderr",
     "output_type": "stream",
     "text": [
      "Exact explainer: 1901it [01:00, 25.64it/s]                          \n"
     ]
    },
    {
     "name": "stdout",
     "output_type": "stream",
     "text": [
      "Accuracy: 0.64, precision: 0.5813953488372093, recall: 1.0\n",
      "--- 60.95280647277832 seconds ---\n"
     ]
    }
   ],
   "source": [
    "print(\"features: continuous, model: neural network.\")\n",
    "\n",
    "start_time = time.time()\n",
    "\n",
    "EXP = ShapDependenceMembershipInference(data_num, continuous_features_num, outcome_name_num, 0)\n",
    "accuracy, precision, recall = EXP.membership_inference_experiment(100,\\\n",
    "                                MLPClassifier(hidden_layer_sizes=(32, 32, 32), random_state=0), model_access=False)\n",
    "\n",
    "results.loc[len(results.index)] = ['continuous', 'neural network', accuracy, precision, recall]\n",
    "\n",
    "print(\"--- %s seconds ---\" % (time.time() - start_time))"
   ]
  },
  {
   "cell_type": "markdown",
   "id": "f89a99b4",
   "metadata": {},
   "source": [
    "# Dataset 2: Census Income (categorical)"
   ]
  },
  {
   "cell_type": "markdown",
   "id": "09b86a0e",
   "metadata": {},
   "source": [
    "Now all variations of the membership inference experiment will be executed for the second dataset."
   ]
  },
  {
   "cell_type": "code",
   "execution_count": 12,
   "id": "b0a4ce4a",
   "metadata": {},
   "outputs": [
    {
     "name": "stdout",
     "output_type": "stream",
     "text": [
      "features: categorical, model: decision tree.\n"
     ]
    },
    {
     "name": "stderr",
     "output_type": "stream",
     "text": [
      "Exact explainer: 4310it [01:15, 50.39it/s]                          \n"
     ]
    },
    {
     "name": "stdout",
     "output_type": "stream",
     "text": [
      "Accuracy: 0.5, precision: 0.5, recall: 1.0\n",
      "--- 76.44341516494751 seconds ---\n"
     ]
    }
   ],
   "source": [
    "print(\"features: categorical, model: decision tree.\")\n",
    "\n",
    "start_time = time.time()\n",
    "\n",
    "EXP = ShapDependenceMembershipInference(data_cat, continuous_features_cat, outcome_name_cat, 0)\n",
    "accuracy, precision, recall = EXP.membership_inference_experiment(100,\\\n",
    "                                DecisionTreeClassifier(random_state=0), model_access=False)\n",
    "\n",
    "results.loc[len(results.index)] = ['categorical', 'decision tree', accuracy, precision, recall]\n",
    "\n",
    "print(\"--- %s seconds ---\" % (time.time() - start_time))"
   ]
  },
  {
   "cell_type": "code",
   "execution_count": 13,
   "id": "da0bce0b",
   "metadata": {},
   "outputs": [
    {
     "name": "stdout",
     "output_type": "stream",
     "text": [
      "features: categorical, model: random forest.\n"
     ]
    },
    {
     "name": "stderr",
     "output_type": "stream",
     "text": [
      "Exact explainer: 4310it [16:50,  4.22it/s]                          \n"
     ]
    },
    {
     "name": "stdout",
     "output_type": "stream",
     "text": [
      "Accuracy: 0.5, precision: 0.5, recall: 1.0\n",
      "--- 1012.4442076683044 seconds ---\n"
     ]
    }
   ],
   "source": [
    "print(\"features: categorical, model: random forest.\")\n",
    "\n",
    "start_time = time.time()\n",
    "\n",
    "EXP = ShapDependenceMembershipInference(data_cat, continuous_features_cat, outcome_name_cat, 0)\n",
    "accuracy, precision, recall = EXP.membership_inference_experiment(100,\\\n",
    "                                es.RandomForestClassifier(random_state=0), model_access=False)\n",
    "\n",
    "results.loc[len(results.index)] = ['categorical', 'random forest', accuracy, precision, recall]\n",
    "\n",
    "print(\"--- %s seconds ---\" % (time.time() - start_time))"
   ]
  },
  {
   "cell_type": "code",
   "execution_count": 14,
   "id": "0858019b",
   "metadata": {},
   "outputs": [
    {
     "name": "stdout",
     "output_type": "stream",
     "text": [
      "features: categorical, model: neural network.\n"
     ]
    },
    {
     "name": "stderr",
     "output_type": "stream",
     "text": [
      "Stochastic Optimizer: Maximum iterations (200) reached and the optimization hasn't converged yet.\n",
      "Exact explainer: 4310it [02:55, 23.54it/s]                          \n"
     ]
    },
    {
     "name": "stdout",
     "output_type": "stream",
     "text": [
      "Accuracy: 0.5, precision: 0.5, recall: 1.0\n",
      "--- 183.00786900520325 seconds ---\n"
     ]
    }
   ],
   "source": [
    "print(\"features: categorical, model: neural network.\")\n",
    "\n",
    "start_time = time.time()\n",
    "\n",
    "EXP = ShapDependenceMembershipInference(data_cat, continuous_features_cat, outcome_name_cat, 0)\n",
    "accuracy, precision, recall = EXP.membership_inference_experiment(100,\\\n",
    "                                MLPClassifier(hidden_layer_sizes=(32, 32, 32), random_state=0), model_access=False)\n",
    "\n",
    "results.loc[len(results.index)] = ['categorical', 'neural network', accuracy, precision, recall]\n",
    "\n",
    "print(\"--- %s seconds ---\" % (time.time() - start_time))"
   ]
  },
  {
   "cell_type": "markdown",
   "id": "b7f06a08",
   "metadata": {},
   "source": [
    "# Results\n",
    "\n",
    "The results of all variations of the membership inference experiment with SHAP dependence plots. In each experiment, half the samples were picked randomly from the training data, while the other half were picked randomly from the control data not used for training. Both datasets originate from the same source dataset.\n",
    "\n",
    "Accuracy is the percentage of samples whose membership (true or false) was correctly inferred. An algorithm guessing at random would achieve an accuracy of 50 percent.\n",
    "\n",
    "Precision is the percentage of predicted training samples that is actually in the training data.\n",
    "\n",
    "Recall is the percentage of training samples whose membership (true) was correctly inferred."
   ]
  },
  {
   "cell_type": "code",
   "execution_count": 15,
   "id": "e8cd69e3",
   "metadata": {},
   "outputs": [
    {
     "data": {
      "text/html": [
       "<div>\n",
       "<style scoped>\n",
       "    .dataframe tbody tr th:only-of-type {\n",
       "        vertical-align: middle;\n",
       "    }\n",
       "\n",
       "    .dataframe tbody tr th {\n",
       "        vertical-align: top;\n",
       "    }\n",
       "\n",
       "    .dataframe thead th {\n",
       "        text-align: right;\n",
       "    }\n",
       "</style>\n",
       "<table border=\"1\" class=\"dataframe\">\n",
       "  <thead>\n",
       "    <tr style=\"text-align: right;\">\n",
       "      <th></th>\n",
       "      <th>dataset</th>\n",
       "      <th>model</th>\n",
       "      <th>accuracy</th>\n",
       "      <th>precision</th>\n",
       "      <th>recall</th>\n",
       "    </tr>\n",
       "  </thead>\n",
       "  <tbody>\n",
       "    <tr>\n",
       "      <th>0</th>\n",
       "      <td>continuous</td>\n",
       "      <td>decision tree</td>\n",
       "      <td>0.64</td>\n",
       "      <td>0.581395</td>\n",
       "      <td>1.0</td>\n",
       "    </tr>\n",
       "    <tr>\n",
       "      <th>1</th>\n",
       "      <td>continuous</td>\n",
       "      <td>random forest</td>\n",
       "      <td>0.64</td>\n",
       "      <td>0.581395</td>\n",
       "      <td>1.0</td>\n",
       "    </tr>\n",
       "    <tr>\n",
       "      <th>2</th>\n",
       "      <td>continuous</td>\n",
       "      <td>neural network</td>\n",
       "      <td>0.64</td>\n",
       "      <td>0.581395</td>\n",
       "      <td>1.0</td>\n",
       "    </tr>\n",
       "    <tr>\n",
       "      <th>3</th>\n",
       "      <td>categorical</td>\n",
       "      <td>decision tree</td>\n",
       "      <td>0.50</td>\n",
       "      <td>0.500000</td>\n",
       "      <td>1.0</td>\n",
       "    </tr>\n",
       "    <tr>\n",
       "      <th>4</th>\n",
       "      <td>categorical</td>\n",
       "      <td>random forest</td>\n",
       "      <td>0.50</td>\n",
       "      <td>0.500000</td>\n",
       "      <td>1.0</td>\n",
       "    </tr>\n",
       "    <tr>\n",
       "      <th>5</th>\n",
       "      <td>categorical</td>\n",
       "      <td>neural network</td>\n",
       "      <td>0.50</td>\n",
       "      <td>0.500000</td>\n",
       "      <td>1.0</td>\n",
       "    </tr>\n",
       "  </tbody>\n",
       "</table>\n",
       "</div>"
      ],
      "text/plain": [
       "       dataset           model  accuracy  precision  recall\n",
       "0   continuous   decision tree      0.64   0.581395     1.0\n",
       "1   continuous   random forest      0.64   0.581395     1.0\n",
       "2   continuous  neural network      0.64   0.581395     1.0\n",
       "3  categorical   decision tree      0.50   0.500000     1.0\n",
       "4  categorical   random forest      0.50   0.500000     1.0\n",
       "5  categorical  neural network      0.50   0.500000     1.0"
      ]
     },
     "execution_count": 15,
     "metadata": {},
     "output_type": "execute_result"
    }
   ],
   "source": [
    "results"
   ]
  },
  {
   "cell_type": "code",
   "execution_count": 16,
   "id": "0ff0de03",
   "metadata": {},
   "outputs": [],
   "source": [
    "results.to_csv('results/shap-dependence-membership-inference-results.csv', index=False, na_rep='NaN')"
   ]
  },
  {
   "cell_type": "code",
   "execution_count": null,
   "id": "a52268cd",
   "metadata": {},
   "outputs": [],
   "source": []
  }
 ],
 "metadata": {
  "kernelspec": {
   "display_name": "Python 3",
   "language": "python",
   "name": "python3"
  },
  "language_info": {
   "codemirror_mode": {
    "name": "ipython",
    "version": 3
   },
   "file_extension": ".py",
   "mimetype": "text/x-python",
   "name": "python",
   "nbconvert_exporter": "python",
   "pygments_lexer": "ipython3",
   "version": "3.9.2"
  }
 },
 "nbformat": 4,
 "nbformat_minor": 5
}
