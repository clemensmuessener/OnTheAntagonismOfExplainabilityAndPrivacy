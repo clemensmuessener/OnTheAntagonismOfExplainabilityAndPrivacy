{
 "cells": [
  {
   "cell_type": "markdown",
   "id": "75916e17",
   "metadata": {},
   "source": [
    "# K-Nearest-Neighbors Membership Inference Experiment"
   ]
  },
  {
   "cell_type": "code",
   "execution_count": 20,
   "id": "f6661d3f",
   "metadata": {},
   "outputs": [],
   "source": [
    "import pandas as pd\n",
    "import sklearn.ensemble as es\n",
    "from sklearn.tree import DecisionTreeClassifier\n",
    "from sklearn.neural_network import MLPClassifier\n",
    "import numpy as np\n",
    "import logging\n",
    "from sklearn.neighbors import KNeighborsClassifier"
   ]
  },
  {
   "cell_type": "code",
   "execution_count": 21,
   "id": "d5e1de41-a5ee-4520-8060-00873915a3a8",
   "metadata": {
    "tags": []
   },
   "outputs": [],
   "source": [
    "threads = 4"
   ]
  },
  {
   "cell_type": "code",
   "execution_count": 22,
   "id": "f17097ef",
   "metadata": {},
   "outputs": [
    {
     "name": "stderr",
     "output_type": "stream",
     "text": [
      "INFO:xai-privacy:Loading dataset 1: heart disease (continuous features) ...\n",
      "INFO:xai-privacy:Loading dataset 2: census income (categorical features) ...\n"
     ]
    }
   ],
   "source": [
    "%run experiment_setup.ipynb"
   ]
  },
  {
   "cell_type": "code",
   "execution_count": 23,
   "id": "b77aa19b-a2fb-4a9b-95ae-0b44e584390e",
   "metadata": {},
   "outputs": [],
   "source": [
    "logger = logging.getLogger('xai-privacy')"
   ]
  },
  {
   "cell_type": "markdown",
   "id": "c6a61bbc",
   "metadata": {},
   "source": [
    "This notebook will go through the experiment for membership inference with KNN as an explanation. Membership inference means an attacker with access to the explanation can tell for a test sample whether it was included in the training data or not.\n",
    "\n",
    "The idea for KNN membership inference is as follows: Enter the test sample and check whether the test sample is returned as one of its own nearest neighbors. If it is, it is part of the training data. Otherwise it is not."
   ]
  },
  {
   "cell_type": "markdown",
   "id": "488dc98b",
   "metadata": {},
   "source": [
    "First, we have to create our own wrapper class for the default scikit-learn KNN classifier. This is necessary because the scikit-learn implementation only returns the indices of the nearest neighbors. However, in order to be useful explanation to a user, the actual feature values of the nearest neighbors need to be returned. This is done by the wrapper class."
   ]
  },
  {
   "cell_type": "code",
   "execution_count": 24,
   "id": "9dccb92a",
   "metadata": {},
   "outputs": [],
   "source": [
    "# define own KNN explainer that provides the k nearest neighbors to a query point\n",
    "class KnnExplainer():\n",
    "    def __init__(self, data, outcome_name):\n",
    "        features = data.drop(outcome_name, axis=1)\n",
    "        labels = data[outcome_name]\n",
    "        self._knn_model = KNeighborsClassifier().fit(features, labels)\n",
    "        self._data = data\n",
    "        \n",
    "    def explain(self, sample_df):\n",
    "        nei_indices = self._knn_model.kneighbors(X=sample_df, return_distance=False)\n",
    "        neighbors = self._data.iloc[nei_indices[0], :]\n",
    "        return neighbors"
   ]
  },
  {
   "cell_type": "markdown",
   "id": "773a4d5a",
   "metadata": {},
   "source": [
    "Then, we implement the `train_explainer` and `membership_inference_attack_no_model_access` functions:"
   ]
  },
  {
   "cell_type": "code",
   "execution_count": 25,
   "id": "3a58eda4",
   "metadata": {},
   "outputs": [],
   "source": [
    "class KnnMembershipInference(MembershipInference):\n",
    "    def train_explainer(self, data_train, model):\n",
    "        return KnnExplainer(data_train, self.outcome_name)\n",
    "        \n",
    "    @staticmethod\n",
    "    def membership_inference_attack_no_model_access(explainer, samples_df):\n",
    "        inferred_membership = np.empty(len(samples_df))\n",
    "        \n",
    "        for index in range(len(samples_df)):\n",
    "            # needs double brackets so that iloc returns a dataframe instead of a series\n",
    "            sample_df = samples_df.iloc[[index], :]\n",
    "\n",
    "            logger.debug(f'Checking sample {index}: {sample_df.to_numpy()[0]}')\n",
    "\n",
    "            # explainer does not need target for explanation (remove last column)\n",
    "            neighbors = explainer.explain(sample_df.drop(sample_df.columns[-1], axis=1))\n",
    "            \n",
    "            logger.debug(f'K nearest neighbors: \\n {neighbors.to_numpy()}')\n",
    "            \n",
    "            # check if the sample itself is part of it's own nearest neighbors. In that case, it is part of the training data.\n",
    "            # otherwise it isn't.\n",
    "            result = np.isclose(neighbors.to_numpy().astype(float), sample_df.to_numpy().astype(float)).all(axis=1).any()\n",
    "\n",
    "            logger.debug('Inferred membership: %s' % result)\n",
    "            inferred_membership[index] = result\n",
    "        \n",
    "        return inferred_membership"
   ]
  },
  {
   "cell_type": "markdown",
   "id": "d2ef61e5",
   "metadata": {},
   "source": [
    "# Dataset 1: Heart Disease"
   ]
  },
  {
   "cell_type": "markdown",
   "id": "d02a2083",
   "metadata": {},
   "source": [
    "We now generate a KNN explaination for a random sample from the training data as a demonstration of the concept."
   ]
  },
  {
   "cell_type": "code",
   "execution_count": 26,
   "id": "64c4cf59",
   "metadata": {},
   "outputs": [
    {
     "name": "stdout",
     "output_type": "stream",
     "text": [
      "Test sample: [[ 45.     0.   172.   137.    92.5   30.35  90.    83.  ]]\n",
      "Model prediction: 1.0\n",
      "Nearest Neighbors: \n",
      " [[ 45.     0.   172.   137.    92.5   30.35  90.    83.     1.  ]\n",
      " [ 37.     1.   165.   134.5   91.    27.97  86.    80.     0.  ]\n",
      " [ 43.     0.   170.   134.    90.    32.93  95.    73.     0.  ]\n",
      " [ 42.     9.   165.   139.    91.    26.54  83.    83.     0.  ]\n",
      " [ 40.     1.   178.   142.    84.    34.46  88.    77.     0.  ]]\n"
     ]
    }
   ],
   "source": [
    "features = data_num.drop('heart_disease_label', axis=1)\n",
    "labels = data_num['heart_disease_label']\n",
    "\n",
    "# Train a random forest on training data.\n",
    "model = es.RandomForestClassifier(random_state=0)\n",
    "model = model.fit(features, labels)\n",
    "\n",
    "# Train explainer\n",
    "exp = KnnExplainer(data_num, 'heart_disease_label')\n",
    "\n",
    "test_sample = features.sample()\n",
    "print(f'Test sample: {test_sample.to_numpy()}')\n",
    "\n",
    "pred = model.predict(test_sample)\n",
    "print(f'Model prediction: {pred[0]}')\n",
    "\n",
    "neighbors = exp.explain(test_sample)\n",
    "print(f'Nearest Neighbors: \\n {neighbors.to_numpy()}')"
   ]
  },
  {
   "cell_type": "markdown",
   "id": "084cf1e0",
   "metadata": {},
   "source": [
    "We will now do a small proof of concept of the experiment with logging enabled to demonstrate how it works."
   ]
  },
  {
   "cell_type": "code",
   "execution_count": 27,
   "id": "cacf1093",
   "metadata": {
    "scrolled": true
   },
   "outputs": [
    {
     "name": "stderr",
     "output_type": "stream",
     "text": [
      "DEBUG:xai-privacy:[[ 52.     0.   216.   125.    72.    24.98  75.    95.     0.  ]] taken from training data\n",
      "DEBUG:xai-privacy:[[ 45.    0.  258.  114.   80.   26.6  80.   68.    0. ]] taken from control data\n",
      "DEBUG:xai-privacy:[[ 49.    20.   291.   160.    99.    29.91  85.    88.     0.  ]] taken from training data\n",
      "DEBUG:xai-privacy:[[ 50.    20.   235.   121.    78.    23.01  52.    78.     0.  ]] taken from control data\n",
      "DEBUG:xai-privacy:[[ 41.   40.  242.  124.5  86.5  28.8  87.   67.    0. ]] taken from training data\n",
      "DEBUG:xai-privacy:[[ 53.    10.   261.   136.    99.    21.02  85.    94.     0.  ]] taken from control data\n",
      "DEBUG:xai-privacy:[[ 46.     0.   213.   136.    77.    31.02  75.    73.     0.  ]] taken from training data\n",
      "DEBUG:xai-privacy:[[ 58.     0.   210.   102.    60.    26.98  71.    90.     0.  ]] taken from control data\n",
      "DEBUG:xai-privacy:[[ 54.     0.   265.   121.    82.    23.52  60.    67.     0.  ]] taken from training data\n",
      "DEBUG:xai-privacy:[[ 41.    5.  218.  129.5  93.   27.8  58.   83.    0. ]] taken from control data\n",
      "DEBUG:xai-privacy:Checking sample 0: [ 52.     0.   216.   125.    72.    24.98  75.    95.     0.  ]\n",
      "DEBUG:xai-privacy:K nearest neighbors: \n",
      " [[ 52.     0.   216.   125.    72.    24.98  75.    95.     0.  ]\n",
      " [ 45.     0.   210.   120.    72.    22.01  75.    93.     0.  ]\n",
      " [ 61.     0.   219.   120.    72.5   22.35  76.    92.     0.  ]\n",
      " [ 46.     0.   220.   119.    80.    25.86  75.    95.     0.  ]\n",
      " [ 51.     0.   223.   117.5   77.5   27.78  68.    97.     0.  ]]\n",
      "DEBUG:xai-privacy:Inferred membership: True\n",
      "DEBUG:xai-privacy:Checking sample 1: [ 45.    0.  258.  114.   80.   26.6  80.   68.    0. ]\n",
      "DEBUG:xai-privacy:K nearest neighbors: \n",
      " [[ 48.     0.   263.   114.    80.    25.14  80.    77.     0.  ]\n",
      " [ 54.     0.   262.   113.5   80.    26.42  75.    67.     0.  ]\n",
      " [ 50.     0.   260.   119.    74.    21.85  80.    72.     1.  ]\n",
      " [ 49.     0.   257.   115.    75.    25.61  72.    74.     0.  ]\n",
      " [ 47.     0.   266.   107.    77.    30.61  75.    64.     0.  ]]\n",
      "DEBUG:xai-privacy:Inferred membership: False\n",
      "DEBUG:xai-privacy:Checking sample 2: [ 49.    20.   291.   160.    99.    29.91  85.    88.     0.  ]\n",
      "DEBUG:xai-privacy:K nearest neighbors: \n",
      " [[ 49.    20.   291.   160.    99.    29.91  85.    88.     0.  ]\n",
      " [ 47.    20.   286.   148.    98.    29.98  80.    93.     1.  ]\n",
      " [ 51.    20.   293.   151.    92.    30.67  80.    77.     0.  ]\n",
      " [ 43.    20.   286.   164.    89.    24.44  75.    87.     0.  ]\n",
      " [ 56.    20.   300.   165.   112.    23.68  86.    78.     1.  ]]\n",
      "DEBUG:xai-privacy:Inferred membership: True\n",
      "DEBUG:xai-privacy:Checking sample 3: [ 50.    20.   235.   121.    78.    23.01  52.    78.     0.  ]\n",
      "DEBUG:xai-privacy:K nearest neighbors: \n",
      " [[ 60.    10.   227.   122.    80.    25.64  58.    80.     0.  ]\n",
      " [ 46.    30.   250.   123.    76.    21.66  55.    78.     0.  ]\n",
      " [ 51.    15.   220.   125.    82.    24.1   60.    73.     1.  ]\n",
      " [ 37.    25.   243.   125.    75.    29.19  60.    78.     0.  ]\n",
      " [ 52.    20.   248.   128.    74.    21.84  65.    79.     0.  ]]\n",
      "DEBUG:xai-privacy:Inferred membership: False\n",
      "DEBUG:xai-privacy:Checking sample 4: [ 41.   40.  242.  124.5  86.5  28.8  87.   67.    0. ]\n",
      "DEBUG:xai-privacy:K nearest neighbors: \n",
      " [[ 41.    40.   242.   124.5   86.5   28.8   87.    67.     0.  ]\n",
      " [ 43.    30.   235.   128.5   80.    18.83  90.    70.     0.  ]\n",
      " [ 42.    30.   240.   133.5   97.5   28.94  86.    73.     1.  ]\n",
      " [ 42.    30.   240.   127.    90.    38.54  75.    69.     0.  ]\n",
      " [ 41.    43.   249.   125.    87.    27.13  75.    81.     1.  ]]\n",
      "DEBUG:xai-privacy:Inferred membership: True\n",
      "DEBUG:xai-privacy:Checking sample 5: [ 53.    10.   261.   136.    99.    21.02  85.    94.     0.  ]\n",
      "DEBUG:xai-privacy:K nearest neighbors: \n",
      " [[ 47.     0.   265.   137.5   88.5   23.75  83.    90.     0.  ]\n",
      " [ 45.     5.   268.   130.    94.    34.27  85.    93.     0.  ]\n",
      " [ 41.    15.   268.   140.    92.5   24.71  75.    90.     0.  ]\n",
      " [ 61.     9.   259.   134.5   87.    22.91  70.    91.     0.  ]\n",
      " [ 45.     0.   258.   148.5   88.    23.46  85.    90.     0.  ]]\n",
      "DEBUG:xai-privacy:Inferred membership: False\n",
      "DEBUG:xai-privacy:Checking sample 6: [ 46.     0.   213.   136.    77.    31.02  75.    73.     0.  ]\n",
      "DEBUG:xai-privacy:K nearest neighbors: \n",
      " [[ 46.     0.   213.   136.    77.    31.02  75.    73.     0.  ]\n",
      " [ 45.     0.   213.   130.    80.    27.25  68.    75.     0.  ]\n",
      " [ 49.     0.   215.   132.    85.    33.14  81.    75.     1.  ]\n",
      " [ 54.     0.   208.   138.    78.    30.47  67.    73.     0.  ]\n",
      " [ 43.     0.   210.   127.5   82.5   27.94  78.    80.     0.  ]]\n",
      "DEBUG:xai-privacy:Inferred membership: True\n",
      "DEBUG:xai-privacy:Checking sample 7: [ 58.     0.   210.   102.    60.    26.98  71.    90.     0.  ]\n",
      "DEBUG:xai-privacy:K nearest neighbors: \n",
      " [[ 52.     0.   214.    98.    67.    23.43  68.    90.     0.  ]\n",
      " [ 55.     0.   204.   100.5   62.    29.44  82.    88.     0.  ]\n",
      " [ 54.     0.   205.   107.5   67.5   20.26  75.    88.     0.  ]\n",
      " [ 65.     0.   212.    94.    62.    25.83  80.    88.     0.  ]\n",
      " [ 53.     0.   207.   102.5   72.5   26.5   72.    95.     0.  ]]\n",
      "DEBUG:xai-privacy:Inferred membership: False\n",
      "DEBUG:xai-privacy:Checking sample 8: [ 54.     0.   265.   121.    82.    23.52  60.    67.     0.  ]\n",
      "DEBUG:xai-privacy:K nearest neighbors: \n",
      " [[ 54.     0.   265.   121.    82.    23.52  60.    67.     0.  ]\n",
      " [ 55.     0.   260.   120.    80.    28.89  60.    68.     0.  ]\n",
      " [ 52.     0.   265.   130.    84.    27.09  63.    69.     0.  ]\n",
      " [ 54.     0.   260.   116.    77.    28.56  57.    61.     0.  ]\n",
      " [ 55.     0.   262.   122.5   84.    28.68  66.    76.     1.  ]]\n",
      "DEBUG:xai-privacy:Inferred membership: True\n",
      "DEBUG:xai-privacy:Checking sample 9: [ 41.    5.  218.  129.5  93.   27.8  58.   83.    0. ]\n",
      "DEBUG:xai-privacy:K nearest neighbors: \n",
      " [[ 45.     5.   217.   130.    82.    26.95  50.    85.     0.  ]\n",
      " [ 38.     0.   216.   124.    84.    28.12  63.    75.     0.  ]\n",
      " [ 45.     3.   220.   133.5   85.5   25.38  65.    73.     0.  ]\n",
      " [ 39.     0.   221.   126.    80.    23.9   64.    80.     0.  ]\n",
      " [ 47.    10.   214.   132.    95.    24.23  70.    77.     0.  ]]\n",
      "DEBUG:xai-privacy:Inferred membership: False\n"
     ]
    },
    {
     "name": "stdout",
     "output_type": "stream",
     "text": [
      "Total time: 0.12s (training model: 0.01s, training explainer: 0.00s, experiment: 0.10s)\n",
      "Accuracy: 1.0, precision: 1.0, recall: 1.0\n"
     ]
    }
   ],
   "source": [
    "logger.setLevel(logging.DEBUG)\n",
    "\n",
    "EXP = KnnMembershipInference(data_num, continuous_features_num, outcome_name_num, random_state=0)\n",
    "EXP.membership_inference_experiment(stop_after=10, model=DecisionTreeClassifier(random_state=0), model_access=False, threads=1)\n",
    "\n",
    "logger.setLevel(logging.INFO)"
   ]
  },
  {
   "cell_type": "markdown",
   "id": "1ce9ba36",
   "metadata": {},
   "source": [
    "The proof of concept should show that the membership inference function predicts membership very accurately."
   ]
  },
  {
   "cell_type": "markdown",
   "id": "3d8971c1",
   "metadata": {},
   "source": [
    "Now we begin executing the actual experiment. We begin by defining the table that will hold the results for all our different experiment variations. Then we execute all variations of the experiment for this dataset. We vary the model between a decision tree, a random forest and a neural network. Each model uses the default configuration of scikit-learn."
   ]
  },
  {
   "cell_type": "code",
   "execution_count": 28,
   "id": "10674b35",
   "metadata": {
    "scrolled": true
   },
   "outputs": [],
   "source": [
    "results_ = {'dataset': [], 'model': [], 'accuracy': [], 'precision': [], 'recall': []}\n",
    "\n",
    "results = pd.DataFrame(data = results_)"
   ]
  },
  {
   "cell_type": "code",
   "execution_count": 29,
   "id": "eca0a6ed",
   "metadata": {
    "scrolled": true
   },
   "outputs": [
    {
     "name": "stdout",
     "output_type": "stream",
     "text": [
      "features: continuous, model: decision tree.\n",
      "Total time: 3.02s (training model: 0.01s, training explainer: 0.00s, experiment: 3.00s)\n",
      "Accuracy: 1.0, precision: 1.0, recall: 1.0\n"
     ]
    }
   ],
   "source": [
    "print(\"features: continuous, model: decision tree.\")\n",
    "\n",
    "EXP = KnnMembershipInference(data_num, continuous_features_num, outcome_name_num, random_state=0)\n",
    "accuracy, precision, recall = EXP.membership_inference_experiment(stop_after=None, model=DecisionTreeClassifier(random_state=0), model_access=False, threads=threads)\n",
    "\n",
    "results.loc[len(results.index)] = ['continuous', 'decision tree', accuracy, precision, recall]"
   ]
  },
  {
   "cell_type": "code",
   "execution_count": 30,
   "id": "209abdac",
   "metadata": {
    "scrolled": true
   },
   "outputs": [
    {
     "name": "stdout",
     "output_type": "stream",
     "text": [
      "features: continuous, model: random forest.\n",
      "Total time: 3.18s (training model: 0.29s, training explainer: 0.00s, experiment: 2.89s)\n",
      "Accuracy: 1.0, precision: 1.0, recall: 1.0\n"
     ]
    }
   ],
   "source": [
    "print(\"features: continuous, model: random forest.\")\n",
    "\n",
    "EXP = KnnMembershipInference(data_num, continuous_features_num, outcome_name_num, random_state=0)\n",
    "accuracy, precision, recall = EXP.membership_inference_experiment(stop_after=None, model=es.RandomForestClassifier(random_state=0), model_access=False, threads=threads)\n",
    "\n",
    "results.loc[len(results.index)] = ['continuous', 'random forest', accuracy, precision, recall]"
   ]
  },
  {
   "cell_type": "code",
   "execution_count": 31,
   "id": "3353ecbe",
   "metadata": {},
   "outputs": [
    {
     "name": "stdout",
     "output_type": "stream",
     "text": [
      "features: continuous, model: neural network.\n",
      "Total time: 3.25s (training model: 0.29s, training explainer: 0.00s, experiment: 2.95s)\n",
      "Accuracy: 1.0, precision: 1.0, recall: 1.0\n"
     ]
    }
   ],
   "source": [
    "print(\"features: continuous, model: neural network.\")\n",
    "\n",
    "EXP = KnnMembershipInference(data_num, continuous_features_num, outcome_name_num, random_state=0)\n",
    "accuracy, precision, recall = EXP.membership_inference_experiment(stop_after=None, model=MLPClassifier(random_state=0), model_access=False, threads=threads)\n",
    "\n",
    "results.loc[len(results.index)] = ['continuous', 'neural network', accuracy, precision, recall]"
   ]
  },
  {
   "cell_type": "markdown",
   "id": "f30466d5",
   "metadata": {},
   "source": [
    "# Dataset 2: Census Income (categorical)"
   ]
  },
  {
   "cell_type": "markdown",
   "id": "11ea4992",
   "metadata": {},
   "source": [
    "Now all variations of the membership inference experiment will be executed for the second dataset."
   ]
  },
  {
   "cell_type": "code",
   "execution_count": 32,
   "id": "b7c5bad2",
   "metadata": {
    "scrolled": true
   },
   "outputs": [
    {
     "name": "stdout",
     "output_type": "stream",
     "text": [
      "features: categorical, model: decision tree.\n",
      "Total time: 5.49s (training model: 0.05s, training explainer: 0.00s, experiment: 5.43s)\n",
      "Accuracy: 1.0, precision: 1.0, recall: 1.0\n"
     ]
    }
   ],
   "source": [
    "print(\"features: categorical, model: decision tree.\")\n",
    "\n",
    "EXP = KnnMembershipInference(data_cat, continuous_features_cat, outcome_name_cat, random_state=0)\n",
    "accuracy, precision, recall = EXP.membership_inference_experiment(stop_after=None, model=DecisionTreeClassifier(random_state=0), model_access=False, threads=threads)\n",
    "\n",
    "results.loc[len(results.index)] = ['categorical', 'decision tree', accuracy, precision, recall]"
   ]
  },
  {
   "cell_type": "code",
   "execution_count": 33,
   "id": "bb513d54",
   "metadata": {
    "scrolled": true
   },
   "outputs": [
    {
     "name": "stdout",
     "output_type": "stream",
     "text": [
      "features: categorical, model: random forest.\n",
      "Total time: 6.17s (training model: 0.81s, training explainer: 0.00s, experiment: 5.36s)\n",
      "Accuracy: 1.0, precision: 1.0, recall: 1.0\n"
     ]
    }
   ],
   "source": [
    "print(\"features: categorical, model: random forest.\")\n",
    "\n",
    "EXP = KnnMembershipInference(data_cat, continuous_features_cat, outcome_name_cat, random_state=0)\n",
    "accuracy, precision, recall = EXP.membership_inference_experiment(stop_after=None, model=es.RandomForestClassifier(random_state=0), model_access=False, threads=threads)\n",
    "\n",
    "results.loc[len(results.index)] = ['categorical', 'random forest', accuracy, precision, recall]"
   ]
  },
  {
   "cell_type": "code",
   "execution_count": 34,
   "id": "a43815a1",
   "metadata": {
    "scrolled": true
   },
   "outputs": [
    {
     "name": "stdout",
     "output_type": "stream",
     "text": [
      "features: categorical, model: neural network.\n"
     ]
    },
    {
     "name": "stderr",
     "output_type": "stream",
     "text": [
      "/opt/conda/lib/python3.9/site-packages/sklearn/neural_network/_multilayer_perceptron.py:692: ConvergenceWarning: Stochastic Optimizer: Maximum iterations (200) reached and the optimization hasn't converged yet.\n",
      "  warnings.warn(\n"
     ]
    },
    {
     "name": "stdout",
     "output_type": "stream",
     "text": [
      "Total time: 11.28s (training model: 5.88s, training explainer: 0.01s, experiment: 5.39s)\n",
      "Accuracy: 1.0, precision: 1.0, recall: 1.0\n"
     ]
    }
   ],
   "source": [
    "print(\"features: categorical, model: neural network.\")\n",
    "\n",
    "EXP = KnnMembershipInference(data_cat, continuous_features_cat, outcome_name_cat, random_state=0)\n",
    "accuracy, precision, recall = EXP.membership_inference_experiment(stop_after=None, model=MLPClassifier(random_state=0), model_access=False, threads=threads)\n",
    "\n",
    "results.loc[len(results.index)] = ['categorical', 'neural network', accuracy, precision, recall]"
   ]
  },
  {
   "cell_type": "markdown",
   "id": "a1feb9a8",
   "metadata": {},
   "source": [
    "# Results\n",
    "\n",
    "The results of all variations of the membership inference experiment with KNN. In every experiment, we executed the membership inference attack on each sample of the training data and each sample of the control data. Both datasets are of equal size and originate from the same source dataset.\n",
    "\n",
    "Accuracy is the percentage of samples whose membership (true or false) was correctly inferred. An algorithm guessing at random would achieve an accuracy of 50 percent.\n",
    "\n",
    "Precision is the percentage of predicted training samples that is actually in the training data.\n",
    "\n",
    "Recall is the percentage of training samples whose membership (true) was correctly inferred."
   ]
  },
  {
   "cell_type": "code",
   "execution_count": 35,
   "id": "39bb0af8",
   "metadata": {},
   "outputs": [
    {
     "data": {
      "text/html": [
       "<div>\n",
       "<style scoped>\n",
       "    .dataframe tbody tr th:only-of-type {\n",
       "        vertical-align: middle;\n",
       "    }\n",
       "\n",
       "    .dataframe tbody tr th {\n",
       "        vertical-align: top;\n",
       "    }\n",
       "\n",
       "    .dataframe thead th {\n",
       "        text-align: right;\n",
       "    }\n",
       "</style>\n",
       "<table border=\"1\" class=\"dataframe\">\n",
       "  <thead>\n",
       "    <tr style=\"text-align: right;\">\n",
       "      <th></th>\n",
       "      <th>dataset</th>\n",
       "      <th>model</th>\n",
       "      <th>accuracy</th>\n",
       "      <th>precision</th>\n",
       "      <th>recall</th>\n",
       "    </tr>\n",
       "  </thead>\n",
       "  <tbody>\n",
       "    <tr>\n",
       "      <th>0</th>\n",
       "      <td>continuous</td>\n",
       "      <td>decision tree</td>\n",
       "      <td>1.0</td>\n",
       "      <td>1.0</td>\n",
       "      <td>1.0</td>\n",
       "    </tr>\n",
       "    <tr>\n",
       "      <th>1</th>\n",
       "      <td>continuous</td>\n",
       "      <td>random forest</td>\n",
       "      <td>1.0</td>\n",
       "      <td>1.0</td>\n",
       "      <td>1.0</td>\n",
       "    </tr>\n",
       "    <tr>\n",
       "      <th>2</th>\n",
       "      <td>continuous</td>\n",
       "      <td>neural network</td>\n",
       "      <td>1.0</td>\n",
       "      <td>1.0</td>\n",
       "      <td>1.0</td>\n",
       "    </tr>\n",
       "    <tr>\n",
       "      <th>3</th>\n",
       "      <td>categorical</td>\n",
       "      <td>decision tree</td>\n",
       "      <td>1.0</td>\n",
       "      <td>1.0</td>\n",
       "      <td>1.0</td>\n",
       "    </tr>\n",
       "    <tr>\n",
       "      <th>4</th>\n",
       "      <td>categorical</td>\n",
       "      <td>random forest</td>\n",
       "      <td>1.0</td>\n",
       "      <td>1.0</td>\n",
       "      <td>1.0</td>\n",
       "    </tr>\n",
       "    <tr>\n",
       "      <th>5</th>\n",
       "      <td>categorical</td>\n",
       "      <td>neural network</td>\n",
       "      <td>1.0</td>\n",
       "      <td>1.0</td>\n",
       "      <td>1.0</td>\n",
       "    </tr>\n",
       "  </tbody>\n",
       "</table>\n",
       "</div>"
      ],
      "text/plain": [
       "       dataset           model  accuracy  precision  recall\n",
       "0   continuous   decision tree       1.0        1.0     1.0\n",
       "1   continuous   random forest       1.0        1.0     1.0\n",
       "2   continuous  neural network       1.0        1.0     1.0\n",
       "3  categorical   decision tree       1.0        1.0     1.0\n",
       "4  categorical   random forest       1.0        1.0     1.0\n",
       "5  categorical  neural network       1.0        1.0     1.0"
      ]
     },
     "execution_count": 35,
     "metadata": {},
     "output_type": "execute_result"
    }
   ],
   "source": [
    "results"
   ]
  },
  {
   "cell_type": "code",
   "execution_count": 36,
   "id": "31380dcf",
   "metadata": {},
   "outputs": [],
   "source": [
    "results.to_csv('results/1-4-knn-membership-inference-results.csv', index=False, na_rep='NaN', float_format='%.3f')"
   ]
  },
  {
   "cell_type": "markdown",
   "id": "776fa6ec-8416-4947-aafd-e528c82f9bbb",
   "metadata": {},
   "source": [
    "# Discussion\n",
    "\n",
    "Just as expected, the attack has an accuracy of 100%. No false positives or false negatives occur."
   ]
  },
  {
   "cell_type": "code",
   "execution_count": null,
   "id": "5b68b48c",
   "metadata": {},
   "outputs": [],
   "source": []
  }
 ],
 "metadata": {
  "kernelspec": {
   "display_name": "Python 3",
   "language": "python",
   "name": "python3"
  },
  "language_info": {
   "codemirror_mode": {
    "name": "ipython",
    "version": 3
   },
   "file_extension": ".py",
   "mimetype": "text/x-python",
   "name": "python",
   "nbconvert_exporter": "python",
   "pygments_lexer": "ipython3",
   "version": "3.9.2"
  }
 },
 "nbformat": 4,
 "nbformat_minor": 5
}
