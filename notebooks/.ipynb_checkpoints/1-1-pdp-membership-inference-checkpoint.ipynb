{
 "cells": [
  {
   "cell_type": "markdown",
   "id": "75916e17",
   "metadata": {},
   "source": [
    "# Partial Dependence Plot Membership Inference Experiments"
   ]
  },
  {
   "cell_type": "code",
   "execution_count": 1,
   "id": "f6661d3f",
   "metadata": {},
   "outputs": [],
   "source": [
    "import pandas as pd\n",
    "import sklearn.ensemble as es\n",
    "from sklearn.tree import DecisionTreeClassifier\n",
    "from sklearn.neural_network import MLPClassifier\n",
    "import matplotlib.pyplot as plt\n",
    "from sklearn.inspection import partial_dependence\n",
    "from sklearn.inspection import PartialDependenceDisplay\n",
    "import numpy as np\n",
    "import logging"
   ]
  },
  {
   "cell_type": "code",
   "execution_count": 2,
   "id": "037ba61b-1104-440a-8581-0103b38df84a",
   "metadata": {
    "tags": []
   },
   "outputs": [],
   "source": [
    "threads = 4"
   ]
  },
  {
   "cell_type": "code",
   "execution_count": 3,
   "id": "a5238708",
   "metadata": {},
   "outputs": [
    {
     "name": "stderr",
     "output_type": "stream",
     "text": [
      "INFO:xai-privacy:Loading dataset 1: heart disease (numeric features) ...\n",
      "INFO:xai-privacy:Loading dataset 2: census income (categorical features) ...\n"
     ]
    }
   ],
   "source": [
    "%run experiment_setup.ipynb"
   ]
  },
  {
   "cell_type": "code",
   "execution_count": 4,
   "id": "bd2bf147",
   "metadata": {},
   "outputs": [],
   "source": [
    "logger = logging.getLogger('xai-privacy')"
   ]
  },
  {
   "cell_type": "markdown",
   "id": "c6a61bbc",
   "metadata": {},
   "source": [
    "This notebook will go through the experiment for membership inference with the partial dependence plot (PDP). Membership inference means an attacker with access to the explanation can tell for a test sample whether it was included in the training data or not.\n",
    "\n",
    "The idea for PDP membership inference is as follows: The PDP shows the partial dependence for each feature value that occurs in the training data. Check for each feature value of the test sample if there exists a datapoint at that x-value in the PDP for that feature. If at least one feature value does not appear in the respective PDP, then the sample cannot be part of the training data. Otherwise, the sample may be part of the training data."
   ]
  },
  {
   "cell_type": "markdown",
   "id": "5829891e",
   "metadata": {},
   "source": [
    "First, we implement the `train_explainer` and `membership_inference_attack_no_model_access` functions:"
   ]
  },
  {
   "cell_type": "code",
   "execution_count": 5,
   "id": "81820325",
   "metadata": {},
   "outputs": [],
   "source": [
    "class PDPMembershipInference(MembershipInference):\n",
    "    def train_explainer(self, data_train, model):\n",
    "        # Generate partial dependence plots for each feature (only for training data)\n",
    "        pd_plots = []\n",
    "\n",
    "        for i in range(self.features.shape[1]):\n",
    "            # grid resolution must be high enough so that each unique feature value in the training data gets its own \n",
    "            # partial dependence value on the y axis (per our definition of PDP)\n",
    "            pd_plots.append(partial_dependence(estimator=model, X=data_train.drop(self.outcome_name, axis=1), \n",
    "                                                   features=[i], percentiles=(0,1), grid_resolution=len(data_train) + 1))\n",
    "            \n",
    "        return pd_plots\n",
    "        \n",
    "    @staticmethod\n",
    "    def membership_inference_attack_no_model_access(explainer, samples_df):\n",
    "        pd_plots = explainer\n",
    "        # we only use the features for membership inference, not the target\n",
    "        samples = samples_df.to_numpy()[:,:-1]\n",
    "        num_features = samples.shape[1]\n",
    "\n",
    "        results = np.empty(samples.shape[0])\n",
    "\n",
    "        for i, sample in enumerate(samples):\n",
    "            logger.debug(f'Checking sample {i}: {sample}')\n",
    "\n",
    "            is_member = True\n",
    "\n",
    "            for j in range(num_features):\n",
    "                # check if j-th feature value of sample is contained in j-th partial dependence plot:\n",
    "                feature_values_in_plot = pd_plots[j]['values'][0]\n",
    "                feature_value_in_sample = sample[j]\n",
    "\n",
    "                if feature_value_in_sample in feature_values_in_plot:\n",
    "                    logger.debug(f'Feature {j} ({feature_value_in_sample}) is contained in respective PDP.')\n",
    "                    continue\n",
    "                else:\n",
    "                    logger.debug(f'Feature {j} ({feature_value_in_sample}) is NOT contained in respective PDP.')\n",
    "                    is_member = False\n",
    "                    break\n",
    "\n",
    "            logger.debug(f'Inferred membership as {is_member}')\n",
    "            results[i] = is_member\n",
    "\n",
    "        return results"
   ]
  },
  {
   "cell_type": "markdown",
   "id": "d2ef61e5",
   "metadata": {},
   "source": [
    "# Dataset 1: Heart Disease (numeric)"
   ]
  },
  {
   "cell_type": "markdown",
   "id": "bdb2e40d",
   "metadata": {},
   "source": [
    "Before running the experiment, we we will have a short look at the visual explanation of a PDP. The underlying data of these graphs will be our attack vector for membership inference.\n",
    "\n",
    "The line represents the average prediction for all possible feature values of the feature 'age'."
   ]
  },
  {
   "cell_type": "code",
   "execution_count": 6,
   "id": "64c4cf59",
   "metadata": {},
   "outputs": [
    {
     "data": {
      "image/png": "[encoded data removed]",
      "text/plain": [
       "<Figure size 432x288 with 2 Axes>"
      ]
     },
     "metadata": {
      "needs_background": "light"
     },
     "output_type": "display_data"
    }
   ],
   "source": [
    "# Train a random forest model on training data.\n",
    "features = data_num.drop(outcome_name_num, axis=1)\n",
    "labels = data_num[outcome_name_num]\n",
    "\n",
    "model = es.RandomForestClassifier(random_state=0)\n",
    "model = model.fit(features, labels)\n",
    "\n",
    "# Example SHAP dependence plot:\n",
    "features_100 = features.iloc[:100, :]\n",
    "\n",
    "display = PartialDependenceDisplay.from_estimator(estimator=model, X=features, features=[0], feature_names=['age'],\n",
    "       grid_resolution=len(data_num), random_state=0)"
   ]
  },
  {
   "cell_type": "markdown",
   "id": "883edb84",
   "metadata": {},
   "source": [
    "As a proof of concept for our privacy attack, we run the experiment with a very small amount of repetitions with logging to show that the membership inference function works in principle."
   ]
  },
  {
   "cell_type": "code",
   "execution_count": 7,
   "id": "813b7a63",
   "metadata": {
    "scrolled": true
   },
   "outputs": [
    {
     "name": "stderr",
     "output_type": "stream",
     "text": [
      "DEBUG:xai-privacy:[[ 50. 170. 209. 116.   0.   0.]] taken from training data\n",
      "DEBUG:xai-privacy:[[ 57. 156. 173. 119.   3.   1.]] taken from control data\n",
      "DEBUG:xai-privacy:[[ 63.  130.  254.  147.    1.4   1. ]] taken from training data\n",
      "DEBUG:xai-privacy:[[ 51.  100.  222.  143.    1.2   0. ]] taken from control data\n",
      "DEBUG:xai-privacy:[[ 44. 140. 235. 180.   0.   0.]] taken from training data\n",
      "DEBUG:xai-privacy:[[ 49. 130. 207. 135.   0.   0.]] taken from control data\n",
      "DEBUG:xai-privacy:[[ 40. 150. 392. 130.   2.   1.]] taken from training data\n",
      "DEBUG:xai-privacy:[[ 48. 160. 355.  99.   2.   1.]] taken from control data\n",
      "DEBUG:xai-privacy:[[ 51.  120.    0.  127.    1.5   1. ]] taken from training data\n",
      "DEBUG:xai-privacy:[[ 42.  136.  315.  125.    1.8   1. ]] taken from control data\n",
      "DEBUG:xai-privacy:Checking sample 0: [ 50. 170. 209. 116.   0.]\n",
      "DEBUG:xai-privacy:Feature 0 (50.0) is contained in respective PDP.\n",
      "DEBUG:xai-privacy:Feature 1 (170.0) is contained in respective PDP.\n",
      "DEBUG:xai-privacy:Feature 2 (209.0) is contained in respective PDP.\n",
      "DEBUG:xai-privacy:Feature 3 (116.0) is contained in respective PDP.\n",
      "DEBUG:xai-privacy:Feature 4 (0.0) is contained in respective PDP.\n",
      "DEBUG:xai-privacy:Inferred membership as True\n",
      "DEBUG:xai-privacy:Checking sample 1: [ 57. 156. 173. 119.   3.]\n",
      "DEBUG:xai-privacy:Feature 0 (57.0) is contained in respective PDP.\n",
      "DEBUG:xai-privacy:Feature 1 (156.0) is contained in respective PDP.\n",
      "DEBUG:xai-privacy:Feature 2 (173.0) is contained in respective PDP.\n",
      "DEBUG:xai-privacy:Feature 3 (119.0) is contained in respective PDP.\n",
      "DEBUG:xai-privacy:Feature 4 (3.0) is contained in respective PDP.\n",
      "DEBUG:xai-privacy:Inferred membership as True\n",
      "DEBUG:xai-privacy:Checking sample 2: [ 63.  130.  254.  147.    1.4]\n",
      "DEBUG:xai-privacy:Feature 0 (63.0) is contained in respective PDP.\n",
      "DEBUG:xai-privacy:Feature 1 (130.0) is contained in respective PDP.\n",
      "DEBUG:xai-privacy:Feature 2 (254.0) is contained in respective PDP.\n",
      "DEBUG:xai-privacy:Feature 3 (147.0) is contained in respective PDP.\n",
      "DEBUG:xai-privacy:Feature 4 (1.4) is contained in respective PDP.\n",
      "DEBUG:xai-privacy:Inferred membership as True\n",
      "DEBUG:xai-privacy:Checking sample 3: [ 51.  100.  222.  143.    1.2]\n",
      "DEBUG:xai-privacy:Feature 0 (51.0) is contained in respective PDP.\n",
      "DEBUG:xai-privacy:Feature 1 (100.0) is contained in respective PDP.\n",
      "DEBUG:xai-privacy:Feature 2 (222.0) is contained in respective PDP.\n",
      "DEBUG:xai-privacy:Feature 3 (143.0) is contained in respective PDP.\n",
      "DEBUG:xai-privacy:Feature 4 (1.2) is contained in respective PDP.\n",
      "DEBUG:xai-privacy:Inferred membership as True\n",
      "DEBUG:xai-privacy:Checking sample 4: [ 44. 140. 235. 180.   0.]\n",
      "DEBUG:xai-privacy:Feature 0 (44.0) is contained in respective PDP.\n",
      "DEBUG:xai-privacy:Feature 1 (140.0) is contained in respective PDP.\n",
      "DEBUG:xai-privacy:Feature 2 (235.0) is contained in respective PDP.\n",
      "DEBUG:xai-privacy:Feature 3 (180.0) is contained in respective PDP.\n",
      "DEBUG:xai-privacy:Feature 4 (0.0) is contained in respective PDP.\n",
      "DEBUG:xai-privacy:Inferred membership as True\n",
      "DEBUG:xai-privacy:Checking sample 5: [ 49. 130. 207. 135.   0.]\n",
      "DEBUG:xai-privacy:Feature 0 (49.0) is contained in respective PDP.\n",
      "DEBUG:xai-privacy:Feature 1 (130.0) is contained in respective PDP.\n",
      "DEBUG:xai-privacy:Feature 2 (207.0) is contained in respective PDP.\n",
      "DEBUG:xai-privacy:Feature 3 (135.0) is contained in respective PDP.\n",
      "DEBUG:xai-privacy:Feature 4 (0.0) is contained in respective PDP.\n",
      "DEBUG:xai-privacy:Inferred membership as True\n",
      "DEBUG:xai-privacy:Checking sample 6: [ 40. 150. 392. 130.   2.]\n",
      "DEBUG:xai-privacy:Feature 0 (40.0) is contained in respective PDP.\n",
      "DEBUG:xai-privacy:Feature 1 (150.0) is contained in respective PDP.\n",
      "DEBUG:xai-privacy:Feature 2 (392.0) is contained in respective PDP.\n",
      "DEBUG:xai-privacy:Feature 3 (130.0) is contained in respective PDP.\n",
      "DEBUG:xai-privacy:Feature 4 (2.0) is contained in respective PDP.\n",
      "DEBUG:xai-privacy:Inferred membership as True\n",
      "DEBUG:xai-privacy:Checking sample 7: [ 48. 160. 355.  99.   2.]\n",
      "DEBUG:xai-privacy:Feature 0 (48.0) is contained in respective PDP.\n",
      "DEBUG:xai-privacy:Feature 1 (160.0) is contained in respective PDP.\n",
      "DEBUG:xai-privacy:Feature 2 (355.0) is NOT contained in respective PDP.\n",
      "DEBUG:xai-privacy:Inferred membership as False\n",
      "DEBUG:xai-privacy:Checking sample 8: [ 51.  120.    0.  127.    1.5]\n",
      "DEBUG:xai-privacy:Feature 0 (51.0) is contained in respective PDP.\n",
      "DEBUG:xai-privacy:Feature 1 (120.0) is contained in respective PDP.\n",
      "DEBUG:xai-privacy:Feature 2 (0.0) is contained in respective PDP.\n",
      "DEBUG:xai-privacy:Feature 3 (127.0) is contained in respective PDP.\n",
      "DEBUG:xai-privacy:Feature 4 (1.5) is contained in respective PDP.\n",
      "DEBUG:xai-privacy:Inferred membership as True\n",
      "DEBUG:xai-privacy:Checking sample 9: [ 42.  136.  315.  125.    1.8]\n",
      "DEBUG:xai-privacy:Feature 0 (42.0) is contained in respective PDP.\n",
      "DEBUG:xai-privacy:Feature 1 (136.0) is contained in respective PDP.\n",
      "DEBUG:xai-privacy:Feature 2 (315.0) is NOT contained in respective PDP.\n",
      "DEBUG:xai-privacy:Inferred membership as False\n"
     ]
    },
    {
     "name": "stdout",
     "output_type": "stream",
     "text": [
      "Total time: 0.68s (training model: 0.00s, training explainer: 0.55s, experiment: 0.12s)\n",
      "Accuracy: 0.7, precision: 0.625, recall: 1.0\n"
     ]
    }
   ],
   "source": [
    "logger.setLevel(logging.DEBUG)\n",
    "\n",
    "EXP = PDPMembershipInference(data_num, numeric_features_num, outcome_name_num, random_state=5)\n",
    "EXP.membership_inference_experiment(num_queries=10, model=DecisionTreeClassifier(random_state=0), model_access=False, threads=1)\n",
    "\n",
    "logger.setLevel(logging.INFO)"
   ]
  },
  {
   "cell_type": "markdown",
   "id": "3192b2eb",
   "metadata": {},
   "source": [
    "The proof of concept should show that the membership inference function predicts membership accurately in some cases. A false negative should not appear (recall is 100%). However, only some control samples are actually detected as not being part of the training data. You can change the random state to try out a few different runs with different tested samples."
   ]
  },
  {
   "cell_type": "markdown",
   "id": "4dcb3db0",
   "metadata": {},
   "source": [
    "Now we begin executing the actual experiment. We begin by defining the table that will hold the results for all our different experiment variations. Then we execute all variations of the experiment for this dataset. We vary the model between a decision tree, a random forest and a neural network. Each model uses the default configuration of scikit-learn."
   ]
  },
  {
   "cell_type": "code",
   "execution_count": 8,
   "id": "2afeb15f",
   "metadata": {},
   "outputs": [],
   "source": [
    "results_ = {'dataset': [], 'model': [], 'accuracy': [], 'precision': [], 'recall': []}\n",
    "\n",
    "results = pd.DataFrame(data = results_)"
   ]
  },
  {
   "cell_type": "code",
   "execution_count": 9,
   "id": "2ced13c7",
   "metadata": {},
   "outputs": [
    {
     "name": "stdout",
     "output_type": "stream",
     "text": [
      "features: numeric, model: decision tree.\n",
      "Total time: 0.65s (training model: 0.01s, training explainer: 0.58s, experiment: 0.06s)\n",
      "Accuracy: 0.6359223300970874, precision: 0.5786516853932584, recall: 1.0\n"
     ]
    }
   ],
   "source": [
    "print(\"features: numeric, model: decision tree.\")\n",
    "\n",
    "EXP = PDPMembershipInference(data_num, numeric_features_num, outcome_name_num, random_state=0)\n",
    "accuracy, precision, recall = EXP.membership_inference_experiment(num_queries=None, model=DecisionTreeClassifier(random_state=0), model_access=False, threads=threads)\n",
    "\n",
    "results.loc[len(results.index)] = ['numeric', 'decision tree', accuracy, precision, recall]"
   ]
  },
  {
   "cell_type": "code",
   "execution_count": 10,
   "id": "10f5513d",
   "metadata": {},
   "outputs": [
    {
     "name": "stdout",
     "output_type": "stream",
     "text": [
      "features: numeric, model: random forest.\n",
      "Total time: 6.50s (training model: 0.15s, training explainer: 6.26s, experiment: 0.08s)\n",
      "Accuracy: 0.6359223300970874, precision: 0.5786516853932584, recall: 1.0\n"
     ]
    }
   ],
   "source": [
    "print(\"features: numeric, model: random forest.\")\n",
    "\n",
    "EXP = PDPMembershipInference(data_num, numeric_features_num, outcome_name_num, random_state=0)\n",
    "accuracy, precision, recall = EXP.membership_inference_experiment(num_queries=None, model=es.RandomForestClassifier(random_state=0), model_access=False, threads=threads)\n",
    "\n",
    "results.loc[len(results.index)] = ['numeric', 'random forest', accuracy, precision, recall]"
   ]
  },
  {
   "cell_type": "code",
   "execution_count": 11,
   "id": "5583f0d6",
   "metadata": {},
   "outputs": [
    {
     "name": "stdout",
     "output_type": "stream",
     "text": [
      "features: numeric, model: neural network.\n",
      "Total time: 0.88s (training model: 0.07s, training explainer: 0.71s, experiment: 0.10s)\n",
      "Accuracy: 0.6359223300970874, precision: 0.5786516853932584, recall: 1.0\n"
     ]
    }
   ],
   "source": [
    "print(\"features: numeric, model: neural network.\")\n",
    "\n",
    "EXP = PDPMembershipInference(data_num, numeric_features_num, outcome_name_num, random_state=0)\n",
    "accuracy, precision, recall = EXP.membership_inference_experiment(num_queries=None, model=MLPClassifier(random_state=0), model_access=False, threads=threads)\n",
    "\n",
    "results.loc[len(results.index)] = ['numeric', 'neural network', accuracy, precision, recall]"
   ]
  },
  {
   "cell_type": "markdown",
   "id": "f89a99b4",
   "metadata": {},
   "source": [
    "# Dataset 2: Census Income (categorical)"
   ]
  },
  {
   "cell_type": "markdown",
   "id": "09b86a0e",
   "metadata": {},
   "source": [
    "Now all variations of the membership inference experiment will be executed for the second dataset."
   ]
  },
  {
   "cell_type": "code",
   "execution_count": 12,
   "id": "b0a4ce4a",
   "metadata": {},
   "outputs": [
    {
     "name": "stdout",
     "output_type": "stream",
     "text": [
      "features: categorical, model: decision tree.\n",
      "Total time: 0.88s (training model: 0.06s, training explainer: 0.54s, experiment: 0.28s)\n",
      "Accuracy: 0.5, precision: 0.5, recall: 1.0\n"
     ]
    }
   ],
   "source": [
    "print(\"features: categorical, model: decision tree.\")\n",
    "\n",
    "EXP = PDPMembershipInference(data_cat, numeric_features_cat, outcome_name_cat, random_state=0)\n",
    "accuracy, precision, recall = EXP.membership_inference_experiment(num_queries=None, model=DecisionTreeClassifier(random_state=0), model_access=False, threads=threads)\n",
    "\n",
    "results.loc[len(results.index)] = ['categorical', 'decision tree', accuracy, precision, recall]"
   ]
  },
  {
   "cell_type": "code",
   "execution_count": 13,
   "id": "da0bce0b",
   "metadata": {},
   "outputs": [
    {
     "name": "stdout",
     "output_type": "stream",
     "text": [
      "features: categorical, model: random forest.\n",
      "Total time: 6.97s (training model: 0.79s, training explainer: 5.92s, experiment: 0.27s)\n",
      "Accuracy: 0.5, precision: 0.5, recall: 1.0\n"
     ]
    }
   ],
   "source": [
    "print(\"features: categorical, model: random forest.\")\n",
    "\n",
    "EXP = PDPMembershipInference(data_cat, numeric_features_cat, outcome_name_cat, random_state=0)\n",
    "accuracy, precision, recall = EXP.membership_inference_experiment(num_queries=None, model=es.RandomForestClassifier(random_state=0), model_access=False, threads=threads)\n",
    "\n",
    "results.loc[len(results.index)] = ['categorical', 'random forest', accuracy, precision, recall]"
   ]
  },
  {
   "cell_type": "code",
   "execution_count": 14,
   "id": "0858019b",
   "metadata": {},
   "outputs": [
    {
     "name": "stdout",
     "output_type": "stream",
     "text": [
      "features: categorical, model: neural network.\n"
     ]
    },
    {
     "name": "stderr",
     "output_type": "stream",
     "text": [
      "/opt/conda/lib/python3.10/site-packages/sklearn/neural_network/_multilayer_perceptron.py:702: ConvergenceWarning: Stochastic Optimizer: Maximum iterations (200) reached and the optimization hasn't converged yet.\n",
      "  warnings.warn(\n"
     ]
    },
    {
     "name": "stdout",
     "output_type": "stream",
     "text": [
      "Total time: 5.62s (training model: 4.49s, training explainer: 0.87s, experiment: 0.26s)\n",
      "Accuracy: 0.5, precision: 0.5, recall: 1.0\n"
     ]
    }
   ],
   "source": [
    "print(\"features: categorical, model: neural network.\")\n",
    "\n",
    "EXP = PDPMembershipInference(data_cat, numeric_features_cat, outcome_name_cat, random_state=0)\n",
    "accuracy, precision, recall = EXP.membership_inference_experiment(num_queries=None, model=MLPClassifier(random_state=0), model_access=False, threads=threads)\n",
    "\n",
    "results.loc[len(results.index)] = ['categorical', 'neural network', accuracy, precision, recall]"
   ]
  },
  {
   "cell_type": "markdown",
   "id": "b7f06a08",
   "metadata": {},
   "source": [
    "# Results\n",
    "\n",
    "The results of all variations of the membership inference experiment with PDP. In every experiment, we executed the membership inference attack on each sample of the training data and each sample of the control data. Both datasets are of equal size and originate from the same source dataset.\n",
    "\n",
    "Accuracy is the percentage of samples whose membership (true or false) was correctly inferred. An algorithm guessing at random would achieve an accuracy of 50 percent.\n",
    "\n",
    "Precision is the percentage of predicted training samples that is actually in the training data.\n",
    "\n",
    "Recall is the percentage of training samples whose membership (true) was correctly inferred."
   ]
  },
  {
   "cell_type": "code",
   "execution_count": 15,
   "id": "e8cd69e3",
   "metadata": {},
   "outputs": [
    {
     "data": {
      "text/html": [
       "<div>\n",
       "<style scoped>\n",
       "    .dataframe tbody tr th:only-of-type {\n",
       "        vertical-align: middle;\n",
       "    }\n",
       "\n",
       "    .dataframe tbody tr th {\n",
       "        vertical-align: top;\n",
       "    }\n",
       "\n",
       "    .dataframe thead th {\n",
       "        text-align: right;\n",
       "    }\n",
       "</style>\n",
       "<table border=\"1\" class=\"dataframe\">\n",
       "  <thead>\n",
       "    <tr style=\"text-align: right;\">\n",
       "      <th></th>\n",
       "      <th>dataset</th>\n",
       "      <th>model</th>\n",
       "      <th>accuracy</th>\n",
       "      <th>precision</th>\n",
       "      <th>recall</th>\n",
       "    </tr>\n",
       "  </thead>\n",
       "  <tbody>\n",
       "    <tr>\n",
       "      <th>0</th>\n",
       "      <td>numeric</td>\n",
       "      <td>decision tree</td>\n",
       "      <td>0.635922</td>\n",
       "      <td>0.578652</td>\n",
       "      <td>1.0</td>\n",
       "    </tr>\n",
       "    <tr>\n",
       "      <th>1</th>\n",
       "      <td>numeric</td>\n",
       "      <td>random forest</td>\n",
       "      <td>0.635922</td>\n",
       "      <td>0.578652</td>\n",
       "      <td>1.0</td>\n",
       "    </tr>\n",
       "    <tr>\n",
       "      <th>2</th>\n",
       "      <td>numeric</td>\n",
       "      <td>neural network</td>\n",
       "      <td>0.635922</td>\n",
       "      <td>0.578652</td>\n",
       "      <td>1.0</td>\n",
       "    </tr>\n",
       "    <tr>\n",
       "      <th>3</th>\n",
       "      <td>categorical</td>\n",
       "      <td>decision tree</td>\n",
       "      <td>0.500000</td>\n",
       "      <td>0.500000</td>\n",
       "      <td>1.0</td>\n",
       "    </tr>\n",
       "    <tr>\n",
       "      <th>4</th>\n",
       "      <td>categorical</td>\n",
       "      <td>random forest</td>\n",
       "      <td>0.500000</td>\n",
       "      <td>0.500000</td>\n",
       "      <td>1.0</td>\n",
       "    </tr>\n",
       "    <tr>\n",
       "      <th>5</th>\n",
       "      <td>categorical</td>\n",
       "      <td>neural network</td>\n",
       "      <td>0.500000</td>\n",
       "      <td>0.500000</td>\n",
       "      <td>1.0</td>\n",
       "    </tr>\n",
       "  </tbody>\n",
       "</table>\n",
       "</div>"
      ],
      "text/plain": [
       "       dataset           model  accuracy  precision  recall\n",
       "0      numeric   decision tree  0.635922   0.578652     1.0\n",
       "1      numeric   random forest  0.635922   0.578652     1.0\n",
       "2      numeric  neural network  0.635922   0.578652     1.0\n",
       "3  categorical   decision tree  0.500000   0.500000     1.0\n",
       "4  categorical   random forest  0.500000   0.500000     1.0\n",
       "5  categorical  neural network  0.500000   0.500000     1.0"
      ]
     },
     "execution_count": 15,
     "metadata": {},
     "output_type": "execute_result"
    }
   ],
   "source": [
    "results"
   ]
  },
  {
   "cell_type": "code",
   "execution_count": 16,
   "id": "0ff0de03",
   "metadata": {},
   "outputs": [],
   "source": [
    "results.to_csv('results/1-1-shap-dependence-membership-inference-results.csv', index=False, na_rep='NaN', float_format='%.3f')"
   ]
  },
  {
   "cell_type": "markdown",
   "id": "1d657f26-e0b5-42e1-a2d1-7482f4e193e7",
   "metadata": {},
   "source": [
    "# Discussion\n",
    "\n",
    "In our experiments, membership inference with the SHAP Dependence Plot has an accuracy of 64% for numeric data and 50% for categorical data. Since no false negatives can occur, recall is always 100%.\n",
    "\n",
    "In the case of categorical data, the membership inference attack always predicted membership. This makes intuitive sense because categorical data usually does not have any categories that do not appear in the training data. Therefore, any category of a feature of a test sample also appears in the training data and the attacker cannot tell that the test sample may not have come from the training data.\n",
    "\n",
    "The attack was more successful for numeric data. This is sensible because numeric data has many more different possible feature values and therefore the chance is higher that a feature value of a test sample is not included in all feature values of the training data. In this case, the attacker can accurately rule out that the test sample comes from the training data.\n",
    "\n",
    "The choice of model did not have an effect on the result. This is due to the fact that the attacker only relied on the distribution of feature values in the training data. This is not changed by the type of model."
   ]
  },
  {
   "cell_type": "code",
   "execution_count": null,
   "id": "f2f60c0f-2fd5-407e-ae99-13d75fa98dab",
   "metadata": {},
   "outputs": [],
   "source": []
  }
 ],
 "metadata": {
  "kernelspec": {
   "display_name": "Python 3",
   "language": "python",
   "name": "python3"
  },
  "language_info": {
   "codemirror_mode": {
    "name": "ipython",
    "version": 3
   },
   "file_extension": ".py",
   "mimetype": "text/x-python",
   "name": "python",
   "nbconvert_exporter": "python",
   "pygments_lexer": "ipython3",
   "version": "3.9.2"
  }
 },
 "nbformat": 4,
 "nbformat_minor": 5
}
