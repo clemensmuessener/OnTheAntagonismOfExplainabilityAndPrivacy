{
 "cells": [
  {
   "cell_type": "markdown",
   "id": "75916e17",
   "metadata": {},
   "source": [
    "# Counterfactuals Training Data Extraction Experiment"
   ]
  },
  {
   "cell_type": "code",
   "execution_count": 1,
   "id": "f6661d3f",
   "metadata": {
    "execution": {
     "iopub.execute_input": "2022-10-29T17:40:15.577215Z",
     "iopub.status.busy": "2022-10-29T17:40:15.572812Z",
     "iopub.status.idle": "2022-10-29T17:40:18.600644Z",
     "shell.execute_reply": "2022-10-29T17:40:18.588362Z"
    },
    "tags": []
   },
   "outputs": [
    {
     "name": "stderr",
     "output_type": "stream",
     "text": [
      "Intel(R) Extension for Scikit-learn* enabled (https://github.com/intel/scikit-learn-intelex)\n"
     ]
    }
   ],
   "source": [
    "import pandas as pd\n",
    "from sklearnex import patch_sklearn\n",
    "patch_sklearn()\n",
    "import sklearn.ensemble as es\n",
    "from sklearn.tree import DecisionTreeClassifier\n",
    "from sklearn.neural_network import MLPClassifier\n",
    "import random\n",
    "import logging\n",
    "import warnings\n",
    "import dice_ml"
   ]
  },
  {
   "cell_type": "code",
   "execution_count": 2,
   "id": "e27327d5-6352-40a0-a6d8-5f6298306064",
   "metadata": {
    "execution": {
     "iopub.execute_input": "2022-10-29T17:40:18.621351Z",
     "iopub.status.busy": "2022-10-29T17:40:18.620110Z",
     "iopub.status.idle": "2022-10-29T17:40:18.633920Z",
     "shell.execute_reply": "2022-10-29T17:40:18.630812Z"
    }
   },
   "outputs": [],
   "source": [
    "threads = 15\n",
    "\n",
    "logging.basicConfig()\n",
    "\n",
    "logger = logging.getLogger('xai-privacy')"
   ]
  },
  {
   "cell_type": "code",
   "execution_count": 3,
   "id": "2429dea7",
   "metadata": {
    "execution": {
     "iopub.execute_input": "2022-10-29T17:40:18.647455Z",
     "iopub.status.busy": "2022-10-29T17:40:18.646421Z",
     "iopub.status.idle": "2022-10-29T17:40:21.024992Z",
     "shell.execute_reply": "2022-10-29T17:40:21.017649Z"
    },
    "tags": []
   },
   "outputs": [],
   "source": [
    "from experiment_setup import run_all_experiments\n",
    "from experiment_setup import get_heart_disease_dataset\n",
    "from experiment_setup import get_census_dataset"
   ]
  },
  {
   "cell_type": "code",
   "execution_count": 4,
   "id": "0d487ce1-05ee-4457-8ca1-7163b67fe595",
   "metadata": {
    "execution": {
     "iopub.execute_input": "2022-10-29T17:40:21.047676Z",
     "iopub.status.busy": "2022-10-29T17:40:21.042595Z",
     "iopub.status.idle": "2022-10-29T17:40:21.064812Z",
     "shell.execute_reply": "2022-10-29T17:40:21.059050Z"
    },
    "tags": []
   },
   "outputs": [
    {
     "name": "stdout",
     "output_type": "stream",
     "text": [
      "Feature Age: removed 0 rows for missing values.\n",
      "Feature RestingBP: removed 59 rows for missing values.\n",
      "Feature Cholesterol: removed 27 rows for missing values.\n",
      "Feature FastingBS: add unknown category 2.0\n",
      "Feature RestingECG: add unknown category 3.0\n",
      "Feature MaxHR: removed 0 rows for missing values.\n",
      "Feature Oldpeak: removed 7 rows for missing values.\n",
      "Feature ST_Slope: add unknown category 4.0\n",
      "Feature CA: add unknown category 4.0\n",
      "Feature Thal: add unknown category 8.0\n",
      "Dropped 71 of 548\n",
      "Dropped 72 of 548\n",
      "Dropped 71 of 548\n",
      "Dropped: 2399 of 32561\n",
      "census: Dropped 1256 of 15081\n",
      "num: Dropped 8827 of 15081\n",
      "cat: Dropped 4850 of 15081\n"
     ]
    }
   ],
   "source": [
    "DATASET_HALF = True\n",
    "\n",
    "data_heart_dict, data_heart_num_dict, data_heart_cat_dict = get_heart_disease_dataset(halve_dataset=DATASET_HALF)\n",
    "data_census_dict, data_census_num_dict, data_census_cat_dict = get_census_dataset(halve_dataset=DATASET_HALF)\n",
    "\n",
    "data_heart = data_heart_dict['dataset']\n",
    "data_heart_num = data_heart_num_dict['dataset']\n",
    "data_heart_cat = data_heart_cat_dict['dataset']\n",
    "data_census = data_census_dict['dataset']\n",
    "data_census_num = data_census_num_dict['dataset']\n",
    "data_census_cat = data_census_cat_dict['dataset']\n",
    "outcome_name_heart = data_heart_dict['outcome']\n",
    "numeric_features_heart = data_heart_dict['num']"
   ]
  },
  {
   "cell_type": "markdown",
   "id": "c6a61bbc",
   "metadata": {},
   "source": [
    "This notebook will test whether training data extraction is possible with counterfactuals (CF) that are drawn from the training data. Training data extraction means an attacker can find out the feature values of samples from the training data without prior knowledge of them. The attacker only has access to the model's prediction function and the explanation.\n",
    "\n",
    "This attack should be trivial because any counterfactual that is shown as an explanation was picked directly from the training data.\n",
    "\n",
    "The idea for counterfacutal training data extraction is as follows: The attacker makes repeated queries to the model with random input values. In order to do this, the attacker knows the maximum and minimum value of each feature in the training data (or the categorical values of each feature). The returned counterfactuals are the extracted training data.\n",
    "\n",
    "First, we implement the `train_explainer` and `training_data_extraction_model_access` functions:"
   ]
  },
  {
   "cell_type": "code",
   "execution_count": 5,
   "id": "8ca67de5",
   "metadata": {
    "execution": {
     "iopub.execute_input": "2022-10-29T17:40:21.080788Z",
     "iopub.status.busy": "2022-10-29T17:40:21.079754Z",
     "iopub.status.idle": "2022-10-29T17:40:21.132885Z",
     "shell.execute_reply": "2022-10-29T17:40:21.124719Z"
    },
    "tags": []
   },
   "outputs": [],
   "source": [
    "# Attack code must be imported so that multiprocessing pool works. Check out ice_attack.py for the implementation of the attack.\n",
    "from cf_attack import CounterfactualTDE"
   ]
  },
  {
   "cell_type": "markdown",
   "id": "d2ef61e5",
   "metadata": {},
   "source": [
    "# Executing Training Data Extraction"
   ]
  },
  {
   "cell_type": "markdown",
   "id": "d02a2083",
   "metadata": {},
   "source": [
    "We now generate five counterfactuals for the first sample from the training data to demonstrate counterfactual explanations in general."
   ]
  },
  {
   "cell_type": "code",
   "execution_count": 6,
   "id": "64c4cf59",
   "metadata": {
    "execution": {
     "iopub.execute_input": "2022-10-29T17:40:21.145689Z",
     "iopub.status.busy": "2022-10-29T17:40:21.144210Z",
     "iopub.status.idle": "2022-10-29T17:40:21.451541Z",
     "shell.execute_reply": "2022-10-29T17:40:21.449183Z"
    },
    "tags": []
   },
   "outputs": [],
   "source": [
    "features = data_heart.drop(outcome_name_heart, axis=1)\n",
    "labels = data_heart[outcome_name_heart]\n",
    "\n",
    "# Train a random forest on training data.\n",
    "model = es.RandomForestClassifier(random_state=0)\n",
    "model = model.fit(features, labels)\n",
    "\n",
    "# Train explainer\n",
    "d = dice_ml.Data(dataframe=data_heart, continuous_features=numeric_features_heart, outcome_name=outcome_name_heart)\n",
    "\n",
    "m = dice_ml.Model(model=model, backend=\"sklearn\", model_type='classifier')\n",
    "# Generating counterfactuals from training data (kd-tree)\n",
    "exp = dice_ml.Dice(d, m, method=\"kdtree\")"
   ]
  },
  {
   "cell_type": "code",
   "execution_count": 7,
   "id": "508a451a",
   "metadata": {
    "execution": {
     "iopub.execute_input": "2022-10-29T17:40:21.472262Z",
     "iopub.status.busy": "2022-10-29T17:40:21.469575Z",
     "iopub.status.idle": "2022-10-29T17:40:27.920613Z",
     "shell.execute_reply": "2022-10-29T17:40:27.917828Z"
    }
   },
   "outputs": [
    {
     "name": "stderr",
     "output_type": "stream",
     "text": [
      "100%|████████████████████████████████████████████████████████████████████████████████████| 1/1 [00:00<00:00,  2.51it/s]"
     ]
    },
    {
     "name": "stdout",
     "output_type": "stream",
     "text": [
      "Query instance (original outcome : 0)\n"
     ]
    },
    {
     "name": "stderr",
     "output_type": "stream",
     "text": [
      "\n"
     ]
    },
    {
     "data": {
      "text/html": [
       "<div>\n",
       "<style scoped>\n",
       "    .dataframe tbody tr th:only-of-type {\n",
       "        vertical-align: middle;\n",
       "    }\n",
       "\n",
       "    .dataframe tbody tr th {\n",
       "        vertical-align: top;\n",
       "    }\n",
       "\n",
       "    .dataframe thead th {\n",
       "        text-align: right;\n",
       "    }\n",
       "</style>\n",
       "<table border=\"1\" class=\"dataframe\">\n",
       "  <thead>\n",
       "    <tr style=\"text-align: right;\">\n",
       "      <th></th>\n",
       "      <th>Age</th>\n",
       "      <th>Sex</th>\n",
       "      <th>ChestPainType</th>\n",
       "      <th>RestingBP</th>\n",
       "      <th>Cholesterol</th>\n",
       "      <th>FastingBS</th>\n",
       "      <th>RestingECG</th>\n",
       "      <th>MaxHR</th>\n",
       "      <th>ExerciseAngina</th>\n",
       "      <th>Oldpeak</th>\n",
       "      <th>ST_Slope</th>\n",
       "      <th>CA</th>\n",
       "      <th>Thal</th>\n",
       "      <th>HeartDisease</th>\n",
       "    </tr>\n",
       "  </thead>\n",
       "  <tbody>\n",
       "    <tr>\n",
       "      <th>0</th>\n",
       "      <td>62.0</td>\n",
       "      <td>1.0</td>\n",
       "      <td>2.0</td>\n",
       "      <td>140.0</td>\n",
       "      <td>271.0</td>\n",
       "      <td>0.0</td>\n",
       "      <td>0.0</td>\n",
       "      <td>152.0</td>\n",
       "      <td>0.0</td>\n",
       "      <td>1.0</td>\n",
       "      <td>1.0</td>\n",
       "      <td>4.0</td>\n",
       "      <td>8.0</td>\n",
       "      <td>0.0</td>\n",
       "    </tr>\n",
       "  </tbody>\n",
       "</table>\n",
       "</div>"
      ],
      "text/plain": [
       "    Age  Sex ChestPainType  RestingBP  Cholesterol FastingBS RestingECG  \\\n",
       "0  62.0  1.0           2.0      140.0        271.0       0.0        0.0   \n",
       "\n",
       "   MaxHR ExerciseAngina  Oldpeak ST_Slope   CA Thal  HeartDisease  \n",
       "0  152.0            0.0      1.0      1.0  4.0  8.0           0.0  "
      ]
     },
     "metadata": {},
     "output_type": "display_data"
    },
    {
     "name": "stdout",
     "output_type": "stream",
     "text": [
      "\n",
      "Diverse Counterfactual set without sparsity correction (new outcome:  1\n"
     ]
    },
    {
     "data": {
      "text/html": [
       "<div>\n",
       "<style scoped>\n",
       "    .dataframe tbody tr th:only-of-type {\n",
       "        vertical-align: middle;\n",
       "    }\n",
       "\n",
       "    .dataframe tbody tr th {\n",
       "        vertical-align: top;\n",
       "    }\n",
       "\n",
       "    .dataframe thead th {\n",
       "        text-align: right;\n",
       "    }\n",
       "</style>\n",
       "<table border=\"1\" class=\"dataframe\">\n",
       "  <thead>\n",
       "    <tr style=\"text-align: right;\">\n",
       "      <th></th>\n",
       "      <th>Age</th>\n",
       "      <th>Sex</th>\n",
       "      <th>ChestPainType</th>\n",
       "      <th>RestingBP</th>\n",
       "      <th>Cholesterol</th>\n",
       "      <th>FastingBS</th>\n",
       "      <th>RestingECG</th>\n",
       "      <th>MaxHR</th>\n",
       "      <th>ExerciseAngina</th>\n",
       "      <th>Oldpeak</th>\n",
       "      <th>ST_Slope</th>\n",
       "      <th>CA</th>\n",
       "      <th>Thal</th>\n",
       "    </tr>\n",
       "  </thead>\n",
       "  <tbody>\n",
       "    <tr>\n",
       "      <th>439</th>\n",
       "      <td>62.0</td>\n",
       "      <td>0.0</td>\n",
       "      <td>4.0</td>\n",
       "      <td>140.0</td>\n",
       "      <td>268.0</td>\n",
       "      <td>0.0</td>\n",
       "      <td>2.0</td>\n",
       "      <td>160.0</td>\n",
       "      <td>0.0</td>\n",
       "      <td>3.6</td>\n",
       "      <td>3.0</td>\n",
       "      <td>2.0</td>\n",
       "      <td>3.0</td>\n",
       "    </tr>\n",
       "    <tr>\n",
       "      <th>90</th>\n",
       "      <td>57.0</td>\n",
       "      <td>1.0</td>\n",
       "      <td>2.0</td>\n",
       "      <td>124.0</td>\n",
       "      <td>261.0</td>\n",
       "      <td>0.0</td>\n",
       "      <td>0.0</td>\n",
       "      <td>141.0</td>\n",
       "      <td>0.0</td>\n",
       "      <td>0.3</td>\n",
       "      <td>1.0</td>\n",
       "      <td>0.0</td>\n",
       "      <td>7.0</td>\n",
       "    </tr>\n",
       "    <tr>\n",
       "      <th>166</th>\n",
       "      <td>60.0</td>\n",
       "      <td>1.0</td>\n",
       "      <td>2.0</td>\n",
       "      <td>160.0</td>\n",
       "      <td>267.0</td>\n",
       "      <td>1.0</td>\n",
       "      <td>1.0</td>\n",
       "      <td>157.0</td>\n",
       "      <td>0.0</td>\n",
       "      <td>0.5</td>\n",
       "      <td>2.0</td>\n",
       "      <td>4.0</td>\n",
       "      <td>8.0</td>\n",
       "    </tr>\n",
       "    <tr>\n",
       "      <th>103</th>\n",
       "      <td>66.0</td>\n",
       "      <td>1.0</td>\n",
       "      <td>4.0</td>\n",
       "      <td>112.0</td>\n",
       "      <td>261.0</td>\n",
       "      <td>0.0</td>\n",
       "      <td>0.0</td>\n",
       "      <td>140.0</td>\n",
       "      <td>0.0</td>\n",
       "      <td>1.5</td>\n",
       "      <td>1.0</td>\n",
       "      <td>4.0</td>\n",
       "      <td>8.0</td>\n",
       "    </tr>\n",
       "    <tr>\n",
       "      <th>370</th>\n",
       "      <td>67.0</td>\n",
       "      <td>1.0</td>\n",
       "      <td>1.0</td>\n",
       "      <td>142.0</td>\n",
       "      <td>270.0</td>\n",
       "      <td>1.0</td>\n",
       "      <td>0.0</td>\n",
       "      <td>125.0</td>\n",
       "      <td>0.0</td>\n",
       "      <td>2.5</td>\n",
       "      <td>1.0</td>\n",
       "      <td>4.0</td>\n",
       "      <td>8.0</td>\n",
       "    </tr>\n",
       "  </tbody>\n",
       "</table>\n",
       "</div>"
      ],
      "text/plain": [
       "      Age  Sex ChestPainType  RestingBP  Cholesterol FastingBS RestingECG  \\\n",
       "439  62.0  0.0           4.0      140.0        268.0       0.0        2.0   \n",
       "90   57.0  1.0           2.0      124.0        261.0       0.0        0.0   \n",
       "166  60.0  1.0           2.0      160.0        267.0       1.0        1.0   \n",
       "103  66.0  1.0           4.0      112.0        261.0       0.0        0.0   \n",
       "370  67.0  1.0           1.0      142.0        270.0       1.0        0.0   \n",
       "\n",
       "     MaxHR ExerciseAngina  Oldpeak ST_Slope   CA Thal  \n",
       "439  160.0            0.0      3.6      3.0  2.0  3.0  \n",
       "90   141.0            0.0      0.3      1.0  0.0  7.0  \n",
       "166  157.0            0.0      0.5      2.0  4.0  8.0  \n",
       "103  140.0            0.0      1.5      1.0  4.0  8.0  \n",
       "370  125.0            0.0      2.5      1.0  4.0  8.0  "
      ]
     },
     "metadata": {},
     "output_type": "display_data"
    }
   ],
   "source": [
    "e1 = exp.generate_counterfactuals(features[0:1], total_CFs=5, desired_class=\"opposite\")\n",
    "e1.visualize_as_dataframe(display_sparse_df=False)"
   ]
  },
  {
   "cell_type": "markdown",
   "id": "084cf1e0",
   "metadata": {},
   "source": [
    "We can see that the counterfactuals are similar to the query sample and that they have a flipped prediction. These are the two general properties of counterfactual explanations.\n",
    "\n",
    "We will now do a small proof of concept of the experiment with logging enabled to demonstrate how it works."
   ]
  },
  {
   "cell_type": "code",
   "execution_count": 8,
   "id": "cacf1093",
   "metadata": {
    "execution": {
     "iopub.execute_input": "2022-10-29T17:40:27.940680Z",
     "iopub.status.busy": "2022-10-29T17:40:27.936367Z",
     "iopub.status.idle": "2022-10-29T17:40:58.832968Z",
     "shell.execute_reply": "2022-10-29T17:40:58.828827Z"
    }
   },
   "outputs": [
    {
     "name": "stderr",
     "output_type": "stream",
     "text": [
      "DEBUG:xai-privacy:Numeric Features: ['Age', 'RestingBP', 'Cholesterol', 'MaxHR', 'Oldpeak']\n",
      "DEBUG:xai-privacy:Categorical Features: ['CA', 'ChestPainType', 'ExerciseAngina', 'FastingBS', 'RestingECG', 'ST_Slope', 'Sex', 'Thal']\n",
      "100%|██████████████████████████████████████████████████████████████████████████████████| 12/12 [00:03<00:00,  3.09it/s]\n",
      "DEBUG:xai-privacy:Sample 0: Counterfactuals \n",
      " [[65.0 '1.0' '4.0' 120.0 177.0 '0.0' '0.0' 140.0 '0.0' 0.4 '1.0' '0.0'\n",
      "  '7.0']\n",
      " [50.0 '1.0' '4.0' 140.0 129.0 '0.0' '0.0' 135.0 '0.0' 0.0 '4.0' '4.0'\n",
      "  '8.0']\n",
      " [55.0 '1.0' '4.0' 150.0 160.0 '0.0' '1.0' 150.0 '0.0' 0.0 '4.0' '4.0'\n",
      "  '8.0']\n",
      " [41.0 '1.0' '4.0' 110.0 172.0 '0.0' '2.0' 158.0 '0.0' 0.0 '1.0' '0.0'\n",
      "  '7.0']]\n",
      "DEBUG:xai-privacy:Sample 1: Counterfactuals \n",
      " [[56.0 '1.0' '2.0' 126.0 166.0 '0.0' '1.0' 140.0 '0.0' 0.0 '4.0' '4.0'\n",
      "  '8.0']\n",
      " [50.0 '1.0' '4.0' 140.0 129.0 '0.0' '0.0' 135.0 '0.0' 0.0 '4.0' '4.0'\n",
      "  '8.0']\n",
      " [35.0 '0.0' '1.0' 120.0 160.0 '0.0' '1.0' 185.0 '0.0' 0.0 '4.0' '4.0'\n",
      "  '8.0']\n",
      " [39.0 '1.0' '3.0' 160.0 147.0 '1.0' '0.0' 160.0 '0.0' 0.0 '4.0' '4.0'\n",
      "  '8.0']]\n",
      "DEBUG:xai-privacy:Sample 2: Counterfactuals \n",
      " [[55.0 '0.0' '2.0' 132.0 342.0 '0.0' '0.0' 166.0 '0.0' 1.2 '1.0' '0.0'\n",
      "  '3.0']\n",
      " [53.0 '1.0' '2.0' 140.0 320.0 '0.0' '0.0' 162.0 '0.0' 0.0 '4.0' '4.0'\n",
      "  '8.0']\n",
      " [55.0 '1.0' '2.0' 145.0 326.0 '0.0' '0.0' 155.0 '0.0' 0.0 '4.0' '4.0'\n",
      "  '8.0']\n",
      " [61.0 '0.0' '4.0' 130.0 330.0 '0.0' '2.0' 169.0 '0.0' 0.0 '1.0' '0.0'\n",
      "  '3.0']]\n",
      "DEBUG:xai-privacy:Sample 3: Counterfactuals \n",
      " [[57.0 '1.0' '4.0' 130.0 311.0 '2.0' '1.0' 148.0 '1.0' 2.0 '2.0' '4.0'\n",
      "  '8.0']\n",
      " [47.0 '1.0' '4.0' 160.0 291.0 '0.0' '1.0' 158.0 '1.0' 3.0 '2.0' '4.0'\n",
      "  '8.0']\n",
      " [55.0 '1.0' '2.0' 160.0 292.0 '1.0' '0.0' 143.0 '1.0' 2.0 '2.0' '4.0'\n",
      "  '8.0']\n",
      " [59.0 '1.0' '4.0' 170.0 326.0 '0.0' '2.0' 140.0 '1.0' 3.4 '3.0' '0.0'\n",
      "  '7.0']]\n",
      "DEBUG:xai-privacy:Sample 4: Counterfactuals \n",
      " [[51.0 '1.0' '4.0' 130.0 0.0 '2.0' '0.0' 170.0 '0.0' -0.7 '1.0' '4.0'\n",
      "  '8.0']\n",
      " [52.0 '1.0' '2.0' 134.0 201.0 '0.0' '0.0' 158.0 '0.0' 0.8 '1.0' '1.0'\n",
      "  '3.0']\n",
      " [56.0 '1.0' '2.0' 126.0 166.0 '0.0' '1.0' 140.0 '0.0' 0.0 '4.0' '4.0'\n",
      "  '8.0']\n",
      " [57.0 '1.0' '3.0' 150.0 126.0 '1.0' '0.0' 173.0 '0.0' 0.2 '1.0' '1.0'\n",
      "  '7.0']]\n",
      "DEBUG:xai-privacy:Sample 5: Counterfactuals \n",
      " [[62.0 '0.0' '4.0' 140.0 394.0 '0.0' '2.0' 157.0 '0.0' 1.2 '2.0' '0.0'\n",
      "  '3.0']\n",
      " [55.0 '0.0' '2.0' 110.0 344.0 '0.0' '1.0' 160.0 '0.0' 0.0 '4.0' '4.0'\n",
      "  '8.0']\n",
      " [40.0 '1.0' '4.0' 120.0 466.0 '2.0' '0.0' 152.0 '1.0' 1.0 '2.0' '4.0'\n",
      "  '6.0']\n",
      " [58.0 '0.0' '2.0' 136.0 319.0 '1.0' '2.0' 152.0 '0.0' 0.0 '1.0' '2.0'\n",
      "  '3.0']]\n",
      "DEBUG:xai-privacy:Sample 6: Counterfactuals \n",
      " [[44.0 '1.0' '4.0' 135.0 491.0 '0.0' '0.0' 135.0 '0.0' 0.0 '4.0' '4.0'\n",
      "  '8.0']\n",
      " [40.0 '1.0' '4.0' 120.0 466.0 '2.0' '0.0' 152.0 '1.0' 1.0 '2.0' '4.0'\n",
      "  '6.0']\n",
      " [55.0 '0.0' '2.0' 110.0 344.0 '0.0' '1.0' 160.0 '0.0' 0.0 '4.0' '4.0'\n",
      "  '8.0']\n",
      " [67.0 '0.0' '3.0' 115.0 564.0 '0.0' '2.0' 160.0 '0.0' 1.6 '2.0' '0.0'\n",
      "  '7.0']]\n",
      "DEBUG:xai-privacy:Sample 7: Counterfactuals \n",
      " [[37.0 '0.0' '2.0' 120.0 260.0 '0.0' '0.0' 130.0 '0.0' 0.0 '4.0' '4.0'\n",
      "  '8.0']\n",
      " [48.0 '1.0' '4.0' 122.0 275.0 '1.0' '1.0' 150.0 '1.0' 2.0 '3.0' '4.0'\n",
      "  '8.0']\n",
      " [42.0 '0.0' '4.0' 102.0 265.0 '0.0' '2.0' 122.0 '0.0' 0.6 '2.0' '0.0'\n",
      "  '3.0']\n",
      " [39.0 '1.0' '4.0' 110.0 273.0 '0.0' '0.0' 132.0 '0.0' 0.0 '4.0' '4.0'\n",
      "  '8.0']]\n",
      "DEBUG:xai-privacy:Sample 8: Counterfactuals \n",
      " [[50.0 '1.0' '4.0' 140.0 129.0 '0.0' '0.0' 135.0 '0.0' 0.0 '4.0' '4.0'\n",
      "  '8.0']\n",
      " [56.0 '1.0' '2.0' 126.0 166.0 '0.0' '1.0' 140.0 '0.0' 0.0 '4.0' '4.0'\n",
      "  '8.0']\n",
      " [54.0 '1.0' '4.0' 110.0 206.0 '0.0' '2.0' 108.0 '1.0' 0.0 '2.0' '1.0'\n",
      "  '3.0']\n",
      " [55.0 '1.0' '4.0' 150.0 160.0 '0.0' '1.0' 150.0 '0.0' 0.0 '4.0' '4.0'\n",
      "  '8.0']]\n",
      "DEBUG:xai-privacy:Sample 9: Counterfactuals \n",
      " [[42.0 '1.0' '3.0' 160.0 147.0 '0.0' '0.0' 146.0 '0.0' 0.0 '4.0' '4.0'\n",
      "  '8.0']\n",
      " [39.0 '1.0' '3.0' 160.0 147.0 '1.0' '0.0' 160.0 '0.0' 0.0 '4.0' '4.0'\n",
      "  '8.0']\n",
      " [35.0 '0.0' '4.0' 140.0 167.0 '0.0' '0.0' 150.0 '0.0' 0.0 '4.0' '4.0'\n",
      "  '8.0']\n",
      " [50.0 '1.0' '4.0' 140.0 129.0 '0.0' '0.0' 135.0 '0.0' 0.0 '4.0' '4.0'\n",
      "  '8.0']]\n",
      "DEBUG:xai-privacy:Sample 10: Counterfactuals \n",
      " [[67.0 '0.0' '3.0' 115.0 564.0 '0.0' '2.0' 160.0 '0.0' 1.6 '2.0' '0.0'\n",
      "  '7.0']\n",
      " [57.0 '0.0' '4.0' 120.0 354.0 '0.0' '0.0' 163.0 '1.0' 0.6 '1.0' '0.0'\n",
      "  '3.0']\n",
      " [58.0 '0.0' '3.0' 120.0 340.0 '0.0' '0.0' 172.0 '0.0' 0.0 '1.0' '0.0'\n",
      "  '3.0']\n",
      " [60.0 '0.0' '3.0' 102.0 318.0 '0.0' '0.0' 160.0 '0.0' 0.0 '1.0' '1.0'\n",
      "  '3.0']]\n",
      "DEBUG:xai-privacy:Sample 11: Counterfactuals \n",
      " [[44.0 '1.0' '4.0' 135.0 491.0 '0.0' '0.0' 135.0 '0.0' 0.0 '4.0' '4.0'\n",
      "  '8.0']\n",
      " [67.0 '0.0' '3.0' 115.0 564.0 '0.0' '2.0' 160.0 '0.0' 1.6 '2.0' '0.0'\n",
      "  '7.0']\n",
      " [55.0 '0.0' '2.0' 110.0 344.0 '0.0' '1.0' 160.0 '0.0' 0.0 '4.0' '4.0'\n",
      "  '8.0']\n",
      " [40.0 '1.0' '4.0' 120.0 466.0 '2.0' '0.0' 152.0 '1.0' 1.0 '2.0' '4.0'\n",
      "  '6.0']]\n",
      "DEBUG:xai-privacy:Extracted sample: [ 35.   0.   1. 120. 160.   0.   1. 185.   0.   0.   4.   4.   8.]\n",
      "DEBUG:xai-privacy:Appears in training data at indices [10]\n",
      "DEBUG:xai-privacy:Extracted sample: [ 35.   0.   4. 140. 167.   0.   0. 150.   0.   0.   4.   4.   8.]\n",
      "DEBUG:xai-privacy:Appears in training data at indices [12]\n",
      "DEBUG:xai-privacy:Extracted sample: [ 37.   0.   2. 120. 260.   0.   0. 130.   0.   0.   4.   4.   8.]\n",
      "DEBUG:xai-privacy:Appears in training data at indices [20]\n",
      "DEBUG:xai-privacy:Extracted sample: [ 39.   1.   3. 160. 147.   1.   0. 160.   0.   0.   4.   4.   8.]\n",
      "DEBUG:xai-privacy:Appears in training data at indices [34]\n",
      "DEBUG:xai-privacy:Extracted sample: [ 39.   1.   4. 110. 273.   0.   0. 132.   0.   0.   4.   4.   8.]\n",
      "DEBUG:xai-privacy:Appears in training data at indices [35]\n",
      "DEBUG:xai-privacy:Extracted sample: [ 40.   1.   4. 120. 466.   2.   0. 152.   1.   1.   2.   4.   6.]\n",
      "DEBUG:xai-privacy:Appears in training data at indices [43]\n",
      "DEBUG:xai-privacy:Extracted sample: [ 41.   1.   4. 110. 172.   0.   2. 158.   0.   0.   1.   0.   7.]\n",
      "DEBUG:xai-privacy:Appears in training data at indices [55]\n",
      "DEBUG:xai-privacy:Extracted sample: [ 42.    0.    4.  102.  265.    0.    2.  122.    0.    0.6   2.    0.\n",
      "   3. ]\n",
      "DEBUG:xai-privacy:Appears in training data at indices [60]\n",
      "DEBUG:xai-privacy:Extracted sample: [ 42.   1.   3. 160. 147.   0.   0. 146.   0.   0.   4.   4.   8.]\n",
      "DEBUG:xai-privacy:Appears in training data at indices [67]\n",
      "DEBUG:xai-privacy:Extracted sample: [ 44.   1.   4. 135. 491.   0.   0. 135.   0.   0.   4.   4.   8.]\n",
      "DEBUG:xai-privacy:Appears in training data at indices [93]\n",
      "DEBUG:xai-privacy:Extracted sample: [ 47.   1.   4. 160. 291.   0.   1. 158.   1.   3.   2.   4.   8.]\n",
      "DEBUG:xai-privacy:Appears in training data at indices [130]\n",
      "DEBUG:xai-privacy:Extracted sample: [ 48.   1.   4. 122. 275.   1.   1. 150.   1.   2.   3.   4.   8.]\n",
      "DEBUG:xai-privacy:Appears in training data at indices [141]\n",
      "DEBUG:xai-privacy:Extracted sample: [ 50.   1.   4. 140. 129.   0.   0. 135.   0.   0.   4.   4.   8.]\n",
      "DEBUG:xai-privacy:Appears in training data at indices [166]\n",
      "DEBUG:xai-privacy:Extracted sample: [ 51.    1.    4.  130.    0.    2.    0.  170.    0.   -0.7   1.    4.\n",
      "   8. ]\n",
      "DEBUG:xai-privacy:Appears in training data at indices [183]\n",
      "DEBUG:xai-privacy:Extracted sample: [ 52.    1.    2.  134.  201.    0.    0.  158.    0.    0.8   1.    1.\n",
      "   3. ]\n",
      "DEBUG:xai-privacy:Appears in training data at indices [190]\n",
      "DEBUG:xai-privacy:Extracted sample: [ 53.   1.   2. 140. 320.   0.   0. 162.   0.   0.   4.   4.   8.]\n",
      "DEBUG:xai-privacy:Appears in training data at indices [205]\n",
      "DEBUG:xai-privacy:Extracted sample: [ 54.   1.   4. 110. 206.   0.   2. 108.   1.   0.   2.   1.   3.]\n",
      "DEBUG:xai-privacy:Appears in training data at indices [233]\n",
      "DEBUG:xai-privacy:Extracted sample: [ 55.   0.   2. 110. 344.   0.   1. 160.   0.   0.   4.   4.   8.]\n",
      "DEBUG:xai-privacy:Appears in training data at indices [244]\n",
      "DEBUG:xai-privacy:Extracted sample: [ 55.    0.    2.  132.  342.    0.    0.  166.    0.    1.2   1.    0.\n",
      "   3. ]\n",
      "DEBUG:xai-privacy:Appears in training data at indices [245]\n",
      "DEBUG:xai-privacy:Extracted sample: [ 55.   1.   2. 145. 326.   0.   0. 155.   0.   0.   4.   4.   8.]\n",
      "DEBUG:xai-privacy:Appears in training data at indices [251]\n",
      "DEBUG:xai-privacy:Extracted sample: [ 55.   1.   2. 160. 292.   1.   0. 143.   1.   2.   2.   4.   8.]\n",
      "DEBUG:xai-privacy:Appears in training data at indices [252]\n"
     ]
    },
    {
     "name": "stderr",
     "output_type": "stream",
     "text": [
      "DEBUG:xai-privacy:Extracted sample: [ 55.   1.   4. 150. 160.   0.   1. 150.   0.   0.   4.   4.   8.]\n",
      "DEBUG:xai-privacy:Appears in training data at indices [262]\n",
      "DEBUG:xai-privacy:Extracted sample: [ 56.   1.   2. 126. 166.   0.   1. 140.   0.   0.   4.   4.   8.]\n",
      "DEBUG:xai-privacy:Appears in training data at indices [271]\n",
      "DEBUG:xai-privacy:Extracted sample: [ 57.    0.    4.  120.  354.    0.    0.  163.    1.    0.6   1.    0.\n",
      "   3. ]\n",
      "DEBUG:xai-privacy:Appears in training data at indices [285]\n",
      "DEBUG:xai-privacy:Extracted sample: [ 57.    1.    3.  150.  126.    1.    0.  173.    0.    0.2   1.    1.\n",
      "   7. ]\n",
      "DEBUG:xai-privacy:Appears in training data at indices [293]\n",
      "DEBUG:xai-privacy:Extracted sample: [ 57.   1.   4. 130. 311.   2.   1. 148.   1.   2.   2.   4.   8.]\n",
      "DEBUG:xai-privacy:Appears in training data at indices [300]\n",
      "DEBUG:xai-privacy:Extracted sample: [ 58.   0.   2. 136. 319.   1.   2. 152.   0.   0.   1.   2.   3.]\n",
      "DEBUG:xai-privacy:Appears in training data at indices [310]\n",
      "DEBUG:xai-privacy:Extracted sample: [ 58.   0.   3. 120. 340.   0.   0. 172.   0.   0.   1.   0.   3.]\n",
      "DEBUG:xai-privacy:Appears in training data at indices [312]\n",
      "DEBUG:xai-privacy:Extracted sample: [ 59.    1.    4.  170.  326.    0.    2.  140.    1.    3.4   3.    0.\n",
      "   7. ]\n",
      "DEBUG:xai-privacy:Appears in training data at indices [350]\n",
      "DEBUG:xai-privacy:Extracted sample: [ 60.   0.   3. 102. 318.   0.   0. 160.   0.   0.   1.   1.   3.]\n",
      "DEBUG:xai-privacy:Appears in training data at indices [351]\n",
      "DEBUG:xai-privacy:Extracted sample: [ 61.   0.   4. 130. 330.   0.   2. 169.   0.   0.   1.   0.   3.]\n",
      "DEBUG:xai-privacy:Appears in training data at indices [372]\n",
      "DEBUG:xai-privacy:Extracted sample: [ 62.    0.    4.  140.  394.    0.    2.  157.    0.    1.2   2.    0.\n",
      "   3. ]\n",
      "DEBUG:xai-privacy:Appears in training data at indices [388]\n",
      "DEBUG:xai-privacy:Extracted sample: [ 65.    1.    4.  120.  177.    0.    0.  140.    0.    0.4   1.    0.\n",
      "   7. ]\n",
      "DEBUG:xai-privacy:Appears in training data at indices [430]\n",
      "DEBUG:xai-privacy:Extracted sample: [ 67.    0.    3.  115.  564.    0.    2.  160.    0.    1.6   2.    0.\n",
      "   7. ]\n",
      "DEBUG:xai-privacy:Appears in training data at indices [445]\n"
     ]
    },
    {
     "name": "stdout",
     "output_type": "stream",
     "text": [
      "Total time: 4.13s (training model: 0.03s, training explainer: 0.01s, experiment: 4.09s)\n",
      "Number of extracted samples: 34\n",
      "Number of accurate extracted samples: 34\n",
      "Precision: 1.0, recall: 2.8333333333333335\n"
     ]
    }
   ],
   "source": [
    "logger.setLevel(logging.DEBUG)\n",
    "logging.root.setLevel(logging.ERROR)\n",
    "\n",
    "EXP = CounterfactualTDE(data_heart, numeric_features_heart, outcome_name_heart, random_state=0)\n",
    "EXP.training_data_extraction_experiment(num_queries=12, model=es.RandomForestClassifier(random_state=0), model_access=False)\n",
    "\n",
    "logger.setLevel(logging.INFO)"
   ]
  },
  {
   "cell_type": "markdown",
   "id": "8f4e3f0e",
   "metadata": {},
   "source": [
    "The proof of concept should show that each extracted sample is an actual training sample (precision of 100%). Recall is above 100% because this method can extract multiple samples per query (multiple counterfactuals are returned). Recall will reach a reasonable value if the experiment is executed for the full training data. In this case, the attack cannot return more samples than the number of queries because the attack is limited by the number of training samples."
   ]
  },
  {
   "cell_type": "markdown",
   "id": "8ff16a3c",
   "metadata": {},
   "source": [
    "Now we begin executing the actual experiment. We begin by defining the table that will hold the results for all our different experiment variations. Then we execute all variations of the experiment for this dataset. We vary the model between a decision tree, a random forest and a neural network. Each model uses the default configuration of scikit-learn."
   ]
  },
  {
   "cell_type": "code",
   "execution_count": 9,
   "id": "10674b35",
   "metadata": {
    "execution": {
     "iopub.execute_input": "2022-10-29T17:40:58.846445Z",
     "iopub.status.busy": "2022-10-29T17:40:58.845536Z",
     "iopub.status.idle": "2022-10-29T17:40:58.868857Z",
     "shell.execute_reply": "2022-10-29T17:40:58.860831Z"
    },
    "scrolled": true,
    "tags": []
   },
   "outputs": [],
   "source": [
    "results_ = {'dataset': [], 'model': [], 'precision': [], 'recall': []}\n",
    "\n",
    "results = pd.DataFrame(data = results_)"
   ]
  },
  {
   "cell_type": "code",
   "execution_count": 10,
   "id": "1c541b0b-7348-4aa0-95c8-4c9fafe3f3c5",
   "metadata": {
    "execution": {
     "iopub.execute_input": "2022-10-29T17:40:58.886860Z",
     "iopub.status.busy": "2022-10-29T17:40:58.884781Z",
     "iopub.status.idle": "2022-10-29T17:40:58.905823Z",
     "shell.execute_reply": "2022-10-29T17:40:58.902303Z"
    }
   },
   "outputs": [],
   "source": [
    "dataset_dicts = [data_heart_dict, data_heart_num_dict, data_heart_cat_dict, data_census_dict, data_census_num_dict, data_census_cat_dict]\n",
    "\n",
    "dt_dict = {'name': 'decision tree', 'model': DecisionTreeClassifier}\n",
    "rf_dict = {'name': 'random forest', 'model': es.RandomForestClassifier}\n",
    "nn_dict = {'name': 'neural network', 'model': MLPClassifier}\n",
    "\n",
    "model_dicts = [dt_dict, rf_dict, nn_dict]\n",
    "\n",
    "# We set the number of extractions to the length of the dataset\n",
    "num_queries_dict = { 'heart': len(data_heart), 'heart numeric': len(data_heart_num), 'heart categorical': len(data_heart_cat), 'census': len(data_census), 'census numeric': len(data_census_num), 'census categorical': len(data_census_cat)}"
   ]
  },
  {
   "cell_type": "code",
   "execution_count": 11,
   "id": "61f88514-2273-4bba-b3bd-d2558903dd8c",
   "metadata": {
    "execution": {
     "iopub.execute_input": "2022-10-29T17:40:58.926076Z",
     "iopub.status.busy": "2022-10-29T17:40:58.922427Z",
     "iopub.status.idle": "2022-10-29T17:40:58.939842Z",
     "shell.execute_reply": "2022-10-29T17:40:58.936483Z"
    }
   },
   "outputs": [],
   "source": [
    "# remove pandas warnings\n",
    "warnings.simplefilter(action='ignore', category=pd.errors.PerformanceWarning)"
   ]
  },
  {
   "cell_type": "code",
   "execution_count": 12,
   "id": "fd26f0ba-1b5c-456e-9c5b-eff254817877",
   "metadata": {
    "execution": {
     "iopub.execute_input": "2022-10-29T17:40:58.957826Z",
     "iopub.status.busy": "2022-10-29T17:40:58.956274Z",
     "iopub.status.idle": "2022-10-29T20:54:34.073601Z",
     "shell.execute_reply": "2022-10-29T20:54:34.068627Z"
    },
    "scrolled": false
   },
   "outputs": [
    {
     "name": "stdout",
     "output_type": "stream",
     "text": [
      "dataset: heart, model: decision tree\n",
      "Total time: 37.46s (training model: 0.01s, training explainer: 0.01s, experiment: 37.43s)\n",
      "Number of extracted samples: 343\n",
      "Number of accurate extracted samples: 343\n",
      "Precision: 1.0, recall: 0.7190775681341719\n",
      "dataset: heart, model: random forest\n",
      "Total time: 38.22s (training model: 0.02s, training explainer: 0.01s, experiment: 38.18s)\n",
      "Number of extracted samples: 334\n",
      "Number of accurate extracted samples: 334\n",
      "Precision: 1.0, recall: 0.70020964360587\n",
      "dataset: heart, model: neural network\n"
     ]
    },
    {
     "name": "stderr",
     "output_type": "stream",
     "text": [
      "c:\\users\\ml_ks\\venvs\\xai_new\\lib\\site-packages\\sklearn\\neural_network\\_multilayer_perceptron.py:702: ConvergenceWarning: Stochastic Optimizer: Maximum iterations (200) reached and the optimization hasn't converged yet.\n",
      "  warnings.warn(\n"
     ]
    },
    {
     "name": "stdout",
     "output_type": "stream",
     "text": [
      "Total time: 38.66s (training model: 1.06s, training explainer: 0.01s, experiment: 37.59s)\n",
      "Number of extracted samples: 311\n",
      "Number of accurate extracted samples: 311\n",
      "Precision: 1.0, recall: 0.6519916142557652\n",
      "dataset: heart numeric, model: decision tree\n",
      "Total time: 18.07s (training model: 0.01s, training explainer: 0.00s, experiment: 18.06s)\n",
      "Number of extracted samples: 376\n",
      "Number of accurate extracted samples: 376\n",
      "Precision: 1.0, recall: 0.7899159663865546\n",
      "dataset: heart numeric, model: random forest\n",
      "Total time: 18.60s (training model: 0.03s, training explainer: 0.05s, experiment: 18.52s)\n",
      "Number of extracted samples: 334\n",
      "Number of accurate extracted samples: 334\n",
      "Precision: 1.0, recall: 0.7016806722689075\n",
      "dataset: heart numeric, model: neural network\n"
     ]
    },
    {
     "name": "stderr",
     "output_type": "stream",
     "text": [
      "c:\\users\\ml_ks\\venvs\\xai_new\\lib\\site-packages\\sklearn\\neural_network\\_multilayer_perceptron.py:702: ConvergenceWarning: Stochastic Optimizer: Maximum iterations (200) reached and the optimization hasn't converged yet.\n",
      "  warnings.warn(\n"
     ]
    },
    {
     "name": "stdout",
     "output_type": "stream",
     "text": [
      "Total time: 18.06s (training model: 0.67s, training explainer: 0.02s, experiment: 17.38s)\n",
      "Number of extracted samples: 353\n",
      "Number of accurate extracted samples: 353\n",
      "Precision: 1.0, recall: 0.7415966386554622\n",
      "dataset: heart categorical, model: decision tree\n",
      "Total time: 14.09s (training model: 0.02s, training explainer: 0.02s, experiment: 14.06s)\n",
      "Number of extracted samples: 414\n",
      "Number of accurate extracted samples: 414\n",
      "Precision: 1.0, recall: 0.8679245283018868\n",
      "dataset: heart categorical, model: random forest\n"
     ]
    },
    {
     "name": "stderr",
     "output_type": "stream",
     "text": [
      "c:\\users\\ml_ks\\venvs\\xai_new\\lib\\site-packages\\sklearn\\ensemble\\_forest.py:427: FutureWarning: `max_features='auto'` has been deprecated in 1.1 and will be removed in 1.3. To keep the past behaviour, explicitly set `max_features='sqrt'` or remove this parameter as it is also the default value for RandomForestClassifiers and ExtraTreesClassifiers.\n",
      "  warn(\n"
     ]
    },
    {
     "name": "stdout",
     "output_type": "stream",
     "text": [
      "Total time: 21.45s (training model: 0.26s, training explainer: 0.02s, experiment: 21.17s)\n",
      "Number of extracted samples: 382\n",
      "Number of accurate extracted samples: 382\n",
      "Precision: 1.0, recall: 0.80083857442348\n",
      "dataset: heart categorical, model: neural network\n"
     ]
    },
    {
     "name": "stderr",
     "output_type": "stream",
     "text": [
      "c:\\users\\ml_ks\\venvs\\xai_new\\lib\\site-packages\\sklearn\\neural_network\\_multilayer_perceptron.py:702: ConvergenceWarning: Stochastic Optimizer: Maximum iterations (200) reached and the optimization hasn't converged yet.\n",
      "  warnings.warn(\n"
     ]
    },
    {
     "name": "stdout",
     "output_type": "stream",
     "text": [
      "Total time: 15.11s (training model: 1.11s, training explainer: 0.02s, experiment: 13.99s)\n",
      "Number of extracted samples: 366\n",
      "Number of accurate extracted samples: 366\n",
      "Precision: 1.0, recall: 0.7672955974842768\n",
      "dataset: census, model: decision tree\n",
      "Total time: 617.93s (training model: 0.46s, training explainer: 0.05s, experiment: 617.42s)\n",
      "Number of extracted samples: 1172\n",
      "Number of accurate extracted samples: 1172\n",
      "Precision: 1.0, recall: 0.08477396021699819\n",
      "dataset: census, model: random forest\n"
     ]
    },
    {
     "name": "stderr",
     "output_type": "stream",
     "text": [
      "c:\\users\\ml_ks\\venvs\\xai_new\\lib\\site-packages\\sklearn\\ensemble\\_forest.py:427: FutureWarning: `max_features='auto'` has been deprecated in 1.1 and will be removed in 1.3. To keep the past behaviour, explicitly set `max_features='sqrt'` or remove this parameter as it is also the default value for RandomForestClassifiers and ExtraTreesClassifiers.\n",
      "  warn(\n"
     ]
    },
    {
     "name": "stdout",
     "output_type": "stream",
     "text": [
      "Total time: 1165.49s (training model: 7.86s, training explainer: 0.06s, experiment: 1157.57s)\n",
      "Number of extracted samples: 880\n",
      "Number of accurate extracted samples: 880\n",
      "Precision: 1.0, recall: 0.06365280289330923\n",
      "dataset: census, model: neural network\n"
     ]
    },
    {
     "name": "stderr",
     "output_type": "stream",
     "text": [
      "c:\\users\\ml_ks\\venvs\\xai_new\\lib\\site-packages\\sklearn\\neural_network\\_multilayer_perceptron.py:702: ConvergenceWarning: Stochastic Optimizer: Maximum iterations (200) reached and the optimization hasn't converged yet.\n",
      "  warnings.warn(\n"
     ]
    },
    {
     "name": "stdout",
     "output_type": "stream",
     "text": [
      "Total time: 680.72s (training model: 33.28s, training explainer: 0.05s, experiment: 647.39s)\n",
      "Number of extracted samples: 1190\n",
      "Number of accurate extracted samples: 1190\n",
      "Precision: 1.0, recall: 0.08607594936708861\n",
      "dataset: census numeric, model: decision tree\n",
      "Total time: 68.57s (training model: 0.02s, training explainer: 0.00s, experiment: 68.56s)\n",
      "Number of extracted samples: 866\n",
      "Number of accurate extracted samples: 866\n",
      "Precision: 1.0, recall: 0.13847137831787656\n",
      "dataset: census numeric, model: random forest\n",
      "Total time: 109.89s (training model: 0.11s, training explainer: 0.00s, experiment: 109.78s)\n",
      "Number of extracted samples: 658\n",
      "Number of accurate extracted samples: 658\n",
      "Precision: 1.0, recall: 0.10521266389510713\n",
      "dataset: census numeric, model: neural network\n"
     ]
    },
    {
     "name": "stderr",
     "output_type": "stream",
     "text": [
      "c:\\users\\ml_ks\\venvs\\xai_new\\lib\\site-packages\\sklearn\\neural_network\\_multilayer_perceptron.py:702: ConvergenceWarning: Stochastic Optimizer: Maximum iterations (200) reached and the optimization hasn't converged yet.\n",
      "  warnings.warn(\n"
     ]
    },
    {
     "name": "stdout",
     "output_type": "stream",
     "text": [
      "Total time: 95.08s (training model: 7.37s, training explainer: 0.00s, experiment: 87.72s)\n",
      "Number of extracted samples: 734\n",
      "Number of accurate extracted samples: 734\n",
      "Precision: 1.0, recall: 0.1173648864726575\n",
      "dataset: census categorical, model: decision tree\n",
      "Total time: 459.49s (training model: 0.28s, training explainer: 0.08s, experiment: 459.12s)\n",
      "Number of extracted samples: 8239\n",
      "Number of accurate extracted samples: 8239\n",
      "Precision: 1.0, recall: 0.8052976248656045\n",
      "dataset: census categorical, model: random forest\n"
     ]
    },
    {
     "name": "stderr",
     "output_type": "stream",
     "text": [
      "c:\\users\\ml_ks\\venvs\\xai_new\\lib\\site-packages\\sklearn\\ensemble\\_forest.py:427: FutureWarning: `max_features='auto'` has been deprecated in 1.1 and will be removed in 1.3. To keep the past behaviour, explicitly set `max_features='sqrt'` or remove this parameter as it is also the default value for RandomForestClassifiers and ExtraTreesClassifiers.\n",
      "  warn(\n"
     ]
    },
    {
     "name": "stdout",
     "output_type": "stream",
     "text": [
      "Total time: 767.68s (training model: 4.73s, training explainer: 0.09s, experiment: 762.85s)\n",
      "Number of extracted samples: 8032\n",
      "Number of accurate extracted samples: 8032\n",
      "Precision: 1.0, recall: 0.7850649985338677\n",
      "dataset: census categorical, model: neural network\n"
     ]
    },
    {
     "name": "stderr",
     "output_type": "stream",
     "text": [
      "c:\\users\\ml_ks\\venvs\\xai_new\\lib\\site-packages\\sklearn\\neural_network\\_multilayer_perceptron.py:702: ConvergenceWarning: Stochastic Optimizer: Maximum iterations (200) reached and the optimization hasn't converged yet.\n",
      "  warnings.warn(\n"
     ]
    },
    {
     "name": "stdout",
     "output_type": "stream",
     "text": [
      "Total time: 464.50s (training model: 25.21s, training explainer: 0.08s, experiment: 439.22s)\n",
      "Number of extracted samples: 7073\n",
      "Number of accurate extracted samples: 7073\n",
      "Precision: 1.0, recall: 0.6913302707457727\n"
     ]
    }
   ],
   "source": [
    "# This will run the experiment for each dataset and model combination\n",
    "\n",
    "results = run_all_experiments(CounterfactualTDE, dataset_dicts, model_dicts, random_state=0, num_queries=num_queries_dict, model_access=False, threads=threads, results_table=results, is_mem_inf=False, convert_cat_to_str=True)"
   ]
  },
  {
   "cell_type": "markdown",
   "id": "a1feb9a8",
   "metadata": {},
   "source": [
    "# Results\n",
    "\n",
    "Precision is the percentage of extracted samples that is actually from the training data. \n",
    "\n",
    "Recall is the ratio of the number extracted training samples to all training samples."
   ]
  },
  {
   "cell_type": "code",
   "execution_count": 13,
   "id": "39bb0af8",
   "metadata": {
    "execution": {
     "iopub.execute_input": "2022-10-29T20:54:34.095962Z",
     "iopub.status.busy": "2022-10-29T20:54:34.091682Z",
     "iopub.status.idle": "2022-10-29T20:54:34.129628Z",
     "shell.execute_reply": "2022-10-29T20:54:34.126999Z"
    }
   },
   "outputs": [
    {
     "data": {
      "text/html": [
       "<div>\n",
       "<style scoped>\n",
       "    .dataframe tbody tr th:only-of-type {\n",
       "        vertical-align: middle;\n",
       "    }\n",
       "\n",
       "    .dataframe tbody tr th {\n",
       "        vertical-align: top;\n",
       "    }\n",
       "\n",
       "    .dataframe thead th {\n",
       "        text-align: right;\n",
       "    }\n",
       "</style>\n",
       "<table border=\"1\" class=\"dataframe\">\n",
       "  <thead>\n",
       "    <tr style=\"text-align: right;\">\n",
       "      <th></th>\n",
       "      <th>dataset</th>\n",
       "      <th>model</th>\n",
       "      <th>precision</th>\n",
       "      <th>recall</th>\n",
       "    </tr>\n",
       "  </thead>\n",
       "  <tbody>\n",
       "    <tr>\n",
       "      <th>0</th>\n",
       "      <td>heart</td>\n",
       "      <td>decision tree</td>\n",
       "      <td>1.0</td>\n",
       "      <td>0.719078</td>\n",
       "    </tr>\n",
       "    <tr>\n",
       "      <th>1</th>\n",
       "      <td>heart</td>\n",
       "      <td>random forest</td>\n",
       "      <td>1.0</td>\n",
       "      <td>0.700210</td>\n",
       "    </tr>\n",
       "    <tr>\n",
       "      <th>2</th>\n",
       "      <td>heart</td>\n",
       "      <td>neural network</td>\n",
       "      <td>1.0</td>\n",
       "      <td>0.651992</td>\n",
       "    </tr>\n",
       "    <tr>\n",
       "      <th>3</th>\n",
       "      <td>heart numeric</td>\n",
       "      <td>decision tree</td>\n",
       "      <td>1.0</td>\n",
       "      <td>0.789916</td>\n",
       "    </tr>\n",
       "    <tr>\n",
       "      <th>4</th>\n",
       "      <td>heart numeric</td>\n",
       "      <td>random forest</td>\n",
       "      <td>1.0</td>\n",
       "      <td>0.701681</td>\n",
       "    </tr>\n",
       "    <tr>\n",
       "      <th>5</th>\n",
       "      <td>heart numeric</td>\n",
       "      <td>neural network</td>\n",
       "      <td>1.0</td>\n",
       "      <td>0.741597</td>\n",
       "    </tr>\n",
       "    <tr>\n",
       "      <th>6</th>\n",
       "      <td>heart categorical</td>\n",
       "      <td>decision tree</td>\n",
       "      <td>1.0</td>\n",
       "      <td>0.867925</td>\n",
       "    </tr>\n",
       "    <tr>\n",
       "      <th>7</th>\n",
       "      <td>heart categorical</td>\n",
       "      <td>random forest</td>\n",
       "      <td>1.0</td>\n",
       "      <td>0.800839</td>\n",
       "    </tr>\n",
       "    <tr>\n",
       "      <th>8</th>\n",
       "      <td>heart categorical</td>\n",
       "      <td>neural network</td>\n",
       "      <td>1.0</td>\n",
       "      <td>0.767296</td>\n",
       "    </tr>\n",
       "    <tr>\n",
       "      <th>9</th>\n",
       "      <td>census</td>\n",
       "      <td>decision tree</td>\n",
       "      <td>1.0</td>\n",
       "      <td>0.084774</td>\n",
       "    </tr>\n",
       "    <tr>\n",
       "      <th>10</th>\n",
       "      <td>census</td>\n",
       "      <td>random forest</td>\n",
       "      <td>1.0</td>\n",
       "      <td>0.063653</td>\n",
       "    </tr>\n",
       "    <tr>\n",
       "      <th>11</th>\n",
       "      <td>census</td>\n",
       "      <td>neural network</td>\n",
       "      <td>1.0</td>\n",
       "      <td>0.086076</td>\n",
       "    </tr>\n",
       "    <tr>\n",
       "      <th>12</th>\n",
       "      <td>census numeric</td>\n",
       "      <td>decision tree</td>\n",
       "      <td>1.0</td>\n",
       "      <td>0.138471</td>\n",
       "    </tr>\n",
       "    <tr>\n",
       "      <th>13</th>\n",
       "      <td>census numeric</td>\n",
       "      <td>random forest</td>\n",
       "      <td>1.0</td>\n",
       "      <td>0.105213</td>\n",
       "    </tr>\n",
       "    <tr>\n",
       "      <th>14</th>\n",
       "      <td>census numeric</td>\n",
       "      <td>neural network</td>\n",
       "      <td>1.0</td>\n",
       "      <td>0.117365</td>\n",
       "    </tr>\n",
       "    <tr>\n",
       "      <th>15</th>\n",
       "      <td>census categorical</td>\n",
       "      <td>decision tree</td>\n",
       "      <td>1.0</td>\n",
       "      <td>0.805298</td>\n",
       "    </tr>\n",
       "    <tr>\n",
       "      <th>16</th>\n",
       "      <td>census categorical</td>\n",
       "      <td>random forest</td>\n",
       "      <td>1.0</td>\n",
       "      <td>0.785065</td>\n",
       "    </tr>\n",
       "    <tr>\n",
       "      <th>17</th>\n",
       "      <td>census categorical</td>\n",
       "      <td>neural network</td>\n",
       "      <td>1.0</td>\n",
       "      <td>0.691330</td>\n",
       "    </tr>\n",
       "  </tbody>\n",
       "</table>\n",
       "</div>"
      ],
      "text/plain": [
       "               dataset           model  precision    recall\n",
       "0                heart   decision tree        1.0  0.719078\n",
       "1                heart   random forest        1.0  0.700210\n",
       "2                heart  neural network        1.0  0.651992\n",
       "3        heart numeric   decision tree        1.0  0.789916\n",
       "4        heart numeric   random forest        1.0  0.701681\n",
       "5        heart numeric  neural network        1.0  0.741597\n",
       "6    heart categorical   decision tree        1.0  0.867925\n",
       "7    heart categorical   random forest        1.0  0.800839\n",
       "8    heart categorical  neural network        1.0  0.767296\n",
       "9               census   decision tree        1.0  0.084774\n",
       "10              census   random forest        1.0  0.063653\n",
       "11              census  neural network        1.0  0.086076\n",
       "12      census numeric   decision tree        1.0  0.138471\n",
       "13      census numeric   random forest        1.0  0.105213\n",
       "14      census numeric  neural network        1.0  0.117365\n",
       "15  census categorical   decision tree        1.0  0.805298\n",
       "16  census categorical   random forest        1.0  0.785065\n",
       "17  census categorical  neural network        1.0  0.691330"
      ]
     },
     "execution_count": 13,
     "metadata": {},
     "output_type": "execute_result"
    }
   ],
   "source": [
    "results"
   ]
  },
  {
   "cell_type": "code",
   "execution_count": 14,
   "id": "31380dcf",
   "metadata": {
    "execution": {
     "iopub.execute_input": "2022-10-29T20:54:34.151825Z",
     "iopub.status.busy": "2022-10-29T20:54:34.147925Z",
     "iopub.status.idle": "2022-10-29T20:54:34.173325Z",
     "shell.execute_reply": "2022-10-29T20:54:34.169969Z"
    }
   },
   "outputs": [],
   "source": [
    "file_name = 'results/2-1-cf-training-data-extraction-results'\n",
    "if DATASET_HALF:\n",
    "    file_name += '_dataset_size_halved'\n",
    "results.to_csv(file_name + '.csv', index=False, na_rep='NaN', float_format='%.3f')"
   ]
  },
  {
   "cell_type": "markdown",
   "id": "d054236f-8d24-4ad8-8b81-fb2ba96cd77b",
   "metadata": {},
   "source": [
    "# Discussion\n",
    "\n",
    "In our experiments, training data extraction with counterfactuals drawn from the training data has a recall between 45% and 67% for numeric data and 30% to 64% for categorical data. Since the attack cannot produce any false positive samples, precision is always 100%."
   ]
  },
  {
   "cell_type": "code",
   "execution_count": null,
   "id": "5ef338ab-a7ef-46aa-86f5-23ed8dc39a8b",
   "metadata": {},
   "outputs": [],
   "source": []
  }
 ],
 "metadata": {
  "kernelspec": {
   "display_name": "Python 3 (ipykernel)",
   "language": "python",
   "name": "python3"
  },
  "language_info": {
   "codemirror_mode": {
    "name": "ipython",
    "version": 3
   },
   "file_extension": ".py",
   "mimetype": "text/x-python",
   "name": "python",
   "nbconvert_exporter": "python",
   "pygments_lexer": "ipython3",
   "version": "3.8.10"
  }
 },
 "nbformat": 4,
 "nbformat_minor": 5
}
