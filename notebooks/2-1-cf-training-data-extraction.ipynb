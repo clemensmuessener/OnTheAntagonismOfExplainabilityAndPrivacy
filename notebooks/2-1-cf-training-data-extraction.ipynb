{
 "cells": [
  {
   "cell_type": "markdown",
   "id": "75916e17",
   "metadata": {},
   "source": [
    "# Counterfactuals Training Data Extraction Experiment"
   ]
  },
  {
   "cell_type": "code",
   "execution_count": 1,
   "id": "f6661d3f",
   "metadata": {
    "execution": {
     "iopub.execute_input": "2022-10-29T17:40:15.577215Z",
     "iopub.status.busy": "2022-10-29T17:40:15.572812Z",
     "iopub.status.idle": "2022-10-29T17:40:18.600644Z",
     "shell.execute_reply": "2022-10-29T17:40:18.588362Z"
    },
    "tags": []
   },
   "outputs": [
    {
     "name": "stderr",
     "output_type": "stream",
     "text": [
      "Intel(R) Extension for Scikit-learn* enabled (https://github.com/intel/scikit-learn-intelex)\n"
     ]
    }
   ],
   "source": [
    "import pandas as pd\n",
    "from sklearnex import patch_sklearn\n",
    "patch_sklearn()\n",
    "import sklearn.ensemble as es\n",
    "from sklearn.tree import DecisionTreeClassifier\n",
    "from sklearn.neural_network import MLPClassifier\n",
    "import random\n",
    "import logging\n",
    "import warnings\n",
    "import dice_ml"
   ]
  },
  {
   "cell_type": "code",
   "execution_count": 2,
   "id": "e27327d5-6352-40a0-a6d8-5f6298306064",
   "metadata": {
    "execution": {
     "iopub.execute_input": "2022-10-29T17:40:18.621351Z",
     "iopub.status.busy": "2022-10-29T17:40:18.620110Z",
     "iopub.status.idle": "2022-10-29T17:40:18.633920Z",
     "shell.execute_reply": "2022-10-29T17:40:18.630812Z"
    }
   },
   "outputs": [],
   "source": [
    "threads = 15\n",
    "\n",
    "logging.basicConfig()\n",
    "\n",
    "logger = logging.getLogger('xai-privacy')"
   ]
  },
  {
   "cell_type": "code",
   "execution_count": 3,
   "id": "2429dea7",
   "metadata": {
    "execution": {
     "iopub.execute_input": "2022-10-29T17:40:18.647455Z",
     "iopub.status.busy": "2022-10-29T17:40:18.646421Z",
     "iopub.status.idle": "2022-10-29T17:40:21.024992Z",
     "shell.execute_reply": "2022-10-29T17:40:21.017649Z"
    },
    "tags": []
   },
   "outputs": [],
   "source": [
    "from experiment_setup import run_all_experiments\n",
    "from experiment_setup import get_heart_disease_dataset\n",
    "from experiment_setup import get_census_dataset"
   ]
  },
  {
   "cell_type": "code",
   "execution_count": 4,
   "id": "0d487ce1-05ee-4457-8ca1-7163b67fe595",
   "metadata": {
    "execution": {
     "iopub.execute_input": "2022-10-29T17:40:21.047676Z",
     "iopub.status.busy": "2022-10-29T17:40:21.042595Z",
     "iopub.status.idle": "2022-10-29T17:40:21.064812Z",
     "shell.execute_reply": "2022-10-29T17:40:21.059050Z"
    },
    "tags": []
   },
   "outputs": [
    {
     "name": "stdout",
     "output_type": "stream",
     "text": [
      "Feature Age: removed 0 rows for missing values.\n",
      "Feature RestingBP: removed 59 rows for missing values.\n",
      "Feature Cholesterol: removed 27 rows for missing values.\n",
      "Feature FastingBS: add unknown category 2.0\n",
      "Feature RestingECG: add unknown category 3.0\n",
      "Feature MaxHR: removed 0 rows for missing values.\n",
      "Feature Oldpeak: removed 7 rows for missing values.\n",
      "Feature ST_Slope: add unknown category 4.0\n",
      "Feature CA: add unknown category 4.0\n",
      "Feature Thal: add unknown category 8.0\n",
      "Dropped 71 of 548\n",
      "Dropped 72 of 548\n",
      "Dropped 71 of 548\n",
      "Dropped: 2399 of 32561\n",
      "census: Dropped 1256 of 15081\n",
      "num: Dropped 8827 of 15081\n",
      "cat: Dropped 4850 of 15081\n"
     ]
    }
   ],
   "source": [
    "DATASET_HALF = False\n",
    "\n",
    "data_heart_dict, data_heart_num_dict, data_heart_cat_dict = get_heart_disease_dataset(halve_dataset=DATASET_HALF)\n",
    "data_census_dict, data_census_num_dict, data_census_cat_dict = get_census_dataset(halve_dataset=DATASET_HALF)\n",
    "\n",
    "data_heart = data_heart_dict['dataset']\n",
    "data_heart_num = data_heart_num_dict['dataset']\n",
    "data_heart_cat = data_heart_cat_dict['dataset']\n",
    "data_census = data_census_dict['dataset']\n",
    "data_census_num = data_census_num_dict['dataset']\n",
    "data_census_cat = data_census_cat_dict['dataset']\n",
    "outcome_name_heart = data_heart_dict['outcome']\n",
    "numeric_features_heart = data_heart_dict['num']"
   ]
  },
  {
   "cell_type": "markdown",
   "id": "c6a61bbc",
   "metadata": {},
   "source": [
    "This notebook will test whether training data extraction is possible with counterfactuals (CF) that are drawn from the training data. Training data extraction means an attacker can find out the feature values of samples from the training data without prior knowledge of them. The attacker only has access to the model's prediction function and the explanation.\n",
    "\n",
    "This attack should be trivial because any counterfactual that is shown as an explanation was picked directly from the training data.\n",
    "\n",
    "The idea for counterfacutal training data extraction is as follows: The attacker makes repeated queries to the model with random input values. In order to do this, the attacker knows the maximum and minimum value of each feature in the training data (or the categorical values of each feature). The returned counterfactuals are the extracted training data.\n",
    "\n",
    "First, we implement the `train_explainer` and `training_data_extraction_model_access` functions:"
   ]
  },
  {
   "cell_type": "code",
   "execution_count": 5,
   "id": "8ca67de5",
   "metadata": {
    "execution": {
     "iopub.execute_input": "2022-10-29T17:40:21.080788Z",
     "iopub.status.busy": "2022-10-29T17:40:21.079754Z",
     "iopub.status.idle": "2022-10-29T17:40:21.132885Z",
     "shell.execute_reply": "2022-10-29T17:40:21.124719Z"
    },
    "tags": []
   },
   "outputs": [],
   "source": [
    "# Attack code must be imported so that multiprocessing pool works. Check out ice_attack.py for the implementation of the attack.\n",
    "from cf_attack import CounterfactualTDE"
   ]
  },
  {
   "cell_type": "markdown",
   "id": "d2ef61e5",
   "metadata": {},
   "source": [
    "# Executing Training Data Extraction"
   ]
  },
  {
   "cell_type": "markdown",
   "id": "d02a2083",
   "metadata": {},
   "source": [
    "We now generate five counterfactuals for the first sample from the training data to demonstrate counterfactual explanations in general."
   ]
  },
  {
   "cell_type": "code",
   "execution_count": 6,
   "id": "64c4cf59",
   "metadata": {
    "execution": {
     "iopub.execute_input": "2022-10-29T17:40:21.145689Z",
     "iopub.status.busy": "2022-10-29T17:40:21.144210Z",
     "iopub.status.idle": "2022-10-29T17:40:21.451541Z",
     "shell.execute_reply": "2022-10-29T17:40:21.449183Z"
    },
    "tags": []
   },
   "outputs": [],
   "source": [
    "features = data_heart.drop(outcome_name_heart, axis=1)\n",
    "labels = data_heart[outcome_name_heart]\n",
    "\n",
    "# Train a random forest on training data.\n",
    "model = es.RandomForestClassifier(random_state=0)\n",
    "model = model.fit(features, labels)\n",
    "\n",
    "# Train explainer\n",
    "d = dice_ml.Data(dataframe=data_heart, continuous_features=numeric_features_heart, outcome_name=outcome_name_heart)\n",
    "\n",
    "m = dice_ml.Model(model=model, backend=\"sklearn\", model_type='classifier')\n",
    "# Generating counterfactuals from training data (kd-tree)\n",
    "exp = dice_ml.Dice(d, m, method=\"kdtree\")"
   ]
  },
  {
   "cell_type": "code",
   "execution_count": 7,
   "id": "508a451a",
   "metadata": {
    "execution": {
     "iopub.execute_input": "2022-10-29T17:40:21.472262Z",
     "iopub.status.busy": "2022-10-29T17:40:21.469575Z",
     "iopub.status.idle": "2022-10-29T17:40:27.920613Z",
     "shell.execute_reply": "2022-10-29T17:40:27.917828Z"
    }
   },
   "outputs": [
    {
     "name": "stderr",
     "output_type": "stream",
     "text": [
      "100%|██████████| 1/1 [00:00<00:00,  1.09it/s]"
     ]
    },
    {
     "name": "stdout",
     "output_type": "stream",
     "text": [
      "Query instance (original outcome : 0)\n"
     ]
    },
    {
     "name": "stderr",
     "output_type": "stream",
     "text": [
      "\n"
     ]
    },
    {
     "data": {
      "text/plain": "    Age  Sex ChestPainType  RestingBP  Cholesterol FastingBS RestingECG  \\\n0  62.0  1.0           2.0      140.0        271.0       0.0        0.0   \n\n   MaxHR ExerciseAngina  Oldpeak ST_Slope   CA Thal  HeartDisease  \n0  152.0            0.0      1.0      1.0  4.0  8.0           0.0  ",
      "text/html": "<div>\n<style scoped>\n    .dataframe tbody tr th:only-of-type {\n        vertical-align: middle;\n    }\n\n    .dataframe tbody tr th {\n        vertical-align: top;\n    }\n\n    .dataframe thead th {\n        text-align: right;\n    }\n</style>\n<table border=\"1\" class=\"dataframe\">\n  <thead>\n    <tr style=\"text-align: right;\">\n      <th></th>\n      <th>Age</th>\n      <th>Sex</th>\n      <th>ChestPainType</th>\n      <th>RestingBP</th>\n      <th>Cholesterol</th>\n      <th>FastingBS</th>\n      <th>RestingECG</th>\n      <th>MaxHR</th>\n      <th>ExerciseAngina</th>\n      <th>Oldpeak</th>\n      <th>ST_Slope</th>\n      <th>CA</th>\n      <th>Thal</th>\n      <th>HeartDisease</th>\n    </tr>\n  </thead>\n  <tbody>\n    <tr>\n      <th>0</th>\n      <td>62.0</td>\n      <td>1.0</td>\n      <td>2.0</td>\n      <td>140.0</td>\n      <td>271.0</td>\n      <td>0.0</td>\n      <td>0.0</td>\n      <td>152.0</td>\n      <td>0.0</td>\n      <td>1.0</td>\n      <td>1.0</td>\n      <td>4.0</td>\n      <td>8.0</td>\n      <td>0.0</td>\n    </tr>\n  </tbody>\n</table>\n</div>"
     },
     "metadata": {},
     "output_type": "display_data"
    },
    {
     "name": "stdout",
     "output_type": "stream",
     "text": [
      "\n",
      "Diverse Counterfactual set without sparsity correction (new outcome:  1\n"
     ]
    },
    {
     "data": {
      "text/plain": "      Age  Sex ChestPainType  RestingBP  Cholesterol FastingBS RestingECG  \\\n439  62.0  0.0           4.0      140.0        268.0       0.0        2.0   \n90   57.0  1.0           2.0      124.0        261.0       0.0        0.0   \n166  60.0  1.0           2.0      160.0        267.0       1.0        1.0   \n103  66.0  1.0           4.0      112.0        261.0       0.0        0.0   \n370  67.0  1.0           1.0      142.0        270.0       1.0        0.0   \n\n     MaxHR ExerciseAngina  Oldpeak ST_Slope   CA Thal  \n439  160.0            0.0      3.6      3.0  2.0  3.0  \n90   141.0            0.0      0.3      1.0  0.0  7.0  \n166  157.0            0.0      0.5      2.0  4.0  8.0  \n103  140.0            0.0      1.5      1.0  4.0  8.0  \n370  125.0            0.0      2.5      1.0  4.0  8.0  ",
      "text/html": "<div>\n<style scoped>\n    .dataframe tbody tr th:only-of-type {\n        vertical-align: middle;\n    }\n\n    .dataframe tbody tr th {\n        vertical-align: top;\n    }\n\n    .dataframe thead th {\n        text-align: right;\n    }\n</style>\n<table border=\"1\" class=\"dataframe\">\n  <thead>\n    <tr style=\"text-align: right;\">\n      <th></th>\n      <th>Age</th>\n      <th>Sex</th>\n      <th>ChestPainType</th>\n      <th>RestingBP</th>\n      <th>Cholesterol</th>\n      <th>FastingBS</th>\n      <th>RestingECG</th>\n      <th>MaxHR</th>\n      <th>ExerciseAngina</th>\n      <th>Oldpeak</th>\n      <th>ST_Slope</th>\n      <th>CA</th>\n      <th>Thal</th>\n    </tr>\n  </thead>\n  <tbody>\n    <tr>\n      <th>439</th>\n      <td>62.0</td>\n      <td>0.0</td>\n      <td>4.0</td>\n      <td>140.0</td>\n      <td>268.0</td>\n      <td>0.0</td>\n      <td>2.0</td>\n      <td>160.0</td>\n      <td>0.0</td>\n      <td>3.6</td>\n      <td>3.0</td>\n      <td>2.0</td>\n      <td>3.0</td>\n    </tr>\n    <tr>\n      <th>90</th>\n      <td>57.0</td>\n      <td>1.0</td>\n      <td>2.0</td>\n      <td>124.0</td>\n      <td>261.0</td>\n      <td>0.0</td>\n      <td>0.0</td>\n      <td>141.0</td>\n      <td>0.0</td>\n      <td>0.3</td>\n      <td>1.0</td>\n      <td>0.0</td>\n      <td>7.0</td>\n    </tr>\n    <tr>\n      <th>166</th>\n      <td>60.0</td>\n      <td>1.0</td>\n      <td>2.0</td>\n      <td>160.0</td>\n      <td>267.0</td>\n      <td>1.0</td>\n      <td>1.0</td>\n      <td>157.0</td>\n      <td>0.0</td>\n      <td>0.5</td>\n      <td>2.0</td>\n      <td>4.0</td>\n      <td>8.0</td>\n    </tr>\n    <tr>\n      <th>103</th>\n      <td>66.0</td>\n      <td>1.0</td>\n      <td>4.0</td>\n      <td>112.0</td>\n      <td>261.0</td>\n      <td>0.0</td>\n      <td>0.0</td>\n      <td>140.0</td>\n      <td>0.0</td>\n      <td>1.5</td>\n      <td>1.0</td>\n      <td>4.0</td>\n      <td>8.0</td>\n    </tr>\n    <tr>\n      <th>370</th>\n      <td>67.0</td>\n      <td>1.0</td>\n      <td>1.0</td>\n      <td>142.0</td>\n      <td>270.0</td>\n      <td>1.0</td>\n      <td>0.0</td>\n      <td>125.0</td>\n      <td>0.0</td>\n      <td>2.5</td>\n      <td>1.0</td>\n      <td>4.0</td>\n      <td>8.0</td>\n    </tr>\n  </tbody>\n</table>\n</div>"
     },
     "metadata": {},
     "output_type": "display_data"
    }
   ],
   "source": [
    "e1 = exp.generate_counterfactuals(features[0:1], total_CFs=5, desired_class=\"opposite\")\n",
    "e1.visualize_as_dataframe(display_sparse_df=False)"
   ]
  },
  {
   "cell_type": "markdown",
   "id": "084cf1e0",
   "metadata": {},
   "source": [
    "We can see that the counterfactuals are similar to the query sample and that they have a flipped prediction. These are the two general properties of counterfactual explanations.\n",
    "\n",
    "We will now do a small proof of concept of the experiment with logging enabled to demonstrate how it works."
   ]
  },
  {
   "cell_type": "code",
   "execution_count": 8,
   "id": "cacf1093",
   "metadata": {
    "execution": {
     "iopub.execute_input": "2022-10-29T17:40:27.940680Z",
     "iopub.status.busy": "2022-10-29T17:40:27.936367Z",
     "iopub.status.idle": "2022-10-29T17:40:58.832968Z",
     "shell.execute_reply": "2022-10-29T17:40:58.828827Z"
    }
   },
   "outputs": [
    {
     "name": "stderr",
     "output_type": "stream",
     "text": [
      "DEBUG:xai-privacy:Numeric Features: ['Age', 'RestingBP', 'Cholesterol', 'MaxHR', 'Oldpeak']\n",
      "DEBUG:xai-privacy:Categorical Features: ['CA', 'ChestPainType', 'ExerciseAngina', 'FastingBS', 'RestingECG', 'ST_Slope', 'Sex', 'Thal']\n",
      "100%|██████████| 12/12 [00:08<00:00,  1.46it/s]\n",
      "DEBUG:xai-privacy:Sample 0: Counterfactuals \n",
      " [[50.0 '1.0' '2.0' 170.0 209.0 '0.0' '1.0' 116.0 '0.0' 0.0 '4.0' '4.0'\n",
      "  '8.0']\n",
      " [50.0 '1.0' '4.0' 150.0 215.0 '0.0' '0.0' 140.0 '1.0' 0.0 '4.0' '4.0'\n",
      "  '8.0']\n",
      " [69.0 '1.0' '1.0' 160.0 234.0 '1.0' '2.0' 131.0 '0.0' 0.1 '2.0' '1.0'\n",
      "  '3.0']\n",
      " [53.0 '1.0' '4.0' 140.0 203.0 '1.0' '2.0' 155.0 '1.0' 3.1 '3.0' '0.0'\n",
      "  '7.0']]\n",
      "DEBUG:xai-privacy:Sample 1: Counterfactuals \n",
      " [[62.0 '0.0' '4.0' 140.0 394.0 '0.0' '2.0' 157.0 '0.0' 1.2 '2.0' '0.0'\n",
      "  '3.0']\n",
      " [54.0 '0.0' '4.0' 127.0 333.0 '1.0' '1.0' 154.0 '0.0' 0.0 '4.0' '4.0'\n",
      "  '8.0']\n",
      " [39.0 '1.0' '3.0' 120.0 339.0 '0.0' '0.0' 170.0 '0.0' 0.0 '4.0' '4.0'\n",
      "  '8.0']\n",
      " [43.0 '1.0' '3.0' 130.0 315.0 '0.0' '0.0' 162.0 '0.0' 1.9 '1.0' '1.0'\n",
      "  '3.0']]\n",
      "DEBUG:xai-privacy:Sample 2: Counterfactuals \n",
      " [[52.0 '1.0' '1.0' 152.0 298.0 '1.0' '0.0' 178.0 '0.0' 1.2 '2.0' '0.0'\n",
      "  '7.0']\n",
      " [60.0 '1.0' '4.0' 140.0 293.0 '0.0' '2.0' 170.0 '0.0' 1.2 '2.0' '2.0'\n",
      "  '7.0']\n",
      " [67.0 '0.0' '3.0' 152.0 277.0 '0.0' '0.0' 172.0 '0.0' 0.0 '1.0' '1.0'\n",
      "  '3.0']\n",
      " [65.0 '1.0' '1.0' 138.0 282.0 '1.0' '2.0' 174.0 '0.0' 1.4 '2.0' '1.0'\n",
      "  '3.0']]\n",
      "DEBUG:xai-privacy:Sample 3: Counterfactuals \n",
      " [[62.0 '0.0' '4.0' 140.0 394.0 '0.0' '2.0' 157.0 '0.0' 1.2 '2.0' '0.0'\n",
      "  '3.0']\n",
      " [57.0 '0.0' '4.0' 120.0 354.0 '0.0' '0.0' 163.0 '1.0' 0.6 '1.0' '0.0'\n",
      "  '3.0']\n",
      " [40.0 '1.0' '4.0' 120.0 466.0 '2.0' '0.0' 152.0 '1.0' 1.0 '2.0' '4.0'\n",
      "  '6.0']\n",
      " [58.0 '0.0' '3.0' 120.0 340.0 '0.0' '0.0' 172.0 '0.0' 0.0 '1.0' '0.0'\n",
      "  '3.0']]\n",
      "DEBUG:xai-privacy:Sample 4: Counterfactuals \n",
      " [[58.0 '1.0' '4.0' 100.0 213.0 '0.0' '1.0' 110.0 '0.0' 0.0 '4.0' '4.0'\n",
      "  '8.0']\n",
      " [51.0 '1.0' '3.0' 100.0 222.0 '0.0' '0.0' 143.0 '1.0' 1.2 '2.0' '0.0'\n",
      "  '3.0']\n",
      " [54.0 '1.0' '4.0' 110.0 206.0 '0.0' '2.0' 108.0 '1.0' 0.0 '2.0' '1.0'\n",
      "  '3.0']\n",
      " [55.0 '1.0' '4.0' 122.0 223.0 '1.0' '1.0' 100.0 '0.0' 0.0 '4.0' '4.0'\n",
      "  '6.0']]\n",
      "DEBUG:xai-privacy:Sample 5: Counterfactuals \n",
      " [[50.0 '0.0' '3.0' 140.0 288.0 '0.0' '0.0' 140.0 '1.0' 0.0 '4.0' '4.0'\n",
      "  '7.0']\n",
      " [53.0 '0.0' '3.0' 120.0 274.0 '0.0' '0.0' 130.0 '0.0' 0.0 '4.0' '4.0'\n",
      "  '8.0']\n",
      " [46.0 '1.0' '4.0' 180.0 280.0 '0.0' '1.0' 120.0 '0.0' 0.0 '4.0' '4.0'\n",
      "  '8.0']\n",
      " [42.0 '1.0' '2.0' 150.0 268.0 '0.0' '0.0' 136.0 '0.0' 0.0 '4.0' '4.0'\n",
      "  '8.0']]\n",
      "DEBUG:xai-privacy:Sample 6: Counterfactuals \n",
      " [[61.0 '0.0' '4.0' 130.0 330.0 '0.0' '2.0' 169.0 '0.0' 0.0 '1.0' '0.0'\n",
      "  '3.0']\n",
      " [58.0 '0.0' '2.0' 136.0 319.0 '1.0' '2.0' 152.0 '0.0' 0.0 '1.0' '2.0'\n",
      "  '3.0']\n",
      " [62.0 '0.0' '4.0' 140.0 268.0 '0.0' '2.0' 160.0 '0.0' 3.6 '3.0' '2.0'\n",
      "  '3.0']\n",
      " [60.0 '0.0' '4.0' 158.0 305.0 '0.0' '2.0' 161.0 '0.0' 0.0 '1.0' '0.0'\n",
      "  '3.0']]\n",
      "DEBUG:xai-privacy:Sample 7: Counterfactuals \n",
      " [[40.0 '1.0' '4.0' 120.0 466.0 '2.0' '0.0' 152.0 '1.0' 1.0 '2.0' '4.0'\n",
      "  '6.0']\n",
      " [44.0 '1.0' '4.0' 135.0 491.0 '0.0' '0.0' 135.0 '0.0' 0.0 '4.0' '4.0'\n",
      "  '8.0']\n",
      " [32.0 '1.0' '4.0' 118.0 529.0 '0.0' '0.0' 130.0 '0.0' 0.0 '4.0' '4.0'\n",
      "  '8.0']\n",
      " [57.0 '0.0' '4.0' 120.0 354.0 '0.0' '0.0' 163.0 '1.0' 0.6 '1.0' '0.0'\n",
      "  '3.0']]\n",
      "DEBUG:xai-privacy:Sample 8: Counterfactuals \n",
      " [[40.0 '1.0' '4.0' 120.0 466.0 '2.0' '0.0' 152.0 '1.0' 1.0 '2.0' '4.0'\n",
      "  '6.0']\n",
      " [67.0 '0.0' '3.0' 115.0 564.0 '0.0' '2.0' 160.0 '0.0' 1.6 '2.0' '0.0'\n",
      "  '7.0']\n",
      " [32.0 '1.0' '4.0' 118.0 529.0 '0.0' '0.0' 130.0 '0.0' 0.0 '4.0' '4.0'\n",
      "  '8.0']\n",
      " [57.0 '0.0' '4.0' 120.0 354.0 '0.0' '0.0' 163.0 '1.0' 0.6 '1.0' '0.0'\n",
      "  '3.0']]\n",
      "DEBUG:xai-privacy:Sample 9: Counterfactuals \n",
      " [[62.0 '0.0' '4.0' 138.0 294.0 '1.0' '0.0' 106.0 '0.0' 1.9 '2.0' '3.0'\n",
      "  '3.0']\n",
      " [61.0 '0.0' '2.0' 140.0 298.0 '1.0' '0.0' 120.0 '1.0' 0.0 '4.0' '4.0'\n",
      "  '7.0']\n",
      " [48.0 '1.0' '4.0' 160.0 329.0 '0.0' '0.0' 92.0 '1.0' 1.5 '2.0' '4.0'\n",
      "  '8.0']\n",
      " [57.0 '1.0' '4.0' 165.0 289.0 '1.0' '2.0' 124.0 '0.0' 1.0 '2.0' '3.0'\n",
      "  '7.0']]\n",
      "DEBUG:xai-privacy:Sample 10: Counterfactuals \n",
      " [[32.0 '1.0' '4.0' 118.0 529.0 '0.0' '0.0' 130.0 '0.0' 0.0 '4.0' '4.0'\n",
      "  '8.0']\n",
      " [44.0 '1.0' '4.0' 135.0 491.0 '0.0' '0.0' 135.0 '0.0' 0.0 '4.0' '4.0'\n",
      "  '8.0']\n",
      " [67.0 '0.0' '3.0' 115.0 564.0 '0.0' '2.0' 160.0 '0.0' 1.6 '2.0' '0.0'\n",
      "  '7.0']\n",
      " [62.0 '0.0' '4.0' 140.0 394.0 '0.0' '2.0' 157.0 '0.0' 1.2 '2.0' '0.0'\n",
      "  '3.0']]\n",
      "DEBUG:xai-privacy:Sample 11: Counterfactuals \n",
      " [[68.0 '0.0' '3.0' 120.0 211.0 '0.0' '2.0' 115.0 '0.0' 1.5 '2.0' '0.0'\n",
      "  '3.0']\n",
      " [55.0 '0.0' '4.0' 128.0 205.0 '0.0' '1.0' 130.0 '1.0' 2.0 '2.0' '1.0'\n",
      "  '7.0']\n",
      " [57.0 '1.0' '4.0' 110.0 201.0 '0.0' '0.0' 126.0 '1.0' 1.5 '2.0' '0.0'\n",
      "  '6.0']\n",
      " [63.0 '0.0' '4.0' 124.0 197.0 '0.0' '0.0' 136.0 '1.0' 0.0 '2.0' '0.0'\n",
      "  '3.0']]\n",
      "DEBUG:xai-privacy:Extracted sample: [ 32.   1.   4. 118. 529.   0.   0. 130.   0.   0.   4.   4.   8.]\n",
      "DEBUG:xai-privacy:Appears in training data at indices [4]\n",
      "DEBUG:xai-privacy:Extracted sample: [ 39.   1.   3. 120. 339.   0.   0. 170.   0.   0.   4.   4.   8.]\n",
      "DEBUG:xai-privacy:Appears in training data at indices [32]\n",
      "DEBUG:xai-privacy:Extracted sample: [ 40.   1.   4. 120. 466.   2.   0. 152.   1.   1.   2.   4.   6.]\n",
      "DEBUG:xai-privacy:Appears in training data at indices [43]\n",
      "DEBUG:xai-privacy:Extracted sample: [ 42.   1.   2. 150. 268.   0.   0. 136.   0.   0.   4.   4.   8.]\n",
      "DEBUG:xai-privacy:Appears in training data at indices [64]\n",
      "DEBUG:xai-privacy:Extracted sample: [ 43.    1.    3.  130.  315.    0.    0.  162.    0.    1.9   1.    1.\n",
      "   3. ]\n",
      "DEBUG:xai-privacy:Appears in training data at indices [77]\n",
      "DEBUG:xai-privacy:Extracted sample: [ 44.   1.   4. 135. 491.   0.   0. 135.   0.   0.   4.   4.   8.]\n",
      "DEBUG:xai-privacy:Appears in training data at indices [93]\n",
      "DEBUG:xai-privacy:Extracted sample: [ 46.   1.   4. 180. 280.   0.   1. 120.   0.   0.   4.   4.   8.]\n",
      "DEBUG:xai-privacy:Appears in training data at indices [120]\n",
      "DEBUG:xai-privacy:Extracted sample: [ 48.    1.    4.  160.  329.    0.    0.   92.    1.    1.5   2.    4.\n",
      "   8. ]\n",
      "DEBUG:xai-privacy:Appears in training data at indices [145]\n",
      "DEBUG:xai-privacy:Extracted sample: [ 50.   0.   3. 140. 288.   0.   0. 140.   1.   0.   4.   4.   7.]\n",
      "DEBUG:xai-privacy:Appears in training data at indices [159]\n",
      "DEBUG:xai-privacy:Extracted sample: [ 50.   1.   2. 170. 209.   0.   1. 116.   0.   0.   4.   4.   8.]\n",
      "DEBUG:xai-privacy:Appears in training data at indices [163]\n",
      "DEBUG:xai-privacy:Extracted sample: [ 50.   1.   4. 150. 215.   0.   0. 140.   1.   0.   4.   4.   8.]\n",
      "DEBUG:xai-privacy:Appears in training data at indices [171]\n",
      "DEBUG:xai-privacy:Extracted sample: [ 51.    1.    3.  100.  222.    0.    0.  143.    1.    1.2   2.    0.\n",
      "   3. ]\n",
      "DEBUG:xai-privacy:Appears in training data at indices [178]\n",
      "DEBUG:xai-privacy:Extracted sample: [ 52.    1.    1.  152.  298.    1.    0.  178.    0.    1.2   2.    0.\n",
      "   7. ]\n",
      "DEBUG:xai-privacy:Appears in training data at indices [187]\n",
      "DEBUG:xai-privacy:Extracted sample: [ 53.   0.   3. 120. 274.   0.   0. 130.   0.   0.   4.   4.   8.]\n",
      "DEBUG:xai-privacy:Appears in training data at indices [202]\n",
      "DEBUG:xai-privacy:Extracted sample: [ 53.    1.    4.  140.  203.    1.    2.  155.    1.    3.1   3.    0.\n",
      "   7. ]\n",
      "DEBUG:xai-privacy:Appears in training data at indices [213]\n",
      "DEBUG:xai-privacy:Extracted sample: [ 54.   0.   4. 127. 333.   1.   1. 154.   0.   0.   4.   4.   8.]\n",
      "DEBUG:xai-privacy:Appears in training data at indices [224]\n",
      "DEBUG:xai-privacy:Extracted sample: [ 54.   1.   4. 110. 206.   0.   2. 108.   1.   0.   2.   1.   3.]\n",
      "DEBUG:xai-privacy:Appears in training data at indices [233]\n",
      "DEBUG:xai-privacy:Extracted sample: [ 55.   0.   4. 128. 205.   0.   1. 130.   1.   2.   2.   1.   7.]\n",
      "DEBUG:xai-privacy:Appears in training data at indices [247]\n",
      "DEBUG:xai-privacy:Extracted sample: [ 55.   1.   4. 122. 223.   1.   1. 100.   0.   0.   4.   4.   6.]\n",
      "DEBUG:xai-privacy:Appears in training data at indices [259]\n",
      "DEBUG:xai-privacy:Extracted sample: [ 57.    0.    4.  120.  354.    0.    0.  163.    1.    0.6   1.    0.\n",
      "   3. ]\n",
      "DEBUG:xai-privacy:Appears in training data at indices [285]\n",
      "DEBUG:xai-privacy:Extracted sample: [ 57.    1.    4.  110.  201.    0.    0.  126.    1.    1.5   2.    0.\n",
      "   6. ]\n",
      "DEBUG:xai-privacy:Appears in training data at indices [296]\n",
      "DEBUG:xai-privacy:Extracted sample: [ 57.   1.   4. 165. 289.   1.   2. 124.   0.   1.   2.   3.   7.]\n",
      "DEBUG:xai-privacy:Appears in training data at indices [308]\n",
      "DEBUG:xai-privacy:Extracted sample: [ 58.   0.   2. 136. 319.   1.   2. 152.   0.   0.   1.   2.   3.]\n",
      "DEBUG:xai-privacy:Appears in training data at indices [310]\n",
      "DEBUG:xai-privacy:Extracted sample: [ 58.   0.   3. 120. 340.   0.   0. 172.   0.   0.   1.   0.   3.]\n",
      "DEBUG:xai-privacy:Appears in training data at indices [312]\n",
      "DEBUG:xai-privacy:Extracted sample: [ 58.   1.   4. 100. 213.   0.   1. 110.   0.   0.   4.   4.   8.]\n",
      "DEBUG:xai-privacy:Appears in training data at indices [323]\n",
      "DEBUG:xai-privacy:Extracted sample: [ 60.   0.   4. 158. 305.   0.   2. 161.   0.   0.   1.   0.   3.]\n",
      "DEBUG:xai-privacy:Appears in training data at indices [354]\n",
      "DEBUG:xai-privacy:Extracted sample: [ 60.    1.    4.  140.  293.    0.    2.  170.    0.    1.2   2.    2.\n",
      "   7. ]\n",
      "DEBUG:xai-privacy:Appears in training data at indices [367]\n",
      "DEBUG:xai-privacy:Extracted sample: [ 61.   0.   2. 140. 298.   1.   0. 120.   1.   0.   4.   4.   7.]\n",
      "DEBUG:xai-privacy:Appears in training data at indices [371]\n",
      "DEBUG:xai-privacy:Extracted sample: [ 61.   0.   4. 130. 330.   0.   2. 169.   0.   0.   1.   0.   3.]\n",
      "DEBUG:xai-privacy:Appears in training data at indices [372]\n",
      "DEBUG:xai-privacy:Extracted sample: [ 62.    0.    4.  138.  294.    1.    0.  106.    0.    1.9   2.    3.\n",
      "   3. ]\n",
      "DEBUG:xai-privacy:Appears in training data at indices [386]\n",
      "DEBUG:xai-privacy:Extracted sample: [ 62.    0.    4.  140.  268.    0.    2.  160.    0.    3.6   3.    2.\n",
      "   3. ]\n",
      "DEBUG:xai-privacy:Appears in training data at indices [387]\n",
      "DEBUG:xai-privacy:Extracted sample: [ 62.    0.    4.  140.  394.    0.    2.  157.    0.    1.2   2.    0.\n",
      "   3. ]\n",
      "DEBUG:xai-privacy:Appears in training data at indices [388]\n",
      "DEBUG:xai-privacy:Extracted sample: [ 63.   0.   4. 124. 197.   0.   0. 136.   1.   0.   2.   0.   3.]\n",
      "DEBUG:xai-privacy:Appears in training data at indices [403]\n",
      "DEBUG:xai-privacy:Extracted sample: [ 65.    1.    1.  138.  282.    1.    2.  174.    0.    1.4   2.    1.\n",
      "   3. ]\n",
      "DEBUG:xai-privacy:Appears in training data at indices [428]\n",
      "DEBUG:xai-privacy:Extracted sample: [ 67.    0.    3.  115.  564.    0.    2.  160.    0.    1.6   2.    0.\n",
      "   7. ]\n",
      "DEBUG:xai-privacy:Appears in training data at indices [445]\n",
      "DEBUG:xai-privacy:Extracted sample: [ 67.   0.   3. 152. 277.   0.   0. 172.   0.   0.   1.   1.   3.]\n",
      "DEBUG:xai-privacy:Appears in training data at indices [446]\n",
      "DEBUG:xai-privacy:Extracted sample: [ 68.    0.    3.  120.  211.    0.    2.  115.    0.    1.5   2.    0.\n",
      "   3. ]\n",
      "DEBUG:xai-privacy:Appears in training data at indices [457]\n",
      "DEBUG:xai-privacy:Extracted sample: [6.90e+01 1.00e+00 1.00e+00 1.60e+02 2.34e+02 1.00e+00 2.00e+00 1.31e+02\n",
      " 0.00e+00 1.00e-01 2.00e+00 1.00e+00 3.00e+00]\n",
      "DEBUG:xai-privacy:Appears in training data at indices [463]\n"
     ]
    },
    {
     "name": "stdout",
     "output_type": "stream",
     "text": [
      "Total time: 8.52s (training model: 0.07s, training explainer: 0.02s, experiment: 8.43s)\n",
      "Number of extracted samples: 38\n",
      "Number of accurate extracted samples: 38\n",
      "Precision: 1.0, recall: 3.1666666666666665\n"
     ]
    }
   ],
   "source": [
    "logger.setLevel(logging.DEBUG)\n",
    "logging.root.setLevel(logging.ERROR)\n",
    "\n",
    "EXP = CounterfactualTDE(data_heart, numeric_features_heart, outcome_name_heart, random_state=0)\n",
    "EXP.training_data_extraction_experiment(num_queries=12, model=es.RandomForestClassifier(random_state=0), model_access=False)\n",
    "\n",
    "logger.setLevel(logging.INFO)"
   ]
  },
  {
   "cell_type": "markdown",
   "id": "8f4e3f0e",
   "metadata": {},
   "source": [
    "The proof of concept should show that each extracted sample is an actual training sample (precision of 100%). Recall is above 100% because this method can extract multiple samples per query (multiple counterfactuals are returned). Recall will reach a reasonable value if the experiment is executed for the full training data. In this case, the attack cannot return more samples than the number of queries because the attack is limited by the number of training samples."
   ]
  },
  {
   "cell_type": "markdown",
   "id": "8ff16a3c",
   "metadata": {},
   "source": [
    "Now we begin executing the actual experiment. We begin by defining the table that will hold the results for all our different experiment variations. Then we execute all variations of the experiment for this dataset. We vary the model between a decision tree, a random forest and a neural network. Each model uses the default configuration of scikit-learn."
   ]
  },
  {
   "cell_type": "code",
   "execution_count": 8,
   "id": "10674b35",
   "metadata": {
    "execution": {
     "iopub.execute_input": "2022-10-29T17:40:58.846445Z",
     "iopub.status.busy": "2022-10-29T17:40:58.845536Z",
     "iopub.status.idle": "2022-10-29T17:40:58.868857Z",
     "shell.execute_reply": "2022-10-29T17:40:58.860831Z"
    },
    "scrolled": true,
    "tags": []
   },
   "outputs": [],
   "source": []
  },
  {
   "cell_type": "code",
   "execution_count": 9,
   "id": "1c541b0b-7348-4aa0-95c8-4c9fafe3f3c5",
   "metadata": {
    "execution": {
     "iopub.execute_input": "2022-10-29T17:40:58.886860Z",
     "iopub.status.busy": "2022-10-29T17:40:58.884781Z",
     "iopub.status.idle": "2022-10-29T17:40:58.905823Z",
     "shell.execute_reply": "2022-10-29T17:40:58.902303Z"
    }
   },
   "outputs": [],
   "source": [
    "dataset_dicts = [data_heart_dict, data_heart_num_dict, data_heart_cat_dict, data_census_dict, data_census_num_dict, data_census_cat_dict]\n",
    "\n",
    "dt_dict = {'name': 'decision tree', 'model': DecisionTreeClassifier}\n",
    "rf_dict = {'name': 'random forest', 'model': es.RandomForestClassifier}\n",
    "nn_dict = {'name': 'neural network', 'model': MLPClassifier}\n",
    "\n",
    "model_dicts = [dt_dict, rf_dict, nn_dict]\n",
    "\n",
    "# We set the number of extractions to the length of the dataset\n",
    "num_queries_dict = { 'heart': len(data_heart), 'heart numeric': len(data_heart_num), 'heart categorical': len(data_heart_cat), 'census': len(data_census), 'census numeric': len(data_census_num), 'census categorical': len(data_census_cat)}"
   ]
  },
  {
   "cell_type": "code",
   "execution_count": 10,
   "id": "61f88514-2273-4bba-b3bd-d2558903dd8c",
   "metadata": {
    "execution": {
     "iopub.execute_input": "2022-10-29T17:40:58.926076Z",
     "iopub.status.busy": "2022-10-29T17:40:58.922427Z",
     "iopub.status.idle": "2022-10-29T17:40:58.939842Z",
     "shell.execute_reply": "2022-10-29T17:40:58.936483Z"
    }
   },
   "outputs": [],
   "source": [
    "# remove pandas warnings\n",
    "warnings.simplefilter(action='ignore', category=pd.errors.PerformanceWarning)"
   ]
  },
  {
   "cell_type": "code",
   "execution_count": null,
   "id": "fd26f0ba-1b5c-456e-9c5b-eff254817877",
   "metadata": {
    "execution": {
     "iopub.execute_input": "2022-10-29T17:40:58.957826Z",
     "iopub.status.busy": "2022-10-29T17:40:58.956274Z",
     "iopub.status.idle": "2022-10-29T20:54:34.073601Z",
     "shell.execute_reply": "2022-10-29T20:54:34.068627Z"
    },
    "scrolled": false,
    "pycharm": {
     "is_executing": true
    }
   },
   "outputs": [
    {
     "name": "stdout",
     "output_type": "stream",
     "text": [
      "dataset: heart, model: decision tree (repetition 0)\n",
      "Total time: 36.60s (training model: 0.02s, training explainer: 0.02s, experiment: 36.57s)\n",
      "Number of extracted samples: 355\n",
      "Number of accurate extracted samples: 355\n",
      "Precision: 1.0, recall: 0.7442348008385744\n",
      "dataset: heart, model: decision tree (repetition 1)\n",
      "Total time: 39.92s (training model: 0.01s, training explainer: 0.00s, experiment: 39.91s)\n",
      "Number of extracted samples: 356\n",
      "Number of accurate extracted samples: 356\n",
      "Precision: 1.0, recall: 0.7463312368972747\n",
      "dataset: heart, model: decision tree (repetition 2)\n",
      "Total time: 38.91s (training model: 0.00s, training explainer: 0.02s, experiment: 38.89s)\n",
      "Number of extracted samples: 341\n",
      "Number of accurate extracted samples: 341\n",
      "Precision: 1.0, recall: 0.7148846960167715\n",
      "dataset: heart, model: decision tree (repetition 3)\n",
      "Total time: 38.71s (training model: 0.01s, training explainer: 0.02s, experiment: 38.69s)\n",
      "Number of extracted samples: 344\n",
      "Number of accurate extracted samples: 344\n",
      "Precision: 1.0, recall: 0.7211740041928721\n",
      "dataset: heart, model: decision tree (repetition 4)\n",
      "Total time: 37.77s (training model: 0.00s, training explainer: 0.01s, experiment: 37.76s)\n",
      "Number of extracted samples: 330\n",
      "Number of accurate extracted samples: 330\n",
      "Precision: 1.0, recall: 0.6918238993710691\n",
      "dataset: heart, model: decision tree (repetition 5)\n",
      "Total time: 36.97s (training model: 0.02s, training explainer: 0.02s, experiment: 36.93s)\n",
      "Number of extracted samples: 346\n",
      "Number of accurate extracted samples: 346\n",
      "Precision: 1.0, recall: 0.7253668763102725\n",
      "dataset: heart, model: decision tree (repetition 6)\n",
      "Total time: 38.59s (training model: 0.00s, training explainer: 0.02s, experiment: 38.58s)\n",
      "Number of extracted samples: 354\n",
      "Number of accurate extracted samples: 354\n",
      "Precision: 1.0, recall: 0.7421383647798742\n",
      "dataset: heart, model: decision tree (repetition 7)\n",
      "Total time: 36.81s (training model: 0.02s, training explainer: 0.00s, experiment: 36.80s)\n",
      "Number of extracted samples: 345\n",
      "Number of accurate extracted samples: 345\n",
      "Precision: 1.0, recall: 0.7232704402515723\n",
      "dataset: heart, model: decision tree (repetition 8)\n",
      "Total time: 38.49s (training model: 0.02s, training explainer: 0.01s, experiment: 38.46s)\n",
      "Number of extracted samples: 350\n",
      "Number of accurate extracted samples: 350\n",
      "Precision: 1.0, recall: 0.7337526205450734\n",
      "dataset: heart, model: decision tree (repetition 9)\n",
      "Total time: 39.11s (training model: 0.01s, training explainer: 0.02s, experiment: 39.07s)\n",
      "Number of extracted samples: 347\n",
      "Number of accurate extracted samples: 347\n",
      "Precision: 1.0, recall: 0.7274633123689728\n",
      "dataset: heart, model: random forest (repetition 0)\n",
      "Total time: 38.52s (training model: 0.05s, training explainer: 0.02s, experiment: 38.46s)\n",
      "Number of extracted samples: 310\n",
      "Number of accurate extracted samples: 310\n",
      "Precision: 1.0, recall: 0.649895178197065\n",
      "dataset: heart, model: random forest (repetition 1)\n",
      "Total time: 39.80s (training model: 0.04s, training explainer: 0.02s, experiment: 39.75s)\n",
      "Number of extracted samples: 346\n",
      "Number of accurate extracted samples: 346\n",
      "Precision: 1.0, recall: 0.7253668763102725\n",
      "dataset: heart, model: random forest (repetition 2)\n",
      "Total time: 38.39s (training model: 0.04s, training explainer: 0.02s, experiment: 38.33s)\n",
      "Number of extracted samples: 321\n",
      "Number of accurate extracted samples: 321\n",
      "Precision: 1.0, recall: 0.6729559748427673\n",
      "dataset: heart, model: random forest (repetition 3)\n",
      "Total time: 37.29s (training model: 0.05s, training explainer: 0.02s, experiment: 37.23s)\n",
      "Number of extracted samples: 326\n",
      "Number of accurate extracted samples: 326\n",
      "Precision: 1.0, recall: 0.6834381551362684\n",
      "dataset: heart, model: random forest (repetition 4)\n",
      "Total time: 42.81s (training model: 0.05s, training explainer: 0.02s, experiment: 42.75s)\n",
      "Number of extracted samples: 339\n",
      "Number of accurate extracted samples: 339\n",
      "Precision: 1.0, recall: 0.710691823899371\n",
      "dataset: heart, model: random forest (repetition 5)\n",
      "Total time: 38.31s (training model: 0.04s, training explainer: 0.00s, experiment: 38.27s)\n",
      "Number of extracted samples: 309\n",
      "Number of accurate extracted samples: 309\n",
      "Precision: 1.0, recall: 0.6477987421383647\n",
      "dataset: heart, model: random forest (repetition 6)\n",
      "Total time: 39.40s (training model: 0.03s, training explainer: 0.02s, experiment: 39.36s)\n",
      "Number of extracted samples: 325\n",
      "Number of accurate extracted samples: 325\n",
      "Precision: 1.0, recall: 0.6813417190775681\n",
      "dataset: heart, model: random forest (repetition 7)\n",
      "Total time: 39.97s (training model: 0.03s, training explainer: 0.02s, experiment: 39.93s)\n",
      "Number of extracted samples: 321\n",
      "Number of accurate extracted samples: 321\n",
      "Precision: 1.0, recall: 0.6729559748427673\n",
      "dataset: heart, model: random forest (repetition 8)\n",
      "Total time: 39.24s (training model: 0.04s, training explainer: 0.02s, experiment: 39.19s)\n",
      "Number of extracted samples: 327\n",
      "Number of accurate extracted samples: 327\n",
      "Precision: 1.0, recall: 0.6855345911949685\n",
      "dataset: heart, model: random forest (repetition 9)\n",
      "Total time: 37.20s (training model: 0.04s, training explainer: 0.02s, experiment: 37.14s)\n",
      "Number of extracted samples: 324\n",
      "Number of accurate extracted samples: 324\n",
      "Precision: 1.0, recall: 0.6792452830188679\n",
      "dataset: heart, model: neural network (repetition 0)\n"
     ]
    },
    {
     "name": "stderr",
     "output_type": "stream",
     "text": [
      "c:\\users\\ml_ks\\venvs\\xai_new\\lib\\site-packages\\sklearn\\neural_network\\_multilayer_perceptron.py:702: ConvergenceWarning: Stochastic Optimizer: Maximum iterations (200) reached and the optimization hasn't converged yet.\n",
      "  warnings.warn(\n"
     ]
    },
    {
     "name": "stdout",
     "output_type": "stream",
     "text": [
      "Total time: 37.96s (training model: 1.06s, training explainer: 0.02s, experiment: 36.88s)\n",
      "Number of extracted samples: 311\n",
      "Number of accurate extracted samples: 311\n",
      "Precision: 1.0, recall: 0.6519916142557652\n",
      "dataset: heart, model: neural network (repetition 1)\n"
     ]
    },
    {
     "name": "stderr",
     "output_type": "stream",
     "text": [
      "c:\\users\\ml_ks\\venvs\\xai_new\\lib\\site-packages\\sklearn\\neural_network\\_multilayer_perceptron.py:702: ConvergenceWarning: Stochastic Optimizer: Maximum iterations (200) reached and the optimization hasn't converged yet.\n",
      "  warnings.warn(\n"
     ]
    },
    {
     "name": "stdout",
     "output_type": "stream",
     "text": [
      "Total time: 39.87s (training model: 1.02s, training explainer: 0.02s, experiment: 38.83s)\n",
      "Number of extracted samples: 293\n",
      "Number of accurate extracted samples: 293\n",
      "Precision: 1.0, recall: 0.6142557651991615\n",
      "dataset: heart, model: neural network (repetition 2)\n"
     ]
    },
    {
     "name": "stderr",
     "output_type": "stream",
     "text": [
      "c:\\users\\ml_ks\\venvs\\xai_new\\lib\\site-packages\\sklearn\\neural_network\\_multilayer_perceptron.py:702: ConvergenceWarning: Stochastic Optimizer: Maximum iterations (200) reached and the optimization hasn't converged yet.\n",
      "  warnings.warn(\n"
     ]
    },
    {
     "name": "stdout",
     "output_type": "stream",
     "text": [
      "Total time: 40.21s (training model: 1.12s, training explainer: 0.00s, experiment: 39.09s)\n",
      "Number of extracted samples: 308\n",
      "Number of accurate extracted samples: 308\n",
      "Precision: 1.0, recall: 0.6457023060796646\n",
      "dataset: heart, model: neural network (repetition 3)\n"
     ]
    },
    {
     "name": "stderr",
     "output_type": "stream",
     "text": [
      "c:\\users\\ml_ks\\venvs\\xai_new\\lib\\site-packages\\sklearn\\neural_network\\_multilayer_perceptron.py:702: ConvergenceWarning: Stochastic Optimizer: Maximum iterations (200) reached and the optimization hasn't converged yet.\n",
      "  warnings.warn(\n"
     ]
    },
    {
     "name": "stdout",
     "output_type": "stream",
     "text": [
      "Total time: 39.43s (training model: 1.19s, training explainer: 0.01s, experiment: 38.23s)\n",
      "Number of extracted samples: 282\n",
      "Number of accurate extracted samples: 282\n",
      "Precision: 1.0, recall: 0.5911949685534591\n",
      "dataset: heart, model: neural network (repetition 4)\n"
     ]
    },
    {
     "name": "stderr",
     "output_type": "stream",
     "text": [
      "c:\\users\\ml_ks\\venvs\\xai_new\\lib\\site-packages\\sklearn\\neural_network\\_multilayer_perceptron.py:702: ConvergenceWarning: Stochastic Optimizer: Maximum iterations (200) reached and the optimization hasn't converged yet.\n",
      "  warnings.warn(\n"
     ]
    },
    {
     "name": "stdout",
     "output_type": "stream",
     "text": [
      "Total time: 39.34s (training model: 1.03s, training explainer: 0.00s, experiment: 38.31s)\n",
      "Number of extracted samples: 316\n",
      "Number of accurate extracted samples: 316\n",
      "Precision: 1.0, recall: 0.6624737945492662\n",
      "dataset: heart, model: neural network (repetition 5)\n"
     ]
    },
    {
     "name": "stderr",
     "output_type": "stream",
     "text": [
      "c:\\users\\ml_ks\\venvs\\xai_new\\lib\\site-packages\\sklearn\\neural_network\\_multilayer_perceptron.py:702: ConvergenceWarning: Stochastic Optimizer: Maximum iterations (200) reached and the optimization hasn't converged yet.\n",
      "  warnings.warn(\n"
     ]
    },
    {
     "name": "stdout",
     "output_type": "stream",
     "text": [
      "Total time: 43.84s (training model: 1.00s, training explainer: 0.01s, experiment: 42.83s)\n",
      "Number of extracted samples: 332\n",
      "Number of accurate extracted samples: 332\n",
      "Precision: 1.0, recall: 0.6960167714884696\n",
      "dataset: heart, model: neural network (repetition 6)\n"
     ]
    },
    {
     "name": "stderr",
     "output_type": "stream",
     "text": [
      "c:\\users\\ml_ks\\venvs\\xai_new\\lib\\site-packages\\sklearn\\neural_network\\_multilayer_perceptron.py:702: ConvergenceWarning: Stochastic Optimizer: Maximum iterations (200) reached and the optimization hasn't converged yet.\n",
      "  warnings.warn(\n"
     ]
    },
    {
     "name": "stdout",
     "output_type": "stream",
     "text": [
      "Total time: 39.93s (training model: 1.03s, training explainer: 0.00s, experiment: 38.90s)\n",
      "Number of extracted samples: 336\n",
      "Number of accurate extracted samples: 336\n",
      "Precision: 1.0, recall: 0.7044025157232704\n",
      "dataset: heart, model: neural network (repetition 7)\n"
     ]
    },
    {
     "name": "stderr",
     "output_type": "stream",
     "text": [
      "c:\\users\\ml_ks\\venvs\\xai_new\\lib\\site-packages\\sklearn\\neural_network\\_multilayer_perceptron.py:702: ConvergenceWarning: Stochastic Optimizer: Maximum iterations (200) reached and the optimization hasn't converged yet.\n",
      "  warnings.warn(\n"
     ]
    },
    {
     "name": "stdout",
     "output_type": "stream",
     "text": [
      "Total time: 37.91s (training model: 1.05s, training explainer: 0.02s, experiment: 36.84s)\n",
      "Number of extracted samples: 306\n",
      "Number of accurate extracted samples: 306\n",
      "Precision: 1.0, recall: 0.6415094339622641\n",
      "dataset: heart, model: neural network (repetition 8)\n"
     ]
    },
    {
     "name": "stderr",
     "output_type": "stream",
     "text": [
      "c:\\users\\ml_ks\\venvs\\xai_new\\lib\\site-packages\\sklearn\\neural_network\\_multilayer_perceptron.py:702: ConvergenceWarning: Stochastic Optimizer: Maximum iterations (200) reached and the optimization hasn't converged yet.\n",
      "  warnings.warn(\n"
     ]
    },
    {
     "name": "stdout",
     "output_type": "stream",
     "text": [
      "Total time: 37.50s (training model: 1.03s, training explainer: 0.01s, experiment: 36.45s)\n",
      "Number of extracted samples: 318\n",
      "Number of accurate extracted samples: 318\n",
      "Precision: 1.0, recall: 0.6666666666666666\n",
      "dataset: heart, model: neural network (repetition 9)\n"
     ]
    },
    {
     "name": "stderr",
     "output_type": "stream",
     "text": [
      "c:\\users\\ml_ks\\venvs\\xai_new\\lib\\site-packages\\sklearn\\neural_network\\_multilayer_perceptron.py:702: ConvergenceWarning: Stochastic Optimizer: Maximum iterations (200) reached and the optimization hasn't converged yet.\n",
      "  warnings.warn(\n"
     ]
    },
    {
     "name": "stdout",
     "output_type": "stream",
     "text": [
      "Total time: 38.41s (training model: 1.21s, training explainer: 0.01s, experiment: 37.19s)\n",
      "Number of extracted samples: 313\n",
      "Number of accurate extracted samples: 313\n",
      "Precision: 1.0, recall: 0.6561844863731656\n",
      "dataset: heart numeric, model: decision tree (repetition 0)\n",
      "Total time: 18.16s (training model: 0.01s, training explainer: 0.00s, experiment: 18.15s)\n",
      "Number of extracted samples: 340\n",
      "Number of accurate extracted samples: 340\n",
      "Precision: 1.0, recall: 0.7142857142857143\n",
      "dataset: heart numeric, model: decision tree (repetition 1)\n",
      "Total time: 18.34s (training model: 0.01s, training explainer: 0.00s, experiment: 18.33s)\n",
      "Number of extracted samples: 365\n",
      "Number of accurate extracted samples: 365\n",
      "Precision: 1.0, recall: 0.7668067226890757\n",
      "dataset: heart numeric, model: decision tree (repetition 2)\n",
      "Total time: 18.74s (training model: 0.00s, training explainer: 0.00s, experiment: 18.74s)\n",
      "Number of extracted samples: 354\n",
      "Number of accurate extracted samples: 354\n",
      "Precision: 1.0, recall: 0.7436974789915967\n",
      "dataset: heart numeric, model: decision tree (repetition 3)\n",
      "Total time: 18.59s (training model: 0.00s, training explainer: 0.00s, experiment: 18.59s)\n",
      "Number of extracted samples: 358\n",
      "Number of accurate extracted samples: 358\n",
      "Precision: 1.0, recall: 0.7521008403361344\n",
      "dataset: heart numeric, model: decision tree (repetition 4)\n",
      "Total time: 17.80s (training model: 0.00s, training explainer: 0.00s, experiment: 17.80s)\n",
      "Number of extracted samples: 365\n",
      "Number of accurate extracted samples: 365\n",
      "Precision: 1.0, recall: 0.7668067226890757\n",
      "dataset: heart numeric, model: decision tree (repetition 5)\n",
      "Total time: 18.72s (training model: 0.01s, training explainer: 0.00s, experiment: 18.71s)\n",
      "Number of extracted samples: 358\n",
      "Number of accurate extracted samples: 358\n",
      "Precision: 1.0, recall: 0.7521008403361344\n",
      "dataset: heart numeric, model: decision tree (repetition 6)\n",
      "Total time: 17.45s (training model: 0.00s, training explainer: 0.00s, experiment: 17.44s)\n",
      "Number of extracted samples: 326\n",
      "Number of accurate extracted samples: 326\n",
      "Precision: 1.0, recall: 0.6848739495798319\n",
      "dataset: heart numeric, model: decision tree (repetition 7)\n",
      "Total time: 17.70s (training model: 0.00s, training explainer: 0.01s, experiment: 17.69s)\n",
      "Number of extracted samples: 353\n",
      "Number of accurate extracted samples: 353\n",
      "Precision: 1.0, recall: 0.7415966386554622\n",
      "dataset: heart numeric, model: decision tree (repetition 8)\n",
      "Total time: 17.15s (training model: 0.00s, training explainer: 0.00s, experiment: 17.15s)\n",
      "Number of extracted samples: 337\n",
      "Number of accurate extracted samples: 337\n",
      "Precision: 1.0, recall: 0.707983193277311\n",
      "dataset: heart numeric, model: decision tree (repetition 9)\n",
      "Total time: 17.66s (training model: 0.00s, training explainer: 0.00s, experiment: 17.66s)\n",
      "Number of extracted samples: 348\n",
      "Number of accurate extracted samples: 348\n",
      "Precision: 1.0, recall: 0.7310924369747899\n",
      "dataset: heart numeric, model: random forest (repetition 0)\n",
      "Total time: 19.90s (training model: 0.05s, training explainer: 0.06s, experiment: 19.79s)\n",
      "Number of extracted samples: 329\n",
      "Number of accurate extracted samples: 329\n",
      "Precision: 1.0, recall: 0.6911764705882353\n",
      "dataset: heart numeric, model: random forest (repetition 1)\n",
      "Total time: 19.80s (training model: 0.03s, training explainer: 0.00s, experiment: 19.76s)\n",
      "Number of extracted samples: 325\n",
      "Number of accurate extracted samples: 325\n",
      "Precision: 1.0, recall: 0.6827731092436975\n",
      "dataset: heart numeric, model: random forest (repetition 2)\n",
      "Total time: 19.85s (training model: 0.04s, training explainer: 0.01s, experiment: 19.80s)\n",
      "Number of extracted samples: 335\n",
      "Number of accurate extracted samples: 335\n",
      "Precision: 1.0, recall: 0.7037815126050421\n",
      "dataset: heart numeric, model: random forest (repetition 3)\n",
      "Total time: 19.00s (training model: 0.02s, training explainer: 0.02s, experiment: 18.97s)\n",
      "Number of extracted samples: 340\n",
      "Number of accurate extracted samples: 340\n",
      "Precision: 1.0, recall: 0.7142857142857143\n",
      "dataset: heart numeric, model: random forest (repetition 4)\n",
      "Total time: 18.43s (training model: 0.03s, training explainer: 0.01s, experiment: 18.39s)\n",
      "Number of extracted samples: 304\n",
      "Number of accurate extracted samples: 304\n",
      "Precision: 1.0, recall: 0.6386554621848739\n",
      "dataset: heart numeric, model: random forest (repetition 5)\n",
      "Total time: 20.38s (training model: 0.03s, training explainer: 0.00s, experiment: 20.35s)\n",
      "Number of extracted samples: 337\n",
      "Number of accurate extracted samples: 337\n",
      "Precision: 1.0, recall: 0.707983193277311\n",
      "dataset: heart numeric, model: random forest (repetition 6)\n",
      "Total time: 18.23s (training model: 0.02s, training explainer: 0.02s, experiment: 18.20s)\n",
      "Number of extracted samples: 310\n",
      "Number of accurate extracted samples: 310\n",
      "Precision: 1.0, recall: 0.6512605042016807\n",
      "dataset: heart numeric, model: random forest (repetition 7)\n",
      "Total time: 20.18s (training model: 0.03s, training explainer: 0.00s, experiment: 20.14s)\n",
      "Number of extracted samples: 305\n",
      "Number of accurate extracted samples: 305\n",
      "Precision: 1.0, recall: 0.6407563025210085\n",
      "dataset: heart numeric, model: random forest (repetition 8)\n",
      "Total time: 20.19s (training model: 0.03s, training explainer: 0.00s, experiment: 20.16s)\n",
      "Number of extracted samples: 311\n",
      "Number of accurate extracted samples: 311\n",
      "Precision: 1.0, recall: 0.6533613445378151\n",
      "dataset: heart numeric, model: random forest (repetition 9)\n",
      "Total time: 19.87s (training model: 0.02s, training explainer: 0.02s, experiment: 19.83s)\n",
      "Number of extracted samples: 300\n",
      "Number of accurate extracted samples: 300\n",
      "Precision: 1.0, recall: 0.6302521008403361\n",
      "dataset: heart numeric, model: neural network (repetition 0)\n"
     ]
    },
    {
     "name": "stderr",
     "output_type": "stream",
     "text": [
      "c:\\users\\ml_ks\\venvs\\xai_new\\lib\\site-packages\\sklearn\\neural_network\\_multilayer_perceptron.py:702: ConvergenceWarning: Stochastic Optimizer: Maximum iterations (200) reached and the optimization hasn't converged yet.\n",
      "  warnings.warn(\n"
     ]
    },
    {
     "name": "stdout",
     "output_type": "stream",
     "text": [
      "Total time: 18.05s (training model: 0.69s, training explainer: 0.00s, experiment: 17.37s)\n",
      "Number of extracted samples: 324\n",
      "Number of accurate extracted samples: 324\n",
      "Precision: 1.0, recall: 0.680672268907563\n",
      "dataset: heart numeric, model: neural network (repetition 1)\n"
     ]
    },
    {
     "name": "stderr",
     "output_type": "stream",
     "text": [
      "c:\\users\\ml_ks\\venvs\\xai_new\\lib\\site-packages\\sklearn\\neural_network\\_multilayer_perceptron.py:702: ConvergenceWarning: Stochastic Optimizer: Maximum iterations (200) reached and the optimization hasn't converged yet.\n",
      "  warnings.warn(\n"
     ]
    },
    {
     "name": "stdout",
     "output_type": "stream",
     "text": [
      "Total time: 19.36s (training model: 0.70s, training explainer: 0.02s, experiment: 18.65s)\n",
      "Number of extracted samples: 330\n",
      "Number of accurate extracted samples: 330\n",
      "Precision: 1.0, recall: 0.6932773109243697\n",
      "dataset: heart numeric, model: neural network (repetition 2)\n"
     ]
    },
    {
     "name": "stderr",
     "output_type": "stream",
     "text": [
      "c:\\users\\ml_ks\\venvs\\xai_new\\lib\\site-packages\\sklearn\\neural_network\\_multilayer_perceptron.py:702: ConvergenceWarning: Stochastic Optimizer: Maximum iterations (200) reached and the optimization hasn't converged yet.\n",
      "  warnings.warn(\n"
     ]
    },
    {
     "name": "stdout",
     "output_type": "stream",
     "text": [
      "Total time: 17.63s (training model: 0.69s, training explainer: 0.00s, experiment: 16.95s)\n",
      "Number of extracted samples: 330\n",
      "Number of accurate extracted samples: 330\n",
      "Precision: 1.0, recall: 0.6932773109243697\n",
      "dataset: heart numeric, model: neural network (repetition 3)\n"
     ]
    },
    {
     "name": "stderr",
     "output_type": "stream",
     "text": [
      "c:\\users\\ml_ks\\venvs\\xai_new\\lib\\site-packages\\sklearn\\neural_network\\_multilayer_perceptron.py:702: ConvergenceWarning: Stochastic Optimizer: Maximum iterations (200) reached and the optimization hasn't converged yet.\n",
      "  warnings.warn(\n"
     ]
    },
    {
     "name": "stdout",
     "output_type": "stream",
     "text": [
      "Total time: 18.16s (training model: 0.69s, training explainer: 0.00s, experiment: 17.47s)\n",
      "Number of extracted samples: 341\n",
      "Number of accurate extracted samples: 341\n",
      "Precision: 1.0, recall: 0.7163865546218487\n",
      "dataset: heart numeric, model: neural network (repetition 4)\n"
     ]
    },
    {
     "name": "stderr",
     "output_type": "stream",
     "text": [
      "c:\\users\\ml_ks\\venvs\\xai_new\\lib\\site-packages\\sklearn\\neural_network\\_multilayer_perceptron.py:702: ConvergenceWarning: Stochastic Optimizer: Maximum iterations (200) reached and the optimization hasn't converged yet.\n",
      "  warnings.warn(\n"
     ]
    },
    {
     "name": "stdout",
     "output_type": "stream",
     "text": [
      "Total time: 18.31s (training model: 0.70s, training explainer: 0.00s, experiment: 17.61s)\n",
      "Number of extracted samples: 329\n",
      "Number of accurate extracted samples: 329\n",
      "Precision: 1.0, recall: 0.6911764705882353\n",
      "dataset: heart numeric, model: neural network (repetition 5)\n"
     ]
    },
    {
     "name": "stderr",
     "output_type": "stream",
     "text": [
      "c:\\users\\ml_ks\\venvs\\xai_new\\lib\\site-packages\\sklearn\\neural_network\\_multilayer_perceptron.py:702: ConvergenceWarning: Stochastic Optimizer: Maximum iterations (200) reached and the optimization hasn't converged yet.\n",
      "  warnings.warn(\n"
     ]
    },
    {
     "name": "stdout",
     "output_type": "stream",
     "text": [
      "Total time: 17.80s (training model: 0.71s, training explainer: 0.02s, experiment: 17.08s)\n",
      "Number of extracted samples: 352\n",
      "Number of accurate extracted samples: 352\n",
      "Precision: 1.0, recall: 0.7394957983193278\n",
      "dataset: heart numeric, model: neural network (repetition 6)\n"
     ]
    },
    {
     "name": "stderr",
     "output_type": "stream",
     "text": [
      "c:\\users\\ml_ks\\venvs\\xai_new\\lib\\site-packages\\sklearn\\neural_network\\_multilayer_perceptron.py:702: ConvergenceWarning: Stochastic Optimizer: Maximum iterations (200) reached and the optimization hasn't converged yet.\n",
      "  warnings.warn(\n"
     ]
    },
    {
     "name": "stdout",
     "output_type": "stream",
     "text": [
      "Total time: 17.35s (training model: 0.71s, training explainer: 0.00s, experiment: 16.63s)\n",
      "Number of extracted samples: 324\n",
      "Number of accurate extracted samples: 324\n",
      "Precision: 1.0, recall: 0.680672268907563\n",
      "dataset: heart numeric, model: neural network (repetition 7)\n"
     ]
    },
    {
     "name": "stderr",
     "output_type": "stream",
     "text": [
      "c:\\users\\ml_ks\\venvs\\xai_new\\lib\\site-packages\\sklearn\\neural_network\\_multilayer_perceptron.py:702: ConvergenceWarning: Stochastic Optimizer: Maximum iterations (200) reached and the optimization hasn't converged yet.\n",
      "  warnings.warn(\n"
     ]
    },
    {
     "name": "stdout",
     "output_type": "stream",
     "text": [
      "Total time: 17.67s (training model: 0.68s, training explainer: 0.00s, experiment: 16.99s)\n",
      "Number of extracted samples: 320\n",
      "Number of accurate extracted samples: 320\n",
      "Precision: 1.0, recall: 0.6722689075630253\n",
      "dataset: heart numeric, model: neural network (repetition 8)\n"
     ]
    },
    {
     "name": "stderr",
     "output_type": "stream",
     "text": [
      "c:\\users\\ml_ks\\venvs\\xai_new\\lib\\site-packages\\sklearn\\neural_network\\_multilayer_perceptron.py:702: ConvergenceWarning: Stochastic Optimizer: Maximum iterations (200) reached and the optimization hasn't converged yet.\n",
      "  warnings.warn(\n"
     ]
    },
    {
     "name": "stdout",
     "output_type": "stream",
     "text": [
      "Total time: 17.54s (training model: 0.73s, training explainer: 0.00s, experiment: 16.81s)\n",
      "Number of extracted samples: 338\n",
      "Number of accurate extracted samples: 338\n",
      "Precision: 1.0, recall: 0.7100840336134454\n",
      "dataset: heart numeric, model: neural network (repetition 9)\n"
     ]
    },
    {
     "name": "stderr",
     "output_type": "stream",
     "text": [
      "c:\\users\\ml_ks\\venvs\\xai_new\\lib\\site-packages\\sklearn\\neural_network\\_multilayer_perceptron.py:702: ConvergenceWarning: Stochastic Optimizer: Maximum iterations (200) reached and the optimization hasn't converged yet.\n",
      "  warnings.warn(\n"
     ]
    },
    {
     "name": "stdout",
     "output_type": "stream",
     "text": [
      "Total time: 18.08s (training model: 0.69s, training explainer: 0.01s, experiment: 17.39s)\n",
      "Number of extracted samples: 327\n",
      "Number of accurate extracted samples: 327\n",
      "Precision: 1.0, recall: 0.6869747899159664\n",
      "dataset: heart categorical, model: decision tree (repetition 0)\n",
      "Total time: 14.04s (training model: 0.01s, training explainer: 0.03s, experiment: 14.00s)\n",
      "Number of extracted samples: 431\n",
      "Number of accurate extracted samples: 431\n",
      "Precision: 1.0, recall: 0.9035639412997903\n",
      "dataset: heart categorical, model: decision tree (repetition 1)\n",
      "Total time: 13.96s (training model: 0.00s, training explainer: 0.02s, experiment: 13.95s)\n",
      "Number of extracted samples: 425\n",
      "Number of accurate extracted samples: 425\n",
      "Precision: 1.0, recall: 0.8909853249475891\n",
      "dataset: heart categorical, model: decision tree (repetition 2)\n",
      "Total time: 14.01s (training model: 0.01s, training explainer: 0.02s, experiment: 13.98s)\n",
      "Number of extracted samples: 423\n",
      "Number of accurate extracted samples: 423\n",
      "Precision: 1.0, recall: 0.8867924528301887\n",
      "dataset: heart categorical, model: decision tree (repetition 3)\n",
      "Total time: 14.20s (training model: 0.02s, training explainer: 0.02s, experiment: 14.17s)\n",
      "Number of extracted samples: 438\n",
      "Number of accurate extracted samples: 438\n",
      "Precision: 1.0, recall: 0.9182389937106918\n",
      "dataset: heart categorical, model: decision tree (repetition 4)\n",
      "Total time: 13.98s (training model: 0.01s, training explainer: 0.01s, experiment: 13.96s)\n",
      "Number of extracted samples: 436\n",
      "Number of accurate extracted samples: 436\n",
      "Precision: 1.0, recall: 0.9140461215932913\n",
      "dataset: heart categorical, model: decision tree (repetition 5)\n",
      "Total time: 13.95s (training model: 0.00s, training explainer: 0.02s, experiment: 13.94s)\n",
      "Number of extracted samples: 422\n",
      "Number of accurate extracted samples: 422\n",
      "Precision: 1.0, recall: 0.8846960167714885\n",
      "dataset: heart categorical, model: decision tree (repetition 6)\n",
      "Total time: 14.15s (training model: 0.02s, training explainer: 0.02s, experiment: 14.11s)\n",
      "Number of extracted samples: 421\n",
      "Number of accurate extracted samples: 421\n",
      "Precision: 1.0, recall: 0.8825995807127882\n",
      "dataset: heart categorical, model: decision tree (repetition 7)\n",
      "Total time: 14.22s (training model: 0.00s, training explainer: 0.02s, experiment: 14.20s)\n",
      "Number of extracted samples: 429\n",
      "Number of accurate extracted samples: 429\n",
      "Precision: 1.0, recall: 0.89937106918239\n",
      "dataset: heart categorical, model: decision tree (repetition 8)\n",
      "Total time: 14.08s (training model: 0.01s, training explainer: 0.03s, experiment: 14.04s)\n",
      "Number of extracted samples: 428\n",
      "Number of accurate extracted samples: 428\n",
      "Precision: 1.0, recall: 0.8972746331236897\n",
      "dataset: heart categorical, model: decision tree (repetition 9)\n",
      "Total time: 14.05s (training model: 0.01s, training explainer: 0.02s, experiment: 14.02s)\n",
      "Number of extracted samples: 426\n",
      "Number of accurate extracted samples: 426\n",
      "Precision: 1.0, recall: 0.8930817610062893\n",
      "dataset: heart categorical, model: random forest (repetition 0)\n"
     ]
    },
    {
     "name": "stderr",
     "output_type": "stream",
     "text": [
      "c:\\users\\ml_ks\\venvs\\xai_new\\lib\\site-packages\\sklearn\\ensemble\\_forest.py:427: FutureWarning: `max_features='auto'` has been deprecated in 1.1 and will be removed in 1.3. To keep the past behaviour, explicitly set `max_features='sqrt'` or remove this parameter as it is also the default value for RandomForestClassifiers and ExtraTreesClassifiers.\n",
      "  warn(\n"
     ]
    },
    {
     "name": "stdout",
     "output_type": "stream",
     "text": [
      "Total time: 20.75s (training model: 0.19s, training explainer: 0.03s, experiment: 20.53s)\n",
      "Number of extracted samples: 386\n",
      "Number of accurate extracted samples: 386\n",
      "Precision: 1.0, recall: 0.8092243186582809\n",
      "dataset: heart categorical, model: random forest (repetition 1)\n"
     ]
    },
    {
     "name": "stderr",
     "output_type": "stream",
     "text": [
      "c:\\users\\ml_ks\\venvs\\xai_new\\lib\\site-packages\\sklearn\\ensemble\\_forest.py:427: FutureWarning: `max_features='auto'` has been deprecated in 1.1 and will be removed in 1.3. To keep the past behaviour, explicitly set `max_features='sqrt'` or remove this parameter as it is also the default value for RandomForestClassifiers and ExtraTreesClassifiers.\n",
      "  warn(\n"
     ]
    },
    {
     "name": "stdout",
     "output_type": "stream",
     "text": [
      "Total time: 21.00s (training model: 0.17s, training explainer: 0.03s, experiment: 20.79s)\n",
      "Number of extracted samples: 385\n",
      "Number of accurate extracted samples: 385\n",
      "Precision: 1.0, recall: 0.8071278825995807\n",
      "dataset: heart categorical, model: random forest (repetition 2)\n"
     ]
    },
    {
     "name": "stderr",
     "output_type": "stream",
     "text": [
      "c:\\users\\ml_ks\\venvs\\xai_new\\lib\\site-packages\\sklearn\\ensemble\\_forest.py:427: FutureWarning: `max_features='auto'` has been deprecated in 1.1 and will be removed in 1.3. To keep the past behaviour, explicitly set `max_features='sqrt'` or remove this parameter as it is also the default value for RandomForestClassifiers and ExtraTreesClassifiers.\n",
      "  warn(\n"
     ]
    },
    {
     "name": "stdout",
     "output_type": "stream",
     "text": [
      "Total time: 20.91s (training model: 0.18s, training explainer: 0.04s, experiment: 20.69s)\n",
      "Number of extracted samples: 392\n",
      "Number of accurate extracted samples: 392\n",
      "Precision: 1.0, recall: 0.8218029350104822\n",
      "dataset: heart categorical, model: random forest (repetition 3)\n"
     ]
    },
    {
     "name": "stderr",
     "output_type": "stream",
     "text": [
      "c:\\users\\ml_ks\\venvs\\xai_new\\lib\\site-packages\\sklearn\\ensemble\\_forest.py:427: FutureWarning: `max_features='auto'` has been deprecated in 1.1 and will be removed in 1.3. To keep the past behaviour, explicitly set `max_features='sqrt'` or remove this parameter as it is also the default value for RandomForestClassifiers and ExtraTreesClassifiers.\n",
      "  warn(\n"
     ]
    },
    {
     "name": "stdout",
     "output_type": "stream",
     "text": [
      "Total time: 20.75s (training model: 0.17s, training explainer: 0.03s, experiment: 20.55s)\n",
      "Number of extracted samples: 384\n",
      "Number of accurate extracted samples: 384\n",
      "Precision: 1.0, recall: 0.8050314465408805\n",
      "dataset: heart categorical, model: random forest (repetition 4)\n"
     ]
    },
    {
     "name": "stderr",
     "output_type": "stream",
     "text": [
      "c:\\users\\ml_ks\\venvs\\xai_new\\lib\\site-packages\\sklearn\\ensemble\\_forest.py:427: FutureWarning: `max_features='auto'` has been deprecated in 1.1 and will be removed in 1.3. To keep the past behaviour, explicitly set `max_features='sqrt'` or remove this parameter as it is also the default value for RandomForestClassifiers and ExtraTreesClassifiers.\n",
      "  warn(\n"
     ]
    },
    {
     "name": "stdout",
     "output_type": "stream",
     "text": [
      "Total time: 21.00s (training model: 0.19s, training explainer: 0.04s, experiment: 20.78s)\n",
      "Number of extracted samples: 378\n",
      "Number of accurate extracted samples: 378\n",
      "Precision: 1.0, recall: 0.7924528301886793\n",
      "dataset: heart categorical, model: random forest (repetition 5)\n"
     ]
    },
    {
     "name": "stderr",
     "output_type": "stream",
     "text": [
      "c:\\users\\ml_ks\\venvs\\xai_new\\lib\\site-packages\\sklearn\\ensemble\\_forest.py:427: FutureWarning: `max_features='auto'` has been deprecated in 1.1 and will be removed in 1.3. To keep the past behaviour, explicitly set `max_features='sqrt'` or remove this parameter as it is also the default value for RandomForestClassifiers and ExtraTreesClassifiers.\n",
      "  warn(\n"
     ]
    },
    {
     "name": "stdout",
     "output_type": "stream",
     "text": [
      "Total time: 21.05s (training model: 0.20s, training explainer: 0.03s, experiment: 20.82s)\n",
      "Number of extracted samples: 394\n",
      "Number of accurate extracted samples: 394\n",
      "Precision: 1.0, recall: 0.8259958071278826\n",
      "dataset: heart categorical, model: random forest (repetition 6)\n"
     ]
    },
    {
     "name": "stderr",
     "output_type": "stream",
     "text": [
      "c:\\users\\ml_ks\\venvs\\xai_new\\lib\\site-packages\\sklearn\\ensemble\\_forest.py:427: FutureWarning: `max_features='auto'` has been deprecated in 1.1 and will be removed in 1.3. To keep the past behaviour, explicitly set `max_features='sqrt'` or remove this parameter as it is also the default value for RandomForestClassifiers and ExtraTreesClassifiers.\n",
      "  warn(\n"
     ]
    },
    {
     "name": "stdout",
     "output_type": "stream",
     "text": [
      "Total time: 20.86s (training model: 0.19s, training explainer: 0.03s, experiment: 20.64s)\n",
      "Number of extracted samples: 397\n",
      "Number of accurate extracted samples: 397\n",
      "Precision: 1.0, recall: 0.8322851153039832\n",
      "dataset: heart categorical, model: random forest (repetition 7)\n"
     ]
    },
    {
     "name": "stderr",
     "output_type": "stream",
     "text": [
      "c:\\users\\ml_ks\\venvs\\xai_new\\lib\\site-packages\\sklearn\\ensemble\\_forest.py:427: FutureWarning: `max_features='auto'` has been deprecated in 1.1 and will be removed in 1.3. To keep the past behaviour, explicitly set `max_features='sqrt'` or remove this parameter as it is also the default value for RandomForestClassifiers and ExtraTreesClassifiers.\n",
      "  warn(\n"
     ]
    },
    {
     "name": "stdout",
     "output_type": "stream",
     "text": [
      "Total time: 20.99s (training model: 0.22s, training explainer: 0.03s, experiment: 20.74s)\n",
      "Number of extracted samples: 385\n",
      "Number of accurate extracted samples: 385\n",
      "Precision: 1.0, recall: 0.8071278825995807\n",
      "dataset: heart categorical, model: random forest (repetition 8)\n"
     ]
    },
    {
     "name": "stderr",
     "output_type": "stream",
     "text": [
      "c:\\users\\ml_ks\\venvs\\xai_new\\lib\\site-packages\\sklearn\\ensemble\\_forest.py:427: FutureWarning: `max_features='auto'` has been deprecated in 1.1 and will be removed in 1.3. To keep the past behaviour, explicitly set `max_features='sqrt'` or remove this parameter as it is also the default value for RandomForestClassifiers and ExtraTreesClassifiers.\n",
      "  warn(\n"
     ]
    },
    {
     "name": "stdout",
     "output_type": "stream",
     "text": [
      "Total time: 20.93s (training model: 0.17s, training explainer: 0.05s, experiment: 20.72s)\n",
      "Number of extracted samples: 386\n",
      "Number of accurate extracted samples: 386\n",
      "Precision: 1.0, recall: 0.8092243186582809\n",
      "dataset: heart categorical, model: random forest (repetition 9)\n"
     ]
    },
    {
     "name": "stderr",
     "output_type": "stream",
     "text": [
      "c:\\users\\ml_ks\\venvs\\xai_new\\lib\\site-packages\\sklearn\\ensemble\\_forest.py:427: FutureWarning: `max_features='auto'` has been deprecated in 1.1 and will be removed in 1.3. To keep the past behaviour, explicitly set `max_features='sqrt'` or remove this parameter as it is also the default value for RandomForestClassifiers and ExtraTreesClassifiers.\n",
      "  warn(\n"
     ]
    },
    {
     "name": "stdout",
     "output_type": "stream",
     "text": [
      "Total time: 21.56s (training model: 0.24s, training explainer: 0.03s, experiment: 21.29s)\n",
      "Number of extracted samples: 393\n",
      "Number of accurate extracted samples: 393\n",
      "Precision: 1.0, recall: 0.8238993710691824\n",
      "dataset: heart categorical, model: neural network (repetition 0)\n"
     ]
    },
    {
     "name": "stderr",
     "output_type": "stream",
     "text": [
      "c:\\users\\ml_ks\\venvs\\xai_new\\lib\\site-packages\\sklearn\\neural_network\\_multilayer_perceptron.py:702: ConvergenceWarning: Stochastic Optimizer: Maximum iterations (200) reached and the optimization hasn't converged yet.\n",
      "  warnings.warn(\n"
     ]
    },
    {
     "name": "stdout",
     "output_type": "stream",
     "text": [
      "Total time: 15.28s (training model: 1.17s, training explainer: 0.02s, experiment: 14.08s)\n",
      "Number of extracted samples: 379\n",
      "Number of accurate extracted samples: 379\n",
      "Precision: 1.0, recall: 0.7945492662473794\n",
      "dataset: heart categorical, model: neural network (repetition 1)\n"
     ]
    },
    {
     "name": "stderr",
     "output_type": "stream",
     "text": [
      "c:\\users\\ml_ks\\venvs\\xai_new\\lib\\site-packages\\sklearn\\neural_network\\_multilayer_perceptron.py:702: ConvergenceWarning: Stochastic Optimizer: Maximum iterations (200) reached and the optimization hasn't converged yet.\n",
      "  warnings.warn(\n"
     ]
    },
    {
     "name": "stdout",
     "output_type": "stream",
     "text": [
      "Total time: 15.57s (training model: 1.14s, training explainer: 0.02s, experiment: 14.42s)\n",
      "Number of extracted samples: 369\n",
      "Number of accurate extracted samples: 369\n",
      "Precision: 1.0, recall: 0.7735849056603774\n",
      "dataset: heart categorical, model: neural network (repetition 2)\n"
     ]
    },
    {
     "name": "stderr",
     "output_type": "stream",
     "text": [
      "c:\\users\\ml_ks\\venvs\\xai_new\\lib\\site-packages\\sklearn\\neural_network\\_multilayer_perceptron.py:702: ConvergenceWarning: Stochastic Optimizer: Maximum iterations (200) reached and the optimization hasn't converged yet.\n",
      "  warnings.warn(\n"
     ]
    },
    {
     "name": "stdout",
     "output_type": "stream",
     "text": [
      "Total time: 15.58s (training model: 1.11s, training explainer: 0.01s, experiment: 14.46s)\n",
      "Number of extracted samples: 371\n",
      "Number of accurate extracted samples: 371\n",
      "Precision: 1.0, recall: 0.7777777777777778\n",
      "dataset: heart categorical, model: neural network (repetition 3)\n"
     ]
    },
    {
     "name": "stderr",
     "output_type": "stream",
     "text": [
      "c:\\users\\ml_ks\\venvs\\xai_new\\lib\\site-packages\\sklearn\\neural_network\\_multilayer_perceptron.py:702: ConvergenceWarning: Stochastic Optimizer: Maximum iterations (200) reached and the optimization hasn't converged yet.\n",
      "  warnings.warn(\n"
     ]
    },
    {
     "name": "stdout",
     "output_type": "stream",
     "text": [
      "Total time: 22.53s (training model: 5.94s, training explainer: 0.02s, experiment: 16.57s)\n",
      "Number of extracted samples: 358\n",
      "Number of accurate extracted samples: 358\n",
      "Precision: 1.0, recall: 0.750524109014675\n",
      "dataset: heart categorical, model: neural network (repetition 4)\n"
     ]
    },
    {
     "name": "stderr",
     "output_type": "stream",
     "text": [
      "c:\\users\\ml_ks\\venvs\\xai_new\\lib\\site-packages\\sklearn\\neural_network\\_multilayer_perceptron.py:702: ConvergenceWarning: Stochastic Optimizer: Maximum iterations (200) reached and the optimization hasn't converged yet.\n",
      "  warnings.warn(\n"
     ]
    },
    {
     "name": "stdout",
     "output_type": "stream",
     "text": [
      "Total time: 17.65s (training model: 1.20s, training explainer: 0.02s, experiment: 16.43s)\n",
      "Number of extracted samples: 373\n",
      "Number of accurate extracted samples: 373\n",
      "Precision: 1.0, recall: 0.7819706498951782\n",
      "dataset: heart categorical, model: neural network (repetition 5)\n"
     ]
    },
    {
     "name": "stderr",
     "output_type": "stream",
     "text": [
      "c:\\users\\ml_ks\\venvs\\xai_new\\lib\\site-packages\\sklearn\\neural_network\\_multilayer_perceptron.py:702: ConvergenceWarning: Stochastic Optimizer: Maximum iterations (200) reached and the optimization hasn't converged yet.\n",
      "  warnings.warn(\n"
     ]
    },
    {
     "name": "stdout",
     "output_type": "stream",
     "text": [
      "Total time: 16.07s (training model: 1.16s, training explainer: 0.01s, experiment: 14.90s)\n",
      "Number of extracted samples: 381\n",
      "Number of accurate extracted samples: 381\n",
      "Precision: 1.0, recall: 0.7987421383647799\n",
      "dataset: heart categorical, model: neural network (repetition 6)\n"
     ]
    },
    {
     "name": "stderr",
     "output_type": "stream",
     "text": [
      "c:\\users\\ml_ks\\venvs\\xai_new\\lib\\site-packages\\sklearn\\neural_network\\_multilayer_perceptron.py:702: ConvergenceWarning: Stochastic Optimizer: Maximum iterations (200) reached and the optimization hasn't converged yet.\n",
      "  warnings.warn(\n"
     ]
    },
    {
     "name": "stdout",
     "output_type": "stream",
     "text": [
      "Total time: 16.30s (training model: 1.12s, training explainer: 0.02s, experiment: 15.16s)\n",
      "Number of extracted samples: 379\n",
      "Number of accurate extracted samples: 379\n",
      "Precision: 1.0, recall: 0.7945492662473794\n",
      "dataset: heart categorical, model: neural network (repetition 7)\n"
     ]
    },
    {
     "name": "stderr",
     "output_type": "stream",
     "text": [
      "c:\\users\\ml_ks\\venvs\\xai_new\\lib\\site-packages\\sklearn\\neural_network\\_multilayer_perceptron.py:702: ConvergenceWarning: Stochastic Optimizer: Maximum iterations (200) reached and the optimization hasn't converged yet.\n",
      "  warnings.warn(\n"
     ]
    },
    {
     "name": "stdout",
     "output_type": "stream",
     "text": [
      "Total time: 16.69s (training model: 1.19s, training explainer: 0.02s, experiment: 15.48s)\n",
      "Number of extracted samples: 393\n",
      "Number of accurate extracted samples: 393\n",
      "Precision: 1.0, recall: 0.8238993710691824\n",
      "dataset: heart categorical, model: neural network (repetition 8)\n"
     ]
    },
    {
     "name": "stderr",
     "output_type": "stream",
     "text": [
      "c:\\users\\ml_ks\\venvs\\xai_new\\lib\\site-packages\\sklearn\\neural_network\\_multilayer_perceptron.py:702: ConvergenceWarning: Stochastic Optimizer: Maximum iterations (200) reached and the optimization hasn't converged yet.\n",
      "  warnings.warn(\n"
     ]
    },
    {
     "name": "stdout",
     "output_type": "stream",
     "text": [
      "Total time: 16.43s (training model: 1.15s, training explainer: 0.02s, experiment: 15.26s)\n",
      "Number of extracted samples: 382\n",
      "Number of accurate extracted samples: 382\n",
      "Precision: 1.0, recall: 0.80083857442348\n",
      "dataset: heart categorical, model: neural network (repetition 9)\n"
     ]
    },
    {
     "name": "stderr",
     "output_type": "stream",
     "text": [
      "c:\\users\\ml_ks\\venvs\\xai_new\\lib\\site-packages\\sklearn\\neural_network\\_multilayer_perceptron.py:702: ConvergenceWarning: Stochastic Optimizer: Maximum iterations (200) reached and the optimization hasn't converged yet.\n",
      "  warnings.warn(\n"
     ]
    },
    {
     "name": "stdout",
     "output_type": "stream",
     "text": [
      "Total time: 15.89s (training model: 0.98s, training explainer: 0.02s, experiment: 14.90s)\n",
      "Number of extracted samples: 375\n",
      "Number of accurate extracted samples: 375\n",
      "Precision: 1.0, recall: 0.7861635220125787\n",
      "dataset: census, model: decision tree (repetition 0)\n",
      "Total time: 616.89s (training model: 0.40s, training explainer: 0.08s, experiment: 616.41s)\n",
      "Number of extracted samples: 1104\n",
      "Number of accurate extracted samples: 1104\n",
      "Precision: 1.0, recall: 0.07985533453887884\n",
      "dataset: census, model: decision tree (repetition 1)\n",
      "Total time: 607.29s (training model: 0.36s, training explainer: 0.06s, experiment: 606.87s)\n",
      "Number of extracted samples: 1207\n",
      "Number of accurate extracted samples: 1207\n",
      "Precision: 1.0, recall: 0.08730560578661845\n",
      "dataset: census, model: decision tree (repetition 2)\n",
      "Total time: 607.71s (training model: 0.36s, training explainer: 0.06s, experiment: 607.28s)\n",
      "Number of extracted samples: 1168\n",
      "Number of accurate extracted samples: 1168\n",
      "Precision: 1.0, recall: 0.08448462929475588\n",
      "dataset: census, model: decision tree (repetition 3)\n",
      "Total time: 608.77s (training model: 0.36s, training explainer: 0.06s, experiment: 608.35s)\n",
      "Number of extracted samples: 1137\n",
      "Number of accurate extracted samples: 1137\n",
      "Precision: 1.0, recall: 0.08224231464737794\n",
      "dataset: census, model: decision tree (repetition 4)\n",
      "Total time: 607.23s (training model: 0.35s, training explainer: 0.08s, experiment: 606.80s)\n",
      "Number of extracted samples: 1141\n",
      "Number of accurate extracted samples: 1141\n",
      "Precision: 1.0, recall: 0.08253164556962025\n",
      "dataset: census, model: decision tree (repetition 5)\n",
      "Total time: 607.35s (training model: 0.36s, training explainer: 0.06s, experiment: 606.93s)\n",
      "Number of extracted samples: 1220\n",
      "Number of accurate extracted samples: 1220\n",
      "Precision: 1.0, recall: 0.08824593128390597\n",
      "dataset: census, model: decision tree (repetition 6)\n",
      "Total time: 607.56s (training model: 0.36s, training explainer: 0.06s, experiment: 607.14s)\n",
      "Number of extracted samples: 1135\n",
      "Number of accurate extracted samples: 1135\n",
      "Precision: 1.0, recall: 0.08209764918625678\n",
      "dataset: census, model: decision tree (repetition 7)\n",
      "Total time: 613.04s (training model: 0.37s, training explainer: 0.06s, experiment: 612.61s)\n",
      "Number of extracted samples: 1140\n",
      "Number of accurate extracted samples: 1140\n",
      "Precision: 1.0, recall: 0.08245931283905968\n",
      "dataset: census, model: decision tree (repetition 8)\n",
      "Total time: 609.15s (training model: 0.36s, training explainer: 0.07s, experiment: 608.72s)\n",
      "Number of extracted samples: 1232\n",
      "Number of accurate extracted samples: 1232\n",
      "Precision: 1.0, recall: 0.08911392405063291\n",
      "dataset: census, model: decision tree (repetition 9)\n",
      "Total time: 606.79s (training model: 0.36s, training explainer: 0.06s, experiment: 606.36s)\n",
      "Number of extracted samples: 1207\n",
      "Number of accurate extracted samples: 1207\n",
      "Precision: 1.0, recall: 0.08730560578661845\n",
      "dataset: census, model: random forest (repetition 0)\n"
     ]
    },
    {
     "name": "stderr",
     "output_type": "stream",
     "text": [
      "c:\\users\\ml_ks\\venvs\\xai_new\\lib\\site-packages\\sklearn\\ensemble\\_forest.py:427: FutureWarning: `max_features='auto'` has been deprecated in 1.1 and will be removed in 1.3. To keep the past behaviour, explicitly set `max_features='sqrt'` or remove this parameter as it is also the default value for RandomForestClassifiers and ExtraTreesClassifiers.\n",
      "  warn(\n"
     ]
    },
    {
     "name": "stdout",
     "output_type": "stream",
     "text": [
      "Total time: 1155.13s (training model: 6.40s, training explainer: 0.08s, experiment: 1148.65s)\n",
      "Number of extracted samples: 858\n",
      "Number of accurate extracted samples: 858\n",
      "Precision: 1.0, recall: 0.06206148282097649\n",
      "dataset: census, model: random forest (repetition 1)\n"
     ]
    },
    {
     "name": "stderr",
     "output_type": "stream",
     "text": [
      "c:\\users\\ml_ks\\venvs\\xai_new\\lib\\site-packages\\sklearn\\ensemble\\_forest.py:427: FutureWarning: `max_features='auto'` has been deprecated in 1.1 and will be removed in 1.3. To keep the past behaviour, explicitly set `max_features='sqrt'` or remove this parameter as it is also the default value for RandomForestClassifiers and ExtraTreesClassifiers.\n",
      "  warn(\n"
     ]
    },
    {
     "name": "stdout",
     "output_type": "stream",
     "text": [
      "Total time: 1153.24s (training model: 6.36s, training explainer: 0.07s, experiment: 1146.80s)\n",
      "Number of extracted samples: 888\n",
      "Number of accurate extracted samples: 888\n",
      "Precision: 1.0, recall: 0.06423146473779386\n",
      "dataset: census, model: random forest (repetition 2)\n"
     ]
    },
    {
     "name": "stderr",
     "output_type": "stream",
     "text": [
      "c:\\users\\ml_ks\\venvs\\xai_new\\lib\\site-packages\\sklearn\\ensemble\\_forest.py:427: FutureWarning: `max_features='auto'` has been deprecated in 1.1 and will be removed in 1.3. To keep the past behaviour, explicitly set `max_features='sqrt'` or remove this parameter as it is also the default value for RandomForestClassifiers and ExtraTreesClassifiers.\n",
      "  warn(\n"
     ]
    },
    {
     "name": "stdout",
     "output_type": "stream",
     "text": [
      "Total time: 1150.64s (training model: 6.39s, training explainer: 0.06s, experiment: 1144.18s)\n",
      "Number of extracted samples: 874\n",
      "Number of accurate extracted samples: 874\n",
      "Precision: 1.0, recall: 0.06321880650994575\n",
      "dataset: census, model: random forest (repetition 3)\n"
     ]
    },
    {
     "name": "stderr",
     "output_type": "stream",
     "text": [
      "c:\\users\\ml_ks\\venvs\\xai_new\\lib\\site-packages\\sklearn\\ensemble\\_forest.py:427: FutureWarning: `max_features='auto'` has been deprecated in 1.1 and will be removed in 1.3. To keep the past behaviour, explicitly set `max_features='sqrt'` or remove this parameter as it is also the default value for RandomForestClassifiers and ExtraTreesClassifiers.\n",
      "  warn(\n"
     ]
    },
    {
     "name": "stdout",
     "output_type": "stream",
     "text": [
      "Total time: 1148.37s (training model: 6.47s, training explainer: 0.08s, experiment: 1141.82s)\n",
      "Number of extracted samples: 876\n",
      "Number of accurate extracted samples: 876\n",
      "Precision: 1.0, recall: 0.06336347197106691\n",
      "dataset: census, model: random forest (repetition 4)\n"
     ]
    },
    {
     "name": "stderr",
     "output_type": "stream",
     "text": [
      "c:\\users\\ml_ks\\venvs\\xai_new\\lib\\site-packages\\sklearn\\ensemble\\_forest.py:427: FutureWarning: `max_features='auto'` has been deprecated in 1.1 and will be removed in 1.3. To keep the past behaviour, explicitly set `max_features='sqrt'` or remove this parameter as it is also the default value for RandomForestClassifiers and ExtraTreesClassifiers.\n",
      "  warn(\n"
     ]
    },
    {
     "name": "stdout",
     "output_type": "stream",
     "text": [
      "Total time: 1146.34s (training model: 6.42s, training explainer: 0.08s, experiment: 1139.84s)\n",
      "Number of extracted samples: 905\n",
      "Number of accurate extracted samples: 905\n",
      "Precision: 1.0, recall: 0.06546112115732369\n",
      "dataset: census, model: random forest (repetition 5)\n"
     ]
    },
    {
     "name": "stderr",
     "output_type": "stream",
     "text": [
      "c:\\users\\ml_ks\\venvs\\xai_new\\lib\\site-packages\\sklearn\\ensemble\\_forest.py:427: FutureWarning: `max_features='auto'` has been deprecated in 1.1 and will be removed in 1.3. To keep the past behaviour, explicitly set `max_features='sqrt'` or remove this parameter as it is also the default value for RandomForestClassifiers and ExtraTreesClassifiers.\n",
      "  warn(\n"
     ]
    },
    {
     "name": "stdout",
     "output_type": "stream",
     "text": [
      "Total time: 1141.18s (training model: 6.54s, training explainer: 0.08s, experiment: 1134.57s)\n",
      "Number of extracted samples: 966\n",
      "Number of accurate extracted samples: 966\n",
      "Precision: 1.0, recall: 0.06987341772151899\n",
      "dataset: census, model: random forest (repetition 6)\n"
     ]
    },
    {
     "name": "stderr",
     "output_type": "stream",
     "text": [
      "c:\\users\\ml_ks\\venvs\\xai_new\\lib\\site-packages\\sklearn\\ensemble\\_forest.py:427: FutureWarning: `max_features='auto'` has been deprecated in 1.1 and will be removed in 1.3. To keep the past behaviour, explicitly set `max_features='sqrt'` or remove this parameter as it is also the default value for RandomForestClassifiers and ExtraTreesClassifiers.\n",
      "  warn(\n"
     ]
    },
    {
     "name": "stdout",
     "output_type": "stream",
     "text": [
      "Total time: 1141.71s (training model: 6.44s, training explainer: 0.06s, experiment: 1135.21s)\n",
      "Number of extracted samples: 907\n",
      "Number of accurate extracted samples: 907\n",
      "Precision: 1.0, recall: 0.06560578661844485\n",
      "dataset: census, model: random forest (repetition 7)\n"
     ]
    },
    {
     "name": "stderr",
     "output_type": "stream",
     "text": [
      "c:\\users\\ml_ks\\venvs\\xai_new\\lib\\site-packages\\sklearn\\ensemble\\_forest.py:427: FutureWarning: `max_features='auto'` has been deprecated in 1.1 and will be removed in 1.3. To keep the past behaviour, explicitly set `max_features='sqrt'` or remove this parameter as it is also the default value for RandomForestClassifiers and ExtraTreesClassifiers.\n",
      "  warn(\n"
     ]
    },
    {
     "name": "stdout",
     "output_type": "stream",
     "text": [
      "Total time: 1147.24s (training model: 6.51s, training explainer: 0.06s, experiment: 1140.67s)\n",
      "Number of extracted samples: 920\n",
      "Number of accurate extracted samples: 920\n",
      "Precision: 1.0, recall: 0.06654611211573237\n",
      "dataset: census, model: random forest (repetition 8)\n"
     ]
    },
    {
     "name": "stderr",
     "output_type": "stream",
     "text": [
      "c:\\users\\ml_ks\\venvs\\xai_new\\lib\\site-packages\\sklearn\\ensemble\\_forest.py:427: FutureWarning: `max_features='auto'` has been deprecated in 1.1 and will be removed in 1.3. To keep the past behaviour, explicitly set `max_features='sqrt'` or remove this parameter as it is also the default value for RandomForestClassifiers and ExtraTreesClassifiers.\n",
      "  warn(\n"
     ]
    },
    {
     "name": "stdout",
     "output_type": "stream",
     "text": [
      "Total time: 1147.46s (training model: 6.39s, training explainer: 0.08s, experiment: 1141.00s)\n",
      "Number of extracted samples: 865\n",
      "Number of accurate extracted samples: 865\n",
      "Precision: 1.0, recall: 0.06256781193490055\n",
      "dataset: census, model: random forest (repetition 9)\n"
     ]
    },
    {
     "name": "stderr",
     "output_type": "stream",
     "text": [
      "c:\\users\\ml_ks\\venvs\\xai_new\\lib\\site-packages\\sklearn\\ensemble\\_forest.py:427: FutureWarning: `max_features='auto'` has been deprecated in 1.1 and will be removed in 1.3. To keep the past behaviour, explicitly set `max_features='sqrt'` or remove this parameter as it is also the default value for RandomForestClassifiers and ExtraTreesClassifiers.\n",
      "  warn(\n"
     ]
    },
    {
     "name": "stdout",
     "output_type": "stream",
     "text": [
      "Total time: 1153.14s (training model: 6.40s, training explainer: 0.08s, experiment: 1146.66s)\n",
      "Number of extracted samples: 825\n",
      "Number of accurate extracted samples: 825\n",
      "Precision: 1.0, recall: 0.059674502712477394\n",
      "dataset: census, model: neural network (repetition 0)\n"
     ]
    },
    {
     "name": "stderr",
     "output_type": "stream",
     "text": [
      "c:\\users\\ml_ks\\venvs\\xai_new\\lib\\site-packages\\sklearn\\neural_network\\_multilayer_perceptron.py:702: ConvergenceWarning: Stochastic Optimizer: Maximum iterations (200) reached and the optimization hasn't converged yet.\n",
      "  warnings.warn(\n"
     ]
    },
    {
     "name": "stdout",
     "output_type": "stream",
     "text": [
      "Total time: 691.74s (training model: 29.29s, training explainer: 0.06s, experiment: 662.39s)\n",
      "Number of extracted samples: 1233\n",
      "Number of accurate extracted samples: 1233\n",
      "Precision: 1.0, recall: 0.08918625678119349\n",
      "dataset: census, model: neural network (repetition 1)\n"
     ]
    },
    {
     "name": "stderr",
     "output_type": "stream",
     "text": [
      "c:\\users\\ml_ks\\venvs\\xai_new\\lib\\site-packages\\sklearn\\neural_network\\_multilayer_perceptron.py:702: ConvergenceWarning: Stochastic Optimizer: Maximum iterations (200) reached and the optimization hasn't converged yet.\n",
      "  warnings.warn(\n"
     ]
    },
    {
     "name": "stdout",
     "output_type": "stream",
     "text": [
      "Total time: 652.70s (training model: 31.10s, training explainer: 0.08s, experiment: 621.52s)\n",
      "Number of extracted samples: 1262\n",
      "Number of accurate extracted samples: 1262\n",
      "Precision: 1.0, recall: 0.09128390596745027\n",
      "dataset: census, model: neural network (repetition 2)\n"
     ]
    },
    {
     "name": "stderr",
     "output_type": "stream",
     "text": [
      "c:\\users\\ml_ks\\venvs\\xai_new\\lib\\site-packages\\sklearn\\neural_network\\_multilayer_perceptron.py:702: ConvergenceWarning: Stochastic Optimizer: Maximum iterations (200) reached and the optimization hasn't converged yet.\n",
      "  warnings.warn(\n"
     ]
    }
   ],
   "source": [
    "# This will run the experiment for each dataset and model combination\n",
    "\n",
    "results = run_all_experiments(CounterfactualTDE, dataset_dicts, model_dicts, random_state=0, num_queries=num_queries_dict, model_access=False, threads=threads, is_mem_inf=False, convert_cat_to_str=True, repeat=10)"
   ]
  },
  {
   "cell_type": "markdown",
   "id": "a1feb9a8",
   "metadata": {},
   "source": [
    "# Results\n",
    "\n",
    "Precision is the percentage of extracted samples that is actually from the training data. \n",
    "\n",
    "Recall is the ratio of the number extracted training samples to all training samples."
   ]
  },
  {
   "cell_type": "code",
   "execution_count": null,
   "id": "39bb0af8",
   "metadata": {
    "execution": {
     "iopub.execute_input": "2022-10-29T20:54:34.095962Z",
     "iopub.status.busy": "2022-10-29T20:54:34.091682Z",
     "iopub.status.idle": "2022-10-29T20:54:34.129628Z",
     "shell.execute_reply": "2022-10-29T20:54:34.126999Z"
    },
    "pycharm": {
     "is_executing": true
    }
   },
   "outputs": [],
   "source": [
    "results"
   ]
  },
  {
   "cell_type": "code",
   "execution_count": null,
   "id": "31380dcf",
   "metadata": {
    "execution": {
     "iopub.execute_input": "2022-10-29T20:54:34.151825Z",
     "iopub.status.busy": "2022-10-29T20:54:34.147925Z",
     "iopub.status.idle": "2022-10-29T20:54:34.173325Z",
     "shell.execute_reply": "2022-10-29T20:54:34.169969Z"
    },
    "pycharm": {
     "is_executing": true
    }
   },
   "outputs": [],
   "source": [
    "file_name = 'results/2-1-cf-training-data-extraction-results'\n",
    "if DATASET_HALF:\n",
    "    file_name += '_dataset_size_halved'\n",
    "results.to_csv(file_name + '.csv', index=False, na_rep='NaN', float_format='%.3f')"
   ]
  },
  {
   "cell_type": "markdown",
   "id": "d054236f-8d24-4ad8-8b81-fb2ba96cd77b",
   "metadata": {},
   "source": [
    "# Discussion\n",
    "\n",
    "In our experiments, training data extraction with counterfactuals drawn from the training data has a recall between 45% and 67% for numeric data and 30% to 64% for categorical data. Since the attack cannot produce any false positive samples, precision is always 100%."
   ]
  },
  {
   "cell_type": "code",
   "execution_count": null,
   "id": "5ef338ab-a7ef-46aa-86f5-23ed8dc39a8b",
   "metadata": {
    "pycharm": {
     "is_executing": true
    }
   },
   "outputs": [],
   "source": []
  }
 ],
 "metadata": {
  "kernelspec": {
   "display_name": "Python 3 (ipykernel)",
   "language": "python",
   "name": "python3"
  },
  "language_info": {
   "codemirror_mode": {
    "name": "ipython",
    "version": 3
   },
   "file_extension": ".py",
   "mimetype": "text/x-python",
   "name": "python",
   "nbconvert_exporter": "python",
   "pygments_lexer": "ipython3",
   "version": "3.8.10"
  }
 },
 "nbformat": 4,
 "nbformat_minor": 5
}