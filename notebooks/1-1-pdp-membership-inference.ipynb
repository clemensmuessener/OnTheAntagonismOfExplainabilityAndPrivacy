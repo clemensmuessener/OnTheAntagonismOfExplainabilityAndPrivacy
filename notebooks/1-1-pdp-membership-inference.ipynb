{
 "cells": [
  {
   "cell_type": "markdown",
   "id": "75916e17",
   "metadata": {},
   "source": [
    "# Partial Dependence Plot Membership Inference Experiments"
   ]
  },
  {
   "cell_type": "code",
   "execution_count": 1,
   "id": "f6661d3f",
   "metadata": {},
   "outputs": [
    {
     "name": "stderr",
     "output_type": "stream",
     "text": [
      "Intel(R) Extension for Scikit-learn* enabled (https://github.com/intel/scikit-learn-intelex)\n"
     ]
    }
   ],
   "source": [
    "import pandas as pd\n",
    "from sklearnex import patch_sklearn\n",
    "patch_sklearn()\n",
    "import sklearn.ensemble as es\n",
    "from sklearn.tree import DecisionTreeClassifier\n",
    "from sklearn.neural_network import MLPClassifier\n",
    "import matplotlib.pyplot as plt\n",
    "from sklearn.inspection import partial_dependence\n",
    "from sklearn.inspection import PartialDependenceDisplay\n",
    "import numpy as np\n",
    "import logging"
   ]
  },
  {
   "cell_type": "code",
   "execution_count": 2,
   "id": "037ba61b-1104-440a-8581-0103b38df84a",
   "metadata": {
    "tags": []
   },
   "outputs": [],
   "source": [
    "threads = 15\n",
    "\n",
    "logging.basicConfig()\n",
    "\n",
    "logger = logging.getLogger('xai-privacy')"
   ]
  },
  {
   "cell_type": "code",
   "execution_count": 3,
   "id": "a5238708",
   "metadata": {},
   "outputs": [],
   "source": [
    "from experiment_setup import run_all_experiments\n",
    "from experiment_setup import get_heart_disease_dataset\n",
    "from experiment_setup import get_census_dataset"
   ]
  },
  {
   "cell_type": "code",
   "execution_count": 4,
   "id": "d7432cae",
   "metadata": {
    "collapsed": false,
    "jupyter": {
     "outputs_hidden": false
    },
    "pycharm": {
     "name": "#%%\n"
    }
   },
   "outputs": [
    {
     "name": "stdout",
     "output_type": "stream",
     "text": [
      "Feature Age: removed 0 rows for missing values.\n",
      "Feature RestingBP: removed 59 rows for missing values.\n",
      "Feature Cholesterol: removed 27 rows for missing values.\n",
      "Feature FastingBS: add unknown category 2.0\n",
      "Feature RestingECG: add unknown category 3.0\n",
      "Feature MaxHR: removed 0 rows for missing values.\n",
      "Feature Oldpeak: removed 7 rows for missing values.\n",
      "Feature ST_Slope: add unknown category 4.0\n",
      "Feature CA: add unknown category 4.0\n",
      "Feature Thal: add unknown category 8.0\n",
      "Dropped 271 of 1097\n",
      "Dropped 273 of 1097\n",
      "Dropped 277 of 1097\n",
      "Dropped: 2399 of 32561\n",
      "census: Dropped 3848 of 30162\n",
      "num: Dropped 19859 of 30162\n",
      "cat: Dropped 12136 of 30162\n"
     ]
    }
   ],
   "source": [
    "DATASET_HALF = False\n",
    "\n",
    "data_heart_dict, data_heart_num_dict, data_heart_cat_dict = get_heart_disease_dataset(halve_dataset=DATASET_HALF)\n",
    "data_census_dict, data_census_num_dict, data_census_cat_dict = get_census_dataset(halve_dataset=DATASET_HALF)\n",
    "\n",
    "data_heart = data_heart_dict['dataset']\n",
    "outcome_name_heart = data_heart_dict['outcome']\n",
    "numeric_features_heart = data_heart_dict['num']"
   ]
  },
  {
   "cell_type": "markdown",
   "id": "c6a61bbc",
   "metadata": {},
   "source": [
    "This notebook will go through the experiment for membership inference with the partial dependence plot (PDP). Membership inference means an attacker with access to the explanation can tell for a sample whether it was included in the training data or not.\n",
    "\n",
    "The idea for PDP membership inference is as follows: The PDP shows the partial dependence for each feature value that occurs in the training data. Check for each feature value of the given sample if there exists a datapoint at that x-value in the PDP for that feature. If at least one feature value does not appear in the respective PDP, then the sample cannot be part of the training data. Otherwise, the sample may be part of the training data."
   ]
  },
  {
   "cell_type": "markdown",
   "id": "5829891e",
   "metadata": {},
   "source": [
    "First, we implement the `train_explainer` and `membership_inference_attack_no_model_access` functions:"
   ]
  },
  {
   "cell_type": "code",
   "execution_count": 5,
   "id": "81820325",
   "metadata": {},
   "outputs": [],
   "source": [
    "# Attack code must be imported so that multiprocessing pool works. Check out pdp_attack.py for the implementation of the attack.\n",
    "from pdp_attack import PDPMembershipInference"
   ]
  },
  {
   "cell_type": "markdown",
   "id": "d2ef61e5",
   "metadata": {},
   "source": [
    "# Executing Membership Inference"
   ]
  },
  {
   "cell_type": "markdown",
   "id": "bdb2e40d",
   "metadata": {},
   "source": [
    "Before running the experiment, we we will have a short look at the visual explanation of a PDP. The underlying data of these graphs will be our attack vector for membership inference.\n",
    "\n",
    "The line represents the average prediction for all possible feature values of the feature 'age'."
   ]
  },
  {
   "cell_type": "code",
   "execution_count": 6,
   "id": "64c4cf59",
   "metadata": {},
   "outputs": [
    {
     "data": {
      "text/plain": "<Figure size 640x480 with 2 Axes>",
      "image/png": "[encoded data removed]"
     },
     "metadata": {},
     "output_type": "display_data"
    }
   ],
   "source": [
    "# Train a random forest model on training data.\n",
    "features = data_heart.drop(outcome_name_heart, axis=1)\n",
    "labels = data_heart[outcome_name_heart]\n",
    "\n",
    "model = es.RandomForestClassifier(random_state=0)\n",
    "model = model.fit(features, labels)\n",
    "\n",
    "display = PartialDependenceDisplay.from_estimator(estimator=model, X=features, features=[0], feature_names=['age'],\n",
    "       grid_resolution=len(data_heart), random_state=0)"
   ]
  },
  {
   "cell_type": "markdown",
   "id": "883edb84",
   "metadata": {},
   "source": [
    "As a proof of concept for our privacy attack, we run the experiment with a very small amount of repetitions with logging to show that the membership inference function works in principle."
   ]
  },
  {
   "cell_type": "code",
   "execution_count": 7,
   "id": "813b7a63",
   "metadata": {
    "scrolled": true
   },
   "outputs": [
    {
     "name": "stderr",
     "output_type": "stream",
     "text": [
      "DEBUG:xai-privacy:Numeric Features: ['Age', 'RestingBP', 'Cholesterol', 'MaxHR', 'Oldpeak']\n",
      "DEBUG:xai-privacy:Categorical Features: ['CA', 'ChestPainType', 'ExerciseAngina', 'FastingBS', 'RestingECG', 'ST_Slope', 'Sex', 'Thal']\n",
      "DEBUG:xai-privacy:Removed 9 test samples due to unknown category.\n",
      "DEBUG:xai-privacy:[[4.70e+01 1.00e+00 4.00e+00 1.12e+02 2.04e+02 0.00e+00 0.00e+00 1.43e+02\n",
      "  0.00e+00 1.00e-01 1.00e+00 0.00e+00 3.00e+00 0.00e+00]] taken from training data\n",
      "DEBUG:xai-privacy:[[ 56.    1.    4.  130.  203.    1.    0.   98.    0.    1.5   2.    4.\n",
      "    7.    1. ]] taken from test data\n",
      "DEBUG:xai-privacy:[[ 58.   0.   4. 100. 248.   0.   2. 122.   0.   1.   2.   0.   3.   0.]] taken from training data\n",
      "DEBUG:xai-privacy:[[ 63.   0.   4. 150. 407.   0.   2. 154.   0.   4.   2.   3.   7.   1.]] taken from test data\n",
      "DEBUG:xai-privacy:[[ 57.    1.    3.  105.    0.    2.    0.  148.    0.    0.3   2.    4.\n",
      "    8.    1. ]] taken from training data\n",
      "DEBUG:xai-privacy:[[ 33.   0.   4. 100. 246.   0.   0. 150.   1.   1.   2.   4.   8.   1.]] taken from test data\n",
      "DEBUG:xai-privacy:[[ 75.   1.   4. 170. 203.   1.   1. 108.   0.   0.   4.   4.   7.   1.]] taken from training data\n",
      "DEBUG:xai-privacy:[[ 58.    1.    4.  114.  318.    0.    1.  140.    0.    4.4   3.    3.\n",
      "    6.    1. ]] taken from test data\n",
      "DEBUG:xai-privacy:[[ 41.   1.   3. 130. 214.   0.   2. 168.   0.   2.   2.   0.   3.   0.]] taken from training data\n",
      "DEBUG:xai-privacy:[[ 40.    1.    1.  140.  199.    0.    0.  178.    1.    1.4   1.    0.\n",
      "    7.    0. ]] taken from test data\n",
      "DEBUG:xai-privacy:Checking sample 0: [4.70e+01 1.00e+00 4.00e+00 1.12e+02 2.04e+02 0.00e+00 0.00e+00 1.43e+02\n",
      " 0.00e+00 1.00e-01 1.00e+00 0.00e+00 3.00e+00]\n",
      "DEBUG:xai-privacy:Feature 0 (47.0) is contained in respective PDP.\n",
      "DEBUG:xai-privacy:Feature 1 (1.0) is contained in respective PDP.\n",
      "DEBUG:xai-privacy:Feature 2 (4.0) is contained in respective PDP.\n",
      "DEBUG:xai-privacy:Feature 3 (112.0) is contained in respective PDP.\n",
      "DEBUG:xai-privacy:Feature 4 (204.0) is contained in respective PDP.\n",
      "DEBUG:xai-privacy:Feature 5 (0.0) is contained in respective PDP.\n",
      "DEBUG:xai-privacy:Feature 6 (0.0) is contained in respective PDP.\n",
      "DEBUG:xai-privacy:Feature 7 (143.0) is contained in respective PDP.\n",
      "DEBUG:xai-privacy:Feature 8 (0.0) is contained in respective PDP.\n",
      "DEBUG:xai-privacy:Feature 9 (0.1) is contained in respective PDP.\n",
      "DEBUG:xai-privacy:Feature 10 (1.0) is contained in respective PDP.\n",
      "DEBUG:xai-privacy:Feature 11 (0.0) is contained in respective PDP.\n",
      "DEBUG:xai-privacy:Feature 12 (3.0) is contained in respective PDP.\n",
      "DEBUG:xai-privacy:Inferred membership as True\n",
      "DEBUG:xai-privacy:Checking sample 1: [ 56.    1.    4.  130.  203.    1.    0.   98.    0.    1.5   2.    4.\n",
      "   7. ]\n",
      "DEBUG:xai-privacy:Feature 0 (56.0) is contained in respective PDP.\n",
      "DEBUG:xai-privacy:Feature 1 (1.0) is contained in respective PDP.\n",
      "DEBUG:xai-privacy:Feature 2 (4.0) is contained in respective PDP.\n",
      "DEBUG:xai-privacy:Feature 3 (130.0) is contained in respective PDP.\n",
      "DEBUG:xai-privacy:Feature 4 (203.0) is contained in respective PDP.\n",
      "DEBUG:xai-privacy:Feature 5 (1.0) is contained in respective PDP.\n",
      "DEBUG:xai-privacy:Feature 6 (0.0) is contained in respective PDP.\n",
      "DEBUG:xai-privacy:Feature 7 (98.0) is contained in respective PDP.\n",
      "DEBUG:xai-privacy:Feature 8 (0.0) is contained in respective PDP.\n",
      "DEBUG:xai-privacy:Feature 9 (1.5) is contained in respective PDP.\n",
      "DEBUG:xai-privacy:Feature 10 (2.0) is contained in respective PDP.\n",
      "DEBUG:xai-privacy:Feature 11 (4.0) is contained in respective PDP.\n",
      "DEBUG:xai-privacy:Feature 12 (7.0) is contained in respective PDP.\n",
      "DEBUG:xai-privacy:Inferred membership as True\n",
      "DEBUG:xai-privacy:Checking sample 2: [ 58.   0.   4. 100. 248.   0.   2. 122.   0.   1.   2.   0.   3.]\n",
      "DEBUG:xai-privacy:Feature 0 (58.0) is contained in respective PDP.\n",
      "DEBUG:xai-privacy:Feature 1 (0.0) is contained in respective PDP.\n",
      "DEBUG:xai-privacy:Feature 2 (4.0) is contained in respective PDP.\n",
      "DEBUG:xai-privacy:Feature 3 (100.0) is contained in respective PDP.\n",
      "DEBUG:xai-privacy:Feature 4 (248.0) is contained in respective PDP.\n",
      "DEBUG:xai-privacy:Feature 5 (0.0) is contained in respective PDP.\n",
      "DEBUG:xai-privacy:Feature 6 (2.0) is contained in respective PDP.\n",
      "DEBUG:xai-privacy:Feature 7 (122.0) is contained in respective PDP.\n",
      "DEBUG:xai-privacy:Feature 8 (0.0) is contained in respective PDP.\n",
      "DEBUG:xai-privacy:Feature 9 (1.0) is contained in respective PDP.\n",
      "DEBUG:xai-privacy:Feature 10 (2.0) is contained in respective PDP.\n",
      "DEBUG:xai-privacy:Feature 11 (0.0) is contained in respective PDP.\n",
      "DEBUG:xai-privacy:Feature 12 (3.0) is contained in respective PDP.\n",
      "DEBUG:xai-privacy:Inferred membership as True\n",
      "DEBUG:xai-privacy:Checking sample 3: [ 63.   0.   4. 150. 407.   0.   2. 154.   0.   4.   2.   3.   7.]\n",
      "DEBUG:xai-privacy:Feature 0 (63.0) is contained in respective PDP.\n",
      "DEBUG:xai-privacy:Feature 1 (0.0) is contained in respective PDP.\n",
      "DEBUG:xai-privacy:Feature 2 (4.0) is contained in respective PDP.\n",
      "DEBUG:xai-privacy:Feature 3 (150.0) is contained in respective PDP.\n",
      "DEBUG:xai-privacy:Feature 4 (407.0) is NOT contained in respective PDP.\n",
      "DEBUG:xai-privacy:Inferred membership as False\n",
      "DEBUG:xai-privacy:Checking sample 4: [ 57.    1.    3.  105.    0.    2.    0.  148.    0.    0.3   2.    4.\n",
      "   8. ]\n",
      "DEBUG:xai-privacy:Feature 0 (57.0) is contained in respective PDP.\n",
      "DEBUG:xai-privacy:Feature 1 (1.0) is contained in respective PDP.\n",
      "DEBUG:xai-privacy:Feature 2 (3.0) is contained in respective PDP.\n",
      "DEBUG:xai-privacy:Feature 3 (105.0) is contained in respective PDP.\n",
      "DEBUG:xai-privacy:Feature 4 (0.0) is contained in respective PDP.\n",
      "DEBUG:xai-privacy:Feature 5 (2.0) is contained in respective PDP.\n",
      "DEBUG:xai-privacy:Feature 6 (0.0) is contained in respective PDP.\n",
      "DEBUG:xai-privacy:Feature 7 (148.0) is contained in respective PDP.\n",
      "DEBUG:xai-privacy:Feature 8 (0.0) is contained in respective PDP.\n",
      "DEBUG:xai-privacy:Feature 9 (0.3) is contained in respective PDP.\n",
      "DEBUG:xai-privacy:Feature 10 (2.0) is contained in respective PDP.\n",
      "DEBUG:xai-privacy:Feature 11 (4.0) is contained in respective PDP.\n",
      "DEBUG:xai-privacy:Feature 12 (8.0) is contained in respective PDP.\n",
      "DEBUG:xai-privacy:Inferred membership as True\n",
      "DEBUG:xai-privacy:Checking sample 5: [ 33.   0.   4. 100. 246.   0.   0. 150.   1.   1.   2.   4.   8.]\n",
      "DEBUG:xai-privacy:Feature 0 (33.0) is NOT contained in respective PDP.\n",
      "DEBUG:xai-privacy:Inferred membership as False\n",
      "DEBUG:xai-privacy:Checking sample 6: [ 75.   1.   4. 170. 203.   1.   1. 108.   0.   0.   4.   4.   7.]\n",
      "DEBUG:xai-privacy:Feature 0 (75.0) is contained in respective PDP.\n",
      "DEBUG:xai-privacy:Feature 1 (1.0) is contained in respective PDP.\n",
      "DEBUG:xai-privacy:Feature 2 (4.0) is contained in respective PDP.\n",
      "DEBUG:xai-privacy:Feature 3 (170.0) is contained in respective PDP.\n",
      "DEBUG:xai-privacy:Feature 4 (203.0) is contained in respective PDP.\n",
      "DEBUG:xai-privacy:Feature 5 (1.0) is contained in respective PDP.\n",
      "DEBUG:xai-privacy:Feature 6 (1.0) is contained in respective PDP.\n",
      "DEBUG:xai-privacy:Feature 7 (108.0) is contained in respective PDP.\n",
      "DEBUG:xai-privacy:Feature 8 (0.0) is contained in respective PDP.\n",
      "DEBUG:xai-privacy:Feature 9 (0.0) is contained in respective PDP.\n",
      "DEBUG:xai-privacy:Feature 10 (4.0) is contained in respective PDP.\n",
      "DEBUG:xai-privacy:Feature 11 (4.0) is contained in respective PDP.\n",
      "DEBUG:xai-privacy:Feature 12 (7.0) is contained in respective PDP.\n",
      "DEBUG:xai-privacy:Inferred membership as True\n",
      "DEBUG:xai-privacy:Checking sample 7: [ 58.    1.    4.  114.  318.    0.    1.  140.    0.    4.4   3.    3.\n",
      "   6. ]\n",
      "DEBUG:xai-privacy:Feature 0 (58.0) is contained in respective PDP.\n",
      "DEBUG:xai-privacy:Feature 1 (1.0) is contained in respective PDP.\n",
      "DEBUG:xai-privacy:Feature 2 (4.0) is contained in respective PDP.\n",
      "DEBUG:xai-privacy:Feature 3 (114.0) is NOT contained in respective PDP.\n",
      "DEBUG:xai-privacy:Inferred membership as False\n",
      "DEBUG:xai-privacy:Checking sample 8: [ 41.   1.   3. 130. 214.   0.   2. 168.   0.   2.   2.   0.   3.]\n",
      "DEBUG:xai-privacy:Feature 0 (41.0) is contained in respective PDP.\n",
      "DEBUG:xai-privacy:Feature 1 (1.0) is contained in respective PDP.\n",
      "DEBUG:xai-privacy:Feature 2 (3.0) is contained in respective PDP.\n",
      "DEBUG:xai-privacy:Feature 3 (130.0) is contained in respective PDP.\n",
      "DEBUG:xai-privacy:Feature 4 (214.0) is contained in respective PDP.\n",
      "DEBUG:xai-privacy:Feature 5 (0.0) is contained in respective PDP.\n",
      "DEBUG:xai-privacy:Feature 6 (2.0) is contained in respective PDP.\n",
      "DEBUG:xai-privacy:Feature 7 (168.0) is contained in respective PDP.\n",
      "DEBUG:xai-privacy:Feature 8 (0.0) is contained in respective PDP.\n",
      "DEBUG:xai-privacy:Feature 9 (2.0) is contained in respective PDP.\n",
      "DEBUG:xai-privacy:Feature 10 (2.0) is contained in respective PDP.\n",
      "DEBUG:xai-privacy:Feature 11 (0.0) is contained in respective PDP.\n",
      "DEBUG:xai-privacy:Feature 12 (3.0) is contained in respective PDP.\n",
      "DEBUG:xai-privacy:Inferred membership as True\n",
      "DEBUG:xai-privacy:Checking sample 9: [ 40.    1.    1.  140.  199.    0.    0.  178.    1.    1.4   1.    0.\n",
      "   7. ]\n",
      "DEBUG:xai-privacy:Feature 0 (40.0) is contained in respective PDP.\n",
      "DEBUG:xai-privacy:Feature 1 (1.0) is contained in respective PDP.\n",
      "DEBUG:xai-privacy:Feature 2 (1.0) is contained in respective PDP.\n",
      "DEBUG:xai-privacy:Feature 3 (140.0) is contained in respective PDP.\n",
      "DEBUG:xai-privacy:Feature 4 (199.0) is contained in respective PDP.\n",
      "DEBUG:xai-privacy:Feature 5 (0.0) is contained in respective PDP.\n",
      "DEBUG:xai-privacy:Feature 6 (0.0) is contained in respective PDP.\n",
      "DEBUG:xai-privacy:Feature 7 (178.0) is contained in respective PDP.\n",
      "DEBUG:xai-privacy:Feature 8 (1.0) is contained in respective PDP.\n",
      "DEBUG:xai-privacy:Feature 9 (1.4) is contained in respective PDP.\n",
      "DEBUG:xai-privacy:Feature 10 (1.0) is contained in respective PDP.\n",
      "DEBUG:xai-privacy:Feature 11 (0.0) is contained in respective PDP.\n",
      "DEBUG:xai-privacy:Feature 12 (7.0) is contained in respective PDP.\n",
      "DEBUG:xai-privacy:Inferred membership as True\n"
     ]
    },
    {
     "name": "stdout",
     "output_type": "stream",
     "text": [
      "Total time: 1.95s (training model: 0.01s, training explainer: 1.82s, experiment: 0.12s)\n",
      "Accuracy: 0.8, precision: 0.7142857142857143, recall: 1.0\n"
     ]
    }
   ],
   "source": [
    "logger.setLevel(logging.DEBUG)\n",
    "\n",
    "EXP = PDPMembershipInference(data_heart, numeric_features_heart, outcome_name_heart, random_state=5)\n",
    "EXP.membership_inference_experiment(num_queries=10, model=DecisionTreeClassifier(random_state=0), model_access=False, threads=1)\n",
    "\n",
    "logger.setLevel(logging.INFO)"
   ]
  },
  {
   "cell_type": "markdown",
   "id": "3192b2eb",
   "metadata": {},
   "source": [
    "The proof of concept should show that the membership inference function predicts membership accurately in some cases. A false negative should not appear (recall is 100%). However, only some test samples are actually detected as not being part of the training data. You can change the random state to try out a few different runs with different chosen samples."
   ]
  },
  {
   "cell_type": "markdown",
   "id": "4dcb3db0",
   "metadata": {},
   "source": [
    "Now we begin executing the actual experiment. We begin by defining the table that will hold the results for all our different experiment variations. Then we execute all variations of the experiment for this dataset. We vary the model between a decision tree, a random forest and a neural network. Each model uses the default configuration of scikit-learn."
   ]
  },
  {
   "cell_type": "code",
   "execution_count": 7,
   "id": "2afeb15f",
   "metadata": {},
   "outputs": [],
   "source": []
  },
  {
   "cell_type": "code",
   "execution_count": 8,
   "id": "96db5054-0d79-4f5f-accc-b4b39a3f5b50",
   "metadata": {},
   "outputs": [],
   "source": [
    "dataset_dicts = [data_heart_dict, data_heart_num_dict, data_heart_cat_dict, data_census_dict, data_census_num_dict, data_census_cat_dict]\n",
    "\n",
    "dt_dict = {'name': 'decision tree', 'model': DecisionTreeClassifier}\n",
    "rf_dict = {'name': 'random forest', 'model': es.RandomForestClassifier}\n",
    "nn_dict = {'name': 'neural network', 'model': MLPClassifier}\n",
    "\n",
    "model_dicts = [dt_dict, rf_dict, nn_dict]"
   ]
  },
  {
   "cell_type": "code",
   "execution_count": 9,
   "id": "9d00208a-acaf-40f6-a6ad-1ebc6dd07382",
   "metadata": {},
   "outputs": [
    {
     "name": "stdout",
     "output_type": "stream",
     "text": [
      "dataset: heart, model: decision tree (repetition 0)\n",
      "Total time: 4.65s (training model: 0.01s, training explainer: 1.77s, experiment: 2.86s)\n",
      "Accuracy: 0.6313868613138686, precision: 0.5768156424581006, recall: 1.0\n",
      "dataset: heart, model: decision tree (repetition 1)\n",
      "Total time: 4.89s (training model: 0.00s, training explainer: 1.94s, experiment: 2.96s)\n",
      "Accuracy: 0.6185819070904646, precision: 0.5696551724137932, recall: 1.0\n",
      "dataset: heart, model: decision tree (repetition 2)\n",
      "Total time: 4.55s (training model: 0.02s, training explainer: 1.69s, experiment: 2.85s)\n",
      "Accuracy: 0.6409313725490197, precision: 0.5849858356940509, recall: 1.0\n",
      "dataset: heart, model: decision tree (repetition 3)\n",
      "Total time: 4.62s (training model: 0.02s, training explainer: 1.72s, experiment: 2.89s)\n",
      "Accuracy: 0.6703296703296703, precision: 0.6046852122986823, recall: 1.0\n",
      "dataset: heart, model: decision tree (repetition 4)\n",
      "Total time: 4.64s (training model: 0.01s, training explainer: 1.73s, experiment: 2.91s)\n",
      "Accuracy: 0.6464155528554071, precision: 0.5866477272727273, recall: 1.0\n",
      "dataset: heart, model: decision tree (repetition 5)\n",
      "Total time: 4.59s (training model: 0.01s, training explainer: 1.73s, experiment: 2.84s)\n",
      "Accuracy: 0.6285018270401949, precision: 0.575208913649025, recall: 1.0\n",
      "dataset: heart, model: decision tree (repetition 6)\n",
      "Total time: 4.57s (training model: 0.02s, training explainer: 1.68s, experiment: 2.88s)\n",
      "Accuracy: 0.6597812879708383, precision: 0.5959595959595959, recall: 1.0\n",
      "dataset: heart, model: decision tree (repetition 7)\n",
      "Total time: 4.63s (training model: 0.02s, training explainer: 1.78s, experiment: 2.83s)\n",
      "Accuracy: 0.653610771113831, precision: 0.5933908045977011, recall: 1.0\n",
      "dataset: heart, model: decision tree (repetition 8)\n",
      "Total time: 4.57s (training model: 0.01s, training explainer: 1.70s, experiment: 2.85s)\n",
      "Accuracy: 0.6381418092909535, precision: 0.5825105782792666, recall: 1.0\n",
      "dataset: heart, model: decision tree (repetition 9)\n",
      "Total time: 4.53s (training model: 0.02s, training explainer: 1.71s, experiment: 2.80s)\n",
      "Accuracy: 0.6344743276283619, precision: 0.5800561797752809, recall: 1.0\n",
      "dataset: heart, model: random forest (repetition 0)\n",
      "Total time: 5.47s (training model: 0.03s, training explainer: 2.59s, experiment: 2.84s)\n",
      "Accuracy: 0.6463414634146342, precision: 0.5874822190611664, recall: 1.0\n",
      "dataset: heart, model: random forest (repetition 1)\n",
      "Total time: 5.43s (training model: 0.03s, training explainer: 2.53s, experiment: 2.87s)\n",
      "Accuracy: 0.6446078431372549, precision: 0.5874822190611664, recall: 1.0\n",
      "dataset: heart, model: random forest (repetition 2)\n",
      "Total time: 5.37s (training model: 0.05s, training explainer: 2.45s, experiment: 2.88s)\n",
      "Accuracy: 0.6205191594561187, precision: 0.5736111111111111, recall: 1.0\n",
      "dataset: heart, model: random forest (repetition 3)\n",
      "Total time: 5.40s (training model: 0.04s, training explainer: 2.47s, experiment: 2.89s)\n",
      "Accuracy: 0.6331288343558282, precision: 0.5800561797752809, recall: 1.0\n",
      "dataset: heart, model: random forest (repetition 4)\n",
      "Total time: 5.43s (training model: 0.05s, training explainer: 2.54s, experiment: 2.85s)\n",
      "Accuracy: 0.6373626373626373, precision: 0.5816901408450704, recall: 1.0\n",
      "dataset: heart, model: random forest (repetition 5)\n",
      "Total time: 5.51s (training model: 0.03s, training explainer: 2.60s, experiment: 2.88s)\n",
      "Accuracy: 0.6090133982947625, precision: 0.5626702997275205, recall: 1.0\n",
      "dataset: heart, model: random forest (repetition 6)\n",
      "Total time: 5.44s (training model: 0.05s, training explainer: 2.46s, experiment: 2.94s)\n",
      "Accuracy: 0.6463414634146342, precision: 0.5874822190611664, recall: 1.0\n",
      "dataset: heart, model: random forest (repetition 7)\n",
      "Total time: 5.66s (training model: 0.05s, training explainer: 2.75s, experiment: 2.86s)\n",
      "Accuracy: 0.6398046398046398, precision: 0.5833333333333334, recall: 1.0\n",
      "dataset: heart, model: random forest (repetition 8)\n",
      "Total time: 5.45s (training model: 0.04s, training explainer: 2.53s, experiment: 2.87s)\n",
      "Accuracy: 0.633373934226553, precision: 0.5784313725490197, recall: 1.0\n",
      "dataset: heart, model: random forest (repetition 9)\n",
      "Total time: 5.42s (training model: 0.05s, training explainer: 2.50s, experiment: 2.88s)\n",
      "Accuracy: 0.6491442542787286, precision: 0.59, recall: 1.0\n",
      "dataset: heart, model: neural network (repetition 0)\n"
     ]
    },
    {
     "name": "stderr",
     "output_type": "stream",
     "text": [
      "c:\\users\\ml_ks\\venvs\\xai_new\\lib\\site-packages\\sklearn\\neural_network\\_multilayer_perceptron.py:702: ConvergenceWarning: Stochastic Optimizer: Maximum iterations (200) reached and the optimization hasn't converged yet.\n",
      "  warnings.warn(\n"
     ]
    },
    {
     "name": "stdout",
     "output_type": "stream",
     "text": [
      "Total time: 6.57s (training model: 1.00s, training explainer: 2.68s, experiment: 2.88s)\n",
      "Accuracy: 0.6332518337408313, precision: 0.5792426367461431, recall: 1.0\n",
      "dataset: heart, model: neural network (repetition 1)\n"
     ]
    },
    {
     "name": "stderr",
     "output_type": "stream",
     "text": [
      "c:\\users\\ml_ks\\venvs\\xai_new\\lib\\site-packages\\sklearn\\neural_network\\_multilayer_perceptron.py:702: ConvergenceWarning: Stochastic Optimizer: Maximum iterations (200) reached and the optimization hasn't converged yet.\n",
      "  warnings.warn(\n"
     ]
    },
    {
     "name": "stdout",
     "output_type": "stream",
     "text": [
      "Total time: 6.56s (training model: 1.02s, training explainer: 2.67s, experiment: 2.87s)\n",
      "Accuracy: 0.620563035495716, precision: 0.5712309820193637, recall: 1.0\n",
      "dataset: heart, model: neural network (repetition 2)\n"
     ]
    },
    {
     "name": "stderr",
     "output_type": "stream",
     "text": [
      "c:\\users\\ml_ks\\venvs\\xai_new\\lib\\site-packages\\sklearn\\neural_network\\_multilayer_perceptron.py:702: ConvergenceWarning: Stochastic Optimizer: Maximum iterations (200) reached and the optimization hasn't converged yet.\n",
      "  warnings.warn(\n"
     ]
    },
    {
     "name": "stdout",
     "output_type": "stream",
     "text": [
      "Total time: 6.57s (training model: 0.99s, training explainer: 2.71s, experiment: 2.86s)\n",
      "Accuracy: 0.6176470588235294, precision: 0.5696551724137932, recall: 1.0\n",
      "dataset: heart, model: neural network (repetition 3)\n"
     ]
    },
    {
     "name": "stderr",
     "output_type": "stream",
     "text": [
      "c:\\users\\ml_ks\\venvs\\xai_new\\lib\\site-packages\\sklearn\\neural_network\\_multilayer_perceptron.py:702: ConvergenceWarning: Stochastic Optimizer: Maximum iterations (200) reached and the optimization hasn't converged yet.\n",
      "  warnings.warn(\n"
     ]
    },
    {
     "name": "stdout",
     "output_type": "stream",
     "text": [
      "Total time: 6.42s (training model: 0.99s, training explainer: 2.58s, experiment: 2.84s)\n",
      "Accuracy: 0.6552984165651644, precision: 0.5933908045977011, recall: 1.0\n",
      "dataset: heart, model: neural network (repetition 4)\n"
     ]
    },
    {
     "name": "stderr",
     "output_type": "stream",
     "text": [
      "c:\\users\\ml_ks\\venvs\\xai_new\\lib\\site-packages\\sklearn\\neural_network\\_multilayer_perceptron.py:702: ConvergenceWarning: Stochastic Optimizer: Maximum iterations (200) reached and the optimization hasn't converged yet.\n",
      "  warnings.warn(\n"
     ]
    },
    {
     "name": "stdout",
     "output_type": "stream",
     "text": [
      "Total time: 6.51s (training model: 1.01s, training explainer: 2.65s, experiment: 2.86s)\n",
      "Accuracy: 0.6405867970660146, precision: 0.5841584158415841, recall: 1.0\n",
      "dataset: heart, model: neural network (repetition 5)\n"
     ]
    },
    {
     "name": "stderr",
     "output_type": "stream",
     "text": [
      "c:\\users\\ml_ks\\venvs\\xai_new\\lib\\site-packages\\sklearn\\neural_network\\_multilayer_perceptron.py:702: ConvergenceWarning: Stochastic Optimizer: Maximum iterations (200) reached and the optimization hasn't converged yet.\n",
      "  warnings.warn(\n"
     ]
    },
    {
     "name": "stdout",
     "output_type": "stream",
     "text": [
      "Total time: 6.53s (training model: 1.03s, training explainer: 2.64s, experiment: 2.87s)\n",
      "Accuracy: 0.6373626373626373, precision: 0.5816901408450704, recall: 1.0\n",
      "dataset: heart, model: neural network (repetition 6)\n"
     ]
    },
    {
     "name": "stderr",
     "output_type": "stream",
     "text": [
      "c:\\users\\ml_ks\\venvs\\xai_new\\lib\\site-packages\\sklearn\\neural_network\\_multilayer_perceptron.py:702: ConvergenceWarning: Stochastic Optimizer: Maximum iterations (200) reached and the optimization hasn't converged yet.\n",
      "  warnings.warn(\n"
     ]
    },
    {
     "name": "stdout",
     "output_type": "stream",
     "text": [
      "Total time: 6.61s (training model: 0.99s, training explainer: 2.75s, experiment: 2.87s)\n",
      "Accuracy: 0.6482843137254902, precision: 0.59, recall: 1.0\n",
      "dataset: heart, model: neural network (repetition 7)\n"
     ]
    },
    {
     "name": "stderr",
     "output_type": "stream",
     "text": [
      "c:\\users\\ml_ks\\venvs\\xai_new\\lib\\site-packages\\sklearn\\neural_network\\_multilayer_perceptron.py:702: ConvergenceWarning: Stochastic Optimizer: Maximum iterations (200) reached and the optimization hasn't converged yet.\n",
      "  warnings.warn(\n"
     ]
    },
    {
     "name": "stdout",
     "output_type": "stream",
     "text": [
      "Total time: 6.60s (training model: 1.02s, training explainer: 2.63s, experiment: 2.95s)\n",
      "Accuracy: 0.6413708690330477, precision: 0.5849858356940509, recall: 1.0\n",
      "dataset: heart, model: neural network (repetition 8)\n"
     ]
    },
    {
     "name": "stderr",
     "output_type": "stream",
     "text": [
      "c:\\users\\ml_ks\\venvs\\xai_new\\lib\\site-packages\\sklearn\\neural_network\\_multilayer_perceptron.py:702: ConvergenceWarning: Stochastic Optimizer: Maximum iterations (200) reached and the optimization hasn't converged yet.\n",
      "  warnings.warn(\n"
     ]
    },
    {
     "name": "stdout",
     "output_type": "stream",
     "text": [
      "Total time: 6.53s (training model: 1.03s, training explainer: 2.64s, experiment: 2.85s)\n",
      "Accuracy: 0.6279357231149567, precision: 0.5784313725490197, recall: 1.0\n",
      "dataset: heart, model: neural network (repetition 9)\n"
     ]
    },
    {
     "name": "stderr",
     "output_type": "stream",
     "text": [
      "c:\\users\\ml_ks\\venvs\\xai_new\\lib\\site-packages\\sklearn\\neural_network\\_multilayer_perceptron.py:702: ConvergenceWarning: Stochastic Optimizer: Maximum iterations (200) reached and the optimization hasn't converged yet.\n",
      "  warnings.warn(\n"
     ]
    },
    {
     "name": "stdout",
     "output_type": "stream",
     "text": [
      "Total time: 6.55s (training model: 1.01s, training explainer: 2.66s, experiment: 2.88s)\n",
      "Accuracy: 0.6329268292682927, precision: 0.5784313725490197, recall: 1.0\n",
      "dataset: heart numeric, model: decision tree (repetition 0)\n",
      "Total time: 3.56s (training model: 0.01s, training explainer: 0.71s, experiment: 2.85s)\n",
      "Accuracy: 0.6552567237163814, precision: 0.5936599423631124, recall: 1.0\n",
      "dataset: heart numeric, model: decision tree (repetition 1)\n",
      "Total time: 3.61s (training model: 0.00s, training explainer: 0.74s, experiment: 2.87s)\n",
      "Accuracy: 0.6349206349206349, precision: 0.5794655414908579, recall: 1.0\n",
      "dataset: heart numeric, model: decision tree (repetition 2)\n",
      "Total time: 3.62s (training model: 0.00s, training explainer: 0.73s, experiment: 2.89s)\n",
      "Accuracy: 0.6127450980392157, precision: 0.5659340659340659, recall: 1.0\n",
      "dataset: heart numeric, model: decision tree (repetition 3)\n",
      "Total time: 3.63s (training model: 0.00s, training explainer: 0.76s, experiment: 2.87s)\n",
      "Accuracy: 0.6526576019777504, precision: 0.5945165945165946, recall: 1.0\n",
      "dataset: heart numeric, model: decision tree (repetition 4)\n",
      "Total time: 3.61s (training model: 0.02s, training explainer: 0.72s, experiment: 2.87s)\n",
      "Accuracy: 0.6425061425061425, precision: 0.5860597439544808, recall: 1.0\n",
      "dataset: heart numeric, model: decision tree (repetition 5)\n",
      "Total time: 3.61s (training model: 0.02s, training explainer: 0.73s, experiment: 2.87s)\n",
      "Accuracy: 0.6329268292682927, precision: 0.5778401122019635, recall: 1.0\n",
      "dataset: heart numeric, model: decision tree (repetition 6)\n",
      "Total time: 3.61s (training model: 0.02s, training explainer: 0.75s, experiment: 2.84s)\n",
      "Accuracy: 0.6234718826405868, precision: 0.5722222222222222, recall: 1.0\n",
      "dataset: heart numeric, model: decision tree (repetition 7)\n",
      "Total time: 3.57s (training model: 0.01s, training explainer: 0.67s, experiment: 2.89s)\n",
      "Accuracy: 0.6552567237163814, precision: 0.5936599423631124, recall: 1.0\n",
      "dataset: heart numeric, model: decision tree (repetition 8)\n",
      "Total time: 3.59s (training model: 0.02s, training explainer: 0.69s, experiment: 2.89s)\n",
      "Accuracy: 0.6225490196078431, precision: 0.5722222222222222, recall: 1.0\n",
      "dataset: heart numeric, model: decision tree (repetition 9)\n",
      "Total time: 3.61s (training model: 0.02s, training explainer: 0.70s, experiment: 2.89s)\n",
      "Accuracy: 0.620563035495716, precision: 0.5706371191135734, recall: 1.0\n",
      "dataset: heart numeric, model: random forest (repetition 0)\n",
      "Total time: 4.44s (training model: 0.02s, training explainer: 1.57s, experiment: 2.85s)\n",
      "Accuracy: 0.6441717791411042, precision: 0.5868945868945868, recall: 1.0\n",
      "dataset: heart numeric, model: random forest (repetition 1)\n",
      "Total time: 4.45s (training model: 0.05s, training explainer: 1.57s, experiment: 2.82s)\n",
      "Accuracy: 0.6266829865361077, precision: 0.5746164574616457, recall: 1.0\n",
      "dataset: heart numeric, model: random forest (repetition 2)\n",
      "Total time: 4.55s (training model: 0.03s, training explainer: 1.68s, experiment: 2.84s)\n",
      "Accuracy: 0.6402439024390244, precision: 0.5827439886845828, recall: 1.0\n",
      "dataset: heart numeric, model: random forest (repetition 3)\n",
      "Total time: 4.51s (training model: 0.03s, training explainer: 1.64s, experiment: 2.84s)\n",
      "Accuracy: 0.6334563345633456, precision: 0.5802816901408451, recall: 1.0\n",
      "dataset: heart numeric, model: random forest (repetition 4)\n",
      "Total time: 4.43s (training model: 0.03s, training explainer: 1.52s, experiment: 2.88s)\n",
      "Accuracy: 0.6492082825822169, precision: 0.5885714285714285, recall: 1.0\n",
      "dataset: heart numeric, model: random forest (repetition 5)\n",
      "Total time: 4.46s (training model: 0.03s, training explainer: 1.52s, experiment: 2.91s)\n",
      "Accuracy: 0.6564039408866995, precision: 0.5962373371924746, recall: 1.0\n",
      "dataset: heart numeric, model: random forest (repetition 6)\n",
      "Total time: 4.61s (training model: 0.03s, training explainer: 1.74s, experiment: 2.84s)\n",
      "Accuracy: 0.629950495049505, precision: 0.5794655414908579, recall: 1.0\n",
      "dataset: heart numeric, model: random forest (repetition 7)\n",
      "Total time: 4.47s (training model: 0.03s, training explainer: 1.59s, experiment: 2.85s)\n",
      "Accuracy: 0.6479902557856273, precision: 0.5877318116975749, recall: 1.0\n",
      "dataset: heart numeric, model: random forest (repetition 8)\n",
      "Total time: 4.48s (training model: 0.03s, training explainer: 1.57s, experiment: 2.88s)\n",
      "Accuracy: 0.6476306196840826, precision: 0.5868945868945868, recall: 1.0\n",
      "dataset: heart numeric, model: random forest (repetition 9)\n",
      "Total time: 4.50s (training model: 0.03s, training explainer: 1.60s, experiment: 2.87s)\n",
      "Accuracy: 0.6154791154791155, precision: 0.5682758620689655, recall: 1.0\n",
      "dataset: heart numeric, model: neural network (repetition 0)\n"
     ]
    },
    {
     "name": "stderr",
     "output_type": "stream",
     "text": [
      "c:\\users\\ml_ks\\venvs\\xai_new\\lib\\site-packages\\sklearn\\neural_network\\_multilayer_perceptron.py:702: ConvergenceWarning: Stochastic Optimizer: Maximum iterations (200) reached and the optimization hasn't converged yet.\n",
      "  warnings.warn(\n"
     ]
    },
    {
     "name": "stdout",
     "output_type": "stream",
     "text": [
      "Total time: 4.58s (training model: 0.58s, training explainer: 1.16s, experiment: 2.85s)\n",
      "Accuracy: 0.6515892420537898, precision: 0.5911047345767575, recall: 1.0\n",
      "dataset: heart numeric, model: neural network (repetition 1)\n",
      "Total time: 4.55s (training model: 0.58s, training explainer: 1.14s, experiment: 2.83s)\n",
      "Accuracy: 0.6297662976629766, precision: 0.5778401122019635, recall: 1.0\n",
      "dataset: heart numeric, model: neural network (repetition 2)\n"
     ]
    },
    {
     "name": "stderr",
     "output_type": "stream",
     "text": [
      "c:\\users\\ml_ks\\venvs\\xai_new\\lib\\site-packages\\sklearn\\neural_network\\_multilayer_perceptron.py:702: ConvergenceWarning: Stochastic Optimizer: Maximum iterations (200) reached and the optimization hasn't converged yet.\n",
      "  warnings.warn(\n"
     ]
    },
    {
     "name": "stdout",
     "output_type": "stream",
     "text": [
      "Total time: 4.58s (training model: 0.63s, training explainer: 1.13s, experiment: 2.83s)\n",
      "Accuracy: 0.6544117647058824, precision: 0.5936599423631124, recall: 1.0\n",
      "dataset: heart numeric, model: neural network (repetition 3)\n"
     ]
    },
    {
     "name": "stderr",
     "output_type": "stream",
     "text": [
      "c:\\users\\ml_ks\\venvs\\xai_new\\lib\\site-packages\\sklearn\\neural_network\\_multilayer_perceptron.py:702: ConvergenceWarning: Stochastic Optimizer: Maximum iterations (200) reached and the optimization hasn't converged yet.\n",
      "  warnings.warn(\n"
     ]
    },
    {
     "name": "stdout",
     "output_type": "stream",
     "text": [
      "Total time: 4.65s (training model: 0.60s, training explainer: 1.22s, experiment: 2.83s)\n",
      "Accuracy: 0.6075794621026895, precision: 0.5620736698499318, recall: 1.0\n",
      "dataset: heart numeric, model: neural network (repetition 4)\n"
     ]
    },
    {
     "name": "stderr",
     "output_type": "stream",
     "text": [
      "c:\\users\\ml_ks\\venvs\\xai_new\\lib\\site-packages\\sklearn\\neural_network\\_multilayer_perceptron.py:702: ConvergenceWarning: Stochastic Optimizer: Maximum iterations (200) reached and the optimization hasn't converged yet.\n",
      "  warnings.warn(\n"
     ]
    },
    {
     "name": "stdout",
     "output_type": "stream",
     "text": [
      "Total time: 4.72s (training model: 0.63s, training explainer: 1.24s, experiment: 2.86s)\n",
      "Accuracy: 0.630407911001236, precision: 0.5794655414908579, recall: 1.0\n",
      "dataset: heart numeric, model: neural network (repetition 5)\n"
     ]
    },
    {
     "name": "stderr",
     "output_type": "stream",
     "text": [
      "c:\\users\\ml_ks\\venvs\\xai_new\\lib\\site-packages\\sklearn\\neural_network\\_multilayer_perceptron.py:702: ConvergenceWarning: Stochastic Optimizer: Maximum iterations (200) reached and the optimization hasn't converged yet.\n",
      "  warnings.warn(\n"
     ]
    },
    {
     "name": "stdout",
     "output_type": "stream",
     "text": [
      "Total time: 4.65s (training model: 0.63s, training explainer: 1.19s, experiment: 2.83s)\n",
      "Accuracy: 0.6358099878197321, precision: 0.5794655414908579, recall: 1.0\n",
      "dataset: heart numeric, model: neural network (repetition 6)\n"
     ]
    },
    {
     "name": "stderr",
     "output_type": "stream",
     "text": [
      "c:\\users\\ml_ks\\venvs\\xai_new\\lib\\site-packages\\sklearn\\neural_network\\_multilayer_perceptron.py:702: ConvergenceWarning: Stochastic Optimizer: Maximum iterations (200) reached and the optimization hasn't converged yet.\n",
      "  warnings.warn(\n"
     ]
    },
    {
     "name": "stdout",
     "output_type": "stream",
     "text": [
      "Total time: 4.58s (training model: 0.61s, training explainer: 1.14s, experiment: 2.83s)\n",
      "Accuracy: 0.6621454993834772, precision: 0.6005830903790087, recall: 1.0\n",
      "dataset: heart numeric, model: neural network (repetition 7)\n"
     ]
    },
    {
     "name": "stderr",
     "output_type": "stream",
     "text": [
      "c:\\users\\ml_ks\\venvs\\xai_new\\lib\\site-packages\\sklearn\\neural_network\\_multilayer_perceptron.py:702: ConvergenceWarning: Stochastic Optimizer: Maximum iterations (200) reached and the optimization hasn't converged yet.\n",
      "  warnings.warn(\n"
     ]
    },
    {
     "name": "stdout",
     "output_type": "stream",
     "text": [
      "Total time: 4.62s (training model: 0.63s, training explainer: 1.16s, experiment: 2.83s)\n",
      "Accuracy: 0.6455542021924482, precision: 0.5860597439544808, recall: 1.0\n",
      "dataset: heart numeric, model: neural network (repetition 8)\n"
     ]
    },
    {
     "name": "stderr",
     "output_type": "stream",
     "text": [
      "c:\\users\\ml_ks\\venvs\\xai_new\\lib\\site-packages\\sklearn\\neural_network\\_multilayer_perceptron.py:702: ConvergenceWarning: Stochastic Optimizer: Maximum iterations (200) reached and the optimization hasn't converged yet.\n",
      "  warnings.warn(\n"
     ]
    },
    {
     "name": "stdout",
     "output_type": "stream",
     "text": [
      "Total time: 4.63s (training model: 0.63s, training explainer: 1.18s, experiment: 2.83s)\n",
      "Accuracy: 0.6407407407407407, precision: 0.5860597439544808, recall: 1.0\n",
      "dataset: heart numeric, model: neural network (repetition 9)\n"
     ]
    },
    {
     "name": "stderr",
     "output_type": "stream",
     "text": [
      "c:\\users\\ml_ks\\venvs\\xai_new\\lib\\site-packages\\sklearn\\neural_network\\_multilayer_perceptron.py:702: ConvergenceWarning: Stochastic Optimizer: Maximum iterations (200) reached and the optimization hasn't converged yet.\n",
      "  warnings.warn(\n"
     ]
    },
    {
     "name": "stdout",
     "output_type": "stream",
     "text": [
      "Total time: 4.62s (training model: 0.62s, training explainer: 1.17s, experiment: 2.83s)\n",
      "Accuracy: 0.6326781326781327, precision: 0.5794655414908579, recall: 1.0\n",
      "dataset: heart categorical, model: decision tree (repetition 0)\n",
      "Total time: 3.21s (training model: 0.02s, training explainer: 0.28s, experiment: 2.91s)\n",
      "Accuracy: 0.5049261083743842, precision: 0.5049261083743842, recall: 1.0\n",
      "dataset: heart categorical, model: decision tree (repetition 1)\n",
      "Total time: 3.21s (training model: 0.02s, training explainer: 0.31s, experiment: 2.88s)\n",
      "Accuracy: 0.5012224938875306, precision: 0.5012224938875306, recall: 1.0\n",
      "dataset: heart categorical, model: decision tree (repetition 2)\n",
      "Total time: 3.21s (training model: 0.00s, training explainer: 0.30s, experiment: 2.92s)\n",
      "Accuracy: 0.5036855036855037, precision: 0.5036855036855037, recall: 1.0\n",
      "dataset: heart categorical, model: decision tree (repetition 3)\n",
      "Total time: 3.20s (training model: 0.00s, training explainer: 0.30s, experiment: 2.90s)\n",
      "Accuracy: 0.5024509803921569, precision: 0.5024509803921569, recall: 1.0\n",
      "dataset: heart categorical, model: decision tree (repetition 4)\n",
      "Total time: 3.23s (training model: 0.03s, training explainer: 0.29s, experiment: 2.92s)\n",
      "Accuracy: 0.5018359853121175, precision: 0.5018359853121175, recall: 1.0\n",
      "dataset: heart categorical, model: decision tree (repetition 5)\n",
      "Total time: 3.18s (training model: 0.02s, training explainer: 0.28s, experiment: 2.89s)\n",
      "Accuracy: 0.5030674846625767, precision: 0.5030674846625767, recall: 1.0\n",
      "dataset: heart categorical, model: decision tree (repetition 6)\n",
      "Total time: 3.21s (training model: 0.02s, training explainer: 0.28s, experiment: 2.92s)\n",
      "Accuracy: 0.5012224938875306, precision: 0.5012224938875306, recall: 1.0\n",
      "dataset: heart categorical, model: decision tree (repetition 7)\n",
      "Total time: 3.22s (training model: 0.02s, training explainer: 0.28s, experiment: 2.92s)\n",
      "Accuracy: 0.5036855036855037, precision: 0.5036855036855037, recall: 1.0\n",
      "dataset: heart categorical, model: decision tree (repetition 8)\n",
      "Total time: 3.24s (training model: 0.02s, training explainer: 0.28s, experiment: 2.94s)\n",
      "Accuracy: 0.5006105006105006, precision: 0.5006105006105006, recall: 1.0\n",
      "dataset: heart categorical, model: decision tree (repetition 9)\n",
      "Total time: 3.18s (training model: 0.01s, training explainer: 0.28s, experiment: 2.89s)\n",
      "Accuracy: 0.5036855036855037, precision: 0.5036855036855037, recall: 1.0\n",
      "dataset: heart categorical, model: random forest (repetition 0)\n"
     ]
    },
    {
     "name": "stderr",
     "output_type": "stream",
     "text": [
      "c:\\users\\ml_ks\\venvs\\xai_new\\lib\\site-packages\\sklearn\\ensemble\\_forest.py:427: FutureWarning: `max_features='auto'` has been deprecated in 1.1 and will be removed in 1.3. To keep the past behaviour, explicitly set `max_features='sqrt'` or remove this parameter as it is also the default value for RandomForestClassifiers and ExtraTreesClassifiers.\n",
      "  warn(\n"
     ]
    },
    {
     "name": "stdout",
     "output_type": "stream",
     "text": [
      "Total time: 4.11s (training model: 0.16s, training explainer: 1.02s, experiment: 2.93s)\n",
      "Accuracy: 0.5012224938875306, precision: 0.5012224938875306, recall: 1.0\n",
      "dataset: heart categorical, model: random forest (repetition 1)\n"
     ]
    },
    {
     "name": "stderr",
     "output_type": "stream",
     "text": [
      "c:\\users\\ml_ks\\venvs\\xai_new\\lib\\site-packages\\sklearn\\ensemble\\_forest.py:427: FutureWarning: `max_features='auto'` has been deprecated in 1.1 and will be removed in 1.3. To keep the past behaviour, explicitly set `max_features='sqrt'` or remove this parameter as it is also the default value for RandomForestClassifiers and ExtraTreesClassifiers.\n",
      "  warn(\n"
     ]
    },
    {
     "name": "stdout",
     "output_type": "stream",
     "text": [
      "Total time: 4.08s (training model: 0.19s, training explainer: 1.04s, experiment: 2.86s)\n",
      "Accuracy: 0.5024509803921569, precision: 0.5024509803921569, recall: 1.0\n",
      "dataset: heart categorical, model: random forest (repetition 2)\n"
     ]
    },
    {
     "name": "stderr",
     "output_type": "stream",
     "text": [
      "c:\\users\\ml_ks\\venvs\\xai_new\\lib\\site-packages\\sklearn\\ensemble\\_forest.py:427: FutureWarning: `max_features='auto'` has been deprecated in 1.1 and will be removed in 1.3. To keep the past behaviour, explicitly set `max_features='sqrt'` or remove this parameter as it is also the default value for RandomForestClassifiers and ExtraTreesClassifiers.\n",
      "  warn(\n"
     ]
    },
    {
     "name": "stdout",
     "output_type": "stream",
     "text": [
      "Total time: 4.03s (training model: 0.15s, training explainer: 1.00s, experiment: 2.87s)\n",
      "Accuracy: 0.5049261083743842, precision: 0.5049261083743842, recall: 1.0\n",
      "dataset: heart categorical, model: random forest (repetition 3)\n"
     ]
    },
    {
     "name": "stderr",
     "output_type": "stream",
     "text": [
      "c:\\users\\ml_ks\\venvs\\xai_new\\lib\\site-packages\\sklearn\\ensemble\\_forest.py:427: FutureWarning: `max_features='auto'` has been deprecated in 1.1 and will be removed in 1.3. To keep the past behaviour, explicitly set `max_features='sqrt'` or remove this parameter as it is also the default value for RandomForestClassifiers and ExtraTreesClassifiers.\n",
      "  warn(\n"
     ]
    },
    {
     "name": "stdout",
     "output_type": "stream",
     "text": [
      "Total time: 4.05s (training model: 0.14s, training explainer: 1.04s, experiment: 2.87s)\n",
      "Accuracy: 0.5012224938875306, precision: 0.5012224938875306, recall: 1.0\n",
      "dataset: heart categorical, model: random forest (repetition 4)\n"
     ]
    },
    {
     "name": "stderr",
     "output_type": "stream",
     "text": [
      "c:\\users\\ml_ks\\venvs\\xai_new\\lib\\site-packages\\sklearn\\ensemble\\_forest.py:427: FutureWarning: `max_features='auto'` has been deprecated in 1.1 and will be removed in 1.3. To keep the past behaviour, explicitly set `max_features='sqrt'` or remove this parameter as it is also the default value for RandomForestClassifiers and ExtraTreesClassifiers.\n",
      "  warn(\n"
     ]
    },
    {
     "name": "stdout",
     "output_type": "stream",
     "text": [
      "Total time: 4.11s (training model: 0.19s, training explainer: 1.08s, experiment: 2.84s)\n",
      "Accuracy: 0.5012224938875306, precision: 0.5012224938875306, recall: 1.0\n",
      "dataset: heart categorical, model: random forest (repetition 5)\n"
     ]
    },
    {
     "name": "stderr",
     "output_type": "stream",
     "text": [
      "c:\\users\\ml_ks\\venvs\\xai_new\\lib\\site-packages\\sklearn\\ensemble\\_forest.py:427: FutureWarning: `max_features='auto'` has been deprecated in 1.1 and will be removed in 1.3. To keep the past behaviour, explicitly set `max_features='sqrt'` or remove this parameter as it is also the default value for RandomForestClassifiers and ExtraTreesClassifiers.\n",
      "  warn(\n"
     ]
    },
    {
     "name": "stdout",
     "output_type": "stream",
     "text": [
      "Total time: 4.05s (training model: 0.14s, training explainer: 1.07s, experiment: 2.85s)\n",
      "Accuracy: 0.5012224938875306, precision: 0.5012224938875306, recall: 1.0\n",
      "dataset: heart categorical, model: random forest (repetition 6)\n"
     ]
    },
    {
     "name": "stderr",
     "output_type": "stream",
     "text": [
      "c:\\users\\ml_ks\\venvs\\xai_new\\lib\\site-packages\\sklearn\\ensemble\\_forest.py:427: FutureWarning: `max_features='auto'` has been deprecated in 1.1 and will be removed in 1.3. To keep the past behaviour, explicitly set `max_features='sqrt'` or remove this parameter as it is also the default value for RandomForestClassifiers and ExtraTreesClassifiers.\n",
      "  warn(\n"
     ]
    },
    {
     "name": "stdout",
     "output_type": "stream",
     "text": [
      "Total time: 4.02s (training model: 0.14s, training explainer: 1.02s, experiment: 2.86s)\n",
      "Accuracy: 0.5024509803921569, precision: 0.5024509803921569, recall: 1.0\n",
      "dataset: heart categorical, model: random forest (repetition 7)\n"
     ]
    },
    {
     "name": "stderr",
     "output_type": "stream",
     "text": [
      "c:\\users\\ml_ks\\venvs\\xai_new\\lib\\site-packages\\sklearn\\ensemble\\_forest.py:427: FutureWarning: `max_features='auto'` has been deprecated in 1.1 and will be removed in 1.3. To keep the past behaviour, explicitly set `max_features='sqrt'` or remove this parameter as it is also the default value for RandomForestClassifiers and ExtraTreesClassifiers.\n",
      "  warn(\n"
     ]
    },
    {
     "name": "stdout",
     "output_type": "stream",
     "text": [
      "Total time: 4.06s (training model: 0.16s, training explainer: 1.02s, experiment: 2.88s)\n",
      "Accuracy: 0.5006105006105006, precision: 0.5006105006105006, recall: 1.0\n",
      "dataset: heart categorical, model: random forest (repetition 8)\n"
     ]
    },
    {
     "name": "stderr",
     "output_type": "stream",
     "text": [
      "c:\\users\\ml_ks\\venvs\\xai_new\\lib\\site-packages\\sklearn\\ensemble\\_forest.py:427: FutureWarning: `max_features='auto'` has been deprecated in 1.1 and will be removed in 1.3. To keep the past behaviour, explicitly set `max_features='sqrt'` or remove this parameter as it is also the default value for RandomForestClassifiers and ExtraTreesClassifiers.\n",
      "  warn(\n"
     ]
    },
    {
     "name": "stdout",
     "output_type": "stream",
     "text": [
      "Total time: 4.14s (training model: 0.14s, training explainer: 0.99s, experiment: 3.01s)\n",
      "Accuracy: 0.5055487053020962, precision: 0.5055487053020962, recall: 1.0\n",
      "dataset: heart categorical, model: random forest (repetition 9)\n"
     ]
    },
    {
     "name": "stderr",
     "output_type": "stream",
     "text": [
      "c:\\users\\ml_ks\\venvs\\xai_new\\lib\\site-packages\\sklearn\\ensemble\\_forest.py:427: FutureWarning: `max_features='auto'` has been deprecated in 1.1 and will be removed in 1.3. To keep the past behaviour, explicitly set `max_features='sqrt'` or remove this parameter as it is also the default value for RandomForestClassifiers and ExtraTreesClassifiers.\n",
      "  warn(\n"
     ]
    },
    {
     "name": "stdout",
     "output_type": "stream",
     "text": [
      "Total time: 4.04s (training model: 0.14s, training explainer: 1.04s, experiment: 2.86s)\n",
      "Accuracy: 0.5012224938875306, precision: 0.5012224938875306, recall: 1.0\n",
      "dataset: heart categorical, model: neural network (repetition 0)\n"
     ]
    },
    {
     "name": "stderr",
     "output_type": "stream",
     "text": [
      "c:\\users\\ml_ks\\venvs\\xai_new\\lib\\site-packages\\sklearn\\neural_network\\_multilayer_perceptron.py:702: ConvergenceWarning: Stochastic Optimizer: Maximum iterations (200) reached and the optimization hasn't converged yet.\n",
      "  warnings.warn(\n"
     ]
    },
    {
     "name": "stdout",
     "output_type": "stream",
     "text": [
      "Total time: 4.18s (training model: 0.91s, training explainer: 0.39s, experiment: 2.87s)\n",
      "Accuracy: 0.5024509803921569, precision: 0.5024509803921569, recall: 1.0\n",
      "dataset: heart categorical, model: neural network (repetition 1)\n"
     ]
    },
    {
     "name": "stderr",
     "output_type": "stream",
     "text": [
      "c:\\users\\ml_ks\\venvs\\xai_new\\lib\\site-packages\\sklearn\\neural_network\\_multilayer_perceptron.py:702: ConvergenceWarning: Stochastic Optimizer: Maximum iterations (200) reached and the optimization hasn't converged yet.\n",
      "  warnings.warn(\n"
     ]
    },
    {
     "name": "stdout",
     "output_type": "stream",
     "text": [
      "Total time: 4.15s (training model: 0.89s, training explainer: 0.41s, experiment: 2.85s)\n",
      "Accuracy: 0.5030674846625767, precision: 0.5030674846625767, recall: 1.0\n",
      "dataset: heart categorical, model: neural network (repetition 2)\n"
     ]
    },
    {
     "name": "stderr",
     "output_type": "stream",
     "text": [
      "c:\\users\\ml_ks\\venvs\\xai_new\\lib\\site-packages\\sklearn\\neural_network\\_multilayer_perceptron.py:702: ConvergenceWarning: Stochastic Optimizer: Maximum iterations (200) reached and the optimization hasn't converged yet.\n",
      "  warnings.warn(\n"
     ]
    },
    {
     "name": "stdout",
     "output_type": "stream",
     "text": [
      "Total time: 4.15s (training model: 0.90s, training explainer: 0.39s, experiment: 2.86s)\n",
      "Accuracy: 0.5006105006105006, precision: 0.5006105006105006, recall: 1.0\n",
      "dataset: heart categorical, model: neural network (repetition 3)\n"
     ]
    },
    {
     "name": "stderr",
     "output_type": "stream",
     "text": [
      "c:\\users\\ml_ks\\venvs\\xai_new\\lib\\site-packages\\sklearn\\neural_network\\_multilayer_perceptron.py:702: ConvergenceWarning: Stochastic Optimizer: Maximum iterations (200) reached and the optimization hasn't converged yet.\n",
      "  warnings.warn(\n"
     ]
    },
    {
     "name": "stdout",
     "output_type": "stream",
     "text": [
      "Total time: 4.16s (training model: 0.91s, training explainer: 0.39s, experiment: 2.86s)\n",
      "Accuracy: 0.5030674846625767, precision: 0.5030674846625767, recall: 1.0\n",
      "dataset: heart categorical, model: neural network (repetition 4)\n"
     ]
    },
    {
     "name": "stderr",
     "output_type": "stream",
     "text": [
      "c:\\users\\ml_ks\\venvs\\xai_new\\lib\\site-packages\\sklearn\\neural_network\\_multilayer_perceptron.py:702: ConvergenceWarning: Stochastic Optimizer: Maximum iterations (200) reached and the optimization hasn't converged yet.\n",
      "  warnings.warn(\n"
     ]
    },
    {
     "name": "stdout",
     "output_type": "stream",
     "text": [
      "Total time: 4.21s (training model: 0.96s, training explainer: 0.38s, experiment: 2.87s)\n",
      "Accuracy: 0.5018359853121175, precision: 0.5018359853121175, recall: 1.0\n",
      "dataset: heart categorical, model: neural network (repetition 5)\n"
     ]
    },
    {
     "name": "stderr",
     "output_type": "stream",
     "text": [
      "c:\\users\\ml_ks\\venvs\\xai_new\\lib\\site-packages\\sklearn\\neural_network\\_multilayer_perceptron.py:702: ConvergenceWarning: Stochastic Optimizer: Maximum iterations (200) reached and the optimization hasn't converged yet.\n",
      "  warnings.warn(\n"
     ]
    },
    {
     "name": "stdout",
     "output_type": "stream",
     "text": [
      "Total time: 4.12s (training model: 0.89s, training explainer: 0.37s, experiment: 2.86s)\n",
      "Accuracy: 0.5043050430504306, precision: 0.5043050430504306, recall: 1.0\n",
      "dataset: heart categorical, model: neural network (repetition 6)\n"
     ]
    },
    {
     "name": "stderr",
     "output_type": "stream",
     "text": [
      "c:\\users\\ml_ks\\venvs\\xai_new\\lib\\site-packages\\sklearn\\neural_network\\_multilayer_perceptron.py:702: ConvergenceWarning: Stochastic Optimizer: Maximum iterations (200) reached and the optimization hasn't converged yet.\n",
      "  warnings.warn(\n"
     ]
    },
    {
     "name": "stdout",
     "output_type": "stream",
     "text": [
      "Total time: 4.15s (training model: 0.93s, training explainer: 0.38s, experiment: 2.84s)\n",
      "Accuracy: 0.5036855036855037, precision: 0.5036855036855037, recall: 1.0\n",
      "dataset: heart categorical, model: neural network (repetition 7)\n"
     ]
    },
    {
     "name": "stderr",
     "output_type": "stream",
     "text": [
      "c:\\users\\ml_ks\\venvs\\xai_new\\lib\\site-packages\\sklearn\\neural_network\\_multilayer_perceptron.py:702: ConvergenceWarning: Stochastic Optimizer: Maximum iterations (200) reached and the optimization hasn't converged yet.\n",
      "  warnings.warn(\n"
     ]
    },
    {
     "name": "stdout",
     "output_type": "stream",
     "text": [
      "Total time: 4.13s (training model: 0.87s, training explainer: 0.40s, experiment: 2.86s)\n",
      "Accuracy: 0.5018359853121175, precision: 0.5018359853121175, recall: 1.0\n",
      "dataset: heart categorical, model: neural network (repetition 8)\n"
     ]
    },
    {
     "name": "stderr",
     "output_type": "stream",
     "text": [
      "c:\\users\\ml_ks\\venvs\\xai_new\\lib\\site-packages\\sklearn\\neural_network\\_multilayer_perceptron.py:702: ConvergenceWarning: Stochastic Optimizer: Maximum iterations (200) reached and the optimization hasn't converged yet.\n",
      "  warnings.warn(\n"
     ]
    },
    {
     "name": "stdout",
     "output_type": "stream",
     "text": [
      "Total time: 4.16s (training model: 0.89s, training explainer: 0.40s, experiment: 2.87s)\n",
      "Accuracy: 0.5024509803921569, precision: 0.5024509803921569, recall: 1.0\n",
      "dataset: heart categorical, model: neural network (repetition 9)\n"
     ]
    },
    {
     "name": "stderr",
     "output_type": "stream",
     "text": [
      "c:\\users\\ml_ks\\venvs\\xai_new\\lib\\site-packages\\sklearn\\neural_network\\_multilayer_perceptron.py:702: ConvergenceWarning: Stochastic Optimizer: Maximum iterations (200) reached and the optimization hasn't converged yet.\n",
      "  warnings.warn(\n"
     ]
    },
    {
     "name": "stdout",
     "output_type": "stream",
     "text": [
      "Total time: 4.14s (training model: 0.89s, training explainer: 0.40s, experiment: 2.85s)\n",
      "Accuracy: 0.5012224938875306, precision: 0.5012224938875306, recall: 1.0\n",
      "dataset: census, model: decision tree (repetition 0)\n",
      "Total time: 10.81s (training model: 0.31s, training explainer: 7.09s, experiment: 3.41s)\n",
      "Accuracy: 0.5019001292087862, precision: 0.500951873286628, recall: 1.0\n",
      "dataset: census, model: decision tree (repetition 1)\n",
      "Total time: 10.57s (training model: 0.32s, training explainer: 6.84s, experiment: 3.41s)\n",
      "Accuracy: 0.5017862572210399, precision: 0.500913728774842, recall: 1.0\n",
      "dataset: census, model: decision tree (repetition 2)\n",
      "Total time: 10.49s (training model: 0.33s, training explainer: 6.78s, experiment: 3.37s)\n",
      "Accuracy: 0.501311138980732, precision: 0.5006659309714981, recall: 1.0\n",
      "dataset: census, model: decision tree (repetition 3)\n",
      "Total time: 10.30s (training model: 0.33s, training explainer: 6.61s, experiment: 3.36s)\n",
      "Accuracy: 0.5022043174217087, precision: 0.501123595505618, recall: 1.0\n",
      "dataset: census, model: decision tree (repetition 4)\n",
      "Total time: 10.37s (training model: 0.33s, training explainer: 6.67s, experiment: 3.38s)\n",
      "Accuracy: 0.5018621266246105, precision: 0.5009328003045879, recall: 1.0\n",
      "dataset: census, model: decision tree (repetition 5)\n",
      "Total time: 10.28s (training model: 0.32s, training explainer: 6.60s, experiment: 3.36s)\n",
      "Accuracy: 0.5022803283672849, precision: 0.5011617719879633, recall: 1.0\n",
      "dataset: census, model: decision tree (repetition 6)\n",
      "Total time: 10.40s (training model: 0.31s, training explainer: 6.70s, experiment: 3.39s)\n",
      "Accuracy: 0.5017293147352818, precision: 0.5008946586972246, recall: 1.0\n",
      "dataset: census, model: decision tree (repetition 7)\n",
      "Total time: 10.23s (training model: 0.31s, training explainer: 6.56s, experiment: 3.36s)\n",
      "Accuracy: 0.5021668060518513, precision: 0.5011617719879633, recall: 1.0\n",
      "dataset: census, model: decision tree (repetition 8)\n",
      "Total time: 10.37s (training model: 0.33s, training explainer: 6.65s, experiment: 3.39s)\n",
      "Accuracy: 0.5020141369613134, precision: 0.5010091009481741, recall: 1.0\n",
      "dataset: census, model: decision tree (repetition 9)\n",
      "Total time: 10.37s (training model: 0.33s, training explainer: 6.59s, experiment: 3.45s)\n",
      "Accuracy: 0.5019382791121921, precision: 0.5009900236082553, recall: 1.0\n",
      "dataset: census, model: random forest (repetition 0)\n"
     ]
    },
    {
     "name": "stderr",
     "output_type": "stream",
     "text": [
      "c:\\users\\ml_ks\\venvs\\xai_new\\lib\\site-packages\\sklearn\\ensemble\\_forest.py:427: FutureWarning: `max_features='auto'` has been deprecated in 1.1 and will be removed in 1.3. To keep the past behaviour, explicitly set `max_features='sqrt'` or remove this parameter as it is also the default value for RandomForestClassifiers and ExtraTreesClassifiers.\n",
      "  warn(\n"
     ]
    },
    {
     "name": "stdout",
     "output_type": "stream",
     "text": [
      "Total time: 88.81s (training model: 5.85s, training explainer: 79.57s, experiment: 3.38s)\n",
      "Accuracy: 0.5022994184941659, precision: 0.501180862410483, recall: 1.0\n",
      "dataset: census, model: random forest (repetition 1)\n"
     ]
    },
    {
     "name": "stderr",
     "output_type": "stream",
     "text": [
      "c:\\users\\ml_ks\\venvs\\xai_new\\lib\\site-packages\\sklearn\\ensemble\\_forest.py:427: FutureWarning: `max_features='auto'` has been deprecated in 1.1 and will be removed in 1.3. To keep the past behaviour, explicitly set `max_features='sqrt'` or remove this parameter as it is also the default value for RandomForestClassifiers and ExtraTreesClassifiers.\n",
      "  warn(\n"
     ]
    },
    {
     "name": "stdout",
     "output_type": "stream",
     "text": [
      "Total time: 90.03s (training model: 5.93s, training explainer: 80.73s, experiment: 3.38s)\n",
      "Accuracy: 0.5030213202599475, precision: 0.5015247388884654, recall: 1.0\n",
      "dataset: census, model: random forest (repetition 2)\n"
     ]
    },
    {
     "name": "stderr",
     "output_type": "stream",
     "text": [
      "c:\\users\\ml_ks\\venvs\\xai_new\\lib\\site-packages\\sklearn\\ensemble\\_forest.py:427: FutureWarning: `max_features='auto'` has been deprecated in 1.1 and will be removed in 1.3. To keep the past behaviour, explicitly set `max_features='sqrt'` or remove this parameter as it is also the default value for RandomForestClassifiers and ExtraTreesClassifiers.\n",
      "  warn(\n"
     ]
    },
    {
     "name": "stdout",
     "output_type": "stream",
     "text": [
      "Total time: 91.62s (training model: 5.90s, training explainer: 82.31s, experiment: 3.42s)\n",
      "Accuracy: 0.5014060956145018, precision: 0.500704037751646, recall: 1.0\n",
      "dataset: census, model: random forest (repetition 3)\n"
     ]
    },
    {
     "name": "stderr",
     "output_type": "stream",
     "text": [
      "c:\\users\\ml_ks\\venvs\\xai_new\\lib\\site-packages\\sklearn\\ensemble\\_forest.py:427: FutureWarning: `max_features='auto'` has been deprecated in 1.1 and will be removed in 1.3. To keep the past behaviour, explicitly set `max_features='sqrt'` or remove this parameter as it is also the default value for RandomForestClassifiers and ExtraTreesClassifiers.\n",
      "  warn(\n"
     ]
    },
    {
     "name": "stdout",
     "output_type": "stream",
     "text": [
      "Total time: 89.91s (training model: 5.93s, training explainer: 80.65s, experiment: 3.33s)\n",
      "Accuracy: 0.5023372477482613, precision: 0.501180862410483, recall: 1.0\n",
      "dataset: census, model: random forest (repetition 4)\n"
     ]
    },
    {
     "name": "stderr",
     "output_type": "stream",
     "text": [
      "c:\\users\\ml_ks\\venvs\\xai_new\\lib\\site-packages\\sklearn\\ensemble\\_forest.py:427: FutureWarning: `max_features='auto'` has been deprecated in 1.1 and will be removed in 1.3. To keep the past behaviour, explicitly set `max_features='sqrt'` or remove this parameter as it is also the default value for RandomForestClassifiers and ExtraTreesClassifiers.\n",
      "  warn(\n"
     ]
    },
    {
     "name": "stdout",
     "output_type": "stream",
     "text": [
      "Total time: 89.60s (training model: 5.68s, training explainer: 80.55s, experiment: 3.38s)\n",
      "Accuracy: 0.5019001292087862, precision: 0.500951873286628, recall: 1.0\n",
      "dataset: census, model: random forest (repetition 5)\n"
     ]
    },
    {
     "name": "stderr",
     "output_type": "stream",
     "text": [
      "c:\\users\\ml_ks\\venvs\\xai_new\\lib\\site-packages\\sklearn\\ensemble\\_forest.py:427: FutureWarning: `max_features='auto'` has been deprecated in 1.1 and will be removed in 1.3. To keep the past behaviour, explicitly set `max_features='sqrt'` or remove this parameter as it is also the default value for RandomForestClassifiers and ExtraTreesClassifiers.\n",
      "  warn(\n"
     ]
    },
    {
     "name": "stdout",
     "output_type": "stream",
     "text": [
      "Total time: 90.37s (training model: 5.84s, training explainer: 81.19s, experiment: 3.34s)\n",
      "Accuracy: 0.501577167179721, precision: 0.5007993300852619, recall: 1.0\n",
      "dataset: census, model: random forest (repetition 6)\n"
     ]
    },
    {
     "name": "stderr",
     "output_type": "stream",
     "text": [
      "c:\\users\\ml_ks\\venvs\\xai_new\\lib\\site-packages\\sklearn\\ensemble\\_forest.py:427: FutureWarning: `max_features='auto'` has been deprecated in 1.1 and will be removed in 1.3. To keep the past behaviour, explicitly set `max_features='sqrt'` or remove this parameter as it is also the default value for RandomForestClassifiers and ExtraTreesClassifiers.\n",
      "  warn(\n"
     ]
    },
    {
     "name": "stdout",
     "output_type": "stream",
     "text": [
      "Total time: 90.92s (training model: 5.81s, training explainer: 81.74s, experiment: 3.37s)\n",
      "Accuracy: 0.5012921860747948, precision: 0.5006659309714981, recall: 1.0\n",
      "dataset: census, model: random forest (repetition 7)\n"
     ]
    },
    {
     "name": "stderr",
     "output_type": "stream",
     "text": [
      "c:\\users\\ml_ks\\venvs\\xai_new\\lib\\site-packages\\sklearn\\ensemble\\_forest.py:427: FutureWarning: `max_features='auto'` has been deprecated in 1.1 and will be removed in 1.3. To keep the past behaviour, explicitly set `max_features='sqrt'` or remove this parameter as it is also the default value for RandomForestClassifiers and ExtraTreesClassifiers.\n",
      "  warn(\n"
     ]
    },
    {
     "name": "stdout",
     "output_type": "stream",
     "text": [
      "Total time: 90.66s (training model: 5.86s, training explainer: 81.42s, experiment: 3.38s)\n",
      "Accuracy: 0.5020712195492723, precision: 0.501047259987052, recall: 1.0\n",
      "dataset: census, model: random forest (repetition 8)\n"
     ]
    },
    {
     "name": "stderr",
     "output_type": "stream",
     "text": [
      "c:\\users\\ml_ks\\venvs\\xai_new\\lib\\site-packages\\sklearn\\ensemble\\_forest.py:427: FutureWarning: `max_features='auto'` has been deprecated in 1.1 and will be removed in 1.3. To keep the past behaviour, explicitly set `max_features='sqrt'` or remove this parameter as it is also the default value for RandomForestClassifiers and ExtraTreesClassifiers.\n",
      "  warn(\n"
     ]
    },
    {
     "name": "stdout",
     "output_type": "stream",
     "text": [
      "Total time: 90.11s (training model: 5.74s, training explainer: 81.02s, experiment: 3.36s)\n",
      "Accuracy: 0.5019001292087862, precision: 0.500951873286628, recall: 1.0\n",
      "dataset: census, model: random forest (repetition 9)\n"
     ]
    },
    {
     "name": "stderr",
     "output_type": "stream",
     "text": [
      "c:\\users\\ml_ks\\venvs\\xai_new\\lib\\site-packages\\sklearn\\ensemble\\_forest.py:427: FutureWarning: `max_features='auto'` has been deprecated in 1.1 and will be removed in 1.3. To keep the past behaviour, explicitly set `max_features='sqrt'` or remove this parameter as it is also the default value for RandomForestClassifiers and ExtraTreesClassifiers.\n",
      "  warn(\n"
     ]
    },
    {
     "name": "stdout",
     "output_type": "stream",
     "text": [
      "Total time: 90.56s (training model: 5.96s, training explainer: 81.25s, experiment: 3.35s)\n",
      "Accuracy: 0.5022801550505435, precision: 0.5011426830197303, recall: 1.0\n",
      "dataset: census, model: neural network (repetition 0)\n"
     ]
    },
    {
     "name": "stderr",
     "output_type": "stream",
     "text": [
      "c:\\users\\ml_ks\\venvs\\xai_new\\lib\\site-packages\\sklearn\\neural_network\\_multilayer_perceptron.py:702: ConvergenceWarning: Stochastic Optimizer: Maximum iterations (200) reached and the optimization hasn't converged yet.\n",
      "  warnings.warn(\n"
     ]
    },
    {
     "name": "stdout",
     "output_type": "stream",
     "text": [
      "Total time: 43.78s (training model: 26.86s, training explainer: 13.57s, experiment: 3.36s)\n",
      "Accuracy: 0.5024892638619693, precision: 0.5012572386467541, recall: 1.0\n",
      "dataset: census, model: neural network (repetition 1)\n"
     ]
    },
    {
     "name": "stderr",
     "output_type": "stream",
     "text": [
      "c:\\users\\ml_ks\\venvs\\xai_new\\lib\\site-packages\\sklearn\\neural_network\\_multilayer_perceptron.py:702: ConvergenceWarning: Stochastic Optimizer: Maximum iterations (200) reached and the optimization hasn't converged yet.\n",
      "  warnings.warn(\n"
     ]
    },
    {
     "name": "stdout",
     "output_type": "stream",
     "text": [
      "Total time: 44.53s (training model: 27.28s, training explainer: 13.87s, experiment: 3.37s)\n",
      "Accuracy: 0.501615171208148, precision: 0.5008183929047239, recall: 1.0\n",
      "dataset: census, model: neural network (repetition 2)\n"
     ]
    },
    {
     "name": "stderr",
     "output_type": "stream",
     "text": [
      "c:\\users\\ml_ks\\venvs\\xai_new\\lib\\site-packages\\sklearn\\neural_network\\_multilayer_perceptron.py:702: ConvergenceWarning: Stochastic Optimizer: Maximum iterations (200) reached and the optimization hasn't converged yet.\n",
      "  warnings.warn(\n"
     ]
    },
    {
     "name": "stdout",
     "output_type": "stream",
     "text": [
      "Total time: 44.42s (training model: 27.34s, training explainer: 13.72s, experiment: 3.36s)\n",
      "Accuracy: 0.5020141369613134, precision: 0.5010091009481741, recall: 1.0\n",
      "dataset: census, model: neural network (repetition 3)\n"
     ]
    },
    {
     "name": "stderr",
     "output_type": "stream",
     "text": [
      "c:\\users\\ml_ks\\venvs\\xai_new\\lib\\site-packages\\sklearn\\neural_network\\_multilayer_perceptron.py:702: ConvergenceWarning: Stochastic Optimizer: Maximum iterations (200) reached and the optimization hasn't converged yet.\n",
      "  warnings.warn(\n"
     ]
    },
    {
     "name": "stdout",
     "output_type": "stream",
     "text": [
      "Total time: 44.06s (training model: 27.02s, training explainer: 13.61s, experiment: 3.42s)\n",
      "Accuracy: 0.5022612396914072, precision: 0.5011426830197303, recall: 1.0\n",
      "dataset: census, model: neural network (repetition 4)\n"
     ]
    },
    {
     "name": "stderr",
     "output_type": "stream",
     "text": [
      "c:\\users\\ml_ks\\venvs\\xai_new\\lib\\site-packages\\sklearn\\neural_network\\_multilayer_perceptron.py:702: ConvergenceWarning: Stochastic Optimizer: Maximum iterations (200) reached and the optimization hasn't converged yet.\n",
      "  warnings.warn(\n"
     ]
    },
    {
     "name": "stdout",
     "output_type": "stream",
     "text": [
      "Total time: 44.21s (training model: 27.23s, training explainer: 13.62s, experiment: 3.36s)\n",
      "Accuracy: 0.5017482517482518, precision: 0.5008946586972246, recall: 1.0\n",
      "dataset: census, model: neural network (repetition 5)\n"
     ]
    },
    {
     "name": "stderr",
     "output_type": "stream",
     "text": [
      "c:\\users\\ml_ks\\venvs\\xai_new\\lib\\site-packages\\sklearn\\neural_network\\_multilayer_perceptron.py:702: ConvergenceWarning: Stochastic Optimizer: Maximum iterations (200) reached and the optimization hasn't converged yet.\n",
      "  warnings.warn(\n"
     ]
    },
    {
     "name": "stdout",
     "output_type": "stream",
     "text": [
      "Total time: 44.78s (training model: 27.58s, training explainer: 13.78s, experiment: 3.43s)\n",
      "Accuracy: 0.5016721137037319, precision: 0.5008374571754853, recall: 1.0\n",
      "dataset: census, model: neural network (repetition 6)\n"
     ]
    },
    {
     "name": "stderr",
     "output_type": "stream",
     "text": [
      "c:\\users\\ml_ks\\venvs\\xai_new\\lib\\site-packages\\sklearn\\neural_network\\_multilayer_perceptron.py:702: ConvergenceWarning: Stochastic Optimizer: Maximum iterations (200) reached and the optimization hasn't converged yet.\n",
      "  warnings.warn(\n"
     ]
    },
    {
     "name": "stdout",
     "output_type": "stream",
     "text": [
      "Total time: 44.33s (training model: 27.35s, training explainer: 13.57s, experiment: 3.41s)\n",
      "Accuracy: 0.5017481188720833, precision: 0.50087559007157, recall: 1.0\n",
      "dataset: census, model: neural network (repetition 7)\n"
     ]
    },
    {
     "name": "stderr",
     "output_type": "stream",
     "text": [
      "c:\\users\\ml_ks\\venvs\\xai_new\\lib\\site-packages\\sklearn\\neural_network\\_multilayer_perceptron.py:702: ConvergenceWarning: Stochastic Optimizer: Maximum iterations (200) reached and the optimization hasn't converged yet.\n",
      "  warnings.warn(\n"
     ]
    },
    {
     "name": "stdout",
     "output_type": "stream",
     "text": [
      "Total time: 44.13s (training model: 27.29s, training explainer: 13.47s, experiment: 3.37s)\n",
      "Accuracy: 0.5024512598335423, precision: 0.501238142405425, recall: 1.0\n",
      "dataset: census, model: neural network (repetition 8)\n"
     ]
    },
    {
     "name": "stderr",
     "output_type": "stream",
     "text": [
      "c:\\users\\ml_ks\\venvs\\xai_new\\lib\\site-packages\\sklearn\\neural_network\\_multilayer_perceptron.py:702: ConvergenceWarning: Stochastic Optimizer: Maximum iterations (200) reached and the optimization hasn't converged yet.\n",
      "  warnings.warn(\n"
     ]
    },
    {
     "name": "stdout",
     "output_type": "stream",
     "text": [
      "Total time: 45.14s (training model: 27.72s, training explainer: 13.99s, experiment: 3.43s)\n",
      "Accuracy: 0.501273134952305, precision: 0.5006468797564688, recall: 1.0\n",
      "dataset: census, model: neural network (repetition 9)\n"
     ]
    },
    {
     "name": "stderr",
     "output_type": "stream",
     "text": [
      "c:\\users\\ml_ks\\venvs\\xai_new\\lib\\site-packages\\sklearn\\neural_network\\_multilayer_perceptron.py:702: ConvergenceWarning: Stochastic Optimizer: Maximum iterations (200) reached and the optimization hasn't converged yet.\n",
      "  warnings.warn(\n"
     ]
    },
    {
     "name": "stdout",
     "output_type": "stream",
     "text": [
      "Total time: 44.62s (training model: 27.52s, training explainer: 13.72s, experiment: 3.38s)\n",
      "Accuracy: 0.5021661472980162, precision: 0.5010854248390906, recall: 1.0\n",
      "dataset: census numeric, model: decision tree (repetition 0)\n",
      "Total time: 3.91s (training model: 0.02s, training explainer: 0.94s, experiment: 2.95s)\n",
      "Accuracy: 0.5049985441133651, precision: 0.5025360905189231, recall: 1.0\n",
      "dataset: census numeric, model: decision tree (repetition 1)\n",
      "Total time: 3.91s (training model: 0.02s, training explainer: 0.93s, experiment: 2.97s)\n",
      "Accuracy: 0.5036397165874017, precision: 0.501850769530489, recall: 1.0\n",
      "dataset: census numeric, model: decision tree (repetition 2)\n",
      "Total time: 3.91s (training model: 0.02s, training explainer: 0.92s, experiment: 2.97s)\n",
      "Accuracy: 0.5045622209279752, precision: 0.5023400936037441, recall: 1.0\n",
      "dataset: census numeric, model: decision tree (repetition 3)\n",
      "Total time: 3.91s (training model: 0.02s, training explainer: 0.93s, experiment: 2.97s)\n",
      "Accuracy: 0.5037367756963991, precision: 0.5018996590355577, recall: 1.0\n",
      "dataset: census numeric, model: decision tree (repetition 4)\n",
      "Total time: 3.93s (training model: 0.01s, training explainer: 0.95s, experiment: 2.97s)\n",
      "Accuracy: 0.5043191303503833, precision: 0.502193196217955, recall: 1.0\n",
      "dataset: census numeric, model: decision tree (repetition 5)\n",
      "Total time: 3.90s (training model: 0.03s, training explainer: 0.89s, experiment: 2.97s)\n",
      "Accuracy: 0.5056299747621821, precision: 0.5028794533918984, recall: 1.0\n",
      "dataset: census numeric, model: decision tree (repetition 6)\n",
      "Total time: 3.91s (training model: 0.02s, training explainer: 0.91s, experiment: 2.99s)\n",
      "Accuracy: 0.5046103076773755, precision: 0.5023400936037441, recall: 1.0\n",
      "dataset: census numeric, model: decision tree (repetition 7)\n",
      "Total time: 4.09s (training model: 0.02s, training explainer: 0.88s, experiment: 3.19s)\n",
      "Accuracy: 0.5051446321102698, precision: 0.5026341463414634, recall: 1.0\n",
      "dataset: census numeric, model: decision tree (repetition 8)\n",
      "Total time: 4.01s (training model: 0.02s, training explainer: 0.99s, experiment: 3.00s)\n",
      "Accuracy: 0.5039308939143938, precision: 0.5019974666276917, recall: 1.0\n",
      "dataset: census numeric, model: decision tree (repetition 9)\n",
      "Total time: 3.87s (training model: 0.02s, training explainer: 0.87s, experiment: 2.98s)\n",
      "Accuracy: 0.5067456080753179, precision: 0.5034199726402189, recall: 1.0\n",
      "dataset: census numeric, model: random forest (repetition 0)\n",
      "Total time: 7.28s (training model: 0.09s, training explainer: 4.20s, experiment: 2.99s)\n",
      "Accuracy: 0.5045132485683781, precision: 0.5022911182607, recall: 1.0\n",
      "dataset: census numeric, model: random forest (repetition 1)\n",
      "Total time: 7.32s (training model: 0.08s, training explainer: 4.20s, experiment: 3.04s)\n",
      "Accuracy: 0.5040279530233912, precision: 0.5020463847203275, recall: 1.0\n",
      "dataset: census numeric, model: random forest (repetition 2)\n",
      "Total time: 7.25s (training model: 0.08s, training explainer: 4.18s, experiment: 2.99s)\n",
      "Accuracy: 0.5051446321102698, precision: 0.5026341463414634, recall: 1.0\n",
      "dataset: census numeric, model: random forest (repetition 3)\n",
      "Total time: 7.24s (training model: 0.07s, training explainer: 4.15s, experiment: 3.02s)\n",
      "Accuracy: 0.5041739468064453, precision: 0.5021442495126706, recall: 1.0\n",
      "dataset: census numeric, model: random forest (repetition 4)\n",
      "Total time: 7.30s (training model: 0.08s, training explainer: 4.20s, experiment: 3.03s)\n",
      "Accuracy: 0.5047073667863728, precision: 0.5023890784982935, recall: 1.0\n",
      "dataset: census numeric, model: random forest (repetition 5)\n",
      "Total time: 7.27s (training model: 0.07s, training explainer: 4.21s, experiment: 2.99s)\n",
      "Accuracy: 0.5055808987673494, precision: 0.5028303728284208, recall: 1.0\n",
      "dataset: census numeric, model: random forest (repetition 6)\n",
      "Total time: 7.32s (training model: 0.08s, training explainer: 4.11s, experiment: 3.12s)\n",
      "Accuracy: 0.5053867805493546, precision: 0.5027322404371585, recall: 1.0\n",
      "dataset: census numeric, model: random forest (repetition 7)\n",
      "Total time: 7.12s (training model: 0.06s, training explainer: 4.08s, experiment: 2.98s)\n",
      "Accuracy: 0.5056310679611651, precision: 0.5029285435376806, recall: 1.0\n",
      "dataset: census numeric, model: random forest (repetition 8)\n",
      "Total time: 7.27s (training model: 0.08s, training explainer: 4.19s, experiment: 3.01s)\n",
      "Accuracy: 0.5044161894593807, precision: 0.5022421524663677, recall: 1.0\n",
      "dataset: census numeric, model: random forest (repetition 9)\n",
      "Total time: 7.30s (training model: 0.08s, training explainer: 4.20s, experiment: 3.02s)\n",
      "Accuracy: 0.5056779578763467, precision: 0.5028794533918984, recall: 1.0\n",
      "dataset: census numeric, model: neural network (repetition 0)\n"
     ]
    },
    {
     "name": "stderr",
     "output_type": "stream",
     "text": [
      "c:\\users\\ml_ks\\venvs\\xai_new\\lib\\site-packages\\sklearn\\neural_network\\_multilayer_perceptron.py:702: ConvergenceWarning: Stochastic Optimizer: Maximum iterations (200) reached and the optimization hasn't converged yet.\n",
      "  warnings.warn(\n"
     ]
    },
    {
     "name": "stdout",
     "output_type": "stream",
     "text": [
      "Total time: 11.80s (training model: 6.01s, training explainer: 2.83s, experiment: 2.95s)\n",
      "Accuracy: 0.5050475635798874, precision: 0.5025851136474491, recall: 1.0\n",
      "dataset: census numeric, model: neural network (repetition 1)\n"
     ]
    },
    {
     "name": "stderr",
     "output_type": "stream",
     "text": [
      "c:\\users\\ml_ks\\venvs\\xai_new\\lib\\site-packages\\sklearn\\neural_network\\_multilayer_perceptron.py:702: ConvergenceWarning: Stochastic Optimizer: Maximum iterations (200) reached and the optimization hasn't converged yet.\n",
      "  warnings.warn(\n"
     ]
    },
    {
     "name": "stdout",
     "output_type": "stream",
     "text": [
      "Total time: 11.86s (training model: 5.93s, training explainer: 2.81s, experiment: 3.12s)\n",
      "Accuracy: 0.5049014850043677, precision: 0.5024870769530869, recall: 1.0\n",
      "dataset: census numeric, model: neural network (repetition 2)\n"
     ]
    },
    {
     "name": "stderr",
     "output_type": "stream",
     "text": [
      "c:\\users\\ml_ks\\venvs\\xai_new\\lib\\site-packages\\sklearn\\neural_network\\_multilayer_perceptron.py:702: ConvergenceWarning: Stochastic Optimizer: Maximum iterations (200) reached and the optimization hasn't converged yet.\n",
      "  warnings.warn(\n"
     ]
    },
    {
     "name": "stdout",
     "output_type": "stream",
     "text": [
      "Total time: 11.66s (training model: 5.94s, training explainer: 2.79s, experiment: 2.94s)\n",
      "Accuracy: 0.5053398058252427, precision: 0.5027813018444423, recall: 1.0\n",
      "dataset: census numeric, model: neural network (repetition 3)\n"
     ]
    },
    {
     "name": "stderr",
     "output_type": "stream",
     "text": [
      "c:\\users\\ml_ks\\venvs\\xai_new\\lib\\site-packages\\sklearn\\neural_network\\_multilayer_perceptron.py:702: ConvergenceWarning: Stochastic Optimizer: Maximum iterations (200) reached and the optimization hasn't converged yet.\n",
      "  warnings.warn(\n"
     ]
    },
    {
     "name": "stdout",
     "output_type": "stream",
     "text": [
      "Total time: 11.82s (training model: 5.97s, training explainer: 2.88s, experiment: 2.96s)\n",
      "Accuracy: 0.5044161894593807, precision: 0.5022421524663677, recall: 1.0\n",
      "dataset: census numeric, model: neural network (repetition 4)\n"
     ]
    },
    {
     "name": "stderr",
     "output_type": "stream",
     "text": [
      "c:\\users\\ml_ks\\venvs\\xai_new\\lib\\site-packages\\sklearn\\neural_network\\_multilayer_perceptron.py:702: ConvergenceWarning: Stochastic Optimizer: Maximum iterations (200) reached and the optimization hasn't converged yet.\n",
      "  warnings.warn(\n"
     ]
    },
    {
     "name": "stdout",
     "output_type": "stream",
     "text": [
      "Total time: 11.70s (training model: 5.93s, training explainer: 2.81s, experiment: 2.96s)\n",
      "Accuracy: 0.5052417006406523, precision: 0.5026831886037663, recall: 1.0\n",
      "dataset: census numeric, model: neural network (repetition 5)\n"
     ]
    },
    {
     "name": "stderr",
     "output_type": "stream",
     "text": [
      "c:\\users\\ml_ks\\venvs\\xai_new\\lib\\site-packages\\sklearn\\neural_network\\_multilayer_perceptron.py:702: ConvergenceWarning: Stochastic Optimizer: Maximum iterations (200) reached and the optimization hasn't converged yet.\n",
      "  warnings.warn(\n"
     ]
    },
    {
     "name": "stdout",
     "output_type": "stream",
     "text": [
      "Total time: 11.81s (training model: 6.05s, training explainer: 2.79s, experiment: 2.97s)\n",
      "Accuracy: 0.5050475635798874, precision: 0.5025851136474491, recall: 1.0\n",
      "dataset: census numeric, model: neural network (repetition 6)\n",
      "Total time: 10.81s (training model: 5.03s, training explainer: 2.83s, experiment: 2.95s)\n",
      "Accuracy: 0.5049014850043677, precision: 0.5024870769530869, recall: 1.0\n",
      "dataset: census numeric, model: neural network (repetition 7)\n"
     ]
    },
    {
     "name": "stderr",
     "output_type": "stream",
     "text": [
      "c:\\users\\ml_ks\\venvs\\xai_new\\lib\\site-packages\\sklearn\\neural_network\\_multilayer_perceptron.py:702: ConvergenceWarning: Stochastic Optimizer: Maximum iterations (200) reached and the optimization hasn't converged yet.\n",
      "  warnings.warn(\n"
     ]
    },
    {
     "name": "stdout",
     "output_type": "stream",
     "text": [
      "Total time: 11.81s (training model: 6.02s, training explainer: 2.84s, experiment: 2.95s)\n",
      "Accuracy: 0.5041250121323886, precision: 0.5020953123477244, recall: 1.0\n",
      "dataset: census numeric, model: neural network (repetition 8)\n"
     ]
    },
    {
     "name": "stderr",
     "output_type": "stream",
     "text": [
      "c:\\users\\ml_ks\\venvs\\xai_new\\lib\\site-packages\\sklearn\\neural_network\\_multilayer_perceptron.py:702: ConvergenceWarning: Stochastic Optimizer: Maximum iterations (200) reached and the optimization hasn't converged yet.\n",
      "  warnings.warn(\n"
     ]
    },
    {
     "name": "stdout",
     "output_type": "stream",
     "text": [
      "Total time: 11.76s (training model: 6.02s, training explainer: 2.82s, experiment: 2.93s)\n",
      "Accuracy: 0.5033485392604096, precision: 0.501704158145876, recall: 1.0\n",
      "dataset: census numeric, model: neural network (repetition 9)\n"
     ]
    },
    {
     "name": "stderr",
     "output_type": "stream",
     "text": [
      "c:\\users\\ml_ks\\venvs\\xai_new\\lib\\site-packages\\sklearn\\neural_network\\_multilayer_perceptron.py:702: ConvergenceWarning: Stochastic Optimizer: Maximum iterations (200) reached and the optimization hasn't converged yet.\n",
      "  warnings.warn(\n"
     ]
    },
    {
     "name": "stdout",
     "output_type": "stream",
     "text": [
      "Total time: 11.97s (training model: 6.25s, training explainer: 2.82s, experiment: 2.91s)\n",
      "Accuracy: 0.5049985441133651, precision: 0.5025360905189231, recall: 1.0\n",
      "dataset: census categorical, model: decision tree (repetition 0)\n",
      "Total time: 4.59s (training model: 0.19s, training explainer: 1.21s, experiment: 3.19s)\n",
      "Accuracy: 0.5000277392510403, precision: 0.5000277392510403, recall: 1.0\n",
      "dataset: census categorical, model: decision tree (repetition 1)\n",
      "Total time: 4.64s (training model: 0.19s, training explainer: 1.26s, experiment: 3.20s)\n",
      "Accuracy: 0.5001387270406747, precision: 0.5001387270406747, recall: 1.0\n",
      "dataset: census categorical, model: decision tree (repetition 2)\n",
      "Total time: 4.61s (training model: 0.17s, training explainer: 1.25s, experiment: 3.19s)\n",
      "Accuracy: 0.5000554815801154, precision: 0.5000554815801154, recall: 1.0\n",
      "dataset: census categorical, model: decision tree (repetition 3)\n",
      "Total time: 4.63s (training model: 0.19s, training explainer: 1.24s, experiment: 3.21s)\n",
      "Accuracy: 0.5001387270406747, precision: 0.5001387270406747, recall: 1.0\n",
      "dataset: census categorical, model: decision tree (repetition 4)\n",
      "Total time: 4.60s (training model: 0.17s, training explainer: 1.24s, experiment: 3.19s)\n",
      "Accuracy: 0.5001109754744202, precision: 0.5001109754744202, recall: 1.0\n",
      "dataset: census categorical, model: decision tree (repetition 5)\n",
      "Total time: 4.76s (training model: 0.18s, training explainer: 1.23s, experiment: 3.35s)\n",
      "Accuracy: 0.5000832269877379, precision: 0.5000832269877379, recall: 1.0\n",
      "dataset: census categorical, model: decision tree (repetition 6)\n",
      "Total time: 4.63s (training model: 0.19s, training explainer: 1.24s, experiment: 3.21s)\n",
      "Accuracy: 0.5000832269877379, precision: 0.5000832269877379, recall: 1.0\n",
      "dataset: census categorical, model: decision tree (repetition 7)\n",
      "Total time: 4.62s (training model: 0.17s, training explainer: 1.27s, experiment: 3.18s)\n",
      "Accuracy: 0.5000277392510403, precision: 0.5000277392510403, recall: 1.0\n",
      "dataset: census categorical, model: decision tree (repetition 8)\n",
      "Total time: 4.67s (training model: 0.17s, training explainer: 1.26s, experiment: 3.24s)\n",
      "Accuracy: 0.5, precision: 0.5, recall: 1.0\n",
      "dataset: census categorical, model: decision tree (repetition 9)\n",
      "Total time: 4.63s (training model: 0.19s, training explainer: 1.25s, experiment: 3.20s)\n",
      "Accuracy: 0.5000277392510403, precision: 0.5000277392510403, recall: 1.0\n",
      "dataset: census categorical, model: random forest (repetition 0)\n"
     ]
    },
    {
     "name": "stderr",
     "output_type": "stream",
     "text": [
      "c:\\users\\ml_ks\\venvs\\xai_new\\lib\\site-packages\\sklearn\\ensemble\\_forest.py:427: FutureWarning: `max_features='auto'` has been deprecated in 1.1 and will be removed in 1.3. To keep the past behaviour, explicitly set `max_features='sqrt'` or remove this parameter as it is also the default value for RandomForestClassifiers and ExtraTreesClassifiers.\n",
      "  warn(\n"
     ]
    },
    {
     "name": "stdout",
     "output_type": "stream",
     "text": [
      "Total time: 22.40s (training model: 3.13s, training explainer: 16.11s, experiment: 3.16s)\n",
      "Accuracy: 0.5001109754744202, precision: 0.5001109754744202, recall: 1.0\n",
      "dataset: census categorical, model: random forest (repetition 1)\n"
     ]
    },
    {
     "name": "stderr",
     "output_type": "stream",
     "text": [
      "c:\\users\\ml_ks\\venvs\\xai_new\\lib\\site-packages\\sklearn\\ensemble\\_forest.py:427: FutureWarning: `max_features='auto'` has been deprecated in 1.1 and will be removed in 1.3. To keep the past behaviour, explicitly set `max_features='sqrt'` or remove this parameter as it is also the default value for RandomForestClassifiers and ExtraTreesClassifiers.\n",
      "  warn(\n"
     ]
    },
    {
     "name": "stdout",
     "output_type": "stream",
     "text": [
      "Total time: 22.07s (training model: 3.02s, training explainer: 15.91s, experiment: 3.14s)\n",
      "Accuracy: 0.5000554815801154, precision: 0.5000554815801154, recall: 1.0\n",
      "dataset: census categorical, model: random forest (repetition 2)\n"
     ]
    },
    {
     "name": "stderr",
     "output_type": "stream",
     "text": [
      "c:\\users\\ml_ks\\venvs\\xai_new\\lib\\site-packages\\sklearn\\ensemble\\_forest.py:427: FutureWarning: `max_features='auto'` has been deprecated in 1.1 and will be removed in 1.3. To keep the past behaviour, explicitly set `max_features='sqrt'` or remove this parameter as it is also the default value for RandomForestClassifiers and ExtraTreesClassifiers.\n",
      "  warn(\n"
     ]
    },
    {
     "name": "stdout",
     "output_type": "stream",
     "text": [
      "Total time: 22.69s (training model: 3.20s, training explainer: 16.32s, experiment: 3.18s)\n",
      "Accuracy: 0.5000832269877379, precision: 0.5000832269877379, recall: 1.0\n",
      "dataset: census categorical, model: random forest (repetition 3)\n"
     ]
    },
    {
     "name": "stderr",
     "output_type": "stream",
     "text": [
      "c:\\users\\ml_ks\\venvs\\xai_new\\lib\\site-packages\\sklearn\\ensemble\\_forest.py:427: FutureWarning: `max_features='auto'` has been deprecated in 1.1 and will be removed in 1.3. To keep the past behaviour, explicitly set `max_features='sqrt'` or remove this parameter as it is also the default value for RandomForestClassifiers and ExtraTreesClassifiers.\n",
      "  warn(\n"
     ]
    },
    {
     "name": "stdout",
     "output_type": "stream",
     "text": [
      "Total time: 22.64s (training model: 3.10s, training explainer: 16.34s, experiment: 3.19s)\n",
      "Accuracy: 0.5, precision: 0.5, recall: 1.0\n",
      "dataset: census categorical, model: random forest (repetition 4)\n"
     ]
    },
    {
     "name": "stderr",
     "output_type": "stream",
     "text": [
      "c:\\users\\ml_ks\\venvs\\xai_new\\lib\\site-packages\\sklearn\\ensemble\\_forest.py:427: FutureWarning: `max_features='auto'` has been deprecated in 1.1 and will be removed in 1.3. To keep the past behaviour, explicitly set `max_features='sqrt'` or remove this parameter as it is also the default value for RandomForestClassifiers and ExtraTreesClassifiers.\n",
      "  warn(\n"
     ]
    },
    {
     "name": "stdout",
     "output_type": "stream",
     "text": [
      "Total time: 22.20s (training model: 3.10s, training explainer: 15.95s, experiment: 3.16s)\n",
      "Accuracy: 0.5001387270406747, precision: 0.5001387270406747, recall: 1.0\n",
      "dataset: census categorical, model: random forest (repetition 5)\n"
     ]
    },
    {
     "name": "stderr",
     "output_type": "stream",
     "text": [
      "c:\\users\\ml_ks\\venvs\\xai_new\\lib\\site-packages\\sklearn\\ensemble\\_forest.py:427: FutureWarning: `max_features='auto'` has been deprecated in 1.1 and will be removed in 1.3. To keep the past behaviour, explicitly set `max_features='sqrt'` or remove this parameter as it is also the default value for RandomForestClassifiers and ExtraTreesClassifiers.\n",
      "  warn(\n"
     ]
    },
    {
     "name": "stdout",
     "output_type": "stream",
     "text": [
      "Total time: 22.61s (training model: 3.09s, training explainer: 16.40s, experiment: 3.13s)\n",
      "Accuracy: 0.5, precision: 0.5, recall: 1.0\n",
      "dataset: census categorical, model: random forest (repetition 6)\n"
     ]
    },
    {
     "name": "stderr",
     "output_type": "stream",
     "text": [
      "c:\\users\\ml_ks\\venvs\\xai_new\\lib\\site-packages\\sklearn\\ensemble\\_forest.py:427: FutureWarning: `max_features='auto'` has been deprecated in 1.1 and will be removed in 1.3. To keep the past behaviour, explicitly set `max_features='sqrt'` or remove this parameter as it is also the default value for RandomForestClassifiers and ExtraTreesClassifiers.\n",
      "  warn(\n"
     ]
    },
    {
     "name": "stdout",
     "output_type": "stream",
     "text": [
      "Total time: 22.55s (training model: 3.08s, training explainer: 16.33s, experiment: 3.14s)\n",
      "Accuracy: 0.5, precision: 0.5, recall: 1.0\n",
      "dataset: census categorical, model: random forest (repetition 7)\n"
     ]
    },
    {
     "name": "stderr",
     "output_type": "stream",
     "text": [
      "c:\\users\\ml_ks\\venvs\\xai_new\\lib\\site-packages\\sklearn\\ensemble\\_forest.py:427: FutureWarning: `max_features='auto'` has been deprecated in 1.1 and will be removed in 1.3. To keep the past behaviour, explicitly set `max_features='sqrt'` or remove this parameter as it is also the default value for RandomForestClassifiers and ExtraTreesClassifiers.\n",
      "  warn(\n"
     ]
    },
    {
     "name": "stdout",
     "output_type": "stream",
     "text": [
      "Total time: 22.34s (training model: 3.10s, training explainer: 16.10s, experiment: 3.14s)\n",
      "Accuracy: 0.5000554815801154, precision: 0.5000554815801154, recall: 1.0\n",
      "dataset: census categorical, model: random forest (repetition 8)\n"
     ]
    },
    {
     "name": "stderr",
     "output_type": "stream",
     "text": [
      "c:\\users\\ml_ks\\venvs\\xai_new\\lib\\site-packages\\sklearn\\ensemble\\_forest.py:427: FutureWarning: `max_features='auto'` has been deprecated in 1.1 and will be removed in 1.3. To keep the past behaviour, explicitly set `max_features='sqrt'` or remove this parameter as it is also the default value for RandomForestClassifiers and ExtraTreesClassifiers.\n",
      "  warn(\n"
     ]
    },
    {
     "name": "stdout",
     "output_type": "stream",
     "text": [
      "Total time: 22.28s (training model: 3.08s, training explainer: 16.05s, experiment: 3.15s)\n",
      "Accuracy: 0.5001387270406747, precision: 0.5001387270406747, recall: 1.0\n",
      "dataset: census categorical, model: random forest (repetition 9)\n"
     ]
    },
    {
     "name": "stderr",
     "output_type": "stream",
     "text": [
      "c:\\users\\ml_ks\\venvs\\xai_new\\lib\\site-packages\\sklearn\\ensemble\\_forest.py:427: FutureWarning: `max_features='auto'` has been deprecated in 1.1 and will be removed in 1.3. To keep the past behaviour, explicitly set `max_features='sqrt'` or remove this parameter as it is also the default value for RandomForestClassifiers and ExtraTreesClassifiers.\n",
      "  warn(\n"
     ]
    },
    {
     "name": "stdout",
     "output_type": "stream",
     "text": [
      "Total time: 22.24s (training model: 3.14s, training explainer: 15.95s, experiment: 3.16s)\n",
      "Accuracy: 0.5001109754744202, precision: 0.5001109754744202, recall: 1.0\n",
      "dataset: census categorical, model: neural network (repetition 0)\n"
     ]
    },
    {
     "name": "stderr",
     "output_type": "stream",
     "text": [
      "c:\\users\\ml_ks\\venvs\\xai_new\\lib\\site-packages\\sklearn\\neural_network\\_multilayer_perceptron.py:702: ConvergenceWarning: Stochastic Optimizer: Maximum iterations (200) reached and the optimization hasn't converged yet.\n",
      "  warnings.warn(\n"
     ]
    },
    {
     "name": "stdout",
     "output_type": "stream",
     "text": [
      "Total time: 25.27s (training model: 19.36s, training explainer: 2.72s, experiment: 3.19s)\n",
      "Accuracy: 0.5002775310834814, precision: 0.5002775310834814, recall: 1.0\n",
      "dataset: census categorical, model: neural network (repetition 1)\n"
     ]
    },
    {
     "name": "stderr",
     "output_type": "stream",
     "text": [
      "c:\\users\\ml_ks\\venvs\\xai_new\\lib\\site-packages\\sklearn\\neural_network\\_multilayer_perceptron.py:702: ConvergenceWarning: Stochastic Optimizer: Maximum iterations (200) reached and the optimization hasn't converged yet.\n",
      "  warnings.warn(\n"
     ]
    },
    {
     "name": "stdout",
     "output_type": "stream",
     "text": [
      "Total time: 25.45s (training model: 19.53s, training explainer: 2.76s, experiment: 3.16s)\n",
      "Accuracy: 0.5001109754744202, precision: 0.5001109754744202, recall: 1.0\n",
      "dataset: census categorical, model: neural network (repetition 2)\n"
     ]
    },
    {
     "name": "stderr",
     "output_type": "stream",
     "text": [
      "c:\\users\\ml_ks\\venvs\\xai_new\\lib\\site-packages\\sklearn\\neural_network\\_multilayer_perceptron.py:702: ConvergenceWarning: Stochastic Optimizer: Maximum iterations (200) reached and the optimization hasn't converged yet.\n",
      "  warnings.warn(\n"
     ]
    },
    {
     "name": "stdout",
     "output_type": "stream",
     "text": [
      "Total time: 25.49s (training model: 19.43s, training explainer: 2.76s, experiment: 3.30s)\n",
      "Accuracy: 0.5000554815801154, precision: 0.5000554815801154, recall: 1.0\n",
      "dataset: census categorical, model: neural network (repetition 3)\n"
     ]
    },
    {
     "name": "stderr",
     "output_type": "stream",
     "text": [
      "c:\\users\\ml_ks\\venvs\\xai_new\\lib\\site-packages\\sklearn\\neural_network\\_multilayer_perceptron.py:702: ConvergenceWarning: Stochastic Optimizer: Maximum iterations (200) reached and the optimization hasn't converged yet.\n",
      "  warnings.warn(\n"
     ]
    },
    {
     "name": "stdout",
     "output_type": "stream",
     "text": [
      "Total time: 25.35s (training model: 19.45s, training explainer: 2.73s, experiment: 3.17s)\n",
      "Accuracy: 0.5000832269877379, precision: 0.5000832269877379, recall: 1.0\n",
      "dataset: census categorical, model: neural network (repetition 4)\n"
     ]
    },
    {
     "name": "stderr",
     "output_type": "stream",
     "text": [
      "c:\\users\\ml_ks\\venvs\\xai_new\\lib\\site-packages\\sklearn\\neural_network\\_multilayer_perceptron.py:702: ConvergenceWarning: Stochastic Optimizer: Maximum iterations (200) reached and the optimization hasn't converged yet.\n",
      "  warnings.warn(\n"
     ]
    },
    {
     "name": "stdout",
     "output_type": "stream",
     "text": [
      "Total time: 26.03s (training model: 19.51s, training explainer: 2.94s, experiment: 3.59s)\n",
      "Accuracy: 0.5, precision: 0.5, recall: 1.0\n",
      "dataset: census categorical, model: neural network (repetition 5)\n"
     ]
    },
    {
     "name": "stderr",
     "output_type": "stream",
     "text": [
      "c:\\users\\ml_ks\\venvs\\xai_new\\lib\\site-packages\\sklearn\\neural_network\\_multilayer_perceptron.py:702: ConvergenceWarning: Stochastic Optimizer: Maximum iterations (200) reached and the optimization hasn't converged yet.\n",
      "  warnings.warn(\n"
     ]
    },
    {
     "name": "stdout",
     "output_type": "stream",
     "text": [
      "Total time: 26.07s (training model: 20.01s, training explainer: 2.84s, experiment: 3.23s)\n",
      "Accuracy: 0.5, precision: 0.5, recall: 1.0\n",
      "dataset: census categorical, model: neural network (repetition 6)\n"
     ]
    },
    {
     "name": "stderr",
     "output_type": "stream",
     "text": [
      "c:\\users\\ml_ks\\venvs\\xai_new\\lib\\site-packages\\sklearn\\neural_network\\_multilayer_perceptron.py:702: ConvergenceWarning: Stochastic Optimizer: Maximum iterations (200) reached and the optimization hasn't converged yet.\n",
      "  warnings.warn(\n"
     ]
    },
    {
     "name": "stdout",
     "output_type": "stream",
     "text": [
      "Total time: 25.84s (training model: 19.86s, training explainer: 2.72s, experiment: 3.27s)\n",
      "Accuracy: 0.5001942394139519, precision: 0.5001942394139519, recall: 1.0\n",
      "dataset: census categorical, model: neural network (repetition 7)\n"
     ]
    },
    {
     "name": "stderr",
     "output_type": "stream",
     "text": [
      "c:\\users\\ml_ks\\venvs\\xai_new\\lib\\site-packages\\sklearn\\neural_network\\_multilayer_perceptron.py:702: ConvergenceWarning: Stochastic Optimizer: Maximum iterations (200) reached and the optimization hasn't converged yet.\n",
      "  warnings.warn(\n"
     ]
    },
    {
     "name": "stdout",
     "output_type": "stream",
     "text": [
      "Total time: 25.27s (training model: 19.32s, training explainer: 2.78s, experiment: 3.17s)\n",
      "Accuracy: 0.5000554815801154, precision: 0.5000554815801154, recall: 1.0\n",
      "dataset: census categorical, model: neural network (repetition 8)\n"
     ]
    },
    {
     "name": "stderr",
     "output_type": "stream",
     "text": [
      "c:\\users\\ml_ks\\venvs\\xai_new\\lib\\site-packages\\sklearn\\neural_network\\_multilayer_perceptron.py:702: ConvergenceWarning: Stochastic Optimizer: Maximum iterations (200) reached and the optimization hasn't converged yet.\n",
      "  warnings.warn(\n"
     ]
    },
    {
     "name": "stdout",
     "output_type": "stream",
     "text": [
      "Total time: 25.44s (training model: 19.45s, training explainer: 2.78s, experiment: 3.21s)\n",
      "Accuracy: 0.5000554815801154, precision: 0.5000554815801154, recall: 1.0\n",
      "dataset: census categorical, model: neural network (repetition 9)\n"
     ]
    },
    {
     "name": "stderr",
     "output_type": "stream",
     "text": [
      "c:\\users\\ml_ks\\venvs\\xai_new\\lib\\site-packages\\sklearn\\neural_network\\_multilayer_perceptron.py:702: ConvergenceWarning: Stochastic Optimizer: Maximum iterations (200) reached and the optimization hasn't converged yet.\n",
      "  warnings.warn(\n"
     ]
    },
    {
     "name": "stdout",
     "output_type": "stream",
     "text": [
      "Total time: 25.40s (training model: 19.45s, training explainer: 2.74s, experiment: 3.21s)\n",
      "Accuracy: 0.5001664816870144, precision: 0.5001664816870144, recall: 1.0\n"
     ]
    }
   ],
   "source": [
    "# This will run the experiment for each dataset and model combination\n",
    "results = run_all_experiments(PDPMembershipInference, dataset_dicts, model_dicts, random_state=0, num_queries=None, model_access=False, threads=threads, repeat=10)"
   ]
  },
  {
   "cell_type": "markdown",
   "id": "b7f06a08",
   "metadata": {},
   "source": [
    "# Results\n",
    "\n",
    "The results of all variations of the membership inference experiment with PDP. In every experiment, we executed the membership inference attack on each sample of the training data and each sample of the test data. Both datasets are of equal size and originate from the same source dataset.\n",
    "\n",
    "Accuracy is the percentage of samples whose membership (true or false) was correctly inferred. An algorithm guessing at random would achieve an accuracy of 50 percent.\n",
    "\n",
    "Precision is the percentage of predicted training samples that is actually in the training data.\n",
    "\n",
    "Recall is the percentage of training samples whose membership (true) was correctly inferred."
   ]
  },
  {
   "cell_type": "code",
   "execution_count": 10,
   "id": "e8cd69e3",
   "metadata": {},
   "outputs": [
    {
     "data": {
      "text/plain": "                dataset           model  repetition  accuracy  precision  \\\n0                 heart   decision tree           0  0.631387   0.576816   \n1                 heart   decision tree           1  0.618582   0.569655   \n2                 heart   decision tree           2  0.640931   0.584986   \n3                 heart   decision tree           3  0.670330   0.604685   \n4                 heart   decision tree           4  0.646416   0.586648   \n..                  ...             ...         ...       ...        ...   \n175  census categorical  neural network           5  0.500000   0.500000   \n176  census categorical  neural network           6  0.500194   0.500194   \n177  census categorical  neural network           7  0.500055   0.500055   \n178  census categorical  neural network           8  0.500055   0.500055   \n179  census categorical  neural network           9  0.500166   0.500166   \n\n     recall  \n0       1.0  \n1       1.0  \n2       1.0  \n3       1.0  \n4       1.0  \n..      ...  \n175     1.0  \n176     1.0  \n177     1.0  \n178     1.0  \n179     1.0  \n\n[180 rows x 6 columns]",
      "text/html": "<div>\n<style scoped>\n    .dataframe tbody tr th:only-of-type {\n        vertical-align: middle;\n    }\n\n    .dataframe tbody tr th {\n        vertical-align: top;\n    }\n\n    .dataframe thead th {\n        text-align: right;\n    }\n</style>\n<table border=\"1\" class=\"dataframe\">\n  <thead>\n    <tr style=\"text-align: right;\">\n      <th></th>\n      <th>dataset</th>\n      <th>model</th>\n      <th>repetition</th>\n      <th>accuracy</th>\n      <th>precision</th>\n      <th>recall</th>\n    </tr>\n  </thead>\n  <tbody>\n    <tr>\n      <th>0</th>\n      <td>heart</td>\n      <td>decision tree</td>\n      <td>0</td>\n      <td>0.631387</td>\n      <td>0.576816</td>\n      <td>1.0</td>\n    </tr>\n    <tr>\n      <th>1</th>\n      <td>heart</td>\n      <td>decision tree</td>\n      <td>1</td>\n      <td>0.618582</td>\n      <td>0.569655</td>\n      <td>1.0</td>\n    </tr>\n    <tr>\n      <th>2</th>\n      <td>heart</td>\n      <td>decision tree</td>\n      <td>2</td>\n      <td>0.640931</td>\n      <td>0.584986</td>\n      <td>1.0</td>\n    </tr>\n    <tr>\n      <th>3</th>\n      <td>heart</td>\n      <td>decision tree</td>\n      <td>3</td>\n      <td>0.670330</td>\n      <td>0.604685</td>\n      <td>1.0</td>\n    </tr>\n    <tr>\n      <th>4</th>\n      <td>heart</td>\n      <td>decision tree</td>\n      <td>4</td>\n      <td>0.646416</td>\n      <td>0.586648</td>\n      <td>1.0</td>\n    </tr>\n    <tr>\n      <th>...</th>\n      <td>...</td>\n      <td>...</td>\n      <td>...</td>\n      <td>...</td>\n      <td>...</td>\n      <td>...</td>\n    </tr>\n    <tr>\n      <th>175</th>\n      <td>census categorical</td>\n      <td>neural network</td>\n      <td>5</td>\n      <td>0.500000</td>\n      <td>0.500000</td>\n      <td>1.0</td>\n    </tr>\n    <tr>\n      <th>176</th>\n      <td>census categorical</td>\n      <td>neural network</td>\n      <td>6</td>\n      <td>0.500194</td>\n      <td>0.500194</td>\n      <td>1.0</td>\n    </tr>\n    <tr>\n      <th>177</th>\n      <td>census categorical</td>\n      <td>neural network</td>\n      <td>7</td>\n      <td>0.500055</td>\n      <td>0.500055</td>\n      <td>1.0</td>\n    </tr>\n    <tr>\n      <th>178</th>\n      <td>census categorical</td>\n      <td>neural network</td>\n      <td>8</td>\n      <td>0.500055</td>\n      <td>0.500055</td>\n      <td>1.0</td>\n    </tr>\n    <tr>\n      <th>179</th>\n      <td>census categorical</td>\n      <td>neural network</td>\n      <td>9</td>\n      <td>0.500166</td>\n      <td>0.500166</td>\n      <td>1.0</td>\n    </tr>\n  </tbody>\n</table>\n<p>180 rows × 6 columns</p>\n</div>"
     },
     "execution_count": 10,
     "metadata": {},
     "output_type": "execute_result"
    }
   ],
   "source": [
    "results"
   ]
  },
  {
   "cell_type": "code",
   "execution_count": 11,
   "id": "0ff0de03",
   "metadata": {},
   "outputs": [],
   "source": [
    "file_name = 'results/1-1-pdp-membership-inference-results'\n",
    "if DATASET_HALF:\n",
    "    file_name += '_dataset_size_halved'\n",
    "results.to_csv(file_name + '.csv', index=False, na_rep='NaN', float_format='%.3f')"
   ]
  },
  {
   "cell_type": "markdown",
   "id": "1d657f26-e0b5-42e1-a2d1-7482f4e193e7",
   "metadata": {},
   "source": [
    "# Discussion\n",
    "\n",
    "In our experiments, membership inference with PDP has an accuracy of 64% for numeric data and 50% for categorical data. Since no false negatives can occur, recall is always 100%.\n",
    "\n",
    "In the case of categorical data, the membership inference attack always predicted membership. This makes intuitive sense because categorical data usually does not have any categories that do not appear in the training data. Therefore, any category of a feature of a test sample also appears in the training data and the attacker cannot tell that the test sample did not come from the training data.\n",
    "\n",
    "The attack was more successful for numeric data. This is sensible because numeric data has many more different possible feature values and therefore the chance is higher that a feature value of a test sample is not included in all feature values of the training data. In this case, the attacker can accurately rule out that the test sample comes from the training data.\n",
    "\n",
    "The choice of model did not have an effect on the result. This is due to the fact that the attacker only relied on the distribution of feature values in the training data. This is not changed by the type of model."
   ]
  },
  {
   "cell_type": "code",
   "execution_count": 11,
   "id": "f2f60c0f-2fd5-407e-ae99-13d75fa98dab",
   "metadata": {},
   "outputs": [],
   "source": []
  }
 ],
 "metadata": {
  "kernelspec": {
   "display_name": "Python 3 (ipykernel)",
   "language": "python",
   "name": "python3"
  },
  "language_info": {
   "codemirror_mode": {
    "name": "ipython",
    "version": 3
   },
   "file_extension": ".py",
   "mimetype": "text/x-python",
   "name": "python",
   "nbconvert_exporter": "python",
   "pygments_lexer": "ipython3",
   "version": "3.8.10"
  }
 },
 "nbformat": 4,
 "nbformat_minor": 5
}