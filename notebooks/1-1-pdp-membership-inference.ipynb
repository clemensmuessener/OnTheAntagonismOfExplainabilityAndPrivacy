{
 "cells": [
  {
   "cell_type": "markdown",
   "id": "75916e17",
   "metadata": {},
   "source": [
    "# Partial Dependence Plot Membership Inference Experiments"
   ]
  },
  {
   "cell_type": "code",
   "execution_count": 13,
   "id": "f6661d3f",
   "metadata": {},
   "outputs": [],
   "source": [
    "import pandas as pd\n",
    "import sklearn.ensemble as es\n",
    "from sklearn.tree import DecisionTreeClassifier\n",
    "from sklearn.neural_network import MLPClassifier\n",
    "import matplotlib.pyplot as plt\n",
    "from sklearn.inspection import partial_dependence\n",
    "from sklearn.inspection import PartialDependenceDisplay\n",
    "import numpy as np\n",
    "import logging"
   ]
  },
  {
   "cell_type": "code",
   "execution_count": 14,
   "id": "037ba61b-1104-440a-8581-0103b38df84a",
   "metadata": {
    "tags": []
   },
   "outputs": [],
   "source": [
    "threads = 15"
   ]
  },
  {
   "cell_type": "code",
   "execution_count": 15,
   "id": "a5238708",
   "metadata": {},
   "outputs": [
    {
     "name": "stderr",
     "output_type": "stream",
     "text": [
      "INFO:xai-privacy:Loading dataset 1: heart disease (numeric features) ...\n",
      "INFO:xai-privacy:Loading dataset 2: census income (categorical features) ...\n"
     ]
    },
    {
     "name": "stdout",
     "output_type": "stream",
     "text": [
      "Feature Age: removed 0 rows for missing values.\n",
      "Feature RestingBP: removed 59 rows for missing values.\n",
      "Feature Cholesterol: removed 27 rows for missing values.\n",
      "Feature FastingBS: add unknown category 2.0\n",
      "Feature RestingECG: add unknown category 3.0\n",
      "Feature MaxHR: removed 0 rows for missing values.\n",
      "Feature Oldpeak: removed 7 rows for missing values.\n",
      "Feature ST_Slope: add unknown category 4.0\n",
      "Feature CA: add unknown category 4.0\n",
      "Feature Thal: add unknown category 8.0\n",
      "Dropped 271 of 1097\n",
      "Dropped 273 of 1097\n",
      "Dropped 277 of 1097\n",
      "Dropped: 2399 of 32561\n",
      "census: Dropped 3848 of 30162\n",
      "num: Dropped 19859 of 30162\n",
      "cat: Dropped 12136 of 30162\n"
     ]
    }
   ],
   "source": [
    "%run experiment_setup.ipynb"
   ]
  },
  {
   "cell_type": "code",
   "execution_count": 16,
   "id": "bd2bf147",
   "metadata": {},
   "outputs": [],
   "source": [
    "logger = logging.getLogger('xai-privacy')"
   ]
  },
  {
   "cell_type": "markdown",
   "id": "c6a61bbc",
   "metadata": {},
   "source": [
    "This notebook will go through the experiment for membership inference with the partial dependence plot (PDP). Membership inference means an attacker with access to the explanation can tell for a sample whether it was included in the training data or not.\n",
    "\n",
    "The idea for PDP membership inference is as follows: The PDP shows the partial dependence for each feature value that occurs in the training data. Check for each feature value of the given sample if there exists a datapoint at that x-value in the PDP for that feature. If at least one feature value does not appear in the respective PDP, then the sample cannot be part of the training data. Otherwise, the sample may be part of the training data."
   ]
  },
  {
   "cell_type": "markdown",
   "id": "5829891e",
   "metadata": {},
   "source": [
    "First, we implement the `train_explainer` and `membership_inference_attack_no_model_access` functions:"
   ]
  },
  {
   "cell_type": "code",
   "execution_count": 27,
   "id": "81820325",
   "metadata": {},
   "outputs": [],
   "source": [
    "class PDPMembershipInference(MembershipInference):\n",
    "    def train_explainer(self, data_train, model):\n",
    "        # Generate partial dependence plots for each feature (only for training data)\n",
    "        pd_plots = []\n",
    "\n",
    "        for i in range(self.features.shape[1]):\n",
    "            # grid resolution must be high enough so that each unique feature value in the training data gets its own \n",
    "            # partial dependence value on the y axis (per our definition of PDP)\n",
    "            pd_plots.append(partial_dependence(estimator=model, X=data_train.drop(self.outcome_name, axis=1), \n",
    "                                                   features=[i], percentiles=(0,1), grid_resolution=len(data_train) + 1, kind='average'))\n",
    "            \n",
    "        return pd_plots\n",
    "        \n",
    "    @staticmethod\n",
    "    def membership_inference_attack_no_model_access(explainer, samples_df):\n",
    "        pd_plots = explainer\n",
    "        # we only use the features for membership inference, not the target\n",
    "        samples = samples_df.to_numpy()[:,:-1]\n",
    "        num_features = samples.shape[1]\n",
    "\n",
    "        results = np.empty(samples.shape[0])\n",
    "\n",
    "        for i, sample in enumerate(samples):\n",
    "            logger.debug(f'Checking sample {i}: {sample}')\n",
    "\n",
    "            is_member = True\n",
    "\n",
    "            for j in range(num_features):\n",
    "                # check if j-th feature value of sample is contained in j-th partial dependence plot:\n",
    "                feature_values_in_plot = pd_plots[j]['values'][0]\n",
    "                feature_value_in_sample = sample[j]\n",
    "\n",
    "                if feature_value_in_sample in feature_values_in_plot:\n",
    "                    logger.debug(f'Feature {j} ({feature_value_in_sample}) is contained in respective PDP.')\n",
    "                    continue\n",
    "                else:\n",
    "                    logger.debug(f'Feature {j} ({feature_value_in_sample}) is NOT contained in respective PDP.')\n",
    "                    is_member = False\n",
    "                    break\n",
    "\n",
    "            logger.debug(f'Inferred membership as {is_member}')\n",
    "            results[i] = is_member\n",
    "\n",
    "        return results"
   ]
  },
  {
   "cell_type": "markdown",
   "id": "d2ef61e5",
   "metadata": {},
   "source": [
    "# Executing Membership Inference"
   ]
  },
  {
   "cell_type": "markdown",
   "id": "bdb2e40d",
   "metadata": {},
   "source": [
    "Before running the experiment, we we will have a short look at the visual explanation of a PDP. The underlying data of these graphs will be our attack vector for membership inference.\n",
    "\n",
    "The line represents the average prediction for all possible feature values of the feature 'age'."
   ]
  },
  {
   "cell_type": "code",
   "execution_count": 21,
   "id": "64c4cf59",
   "metadata": {},
   "outputs": [
    {
     "data": {
      "image/png": "[encoded data removed]",
      "text/plain": [
       "<Figure size 432x288 with 2 Axes>"
      ]
     },
     "metadata": {
      "needs_background": "light"
     },
     "output_type": "display_data"
    }
   ],
   "source": [
    "# Train a random forest model on training data.\n",
    "features = data_heart.drop(outcome_name_heart, axis=1)\n",
    "labels = data_heart[outcome_name_heart]\n",
    "\n",
    "model = es.RandomForestClassifier(random_state=0)\n",
    "model = model.fit(features, labels)\n",
    "\n",
    "display = PartialDependenceDisplay.from_estimator(estimator=model, X=features, features=[0], feature_names=['age'],\n",
    "       grid_resolution=len(data_heart), random_state=0)"
   ]
  },
  {
   "cell_type": "markdown",
   "id": "883edb84",
   "metadata": {},
   "source": [
    "As a proof of concept for our privacy attack, we run the experiment with a very small amount of repetitions with logging to show that the membership inference function works in principle."
   ]
  },
  {
   "cell_type": "code",
   "execution_count": 28,
   "id": "813b7a63",
   "metadata": {
    "scrolled": true
   },
   "outputs": [
    {
     "name": "stderr",
     "output_type": "stream",
     "text": [
      "DEBUG:xai-privacy:[[ 66.   1.   4. 150.   0.   0.   0. 108.   1.   2.   2.   4.   7.   1.]] taken from training data\n",
      "DEBUG:xai-privacy:[[ 48.   0.   4. 120. 254.   0.   1. 110.   0.   0.   4.   4.   8.   0.]] taken from test data\n",
      "DEBUG:xai-privacy:[[ 57.   1.   2. 154. 232.   0.   2. 164.   0.   0.   1.   1.   3.   1.]] taken from training data\n",
      "DEBUG:xai-privacy:[[ 59.   1.   4. 110.   0.   2.   0.  94.   0.   0.   4.   4.   6.   1.]] taken from test data\n",
      "DEBUG:xai-privacy:[[ 46.   1.   3. 150. 163.   2.   0. 116.   0.   0.   4.   4.   8.   0.]] taken from training data\n",
      "DEBUG:xai-privacy:[[ 63.    1.    4.  130.  330.    1.    2.  132.    1.    1.8   1.    3.\n",
      "    7.    1. ]] taken from test data\n",
      "DEBUG:xai-privacy:[[ 41.   0.   2. 105. 198.   0.   0. 168.   0.   0.   1.   1.   3.   0.]] taken from training data\n",
      "DEBUG:xai-privacy:[[ 46.   1.   4. 110. 236.   0.   0. 125.   1.   2.   2.   4.   8.   1.]] taken from test data\n",
      "DEBUG:xai-privacy:[[ 39.   1.   4. 110. 273.   0.   0. 132.   0.   0.   4.   4.   8.   0.]] taken from training data\n",
      "DEBUG:xai-privacy:[[ 54.    1.    3.  150.  232.    0.    2.  165.    0.    1.6   1.    0.\n",
      "    7.    0. ]] taken from test data\n",
      "DEBUG:xai-privacy:Checking sample 0: [ 66.   1.   4. 150.   0.   0.   0. 108.   1.   2.   2.   4.   7.]\n",
      "DEBUG:xai-privacy:Feature 0 (66.0) is contained in respective PDP.\n",
      "DEBUG:xai-privacy:Feature 1 (1.0) is contained in respective PDP.\n",
      "DEBUG:xai-privacy:Feature 2 (4.0) is contained in respective PDP.\n",
      "DEBUG:xai-privacy:Feature 3 (150.0) is contained in respective PDP.\n",
      "DEBUG:xai-privacy:Feature 4 (0.0) is contained in respective PDP.\n",
      "DEBUG:xai-privacy:Feature 5 (0.0) is contained in respective PDP.\n",
      "DEBUG:xai-privacy:Feature 6 (0.0) is contained in respective PDP.\n",
      "DEBUG:xai-privacy:Feature 7 (108.0) is contained in respective PDP.\n",
      "DEBUG:xai-privacy:Feature 8 (1.0) is contained in respective PDP.\n",
      "DEBUG:xai-privacy:Feature 9 (2.0) is contained in respective PDP.\n",
      "DEBUG:xai-privacy:Feature 10 (2.0) is contained in respective PDP.\n",
      "DEBUG:xai-privacy:Feature 11 (4.0) is contained in respective PDP.\n",
      "DEBUG:xai-privacy:Feature 12 (7.0) is contained in respective PDP.\n",
      "DEBUG:xai-privacy:Inferred membership as True\n",
      "DEBUG:xai-privacy:Checking sample 1: [ 48.   0.   4. 120. 254.   0.   1. 110.   0.   0.   4.   4.   8.]\n",
      "DEBUG:xai-privacy:Feature 0 (48.0) is contained in respective PDP.\n",
      "DEBUG:xai-privacy:Feature 1 (0.0) is contained in respective PDP.\n",
      "DEBUG:xai-privacy:Feature 2 (4.0) is contained in respective PDP.\n",
      "DEBUG:xai-privacy:Feature 3 (120.0) is contained in respective PDP.\n",
      "DEBUG:xai-privacy:Feature 4 (254.0) is contained in respective PDP.\n",
      "DEBUG:xai-privacy:Feature 5 (0.0) is contained in respective PDP.\n",
      "DEBUG:xai-privacy:Feature 6 (1.0) is contained in respective PDP.\n",
      "DEBUG:xai-privacy:Feature 7 (110.0) is contained in respective PDP.\n",
      "DEBUG:xai-privacy:Feature 8 (0.0) is contained in respective PDP.\n",
      "DEBUG:xai-privacy:Feature 9 (0.0) is contained in respective PDP.\n",
      "DEBUG:xai-privacy:Feature 10 (4.0) is contained in respective PDP.\n",
      "DEBUG:xai-privacy:Feature 11 (4.0) is contained in respective PDP.\n",
      "DEBUG:xai-privacy:Feature 12 (8.0) is contained in respective PDP.\n",
      "DEBUG:xai-privacy:Inferred membership as True\n",
      "DEBUG:xai-privacy:Checking sample 2: [ 57.   1.   2. 154. 232.   0.   2. 164.   0.   0.   1.   1.   3.]\n",
      "DEBUG:xai-privacy:Feature 0 (57.0) is contained in respective PDP.\n",
      "DEBUG:xai-privacy:Feature 1 (1.0) is contained in respective PDP.\n",
      "DEBUG:xai-privacy:Feature 2 (2.0) is contained in respective PDP.\n",
      "DEBUG:xai-privacy:Feature 3 (154.0) is contained in respective PDP.\n",
      "DEBUG:xai-privacy:Feature 4 (232.0) is contained in respective PDP.\n",
      "DEBUG:xai-privacy:Feature 5 (0.0) is contained in respective PDP.\n",
      "DEBUG:xai-privacy:Feature 6 (2.0) is contained in respective PDP.\n",
      "DEBUG:xai-privacy:Feature 7 (164.0) is contained in respective PDP.\n",
      "DEBUG:xai-privacy:Feature 8 (0.0) is contained in respective PDP.\n",
      "DEBUG:xai-privacy:Feature 9 (0.0) is contained in respective PDP.\n",
      "DEBUG:xai-privacy:Feature 10 (1.0) is contained in respective PDP.\n",
      "DEBUG:xai-privacy:Feature 11 (1.0) is contained in respective PDP.\n",
      "DEBUG:xai-privacy:Feature 12 (3.0) is contained in respective PDP.\n",
      "DEBUG:xai-privacy:Inferred membership as True\n",
      "DEBUG:xai-privacy:Checking sample 3: [ 59.   1.   4. 110.   0.   2.   0.  94.   0.   0.   4.   4.   6.]\n",
      "DEBUG:xai-privacy:Feature 0 (59.0) is contained in respective PDP.\n",
      "DEBUG:xai-privacy:Feature 1 (1.0) is contained in respective PDP.\n",
      "DEBUG:xai-privacy:Feature 2 (4.0) is contained in respective PDP.\n",
      "DEBUG:xai-privacy:Feature 3 (110.0) is contained in respective PDP.\n",
      "DEBUG:xai-privacy:Feature 4 (0.0) is contained in respective PDP.\n",
      "DEBUG:xai-privacy:Feature 5 (2.0) is contained in respective PDP.\n",
      "DEBUG:xai-privacy:Feature 6 (0.0) is contained in respective PDP.\n",
      "DEBUG:xai-privacy:Feature 7 (94.0) is contained in respective PDP.\n",
      "DEBUG:xai-privacy:Feature 8 (0.0) is contained in respective PDP.\n",
      "DEBUG:xai-privacy:Feature 9 (0.0) is contained in respective PDP.\n",
      "DEBUG:xai-privacy:Feature 10 (4.0) is contained in respective PDP.\n",
      "DEBUG:xai-privacy:Feature 11 (4.0) is contained in respective PDP.\n",
      "DEBUG:xai-privacy:Feature 12 (6.0) is contained in respective PDP.\n",
      "DEBUG:xai-privacy:Inferred membership as True\n",
      "DEBUG:xai-privacy:Checking sample 4: [ 46.   1.   3. 150. 163.   2.   0. 116.   0.   0.   4.   4.   8.]\n",
      "DEBUG:xai-privacy:Feature 0 (46.0) is contained in respective PDP.\n",
      "DEBUG:xai-privacy:Feature 1 (1.0) is contained in respective PDP.\n",
      "DEBUG:xai-privacy:Feature 2 (3.0) is contained in respective PDP.\n",
      "DEBUG:xai-privacy:Feature 3 (150.0) is contained in respective PDP.\n",
      "DEBUG:xai-privacy:Feature 4 (163.0) is contained in respective PDP.\n",
      "DEBUG:xai-privacy:Feature 5 (2.0) is contained in respective PDP.\n",
      "DEBUG:xai-privacy:Feature 6 (0.0) is contained in respective PDP.\n",
      "DEBUG:xai-privacy:Feature 7 (116.0) is contained in respective PDP.\n",
      "DEBUG:xai-privacy:Feature 8 (0.0) is contained in respective PDP.\n",
      "DEBUG:xai-privacy:Feature 9 (0.0) is contained in respective PDP.\n",
      "DEBUG:xai-privacy:Feature 10 (4.0) is contained in respective PDP.\n",
      "DEBUG:xai-privacy:Feature 11 (4.0) is contained in respective PDP.\n",
      "DEBUG:xai-privacy:Feature 12 (8.0) is contained in respective PDP.\n",
      "DEBUG:xai-privacy:Inferred membership as True\n",
      "DEBUG:xai-privacy:Checking sample 5: [ 63.    1.    4.  130.  330.    1.    2.  132.    1.    1.8   1.    3.\n",
      "   7. ]\n",
      "DEBUG:xai-privacy:Feature 0 (63.0) is contained in respective PDP.\n",
      "DEBUG:xai-privacy:Feature 1 (1.0) is contained in respective PDP.\n",
      "DEBUG:xai-privacy:Feature 2 (4.0) is contained in respective PDP.\n",
      "DEBUG:xai-privacy:Feature 3 (130.0) is contained in respective PDP.\n",
      "DEBUG:xai-privacy:Feature 4 (330.0) is NOT contained in respective PDP.\n",
      "DEBUG:xai-privacy:Inferred membership as False\n",
      "DEBUG:xai-privacy:Checking sample 6: [ 41.   0.   2. 105. 198.   0.   0. 168.   0.   0.   1.   1.   3.]\n",
      "DEBUG:xai-privacy:Feature 0 (41.0) is contained in respective PDP.\n",
      "DEBUG:xai-privacy:Feature 1 (0.0) is contained in respective PDP.\n",
      "DEBUG:xai-privacy:Feature 2 (2.0) is contained in respective PDP.\n",
      "DEBUG:xai-privacy:Feature 3 (105.0) is contained in respective PDP.\n",
      "DEBUG:xai-privacy:Feature 4 (198.0) is contained in respective PDP.\n",
      "DEBUG:xai-privacy:Feature 5 (0.0) is contained in respective PDP.\n",
      "DEBUG:xai-privacy:Feature 6 (0.0) is contained in respective PDP.\n",
      "DEBUG:xai-privacy:Feature 7 (168.0) is contained in respective PDP.\n",
      "DEBUG:xai-privacy:Feature 8 (0.0) is contained in respective PDP.\n",
      "DEBUG:xai-privacy:Feature 9 (0.0) is contained in respective PDP.\n",
      "DEBUG:xai-privacy:Feature 10 (1.0) is contained in respective PDP.\n",
      "DEBUG:xai-privacy:Feature 11 (1.0) is contained in respective PDP.\n",
      "DEBUG:xai-privacy:Feature 12 (3.0) is contained in respective PDP.\n",
      "DEBUG:xai-privacy:Inferred membership as True\n",
      "DEBUG:xai-privacy:Checking sample 7: [ 46.   1.   4. 110. 236.   0.   0. 125.   1.   2.   2.   4.   8.]\n",
      "DEBUG:xai-privacy:Feature 0 (46.0) is contained in respective PDP.\n",
      "DEBUG:xai-privacy:Feature 1 (1.0) is contained in respective PDP.\n",
      "DEBUG:xai-privacy:Feature 2 (4.0) is contained in respective PDP.\n",
      "DEBUG:xai-privacy:Feature 3 (110.0) is contained in respective PDP.\n",
      "DEBUG:xai-privacy:Feature 4 (236.0) is contained in respective PDP.\n",
      "DEBUG:xai-privacy:Feature 5 (0.0) is contained in respective PDP.\n",
      "DEBUG:xai-privacy:Feature 6 (0.0) is contained in respective PDP.\n",
      "DEBUG:xai-privacy:Feature 7 (125.0) is contained in respective PDP.\n",
      "DEBUG:xai-privacy:Feature 8 (1.0) is contained in respective PDP.\n",
      "DEBUG:xai-privacy:Feature 9 (2.0) is contained in respective PDP.\n",
      "DEBUG:xai-privacy:Feature 10 (2.0) is contained in respective PDP.\n",
      "DEBUG:xai-privacy:Feature 11 (4.0) is contained in respective PDP.\n",
      "DEBUG:xai-privacy:Feature 12 (8.0) is contained in respective PDP.\n",
      "DEBUG:xai-privacy:Inferred membership as True\n",
      "DEBUG:xai-privacy:Checking sample 8: [ 39.   1.   4. 110. 273.   0.   0. 132.   0.   0.   4.   4.   8.]\n",
      "DEBUG:xai-privacy:Feature 0 (39.0) is contained in respective PDP.\n",
      "DEBUG:xai-privacy:Feature 1 (1.0) is contained in respective PDP.\n",
      "DEBUG:xai-privacy:Feature 2 (4.0) is contained in respective PDP.\n",
      "DEBUG:xai-privacy:Feature 3 (110.0) is contained in respective PDP.\n",
      "DEBUG:xai-privacy:Feature 4 (273.0) is contained in respective PDP.\n",
      "DEBUG:xai-privacy:Feature 5 (0.0) is contained in respective PDP.\n",
      "DEBUG:xai-privacy:Feature 6 (0.0) is contained in respective PDP.\n",
      "DEBUG:xai-privacy:Feature 7 (132.0) is contained in respective PDP.\n",
      "DEBUG:xai-privacy:Feature 8 (0.0) is contained in respective PDP.\n",
      "DEBUG:xai-privacy:Feature 9 (0.0) is contained in respective PDP.\n",
      "DEBUG:xai-privacy:Feature 10 (4.0) is contained in respective PDP.\n",
      "DEBUG:xai-privacy:Feature 11 (4.0) is contained in respective PDP.\n",
      "DEBUG:xai-privacy:Feature 12 (8.0) is contained in respective PDP.\n",
      "DEBUG:xai-privacy:Inferred membership as True\n",
      "DEBUG:xai-privacy:Checking sample 9: [ 54.    1.    3.  150.  232.    0.    2.  165.    0.    1.6   1.    0.\n",
      "   7. ]\n",
      "DEBUG:xai-privacy:Feature 0 (54.0) is contained in respective PDP.\n",
      "DEBUG:xai-privacy:Feature 1 (1.0) is contained in respective PDP.\n",
      "DEBUG:xai-privacy:Feature 2 (3.0) is contained in respective PDP.\n",
      "DEBUG:xai-privacy:Feature 3 (150.0) is contained in respective PDP.\n",
      "DEBUG:xai-privacy:Feature 4 (232.0) is contained in respective PDP.\n",
      "DEBUG:xai-privacy:Feature 5 (0.0) is contained in respective PDP.\n",
      "DEBUG:xai-privacy:Feature 6 (2.0) is contained in respective PDP.\n",
      "DEBUG:xai-privacy:Feature 7 (165.0) is contained in respective PDP.\n",
      "DEBUG:xai-privacy:Feature 8 (0.0) is contained in respective PDP.\n",
      "DEBUG:xai-privacy:Feature 9 (1.6) is contained in respective PDP.\n",
      "DEBUG:xai-privacy:Feature 10 (1.0) is contained in respective PDP.\n",
      "DEBUG:xai-privacy:Feature 11 (0.0) is contained in respective PDP.\n",
      "DEBUG:xai-privacy:Feature 12 (7.0) is contained in respective PDP.\n",
      "DEBUG:xai-privacy:Inferred membership as True\n"
     ]
    },
    {
     "name": "stdout",
     "output_type": "stream",
     "text": [
      "Total time: 3.33s (training model: 0.02s, training explainer: 3.03s, experiment: 0.28s)\n",
      "Accuracy: 0.6, precision: 0.5555555555555556, recall: 1.0\n"
     ]
    }
   ],
   "source": [
    "logger.setLevel(logging.DEBUG)\n",
    "\n",
    "EXP = PDPMembershipInference(data_heart, numeric_features_heart, outcome_name_heart, random_state=5)\n",
    "EXP.membership_inference_experiment(num_queries=10, model=DecisionTreeClassifier(random_state=0), model_access=False, threads=1)\n",
    "\n",
    "logger.setLevel(logging.INFO)"
   ]
  },
  {
   "cell_type": "markdown",
   "id": "3192b2eb",
   "metadata": {},
   "source": [
    "The proof of concept should show that the membership inference function predicts membership accurately in some cases. A false negative should not appear (recall is 100%). However, only some test samples are actually detected as not being part of the training data. You can change the random state to try out a few different runs with different chosen samples."
   ]
  },
  {
   "cell_type": "markdown",
   "id": "4dcb3db0",
   "metadata": {},
   "source": [
    "Now we begin executing the actual experiment. We begin by defining the table that will hold the results for all our different experiment variations. Then we execute all variations of the experiment for this dataset. We vary the model between a decision tree, a random forest and a neural network. Each model uses the default configuration of scikit-learn."
   ]
  },
  {
   "cell_type": "code",
   "execution_count": 29,
   "id": "2afeb15f",
   "metadata": {},
   "outputs": [],
   "source": [
    "results_ = {'dataset': [], 'model': [], 'accuracy': [], 'precision': [], 'recall': []}\n",
    "\n",
    "results = pd.DataFrame(data = results_)"
   ]
  },
  {
   "cell_type": "code",
   "execution_count": 30,
   "id": "96db5054-0d79-4f5f-accc-b4b39a3f5b50",
   "metadata": {},
   "outputs": [],
   "source": [
    "dataset_dicts = [data_heart_dict, data_heart_num_dict, data_heart_cat_dict, data_census_dict, data_census_num_dict, data_census_cat_dict]\n",
    "\n",
    "dt_dict = {'name': 'decision tree', 'model': DecisionTreeClassifier}\n",
    "rf_dict = {'name': 'random forest', 'model': es.RandomForestClassifier}\n",
    "nn_dict = {'name': 'neural network', 'model': MLPClassifier}\n",
    "\n",
    "model_dicts = [dt_dict, rf_dict, nn_dict]"
   ]
  },
  {
   "cell_type": "code",
   "execution_count": 31,
   "id": "9d00208a-acaf-40f6-a6ad-1ebc6dd07382",
   "metadata": {},
   "outputs": [
    {
     "name": "stdout",
     "output_type": "stream",
     "text": [
      "dataset: heart, model: decision tree\n",
      "Total time: 3.40s (training model: 0.02s, training explainer: 3.12s, experiment: 0.25s)\n",
      "Accuracy: 0.6416464891041163, precision: 0.5825105782792666, recall: 1.0\n",
      "dataset: heart, model: random forest\n",
      "Total time: 9.24s (training model: 0.18s, training explainer: 8.85s, experiment: 0.20s)\n",
      "Accuracy: 0.6416464891041163, precision: 0.5825105782792666, recall: 1.0\n",
      "dataset: heart, model: neural network\n"
     ]
    },
    {
     "name": "stderr",
     "output_type": "stream",
     "text": [
      "/opt/conda/lib/python3.9/site-packages/sklearn/neural_network/_multilayer_perceptron.py:692: ConvergenceWarning: Stochastic Optimizer: Maximum iterations (200) reached and the optimization hasn't converged yet.\n",
      "  warnings.warn(\n"
     ]
    },
    {
     "name": "stdout",
     "output_type": "stream",
     "text": [
      "Total time: 4.98s (training model: 1.23s, training explainer: 3.53s, experiment: 0.22s)\n",
      "Accuracy: 0.6416464891041163, precision: 0.5825105782792666, recall: 1.0\n",
      "dataset: heart numeric, model: decision tree\n",
      "Total time: 1.13s (training model: 0.01s, training explainer: 0.94s, experiment: 0.18s)\n",
      "Accuracy: 0.6419902912621359, precision: 0.5827439886845828, recall: 1.0\n",
      "dataset: heart numeric, model: random forest\n",
      "Total time: 6.06s (training model: 0.14s, training explainer: 5.74s, experiment: 0.18s)\n",
      "Accuracy: 0.6419902912621359, precision: 0.5827439886845828, recall: 1.0\n",
      "dataset: heart numeric, model: neural network\n",
      "Total time: 2.40s (training model: 0.68s, training explainer: 1.52s, experiment: 0.19s)\n",
      "Accuracy: 0.6419902912621359, precision: 0.5827439886845828, recall: 1.0\n",
      "dataset: heart categorical, model: decision tree\n",
      "Total time: 0.53s (training model: 0.01s, training explainer: 0.33s, experiment: 0.20s)\n",
      "Accuracy: 0.5036585365853659, precision: 0.5018359853121175, recall: 1.0\n",
      "dataset: heart categorical, model: random forest\n",
      "Total time: 1.68s (training model: 0.15s, training explainer: 1.33s, experiment: 0.20s)\n",
      "Accuracy: 0.5036585365853659, precision: 0.5018359853121175, recall: 1.0\n",
      "dataset: heart categorical, model: neural network\n"
     ]
    },
    {
     "name": "stderr",
     "output_type": "stream",
     "text": [
      "/opt/conda/lib/python3.9/site-packages/sklearn/neural_network/_multilayer_perceptron.py:692: ConvergenceWarning: Stochastic Optimizer: Maximum iterations (200) reached and the optimization hasn't converged yet.\n",
      "  warnings.warn(\n"
     ]
    },
    {
     "name": "stdout",
     "output_type": "stream",
     "text": [
      "Total time: 1.89s (training model: 1.18s, training explainer: 0.52s, experiment: 0.19s)\n",
      "Accuracy: 0.5036585365853659, precision: 0.5018359853121175, recall: 1.0\n",
      "dataset: census, model: decision tree\n",
      "Total time: 9.64s (training model: 0.35s, training explainer: 8.53s, experiment: 0.76s)\n",
      "Accuracy: 0.501368093030326, precision: 0.500684983636502, recall: 1.0\n",
      "dataset: census, model: random forest\n",
      "Total time: 122.23s (training model: 6.19s, training explainer: 115.26s, experiment: 0.78s)\n",
      "Accuracy: 0.501368093030326, precision: 0.500684983636502, recall: 1.0\n",
      "dataset: census, model: neural network\n"
     ]
    },
    {
     "name": "stderr",
     "output_type": "stream",
     "text": [
      "/opt/conda/lib/python3.9/site-packages/sklearn/neural_network/_multilayer_perceptron.py:692: ConvergenceWarning: Stochastic Optimizer: Maximum iterations (200) reached and the optimization hasn't converged yet.\n",
      "  warnings.warn(\n"
     ]
    },
    {
     "name": "stdout",
     "output_type": "stream",
     "text": [
      "Total time: 52.16s (training model: 29.90s, training explainer: 21.44s, experiment: 0.83s)\n",
      "Accuracy: 0.501368093030326, precision: 0.500684983636502, recall: 1.0\n",
      "dataset: census numeric, model: decision tree\n",
      "Total time: 1.45s (training model: 0.02s, training explainer: 1.14s, experiment: 0.29s)\n",
      "Accuracy: 0.5031544210424148, precision: 0.5016064648038165, recall: 1.0\n",
      "dataset: census numeric, model: random forest\n",
      "Total time: 22.25s (training model: 0.47s, training explainer: 21.41s, experiment: 0.37s)\n",
      "Accuracy: 0.5031544210424148, precision: 0.5016064648038165, recall: 1.0\n",
      "dataset: census numeric, model: neural network\n"
     ]
    },
    {
     "name": "stderr",
     "output_type": "stream",
     "text": [
      "/opt/conda/lib/python3.9/site-packages/sklearn/neural_network/_multilayer_perceptron.py:692: ConvergenceWarning: Stochastic Optimizer: Maximum iterations (200) reached and the optimization hasn't converged yet.\n",
      "  warnings.warn(\n"
     ]
    },
    {
     "name": "stdout",
     "output_type": "stream",
     "text": [
      "Total time: 9.97s (training model: 6.26s, training explainer: 3.38s, experiment: 0.33s)\n",
      "Accuracy: 0.5031544210424148, precision: 0.5016064648038165, recall: 1.0\n",
      "dataset: census categorical, model: decision tree\n",
      "Total time: 2.41s (training model: 0.21s, training explainer: 1.58s, experiment: 0.62s)\n",
      "Accuracy: 0.5, precision: 0.5, recall: 1.0\n",
      "dataset: census categorical, model: random forest\n",
      "Total time: 27.45s (training model: 3.32s, training explainer: 23.61s, experiment: 0.52s)\n",
      "Accuracy: 0.5, precision: 0.5, recall: 1.0\n",
      "dataset: census categorical, model: neural network\n"
     ]
    },
    {
     "name": "stderr",
     "output_type": "stream",
     "text": [
      "/opt/conda/lib/python3.9/site-packages/sklearn/neural_network/_multilayer_perceptron.py:692: ConvergenceWarning: Stochastic Optimizer: Maximum iterations (200) reached and the optimization hasn't converged yet.\n",
      "  warnings.warn(\n"
     ]
    },
    {
     "name": "stdout",
     "output_type": "stream",
     "text": [
      "Total time: 26.22s (training model: 21.29s, training explainer: 4.32s, experiment: 0.60s)\n",
      "Accuracy: 0.5, precision: 0.5, recall: 1.0\n"
     ]
    }
   ],
   "source": [
    "# This will run the experiment for each dataset and model combination\n",
    "\n",
    "results = run_all_experiments(PDPMembershipInference, dataset_dicts, model_dicts, random_state=0, num_queries=None, model_access=False, threads=threads, results_table=results)"
   ]
  },
  {
   "cell_type": "markdown",
   "id": "b7f06a08",
   "metadata": {},
   "source": [
    "# Results\n",
    "\n",
    "The results of all variations of the membership inference experiment with PDP. In every experiment, we executed the membership inference attack on each sample of the training data and each sample of the test data. Both datasets are of equal size and originate from the same source dataset.\n",
    "\n",
    "Accuracy is the percentage of samples whose membership (true or false) was correctly inferred. An algorithm guessing at random would achieve an accuracy of 50 percent.\n",
    "\n",
    "Precision is the percentage of predicted training samples that is actually in the training data.\n",
    "\n",
    "Recall is the percentage of training samples whose membership (true) was correctly inferred."
   ]
  },
  {
   "cell_type": "code",
   "execution_count": 11,
   "id": "e8cd69e3",
   "metadata": {},
   "outputs": [
    {
     "data": {
      "text/html": [
       "<div>\n",
       "<style scoped>\n",
       "    .dataframe tbody tr th:only-of-type {\n",
       "        vertical-align: middle;\n",
       "    }\n",
       "\n",
       "    .dataframe tbody tr th {\n",
       "        vertical-align: top;\n",
       "    }\n",
       "\n",
       "    .dataframe thead th {\n",
       "        text-align: right;\n",
       "    }\n",
       "</style>\n",
       "<table border=\"1\" class=\"dataframe\">\n",
       "  <thead>\n",
       "    <tr style=\"text-align: right;\">\n",
       "      <th></th>\n",
       "      <th>dataset</th>\n",
       "      <th>model</th>\n",
       "      <th>accuracy</th>\n",
       "      <th>precision</th>\n",
       "      <th>recall</th>\n",
       "    </tr>\n",
       "  </thead>\n",
       "  <tbody>\n",
       "    <tr>\n",
       "      <th>0</th>\n",
       "      <td>heart</td>\n",
       "      <td>decision tree</td>\n",
       "      <td>0.641646</td>\n",
       "      <td>0.582511</td>\n",
       "      <td>1.0</td>\n",
       "    </tr>\n",
       "    <tr>\n",
       "      <th>1</th>\n",
       "      <td>heart</td>\n",
       "      <td>random forest</td>\n",
       "      <td>0.641646</td>\n",
       "      <td>0.582511</td>\n",
       "      <td>1.0</td>\n",
       "    </tr>\n",
       "    <tr>\n",
       "      <th>2</th>\n",
       "      <td>heart</td>\n",
       "      <td>neural network</td>\n",
       "      <td>0.641646</td>\n",
       "      <td>0.582511</td>\n",
       "      <td>1.0</td>\n",
       "    </tr>\n",
       "    <tr>\n",
       "      <th>3</th>\n",
       "      <td>heart numeric</td>\n",
       "      <td>decision tree</td>\n",
       "      <td>0.641990</td>\n",
       "      <td>0.582744</td>\n",
       "      <td>1.0</td>\n",
       "    </tr>\n",
       "    <tr>\n",
       "      <th>4</th>\n",
       "      <td>heart numeric</td>\n",
       "      <td>random forest</td>\n",
       "      <td>0.641990</td>\n",
       "      <td>0.582744</td>\n",
       "      <td>1.0</td>\n",
       "    </tr>\n",
       "    <tr>\n",
       "      <th>5</th>\n",
       "      <td>heart numeric</td>\n",
       "      <td>neural network</td>\n",
       "      <td>0.641990</td>\n",
       "      <td>0.582744</td>\n",
       "      <td>1.0</td>\n",
       "    </tr>\n",
       "    <tr>\n",
       "      <th>6</th>\n",
       "      <td>heart categorical</td>\n",
       "      <td>decision tree</td>\n",
       "      <td>0.503659</td>\n",
       "      <td>0.501836</td>\n",
       "      <td>1.0</td>\n",
       "    </tr>\n",
       "    <tr>\n",
       "      <th>7</th>\n",
       "      <td>heart categorical</td>\n",
       "      <td>random forest</td>\n",
       "      <td>0.503659</td>\n",
       "      <td>0.501836</td>\n",
       "      <td>1.0</td>\n",
       "    </tr>\n",
       "    <tr>\n",
       "      <th>8</th>\n",
       "      <td>heart categorical</td>\n",
       "      <td>neural network</td>\n",
       "      <td>0.503659</td>\n",
       "      <td>0.501836</td>\n",
       "      <td>1.0</td>\n",
       "    </tr>\n",
       "    <tr>\n",
       "      <th>9</th>\n",
       "      <td>census</td>\n",
       "      <td>decision tree</td>\n",
       "      <td>0.501368</td>\n",
       "      <td>0.500685</td>\n",
       "      <td>1.0</td>\n",
       "    </tr>\n",
       "    <tr>\n",
       "      <th>10</th>\n",
       "      <td>census</td>\n",
       "      <td>random forest</td>\n",
       "      <td>0.501368</td>\n",
       "      <td>0.500685</td>\n",
       "      <td>1.0</td>\n",
       "    </tr>\n",
       "    <tr>\n",
       "      <th>11</th>\n",
       "      <td>census</td>\n",
       "      <td>neural network</td>\n",
       "      <td>0.501368</td>\n",
       "      <td>0.500685</td>\n",
       "      <td>1.0</td>\n",
       "    </tr>\n",
       "    <tr>\n",
       "      <th>12</th>\n",
       "      <td>census numeric</td>\n",
       "      <td>decision tree</td>\n",
       "      <td>0.503154</td>\n",
       "      <td>0.501606</td>\n",
       "      <td>1.0</td>\n",
       "    </tr>\n",
       "    <tr>\n",
       "      <th>13</th>\n",
       "      <td>census numeric</td>\n",
       "      <td>random forest</td>\n",
       "      <td>0.503154</td>\n",
       "      <td>0.501606</td>\n",
       "      <td>1.0</td>\n",
       "    </tr>\n",
       "    <tr>\n",
       "      <th>14</th>\n",
       "      <td>census numeric</td>\n",
       "      <td>neural network</td>\n",
       "      <td>0.503154</td>\n",
       "      <td>0.501606</td>\n",
       "      <td>1.0</td>\n",
       "    </tr>\n",
       "    <tr>\n",
       "      <th>15</th>\n",
       "      <td>census categorical</td>\n",
       "      <td>decision tree</td>\n",
       "      <td>0.500000</td>\n",
       "      <td>0.500000</td>\n",
       "      <td>1.0</td>\n",
       "    </tr>\n",
       "    <tr>\n",
       "      <th>16</th>\n",
       "      <td>census categorical</td>\n",
       "      <td>random forest</td>\n",
       "      <td>0.500000</td>\n",
       "      <td>0.500000</td>\n",
       "      <td>1.0</td>\n",
       "    </tr>\n",
       "    <tr>\n",
       "      <th>17</th>\n",
       "      <td>census categorical</td>\n",
       "      <td>neural network</td>\n",
       "      <td>0.500000</td>\n",
       "      <td>0.500000</td>\n",
       "      <td>1.0</td>\n",
       "    </tr>\n",
       "  </tbody>\n",
       "</table>\n",
       "</div>"
      ],
      "text/plain": [
       "               dataset           model  accuracy  precision  recall\n",
       "0                heart   decision tree  0.641646   0.582511     1.0\n",
       "1                heart   random forest  0.641646   0.582511     1.0\n",
       "2                heart  neural network  0.641646   0.582511     1.0\n",
       "3        heart numeric   decision tree  0.641990   0.582744     1.0\n",
       "4        heart numeric   random forest  0.641990   0.582744     1.0\n",
       "5        heart numeric  neural network  0.641990   0.582744     1.0\n",
       "6    heart categorical   decision tree  0.503659   0.501836     1.0\n",
       "7    heart categorical   random forest  0.503659   0.501836     1.0\n",
       "8    heart categorical  neural network  0.503659   0.501836     1.0\n",
       "9               census   decision tree  0.501368   0.500685     1.0\n",
       "10              census   random forest  0.501368   0.500685     1.0\n",
       "11              census  neural network  0.501368   0.500685     1.0\n",
       "12      census numeric   decision tree  0.503154   0.501606     1.0\n",
       "13      census numeric   random forest  0.503154   0.501606     1.0\n",
       "14      census numeric  neural network  0.503154   0.501606     1.0\n",
       "15  census categorical   decision tree  0.500000   0.500000     1.0\n",
       "16  census categorical   random forest  0.500000   0.500000     1.0\n",
       "17  census categorical  neural network  0.500000   0.500000     1.0"
      ]
     },
     "execution_count": 11,
     "metadata": {},
     "output_type": "execute_result"
    }
   ],
   "source": [
    "results"
   ]
  },
  {
   "cell_type": "code",
   "execution_count": 12,
   "id": "0ff0de03",
   "metadata": {},
   "outputs": [],
   "source": [
    "results.to_csv('results/1-1-pdp-membership-inference-results.csv', index=False, na_rep='NaN', float_format='%.3f')"
   ]
  },
  {
   "cell_type": "markdown",
   "id": "1d657f26-e0b5-42e1-a2d1-7482f4e193e7",
   "metadata": {},
   "source": [
    "# Discussion\n",
    "\n",
    "In our experiments, membership inference with PDP has an accuracy of 64% for numeric data and 50% for categorical data. Since no false negatives can occur, recall is always 100%.\n",
    "\n",
    "In the case of categorical data, the membership inference attack always predicted membership. This makes intuitive sense because categorical data usually does not have any categories that do not appear in the training data. Therefore, any category of a feature of a test sample also appears in the training data and the attacker cannot tell that the test sample did not come from the training data.\n",
    "\n",
    "The attack was more successful for numeric data. This is sensible because numeric data has many more different possible feature values and therefore the chance is higher that a feature value of a test sample is not included in all feature values of the training data. In this case, the attacker can accurately rule out that the test sample comes from the training data.\n",
    "\n",
    "The choice of model did not have an effect on the result. This is due to the fact that the attacker only relied on the distribution of feature values in the training data. This is not changed by the type of model."
   ]
  },
  {
   "cell_type": "code",
   "execution_count": null,
   "id": "f2f60c0f-2fd5-407e-ae99-13d75fa98dab",
   "metadata": {},
   "outputs": [],
   "source": []
  }
 ],
 "metadata": {
  "kernelspec": {
   "display_name": "Python 3 (ipykernel)",
   "language": "python",
   "name": "python3"
  },
  "language_info": {
   "codemirror_mode": {
    "name": "ipython",
    "version": 3
   },
   "file_extension": ".py",
   "mimetype": "text/x-python",
   "name": "python",
   "nbconvert_exporter": "python",
   "pygments_lexer": "ipython3",
   "version": "3.9.10"
  }
 },
 "nbformat": 4,
 "nbformat_minor": 5
}
