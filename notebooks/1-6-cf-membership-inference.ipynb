{
 "cells": [
  {
   "cell_type": "markdown",
   "id": "75916e17",
   "metadata": {},
   "source": [
    "# Counterfactuals Membership Inference Experiment"
   ]
  },
  {
   "cell_type": "code",
   "execution_count": 1,
   "id": "f6661d3f",
   "metadata": {
    "tags": []
   },
   "outputs": [
    {
     "name": "stderr",
     "output_type": "stream",
     "text": [
      "Intel(R) Extension for Scikit-learn* enabled (https://github.com/intel/scikit-learn-intelex)\n"
     ]
    }
   ],
   "source": [
    "import pandas as pd\n",
    "from sklearnex import patch_sklearn\n",
    "patch_sklearn()\n",
    "import sklearn.ensemble as es\n",
    "from sklearn.tree import DecisionTreeClassifier\n",
    "from sklearn.neural_network import MLPClassifier\n",
    "import numpy as np\n",
    "import logging\n",
    "import warnings\n",
    "import dice_ml"
   ]
  },
  {
   "cell_type": "code",
   "execution_count": 2,
   "id": "bd464bf4-ffd3-482c-a39a-a51303be4468",
   "metadata": {
    "tags": []
   },
   "outputs": [],
   "source": [
    "threads = 15\n",
    "\n",
    "logging.basicConfig()\n",
    "\n",
    "logger = logging.getLogger('xai-privacy')"
   ]
  },
  {
   "cell_type": "code",
   "execution_count": 3,
   "id": "f17097ef",
   "metadata": {
    "tags": []
   },
   "outputs": [],
   "source": [
    "from experiment_setup import run_all_experiments\n",
    "from experiment_setup import get_heart_disease_dataset\n",
    "from experiment_setup import get_census_dataset\n",
    "from experiment_setup import MembershipInference"
   ]
  },
  {
   "cell_type": "code",
   "execution_count": 4,
   "id": "ce94e21f-96e8-4a10-8dc2-cc9b2c5834f5",
   "metadata": {
    "tags": []
   },
   "outputs": [
    {
     "name": "stdout",
     "output_type": "stream",
     "text": [
      "Feature Age: removed 0 rows for missing values.\n",
      "Feature RestingBP: removed 59 rows for missing values.\n",
      "Feature Cholesterol: removed 27 rows for missing values.\n",
      "Feature FastingBS: add unknown category 2.0\n",
      "Feature RestingECG: add unknown category 3.0\n",
      "Feature MaxHR: removed 0 rows for missing values.\n",
      "Feature Oldpeak: removed 7 rows for missing values.\n",
      "Feature ST_Slope: add unknown category 4.0\n",
      "Feature CA: add unknown category 4.0\n",
      "Feature Thal: add unknown category 8.0\n",
      "Dropped 71 of 548\n",
      "Dropped 72 of 548\n",
      "Dropped 71 of 548\n",
      "Dropped: 2399 of 32561\n",
      "census: Dropped 1256 of 15081\n",
      "num: Dropped 8827 of 15081\n",
      "cat: Dropped 4850 of 15081\n"
     ]
    }
   ],
   "source": [
    "DATASET_HALF = True\n",
    "\n",
    "data_heart_dict, data_heart_num_dict, data_heart_cat_dict = get_heart_disease_dataset(halve_dataset=DATASET_HALF)\n",
    "data_census_dict, data_census_num_dict, data_census_cat_dict = get_census_dataset(halve_dataset=DATASET_HALF)\n",
    "\n",
    "data_heart = data_heart_dict['dataset']\n",
    "outcome_name_heart = data_heart_dict['outcome']\n",
    "numeric_features_heart = data_heart_dict['num']"
   ]
  },
  {
   "cell_type": "markdown",
   "id": "c6a61bbc",
   "metadata": {},
   "source": [
    "This notebook will test whether membership inference is possible with counterfactuals (CF) that are drawn from the training data. Membership inference means an attacker with access to the explanation can determine for any sample whether it was included in the training data or not.\n",
    "\n",
    "The idea for counterfactual membership inference is as follows: The attacker obtains counterfactuals for the given sample (\"frist counterfactuals\"). They access the explainer again to receive counterfactuals for each first counterfactual (\"second counterfactuals\"). The second counterfactuals should have the same class as the original given sample (because the class was flipped twice). If any second counterfactual is equal to the given sample, then the sample must be part of the training data. This concept relies on the assumption that there is a high likelihood that a sample from the training data will be its own counter-counterfactual."
   ]
  },
  {
   "cell_type": "markdown",
   "id": "3e3f616e",
   "metadata": {},
   "source": [
    "First, we implement the `train_explainer` and `membership_inference_attack_no_model_access` functions:"
   ]
  },
  {
   "cell_type": "code",
   "execution_count": 5,
   "id": "3a58eda4",
   "metadata": {
    "tags": []
   },
   "outputs": [],
   "source": [
    "# Attack code must be imported so that multiprocessing pool works. Check out cf_attack.py for the implementation of the attack.\n",
    "from cf_attack import CounterfactualMembershipInference"
   ]
  },
  {
   "cell_type": "markdown",
   "id": "d2ef61e5",
   "metadata": {},
   "source": [
    "# Executing Membership Inference"
   ]
  },
  {
   "cell_type": "markdown",
   "id": "d02a2083",
   "metadata": {},
   "source": [
    "We now generate five counterfactuals for the first sample from the training data to demonstrate counterfactual explanations in general."
   ]
  },
  {
   "cell_type": "code",
   "execution_count": 6,
   "id": "64c4cf59",
   "metadata": {
    "tags": []
   },
   "outputs": [],
   "source": [
    "features = data_heart.drop(outcome_name_heart, axis=1)\n",
    "labels = data_heart[outcome_name_heart]\n",
    "\n",
    "# Train a random forest on training data.\n",
    "model = es.RandomForestClassifier(random_state=0)\n",
    "model = model.fit(features, labels)\n",
    "\n",
    "# Train explainer\n",
    "d = dice_ml.Data(dataframe=data_heart, continuous_features=numeric_features_heart, outcome_name=outcome_name_heart)\n",
    "\n",
    "\n",
    "m = dice_ml.Model(model=model, backend=\"sklearn\", model_type='classifier')\n",
    "# Generating counterfactuals from training data (kd-tree)\n",
    "exp = dice_ml.Dice(d, m, method=\"kdtree\")"
   ]
  },
  {
   "cell_type": "code",
   "execution_count": 7,
   "id": "508a451a",
   "metadata": {
    "execution": {
     "iopub.execute_input": "2022-07-25T15:09:02.570151Z",
     "iopub.status.busy": "2022-07-25T15:09:02.569053Z",
     "iopub.status.idle": "2022-07-25T15:09:07.037232Z",
     "shell.execute_reply": "2022-07-25T15:09:07.036260Z"
    }
   },
   "outputs": [
    {
     "name": "stderr",
     "output_type": "stream",
     "text": [
      "100%|██████████| 1/1 [00:00<00:00,  1.18it/s]"
     ]
    },
    {
     "name": "stdout",
     "output_type": "stream",
     "text": [
      "Query instance (original outcome : 0)\n"
     ]
    },
    {
     "name": "stderr",
     "output_type": "stream",
     "text": [
      "\n"
     ]
    },
    {
     "data": {
      "text/plain": "    Age  Sex ChestPainType  RestingBP  Cholesterol FastingBS RestingECG  \\\n0  62.0  1.0           2.0      140.0        271.0       0.0        0.0   \n\n   MaxHR ExerciseAngina  Oldpeak ST_Slope   CA Thal  HeartDisease  \n0  152.0            0.0      1.0      1.0  4.0  8.0           0.0  ",
      "text/html": "<div>\n<style scoped>\n    .dataframe tbody tr th:only-of-type {\n        vertical-align: middle;\n    }\n\n    .dataframe tbody tr th {\n        vertical-align: top;\n    }\n\n    .dataframe thead th {\n        text-align: right;\n    }\n</style>\n<table border=\"1\" class=\"dataframe\">\n  <thead>\n    <tr style=\"text-align: right;\">\n      <th></th>\n      <th>Age</th>\n      <th>Sex</th>\n      <th>ChestPainType</th>\n      <th>RestingBP</th>\n      <th>Cholesterol</th>\n      <th>FastingBS</th>\n      <th>RestingECG</th>\n      <th>MaxHR</th>\n      <th>ExerciseAngina</th>\n      <th>Oldpeak</th>\n      <th>ST_Slope</th>\n      <th>CA</th>\n      <th>Thal</th>\n      <th>HeartDisease</th>\n    </tr>\n  </thead>\n  <tbody>\n    <tr>\n      <th>0</th>\n      <td>62.0</td>\n      <td>1.0</td>\n      <td>2.0</td>\n      <td>140.0</td>\n      <td>271.0</td>\n      <td>0.0</td>\n      <td>0.0</td>\n      <td>152.0</td>\n      <td>0.0</td>\n      <td>1.0</td>\n      <td>1.0</td>\n      <td>4.0</td>\n      <td>8.0</td>\n      <td>0.0</td>\n    </tr>\n  </tbody>\n</table>\n</div>"
     },
     "metadata": {},
     "output_type": "display_data"
    },
    {
     "name": "stdout",
     "output_type": "stream",
     "text": [
      "\n",
      "Diverse Counterfactual set without sparsity correction (new outcome:  1\n"
     ]
    },
    {
     "data": {
      "text/plain": "      Age  Sex ChestPainType  RestingBP  Cholesterol FastingBS RestingECG  \\\n439  62.0  0.0           4.0      140.0        268.0       0.0        2.0   \n90   57.0  1.0           2.0      124.0        261.0       0.0        0.0   \n166  60.0  1.0           2.0      160.0        267.0       1.0        1.0   \n103  66.0  1.0           4.0      112.0        261.0       0.0        0.0   \n370  67.0  1.0           1.0      142.0        270.0       1.0        0.0   \n\n     MaxHR ExerciseAngina  Oldpeak ST_Slope   CA Thal  \n439  160.0            0.0      3.6      3.0  2.0  3.0  \n90   141.0            0.0      0.3      1.0  0.0  7.0  \n166  157.0            0.0      0.5      2.0  4.0  8.0  \n103  140.0            0.0      1.5      1.0  4.0  8.0  \n370  125.0            0.0      2.5      1.0  4.0  8.0  ",
      "text/html": "<div>\n<style scoped>\n    .dataframe tbody tr th:only-of-type {\n        vertical-align: middle;\n    }\n\n    .dataframe tbody tr th {\n        vertical-align: top;\n    }\n\n    .dataframe thead th {\n        text-align: right;\n    }\n</style>\n<table border=\"1\" class=\"dataframe\">\n  <thead>\n    <tr style=\"text-align: right;\">\n      <th></th>\n      <th>Age</th>\n      <th>Sex</th>\n      <th>ChestPainType</th>\n      <th>RestingBP</th>\n      <th>Cholesterol</th>\n      <th>FastingBS</th>\n      <th>RestingECG</th>\n      <th>MaxHR</th>\n      <th>ExerciseAngina</th>\n      <th>Oldpeak</th>\n      <th>ST_Slope</th>\n      <th>CA</th>\n      <th>Thal</th>\n    </tr>\n  </thead>\n  <tbody>\n    <tr>\n      <th>439</th>\n      <td>62.0</td>\n      <td>0.0</td>\n      <td>4.0</td>\n      <td>140.0</td>\n      <td>268.0</td>\n      <td>0.0</td>\n      <td>2.0</td>\n      <td>160.0</td>\n      <td>0.0</td>\n      <td>3.6</td>\n      <td>3.0</td>\n      <td>2.0</td>\n      <td>3.0</td>\n    </tr>\n    <tr>\n      <th>90</th>\n      <td>57.0</td>\n      <td>1.0</td>\n      <td>2.0</td>\n      <td>124.0</td>\n      <td>261.0</td>\n      <td>0.0</td>\n      <td>0.0</td>\n      <td>141.0</td>\n      <td>0.0</td>\n      <td>0.3</td>\n      <td>1.0</td>\n      <td>0.0</td>\n      <td>7.0</td>\n    </tr>\n    <tr>\n      <th>166</th>\n      <td>60.0</td>\n      <td>1.0</td>\n      <td>2.0</td>\n      <td>160.0</td>\n      <td>267.0</td>\n      <td>1.0</td>\n      <td>1.0</td>\n      <td>157.0</td>\n      <td>0.0</td>\n      <td>0.5</td>\n      <td>2.0</td>\n      <td>4.0</td>\n      <td>8.0</td>\n    </tr>\n    <tr>\n      <th>103</th>\n      <td>66.0</td>\n      <td>1.0</td>\n      <td>4.0</td>\n      <td>112.0</td>\n      <td>261.0</td>\n      <td>0.0</td>\n      <td>0.0</td>\n      <td>140.0</td>\n      <td>0.0</td>\n      <td>1.5</td>\n      <td>1.0</td>\n      <td>4.0</td>\n      <td>8.0</td>\n    </tr>\n    <tr>\n      <th>370</th>\n      <td>67.0</td>\n      <td>1.0</td>\n      <td>1.0</td>\n      <td>142.0</td>\n      <td>270.0</td>\n      <td>1.0</td>\n      <td>0.0</td>\n      <td>125.0</td>\n      <td>0.0</td>\n      <td>2.5</td>\n      <td>1.0</td>\n      <td>4.0</td>\n      <td>8.0</td>\n    </tr>\n  </tbody>\n</table>\n</div>"
     },
     "metadata": {},
     "output_type": "display_data"
    }
   ],
   "source": [
    "e1 = exp.generate_counterfactuals(features[0:1], total_CFs=5, desired_class=\"opposite\")\n",
    "e1.visualize_as_dataframe(display_sparse_df=False)"
   ]
  },
  {
   "cell_type": "markdown",
   "id": "084cf1e0",
   "metadata": {},
   "source": [
    "We can see that the counterfactuals are similar to the query sample and that they have a flipped prediction. These are the two general properties of counterfactual explanations.\n",
    "\n",
    "We will now do a small proof of concept of the experiment with logging enabled to demonstrate how it works."
   ]
  },
  {
   "cell_type": "code",
   "execution_count": 8,
   "id": "cacf1093",
   "metadata": {
    "execution": {
     "iopub.execute_input": "2022-07-25T15:09:07.053394Z",
     "iopub.status.busy": "2022-07-25T15:09:07.052334Z",
     "iopub.status.idle": "2022-07-25T15:09:18.295398Z",
     "shell.execute_reply": "2022-07-25T15:09:18.295743Z"
    },
    "scrolled": true
   },
   "outputs": [
    {
     "name": "stderr",
     "output_type": "stream",
     "text": [
      "DEBUG:xai-privacy:Numeric Features: ['Age', 'RestingBP', 'Cholesterol', 'MaxHR', 'Oldpeak']\n",
      "DEBUG:xai-privacy:Categorical Features: ['CA', 'ChestPainType', 'ExerciseAngina', 'FastingBS', 'RestingECG', 'ST_Slope', 'Sex', 'Thal']\n",
      "DEBUG:xai-privacy:Removed 6 test samples due to unknown category.\n",
      "DEBUG:xai-privacy:[[ 65.    1.    4.  120.  177.    0.    0.  140.    0.    0.4   1.    0.\n",
      "    7.    0. ]] taken from training data\n",
      "DEBUG:xai-privacy:[[ 42.   1.   3. 130. 180.   0.   0. 150.   0.   0.   1.   0.   3.   0.]] taken from test data\n",
      "DEBUG:xai-privacy:[[ 42.   1.   4. 140. 358.   0.   0. 170.   0.   0.   4.   4.   8.   0.]] taken from training data\n",
      "DEBUG:xai-privacy:[[ 54.   1.   2. 120. 238.   0.   0. 154.   0.   0.   4.   4.   8.   0.]] taken from test data\n",
      "DEBUG:xai-privacy:[[ 69.   1.   4. 135.   0.   0.   0. 130.   0.   0.   2.   4.   6.   1.]] taken from training data\n",
      "DEBUG:xai-privacy:[[ 37.   0.   4. 130. 173.   0.   1. 184.   0.   0.   4.   4.   8.   0.]] taken from test data\n",
      "DEBUG:xai-privacy:[[ 54.   1.   1. 120. 171.   0.   0. 137.   0.   2.   1.   4.   8.   0.]] taken from training data\n",
      "DEBUG:xai-privacy:[[ 66.   1.   4. 150.   0.   0.   0. 108.   1.   2.   2.   4.   7.   1.]] taken from test data\n",
      "DEBUG:xai-privacy:[[ 37.   1.   3. 118. 240.   0.   2. 165.   0.   1.   2.   4.   3.   0.]] taken from training data\n",
      "DEBUG:xai-privacy:[[ 57.    1.    4.  130.  131.    0.    0.  115.    1.    1.2   2.    1.\n",
      "    7.    1. ]] taken from test data\n",
      "100%|██████████| 10/10 [00:06<00:00,  1.65it/s]\n",
      "DEBUG:xai-privacy:Sample 0: 1st counterfactuals: \n",
      " [[48.0 '1.0' '2.0' 110.0 229.0 '0.0' '0.0' 168.0 '0.0' 1.0 '3.0' '0.0'\n",
      "  '7.0']\n",
      " [45.0 '1.0' '4.0' 115.0 260.0 '0.0' '2.0' 185.0 '0.0' 0.0 '1.0' '0.0'\n",
      "  '3.0']\n",
      " [34.0 '1.0' '1.0' 140.0 156.0 '0.0' '0.0' 180.0 '0.0' 0.0 '4.0' '4.0'\n",
      "  '8.0']\n",
      " [49.0 '1.0' '3.0' 115.0 265.0 '0.0' '0.0' 175.0 '0.0' 0.0 '4.0' '4.0'\n",
      "  '8.0']]\n",
      "DEBUG:xai-privacy:Sample 1: 1st counterfactuals: \n",
      " [[34.0 '1.0' '1.0' 140.0 156.0 '0.0' '0.0' 180.0 '0.0' 0.0 '4.0' '4.0'\n",
      "  '8.0']\n",
      " [45.0 '1.0' '4.0' 115.0 260.0 '0.0' '2.0' 185.0 '0.0' 0.0 '1.0' '0.0'\n",
      "  '3.0']\n",
      " [48.0 '1.0' '2.0' 110.0 229.0 '0.0' '0.0' 168.0 '0.0' 1.0 '3.0' '0.0'\n",
      "  '7.0']\n",
      " [49.0 '1.0' '3.0' 115.0 265.0 '0.0' '0.0' 175.0 '0.0' 0.0 '4.0' '4.0'\n",
      "  '8.0']]\n",
      "DEBUG:xai-privacy:Sample 2: 1st counterfactuals: \n",
      " [[49.0 '1.0' '3.0' 115.0 265.0 '0.0' '0.0' 175.0 '0.0' 0.0 '4.0' '4.0'\n",
      "  '8.0']\n",
      " [34.0 '1.0' '1.0' 140.0 156.0 '0.0' '0.0' 180.0 '0.0' 0.0 '4.0' '4.0'\n",
      "  '8.0']\n",
      " [57.0 '1.0' '2.0' 180.0 285.0 '1.0' '1.0' 120.0 '0.0' 0.8 '4.0' '4.0'\n",
      "  '8.0']\n",
      " [45.0 '1.0' '4.0' 115.0 260.0 '0.0' '2.0' 185.0 '0.0' 0.0 '1.0' '0.0'\n",
      "  '3.0']]\n",
      "DEBUG:xai-privacy:Sample 3: 1st counterfactuals: \n",
      " [[49.0 '1.0' '3.0' 115.0 265.0 '0.0' '0.0' 175.0 '0.0' 0.0 '4.0' '4.0'\n",
      "  '8.0']\n",
      " [34.0 '1.0' '1.0' 140.0 156.0 '0.0' '0.0' 180.0 '0.0' 0.0 '4.0' '4.0'\n",
      "  '8.0']\n",
      " [48.0 '1.0' '2.0' 110.0 229.0 '0.0' '0.0' 168.0 '0.0' 1.0 '3.0' '0.0'\n",
      "  '7.0']\n",
      " [57.0 '1.0' '2.0' 180.0 285.0 '1.0' '1.0' 120.0 '0.0' 0.8 '4.0' '4.0'\n",
      "  '8.0']]\n",
      "DEBUG:xai-privacy:Sample 4: 1st counterfactuals: \n",
      " [[38.0 '1.0' '4.0' 92.0 117.0 '0.0' '0.0' 134.0 '1.0' 2.5 '2.0' '4.0'\n",
      "  '8.0']\n",
      " [51.0 '1.0' '3.0' 135.0 160.0 '0.0' '0.0' 150.0 '0.0' 2.0 '2.0' '4.0'\n",
      "  '8.0']\n",
      " [42.0 '1.0' '3.0' 160.0 147.0 '0.0' '0.0' 146.0 '0.0' 0.0 '4.0' '4.0'\n",
      "  '8.0']\n",
      " [39.0 '1.0' '3.0' 160.0 147.0 '1.0' '0.0' 160.0 '0.0' 0.0 '4.0' '4.0'\n",
      "  '8.0']]\n",
      "DEBUG:xai-privacy:Sample 5: 1st counterfactuals: \n",
      " [[39.0 '0.0' '3.0' 110.0 182.0 '0.0' '1.0' 180.0 '0.0' 0.0 '4.0' '4.0'\n",
      "  '8.0']\n",
      " [49.0 '1.0' '4.0' 130.0 206.0 '0.0' '0.0' 170.0 '0.0' 0.0 '4.0' '4.0'\n",
      "  '8.0']\n",
      " [58.0 '1.0' '3.0' 140.0 179.0 '0.0' '0.0' 160.0 '0.0' 0.0 '4.0' '4.0'\n",
      "  '8.0']\n",
      " [56.0 '1.0' '2.0' 126.0 166.0 '0.0' '1.0' 140.0 '0.0' 0.0 '4.0' '4.0'\n",
      "  '8.0']]\n",
      "DEBUG:xai-privacy:Sample 6: 1st counterfactuals: \n",
      " [[34.0 '1.0' '1.0' 140.0 156.0 '0.0' '0.0' 180.0 '0.0' 0.0 '4.0' '4.0'\n",
      "  '8.0']\n",
      " [49.0 '1.0' '3.0' 115.0 265.0 '0.0' '0.0' 175.0 '0.0' 0.0 '4.0' '4.0'\n",
      "  '8.0']\n",
      " [48.0 '1.0' '2.0' 110.0 229.0 '0.0' '0.0' 168.0 '0.0' 1.0 '3.0' '0.0'\n",
      "  '7.0']\n",
      " [45.0 '1.0' '4.0' 115.0 260.0 '0.0' '2.0' 185.0 '0.0' 0.0 '1.0' '0.0'\n",
      "  '3.0']]\n",
      "DEBUG:xai-privacy:Sample 7: 1st counterfactuals: \n",
      " [[38.0 '1.0' '4.0' 92.0 117.0 '0.0' '0.0' 134.0 '1.0' 2.5 '2.0' '4.0'\n",
      "  '8.0']\n",
      " [62.0 '1.0' '4.0' 152.0 153.0 '0.0' '1.0' 97.0 '1.0' 1.6 '1.0' '4.0'\n",
      "  '7.0']\n",
      " [51.0 '1.0' '3.0' 135.0 160.0 '0.0' '0.0' 150.0 '0.0' 2.0 '2.0' '4.0'\n",
      "  '8.0']\n",
      " [57.0 '1.0' '3.0' 150.0 126.0 '1.0' '0.0' 173.0 '0.0' 0.2 '1.0' '1.0'\n",
      "  '7.0']]\n",
      "DEBUG:xai-privacy:Sample 8: 1st counterfactuals: \n",
      " [[45.0 '1.0' '4.0' 115.0 260.0 '0.0' '2.0' 185.0 '0.0' 0.0 '1.0' '0.0'\n",
      "  '3.0']\n",
      " [49.0 '1.0' '3.0' 115.0 265.0 '0.0' '0.0' 175.0 '0.0' 0.0 '4.0' '4.0'\n",
      "  '8.0']\n",
      " [48.0 '1.0' '2.0' 110.0 229.0 '0.0' '0.0' 168.0 '0.0' 1.0 '3.0' '0.0'\n",
      "  '7.0']\n",
      " [34.0 '1.0' '1.0' 140.0 156.0 '0.0' '0.0' 180.0 '0.0' 0.0 '4.0' '4.0'\n",
      "  '8.0']]\n",
      "DEBUG:xai-privacy:Sample 9: 1st counterfactuals: \n",
      " [[34.0 '1.0' '1.0' 140.0 156.0 '0.0' '0.0' 180.0 '0.0' 0.0 '4.0' '4.0'\n",
      "  '8.0']\n",
      " [54.0 '1.0' '4.0' 130.0 0.0 '2.0' '0.0' 110.0 '1.0' 3.0 '2.0' '4.0'\n",
      "  '7.0']\n",
      " [46.0 '1.0' '4.0' 115.0 0.0 '0.0' '0.0' 113.0 '1.0' 1.5 '2.0' '4.0'\n",
      "  '7.0']\n",
      " [53.0 '1.0' '4.0' 130.0 0.0 '0.0' '2.0' 135.0 '1.0' 1.0 '2.0' '4.0'\n",
      "  '7.0']]\n",
      "100%|██████████| 40/40 [00:32<00:00,  1.21it/s]\n",
      "DEBUG:xai-privacy:Sample 0: [[ 65.    1.    4.  120.  177.    0.    0.  140.    0.    0.4   1.    0.\n",
      "    7. ]]\n",
      "DEBUG:xai-privacy:Sample 0: 2nd counterfactuals: \n",
      " [[44.0 '1.0' '2.0' 120.0 220.0 '0.0' '0.0' 170.0 '0.0' 0.0 '1.0' '0.0'\n",
      "  '3.0']\n",
      " [44.0 '1.0' '3.0' 120.0 226.0 '0.0' '0.0' 169.0 '0.0' 0.0 '1.0' '0.0'\n",
      "  '3.0']\n",
      " [56.0 '1.0' '2.0' 120.0 236.0 '0.0' '0.0' 178.0 '0.0' 0.8 '1.0' '0.0'\n",
      "  '3.0']\n",
      " [52.0 '1.0' '4.0' 112.0 230.0 '0.0' '0.0' 160.0 '0.0' 0.0 '1.0' '1.0'\n",
      "  '3.0']]\n",
      "DEBUG:xai-privacy:Sample 0: [[ 65.    1.    4.  120.  177.    0.    0.  140.    0.    0.4   1.    0.\n",
      "    7. ]]\n",
      "DEBUG:xai-privacy:Sample 0: 2nd counterfactuals: \n",
      " [[41.0 '1.0' '3.0' 112.0 250.0 '0.0' '0.0' 179.0 '0.0' 0.0 '1.0' '0.0'\n",
      "  '3.0']\n",
      " [44.0 '1.0' '2.0' 120.0 263.0 '0.0' '0.0' 173.0 '0.0' 0.0 '1.0' '0.0'\n",
      "  '7.0']\n",
      " [48.0 '1.0' '2.0' 130.0 245.0 '0.0' '2.0' 180.0 '0.0' 0.2 '2.0' '0.0'\n",
      "  '3.0']\n",
      " [48.0 '1.0' '4.0' 124.0 274.0 '0.0' '2.0' 166.0 '0.0' 0.5 '2.0' '0.0'\n",
      "  '7.0']]\n",
      "DEBUG:xai-privacy:Sample 0: [[ 65.    1.    4.  120.  177.    0.    0.  140.    0.    0.4   1.    0.\n",
      "    7. ]]\n",
      "DEBUG:xai-privacy:Sample 0: 2nd counterfactuals: \n",
      " [[58.0 '1.0' '3.0' 140.0 179.0 '0.0' '0.0' 160.0 '0.0' 0.0 '4.0' '4.0'\n",
      "  '8.0']\n",
      " [39.0 '1.0' '3.0' 160.0 147.0 '1.0' '0.0' 160.0 '0.0' 0.0 '4.0' '4.0'\n",
      "  '8.0']\n",
      " [42.0 '1.0' '3.0' 160.0 147.0 '0.0' '0.0' 146.0 '0.0' 0.0 '4.0' '4.0'\n",
      "  '8.0']\n",
      " [39.0 '0.0' '3.0' 110.0 182.0 '0.0' '1.0' 180.0 '0.0' 0.0 '4.0' '4.0'\n",
      "  '8.0']]\n",
      "DEBUG:xai-privacy:Sample 0: [[ 65.    1.    4.  120.  177.    0.    0.  140.    0.    0.4   1.    0.\n",
      "    7. ]]\n",
      "DEBUG:xai-privacy:Sample 0: 2nd counterfactuals: \n",
      " [[44.0 '1.0' '2.0' 120.0 263.0 '0.0' '0.0' 173.0 '0.0' 0.0 '1.0' '0.0'\n",
      "  '7.0']\n",
      " [41.0 '1.0' '3.0' 112.0 250.0 '0.0' '0.0' 179.0 '0.0' 0.0 '1.0' '0.0'\n",
      "  '3.0']\n",
      " [48.0 '1.0' '2.0' 130.0 245.0 '0.0' '0.0' 160.0 '0.0' 0.0 '4.0' '4.0'\n",
      "  '8.0']\n",
      " [32.0 '1.0' '2.0' 125.0 254.0 '0.0' '0.0' 155.0 '0.0' 0.0 '4.0' '4.0'\n",
      "  '8.0']]\n",
      "DEBUG:xai-privacy:Sample 1: [[ 42.   1.   3. 130. 180.   0.   0. 150.   0.   0.   1.   0.   3.]]\n",
      "DEBUG:xai-privacy:Sample 1: 2nd counterfactuals: \n",
      " [[58.0 '1.0' '3.0' 140.0 179.0 '0.0' '0.0' 160.0 '0.0' 0.0 '4.0' '4.0'\n",
      "  '8.0']\n",
      " [39.0 '1.0' '3.0' 160.0 147.0 '1.0' '0.0' 160.0 '0.0' 0.0 '4.0' '4.0'\n",
      "  '8.0']\n",
      " [42.0 '1.0' '3.0' 160.0 147.0 '0.0' '0.0' 146.0 '0.0' 0.0 '4.0' '4.0'\n",
      "  '8.0']\n",
      " [39.0 '0.0' '3.0' 110.0 182.0 '0.0' '1.0' 180.0 '0.0' 0.0 '4.0' '4.0'\n",
      "  '8.0']]\n",
      "DEBUG:xai-privacy:Sample 1: [[ 42.   1.   3. 130. 180.   0.   0. 150.   0.   0.   1.   0.   3.]]\n",
      "DEBUG:xai-privacy:Sample 1: 2nd counterfactuals: \n",
      " [[41.0 '1.0' '3.0' 112.0 250.0 '0.0' '0.0' 179.0 '0.0' 0.0 '1.0' '0.0'\n",
      "  '3.0']\n",
      " [44.0 '1.0' '2.0' 120.0 263.0 '0.0' '0.0' 173.0 '0.0' 0.0 '1.0' '0.0'\n",
      "  '7.0']\n",
      " [48.0 '1.0' '2.0' 130.0 245.0 '0.0' '2.0' 180.0 '0.0' 0.2 '2.0' '0.0'\n",
      "  '3.0']\n",
      " [48.0 '1.0' '4.0' 124.0 274.0 '0.0' '2.0' 166.0 '0.0' 0.5 '2.0' '0.0'\n",
      "  '7.0']]\n",
      "DEBUG:xai-privacy:Sample 1: [[ 42.   1.   3. 130. 180.   0.   0. 150.   0.   0.   1.   0.   3.]]\n",
      "DEBUG:xai-privacy:Sample 1: 2nd counterfactuals: \n",
      " [[44.0 '1.0' '2.0' 120.0 220.0 '0.0' '0.0' 170.0 '0.0' 0.0 '1.0' '0.0'\n",
      "  '3.0']\n",
      " [44.0 '1.0' '3.0' 120.0 226.0 '0.0' '0.0' 169.0 '0.0' 0.0 '1.0' '0.0'\n",
      "  '3.0']\n",
      " [56.0 '1.0' '2.0' 120.0 236.0 '0.0' '0.0' 178.0 '0.0' 0.8 '1.0' '0.0'\n",
      "  '3.0']\n",
      " [52.0 '1.0' '4.0' 112.0 230.0 '0.0' '0.0' 160.0 '0.0' 0.0 '1.0' '1.0'\n",
      "  '3.0']]\n",
      "DEBUG:xai-privacy:Sample 1: [[ 42.   1.   3. 130. 180.   0.   0. 150.   0.   0.   1.   0.   3.]]\n",
      "DEBUG:xai-privacy:Sample 1: 2nd counterfactuals: \n",
      " [[44.0 '1.0' '2.0' 120.0 263.0 '0.0' '0.0' 173.0 '0.0' 0.0 '1.0' '0.0'\n",
      "  '7.0']\n",
      " [41.0 '1.0' '3.0' 112.0 250.0 '0.0' '0.0' 179.0 '0.0' 0.0 '1.0' '0.0'\n",
      "  '3.0']\n",
      " [48.0 '1.0' '2.0' 130.0 245.0 '0.0' '0.0' 160.0 '0.0' 0.0 '4.0' '4.0'\n",
      "  '8.0']\n",
      " [32.0 '1.0' '2.0' 125.0 254.0 '0.0' '0.0' 155.0 '0.0' 0.0 '4.0' '4.0'\n",
      "  '8.0']]\n",
      "DEBUG:xai-privacy:Sample 2: [[ 42.   1.   4. 140. 358.   0.   0. 170.   0.   0.   4.   4.   8.]]\n",
      "DEBUG:xai-privacy:Sample 2: 2nd counterfactuals: \n",
      " [[44.0 '1.0' '2.0' 120.0 263.0 '0.0' '0.0' 173.0 '0.0' 0.0 '1.0' '0.0'\n",
      "  '7.0']\n",
      " [41.0 '1.0' '3.0' 112.0 250.0 '0.0' '0.0' 179.0 '0.0' 0.0 '1.0' '0.0'\n",
      "  '3.0']\n",
      " [48.0 '1.0' '2.0' 130.0 245.0 '0.0' '0.0' 160.0 '0.0' 0.0 '4.0' '4.0'\n",
      "  '8.0']\n",
      " [32.0 '1.0' '2.0' 125.0 254.0 '0.0' '0.0' 155.0 '0.0' 0.0 '4.0' '4.0'\n",
      "  '8.0']]\n",
      "DEBUG:xai-privacy:Sample 2: [[ 42.   1.   4. 140. 358.   0.   0. 170.   0.   0.   4.   4.   8.]]\n",
      "DEBUG:xai-privacy:Sample 2: 2nd counterfactuals: \n",
      " [[58.0 '1.0' '3.0' 140.0 179.0 '0.0' '0.0' 160.0 '0.0' 0.0 '4.0' '4.0'\n",
      "  '8.0']\n",
      " [39.0 '1.0' '3.0' 160.0 147.0 '1.0' '0.0' 160.0 '0.0' 0.0 '4.0' '4.0'\n",
      "  '8.0']\n",
      " [42.0 '1.0' '3.0' 160.0 147.0 '0.0' '0.0' 146.0 '0.0' 0.0 '4.0' '4.0'\n",
      "  '8.0']\n",
      " [39.0 '0.0' '3.0' 110.0 182.0 '0.0' '1.0' 180.0 '0.0' 0.0 '4.0' '4.0'\n",
      "  '8.0']]\n",
      "DEBUG:xai-privacy:Sample 2: [[ 42.   1.   4. 140. 358.   0.   0. 170.   0.   0.   4.   4.   8.]]\n",
      "DEBUG:xai-privacy:Sample 2: 2nd counterfactuals: \n",
      " [[55.0 '1.0' '2.0' 160.0 292.0 '1.0' '0.0' 143.0 '1.0' 2.0 '2.0' '4.0'\n",
      "  '8.0']\n",
      " [65.0 '1.0' '4.0' 170.0 263.0 '1.0' '0.0' 112.0 '1.0' 2.0 '2.0' '4.0'\n",
      "  '8.0']\n",
      " [60.0 '1.0' '2.0' 160.0 267.0 '1.0' '1.0' 157.0 '0.0' 0.5 '2.0' '4.0'\n",
      "  '8.0']\n",
      " [62.0 '1.0' '4.0' 160.0 254.0 '1.0' '1.0' 108.0 '1.0' 3.0 '2.0' '4.0'\n",
      "  '8.0']]\n",
      "DEBUG:xai-privacy:Sample 2: [[ 42.   1.   4. 140. 358.   0.   0. 170.   0.   0.   4.   4.   8.]]\n",
      "DEBUG:xai-privacy:Sample 2: 2nd counterfactuals: \n",
      " [[41.0 '1.0' '3.0' 112.0 250.0 '0.0' '0.0' 179.0 '0.0' 0.0 '1.0' '0.0'\n",
      "  '3.0']\n",
      " [44.0 '1.0' '2.0' 120.0 263.0 '0.0' '0.0' 173.0 '0.0' 0.0 '1.0' '0.0'\n",
      "  '7.0']\n",
      " [48.0 '1.0' '2.0' 130.0 245.0 '0.0' '2.0' 180.0 '0.0' 0.2 '2.0' '0.0'\n",
      "  '3.0']\n",
      " [48.0 '1.0' '4.0' 124.0 274.0 '0.0' '2.0' 166.0 '0.0' 0.5 '2.0' '0.0'\n",
      "  '7.0']]\n",
      "DEBUG:xai-privacy:Sample 3: [[ 54.   1.   2. 120. 238.   0.   0. 154.   0.   0.   4.   4.   8.]]\n",
      "DEBUG:xai-privacy:Sample 3: 2nd counterfactuals: \n",
      " [[44.0 '1.0' '2.0' 120.0 263.0 '0.0' '0.0' 173.0 '0.0' 0.0 '1.0' '0.0'\n",
      "  '7.0']\n",
      " [41.0 '1.0' '3.0' 112.0 250.0 '0.0' '0.0' 179.0 '0.0' 0.0 '1.0' '0.0'\n",
      "  '3.0']\n",
      " [48.0 '1.0' '2.0' 130.0 245.0 '0.0' '0.0' 160.0 '0.0' 0.0 '4.0' '4.0'\n",
      "  '8.0']\n",
      " [32.0 '1.0' '2.0' 125.0 254.0 '0.0' '0.0' 155.0 '0.0' 0.0 '4.0' '4.0'\n",
      "  '8.0']]\n",
      "DEBUG:xai-privacy:Sample 3: [[ 54.   1.   2. 120. 238.   0.   0. 154.   0.   0.   4.   4.   8.]]\n",
      "DEBUG:xai-privacy:Sample 3: 2nd counterfactuals: \n",
      " [[58.0 '1.0' '3.0' 140.0 179.0 '0.0' '0.0' 160.0 '0.0' 0.0 '4.0' '4.0'\n",
      "  '8.0']\n",
      " [39.0 '1.0' '3.0' 160.0 147.0 '1.0' '0.0' 160.0 '0.0' 0.0 '4.0' '4.0'\n",
      "  '8.0']\n",
      " [42.0 '1.0' '3.0' 160.0 147.0 '0.0' '0.0' 146.0 '0.0' 0.0 '4.0' '4.0'\n",
      "  '8.0']\n",
      " [39.0 '0.0' '3.0' 110.0 182.0 '0.0' '1.0' 180.0 '0.0' 0.0 '4.0' '4.0'\n",
      "  '8.0']]\n",
      "DEBUG:xai-privacy:Sample 3: [[ 54.   1.   2. 120. 238.   0.   0. 154.   0.   0.   4.   4.   8.]]\n",
      "DEBUG:xai-privacy:Sample 3: 2nd counterfactuals: \n",
      " [[44.0 '1.0' '2.0' 120.0 220.0 '0.0' '0.0' 170.0 '0.0' 0.0 '1.0' '0.0'\n",
      "  '3.0']\n",
      " [44.0 '1.0' '3.0' 120.0 226.0 '0.0' '0.0' 169.0 '0.0' 0.0 '1.0' '0.0'\n",
      "  '3.0']\n",
      " [56.0 '1.0' '2.0' 120.0 236.0 '0.0' '0.0' 178.0 '0.0' 0.8 '1.0' '0.0'\n",
      "  '3.0']\n",
      " [52.0 '1.0' '4.0' 112.0 230.0 '0.0' '0.0' 160.0 '0.0' 0.0 '1.0' '1.0'\n",
      "  '3.0']]\n",
      "DEBUG:xai-privacy:Sample 3: [[ 54.   1.   2. 120. 238.   0.   0. 154.   0.   0.   4.   4.   8.]]\n",
      "DEBUG:xai-privacy:Sample 3: 2nd counterfactuals: \n",
      " [[55.0 '1.0' '2.0' 160.0 292.0 '1.0' '0.0' 143.0 '1.0' 2.0 '2.0' '4.0'\n",
      "  '8.0']\n",
      " [65.0 '1.0' '4.0' 170.0 263.0 '1.0' '0.0' 112.0 '1.0' 2.0 '2.0' '4.0'\n",
      "  '8.0']\n",
      " [60.0 '1.0' '2.0' 160.0 267.0 '1.0' '1.0' 157.0 '0.0' 0.5 '2.0' '4.0'\n",
      "  '8.0']\n",
      " [62.0 '1.0' '4.0' 160.0 254.0 '1.0' '1.0' 108.0 '1.0' 3.0 '2.0' '4.0'\n",
      "  '8.0']]\n",
      "DEBUG:xai-privacy:Sample 4: [[ 69.   1.   4. 135.   0.   0.   0. 130.   0.   0.   2.   4.   6.]]\n",
      "DEBUG:xai-privacy:Sample 4: 2nd counterfactuals: \n",
      " [[34.0 '1.0' '1.0' 140.0 156.0 '0.0' '0.0' 180.0 '0.0' 0.0 '4.0' '4.0'\n",
      "  '8.0']\n",
      " [68.0 '1.0' '4.0' 138.0 0.0 '0.0' '0.0' 130.0 '1.0' 3.0 '2.0' '4.0'\n",
      "  '8.0']\n",
      " [46.0 '1.0' '4.0' 115.0 0.0 '0.0' '0.0' 113.0 '1.0' 1.5 '2.0' '4.0'\n",
      "  '7.0']\n",
      " [63.0 '1.0' '4.0' 150.0 0.0 '0.0' '0.0' 86.0 '1.0' 2.0 '2.0' '4.0' '8.0']]\n",
      "DEBUG:xai-privacy:Sample 4: [[ 69.   1.   4. 135.   0.   0.   0. 130.   0.   0.   2.   4.   6.]]\n",
      "DEBUG:xai-privacy:Sample 4: 2nd counterfactuals: \n",
      " [[34.0 '1.0' '1.0' 140.0 156.0 '0.0' '0.0' 180.0 '0.0' 0.0 '4.0' '4.0'\n",
      "  '8.0']\n",
      " [49.0 '1.0' '3.0' 115.0 265.0 '0.0' '0.0' 175.0 '0.0' 0.0 '4.0' '4.0'\n",
      "  '8.0']\n",
      " [48.0 '1.0' '2.0' 110.0 229.0 '0.0' '0.0' 168.0 '0.0' 1.0 '3.0' '0.0'\n",
      "  '7.0']\n",
      " [69.0 '1.0' '4.0' 135.0 0.0 '0.0' '0.0' 130.0 '0.0' 0.0 '2.0' '4.0'\n",
      "  '6.0']]\n",
      "DEBUG:xai-privacy:Inferred membership as true.\n",
      "DEBUG:xai-privacy:Sample 4: [[ 69.   1.   4. 135.   0.   0.   0. 130.   0.   0.   2.   4.   6.]]\n",
      "DEBUG:xai-privacy:Sample 4: 2nd counterfactuals: \n",
      " [[34.0 '1.0' '1.0' 140.0 156.0 '0.0' '0.0' 180.0 '0.0' 0.0 '4.0' '4.0'\n",
      "  '8.0']\n",
      " [49.0 '1.0' '3.0' 115.0 265.0 '0.0' '0.0' 175.0 '0.0' 0.0 '4.0' '4.0'\n",
      "  '8.0']\n",
      " [48.0 '1.0' '2.0' 110.0 229.0 '0.0' '0.0' 168.0 '0.0' 1.0 '3.0' '0.0'\n",
      "  '7.0']\n",
      " [53.0 '1.0' '3.0' 105.0 0.0 '0.0' '0.0' 115.0 '0.0' 0.0 '2.0' '4.0'\n",
      "  '7.0']]\n",
      "DEBUG:xai-privacy:Sample 4: [[ 69.   1.   4. 135.   0.   0.   0. 130.   0.   0.   2.   4.   6.]]\n",
      "DEBUG:xai-privacy:Sample 4: 2nd counterfactuals: \n",
      " [[34.0 '1.0' '1.0' 140.0 156.0 '0.0' '0.0' 180.0 '0.0' 0.0 '4.0' '4.0'\n",
      "  '8.0']\n",
      " [49.0 '1.0' '3.0' 115.0 265.0 '0.0' '0.0' 175.0 '0.0' 0.0 '4.0' '4.0'\n",
      "  '8.0']\n",
      " [57.0 '1.0' '2.0' 180.0 285.0 '1.0' '1.0' 120.0 '0.0' 0.8 '4.0' '4.0'\n",
      "  '8.0']\n",
      " [48.0 '1.0' '2.0' 110.0 229.0 '0.0' '0.0' 168.0 '0.0' 1.0 '3.0' '0.0'\n",
      "  '7.0']]\n",
      "DEBUG:xai-privacy:Sample 5: [[ 37.   0.   4. 130. 173.   0.   1. 184.   0.   0.   4.   4.   8.]]\n",
      "DEBUG:xai-privacy:Sample 5: 2nd counterfactuals: \n",
      " [[34.0 '1.0' '1.0' 140.0 156.0 '0.0' '0.0' 180.0 '0.0' 0.0 '4.0' '4.0'\n",
      "  '8.0']\n",
      " [49.0 '1.0' '3.0' 115.0 265.0 '0.0' '0.0' 175.0 '0.0' 0.0 '4.0' '4.0'\n",
      "  '8.0']\n",
      " [48.0 '1.0' '2.0' 110.0 229.0 '0.0' '0.0' 168.0 '0.0' 1.0 '3.0' '0.0'\n",
      "  '7.0']\n",
      " [45.0 '1.0' '4.0' 115.0 260.0 '0.0' '2.0' 185.0 '0.0' 0.0 '1.0' '0.0'\n",
      "  '3.0']]\n",
      "DEBUG:xai-privacy:Sample 5: [[ 37.   0.   4. 130. 173.   0.   1. 184.   0.   0.   4.   4.   8.]]\n",
      "DEBUG:xai-privacy:Sample 5: 2nd counterfactuals: \n",
      " [[49.0 '1.0' '3.0' 115.0 265.0 '0.0' '0.0' 175.0 '0.0' 0.0 '4.0' '4.0'\n",
      "  '8.0']\n",
      " [34.0 '1.0' '1.0' 140.0 156.0 '0.0' '0.0' 180.0 '0.0' 0.0 '4.0' '4.0'\n",
      "  '8.0']\n",
      " [48.0 '1.0' '2.0' 110.0 229.0 '0.0' '0.0' 168.0 '0.0' 1.0 '3.0' '0.0'\n",
      "  '7.0']\n",
      " [45.0 '1.0' '4.0' 115.0 260.0 '0.0' '2.0' 185.0 '0.0' 0.0 '1.0' '0.0'\n",
      "  '3.0']]\n",
      "DEBUG:xai-privacy:Sample 5: [[ 37.   0.   4. 130. 173.   0.   1. 184.   0.   0.   4.   4.   8.]]\n",
      "DEBUG:xai-privacy:Sample 5: 2nd counterfactuals: \n",
      " [[34.0 '1.0' '1.0' 140.0 156.0 '0.0' '0.0' 180.0 '0.0' 0.0 '4.0' '4.0'\n",
      "  '8.0']\n",
      " [49.0 '1.0' '3.0' 115.0 265.0 '0.0' '0.0' 175.0 '0.0' 0.0 '4.0' '4.0'\n",
      "  '8.0']\n",
      " [48.0 '1.0' '2.0' 110.0 229.0 '0.0' '0.0' 168.0 '0.0' 1.0 '3.0' '0.0'\n",
      "  '7.0']\n",
      " [45.0 '1.0' '4.0' 115.0 260.0 '0.0' '2.0' 185.0 '0.0' 0.0 '1.0' '0.0'\n",
      "  '3.0']]\n",
      "DEBUG:xai-privacy:Sample 5: [[ 37.   0.   4. 130. 173.   0.   1. 184.   0.   0.   4.   4.   8.]]\n",
      "DEBUG:xai-privacy:Sample 5: 2nd counterfactuals: \n",
      " [[34.0 '1.0' '1.0' 140.0 156.0 '0.0' '0.0' 180.0 '0.0' 0.0 '4.0' '4.0'\n",
      "  '8.0']\n",
      " [49.0 '1.0' '3.0' 115.0 265.0 '0.0' '0.0' 175.0 '0.0' 0.0 '4.0' '4.0'\n",
      "  '8.0']\n",
      " [57.0 '1.0' '2.0' 180.0 285.0 '1.0' '1.0' 120.0 '0.0' 0.8 '4.0' '4.0'\n",
      "  '8.0']\n",
      " [48.0 '1.0' '2.0' 110.0 229.0 '0.0' '0.0' 168.0 '0.0' 1.0 '3.0' '0.0'\n",
      "  '7.0']]\n",
      "DEBUG:xai-privacy:Sample 6: [[ 54.   1.   1. 120. 171.   0.   0. 137.   0.   2.   1.   4.   8.]]\n",
      "DEBUG:xai-privacy:Sample 6: 2nd counterfactuals: \n",
      " [[58.0 '1.0' '3.0' 140.0 179.0 '0.0' '0.0' 160.0 '0.0' 0.0 '4.0' '4.0'\n",
      "  '8.0']\n",
      " [39.0 '1.0' '3.0' 160.0 147.0 '1.0' '0.0' 160.0 '0.0' 0.0 '4.0' '4.0'\n",
      "  '8.0']\n",
      " [42.0 '1.0' '3.0' 160.0 147.0 '0.0' '0.0' 146.0 '0.0' 0.0 '4.0' '4.0'\n",
      "  '8.0']\n",
      " [39.0 '0.0' '3.0' 110.0 182.0 '0.0' '1.0' 180.0 '0.0' 0.0 '4.0' '4.0'\n",
      "  '8.0']]\n",
      "DEBUG:xai-privacy:Sample 6: [[ 54.   1.   1. 120. 171.   0.   0. 137.   0.   2.   1.   4.   8.]]\n",
      "DEBUG:xai-privacy:Sample 6: 2nd counterfactuals: \n",
      " [[44.0 '1.0' '2.0' 120.0 263.0 '0.0' '0.0' 173.0 '0.0' 0.0 '1.0' '0.0'\n",
      "  '7.0']\n",
      " [41.0 '1.0' '3.0' 112.0 250.0 '0.0' '0.0' 179.0 '0.0' 0.0 '1.0' '0.0'\n",
      "  '3.0']\n",
      " [48.0 '1.0' '2.0' 130.0 245.0 '0.0' '0.0' 160.0 '0.0' 0.0 '4.0' '4.0'\n",
      "  '8.0']\n",
      " [32.0 '1.0' '2.0' 125.0 254.0 '0.0' '0.0' 155.0 '0.0' 0.0 '4.0' '4.0'\n",
      "  '8.0']]\n",
      "DEBUG:xai-privacy:Sample 6: [[ 54.   1.   1. 120. 171.   0.   0. 137.   0.   2.   1.   4.   8.]]\n",
      "DEBUG:xai-privacy:Sample 6: 2nd counterfactuals: \n",
      " [[44.0 '1.0' '2.0' 120.0 220.0 '0.0' '0.0' 170.0 '0.0' 0.0 '1.0' '0.0'\n",
      "  '3.0']\n",
      " [44.0 '1.0' '3.0' 120.0 226.0 '0.0' '0.0' 169.0 '0.0' 0.0 '1.0' '0.0'\n",
      "  '3.0']\n",
      " [56.0 '1.0' '2.0' 120.0 236.0 '0.0' '0.0' 178.0 '0.0' 0.8 '1.0' '0.0'\n",
      "  '3.0']\n",
      " [52.0 '1.0' '4.0' 112.0 230.0 '0.0' '0.0' 160.0 '0.0' 0.0 '1.0' '1.0'\n",
      "  '3.0']]\n",
      "DEBUG:xai-privacy:Sample 6: [[ 54.   1.   1. 120. 171.   0.   0. 137.   0.   2.   1.   4.   8.]]\n",
      "DEBUG:xai-privacy:Sample 6: 2nd counterfactuals: \n",
      " [[41.0 '1.0' '3.0' 112.0 250.0 '0.0' '0.0' 179.0 '0.0' 0.0 '1.0' '0.0'\n",
      "  '3.0']\n",
      " [44.0 '1.0' '2.0' 120.0 263.0 '0.0' '0.0' 173.0 '0.0' 0.0 '1.0' '0.0'\n",
      "  '7.0']\n",
      " [48.0 '1.0' '2.0' 130.0 245.0 '0.0' '2.0' 180.0 '0.0' 0.2 '2.0' '0.0'\n",
      "  '3.0']\n",
      " [48.0 '1.0' '4.0' 124.0 274.0 '0.0' '2.0' 166.0 '0.0' 0.5 '2.0' '0.0'\n",
      "  '7.0']]\n",
      "DEBUG:xai-privacy:Sample 7: [[ 66.   1.   4. 150.   0.   0.   0. 108.   1.   2.   2.   4.   7.]]\n",
      "DEBUG:xai-privacy:Sample 7: 2nd counterfactuals: \n",
      " [[34.0 '1.0' '1.0' 140.0 156.0 '0.0' '0.0' 180.0 '0.0' 0.0 '4.0' '4.0'\n",
      "  '8.0']\n",
      " [68.0 '1.0' '4.0' 138.0 0.0 '0.0' '0.0' 130.0 '1.0' 3.0 '2.0' '4.0'\n",
      "  '8.0']\n",
      " [46.0 '1.0' '4.0' 115.0 0.0 '0.0' '0.0' 113.0 '1.0' 1.5 '2.0' '4.0'\n",
      "  '7.0']\n",
      " [63.0 '1.0' '4.0' 150.0 0.0 '0.0' '0.0' 86.0 '1.0' 2.0 '2.0' '4.0' '8.0']]\n",
      "DEBUG:xai-privacy:Sample 7: [[ 66.   1.   4. 150.   0.   0.   0. 108.   1.   2.   2.   4.   7.]]\n",
      "DEBUG:xai-privacy:Sample 7: 2nd counterfactuals: \n",
      " [[43.0 '1.0' '4.0' 140.0 0.0 '0.0' '1.0' 140.0 '1.0' 0.5 '1.0' '4.0'\n",
      "  '7.0']\n",
      " [34.0 '1.0' '1.0' 140.0 156.0 '0.0' '0.0' 180.0 '0.0' 0.0 '4.0' '4.0'\n",
      "  '8.0']\n",
      " [60.0 '1.0' '4.0' 160.0 0.0 '0.0' '1.0' 99.0 '1.0' 0.5 '2.0' '4.0' '7.0']\n",
      " [56.0 '1.0' '4.0' 120.0 0.0 '0.0' '1.0' 100.0 '1.0' -1.0 '3.0' '4.0'\n",
      "  '7.0']]\n",
      "DEBUG:xai-privacy:Sample 7: [[ 66.   1.   4. 150.   0.   0.   0. 108.   1.   2.   2.   4.   7.]]\n",
      "DEBUG:xai-privacy:Sample 7: 2nd counterfactuals: \n",
      " [[34.0 '1.0' '1.0' 140.0 156.0 '0.0' '0.0' 180.0 '0.0' 0.0 '4.0' '4.0'\n",
      "  '8.0']\n",
      " [49.0 '1.0' '3.0' 115.0 265.0 '0.0' '0.0' 175.0 '0.0' 0.0 '4.0' '4.0'\n",
      "  '8.0']\n",
      " [48.0 '1.0' '2.0' 110.0 229.0 '0.0' '0.0' 168.0 '0.0' 1.0 '3.0' '0.0'\n",
      "  '7.0']\n",
      " [69.0 '1.0' '4.0' 135.0 0.0 '0.0' '0.0' 130.0 '0.0' 0.0 '2.0' '4.0'\n",
      "  '6.0']]\n",
      "DEBUG:xai-privacy:Sample 7: [[ 66.   1.   4. 150.   0.   0.   0. 108.   1.   2.   2.   4.   7.]]\n",
      "DEBUG:xai-privacy:Sample 7: 2nd counterfactuals: \n",
      " [[34.0 '1.0' '1.0' 140.0 156.0 '0.0' '0.0' 180.0 '0.0' 0.0 '4.0' '4.0'\n",
      "  '8.0']\n",
      " [48.0 '1.0' '2.0' 110.0 229.0 '0.0' '0.0' 168.0 '0.0' 1.0 '3.0' '0.0'\n",
      "  '7.0']\n",
      " [53.0 '1.0' '3.0' 105.0 0.0 '0.0' '0.0' 115.0 '0.0' 0.0 '2.0' '4.0'\n",
      "  '7.0']\n",
      " [56.0 '1.0' '3.0' 120.0 0.0 '0.0' '0.0' 97.0 '0.0' 0.0 '2.0' '4.0' '7.0']]\n",
      "DEBUG:xai-privacy:Sample 8: [[ 37.   1.   3. 118. 240.   0.   2. 165.   0.   1.   2.   4.   3.]]\n",
      "DEBUG:xai-privacy:Sample 8: 2nd counterfactuals: \n",
      " [[41.0 '1.0' '3.0' 112.0 250.0 '0.0' '0.0' 179.0 '0.0' 0.0 '1.0' '0.0'\n",
      "  '3.0']\n",
      " [44.0 '1.0' '2.0' 120.0 263.0 '0.0' '0.0' 173.0 '0.0' 0.0 '1.0' '0.0'\n",
      "  '7.0']\n",
      " [48.0 '1.0' '2.0' 130.0 245.0 '0.0' '2.0' 180.0 '0.0' 0.2 '2.0' '0.0'\n",
      "  '3.0']\n",
      " [48.0 '1.0' '4.0' 124.0 274.0 '0.0' '2.0' 166.0 '0.0' 0.5 '2.0' '0.0'\n",
      "  '7.0']]\n",
      "DEBUG:xai-privacy:Sample 8: [[ 37.   1.   3. 118. 240.   0.   2. 165.   0.   1.   2.   4.   3.]]\n",
      "DEBUG:xai-privacy:Sample 8: 2nd counterfactuals: \n",
      " [[44.0 '1.0' '2.0' 120.0 263.0 '0.0' '0.0' 173.0 '0.0' 0.0 '1.0' '0.0'\n",
      "  '7.0']\n",
      " [41.0 '1.0' '3.0' 112.0 250.0 '0.0' '0.0' 179.0 '0.0' 0.0 '1.0' '0.0'\n",
      "  '3.0']\n",
      " [48.0 '1.0' '2.0' 130.0 245.0 '0.0' '0.0' 160.0 '0.0' 0.0 '4.0' '4.0'\n",
      "  '8.0']\n",
      " [32.0 '1.0' '2.0' 125.0 254.0 '0.0' '0.0' 155.0 '0.0' 0.0 '4.0' '4.0'\n",
      "  '8.0']]\n",
      "DEBUG:xai-privacy:Sample 8: [[ 37.   1.   3. 118. 240.   0.   2. 165.   0.   1.   2.   4.   3.]]\n",
      "DEBUG:xai-privacy:Sample 8: 2nd counterfactuals: \n",
      " [[44.0 '1.0' '2.0' 120.0 220.0 '0.0' '0.0' 170.0 '0.0' 0.0 '1.0' '0.0'\n",
      "  '3.0']\n",
      " [44.0 '1.0' '3.0' 120.0 226.0 '0.0' '0.0' 169.0 '0.0' 0.0 '1.0' '0.0'\n",
      "  '3.0']\n",
      " [56.0 '1.0' '2.0' 120.0 236.0 '0.0' '0.0' 178.0 '0.0' 0.8 '1.0' '0.0'\n",
      "  '3.0']\n",
      " [52.0 '1.0' '4.0' 112.0 230.0 '0.0' '0.0' 160.0 '0.0' 0.0 '1.0' '1.0'\n",
      "  '3.0']]\n",
      "DEBUG:xai-privacy:Sample 8: [[ 37.   1.   3. 118. 240.   0.   2. 165.   0.   1.   2.   4.   3.]]\n",
      "DEBUG:xai-privacy:Sample 8: 2nd counterfactuals: \n",
      " [[58.0 '1.0' '3.0' 140.0 179.0 '0.0' '0.0' 160.0 '0.0' 0.0 '4.0' '4.0'\n",
      "  '8.0']\n",
      " [39.0 '1.0' '3.0' 160.0 147.0 '1.0' '0.0' 160.0 '0.0' 0.0 '4.0' '4.0'\n",
      "  '8.0']\n",
      " [42.0 '1.0' '3.0' 160.0 147.0 '0.0' '0.0' 146.0 '0.0' 0.0 '4.0' '4.0'\n",
      "  '8.0']\n",
      " [39.0 '0.0' '3.0' 110.0 182.0 '0.0' '1.0' 180.0 '0.0' 0.0 '4.0' '4.0'\n",
      "  '8.0']]\n",
      "DEBUG:xai-privacy:Sample 9: [[ 57.    1.    4.  130.  131.    0.    0.  115.    1.    1.2   2.    1.\n",
      "    7. ]]\n",
      "DEBUG:xai-privacy:Sample 9: 2nd counterfactuals: \n",
      " [[58.0 '1.0' '3.0' 140.0 179.0 '0.0' '0.0' 160.0 '0.0' 0.0 '4.0' '4.0'\n",
      "  '8.0']\n",
      " [39.0 '1.0' '3.0' 160.0 147.0 '1.0' '0.0' 160.0 '0.0' 0.0 '4.0' '4.0'\n",
      "  '8.0']\n",
      " [42.0 '1.0' '3.0' 160.0 147.0 '0.0' '0.0' 146.0 '0.0' 0.0 '4.0' '4.0'\n",
      "  '8.0']\n",
      " [39.0 '0.0' '3.0' 110.0 182.0 '0.0' '1.0' 180.0 '0.0' 0.0 '4.0' '4.0'\n",
      "  '8.0']]\n",
      "DEBUG:xai-privacy:Sample 9: [[ 57.    1.    4.  130.  131.    0.    0.  115.    1.    1.2   2.    1.\n",
      "    7. ]]\n",
      "DEBUG:xai-privacy:Sample 9: 2nd counterfactuals: \n",
      " [[38.0 '1.0' '4.0' 92.0 117.0 '0.0' '0.0' 134.0 '1.0' 2.5 '2.0' '4.0'\n",
      "  '8.0']\n",
      " [62.0 '1.0' '4.0' 152.0 153.0 '0.0' '1.0' 97.0 '1.0' 1.6 '1.0' '4.0'\n",
      "  '7.0']\n",
      " [48.0 '1.0' '4.0' 160.0 193.0 '0.0' '0.0' 102.0 '1.0' 3.0 '2.0' '4.0'\n",
      "  '8.0']\n",
      " [57.0 '1.0' '3.0' 150.0 126.0 '1.0' '0.0' 173.0 '0.0' 0.2 '1.0' '1.0'\n",
      "  '7.0']]\n",
      "DEBUG:xai-privacy:Sample 9: [[ 57.    1.    4.  130.  131.    0.    0.  115.    1.    1.2   2.    1.\n",
      "    7. ]]\n",
      "DEBUG:xai-privacy:Sample 9: 2nd counterfactuals: \n",
      " [[38.0 '1.0' '4.0' 92.0 117.0 '0.0' '0.0' 134.0 '1.0' 2.5 '2.0' '4.0'\n",
      "  '8.0']\n",
      " [62.0 '1.0' '4.0' 152.0 153.0 '0.0' '1.0' 97.0 '1.0' 1.6 '1.0' '4.0'\n",
      "  '7.0']\n",
      " [46.0 '1.0' '4.0' 118.0 186.0 '0.0' '0.0' 124.0 '0.0' 0.0 '4.0' '4.0'\n",
      "  '7.0']\n",
      " [51.0 '1.0' '3.0' 135.0 160.0 '0.0' '0.0' 150.0 '0.0' 2.0 '2.0' '4.0'\n",
      "  '8.0']]\n",
      "DEBUG:xai-privacy:Sample 9: [[ 57.    1.    4.  130.  131.    0.    0.  115.    1.    1.2   2.    1.\n",
      "    7. ]]\n",
      "DEBUG:xai-privacy:Sample 9: 2nd counterfactuals: \n",
      " [[38.0 '1.0' '4.0' 92.0 117.0 '0.0' '0.0' 134.0 '1.0' 2.5 '2.0' '4.0'\n",
      "  '8.0']\n",
      " [62.0 '1.0' '4.0' 152.0 153.0 '0.0' '1.0' 97.0 '1.0' 1.6 '1.0' '4.0'\n",
      "  '7.0']\n",
      " [60.0 '1.0' '4.0' 130.0 186.0 '1.0' '2.0' 140.0 '1.0' 0.5 '2.0' '4.0'\n",
      "  '8.0']\n",
      " [57.0 '1.0' '4.0' 156.0 173.0 '0.0' '2.0' 119.0 '1.0' 3.0 '3.0' '4.0'\n",
      "  '8.0']]\n"
     ]
    },
    {
     "name": "stdout",
     "output_type": "stream",
     "text": [
      "Total time: 39.37s (training model: 0.03s, training explainer: 0.03s, experiment: 39.31s)\n",
      "Accuracy: 0.6, precision: 1.0, recall: 0.2\n"
     ]
    }
   ],
   "source": [
    "logger.setLevel(logging.DEBUG)\n",
    "logging.root.setLevel(logging.ERROR)\n",
    "\n",
    "EXP = CounterfactualMembershipInference(data_heart, numeric_features_heart, outcome_name_heart, random_state=13)\n",
    "EXP.membership_inference_experiment(num_queries=10, model=DecisionTreeClassifier(random_state=13), model_access=False, threads=1)\n",
    "\n",
    "logger.setLevel(logging.ERROR)"
   ]
  },
  {
   "cell_type": "markdown",
   "id": "a7f6892d",
   "metadata": {},
   "source": [
    "The proof of concept should show that counterfactual membership inference is accurate most of the time. However, some training samples are not recognized because they do not appear as their own counter-counterfactual."
   ]
  },
  {
   "cell_type": "markdown",
   "id": "ca486db2",
   "metadata": {},
   "source": [
    "Now we begin executing the actual experiment. We begin by defining the table that will hold the results for all our different experiment variations. Then we execute all variations of the experiment for this dataset. We vary the model between a decision tree, a random forest and a neural network. Each model uses the default configuration of scikit-learn."
   ]
  },
  {
   "cell_type": "code",
   "execution_count": 8,
   "id": "10674b35",
   "metadata": {
    "scrolled": true,
    "tags": []
   },
   "outputs": [],
   "source": []
  },
  {
   "cell_type": "code",
   "execution_count": 9,
   "id": "d178909b-fc2a-416d-8534-15c693c43fb4",
   "metadata": {},
   "outputs": [],
   "source": [
    "dataset_dicts = [data_heart_dict, data_heart_num_dict, data_heart_cat_dict, data_census_dict, data_census_num_dict, data_census_cat_dict]\n",
    "\n",
    "dt_dict = {'name': 'decision tree', 'model': DecisionTreeClassifier}\n",
    "rf_dict = {'name': 'random forest', 'model': es.RandomForestClassifier}\n",
    "nn_dict = {'name': 'neural network', 'model': MLPClassifier}\n",
    "\n",
    "model_dicts = [dt_dict, rf_dict, nn_dict]"
   ]
  },
  {
   "cell_type": "code",
   "execution_count": 10,
   "id": "6246da63-8bb1-4948-9670-d90d689f2401",
   "metadata": {},
   "outputs": [],
   "source": [
    "# remove pandas warnings\n",
    "warnings.simplefilter(action='ignore', category=pd.errors.PerformanceWarning)"
   ]
  },
  {
   "cell_type": "code",
   "execution_count": null,
   "id": "2c1a483d-bb0d-4acb-b8aa-6937f3537a9e",
   "metadata": {
    "tags": [],
    "pycharm": {
     "is_executing": true
    }
   },
   "outputs": [
    {
     "name": "stdout",
     "output_type": "stream",
     "text": [
      "dataset: heart, model: decision tree (repetition 0)\n",
      "Total time: 195.85s (training model: 0.02s, training explainer: 0.02s, experiment: 195.82s)\n",
      "Accuracy: 0.8448275862068966, precision: 1.0, recall: 0.698744769874477\n",
      "dataset: heart, model: decision tree (repetition 1)\n",
      "Total time: 193.18s (training model: 0.01s, training explainer: 0.03s, experiment: 193.15s)\n",
      "Accuracy: 0.8586956521739131, precision: 1.0, recall: 0.7280334728033473\n",
      "dataset: heart, model: decision tree (repetition 2)\n",
      "Total time: 241.64s (training model: 0.01s, training explainer: 0.02s, experiment: 241.62s)\n",
      "Accuracy: 0.8728448275862069, precision: 1.0, recall: 0.7531380753138075\n",
      "dataset: heart, model: decision tree (repetition 3)\n",
      "Total time: 242.14s (training model: 0.01s, training explainer: 0.02s, experiment: 242.12s)\n",
      "Accuracy: 0.8530701754385965, precision: 1.0, recall: 0.7196652719665272\n",
      "dataset: heart, model: decision tree (repetition 4)\n",
      "Total time: 229.34s (training model: 0.01s, training explainer: 0.02s, experiment: 229.31s)\n",
      "Accuracy: 0.8426724137931034, precision: 1.0, recall: 0.694560669456067\n",
      "dataset: heart, model: decision tree (repetition 5)\n",
      "Total time: 200.59s (training model: 0.02s, training explainer: 0.02s, experiment: 200.56s)\n",
      "Accuracy: 0.8293736501079914, precision: 1.0, recall: 0.6694560669456067\n",
      "dataset: heart, model: decision tree (repetition 6)\n",
      "Total time: 209.45s (training model: 0.01s, training explainer: 0.02s, experiment: 209.42s)\n",
      "Accuracy: 0.8568376068376068, precision: 1.0, recall: 0.7196652719665272\n",
      "dataset: heart, model: decision tree (repetition 7)\n",
      "Total time: 173.65s (training model: 0.02s, training explainer: 0.02s, experiment: 173.61s)\n",
      "Accuracy: 0.8477801268498943, precision: 1.0, recall: 0.698744769874477\n",
      "dataset: heart, model: decision tree (repetition 8)\n",
      "Total time: 242.39s (training model: 0.00s, training explainer: 0.01s, experiment: 242.37s)\n",
      "Accuracy: 0.8428874734607219, precision: 1.0, recall: 0.6903765690376569\n",
      "dataset: heart, model: decision tree (repetition 9)\n",
      "Total time: 216.83s (training model: 0.01s, training explainer: 0.02s, experiment: 216.80s)\n",
      "Accuracy: 0.847457627118644, precision: 1.0, recall: 0.698744769874477\n",
      "dataset: heart, model: random forest (repetition 0)\n",
      "Total time: 239.95s (training model: 0.04s, training explainer: 0.01s, experiment: 239.90s)\n",
      "Accuracy: 0.8469827586206896, precision: 1.0, recall: 0.702928870292887\n",
      "dataset: heart, model: random forest (repetition 1)\n",
      "Total time: 211.47s (training model: 0.03s, training explainer: 0.02s, experiment: 211.42s)\n",
      "Accuracy: 0.875, precision: 1.0, recall: 0.7531380753138075\n",
      "dataset: heart, model: random forest (repetition 2)\n",
      "Total time: 190.90s (training model: 0.04s, training explainer: 0.02s, experiment: 190.84s)\n",
      "Accuracy: 0.8723404255319149, precision: 1.0, recall: 0.7489539748953975\n",
      "dataset: heart, model: random forest (repetition 3)\n",
      "Total time: 244.03s (training model: 0.04s, training explainer: 0.03s, experiment: 243.96s)\n",
      "Accuracy: 0.864516129032258, precision: 1.0, recall: 0.7364016736401674\n",
      "dataset: heart, model: random forest (repetition 4)\n",
      "Total time: 220.14s (training model: 0.05s, training explainer: 0.01s, experiment: 220.08s)\n",
      "Accuracy: 0.8351409978308026, precision: 1.0, recall: 0.6820083682008368\n",
      "dataset: heart, model: random forest (repetition 5)\n",
      "Total time: 203.71s (training model: 0.03s, training explainer: 0.03s, experiment: 203.65s)\n",
      "Accuracy: 0.896774193548387, precision: 1.0, recall: 0.799163179916318\n",
      "dataset: heart, model: random forest (repetition 6)\n",
      "Total time: 225.89s (training model: 0.05s, training explainer: 0.02s, experiment: 225.82s)\n",
      "Accuracy: 0.8879310344827587, precision: 1.0, recall: 0.7824267782426778\n",
      "dataset: heart, model: random forest (repetition 7)\n",
      "Total time: 232.05s (training model: 0.05s, training explainer: 0.02s, experiment: 231.99s)\n",
      "Accuracy: 0.8726114649681529, precision: 1.0, recall: 0.7489539748953975\n",
      "dataset: heart, model: random forest (repetition 8)\n",
      "Total time: 183.18s (training model: 0.05s, training explainer: 0.02s, experiment: 183.12s)\n",
      "Accuracy: 0.8531914893617021, precision: 1.0, recall: 0.7112970711297071\n",
      "dataset: heart, model: random forest (repetition 9)\n",
      "Total time: 226.30s (training model: 0.04s, training explainer: 0.02s, experiment: 226.25s)\n",
      "Accuracy: 0.8771186440677966, precision: 1.0, recall: 0.7573221757322176\n",
      "dataset: heart, model: neural network (repetition 0)\n"
     ]
    },
    {
     "name": "stderr",
     "output_type": "stream",
     "text": [
      "c:\\users\\ml_ks\\venvs\\xai_new\\lib\\site-packages\\sklearn\\neural_network\\_multilayer_perceptron.py:702: ConvergenceWarning: Stochastic Optimizer: Maximum iterations (200) reached and the optimization hasn't converged yet.\n",
      "  warnings.warn(\n"
     ]
    },
    {
     "name": "stdout",
     "output_type": "stream",
     "text": [
      "Total time: 201.29s (training model: 0.54s, training explainer: 0.02s, experiment: 200.73s)\n",
      "Accuracy: 0.8502109704641351, precision: 1.0, recall: 0.702928870292887\n",
      "dataset: heart, model: neural network (repetition 1)\n"
     ]
    },
    {
     "name": "stderr",
     "output_type": "stream",
     "text": [
      "c:\\users\\ml_ks\\venvs\\xai_new\\lib\\site-packages\\sklearn\\neural_network\\_multilayer_perceptron.py:702: ConvergenceWarning: Stochastic Optimizer: Maximum iterations (200) reached and the optimization hasn't converged yet.\n",
      "  warnings.warn(\n"
     ]
    },
    {
     "name": "stdout",
     "output_type": "stream",
     "text": [
      "Total time: 234.03s (training model: 0.54s, training explainer: 0.01s, experiment: 233.48s)\n",
      "Accuracy: 0.8166311300639659, precision: 1.0, recall: 0.6401673640167364\n",
      "dataset: heart, model: neural network (repetition 2)\n"
     ]
    },
    {
     "name": "stderr",
     "output_type": "stream",
     "text": [
      "c:\\users\\ml_ks\\venvs\\xai_new\\lib\\site-packages\\sklearn\\neural_network\\_multilayer_perceptron.py:702: ConvergenceWarning: Stochastic Optimizer: Maximum iterations (200) reached and the optimization hasn't converged yet.\n",
      "  warnings.warn(\n"
     ]
    },
    {
     "name": "stdout",
     "output_type": "stream",
     "text": [
      "Total time: 190.08s (training model: 0.55s, training explainer: 0.01s, experiment: 189.52s)\n",
      "Accuracy: 0.8556263269639066, precision: 1.0, recall: 0.7154811715481172\n",
      "dataset: heart, model: neural network (repetition 3)\n"
     ]
    },
    {
     "name": "stderr",
     "output_type": "stream",
     "text": [
      "c:\\users\\ml_ks\\venvs\\xai_new\\lib\\site-packages\\sklearn\\neural_network\\_multilayer_perceptron.py:702: ConvergenceWarning: Stochastic Optimizer: Maximum iterations (200) reached and the optimization hasn't converged yet.\n",
      "  warnings.warn(\n"
     ]
    },
    {
     "name": "stdout",
     "output_type": "stream",
     "text": [
      "Total time: 269.05s (training model: 0.54s, training explainer: 0.01s, experiment: 268.50s)\n",
      "Accuracy: 0.8205128205128205, precision: 1.0, recall: 0.6485355648535565\n",
      "dataset: heart, model: neural network (repetition 4)\n"
     ]
    },
    {
     "name": "stderr",
     "output_type": "stream",
     "text": [
      "c:\\users\\ml_ks\\venvs\\xai_new\\lib\\site-packages\\sklearn\\neural_network\\_multilayer_perceptron.py:702: ConvergenceWarning: Stochastic Optimizer: Maximum iterations (200) reached and the optimization hasn't converged yet.\n",
      "  warnings.warn(\n"
     ]
    },
    {
     "name": "stdout",
     "output_type": "stream",
     "text": [
      "Total time: 227.71s (training model: 0.54s, training explainer: 0.00s, experiment: 227.16s)\n",
      "Accuracy: 0.8468085106382979, precision: 1.0, recall: 0.698744769874477\n",
      "dataset: heart, model: neural network (repetition 5)\n"
     ]
    },
    {
     "name": "stderr",
     "output_type": "stream",
     "text": [
      "c:\\users\\ml_ks\\venvs\\xai_new\\lib\\site-packages\\sklearn\\neural_network\\_multilayer_perceptron.py:702: ConvergenceWarning: Stochastic Optimizer: Maximum iterations (200) reached and the optimization hasn't converged yet.\n",
      "  warnings.warn(\n"
     ]
    },
    {
     "name": "stdout",
     "output_type": "stream",
     "text": [
      "Total time: 214.20s (training model: 0.54s, training explainer: 0.00s, experiment: 213.65s)\n",
      "Accuracy: 0.8091106290672451, precision: 1.0, recall: 0.6317991631799164\n",
      "dataset: heart, model: neural network (repetition 6)\n"
     ]
    },
    {
     "name": "stderr",
     "output_type": "stream",
     "text": [
      "c:\\users\\ml_ks\\venvs\\xai_new\\lib\\site-packages\\sklearn\\neural_network\\_multilayer_perceptron.py:702: ConvergenceWarning: Stochastic Optimizer: Maximum iterations (200) reached and the optimization hasn't converged yet.\n",
      "  warnings.warn(\n"
     ]
    },
    {
     "name": "stdout",
     "output_type": "stream",
     "text": [
      "Total time: 285.91s (training model: 0.54s, training explainer: 0.01s, experiment: 285.37s)\n",
      "Accuracy: 0.860813704496788, precision: 1.0, recall: 0.7280334728033473\n",
      "dataset: heart, model: neural network (repetition 7)\n"
     ]
    },
    {
     "name": "stderr",
     "output_type": "stream",
     "text": [
      "c:\\users\\ml_ks\\venvs\\xai_new\\lib\\site-packages\\sklearn\\neural_network\\_multilayer_perceptron.py:702: ConvergenceWarning: Stochastic Optimizer: Maximum iterations (200) reached and the optimization hasn't converged yet.\n",
      "  warnings.warn(\n"
     ]
    }
   ],
   "source": [
    "# This will run the experiment for each dataset and model combination\n",
    "\n",
    "results = run_all_experiments(CounterfactualMembershipInference, dataset_dicts, model_dicts, random_state=0, num_queries=None, model_access=False, threads=threads, convert_cat_to_str=True, repeat=10)"
   ]
  },
  {
   "cell_type": "markdown",
   "id": "a1feb9a8",
   "metadata": {
    "tags": []
   },
   "source": [
    "# Results\n",
    "\n",
    "The results of all variations of the membership inference experiment with counterfactuals. In every experiment, we executed the membership inference attack on each sample of the training data and each sample of the test data. Both datasets are of equal size and originate from the same source dataset.\n",
    "\n",
    "Accuracy is the percentage of samples whose membership (true or false) was correctly inferred. An algorithm guessing at random would achieve an accuracy of 50 percent.\n",
    "\n",
    "Precision is the percentage of predicted training samples that is actually in the training data.\n",
    "\n",
    "Recall is the percentage of training samples whose membership (true) was correctly inferred."
   ]
  },
  {
   "cell_type": "code",
   "execution_count": null,
   "id": "39bb0af8",
   "metadata": {
    "execution": {
     "iopub.execute_input": "2022-07-25T19:10:47.494434Z",
     "iopub.status.busy": "2022-07-25T19:10:47.493352Z",
     "iopub.status.idle": "2022-07-25T19:10:47.500524Z",
     "shell.execute_reply": "2022-07-25T19:10:47.501348Z"
    },
    "pycharm": {
     "is_executing": true
    }
   },
   "outputs": [],
   "source": [
    "results"
   ]
  },
  {
   "cell_type": "code",
   "execution_count": null,
   "id": "31380dcf",
   "metadata": {
    "execution": {
     "iopub.execute_input": "2022-07-25T19:10:47.512408Z",
     "iopub.status.busy": "2022-07-25T19:10:47.511381Z",
     "iopub.status.idle": "2022-07-25T19:10:47.519375Z",
     "shell.execute_reply": "2022-07-25T19:10:47.518312Z"
    },
    "pycharm": {
     "is_executing": true
    }
   },
   "outputs": [],
   "source": [
    "file_name = 'results/1-6-cf-membership-inference-results'\n",
    "if DATASET_HALF:\n",
    "    file_name += '_dataset_size_halved'\n",
    "results.to_csv(file_name + '.csv', index=False, na_rep='NaN', float_format='%.3f')"
   ]
  },
  {
   "cell_type": "markdown",
   "id": "7a6354c2-a98b-4ed3-9c75-609dc88c6bcb",
   "metadata": {},
   "source": [
    "# Discussion\n",
    "\n",
    "In our experiments, membership inference with counterfactuals drawn from the training data has an accuracy between 69% and 85%. Since no false positives can occur, precision is always 100%.\n",
    "\n",
    "The lower recall of the attack with a neural network and the numeric dataset can be explained by the following observations. Recall increases significantly when one fixes the inbalance in the training dataset between label 0 and 1. Either undersampling the majority class or oversampling the minority class results in membership inference being similarly accurate as for decision trees or random forests.\n",
    "\n",
    "Why does this change accuracy so much? Let's have a look at the predictions of the three models when using the original inbalanced dataset:"
   ]
  },
  {
   "cell_type": "code",
   "execution_count": null,
   "id": "75548886-6d6d-4c5d-9dee-dedb19ca4b4d",
   "metadata": {
    "execution": {
     "iopub.execute_input": "2022-07-25T19:10:47.542033Z",
     "iopub.status.busy": "2022-07-25T19:10:47.529577Z",
     "iopub.status.idle": "2022-07-25T19:10:47.798800Z",
     "shell.execute_reply": "2022-07-25T19:10:47.799340Z"
    },
    "pycharm": {
     "is_executing": true
    }
   },
   "outputs": [],
   "source": [
    "# train models exactly as in the experiment\n",
    "idx_mid = int(data_heart.shape[0] / 2)\n",
    "\n",
    "data_train = data_heart.iloc[idx_mid:, :]\n",
    "\n",
    "x_train = data_train.drop(outcome_name_heart, axis=1)\n",
    "y_train = data_train[outcome_name_heart]\n",
    "\n",
    "features = data_heart.drop(outcome_name_heart, axis=1)\n",
    "\n",
    "model_dt = DecisionTreeClassifier(random_state=0)\n",
    "model_rf = es.RandomForestClassifier(random_state=0)\n",
    "model_nn = MLPClassifier(random_state=0)\n",
    "\n",
    "for model in [model_dt, model_rf, model_nn]:\n",
    "    model = model.fit(x_train, y_train)\n",
    "    \n",
    "# check how often they predict 1/0\n",
    "pred_dt = model_dt.predict(features)\n",
    "pred_rf = model_rf.predict(features)\n",
    "pred_nn = model_nn.predict(features)\n",
    "\n",
    "print(f'Decision Tree predicted 1 for {np.count_nonzero(pred_dt)} samples.')\n",
    "print(f'Random Forest predicted 1 for {np.count_nonzero(pred_rf)} samples.')\n",
    "print(f'Neural Network predicted 1 for {np.count_nonzero(pred_nn)} samples.')\n",
    "print(f'There is a total of {len(features)} samples.')"
   ]
  },
  {
   "cell_type": "markdown",
   "id": "ff78e922",
   "metadata": {},
   "source": [
    "It is clear that the inbalance of the dataset has the biggest negative effect on the neural network and causes it to classify a majority of samples with 0. Therefore, there are fewer counterfactuals in the training data with a prediction of 1. This causes them to be further away from the queries on average and thus reducing the chance of a counter-counterfactual being the same as the query. Therefore, recall of the attack is reduced.\n",
    "\n",
    "The question remains why the recall is equal for a random forest and decision tree. It turns out that both models perfectly fit to the training data because they are not limited in complexity. Therefore they also give exactly the same predictions for the training data and thus receive the same counterfactuals. They do not give the same predictions for the test data, but this does not matter, because this attack will always reject samples from outside the training data regardless of the model (simply because no counterfactual can be shown that is equal to the given sample)."
   ]
  },
  {
   "cell_type": "code",
   "execution_count": null,
   "id": "59fa5d23",
   "metadata": {
    "pycharm": {
     "is_executing": true
    }
   },
   "outputs": [],
   "source": []
  }
 ],
 "metadata": {
  "kernelspec": {
   "display_name": "Python 3 (ipykernel)",
   "language": "python",
   "name": "python3"
  },
  "language_info": {
   "codemirror_mode": {
    "name": "ipython",
    "version": 3
   },
   "file_extension": ".py",
   "mimetype": "text/x-python",
   "name": "python",
   "nbconvert_exporter": "python",
   "pygments_lexer": "ipython3",
   "version": "3.8.10"
  }
 },
 "nbformat": 4,
 "nbformat_minor": 5
}