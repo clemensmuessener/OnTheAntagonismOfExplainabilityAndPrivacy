{
 "cells": [
  {
   "cell_type": "markdown",
   "id": "75916e17",
   "metadata": {},
   "source": [
    "# Counterfactuals Membership Inference Experiment"
   ]
  },
  {
   "cell_type": "code",
   "execution_count": 56,
   "id": "f6661d3f",
   "metadata": {
    "tags": []
   },
   "outputs": [],
   "source": [
    "import pandas as pd\n",
    "import sklearn.ensemble as es\n",
    "from sklearn.tree import DecisionTreeClassifier\n",
    "from sklearn.neural_network import MLPClassifier\n",
    "import numpy as np\n",
    "import logging\n",
    "import warnings\n",
    "import dice_ml"
   ]
  },
  {
   "cell_type": "code",
   "execution_count": 57,
   "id": "bd464bf4-ffd3-482c-a39a-a51303be4468",
   "metadata": {
    "tags": []
   },
   "outputs": [],
   "source": [
    "threads = 1"
   ]
  },
  {
   "cell_type": "code",
   "execution_count": 58,
   "id": "f17097ef",
   "metadata": {
    "tags": []
   },
   "outputs": [
    {
     "name": "stderr",
     "output_type": "stream",
     "text": [
      "INFO:xai-privacy:Loading dataset 1: heart disease (numeric features) ...\n",
      "INFO:xai-privacy:Loading dataset 2: census income (categorical features) ...\n"
     ]
    },
    {
     "name": "stdout",
     "output_type": "stream",
     "text": [
      "Feature Age: removed 0 rows for missing values.\n",
      "Feature RestingBP: removed 59 rows for missing values.\n",
      "Feature Cholesterol: removed 27 rows for missing values.\n",
      "Feature FastingBS: add unknown category 2.0\n",
      "Feature RestingECG: add unknown category 3.0\n",
      "Feature MaxHR: removed 0 rows for missing values.\n",
      "Feature Oldpeak: removed 7 rows for missing values.\n",
      "Feature ST_Slope: add unknown category 4.0\n",
      "Feature CA: add unknown category 4.0\n",
      "Feature Thal: add unknown category 8.0\n",
      "Dropped 271 of 1097\n",
      "Dropped 273 of 1097\n",
      "Dropped 277 of 1097\n",
      "Dropped: 2399 of 32561\n",
      "census: Dropped 3848 of 30162\n",
      "num: Dropped 19859 of 30162\n",
      "cat: Dropped 12136 of 30162\n"
     ]
    }
   ],
   "source": [
    "%run experiment_setup.ipynb"
   ]
  },
  {
   "cell_type": "code",
   "execution_count": 59,
   "id": "ce94e21f-96e8-4a10-8dc2-cc9b2c5834f5",
   "metadata": {
    "tags": []
   },
   "outputs": [],
   "source": [
    "logger = logging.getLogger('xai-privacy')"
   ]
  },
  {
   "cell_type": "markdown",
   "id": "c6a61bbc",
   "metadata": {},
   "source": [
    "This notebook will test whether membership inference is possible with counterfactuals (CF) that are drawn from the training data. Membership inference means an attacker with access to the explanation can determine for any sample whether it was included in the training data or not.\n",
    "\n",
    "The idea for counterfactual membership inference is as follows: The attacker obtains counterfactuals for the given sample (\"frist counterfactuals\"). They access the explainer again to receive counterfactuals for each first counterfactual (\"second counterfactuals\"). The second counterfactuals should have the same class as the original given sample (because the class was flipped twice). If any second counterfactual is equal to the given sample, then the sample must be part of the training data. This concept relies on the assumption that there is a high likelihood that a sample from the training data will be its own counter-counterfactual."
   ]
  },
  {
   "cell_type": "markdown",
   "id": "3e3f616e",
   "metadata": {},
   "source": [
    "First, we implement the `train_explainer` and `membership_inference_attack_no_model_access` functions:"
   ]
  },
  {
   "cell_type": "code",
   "execution_count": 60,
   "id": "3a58eda4",
   "metadata": {
    "tags": []
   },
   "outputs": [],
   "source": [
    "class CounterfactualMembershipInference(MembershipInference):\n",
    "    def train_explainer(self, data_train, model):\n",
    "        # train explainer on training data\n",
    "        d = dice_ml.Data(dataframe=data_train, continuous_features=self.numeric_features,\\\n",
    "                         outcome_name=self.outcome_name)\n",
    "        m = dice_ml.Model(model=model, backend=\"sklearn\", model_type='classifier')\n",
    "        \n",
    "        # use method \"kd-tree\" to get counterfactuals drawn from the training data\n",
    "        return dice_ml.Dice(d, m, method=\"kdtree\")\n",
    "        \n",
    "    @staticmethod\n",
    "    def membership_inference_attack_no_model_access(explainer, samples_df):\n",
    "        num_samples = len(samples_df)\n",
    "        inferred_membership = np.full(num_samples, False)\n",
    "        # we only use the features for membership inference, not the target. Therefore we must drop the last column.\n",
    "        samples_df = samples_df.drop(samples_df.columns[-1], axis=1)\n",
    "        \n",
    "        # This is the default number of counterfactuals per query used on the github page of DiCE\n",
    "        cfs_per_query = 4\n",
    "        \n",
    "        # get first counterfactuals for all given samples\n",
    "        e1 = explainer.generate_counterfactuals(samples_df, total_CFs=cfs_per_query, desired_class='opposite')\n",
    "        \n",
    "        # collect all first counterfactuals in this dataframe to plug it into the explainer once more\n",
    "        first_cfs_all = pd.DataFrame(columns=samples_df.columns)\n",
    "        \n",
    "        # collect the original sample index corresponding to a first counterfactual\n",
    "        # this is necessary in order to remember which first counterfactuals belonged to which original sample\n",
    "        respective_sample_index = []\n",
    "        \n",
    "        # collect first counterfactuals\n",
    "        for index in range(num_samples):\n",
    "            # get counterfactuals for given sample:\n",
    "            first_cfs = e1.cf_examples_list[index].final_cfs_df\n",
    "            logger.debug(f'Sample {index}: 1st counterfactuals: \\n {first_cfs.to_numpy()}')\n",
    "            \n",
    "            first_cfs_all = pd.concat([first_cfs_all, first_cfs])\n",
    "            \n",
    "            for i in range(len(first_cfs)):\n",
    "                respective_sample_index.append(index)\n",
    "                \n",
    "        respective_sample_index = np.array(respective_sample_index)\n",
    "        \n",
    "        # get second counterfactuals for all first counterfactuals\n",
    "        e2 = explainer.generate_counterfactuals(first_cfs_all, total_CFs=cfs_per_query, desired_class='opposite')        \n",
    "        \n",
    "        # compare all second counterfactuals with the samples they were generated for\n",
    "        for i, second_cfs_obj in enumerate(e2.cf_examples_list):\n",
    "            # get the sample that these second counterfactuals belong to:\n",
    "            index = respective_sample_index[i]\n",
    "            sample_df = samples_df.iloc[[index], :]\n",
    "            \n",
    "            logger.debug(f'Sample {index}: {sample_df.to_numpy()}')\n",
    "            \n",
    "            second_cfs = second_cfs_obj.final_cfs_df\n",
    "            \n",
    "            logger.debug(f'Sample {index}: 2nd counterfactuals: \\n {second_cfs.to_numpy()}')\n",
    "            \n",
    "            # if any counter-counterfactual is equal to the given sample, then it is part of the training data:\n",
    "            # np.isclose is used for comparison because explainer may round floating point values\n",
    "            result = np.isclose(second_cfs.to_numpy().astype(float), sample_df.to_numpy().astype(float)).all(axis=1).any()\n",
    "            \n",
    "            if result:\n",
    "                logger.debug(f'Inferred membership as true.')\n",
    "                inferred_membership[index] = True\n",
    "        \n",
    "        return inferred_membership"
   ]
  },
  {
   "cell_type": "markdown",
   "id": "d2ef61e5",
   "metadata": {},
   "source": [
    "# Executing Membership Inference"
   ]
  },
  {
   "cell_type": "markdown",
   "id": "d02a2083",
   "metadata": {},
   "source": [
    "We now generate five counterfactuals for the first sample from the training data to demonstrate counterfactual explanations in general."
   ]
  },
  {
   "cell_type": "code",
   "execution_count": 15,
   "id": "64c4cf59",
   "metadata": {
    "tags": []
   },
   "outputs": [],
   "source": [
    "features = data_heart.drop(outcome_name_heart, axis=1)\n",
    "labels = data_heart[outcome_name_heart]\n",
    "\n",
    "# Train a random forest on training data.\n",
    "model = es.RandomForestClassifier(random_state=0)\n",
    "model = model.fit(features, labels)\n",
    "\n",
    "# Train explainer\n",
    "d = dice_ml.Data(dataframe=data_heart, continuous_features=numeric_features_heart, outcome_name=outcome_name_heart)\n",
    "\n",
    "\n",
    "m = dice_ml.Model(model=model, backend=\"sklearn\", model_type='classifier')\n",
    "# Generating counterfactuals from training data (kd-tree)\n",
    "exp = dice_ml.Dice(d, m, method=\"kdtree\")"
   ]
  },
  {
   "cell_type": "code",
   "execution_count": 7,
   "id": "508a451a",
   "metadata": {
    "execution": {
     "iopub.execute_input": "2022-07-25T15:09:02.570151Z",
     "iopub.status.busy": "2022-07-25T15:09:02.569053Z",
     "iopub.status.idle": "2022-07-25T15:09:07.037232Z",
     "shell.execute_reply": "2022-07-25T15:09:07.036260Z"
    }
   },
   "outputs": [
    {
     "name": "stderr",
     "output_type": "stream",
     "text": [
      "100%|██████████████████████████████████████████████████████████████████████████████████████████████████████████████████████████████████████████████████████████████████████████████████████████████████████████| 1/1 [00:04<00:00,  4.44s/it]"
     ]
    },
    {
     "name": "stdout",
     "output_type": "stream",
     "text": [
      "Query instance (original outcome : 1)\n"
     ]
    },
    {
     "name": "stderr",
     "output_type": "stream",
     "text": [
      "\n"
     ]
    },
    {
     "data": {
      "text/html": [
       "<div>\n",
       "<style scoped>\n",
       "    .dataframe tbody tr th:only-of-type {\n",
       "        vertical-align: middle;\n",
       "    }\n",
       "\n",
       "    .dataframe tbody tr th {\n",
       "        vertical-align: top;\n",
       "    }\n",
       "\n",
       "    .dataframe thead th {\n",
       "        text-align: right;\n",
       "    }\n",
       "</style>\n",
       "<table border=\"1\" class=\"dataframe\">\n",
       "  <thead>\n",
       "    <tr style=\"text-align: right;\">\n",
       "      <th></th>\n",
       "      <th>Age</th>\n",
       "      <th>RestingBP</th>\n",
       "      <th>Cholesterol</th>\n",
       "      <th>MaxHR</th>\n",
       "      <th>Oldpeak</th>\n",
       "      <th>HeartDisease</th>\n",
       "    </tr>\n",
       "  </thead>\n",
       "  <tbody>\n",
       "    <tr>\n",
       "      <th>0</th>\n",
       "      <td>61.0</td>\n",
       "      <td>130.0</td>\n",
       "      <td>330.0</td>\n",
       "      <td>169.0</td>\n",
       "      <td>0.0</td>\n",
       "      <td>1.0</td>\n",
       "    </tr>\n",
       "  </tbody>\n",
       "</table>\n",
       "</div>"
      ],
      "text/plain": [
       "    Age  RestingBP  Cholesterol  MaxHR  Oldpeak  HeartDisease\n",
       "0  61.0      130.0        330.0  169.0      0.0           1.0"
      ]
     },
     "metadata": {},
     "output_type": "display_data"
    },
    {
     "name": "stdout",
     "output_type": "stream",
     "text": [
      "\n",
      "Diverse Counterfactual set without sparsity correction (new outcome:  0\n"
     ]
    },
    {
     "data": {
      "text/html": [
       "<div>\n",
       "<style scoped>\n",
       "    .dataframe tbody tr th:only-of-type {\n",
       "        vertical-align: middle;\n",
       "    }\n",
       "\n",
       "    .dataframe tbody tr th {\n",
       "        vertical-align: top;\n",
       "    }\n",
       "\n",
       "    .dataframe thead th {\n",
       "        text-align: right;\n",
       "    }\n",
       "</style>\n",
       "<table border=\"1\" class=\"dataframe\">\n",
       "  <thead>\n",
       "    <tr style=\"text-align: right;\">\n",
       "      <th></th>\n",
       "      <th>Age</th>\n",
       "      <th>RestingBP</th>\n",
       "      <th>Cholesterol</th>\n",
       "      <th>MaxHR</th>\n",
       "      <th>Oldpeak</th>\n",
       "    </tr>\n",
       "  </thead>\n",
       "  <tbody>\n",
       "    <tr>\n",
       "      <th>22</th>\n",
       "      <td>37.0</td>\n",
       "      <td>130.0</td>\n",
       "      <td>315.0</td>\n",
       "      <td>158.0</td>\n",
       "      <td>0.0</td>\n",
       "    </tr>\n",
       "    <tr>\n",
       "      <th>86</th>\n",
       "      <td>58.0</td>\n",
       "      <td>120.0</td>\n",
       "      <td>340.0</td>\n",
       "      <td>172.0</td>\n",
       "      <td>0.0</td>\n",
       "    </tr>\n",
       "    <tr>\n",
       "      <th>468</th>\n",
       "      <td>53.0</td>\n",
       "      <td>140.0</td>\n",
       "      <td>320.0</td>\n",
       "      <td>162.0</td>\n",
       "      <td>0.0</td>\n",
       "    </tr>\n",
       "    <tr>\n",
       "      <th>668</th>\n",
       "      <td>55.0</td>\n",
       "      <td>122.0</td>\n",
       "      <td>320.0</td>\n",
       "      <td>155.0</td>\n",
       "      <td>0.0</td>\n",
       "    </tr>\n",
       "    <tr>\n",
       "      <th>99</th>\n",
       "      <td>55.0</td>\n",
       "      <td>145.0</td>\n",
       "      <td>326.0</td>\n",
       "      <td>155.0</td>\n",
       "      <td>0.0</td>\n",
       "    </tr>\n",
       "  </tbody>\n",
       "</table>\n",
       "</div>"
      ],
      "text/plain": [
       "      Age  RestingBP  Cholesterol  MaxHR  Oldpeak\n",
       "22   37.0      130.0        315.0  158.0      0.0\n",
       "86   58.0      120.0        340.0  172.0      0.0\n",
       "468  53.0      140.0        320.0  162.0      0.0\n",
       "668  55.0      122.0        320.0  155.0      0.0\n",
       "99   55.0      145.0        326.0  155.0      0.0"
      ]
     },
     "metadata": {},
     "output_type": "display_data"
    }
   ],
   "source": [
    "e1 = exp.generate_counterfactuals(features[0:1], total_CFs=5, desired_class=\"opposite\")\n",
    "e1.visualize_as_dataframe(display_sparse_df=False)"
   ]
  },
  {
   "cell_type": "markdown",
   "id": "084cf1e0",
   "metadata": {},
   "source": [
    "We can see that the counterfactuals are similar to the query sample and that they have a flipped prediction. These are the two general properties of counterfactual explanations.\n",
    "\n",
    "We will now do a small proof of concept of the experiment with logging enabled to demonstrate how it works."
   ]
  },
  {
   "cell_type": "code",
   "execution_count": 8,
   "id": "cacf1093",
   "metadata": {
    "execution": {
     "iopub.execute_input": "2022-07-25T15:09:07.053394Z",
     "iopub.status.busy": "2022-07-25T15:09:07.052334Z",
     "iopub.status.idle": "2022-07-25T15:09:18.295398Z",
     "shell.execute_reply": "2022-07-25T15:09:18.295743Z"
    },
    "scrolled": true
   },
   "outputs": [
    {
     "name": "stderr",
     "output_type": "stream",
     "text": [
      "DEBUG:xai-privacy:[[ 45. 142. 309. 147.   0.   1.]] taken from training data\n",
      "DEBUG:xai-privacy:[[ 62.  120.  281.  103.    1.4   1. ]] taken from test data\n",
      "DEBUG:xai-privacy:[[5.50e+01 1.15e+02 0.00e+00 1.55e+02 1.00e-01 1.00e+00]] taken from training data\n",
      "DEBUG:xai-privacy:[[ 48.  160.  329.   92.    1.5   1. ]] taken from test data\n",
      "DEBUG:xai-privacy:[[ 38.   92.  117.  134.    2.5   1. ]] taken from training data\n",
      "DEBUG:xai-privacy:[[ 56. 125.   0.  98.  -2.   1.]] taken from test data\n",
      "DEBUG:xai-privacy:[[ 44. 140. 235. 180.   0.   0.]] taken from training data\n",
      "DEBUG:xai-privacy:[[ 47. 140. 257. 135.   1.   0.]] taken from test data\n",
      "DEBUG:xai-privacy:[[ 41. 126. 306. 163.   0.   0.]] taken from training data\n",
      "DEBUG:xai-privacy:[[ 51. 110.   0.  92.   0.   1.]] taken from test data\n",
      "100%|████████████████████████████████████████████████████████████████████████████████████████████████████████████████████████████████████████████████████████████████████████████████████████████████████████| 10/10 [00:01<00:00,  6.17it/s]\n",
      "DEBUG:xai-privacy:Sample 0: 1st counterfactuals: \n",
      " [[ 54. 140. 309. 140.   0.]\n",
      " [ 38. 140. 297. 150.   0.]\n",
      " [ 39. 130. 307. 140.   0.]\n",
      " [ 53. 140. 320. 162.   0.]]\n",
      "DEBUG:xai-privacy:Sample 1: 1st counterfactuals: \n",
      " [[5.20e+01 1.20e+02 2.84e+02 1.18e+02 0.00e+00]\n",
      " [4.80e+01 1.20e+02 2.84e+02 1.20e+02 0.00e+00]\n",
      " [7.40e+01 1.20e+02 2.69e+02 1.21e+02 2.00e-01]\n",
      " [5.30e+01 1.20e+02 2.74e+02 1.30e+02 0.00e+00]]\n",
      "DEBUG:xai-privacy:Sample 2: 1st counterfactuals: \n",
      " [[ 4.50e+01  1.10e+02  0.00e+00  1.38e+02 -1.00e-01]\n",
      " [ 5.30e+01  1.30e+02  0.00e+00  1.20e+02  7.00e-01]\n",
      " [ 5.90e+01  1.54e+02  0.00e+00  1.31e+02  1.50e+00]\n",
      " [ 4.10e+01  1.04e+02  0.00e+00  1.11e+02  0.00e+00]]\n",
      "DEBUG:xai-privacy:Sample 3: 1st counterfactuals: \n",
      " [[7.50e+01 1.60e+02 3.10e+02 1.12e+02 2.00e+00]\n",
      " [4.80e+01 1.20e+02 2.84e+02 1.20e+02 0.00e+00]\n",
      " [4.80e+01 1.30e+02 2.75e+02 1.39e+02 2.00e-01]\n",
      " [7.10e+01 1.60e+02 3.02e+02 1.62e+02 4.00e-01]]\n",
      "DEBUG:xai-privacy:Sample 4: 1st counterfactuals: \n",
      " [[ 56.  120.   85.  140.    0. ]\n",
      " [ 44.  108.  141.  175.    0.6]\n",
      " [ 50.  140.  129.  135.    0. ]\n",
      " [ 52.  140.  100.  138.    0. ]]\n",
      "DEBUG:xai-privacy:Sample 5: 1st counterfactuals: \n",
      " [[ 6.00e+01  1.25e+02  0.00e+00  1.10e+02  1.00e-01]\n",
      " [ 5.60e+01  1.15e+02  0.00e+00  8.20e+01 -1.00e+00]\n",
      " [ 5.90e+01  1.25e+02  0.00e+00  1.19e+02  9.00e-01]\n",
      " [ 5.60e+01  1.40e+02  0.00e+00  1.21e+02  1.80e+00]]\n",
      "DEBUG:xai-privacy:Sample 6: 1st counterfactuals: \n",
      " [[ 47. 135. 248. 170.   0.]\n",
      " [ 40. 152. 223. 181.   0.]\n",
      " [ 57. 130. 236. 174.   0.]\n",
      " [ 57. 154. 232. 164.   0.]]\n",
      "DEBUG:xai-privacy:Sample 7: 1st counterfactuals: \n",
      " [[ 47. 140. 276. 125.   0.]\n",
      " [ 62. 140. 271. 152.   1.]\n",
      " [ 56. 130. 276. 128.   1.]\n",
      " [ 53. 140. 243. 155.   0.]]\n",
      "DEBUG:xai-privacy:Sample 8: 1st counterfactuals: \n",
      " [[ 43. 120. 291. 155.   0.]\n",
      " [ 45. 142. 309. 147.   0.]\n",
      " [ 44. 112. 290. 153.   0.]\n",
      " [ 38. 120. 282. 170.   0.]]\n",
      "DEBUG:xai-privacy:Sample 9: 1st counterfactuals: \n",
      " [[ 59.  110.    0.   94.    0. ]\n",
      " [ 70.  115.    0.   92.    0. ]\n",
      " [ 53.  120.    0.   95.    0. ]\n",
      " [ 55.  120.    0.   92.    0.3]]\n",
      "100%|████████████████████████████████████████████████████████████████████████████████████████████████████████████████████████████████████████████████████████████████████████████████████████████████████████| 40/40 [00:09<00:00,  4.25it/s]\n",
      "DEBUG:xai-privacy:Sample 0: [[ 45. 142. 309. 147.   0.]]\n",
      "DEBUG:xai-privacy:Sample 0: 2nd counterfactuals: \n",
      " [[ 50. 140. 288. 140.   0.]\n",
      " [ 45. 142. 309. 147.   0.]\n",
      " [ 55. 140. 295. 136.   0.]\n",
      " [ 46. 134. 310. 126.   0.]]\n",
      "DEBUG:xai-privacy:Inferred membership as true.\n",
      "DEBUG:xai-privacy:Sample 0: [[ 45. 142. 309. 147.   0.]]\n",
      "DEBUG:xai-privacy:Sample 0: 2nd counterfactuals: \n",
      " [[ 50. 140. 288. 140.   0.]\n",
      " [ 55. 140. 295. 136.   0.]\n",
      " [ 38. 120. 282. 170.   0.]\n",
      " [ 45. 142. 309. 147.   0.]]\n",
      "DEBUG:xai-privacy:Inferred membership as true.\n",
      "DEBUG:xai-privacy:Sample 0: [[ 45. 142. 309. 147.   0.]]\n",
      "DEBUG:xai-privacy:Sample 0: 2nd counterfactuals: \n",
      " [[ 50. 140. 288. 140.   0.]\n",
      " [ 45. 142. 309. 147.   0.]\n",
      " [ 46. 134. 310. 126.   0.]\n",
      " [ 39. 110. 280. 150.   0.]]\n",
      "DEBUG:xai-privacy:Inferred membership as true.\n",
      "DEBUG:xai-privacy:Sample 0: [[ 45. 142. 309. 147.   0.]]\n",
      "DEBUG:xai-privacy:Sample 0: 2nd counterfactuals: \n",
      " [[ 64. 140. 335. 158.   0.]\n",
      " [ 77. 125. 304. 162.   0.]\n",
      " [ 55. 140. 295. 136.   0.]\n",
      " [ 50. 140. 288. 140.   0.]]\n",
      "DEBUG:xai-privacy:Sample 1: [[ 62.  120.  281.  103.    1.4]]\n",
      "DEBUG:xai-privacy:Sample 1: 2nd counterfactuals: \n",
      " [[ 46. 120. 277. 125.   1.]\n",
      " [ 43. 120. 291. 155.   0.]\n",
      " [ 54. 130. 294. 100.   0.]\n",
      " [ 62. 120. 254.  93.   0.]]\n",
      "DEBUG:xai-privacy:Sample 1: [[ 62.  120.  281.  103.    1.4]]\n",
      "DEBUG:xai-privacy:Sample 1: 2nd counterfactuals: \n",
      " [[ 48.  120.  260.  115.    2. ]\n",
      " [ 46.  120.  277.  125.    1. ]\n",
      " [ 43.  120.  291.  155.    0. ]\n",
      " [ 58.  120.  284.  160.    1.8]]\n",
      "DEBUG:xai-privacy:Sample 1: [[ 62.  120.  281.  103.    1.4]]\n",
      "DEBUG:xai-privacy:Sample 1: 2nd counterfactuals: \n",
      " [[ 61.  120.  260.  140.    3.6]\n",
      " [ 48.  120.  260.  115.    2. ]\n",
      " [ 46.  120.  277.  125.    1. ]\n",
      " [ 74.  150.  258.  130.    4. ]]\n",
      "DEBUG:xai-privacy:Sample 1: [[ 62.  120.  281.  103.    1.4]]\n",
      "DEBUG:xai-privacy:Sample 1: 2nd counterfactuals: \n",
      " [[ 46.  120.  277.  125.    1. ]\n",
      " [ 43.  120.  291.  155.    0. ]\n",
      " [ 58.  128.  259.  130.    3. ]\n",
      " [ 61.  120.  260.  140.    3.6]]\n",
      "DEBUG:xai-privacy:Sample 2: [[5.50e+01 1.15e+02 0.00e+00 1.55e+02 1.00e-01]]\n",
      "DEBUG:xai-privacy:Sample 2: 2nd counterfactuals: \n",
      " [[ 58.  115.    0.  138.    0.5]\n",
      " [ 38.  110.    0.  156.    0. ]\n",
      " [ 62.  110.    0.  120.    0.5]\n",
      " [ 61.  110.    0.  113.    1.4]]\n",
      "DEBUG:xai-privacy:Sample 2: [[5.50e+01 1.15e+02 0.00e+00 1.55e+02 1.00e-01]]\n",
      "DEBUG:xai-privacy:Sample 2: 2nd counterfactuals: \n",
      " [[ 52.  130.    0.  120.    0. ]\n",
      " [ 54.  130.    0.  110.    3. ]\n",
      " [ 57.  140.    0.  120.    2. ]\n",
      " [ 60.  130.    0.  130.    1.1]]\n",
      "DEBUG:xai-privacy:Sample 2: [[5.50e+01 1.15e+02 0.00e+00 1.55e+02 1.00e-01]]\n",
      "DEBUG:xai-privacy:Sample 2: 2nd counterfactuals: \n",
      " [[ 53.  154.    0.  140.    1.5]\n",
      " [ 59.  135.    0.  115.    1. ]\n",
      " [ 59.  178.    0.  120.    0. ]\n",
      " [ 67.  145.    0.  125.    0. ]]\n",
      "DEBUG:xai-privacy:Sample 2: [[5.50e+01 1.15e+02 0.00e+00 1.55e+02 1.00e-01]]\n",
      "DEBUG:xai-privacy:Sample 2: 2nd counterfactuals: \n",
      " [[ 53. 105.   0. 115.   0.]\n",
      " [ 63. 130.   0. 111.   0.]\n",
      " [ 38. 115.   0. 128.   0.]\n",
      " [ 48. 115.   0. 128.   0.]]\n",
      "DEBUG:xai-privacy:Sample 3: [[ 48.  160.  329.   92.    1.5]]\n",
      "DEBUG:xai-privacy:Sample 3: 2nd counterfactuals: \n",
      " [[ 55.  160.  292.  143.    2. ]\n",
      " [ 70.  160.  269.  112.    2.9]\n",
      " [ 63.  160.  267.   88.    2. ]\n",
      " [ 57.  150.  276.  112.    0.6]]\n",
      "DEBUG:xai-privacy:Sample 3: [[ 48.  160.  329.   92.    1.5]]\n",
      "DEBUG:xai-privacy:Sample 3: 2nd counterfactuals: \n",
      " [[ 48.  120.  260.  115.    2. ]\n",
      " [ 46.  120.  277.  125.    1. ]\n",
      " [ 43.  120.  291.  155.    0. ]\n",
      " [ 58.  120.  284.  160.    1.8]]\n",
      "DEBUG:xai-privacy:Sample 3: [[ 48.  160.  329.   92.    1.5]]\n",
      "DEBUG:xai-privacy:Sample 3: 2nd counterfactuals: \n",
      " [[ 58.  130.  263.  140.    2. ]\n",
      " [ 63.  130.  254.  147.    1.4]\n",
      " [ 48.  124.  274.  166.    0.5]\n",
      " [ 48.  120.  260.  115.    2. ]]\n",
      "DEBUG:xai-privacy:Sample 3: [[ 48.  160.  329.   92.    1.5]]\n",
      "DEBUG:xai-privacy:Sample 3: 2nd counterfactuals: \n",
      " [[ 51.  160.  303.  150.    1. ]\n",
      " [ 55.  160.  289.  145.    0.8]\n",
      " [ 55.  160.  292.  143.    2. ]\n",
      " [ 47.  160.  291.  158.    3. ]]\n",
      "DEBUG:xai-privacy:Sample 4: [[ 38.   92.  117.  134.    2.5]]\n",
      "DEBUG:xai-privacy:Sample 4: 2nd counterfactuals: \n",
      " [[ 56.  120.  100.  120.    1.5]\n",
      " [ 59.  120.    0.  115.    0. ]\n",
      " [ 38.   92.  117.  134.    2.5]\n",
      " [ 60.  120.    0.  141.    2. ]]\n",
      "DEBUG:xai-privacy:Inferred membership as true.\n",
      "DEBUG:xai-privacy:Sample 4: [[ 38.   92.  117.  134.    2.5]]\n",
      "DEBUG:xai-privacy:Sample 4: 2nd counterfactuals: \n",
      " [[ 44.  110.  197.  177.    0. ]\n",
      " [ 34.  140.  156.  180.    0. ]\n",
      " [ 52.  120.  182.  150.    0. ]\n",
      " [ 38.   92.  117.  134.    2.5]]\n",
      "DEBUG:xai-privacy:Inferred membership as true.\n",
      "DEBUG:xai-privacy:Sample 4: [[ 38.   92.  117.  134.    2.5]]\n",
      "DEBUG:xai-privacy:Sample 4: 2nd counterfactuals: \n",
      " [[ 34.  140.  156.  180.    0. ]\n",
      " [ 62.  158.  170.  138.    0. ]\n",
      " [ 52.  120.  182.  150.    0. ]\n",
      " [ 57.  130.  131.  115.    1.2]]\n",
      "DEBUG:xai-privacy:Sample 4: [[ 38.   92.  117.  134.    2.5]]\n",
      "DEBUG:xai-privacy:Sample 4: 2nd counterfactuals: \n",
      " [[ 56.  120.  100.  120.    1.5]\n",
      " [ 34.  140.  156.  180.    0. ]\n",
      " [ 62.  158.  170.  138.    0. ]\n",
      " [ 52.  120.  182.  150.    0. ]]\n",
      "DEBUG:xai-privacy:Sample 5: [[ 56. 125.   0.  98.  -2.]]\n",
      "DEBUG:xai-privacy:Sample 5: 2nd counterfactuals: \n",
      " [[ 60.  180.    0.  140.    1.5]\n",
      " [ 53.  130.    0.  120.    0.7]\n",
      " [ 56.  120.    0.   97.    0. ]\n",
      " [ 41.  104.    0.  111.    0. ]]\n",
      "DEBUG:xai-privacy:Sample 5: [[ 56. 125.   0.  98.  -2.]]\n",
      "DEBUG:xai-privacy:Sample 5: 2nd counterfactuals: \n",
      " [[ 5.60e+01  1.20e+02  0.00e+00  9.70e+01  0.00e+00]\n",
      " [ 4.10e+01  1.04e+02  0.00e+00  1.11e+02  0.00e+00]\n",
      " [ 5.30e+01  1.30e+02  0.00e+00  1.20e+02  7.00e-01]\n",
      " [ 4.50e+01  1.10e+02  0.00e+00  1.38e+02 -1.00e-01]]\n",
      "DEBUG:xai-privacy:Sample 5: [[ 56. 125.   0.  98.  -2.]]\n",
      "DEBUG:xai-privacy:Sample 5: 2nd counterfactuals: \n",
      " [[ 5.90e+01  1.54e+02  0.00e+00  1.31e+02  1.50e+00]\n",
      " [ 5.30e+01  1.30e+02  0.00e+00  1.20e+02  7.00e-01]\n",
      " [ 5.60e+01  1.20e+02  0.00e+00  9.70e+01  0.00e+00]\n",
      " [ 4.50e+01  1.10e+02  0.00e+00  1.38e+02 -1.00e-01]]\n",
      "DEBUG:xai-privacy:Sample 5: [[ 56. 125.   0.  98.  -2.]]\n",
      "DEBUG:xai-privacy:Sample 5: 2nd counterfactuals: \n",
      " [[ 56.  120.    0.   97.    0. ]\n",
      " [ 53.  130.    0.  120.    0.7]\n",
      " [ 59.  154.    0.  131.    1.5]\n",
      " [ 72.  160.    0.  114.    1.6]]\n",
      "DEBUG:xai-privacy:Sample 6: [[ 44. 140. 235. 180.   0.]]\n",
      "DEBUG:xai-privacy:Sample 6: 2nd counterfactuals: \n",
      " [[ 45.  130.  237.  170.    0. ]\n",
      " [ 52.  140.  259.  170.    0. ]\n",
      " [ 53.  130.  246.  173.    0. ]\n",
      " [ 55.  135.  250.  161.    1.4]]\n",
      "DEBUG:xai-privacy:Sample 6: [[ 44. 140. 235. 180.   0.]]\n",
      "DEBUG:xai-privacy:Sample 6: 2nd counterfactuals: \n",
      " [[ 52. 138. 223. 169.   0.]\n",
      " [ 44. 140. 235. 180.   0.]\n",
      " [ 50. 140. 216. 170.   0.]\n",
      " [ 36. 130. 209. 178.   0.]]\n",
      "DEBUG:xai-privacy:Inferred membership as true.\n",
      "DEBUG:xai-privacy:Sample 6: [[ 44. 140. 235. 180.   0.]]\n",
      "DEBUG:xai-privacy:Sample 6: 2nd counterfactuals: \n",
      " [[ 53. 130. 246. 173.   0.]\n",
      " [ 45. 130. 237. 170.   0.]\n",
      " [ 56. 130. 221. 163.   0.]\n",
      " [ 56. 130. 219. 164.   0.]]\n",
      "DEBUG:xai-privacy:Sample 6: [[ 44. 140. 235. 180.   0.]]\n",
      "DEBUG:xai-privacy:Sample 6: 2nd counterfactuals: \n",
      " [[ 56. 130. 219. 164.   0.]\n",
      " [ 52. 138. 223. 169.   0.]\n",
      " [ 53. 140. 243. 155.   0.]\n",
      " [ 50. 140. 216. 170.   0.]]\n",
      "DEBUG:xai-privacy:Sample 7: [[ 47. 140. 257. 135.   1.]]\n",
      "DEBUG:xai-privacy:Sample 7: 2nd counterfactuals: \n",
      " [[ 59. 140. 264. 119.   0.]\n",
      " [ 50. 140. 288. 140.   0.]\n",
      " [ 55. 140. 295. 136.   0.]\n",
      " [ 43. 140. 288. 135.   2.]]\n",
      "DEBUG:xai-privacy:Sample 7: [[ 47. 140. 257. 135.   1.]]\n",
      "DEBUG:xai-privacy:Sample 7: 2nd counterfactuals: \n",
      " [[ 57. 140. 265. 145.   1.]\n",
      " [ 50. 140. 288. 140.   0.]\n",
      " [ 49. 140. 234. 140.   1.]\n",
      " [ 55. 140. 295. 136.   0.]]\n",
      "DEBUG:xai-privacy:Sample 7: [[ 47. 140. 257. 135.   1.]]\n",
      "DEBUG:xai-privacy:Sample 7: 2nd counterfactuals: \n",
      " [[ 56.  130.  283.  103.    1.6]\n",
      " [ 46.  120.  277.  125.    1. ]\n",
      " [ 58.  130.  263.  140.    2. ]\n",
      " [ 57.  140.  265.  145.    1. ]]\n",
      "DEBUG:xai-privacy:Sample 7: [[ 47. 140. 257. 135.   1.]]\n",
      "DEBUG:xai-privacy:Sample 7: 2nd counterfactuals: \n",
      " [[ 47. 135. 248. 170.   0.]\n",
      " [ 49. 140. 234. 140.   1.]\n",
      " [ 50. 140. 231. 140.   5.]\n",
      " [ 57. 154. 232. 164.   0.]]\n",
      "DEBUG:xai-privacy:Sample 8: [[ 41. 126. 306. 163.   0.]]\n",
      "DEBUG:xai-privacy:Sample 8: 2nd counterfactuals: \n",
      " [[ 41.  120.  291.  160.    0. ]\n",
      " [ 41.  120.  295.  170.    0. ]\n",
      " [ 51.  120.  295.  157.    0.6]\n",
      " [ 55.  120.  270.  140.    0. ]]\n",
      "DEBUG:xai-privacy:Sample 8: [[ 41. 126. 306. 163.   0.]]\n",
      "DEBUG:xai-privacy:Sample 8: 2nd counterfactuals: \n",
      " [[ 54. 140. 309. 140.   0.]\n",
      " [ 38. 140. 297. 150.   0.]\n",
      " [ 39. 130. 307. 140.   0.]\n",
      " [ 53. 140. 320. 162.   0.]]\n",
      "DEBUG:xai-privacy:Sample 8: [[ 41. 126. 306. 163.   0.]]\n",
      "DEBUG:xai-privacy:Sample 8: 2nd counterfactuals: \n",
      " [[ 41. 120. 291. 160.   0.]\n",
      " [ 41. 120. 295. 170.   0.]\n",
      " [ 54. 132. 288. 159.   0.]\n",
      " [ 41. 126. 306. 163.   0.]]\n",
      "DEBUG:xai-privacy:Inferred membership as true.\n",
      "DEBUG:xai-privacy:Sample 8: [[ 41. 126. 306. 163.   0.]]\n",
      "DEBUG:xai-privacy:Sample 8: 2nd counterfactuals: \n",
      " [[ 41. 120. 295. 170.   0.]\n",
      " [ 41. 120. 291. 160.   0.]\n",
      " [ 40. 130. 281. 167.   0.]\n",
      " [ 35. 120. 308. 180.   0.]]\n",
      "DEBUG:xai-privacy:Sample 9: [[ 51. 110.   0.  92.   0.]]\n",
      "DEBUG:xai-privacy:Sample 9: 2nd counterfactuals: \n",
      " [[ 5.60e+01  1.20e+02  0.00e+00  9.70e+01  0.00e+00]\n",
      " [ 4.10e+01  1.04e+02  0.00e+00  1.11e+02  0.00e+00]\n",
      " [ 4.50e+01  1.10e+02  0.00e+00  1.38e+02 -1.00e-01]\n",
      " [ 5.90e+01  1.54e+02  0.00e+00  1.31e+02  1.50e+00]]\n",
      "DEBUG:xai-privacy:Sample 9: [[ 51. 110.   0.  92.   0.]]\n",
      "DEBUG:xai-privacy:Sample 9: 2nd counterfactuals: \n",
      " [[ 56.  120.    0.   97.    0. ]\n",
      " [ 41.  104.    0.  111.    0. ]\n",
      " [ 53.  130.    0.  120.    0.7]\n",
      " [ 72.  160.    0.  114.    1.6]]\n",
      "DEBUG:xai-privacy:Sample 9: [[ 51. 110.   0.  92.   0.]]\n",
      "DEBUG:xai-privacy:Sample 9: 2nd counterfactuals: \n",
      " [[ 56.  120.    0.   97.    0. ]\n",
      " [ 41.  104.    0.  111.    0. ]\n",
      " [ 53.  130.    0.  120.    0.7]\n",
      " [ 56.  120.   85.  140.    0. ]]\n",
      "DEBUG:xai-privacy:Sample 9: [[ 51. 110.   0.  92.   0.]]\n",
      "DEBUG:xai-privacy:Sample 9: 2nd counterfactuals: \n",
      " [[ 5.60e+01  1.20e+02  0.00e+00  9.70e+01  0.00e+00]\n",
      " [ 4.10e+01  1.04e+02  0.00e+00  1.11e+02  0.00e+00]\n",
      " [ 5.30e+01  1.30e+02  0.00e+00  1.20e+02  7.00e-01]\n",
      " [ 4.50e+01  1.10e+02  0.00e+00  1.38e+02 -1.00e-01]]\n"
     ]
    },
    {
     "name": "stdout",
     "output_type": "stream",
     "text": [
      "Total time: 11.23s (training model: 0.01s, training explainer: 0.01s, experiment: 11.22s)\n",
      "Accuracy: 0.9, precision: 1.0, recall: 0.8\n"
     ]
    }
   ],
   "source": [
    "logger.setLevel(logging.DEBUG)\n",
    "logging.root.setLevel(logging.ERROR)\n",
    "\n",
    "EXP = CounterfactualMembershipInference(data_heart, numeric_features_heart, outcome_name_heart, random_state=13)\n",
    "EXP.membership_inference_experiment(num_queries=10, model=DecisionTreeClassifier(random_state=13), model_access=False, threads=1)\n",
    "\n",
    "logger.setLevel(logging.ERROR)"
   ]
  },
  {
   "cell_type": "markdown",
   "id": "a7f6892d",
   "metadata": {},
   "source": [
    "The proof of concept should show that counterfactual membership inference is accurate most of the time. However, some training samples are not recognized because they do not appear as their own counter-counterfactual."
   ]
  },
  {
   "cell_type": "markdown",
   "id": "ca486db2",
   "metadata": {},
   "source": [
    "Now we begin executing the actual experiment. We begin by defining the table that will hold the results for all our different experiment variations. Then we execute all variations of the experiment for this dataset. We vary the model between a decision tree, a random forest and a neural network. Each model uses the default configuration of scikit-learn."
   ]
  },
  {
   "cell_type": "code",
   "execution_count": 61,
   "id": "10674b35",
   "metadata": {
    "scrolled": true,
    "tags": []
   },
   "outputs": [],
   "source": [
    "results_ = {'dataset': [], 'model': [], 'accuracy': [], 'precision': [], 'recall': []}\n",
    "\n",
    "results = pd.DataFrame(data = results_)"
   ]
  },
  {
   "cell_type": "code",
   "execution_count": 62,
   "id": "d178909b-fc2a-416d-8534-15c693c43fb4",
   "metadata": {},
   "outputs": [],
   "source": [
    "dataset_dicts = [data_heart_dict, data_heart_num_dict, data_heart_cat_dict, data_census_dict, data_census_num_dict, data_census_cat_dict]\n",
    "\n",
    "dt_dict = {'name': 'decision tree', 'model': DecisionTreeClassifier}\n",
    "rf_dict = {'name': 'random forest', 'model': es.RandomForestClassifier}\n",
    "nn_dict = {'name': 'neural network', 'model': MLPClassifier}\n",
    "\n",
    "model_dicts = [dt_dict, rf_dict, nn_dict]"
   ]
  },
  {
   "cell_type": "code",
   "execution_count": 63,
   "id": "6246da63-8bb1-4948-9670-d90d689f2401",
   "metadata": {},
   "outputs": [],
   "source": [
    "# remove pandas warnings\n",
    "warnings.simplefilter(action='ignore', category=pd.errors.PerformanceWarning)"
   ]
  },
  {
   "cell_type": "code",
   "execution_count": null,
   "id": "2c1a483d-bb0d-4acb-b8aa-6937f3537a9e",
   "metadata": {
    "tags": []
   },
   "outputs": [],
   "source": [
    "# This will run the experiment for each dataset and model combination\n",
    "\n",
    "results = run_all_experiments(CounterfactualMembershipInference, dataset_dicts, model_dicts, random_state=0, num_queries=None, model_access=False, threads=threads, results_table=results, convert_cat_to_str=True)"
   ]
  },
  {
   "cell_type": "markdown",
   "id": "a1feb9a8",
   "metadata": {
    "tags": []
   },
   "source": [
    "# Results\n",
    "\n",
    "The results of all variations of the membership inference experiment with counterfactuals. In every experiment, we executed the membership inference attack on each sample of the training data and each sample of the test data. Both datasets are of equal size and originate from the same source dataset.\n",
    "\n",
    "Accuracy is the percentage of samples whose membership (true or false) was correctly inferred. An algorithm guessing at random would achieve an accuracy of 50 percent.\n",
    "\n",
    "Precision is the percentage of predicted training samples that is actually in the training data.\n",
    "\n",
    "Recall is the percentage of training samples whose membership (true) was correctly inferred."
   ]
  },
  {
   "cell_type": "code",
   "execution_count": 21,
   "id": "39bb0af8",
   "metadata": {
    "execution": {
     "iopub.execute_input": "2022-07-25T19:10:47.494434Z",
     "iopub.status.busy": "2022-07-25T19:10:47.493352Z",
     "iopub.status.idle": "2022-07-25T19:10:47.500524Z",
     "shell.execute_reply": "2022-07-25T19:10:47.501348Z"
    }
   },
   "outputs": [
    {
     "data": {
      "text/html": [
       "<div>\n",
       "<style scoped>\n",
       "    .dataframe tbody tr th:only-of-type {\n",
       "        vertical-align: middle;\n",
       "    }\n",
       "\n",
       "    .dataframe tbody tr th {\n",
       "        vertical-align: top;\n",
       "    }\n",
       "\n",
       "    .dataframe thead th {\n",
       "        text-align: right;\n",
       "    }\n",
       "</style>\n",
       "<table border=\"1\" class=\"dataframe\">\n",
       "  <thead>\n",
       "    <tr style=\"text-align: right;\">\n",
       "      <th></th>\n",
       "      <th>dataset</th>\n",
       "      <th>model</th>\n",
       "      <th>accuracy</th>\n",
       "      <th>precision</th>\n",
       "      <th>recall</th>\n",
       "    </tr>\n",
       "  </thead>\n",
       "  <tbody>\n",
       "    <tr>\n",
       "      <th>0</th>\n",
       "      <td>numeric</td>\n",
       "      <td>decision tree</td>\n",
       "      <td>0.848301</td>\n",
       "      <td>1.0</td>\n",
       "      <td>0.696602</td>\n",
       "    </tr>\n",
       "    <tr>\n",
       "      <th>1</th>\n",
       "      <td>numeric</td>\n",
       "      <td>random forest</td>\n",
       "      <td>0.848301</td>\n",
       "      <td>1.0</td>\n",
       "      <td>0.696602</td>\n",
       "    </tr>\n",
       "    <tr>\n",
       "      <th>2</th>\n",
       "      <td>numeric</td>\n",
       "      <td>neural network</td>\n",
       "      <td>0.787621</td>\n",
       "      <td>1.0</td>\n",
       "      <td>0.575243</td>\n",
       "    </tr>\n",
       "    <tr>\n",
       "      <th>3</th>\n",
       "      <td>categorical</td>\n",
       "      <td>decision tree</td>\n",
       "      <td>0.707071</td>\n",
       "      <td>1.0</td>\n",
       "      <td>0.414141</td>\n",
       "    </tr>\n",
       "    <tr>\n",
       "      <th>4</th>\n",
       "      <td>categorical</td>\n",
       "      <td>random forest</td>\n",
       "      <td>0.707071</td>\n",
       "      <td>1.0</td>\n",
       "      <td>0.414141</td>\n",
       "    </tr>\n",
       "    <tr>\n",
       "      <th>5</th>\n",
       "      <td>categorical</td>\n",
       "      <td>neural network</td>\n",
       "      <td>0.693085</td>\n",
       "      <td>1.0</td>\n",
       "      <td>0.386169</td>\n",
       "    </tr>\n",
       "    <tr>\n",
       "      <th>6</th>\n",
       "      <td>mixed</td>\n",
       "      <td>decision tree</td>\n",
       "      <td>0.696359</td>\n",
       "      <td>1.0</td>\n",
       "      <td>0.392719</td>\n",
       "    </tr>\n",
       "    <tr>\n",
       "      <th>7</th>\n",
       "      <td>mixed</td>\n",
       "      <td>random forest</td>\n",
       "      <td>0.696397</td>\n",
       "      <td>1.0</td>\n",
       "      <td>0.392795</td>\n",
       "    </tr>\n",
       "    <tr>\n",
       "      <th>8</th>\n",
       "      <td>mixed</td>\n",
       "      <td>neural network</td>\n",
       "      <td>0.665197</td>\n",
       "      <td>1.0</td>\n",
       "      <td>0.330394</td>\n",
       "    </tr>\n",
       "  </tbody>\n",
       "</table>\n",
       "</div>"
      ],
      "text/plain": [
       "       dataset           model  accuracy  precision    recall\n",
       "0      numeric   decision tree  0.848301        1.0  0.696602\n",
       "1      numeric   random forest  0.848301        1.0  0.696602\n",
       "2      numeric  neural network  0.787621        1.0  0.575243\n",
       "3  categorical   decision tree  0.707071        1.0  0.414141\n",
       "4  categorical   random forest  0.707071        1.0  0.414141\n",
       "5  categorical  neural network  0.693085        1.0  0.386169\n",
       "6        mixed   decision tree  0.696359        1.0  0.392719\n",
       "7        mixed   random forest  0.696397        1.0  0.392795\n",
       "8        mixed  neural network  0.665197        1.0  0.330394"
      ]
     },
     "execution_count": 21,
     "metadata": {},
     "output_type": "execute_result"
    }
   ],
   "source": [
    "results"
   ]
  },
  {
   "cell_type": "code",
   "execution_count": 22,
   "id": "31380dcf",
   "metadata": {
    "execution": {
     "iopub.execute_input": "2022-07-25T19:10:47.512408Z",
     "iopub.status.busy": "2022-07-25T19:10:47.511381Z",
     "iopub.status.idle": "2022-07-25T19:10:47.519375Z",
     "shell.execute_reply": "2022-07-25T19:10:47.518312Z"
    }
   },
   "outputs": [],
   "source": [
    "results.to_csv('results/1-6-cf-membership-inference-results.csv', index=False, na_rep='NaN', float_format='%.3f')"
   ]
  },
  {
   "cell_type": "markdown",
   "id": "7a6354c2-a98b-4ed3-9c75-609dc88c6bcb",
   "metadata": {},
   "source": [
    "# Discussion\n",
    "\n",
    "In our experiments, membership inference with counterfactuals drawn from the training data has an accuracy between 69% and 85%. Since no false positives can occur, precision is always 100%.\n",
    "\n",
    "The lower recall of the attack with a neural network and the numeric dataset can be explained by the following observations. Recall increases significantly when one fixes the inbalance in the training dataset between label 0 and 1. Either undersampling the majority class or oversampling the minority class results in membership inference being similarly accurate as for decision trees or random forests.\n",
    "\n",
    "Why does this change accuracy so much? Let's have a look at the predictions of the three models when using the original inbalanced dataset:"
   ]
  },
  {
   "cell_type": "code",
   "execution_count": 23,
   "id": "75548886-6d6d-4c5d-9dee-dedb19ca4b4d",
   "metadata": {
    "execution": {
     "iopub.execute_input": "2022-07-25T19:10:47.542033Z",
     "iopub.status.busy": "2022-07-25T19:10:47.529577Z",
     "iopub.status.idle": "2022-07-25T19:10:47.798800Z",
     "shell.execute_reply": "2022-07-25T19:10:47.799340Z"
    }
   },
   "outputs": [
    {
     "name": "stdout",
     "output_type": "stream",
     "text": [
      "Decision Tree predicted 1 for 460 samples.\n",
      "Random Forest predicted 1 for 449 samples.\n",
      "Neural Network predicted 1 for 389 samples.\n",
      "There is a total of 824 samples.\n"
     ]
    }
   ],
   "source": [
    "# train models exactly as in the experiment\n",
    "idx_mid = int(data_num.shape[0] / 2)\n",
    "\n",
    "data_train = data_num.iloc[idx_mid:, :]\n",
    "\n",
    "x_train = data_train.drop(outcome_name_num, axis=1)\n",
    "y_train = data_train[outcome_name_num]\n",
    "\n",
    "features = data_num.drop(outcome_name_num, axis=1)\n",
    "\n",
    "model_dt = DecisionTreeClassifier(random_state=0)\n",
    "model_rf = es.RandomForestClassifier(random_state=0)\n",
    "model_nn = MLPClassifier(random_state=0)\n",
    "\n",
    "for model in [model_dt, model_rf, model_nn]:\n",
    "    model = model.fit(x_train, y_train)\n",
    "    \n",
    "# check how often they predict 1/0\n",
    "pred_dt = model_dt.predict(features)\n",
    "pred_rf = model_rf.predict(features)\n",
    "pred_nn = model_nn.predict(features)\n",
    "\n",
    "print(f'Decision Tree predicted 1 for {np.count_nonzero(pred_dt)} samples.')\n",
    "print(f'Random Forest predicted 1 for {np.count_nonzero(pred_rf)} samples.')\n",
    "print(f'Neural Network predicted 1 for {np.count_nonzero(pred_nn)} samples.')\n",
    "print(f'There is a total of {len(features)} samples.')"
   ]
  },
  {
   "cell_type": "markdown",
   "id": "ff78e922",
   "metadata": {},
   "source": [
    "It is clear that the inbalance of the dataset has the biggest negative effect on the neural network and causes it to classify a majority of samples with 0. Therefore, there are fewer counterfactuals in the training data with a prediction of 1. This causes them to be further away from the queries on average and thus reducing the chance of a counter-counterfactual being the same as the query. Therefore, recall of the attack is reduced.\n",
    "\n",
    "The question remains why the recall is equal for a random forest and decision tree. It turns out that both models perfectly fit to the training data because they are not limited in complexity. Therefore they also give exactly the same predictions for the training data and thus receive the same counterfactuals. They do not give the same predictions for the test data, but this does not matter, because this attack will always reject samples from outside the training data regardless of the model (simply because no counterfactual can be shown that is equal to the given sample)."
   ]
  },
  {
   "cell_type": "code",
   "execution_count": null,
   "id": "59fa5d23",
   "metadata": {},
   "outputs": [],
   "source": []
  }
 ],
 "metadata": {
  "kernelspec": {
   "display_name": "Python 3 (ipykernel)",
   "language": "python",
   "name": "python3"
  },
  "language_info": {
   "codemirror_mode": {
    "name": "ipython",
    "version": 3
   },
   "file_extension": ".py",
   "mimetype": "text/x-python",
   "name": "python",
   "nbconvert_exporter": "python",
   "pygments_lexer": "ipython3",
   "version": "3.10.5"
  }
 },
 "nbformat": 4,
 "nbformat_minor": 5
}
