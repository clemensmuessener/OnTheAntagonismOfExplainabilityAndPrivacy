{
 "cells": [
  {
   "cell_type": "markdown",
   "id": "75916e17",
   "metadata": {},
   "source": [
    "# Images for the Paper"
   ]
  },
  {
   "cell_type": "code",
   "execution_count": 7,
   "id": "f6661d3f",
   "metadata": {
    "tags": []
   },
   "outputs": [],
   "source": [
    "import pandas as pd\n",
    "import sklearn.ensemble as es\n",
    "from sklearn.tree import DecisionTreeClassifier\n",
    "from sklearn.neural_network import MLPClassifier\n",
    "from sklearn.inspection import PartialDependenceDisplay\n",
    "from sklearn.inspection import partial_dependence\n",
    "import matplotlib.pyplot as plt\n",
    "import numpy as np\n",
    "import logging\n",
    "import dice_ml"
   ]
  },
  {
   "cell_type": "code",
   "execution_count": 2,
   "id": "f17097ef",
   "metadata": {
    "tags": []
   },
   "outputs": [
    {
     "name": "stderr",
     "output_type": "stream",
     "text": [
      "INFO:xai-privacy:Loading dataset 1: heart disease (numeric features) ...\n",
      "INFO:xai-privacy:Loading dataset 2: census income (categorical features) ...\n"
     ]
    }
   ],
   "source": [
    "%run experiment_setup.ipynb"
   ]
  },
  {
   "cell_type": "code",
   "execution_count": 3,
   "id": "ce94e21f-96e8-4a10-8dc2-cc9b2c5834f5",
   "metadata": {
    "tags": []
   },
   "outputs": [],
   "source": [
    "logger = logging.getLogger('xai-privacy')"
   ]
  },
  {
   "cell_type": "markdown",
   "id": "c6a61bbc",
   "metadata": {},
   "source": [
    "This notebook exists in order to create some useful images for our paper."
   ]
  },
  {
   "cell_type": "markdown",
   "id": "d02a2083",
   "metadata": {},
   "source": [
    "First, the image demonstrating counterfactuals for the heart disease dataset. In order to reduce the width of the table with the counterfactuals, we change the names of some columns to be shorter."
   ]
  },
  {
   "cell_type": "code",
   "execution_count": 4,
   "id": "d5875e06-98fb-4d58-910b-82e3451fdc46",
   "metadata": {},
   "outputs": [],
   "source": [
    "data_num_short = data_num.copy()\n",
    "\n",
    "cols_rename = { 'cigs_per_day' : 'cigs', 'total_chol' : 'chol', 'heart_disease_label' : 'label' }\n",
    "\n",
    "numeric_features_num_short = ['age', 'cigs', 'chol', 'sys_bp', 'dia_bp', 'bmi', 'heart_rate', 'glucose']\n",
    "outcome_name_num_short = 'label'\n",
    "\n",
    "data_num_short = data_num_short.rename(cols_rename, axis=1)"
   ]
  },
  {
   "cell_type": "code",
   "execution_count": 14,
   "id": "64c4cf59",
   "metadata": {
    "tags": []
   },
   "outputs": [],
   "source": [
    "features = data_num_short.drop('label', axis=1)\n",
    "labels = data_num_short['label']\n",
    "\n",
    "# Train a random forest on training data.\n",
    "model = es.RandomForestClassifier(random_state=0)\n",
    "model = model.fit(features, labels)\n",
    "\n",
    "# Train explainer\n",
    "d = dice_ml.Data(dataframe=data_num_short, continuous_features=numeric_features_num_short, outcome_name=outcome_name_num_short)\n",
    "\n",
    "\n",
    "m = dice_ml.Model(model=model, backend=\"sklearn\", model_type='classifier')\n",
    "# Generating counterfactuals from training data (kd-tree)\n",
    "exp = dice_ml.Dice(d, m, method=\"kdtree\")"
   ]
  },
  {
   "cell_type": "code",
   "execution_count": 15,
   "id": "508a451a",
   "metadata": {
    "tags": []
   },
   "outputs": [
    {
     "name": "stderr",
     "output_type": "stream",
     "text": [
      "  0%|          | 0/2 [00:00<?, ?it/s]WARNING:root: MAD for feature cigs is 0, so replacing it with 1.0 to avoid error.\n",
      " 50%|█████     | 1/2 [00:03<00:03,  3.71s/it]WARNING:root: MAD for feature cigs is 0, so replacing it with 1.0 to avoid error.\n",
      "100%|██████████| 2/2 [00:05<00:00,  2.63s/it]"
     ]
    },
    {
     "name": "stdout",
     "output_type": "stream",
     "text": [
      "Query instance (original outcome : 0)\n"
     ]
    },
    {
     "name": "stderr",
     "output_type": "stream",
     "text": [
      "\n"
     ]
    },
    {
     "data": {
      "text/html": [
       "<div>\n",
       "<style scoped>\n",
       "    .dataframe tbody tr th:only-of-type {\n",
       "        vertical-align: middle;\n",
       "    }\n",
       "\n",
       "    .dataframe tbody tr th {\n",
       "        vertical-align: top;\n",
       "    }\n",
       "\n",
       "    .dataframe thead th {\n",
       "        text-align: right;\n",
       "    }\n",
       "</style>\n",
       "<table border=\"1\" class=\"dataframe\">\n",
       "  <thead>\n",
       "    <tr style=\"text-align: right;\">\n",
       "      <th></th>\n",
       "      <th>age</th>\n",
       "      <th>cigs</th>\n",
       "      <th>chol</th>\n",
       "      <th>sys_bp</th>\n",
       "      <th>dia_bp</th>\n",
       "      <th>bmi</th>\n",
       "      <th>heart_rate</th>\n",
       "      <th>glucose</th>\n",
       "      <th>label</th>\n",
       "    </tr>\n",
       "  </thead>\n",
       "  <tbody>\n",
       "    <tr>\n",
       "      <th>0</th>\n",
       "      <td>52.0</td>\n",
       "      <td>0.0</td>\n",
       "      <td>260.0</td>\n",
       "      <td>141.5</td>\n",
       "      <td>89.0</td>\n",
       "      <td>26.36</td>\n",
       "      <td>76.0</td>\n",
       "      <td>79.0</td>\n",
       "      <td>0.0</td>\n",
       "    </tr>\n",
       "  </tbody>\n",
       "</table>\n",
       "</div>"
      ],
      "text/plain": [
       "    age  cigs   chol  sys_bp  dia_bp    bmi  heart_rate  glucose  label\n",
       "0  52.0   0.0  260.0   141.5    89.0  26.36        76.0     79.0    0.0"
      ]
     },
     "metadata": {},
     "output_type": "display_data"
    },
    {
     "name": "stdout",
     "output_type": "stream",
     "text": [
      "\n",
      "Diverse Counterfactual set (new outcome: 1.0)\n"
     ]
    },
    {
     "data": {
      "text/html": [
       "<div>\n",
       "<style scoped>\n",
       "    .dataframe tbody tr th:only-of-type {\n",
       "        vertical-align: middle;\n",
       "    }\n",
       "\n",
       "    .dataframe tbody tr th {\n",
       "        vertical-align: top;\n",
       "    }\n",
       "\n",
       "    .dataframe thead th {\n",
       "        text-align: right;\n",
       "    }\n",
       "</style>\n",
       "<table border=\"1\" class=\"dataframe\">\n",
       "  <thead>\n",
       "    <tr style=\"text-align: right;\">\n",
       "      <th></th>\n",
       "      <th>age</th>\n",
       "      <th>cigs</th>\n",
       "      <th>chol</th>\n",
       "      <th>sys_bp</th>\n",
       "      <th>dia_bp</th>\n",
       "      <th>bmi</th>\n",
       "      <th>heart_rate</th>\n",
       "      <th>glucose</th>\n",
       "      <th>label</th>\n",
       "    </tr>\n",
       "  </thead>\n",
       "  <tbody>\n",
       "    <tr>\n",
       "      <th>773</th>\n",
       "      <td>45.0</td>\n",
       "      <td>0.0</td>\n",
       "      <td>261.0</td>\n",
       "      <td>133.0</td>\n",
       "      <td>83.0</td>\n",
       "      <td>22.19</td>\n",
       "      <td>76.0</td>\n",
       "      <td>92.0</td>\n",
       "      <td>0</td>\n",
       "    </tr>\n",
       "    <tr>\n",
       "      <th>2478</th>\n",
       "      <td>59.0</td>\n",
       "      <td>0.0</td>\n",
       "      <td>260.0</td>\n",
       "      <td>145.0</td>\n",
       "      <td>92.0</td>\n",
       "      <td>27.00</td>\n",
       "      <td>68.0</td>\n",
       "      <td>79.9</td>\n",
       "      <td>0</td>\n",
       "    </tr>\n",
       "    <tr>\n",
       "      <th>3866</th>\n",
       "      <td>48.0</td>\n",
       "      <td>0.0</td>\n",
       "      <td>260.0</td>\n",
       "      <td>147.0</td>\n",
       "      <td>87.0</td>\n",
       "      <td>25.10</td>\n",
       "      <td>65.0</td>\n",
       "      <td>76.0</td>\n",
       "      <td>0</td>\n",
       "    </tr>\n",
       "    <tr>\n",
       "      <th>3303</th>\n",
       "      <td>47.0</td>\n",
       "      <td>0.0</td>\n",
       "      <td>260.0</td>\n",
       "      <td>139.0</td>\n",
       "      <td>79.0</td>\n",
       "      <td>29.34</td>\n",
       "      <td>70.0</td>\n",
       "      <td>71.0</td>\n",
       "      <td>1</td>\n",
       "    </tr>\n",
       "    <tr>\n",
       "      <th>3168</th>\n",
       "      <td>52.9</td>\n",
       "      <td>0.0</td>\n",
       "      <td>261.0</td>\n",
       "      <td>132.0</td>\n",
       "      <td>80.0</td>\n",
       "      <td>26.00</td>\n",
       "      <td>67.0</td>\n",
       "      <td>78.0</td>\n",
       "      <td>0</td>\n",
       "    </tr>\n",
       "  </tbody>\n",
       "</table>\n",
       "</div>"
      ],
      "text/plain": [
       "       age  cigs   chol  sys_bp  dia_bp    bmi  heart_rate  glucose  label\n",
       "773   45.0   0.0  261.0   133.0    83.0  22.19        76.0     92.0      0\n",
       "2478  59.0   0.0  260.0   145.0    92.0  27.00        68.0     79.9      0\n",
       "3866  48.0   0.0  260.0   147.0    87.0  25.10        65.0     76.0      0\n",
       "3303  47.0   0.0  260.0   139.0    79.0  29.34        70.0     71.0      1\n",
       "3168  52.9   0.0  261.0   132.0    80.0  26.00        67.0     78.0      0"
      ]
     },
     "metadata": {},
     "output_type": "display_data"
    },
    {
     "name": "stdout",
     "output_type": "stream",
     "text": [
      "Query instance (original outcome : 0)\n"
     ]
    },
    {
     "data": {
      "text/html": [
       "<div>\n",
       "<style scoped>\n",
       "    .dataframe tbody tr th:only-of-type {\n",
       "        vertical-align: middle;\n",
       "    }\n",
       "\n",
       "    .dataframe tbody tr th {\n",
       "        vertical-align: top;\n",
       "    }\n",
       "\n",
       "    .dataframe thead th {\n",
       "        text-align: right;\n",
       "    }\n",
       "</style>\n",
       "<table border=\"1\" class=\"dataframe\">\n",
       "  <thead>\n",
       "    <tr style=\"text-align: right;\">\n",
       "      <th></th>\n",
       "      <th>age</th>\n",
       "      <th>cigs</th>\n",
       "      <th>chol</th>\n",
       "      <th>sys_bp</th>\n",
       "      <th>dia_bp</th>\n",
       "      <th>bmi</th>\n",
       "      <th>heart_rate</th>\n",
       "      <th>glucose</th>\n",
       "      <th>label</th>\n",
       "    </tr>\n",
       "  </thead>\n",
       "  <tbody>\n",
       "    <tr>\n",
       "      <th>0</th>\n",
       "      <td>43.0</td>\n",
       "      <td>30.0</td>\n",
       "      <td>225.0</td>\n",
       "      <td>162.0</td>\n",
       "      <td>107.0</td>\n",
       "      <td>23.61</td>\n",
       "      <td>93.0</td>\n",
       "      <td>88.0</td>\n",
       "      <td>0.0</td>\n",
       "    </tr>\n",
       "  </tbody>\n",
       "</table>\n",
       "</div>"
      ],
      "text/plain": [
       "    age  cigs   chol  sys_bp  dia_bp    bmi  heart_rate  glucose  label\n",
       "0  43.0  30.0  225.0   162.0   107.0  23.61        93.0     88.0    0.0"
      ]
     },
     "metadata": {},
     "output_type": "display_data"
    },
    {
     "name": "stdout",
     "output_type": "stream",
     "text": [
      "\n",
      "Diverse Counterfactual set (new outcome: 1.0)\n"
     ]
    },
    {
     "data": {
      "text/html": [
       "<div>\n",
       "<style scoped>\n",
       "    .dataframe tbody tr th:only-of-type {\n",
       "        vertical-align: middle;\n",
       "    }\n",
       "\n",
       "    .dataframe tbody tr th {\n",
       "        vertical-align: top;\n",
       "    }\n",
       "\n",
       "    .dataframe thead th {\n",
       "        text-align: right;\n",
       "    }\n",
       "</style>\n",
       "<table border=\"1\" class=\"dataframe\">\n",
       "  <thead>\n",
       "    <tr style=\"text-align: right;\">\n",
       "      <th></th>\n",
       "      <th>age</th>\n",
       "      <th>cigs</th>\n",
       "      <th>chol</th>\n",
       "      <th>sys_bp</th>\n",
       "      <th>dia_bp</th>\n",
       "      <th>bmi</th>\n",
       "      <th>heart_rate</th>\n",
       "      <th>glucose</th>\n",
       "      <th>label</th>\n",
       "    </tr>\n",
       "  </thead>\n",
       "  <tbody>\n",
       "    <tr>\n",
       "      <th>359</th>\n",
       "      <td>51.0</td>\n",
       "      <td>30.0</td>\n",
       "      <td>226.0</td>\n",
       "      <td>171.0</td>\n",
       "      <td>112.0</td>\n",
       "      <td>25.08</td>\n",
       "      <td>93.9</td>\n",
       "      <td>88.0</td>\n",
       "      <td>1</td>\n",
       "    </tr>\n",
       "    <tr>\n",
       "      <th>882</th>\n",
       "      <td>52.0</td>\n",
       "      <td>20.0</td>\n",
       "      <td>225.0</td>\n",
       "      <td>156.0</td>\n",
       "      <td>98.0</td>\n",
       "      <td>30.93</td>\n",
       "      <td>80.0</td>\n",
       "      <td>100.0</td>\n",
       "      <td>1</td>\n",
       "    </tr>\n",
       "    <tr>\n",
       "      <th>3</th>\n",
       "      <td>61.0</td>\n",
       "      <td>30.0</td>\n",
       "      <td>225.0</td>\n",
       "      <td>150.0</td>\n",
       "      <td>95.0</td>\n",
       "      <td>28.58</td>\n",
       "      <td>65.0</td>\n",
       "      <td>103.0</td>\n",
       "      <td>1</td>\n",
       "    </tr>\n",
       "    <tr>\n",
       "      <th>1888</th>\n",
       "      <td>63.0</td>\n",
       "      <td>30.0</td>\n",
       "      <td>225.0</td>\n",
       "      <td>146.0</td>\n",
       "      <td>82.0</td>\n",
       "      <td>27.17</td>\n",
       "      <td>70.0</td>\n",
       "      <td>88.1</td>\n",
       "      <td>1</td>\n",
       "    </tr>\n",
       "    <tr>\n",
       "      <th>2977</th>\n",
       "      <td>50.0</td>\n",
       "      <td>30.0</td>\n",
       "      <td>225.0</td>\n",
       "      <td>133.5</td>\n",
       "      <td>86.0</td>\n",
       "      <td>29.38</td>\n",
       "      <td>79.0</td>\n",
       "      <td>106.0</td>\n",
       "      <td>1</td>\n",
       "    </tr>\n",
       "  </tbody>\n",
       "</table>\n",
       "</div>"
      ],
      "text/plain": [
       "       age  cigs   chol  sys_bp  dia_bp    bmi  heart_rate  glucose  label\n",
       "359   51.0  30.0  226.0   171.0   112.0  25.08        93.9     88.0      1\n",
       "882   52.0  20.0  225.0   156.0    98.0  30.93        80.0    100.0      1\n",
       "3     61.0  30.0  225.0   150.0    95.0  28.58        65.0    103.0      1\n",
       "1888  63.0  30.0  225.0   146.0    82.0  27.17        70.0     88.1      1\n",
       "2977  50.0  30.0  225.0   133.5    86.0  29.38        79.0    106.0      1"
      ]
     },
     "metadata": {},
     "output_type": "display_data"
    }
   ],
   "source": [
    "e1 = exp.generate_counterfactuals(features[8:10], total_CFs=5, desired_class=\"opposite\")\n",
    "e1.visualize_as_dataframe()"
   ]
  },
  {
   "cell_type": "markdown",
   "id": "0b86359a-c971-4bf9-bdea-ea8899525eff",
   "metadata": {},
   "source": [
    "Now we generate an example image for ICE"
   ]
  },
  {
   "cell_type": "code",
   "execution_count": 5,
   "id": "ffc86649-2660-4e15-b65c-0e147f73014b",
   "metadata": {},
   "outputs": [],
   "source": [
    "# Train a random forest model on training data.\n",
    "features = data_num.drop('heart_disease_label', axis=1)\n",
    "labels = data_num['heart_disease_label']\n",
    "\n",
    "model = es.RandomForestClassifier(random_state=0)\n",
    "model = model.fit(features, labels)"
   ]
  },
  {
   "cell_type": "code",
   "execution_count": 20,
   "id": "5265a8e9-eedf-4382-8931-a30ff18f2011",
   "metadata": {},
   "outputs": [
    {
     "data": {
      "text/plain": [
       "([<matplotlib.axis.YTick at 0x7f7eabffab50>,\n",
       "  <matplotlib.axis.YTick at 0x7f7eabffab20>,\n",
       "  <matplotlib.axis.YTick at 0x7f7eabffa880>],\n",
       " [Text(0, 0, ''), Text(0, 0, ''), Text(0, 0, '')])"
      ]
     },
     "execution_count": 20,
     "metadata": {},
     "output_type": "execute_result"
    },
    {
     "data": {
      "image/png": "[encoded data removed]",
      "text/plain": [
       "<Figure size 504x504 with 2 Axes>"
      ]
     },
     "metadata": {
      "needs_background": "light"
     },
     "output_type": "display_data"
    }
   ],
   "source": [
    "fig, ax = plt.subplots(figsize=(7, 7))\n",
    "\n",
    "display = PartialDependenceDisplay.from_estimator(\n",
    "       estimator=model, X=features, features=[0], feature_names=['age'], kind=\"individual\", subsample=20,\n",
    "       n_jobs=3, ice_lines_kw = { 'alpha' : 0.7, 'linewidth' : 3.0 }, grid_resolution=20, random_state=0, percentiles = (0.05, 0.95), ax=ax\n",
    ")\n",
    "\n",
    "plt.ylabel(\"heart disease risk\", fontsize=40)\n",
    "plt.xlabel(\"age\", fontsize=40)\n",
    "\n",
    "plt.xticks(ticks= [40, 50, 60], fontsize=35)\n",
    "plt.yticks(ticks=[0.0, 0.5, 1.0], fontsize=35)"
   ]
  },
  {
   "cell_type": "code",
   "execution_count": 11,
   "id": "d7d84b7e-9ce9-437e-a857-732163e9fd83",
   "metadata": {},
   "outputs": [],
   "source": [
    "ice_lines = partial_dependence(estimator=model, X=features.sample(20), features=[0], kind='individual')"
   ]
  },
  {
   "cell_type": "code",
   "execution_count": 16,
   "id": "0a1d8a54-4d89-4717-878b-94aa5d5798c9",
   "metadata": {
    "tags": []
   },
   "outputs": [],
   "source": [
    "for i, ice_line in enumerate(ice_lines['individual'][0]):\n",
    "    full_data = np.array([ice_lines['values'][0], ice_line]).T\n",
    "    df = pd.DataFrame(full_data, columns=['feature_values', 'predictions'])\n",
    "    df.to_csv(f'ice_lines/ice_line_{i}.csv', index=False)"
   ]
  },
  {
   "cell_type": "code",
   "execution_count": 17,
   "id": "1b281f09-56f5-4417-8e89-c6c26b28017c",
   "metadata": {},
   "outputs": [
    {
     "name": "stdout",
     "output_type": "stream",
     "text": [
      "20\n"
     ]
    }
   ],
   "source": [
    "print(len(ice_lines['individual'][0]))"
   ]
  },
  {
   "cell_type": "code",
   "execution_count": null,
   "id": "7c89343c-4fcb-46e7-aa7f-db9653430e7e",
   "metadata": {},
   "outputs": [],
   "source": []
  }
 ],
 "metadata": {
  "kernelspec": {
   "display_name": "Python 3 (ipykernel)",
   "language": "python",
   "name": "python3"
  },
  "language_info": {
   "codemirror_mode": {
    "name": "ipython",
    "version": 3
   },
   "file_extension": ".py",
   "mimetype": "text/x-python",
   "name": "python",
   "nbconvert_exporter": "python",
   "pygments_lexer": "ipython3",
   "version": "3.9.12"
  }
 },
 "nbformat": 4,
 "nbformat_minor": 5
}
