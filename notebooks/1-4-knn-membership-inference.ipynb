{
 "cells": [
  {
   "cell_type": "markdown",
   "id": "75916e17",
   "metadata": {},
   "source": [
    "# K-Nearest-Neighbors Membership Inference Experiment"
   ]
  },
  {
   "cell_type": "code",
   "execution_count": 1,
   "id": "f6661d3f",
   "metadata": {
    "tags": []
   },
   "outputs": [],
   "source": [
    "import pandas as pd\n",
    "import sklearn.ensemble as es\n",
    "from sklearn.tree import DecisionTreeClassifier\n",
    "from sklearn.neural_network import MLPClassifier\n",
    "import numpy as np\n",
    "import logging"
   ]
  },
  {
   "cell_type": "code",
   "execution_count": 2,
   "id": "d5e1de41-a5ee-4520-8060-00873915a3a8",
   "metadata": {
    "tags": []
   },
   "outputs": [],
   "source": [
    "threads = 15\n",
    "\n",
    "logging.basicConfig()\n",
    "\n",
    "logger = logging.getLogger('xai-privacy')"
   ]
  },
  {
   "cell_type": "code",
   "execution_count": 3,
   "id": "f17097ef",
   "metadata": {
    "tags": []
   },
   "outputs": [],
   "source": [
    "from experiment_setup import run_all_experiments\n",
    "from experiment_setup import get_heart_disease_dataset\n",
    "from experiment_setup import get_census_dataset"
   ]
  },
  {
   "cell_type": "code",
   "execution_count": 4,
   "id": "b77aa19b-a2fb-4a9b-95ae-0b44e584390e",
   "metadata": {
    "tags": []
   },
   "outputs": [
    {
     "name": "stdout",
     "output_type": "stream",
     "text": [
      "Feature Age: removed 0 rows for missing values.\n",
      "Feature RestingBP: removed 59 rows for missing values.\n",
      "Feature Cholesterol: removed 27 rows for missing values.\n",
      "Feature FastingBS: add unknown category 2.0\n",
      "Feature RestingECG: add unknown category 3.0\n",
      "Feature MaxHR: removed 0 rows for missing values.\n",
      "Feature Oldpeak: removed 7 rows for missing values.\n",
      "Feature ST_Slope: add unknown category 4.0\n",
      "Feature CA: add unknown category 4.0\n",
      "Feature Thal: add unknown category 8.0\n",
      "Dropped 71 of 548\n",
      "Dropped 72 of 548\n",
      "Dropped 71 of 548\n",
      "Dropped: 2399 of 32561\n",
      "census: Dropped 1256 of 15081\n",
      "num: Dropped 8827 of 15081\n",
      "cat: Dropped 4850 of 15081\n"
     ]
    }
   ],
   "source": [
    "DATASET_HALF = True\n",
    "\n",
    "data_heart_dict, data_heart_num_dict, data_heart_cat_dict = get_heart_disease_dataset(halve_dataset=DATASET_HALF)\n",
    "data_census_dict, data_census_num_dict, data_census_cat_dict = get_census_dataset(halve_dataset=DATASET_HALF)\n",
    "\n",
    "data_heart = data_heart_dict['dataset']\n",
    "outcome_name_heart = data_heart_dict['outcome']\n",
    "numeric_features_heart = data_heart_dict['num']\n",
    "\n",
    "census_num = data_census_num_dict['dataset']\n",
    "outcome_name_census = data_census_num_dict['outcome']\n",
    "numeric_features_census = data_census_num_dict['num']"
   ]
  },
  {
   "cell_type": "markdown",
   "id": "c6a61bbc",
   "metadata": {},
   "source": [
    "This notebook will go through the experiment for membership inference with KNN as an explanation. Membership inference means an attacker with access to the explanation can tell for a sample whether it was included in the training data or not.\n",
    "\n",
    "The idea for KNN membership inference is as follows: Enter the given sample and check whether the sample is returned as one of its own nearest neighbors. If it is, it is part of the training data. Otherwise it is not."
   ]
  },
  {
   "cell_type": "markdown",
   "id": "488dc98b",
   "metadata": {},
   "source": [
    "First, we have to create our own wrapper class for the default scikit-learn KNN classifier. This is necessary because the scikit-learn implementation only returns the indices of the nearest neighbors. However, in order to be useful explanation to a user, the actual feature values of the nearest neighbors need to be returned. This is done by the wrapper class."
   ]
  },
  {
   "cell_type": "code",
   "execution_count": 5,
   "id": "9dccb92a",
   "metadata": {
    "tags": []
   },
   "outputs": [],
   "source": [
    "# Attack code must be imported so that multiprocessing pool works. Check out knn_attack.py for the implementation of the attack.\n",
    "from knn_attack import KnnExplainer"
   ]
  },
  {
   "cell_type": "markdown",
   "id": "773a4d5a",
   "metadata": {},
   "source": [
    "Then, we implement the `train_explainer` and `membership_inference_attack_no_model_access` functions:"
   ]
  },
  {
   "cell_type": "code",
   "execution_count": 6,
   "id": "3a58eda4",
   "metadata": {
    "tags": []
   },
   "outputs": [],
   "source": [
    "# Attack code must be imported so that multiprocessing pool works. Check out ice_attack.py for the implementation of the attack.\n",
    "from knn_attack import KnnMembershipInference"
   ]
  },
  {
   "cell_type": "markdown",
   "id": "d2ef61e5",
   "metadata": {},
   "source": [
    "# Dataset 1: Heart Disease"
   ]
  },
  {
   "cell_type": "markdown",
   "id": "d02a2083",
   "metadata": {},
   "source": [
    "We now generate a KNN explaination for a random sample from the training data as a demonstration of the concept."
   ]
  },
  {
   "cell_type": "code",
   "execution_count": 7,
   "id": "64c4cf59",
   "metadata": {
    "tags": []
   },
   "outputs": [
    {
     "name": "stdout",
     "output_type": "stream",
     "text": [
      "Given sample: [[ 59.   0.   4. 174. 249.   0.   0. 143.   1.   0.   2.   0.   3.]]\n",
      "Model prediction: 1.0\n",
      "Nearest Neighbors: \n",
      " [[5.90e+01 0.00e+00 4.00e+00 1.74e+02 2.49e+02 0.00e+00 0.00e+00 1.43e+02\n",
      "  1.00e+00 0.00e+00 2.00e+00 0.00e+00 3.00e+00 1.00e+00]\n",
      " [7.00e+01 1.00e+00 2.00e+00 1.56e+02 2.45e+02 0.00e+00 2.00e+00 1.43e+02\n",
      "  0.00e+00 0.00e+00 1.00e+00 0.00e+00 3.00e+00 0.00e+00]\n",
      " [5.90e+01 1.00e+00 1.00e+00 1.78e+02 2.70e+02 0.00e+00 2.00e+00 1.45e+02\n",
      "  0.00e+00 4.20e+00 3.00e+00 0.00e+00 7.00e+00 0.00e+00]\n",
      " [6.90e+01 1.00e+00 1.00e+00 1.60e+02 2.34e+02 1.00e+00 2.00e+00 1.31e+02\n",
      "  0.00e+00 1.00e-01 2.00e+00 1.00e+00 3.00e+00 0.00e+00]\n",
      " [6.60e+01 1.00e+00 4.00e+00 1.60e+02 2.28e+02 0.00e+00 2.00e+00 1.38e+02\n",
      "  0.00e+00 2.30e+00 1.00e+00 0.00e+00 6.00e+00 0.00e+00]]\n"
     ]
    }
   ],
   "source": [
    "features = data_heart.drop(outcome_name_heart, axis=1)\n",
    "labels = data_heart[outcome_name_heart]\n",
    "\n",
    "# Train a random forest on training data.\n",
    "model = es.RandomForestClassifier(random_state=0)\n",
    "model = model.fit(features, labels)\n",
    "\n",
    "# Train explainer\n",
    "exp = KnnExplainer(data_heart, outcome_name_heart)\n",
    "\n",
    "given_sample = features.sample()\n",
    "print(f'Given sample: {given_sample.to_numpy()}')\n",
    "\n",
    "pred = model.predict(given_sample)\n",
    "print(f'Model prediction: {pred[0]}')\n",
    "\n",
    "neighbors = exp.explain(given_sample)\n",
    "print(f'Nearest Neighbors: \\n {neighbors.to_numpy()}')"
   ]
  },
  {
   "cell_type": "markdown",
   "id": "084cf1e0",
   "metadata": {},
   "source": [
    "We will now do a small proof of concept of the experiment with logging enabled to demonstrate how it works."
   ]
  },
  {
   "cell_type": "code",
   "execution_count": 8,
   "id": "cacf1093",
   "metadata": {
    "scrolled": true,
    "tags": []
   },
   "outputs": [
    {
     "name": "stderr",
     "output_type": "stream",
     "text": [
      "DEBUG:xai-privacy:Numeric Features: ['age', 'education_num', 'capital_gain', 'capital_loss', 'hours_per_week']\n",
      "DEBUG:xai-privacy:Categorical Features: []\n",
      "DEBUG:xai-privacy:Removed 0 test samples due to unknown category.\n",
      "DEBUG:xai-privacy:[[67  9  0  0 60  0]] taken from training data\n",
      "DEBUG:xai-privacy:[[35 10  0  0 38  0]] taken from test data\n",
      "DEBUG:xai-privacy:[[  35    9 7298    0   35    1]] taken from training data\n",
      "DEBUG:xai-privacy:[[37  8  0  0 40  0]] taken from test data\n",
      "DEBUG:xai-privacy:[[34 11  0  0 60  1]] taken from training data\n",
      "DEBUG:xai-privacy:[[54 10  0  0 50  0]] taken from test data\n",
      "DEBUG:xai-privacy:[[   60     9 15024     0    15     1]] taken from training data\n",
      "DEBUG:xai-privacy:[[22 10  0  0 60  0]] taken from test data\n",
      "DEBUG:xai-privacy:[[40  9  0  0 35  0]] taken from training data\n",
      "DEBUG:xai-privacy:[[21  8  0  0 25  0]] taken from test data\n",
      "DEBUG:xai-privacy:Checking sample 0: [67.  9.  0.  0. 60.  0.]\n",
      "DEBUG:xai-privacy:Input sample:     age  education_num  capital_gain  capital_loss  hours_per_week\n",
      "0  67.0            9.0           0.0           0.0            60.0\n",
      "DEBUG:xai-privacy:Indices: [[2539 2866 2897  214 2017]]\n",
      "DEBUG:xai-privacy:K nearest neighbors: \n",
      " [[67  9  0  0 60  0]\n",
      " [67  9  0  0 65  0]\n",
      " [64  9  0  0 65  1]\n",
      " [61 10  0  0 60  1]\n",
      " [64 11  0  0 55  0]]\n",
      "DEBUG:xai-privacy:Inferred membership: True\n",
      "DEBUG:xai-privacy:Checking sample 1: [35. 10.  0.  0. 38.  0.]\n",
      "DEBUG:xai-privacy:Input sample:     age  education_num  capital_gain  capital_loss  hours_per_week\n",
      "1  35.0           10.0           0.0           0.0            38.0\n",
      "DEBUG:xai-privacy:Indices: [[2134  262 1553 2069 1741]]\n",
      "DEBUG:xai-privacy:K nearest neighbors: \n",
      " [[36 10  0  0 38  0]\n",
      " [36  9  0  0 38  0]\n",
      " [36 10  0  0 39  0]\n",
      " [37 10  0  0 38  0]\n",
      " [33 10  0  0 38  0]]\n",
      "DEBUG:xai-privacy:Inferred membership: False\n",
      "DEBUG:xai-privacy:Checking sample 2: [3.500e+01 9.000e+00 7.298e+03 0.000e+00 3.500e+01 1.000e+00]\n",
      "DEBUG:xai-privacy:Input sample:     age  education_num  capital_gain  capital_loss  hours_per_week\n",
      "2  35.0            9.0        7298.0           0.0            35.0\n",
      "DEBUG:xai-privacy:Indices: [[1373  100 2643 2504 3027]]\n",
      "DEBUG:xai-privacy:K nearest neighbors: \n",
      " [[  35    9 7298    0   35    1]\n",
      " [  35    9 7298    0   40    1]\n",
      " [  36    9 7298    0   40    1]\n",
      " [  34   14 7298    0   35    1]\n",
      " [  36   10 7298    0   40    1]]\n",
      "DEBUG:xai-privacy:Inferred membership: True\n",
      "DEBUG:xai-privacy:Checking sample 3: [37.  8.  0.  0. 40.  0.]\n",
      "DEBUG:xai-privacy:Input sample:     age  education_num  capital_gain  capital_loss  hours_per_week\n",
      "3  37.0            8.0           0.0           0.0            40.0\n",
      "DEBUG:xai-privacy:Indices: [[1954 1814    1  354 1553]]\n",
      "DEBUG:xai-privacy:K nearest neighbors: \n",
      " [[36  8  0  0 40  0]\n",
      " [36  9  0  0 41  0]\n",
      " [37  9  0  0 38  0]\n",
      " [37  9  0  0 42  0]\n",
      " [36 10  0  0 39  0]]\n",
      "DEBUG:xai-privacy:Inferred membership: False\n",
      "DEBUG:xai-privacy:Checking sample 4: [34. 11.  0.  0. 60.  1.]\n",
      "DEBUG:xai-privacy:Input sample:     age  education_num  capital_gain  capital_loss  hours_per_week\n",
      "4  34.0           11.0           0.0           0.0            60.0\n",
      "DEBUG:xai-privacy:Indices: [[2223 3064 2679 2450  843]]\n",
      "DEBUG:xai-privacy:K nearest neighbors: \n",
      " [[34 11  0  0 60  1]\n",
      " [34 12  0  0 60  0]\n",
      " [34 10  0  0 60  0]\n",
      " [35 12  0  0 60  0]\n",
      " [34  9  0  0 60  1]]\n",
      "DEBUG:xai-privacy:Inferred membership: True\n",
      "DEBUG:xai-privacy:Checking sample 5: [54. 10.  0.  0. 50.  0.]\n",
      "DEBUG:xai-privacy:Input sample:     age  education_num  capital_gain  capital_loss  hours_per_week\n",
      "5  54.0           10.0           0.0           0.0            50.0\n",
      "DEBUG:xai-privacy:Indices: [[1657  232  229  350  941]]\n",
      "DEBUG:xai-privacy:K nearest neighbors: \n",
      " [[53 10  0  0 50  0]\n",
      " [54 11  0  0 50  0]\n",
      " [55 10  0  0 50  0]\n",
      " [56 10  0  0 50  1]\n",
      " [52  9  0  0 50  0]]\n",
      "DEBUG:xai-privacy:Inferred membership: False\n",
      "DEBUG:xai-privacy:Checking sample 6: [6.0000e+01 9.0000e+00 1.5024e+04 0.0000e+00 1.5000e+01 1.0000e+00]\n",
      "DEBUG:xai-privacy:Input sample:     age  education_num  capital_gain  capital_loss  hours_per_week\n",
      "6  60.0            9.0       15024.0           0.0            15.0\n",
      "DEBUG:xai-privacy:Indices: [[2378 2022 1918  816 2217]]\n",
      "DEBUG:xai-privacy:K nearest neighbors: \n",
      " [[   60     9 15024     0    15     1]\n",
      " [   61    10 15024     0    18     1]\n",
      " [   61    15 15024     0    20     1]\n",
      " [   55    16 15024     0    30     1]\n",
      " [   64    13 15024     0    35     1]]\n",
      "DEBUG:xai-privacy:Inferred membership: True\n",
      "DEBUG:xai-privacy:Checking sample 7: [22. 10.  0.  0. 60.  0.]\n",
      "DEBUG:xai-privacy:Input sample:     age  education_num  capital_gain  capital_loss  hours_per_week\n",
      "7  22.0           10.0           0.0           0.0            60.0\n",
      "DEBUG:xai-privacy:Indices: [[ 366 1307  807 1491 1074]]\n",
      "DEBUG:xai-privacy:K nearest neighbors: \n",
      " [[21 10  0  0 60  0]\n",
      " [23 11  0  0 60  0]\n",
      " [23  9  0  0 60  0]\n",
      " [24 10  0  0 60  0]\n",
      " [20  9  0  0 60  0]]\n",
      "DEBUG:xai-privacy:Inferred membership: False\n",
      "DEBUG:xai-privacy:Checking sample 8: [40.  9.  0.  0. 35.  0.]\n",
      "DEBUG:xai-privacy:Input sample:     age  education_num  capital_gain  capital_loss  hours_per_week\n",
      "8  40.0            9.0           0.0           0.0            35.0\n",
      "DEBUG:xai-privacy:Indices: [[ 151   91 1225 2682  626]]\n",
      "DEBUG:xai-privacy:K nearest neighbors: \n",
      " [[40  9  0  0 35  0]\n",
      " [40  9  0  0 36  0]\n",
      " [41  9  0  0 35  0]\n",
      " [41 10  0  0 35  1]\n",
      " [41  9  0  0 36  0]]\n",
      "DEBUG:xai-privacy:Inferred membership: True\n",
      "DEBUG:xai-privacy:Checking sample 9: [21.  8.  0.  0. 25.  0.]\n",
      "DEBUG:xai-privacy:Input sample:     age  education_num  capital_gain  capital_loss  hours_per_week\n",
      "9  21.0            8.0           0.0           0.0            25.0\n",
      "DEBUG:xai-privacy:Indices: [[2331  406 2853   36 2668]]\n",
      "DEBUG:xai-privacy:K nearest neighbors: \n",
      " [[22  9  0  0 24  0]\n",
      " [20  9  0  0 24  0]\n",
      " [19  8  0  0 25  0]\n",
      " [23  9  0  0 24  0]\n",
      " [20 10  0  0 26  0]]\n",
      "DEBUG:xai-privacy:Inferred membership: False\n"
     ]
    },
    {
     "name": "stdout",
     "output_type": "stream",
     "text": [
      "Total time: 0.30s (training model: 0.03s, training explainer: 0.02s, experiment: 0.25s)\n",
      "Accuracy: 1.0, precision: 1.0, recall: 1.0\n"
     ]
    }
   ],
   "source": [
    "logger.setLevel(logging.DEBUG)\n",
    "\n",
    "EXP = KnnMembershipInference(census_num, numeric_features_census, outcome_name_census, random_state=0)\n",
    "EXP.membership_inference_experiment(num_queries=10, model=DecisionTreeClassifier(random_state=0), model_access=False, threads=1)\n",
    "\n",
    "logger.setLevel(logging.INFO)"
   ]
  },
  {
   "cell_type": "markdown",
   "id": "1ce9ba36",
   "metadata": {},
   "source": [
    "The proof of concept should show that the membership inference function predicts membership very accurately."
   ]
  },
  {
   "cell_type": "markdown",
   "id": "3d8971c1",
   "metadata": {},
   "source": [
    "Now we begin executing the actual experiment. We begin by defining the table that will hold the results for all our different experiment variations. Then we execute all variations of the experiment for this dataset. We vary the model between a decision tree, a random forest and a neural network. Each model uses the default configuration of scikit-learn."
   ]
  },
  {
   "cell_type": "code",
   "execution_count": 9,
   "id": "f3f11f2c-e5e5-4d5f-b4e8-0c2a53bf5528",
   "metadata": {},
   "outputs": [],
   "source": [
    "dataset_dicts = [data_heart_dict, data_heart_num_dict, data_heart_cat_dict, data_census_dict, data_census_num_dict, data_census_cat_dict]\n",
    "\n",
    "dt_dict = {'name': 'decision tree', 'model': DecisionTreeClassifier}\n",
    "rf_dict = {'name': 'random forest', 'model': es.RandomForestClassifier}\n",
    "nn_dict = {'name': 'neural network', 'model': MLPClassifier}\n",
    "\n",
    "model_dicts = [dt_dict, rf_dict, nn_dict]"
   ]
  },
  {
   "cell_type": "code",
   "execution_count": 10,
   "id": "1c8661dd-d019-4034-9a0b-15365aee7065",
   "metadata": {
    "scrolled": false
   },
   "outputs": [
    {
     "name": "stdout",
     "output_type": "stream",
     "text": [
      "dataset: heart, model: decision tree (repetition 0)\n",
      "Total time: 6.42s (training model: 0.03s, training explainer: 0.02s, experiment: 6.37s)\n",
      "Accuracy: 1.0, precision: 1.0, recall: 1.0\n",
      "dataset: heart, model: decision tree (repetition 1)\n",
      "Total time: 6.25s (training model: 0.02s, training explainer: 0.00s, experiment: 6.24s)\n",
      "Accuracy: 1.0, precision: 1.0, recall: 1.0\n",
      "dataset: heart, model: decision tree (repetition 2)\n",
      "Total time: 5.99s (training model: 0.02s, training explainer: 0.00s, experiment: 5.98s)\n",
      "Accuracy: 1.0, precision: 1.0, recall: 1.0\n",
      "dataset: heart, model: decision tree (repetition 3)\n",
      "Total time: 5.94s (training model: 0.02s, training explainer: 0.00s, experiment: 5.93s)\n",
      "Accuracy: 1.0, precision: 1.0, recall: 1.0\n",
      "dataset: heart, model: decision tree (repetition 4)\n",
      "Total time: 6.64s (training model: 0.02s, training explainer: 0.00s, experiment: 6.62s)\n",
      "Accuracy: 1.0, precision: 1.0, recall: 1.0\n",
      "dataset: heart, model: decision tree (repetition 5)\n",
      "Total time: 5.66s (training model: 0.03s, training explainer: 0.00s, experiment: 5.63s)\n",
      "Accuracy: 1.0, precision: 1.0, recall: 1.0\n",
      "dataset: heart, model: decision tree (repetition 6)\n",
      "Total time: 5.28s (training model: 0.01s, training explainer: 0.01s, experiment: 5.26s)\n",
      "Accuracy: 1.0, precision: 1.0, recall: 1.0\n",
      "dataset: heart, model: decision tree (repetition 7)\n",
      "Total time: 5.51s (training model: 0.03s, training explainer: 0.00s, experiment: 5.49s)\n",
      "Accuracy: 1.0, precision: 1.0, recall: 1.0\n",
      "dataset: heart, model: decision tree (repetition 8)\n",
      "Total time: 6.26s (training model: 0.03s, training explainer: 0.00s, experiment: 6.23s)\n",
      "Accuracy: 1.0, precision: 1.0, recall: 1.0\n",
      "dataset: heart, model: decision tree (repetition 9)\n",
      "Total time: 5.84s (training model: 0.03s, training explainer: 0.00s, experiment: 5.80s)\n",
      "Accuracy: 1.0, precision: 1.0, recall: 1.0\n",
      "dataset: heart, model: random forest (repetition 0)\n",
      "Total time: 5.94s (training model: 0.18s, training explainer: 0.00s, experiment: 5.76s)\n",
      "Accuracy: 1.0, precision: 1.0, recall: 1.0\n",
      "dataset: heart, model: random forest (repetition 1)\n",
      "Total time: 7.68s (training model: 0.23s, training explainer: 0.00s, experiment: 7.44s)\n",
      "Accuracy: 1.0, precision: 1.0, recall: 1.0\n",
      "dataset: heart, model: random forest (repetition 2)\n",
      "Total time: 6.03s (training model: 0.16s, training explainer: 0.00s, experiment: 5.87s)\n",
      "Accuracy: 1.0, precision: 1.0, recall: 1.0\n",
      "dataset: heart, model: random forest (repetition 3)\n",
      "Total time: 5.07s (training model: 0.17s, training explainer: 0.02s, experiment: 4.88s)\n",
      "Accuracy: 1.0, precision: 1.0, recall: 1.0\n",
      "dataset: heart, model: random forest (repetition 4)\n",
      "Total time: 4.90s (training model: 0.14s, training explainer: 0.00s, experiment: 4.75s)\n",
      "Accuracy: 1.0, precision: 1.0, recall: 1.0\n",
      "dataset: heart, model: random forest (repetition 5)\n",
      "Total time: 4.74s (training model: 0.25s, training explainer: 0.00s, experiment: 4.48s)\n",
      "Accuracy: 1.0, precision: 1.0, recall: 1.0\n",
      "dataset: heart, model: random forest (repetition 6)\n",
      "Total time: 4.67s (training model: 0.21s, training explainer: 0.01s, experiment: 4.45s)\n",
      "Accuracy: 1.0, precision: 1.0, recall: 1.0\n",
      "dataset: heart, model: random forest (repetition 7)\n",
      "Total time: 4.76s (training model: 0.25s, training explainer: 0.00s, experiment: 4.51s)\n",
      "Accuracy: 1.0, precision: 1.0, recall: 1.0\n",
      "dataset: heart, model: random forest (repetition 8)\n",
      "Total time: 4.30s (training model: 0.16s, training explainer: 0.00s, experiment: 4.14s)\n",
      "Accuracy: 1.0, precision: 1.0, recall: 1.0\n",
      "dataset: heart, model: random forest (repetition 9)\n",
      "Total time: 4.72s (training model: 0.13s, training explainer: 0.02s, experiment: 4.58s)\n",
      "Accuracy: 1.0, precision: 1.0, recall: 1.0\n",
      "dataset: heart, model: neural network (repetition 0)\n"
     ]
    },
    {
     "name": "stderr",
     "output_type": "stream",
     "text": [
      "c:\\users\\ml_ks\\venvs\\xai_new\\lib\\site-packages\\sklearn\\neural_network\\_multilayer_perceptron.py:702: ConvergenceWarning: Stochastic Optimizer: Maximum iterations (200) reached and the optimization hasn't converged yet.\n",
      "  warnings.warn(\n"
     ]
    },
    {
     "name": "stdout",
     "output_type": "stream",
     "text": [
      "Total time: 4.52s (training model: 0.65s, training explainer: 0.00s, experiment: 3.88s)\n",
      "Accuracy: 1.0, precision: 1.0, recall: 1.0\n",
      "dataset: heart, model: neural network (repetition 1)\n"
     ]
    },
    {
     "name": "stderr",
     "output_type": "stream",
     "text": [
      "c:\\users\\ml_ks\\venvs\\xai_new\\lib\\site-packages\\sklearn\\neural_network\\_multilayer_perceptron.py:702: ConvergenceWarning: Stochastic Optimizer: Maximum iterations (200) reached and the optimization hasn't converged yet.\n",
      "  warnings.warn(\n"
     ]
    },
    {
     "name": "stdout",
     "output_type": "stream",
     "text": [
      "Total time: 4.72s (training model: 0.70s, training explainer: 0.00s, experiment: 4.01s)\n",
      "Accuracy: 1.0, precision: 1.0, recall: 1.0\n",
      "dataset: heart, model: neural network (repetition 2)\n"
     ]
    },
    {
     "name": "stderr",
     "output_type": "stream",
     "text": [
      "c:\\users\\ml_ks\\venvs\\xai_new\\lib\\site-packages\\sklearn\\neural_network\\_multilayer_perceptron.py:702: ConvergenceWarning: Stochastic Optimizer: Maximum iterations (200) reached and the optimization hasn't converged yet.\n",
      "  warnings.warn(\n"
     ]
    },
    {
     "name": "stdout",
     "output_type": "stream",
     "text": [
      "Total time: 4.80s (training model: 0.71s, training explainer: 0.00s, experiment: 4.09s)\n",
      "Accuracy: 1.0, precision: 1.0, recall: 1.0\n",
      "dataset: heart, model: neural network (repetition 3)\n"
     ]
    },
    {
     "name": "stderr",
     "output_type": "stream",
     "text": [
      "c:\\users\\ml_ks\\venvs\\xai_new\\lib\\site-packages\\sklearn\\neural_network\\_multilayer_perceptron.py:702: ConvergenceWarning: Stochastic Optimizer: Maximum iterations (200) reached and the optimization hasn't converged yet.\n",
      "  warnings.warn(\n"
     ]
    },
    {
     "name": "stdout",
     "output_type": "stream",
     "text": [
      "Total time: 4.79s (training model: 0.71s, training explainer: 0.00s, experiment: 4.08s)\n",
      "Accuracy: 1.0, precision: 1.0, recall: 1.0\n",
      "dataset: heart, model: neural network (repetition 4)\n"
     ]
    },
    {
     "name": "stderr",
     "output_type": "stream",
     "text": [
      "c:\\users\\ml_ks\\venvs\\xai_new\\lib\\site-packages\\sklearn\\neural_network\\_multilayer_perceptron.py:702: ConvergenceWarning: Stochastic Optimizer: Maximum iterations (200) reached and the optimization hasn't converged yet.\n",
      "  warnings.warn(\n"
     ]
    },
    {
     "name": "stdout",
     "output_type": "stream",
     "text": [
      "Total time: 4.86s (training model: 0.70s, training explainer: 0.00s, experiment: 4.16s)\n",
      "Accuracy: 1.0, precision: 1.0, recall: 1.0\n",
      "dataset: heart, model: neural network (repetition 5)\n"
     ]
    },
    {
     "name": "stderr",
     "output_type": "stream",
     "text": [
      "c:\\users\\ml_ks\\venvs\\xai_new\\lib\\site-packages\\sklearn\\neural_network\\_multilayer_perceptron.py:702: ConvergenceWarning: Stochastic Optimizer: Maximum iterations (200) reached and the optimization hasn't converged yet.\n",
      "  warnings.warn(\n"
     ]
    },
    {
     "name": "stdout",
     "output_type": "stream",
     "text": [
      "Total time: 4.85s (training model: 0.71s, training explainer: 0.00s, experiment: 4.14s)\n",
      "Accuracy: 1.0, precision: 1.0, recall: 1.0\n",
      "dataset: heart, model: neural network (repetition 6)\n"
     ]
    },
    {
     "name": "stderr",
     "output_type": "stream",
     "text": [
      "c:\\users\\ml_ks\\venvs\\xai_new\\lib\\site-packages\\sklearn\\neural_network\\_multilayer_perceptron.py:702: ConvergenceWarning: Stochastic Optimizer: Maximum iterations (200) reached and the optimization hasn't converged yet.\n",
      "  warnings.warn(\n"
     ]
    },
    {
     "name": "stdout",
     "output_type": "stream",
     "text": [
      "Total time: 5.07s (training model: 0.72s, training explainer: 0.00s, experiment: 4.35s)\n",
      "Accuracy: 1.0, precision: 1.0, recall: 1.0\n",
      "dataset: heart, model: neural network (repetition 7)\n"
     ]
    },
    {
     "name": "stderr",
     "output_type": "stream",
     "text": [
      "c:\\users\\ml_ks\\venvs\\xai_new\\lib\\site-packages\\sklearn\\neural_network\\_multilayer_perceptron.py:702: ConvergenceWarning: Stochastic Optimizer: Maximum iterations (200) reached and the optimization hasn't converged yet.\n",
      "  warnings.warn(\n"
     ]
    },
    {
     "name": "stdout",
     "output_type": "stream",
     "text": [
      "Total time: 4.82s (training model: 0.72s, training explainer: 0.00s, experiment: 4.10s)\n",
      "Accuracy: 1.0, precision: 1.0, recall: 1.0\n",
      "dataset: heart, model: neural network (repetition 8)\n"
     ]
    },
    {
     "name": "stderr",
     "output_type": "stream",
     "text": [
      "c:\\users\\ml_ks\\venvs\\xai_new\\lib\\site-packages\\sklearn\\neural_network\\_multilayer_perceptron.py:702: ConvergenceWarning: Stochastic Optimizer: Maximum iterations (200) reached and the optimization hasn't converged yet.\n",
      "  warnings.warn(\n"
     ]
    },
    {
     "name": "stdout",
     "output_type": "stream",
     "text": [
      "Total time: 4.80s (training model: 0.71s, training explainer: 0.00s, experiment: 4.08s)\n",
      "Accuracy: 1.0, precision: 1.0, recall: 1.0\n",
      "dataset: heart, model: neural network (repetition 9)\n"
     ]
    },
    {
     "name": "stderr",
     "output_type": "stream",
     "text": [
      "c:\\users\\ml_ks\\venvs\\xai_new\\lib\\site-packages\\sklearn\\neural_network\\_multilayer_perceptron.py:702: ConvergenceWarning: Stochastic Optimizer: Maximum iterations (200) reached and the optimization hasn't converged yet.\n",
      "  warnings.warn(\n"
     ]
    },
    {
     "name": "stdout",
     "output_type": "stream",
     "text": [
      "Total time: 4.78s (training model: 0.66s, training explainer: 0.00s, experiment: 4.13s)\n",
      "Accuracy: 1.0, precision: 1.0, recall: 1.0\n",
      "dataset: heart numeric, model: decision tree (repetition 0)\n",
      "Total time: 3.51s (training model: 0.01s, training explainer: 0.00s, experiment: 3.50s)\n",
      "Accuracy: 1.0, precision: 1.0, recall: 1.0\n",
      "dataset: heart numeric, model: decision tree (repetition 1)\n",
      "Total time: 3.70s (training model: 0.02s, training explainer: 0.00s, experiment: 3.68s)\n",
      "Accuracy: 1.0, precision: 1.0, recall: 1.0\n",
      "dataset: heart numeric, model: decision tree (repetition 2)\n",
      "Total time: 3.55s (training model: 0.00s, training explainer: 0.02s, experiment: 3.53s)\n",
      "Accuracy: 1.0, precision: 1.0, recall: 1.0\n",
      "dataset: heart numeric, model: decision tree (repetition 3)\n",
      "Total time: 3.55s (training model: 0.00s, training explainer: 0.02s, experiment: 3.53s)\n",
      "Accuracy: 1.0, precision: 1.0, recall: 1.0\n",
      "dataset: heart numeric, model: decision tree (repetition 4)\n",
      "Total time: 3.75s (training model: 0.00s, training explainer: 0.00s, experiment: 3.75s)\n",
      "Accuracy: 1.0, precision: 1.0, recall: 1.0\n",
      "dataset: heart numeric, model: decision tree (repetition 5)\n",
      "Total time: 3.84s (training model: 0.02s, training explainer: 0.00s, experiment: 3.82s)\n",
      "Accuracy: 1.0, precision: 1.0, recall: 1.0\n",
      "dataset: heart numeric, model: decision tree (repetition 6)\n",
      "Total time: 3.74s (training model: 0.00s, training explainer: 0.00s, experiment: 3.74s)\n",
      "Accuracy: 1.0, precision: 1.0, recall: 1.0\n",
      "dataset: heart numeric, model: decision tree (repetition 7)\n",
      "Total time: 3.84s (training model: 0.02s, training explainer: 0.00s, experiment: 3.83s)\n",
      "Accuracy: 1.0, precision: 1.0, recall: 1.0\n",
      "dataset: heart numeric, model: decision tree (repetition 8)\n",
      "Total time: 3.98s (training model: 0.01s, training explainer: 0.00s, experiment: 3.97s)\n",
      "Accuracy: 1.0, precision: 1.0, recall: 1.0\n",
      "dataset: heart numeric, model: decision tree (repetition 9)\n",
      "Total time: 3.82s (training model: 0.01s, training explainer: 0.00s, experiment: 3.81s)\n",
      "Accuracy: 1.0, precision: 1.0, recall: 1.0\n",
      "dataset: heart numeric, model: random forest (repetition 0)\n",
      "Total time: 3.80s (training model: 0.17s, training explainer: 0.00s, experiment: 3.63s)\n",
      "Accuracy: 1.0, precision: 1.0, recall: 1.0\n",
      "dataset: heart numeric, model: random forest (repetition 1)\n",
      "Total time: 3.71s (training model: 0.14s, training explainer: 0.00s, experiment: 3.58s)\n",
      "Accuracy: 1.0, precision: 1.0, recall: 1.0\n",
      "dataset: heart numeric, model: random forest (repetition 2)\n",
      "Total time: 3.84s (training model: 0.16s, training explainer: 0.00s, experiment: 3.68s)\n",
      "Accuracy: 1.0, precision: 1.0, recall: 1.0\n",
      "dataset: heart numeric, model: random forest (repetition 3)\n",
      "Total time: 3.83s (training model: 0.21s, training explainer: 0.00s, experiment: 3.62s)\n",
      "Accuracy: 1.0, precision: 1.0, recall: 1.0\n",
      "dataset: heart numeric, model: random forest (repetition 4)\n",
      "Total time: 3.85s (training model: 0.17s, training explainer: 0.02s, experiment: 3.66s)\n",
      "Accuracy: 1.0, precision: 1.0, recall: 1.0\n",
      "dataset: heart numeric, model: random forest (repetition 5)\n",
      "Total time: 3.78s (training model: 0.13s, training explainer: 0.00s, experiment: 3.66s)\n",
      "Accuracy: 1.0, precision: 1.0, recall: 1.0\n",
      "dataset: heart numeric, model: random forest (repetition 6)\n",
      "Total time: 4.06s (training model: 0.19s, training explainer: 0.00s, experiment: 3.87s)\n",
      "Accuracy: 1.0, precision: 1.0, recall: 1.0\n",
      "dataset: heart numeric, model: random forest (repetition 7)\n",
      "Total time: 4.20s (training model: 0.21s, training explainer: 0.00s, experiment: 3.98s)\n",
      "Accuracy: 1.0, precision: 1.0, recall: 1.0\n",
      "dataset: heart numeric, model: random forest (repetition 8)\n",
      "Total time: 4.09s (training model: 0.22s, training explainer: 0.00s, experiment: 3.87s)\n",
      "Accuracy: 1.0, precision: 1.0, recall: 1.0\n",
      "dataset: heart numeric, model: random forest (repetition 9)\n",
      "Total time: 4.08s (training model: 0.19s, training explainer: 0.00s, experiment: 3.89s)\n",
      "Accuracy: 1.0, precision: 1.0, recall: 1.0\n",
      "dataset: heart numeric, model: neural network (repetition 0)\n"
     ]
    },
    {
     "name": "stderr",
     "output_type": "stream",
     "text": [
      "c:\\users\\ml_ks\\venvs\\xai_new\\lib\\site-packages\\sklearn\\neural_network\\_multilayer_perceptron.py:702: ConvergenceWarning: Stochastic Optimizer: Maximum iterations (200) reached and the optimization hasn't converged yet.\n",
      "  warnings.warn(\n"
     ]
    },
    {
     "name": "stdout",
     "output_type": "stream",
     "text": [
      "Total time: 4.53s (training model: 0.56s, training explainer: 0.00s, experiment: 3.98s)\n",
      "Accuracy: 1.0, precision: 1.0, recall: 1.0\n",
      "dataset: heart numeric, model: neural network (repetition 1)\n"
     ]
    },
    {
     "name": "stderr",
     "output_type": "stream",
     "text": [
      "c:\\users\\ml_ks\\venvs\\xai_new\\lib\\site-packages\\sklearn\\neural_network\\_multilayer_perceptron.py:702: ConvergenceWarning: Stochastic Optimizer: Maximum iterations (200) reached and the optimization hasn't converged yet.\n",
      "  warnings.warn(\n"
     ]
    },
    {
     "name": "stdout",
     "output_type": "stream",
     "text": [
      "Total time: 4.64s (training model: 0.57s, training explainer: 0.00s, experiment: 4.07s)\n",
      "Accuracy: 1.0, precision: 1.0, recall: 1.0\n",
      "dataset: heart numeric, model: neural network (repetition 2)\n"
     ]
    },
    {
     "name": "stderr",
     "output_type": "stream",
     "text": [
      "c:\\users\\ml_ks\\venvs\\xai_new\\lib\\site-packages\\sklearn\\neural_network\\_multilayer_perceptron.py:702: ConvergenceWarning: Stochastic Optimizer: Maximum iterations (200) reached and the optimization hasn't converged yet.\n",
      "  warnings.warn(\n"
     ]
    },
    {
     "name": "stdout",
     "output_type": "stream",
     "text": [
      "Total time: 4.56s (training model: 0.54s, training explainer: 0.00s, experiment: 4.02s)\n",
      "Accuracy: 1.0, precision: 1.0, recall: 1.0\n",
      "dataset: heart numeric, model: neural network (repetition 3)\n"
     ]
    },
    {
     "name": "stderr",
     "output_type": "stream",
     "text": [
      "c:\\users\\ml_ks\\venvs\\xai_new\\lib\\site-packages\\sklearn\\neural_network\\_multilayer_perceptron.py:702: ConvergenceWarning: Stochastic Optimizer: Maximum iterations (200) reached and the optimization hasn't converged yet.\n",
      "  warnings.warn(\n"
     ]
    },
    {
     "name": "stdout",
     "output_type": "stream",
     "text": [
      "Total time: 4.43s (training model: 0.58s, training explainer: 0.00s, experiment: 3.85s)\n",
      "Accuracy: 1.0, precision: 1.0, recall: 1.0\n",
      "dataset: heart numeric, model: neural network (repetition 4)\n"
     ]
    },
    {
     "name": "stderr",
     "output_type": "stream",
     "text": [
      "c:\\users\\ml_ks\\venvs\\xai_new\\lib\\site-packages\\sklearn\\neural_network\\_multilayer_perceptron.py:702: ConvergenceWarning: Stochastic Optimizer: Maximum iterations (200) reached and the optimization hasn't converged yet.\n",
      "  warnings.warn(\n"
     ]
    },
    {
     "name": "stdout",
     "output_type": "stream",
     "text": [
      "Total time: 4.34s (training model: 0.53s, training explainer: 0.00s, experiment: 3.81s)\n",
      "Accuracy: 1.0, precision: 1.0, recall: 1.0\n",
      "dataset: heart numeric, model: neural network (repetition 5)\n"
     ]
    },
    {
     "name": "stderr",
     "output_type": "stream",
     "text": [
      "c:\\users\\ml_ks\\venvs\\xai_new\\lib\\site-packages\\sklearn\\neural_network\\_multilayer_perceptron.py:702: ConvergenceWarning: Stochastic Optimizer: Maximum iterations (200) reached and the optimization hasn't converged yet.\n",
      "  warnings.warn(\n"
     ]
    },
    {
     "name": "stdout",
     "output_type": "stream",
     "text": [
      "Total time: 4.42s (training model: 0.56s, training explainer: 0.02s, experiment: 3.84s)\n",
      "Accuracy: 1.0, precision: 1.0, recall: 1.0\n",
      "dataset: heart numeric, model: neural network (repetition 6)\n"
     ]
    },
    {
     "name": "stderr",
     "output_type": "stream",
     "text": [
      "c:\\users\\ml_ks\\venvs\\xai_new\\lib\\site-packages\\sklearn\\neural_network\\_multilayer_perceptron.py:702: ConvergenceWarning: Stochastic Optimizer: Maximum iterations (200) reached and the optimization hasn't converged yet.\n",
      "  warnings.warn(\n"
     ]
    },
    {
     "name": "stdout",
     "output_type": "stream",
     "text": [
      "Total time: 4.53s (training model: 0.57s, training explainer: 0.00s, experiment: 3.96s)\n",
      "Accuracy: 1.0, precision: 1.0, recall: 1.0\n",
      "dataset: heart numeric, model: neural network (repetition 7)\n"
     ]
    },
    {
     "name": "stderr",
     "output_type": "stream",
     "text": [
      "c:\\users\\ml_ks\\venvs\\xai_new\\lib\\site-packages\\sklearn\\neural_network\\_multilayer_perceptron.py:702: ConvergenceWarning: Stochastic Optimizer: Maximum iterations (200) reached and the optimization hasn't converged yet.\n",
      "  warnings.warn(\n"
     ]
    },
    {
     "name": "stdout",
     "output_type": "stream",
     "text": [
      "Total time: 4.30s (training model: 0.50s, training explainer: 0.00s, experiment: 3.80s)\n",
      "Accuracy: 1.0, precision: 1.0, recall: 1.0\n",
      "dataset: heart numeric, model: neural network (repetition 8)\n"
     ]
    },
    {
     "name": "stderr",
     "output_type": "stream",
     "text": [
      "c:\\users\\ml_ks\\venvs\\xai_new\\lib\\site-packages\\sklearn\\neural_network\\_multilayer_perceptron.py:702: ConvergenceWarning: Stochastic Optimizer: Maximum iterations (200) reached and the optimization hasn't converged yet.\n",
      "  warnings.warn(\n"
     ]
    },
    {
     "name": "stdout",
     "output_type": "stream",
     "text": [
      "Total time: 4.05s (training model: 0.50s, training explainer: 0.00s, experiment: 3.55s)\n",
      "Accuracy: 1.0, precision: 1.0, recall: 1.0\n",
      "dataset: heart numeric, model: neural network (repetition 9)\n"
     ]
    },
    {
     "name": "stderr",
     "output_type": "stream",
     "text": [
      "c:\\users\\ml_ks\\venvs\\xai_new\\lib\\site-packages\\sklearn\\neural_network\\_multilayer_perceptron.py:702: ConvergenceWarning: Stochastic Optimizer: Maximum iterations (200) reached and the optimization hasn't converged yet.\n",
      "  warnings.warn(\n"
     ]
    },
    {
     "name": "stdout",
     "output_type": "stream",
     "text": [
      "Total time: 4.17s (training model: 0.47s, training explainer: 0.00s, experiment: 3.70s)\n",
      "Accuracy: 1.0, precision: 1.0, recall: 1.0\n",
      "dataset: heart categorical, model: decision tree (repetition 0)\n",
      "Total time: 4.23s (training model: 0.05s, training explainer: 0.01s, experiment: 4.17s)\n",
      "Accuracy: 1.0, precision: 1.0, recall: 1.0\n",
      "dataset: heart categorical, model: decision tree (repetition 1)\n",
      "Total time: 4.09s (training model: 0.01s, training explainer: 0.00s, experiment: 4.08s)\n",
      "Accuracy: 1.0, precision: 1.0, recall: 1.0\n",
      "dataset: heart categorical, model: decision tree (repetition 2)\n",
      "Total time: 4.00s (training model: 0.02s, training explainer: 0.00s, experiment: 3.99s)\n",
      "Accuracy: 1.0, precision: 1.0, recall: 1.0\n",
      "dataset: heart categorical, model: decision tree (repetition 3)\n",
      "Total time: 4.03s (training model: 0.00s, training explainer: 0.01s, experiment: 4.02s)\n",
      "Accuracy: 1.0, precision: 1.0, recall: 1.0\n",
      "dataset: heart categorical, model: decision tree (repetition 4)\n",
      "Total time: 3.86s (training model: 0.00s, training explainer: 0.00s, experiment: 3.86s)\n",
      "Accuracy: 1.0, precision: 1.0, recall: 1.0\n",
      "dataset: heart categorical, model: decision tree (repetition 5)\n",
      "Total time: 3.79s (training model: 0.01s, training explainer: 0.00s, experiment: 3.77s)\n",
      "Accuracy: 1.0, precision: 1.0, recall: 1.0\n",
      "dataset: heart categorical, model: decision tree (repetition 6)\n",
      "Total time: 3.90s (training model: 0.02s, training explainer: 0.00s, experiment: 3.89s)\n",
      "Accuracy: 1.0, precision: 1.0, recall: 1.0\n",
      "dataset: heart categorical, model: decision tree (repetition 7)\n",
      "Total time: 3.89s (training model: 0.02s, training explainer: 0.00s, experiment: 3.87s)\n",
      "Accuracy: 1.0, precision: 1.0, recall: 1.0\n",
      "dataset: heart categorical, model: decision tree (repetition 8)\n",
      "Total time: 3.99s (training model: 0.01s, training explainer: 0.00s, experiment: 3.98s)\n",
      "Accuracy: 1.0, precision: 1.0, recall: 1.0\n",
      "dataset: heart categorical, model: decision tree (repetition 9)\n",
      "Total time: 4.06s (training model: 0.02s, training explainer: 0.00s, experiment: 4.04s)\n",
      "Accuracy: 1.0, precision: 1.0, recall: 1.0\n",
      "dataset: heart categorical, model: random forest (repetition 0)\n",
      "Total time: 4.19s (training model: 0.22s, training explainer: 0.00s, experiment: 3.96s)\n",
      "Accuracy: 1.0, precision: 1.0, recall: 1.0\n",
      "dataset: heart categorical, model: random forest (repetition 1)\n",
      "Total time: 4.21s (training model: 0.20s, training explainer: 0.00s, experiment: 4.01s)\n",
      "Accuracy: 1.0, precision: 1.0, recall: 1.0\n",
      "dataset: heart categorical, model: random forest (repetition 2)\n",
      "Total time: 4.19s (training model: 0.15s, training explainer: 0.00s, experiment: 4.04s)\n",
      "Accuracy: 1.0, precision: 1.0, recall: 1.0\n",
      "dataset: heart categorical, model: random forest (repetition 3)\n",
      "Total time: 4.26s (training model: 0.19s, training explainer: 0.00s, experiment: 4.07s)\n",
      "Accuracy: 1.0, precision: 1.0, recall: 1.0\n",
      "dataset: heart categorical, model: random forest (repetition 4)\n",
      "Total time: 4.27s (training model: 0.20s, training explainer: 0.00s, experiment: 4.06s)\n",
      "Accuracy: 1.0, precision: 1.0, recall: 1.0\n",
      "dataset: heart categorical, model: random forest (repetition 5)\n",
      "Total time: 4.05s (training model: 0.16s, training explainer: 0.00s, experiment: 3.89s)\n",
      "Accuracy: 1.0, precision: 1.0, recall: 1.0\n",
      "dataset: heart categorical, model: random forest (repetition 6)\n",
      "Total time: 4.17s (training model: 0.17s, training explainer: 0.00s, experiment: 4.00s)\n",
      "Accuracy: 1.0, precision: 1.0, recall: 1.0\n",
      "dataset: heart categorical, model: random forest (repetition 7)\n",
      "Total time: 4.22s (training model: 0.20s, training explainer: 0.02s, experiment: 4.01s)\n",
      "Accuracy: 1.0, precision: 1.0, recall: 1.0\n",
      "dataset: heart categorical, model: random forest (repetition 8)\n",
      "Total time: 4.07s (training model: 0.20s, training explainer: 0.00s, experiment: 3.87s)\n",
      "Accuracy: 1.0, precision: 1.0, recall: 1.0\n",
      "dataset: heart categorical, model: random forest (repetition 9)\n",
      "Total time: 4.14s (training model: 0.19s, training explainer: 0.00s, experiment: 3.95s)\n",
      "Accuracy: 1.0, precision: 1.0, recall: 1.0\n",
      "dataset: heart categorical, model: neural network (repetition 0)\n"
     ]
    },
    {
     "name": "stderr",
     "output_type": "stream",
     "text": [
      "c:\\users\\ml_ks\\venvs\\xai_new\\lib\\site-packages\\sklearn\\neural_network\\_multilayer_perceptron.py:702: ConvergenceWarning: Stochastic Optimizer: Maximum iterations (200) reached and the optimization hasn't converged yet.\n",
      "  warnings.warn(\n"
     ]
    },
    {
     "name": "stdout",
     "output_type": "stream",
     "text": [
      "Total time: 4.69s (training model: 0.72s, training explainer: 0.00s, experiment: 3.97s)\n",
      "Accuracy: 1.0, precision: 1.0, recall: 1.0\n",
      "dataset: heart categorical, model: neural network (repetition 1)\n"
     ]
    },
    {
     "name": "stderr",
     "output_type": "stream",
     "text": [
      "c:\\users\\ml_ks\\venvs\\xai_new\\lib\\site-packages\\sklearn\\neural_network\\_multilayer_perceptron.py:702: ConvergenceWarning: Stochastic Optimizer: Maximum iterations (200) reached and the optimization hasn't converged yet.\n",
      "  warnings.warn(\n"
     ]
    },
    {
     "name": "stdout",
     "output_type": "stream",
     "text": [
      "Total time: 4.85s (training model: 0.72s, training explainer: 0.00s, experiment: 4.13s)\n",
      "Accuracy: 1.0, precision: 1.0, recall: 1.0\n",
      "dataset: heart categorical, model: neural network (repetition 2)\n"
     ]
    },
    {
     "name": "stderr",
     "output_type": "stream",
     "text": [
      "c:\\users\\ml_ks\\venvs\\xai_new\\lib\\site-packages\\sklearn\\neural_network\\_multilayer_perceptron.py:702: ConvergenceWarning: Stochastic Optimizer: Maximum iterations (200) reached and the optimization hasn't converged yet.\n",
      "  warnings.warn(\n"
     ]
    },
    {
     "name": "stdout",
     "output_type": "stream",
     "text": [
      "Total time: 4.61s (training model: 0.69s, training explainer: 0.02s, experiment: 3.90s)\n",
      "Accuracy: 1.0, precision: 1.0, recall: 1.0\n",
      "dataset: heart categorical, model: neural network (repetition 3)\n"
     ]
    },
    {
     "name": "stderr",
     "output_type": "stream",
     "text": [
      "c:\\users\\ml_ks\\venvs\\xai_new\\lib\\site-packages\\sklearn\\neural_network\\_multilayer_perceptron.py:702: ConvergenceWarning: Stochastic Optimizer: Maximum iterations (200) reached and the optimization hasn't converged yet.\n",
      "  warnings.warn(\n"
     ]
    },
    {
     "name": "stdout",
     "output_type": "stream",
     "text": [
      "Total time: 4.87s (training model: 0.64s, training explainer: 0.00s, experiment: 4.23s)\n",
      "Accuracy: 1.0, precision: 1.0, recall: 1.0\n",
      "dataset: heart categorical, model: neural network (repetition 4)\n"
     ]
    },
    {
     "name": "stderr",
     "output_type": "stream",
     "text": [
      "c:\\users\\ml_ks\\venvs\\xai_new\\lib\\site-packages\\sklearn\\neural_network\\_multilayer_perceptron.py:702: ConvergenceWarning: Stochastic Optimizer: Maximum iterations (200) reached and the optimization hasn't converged yet.\n",
      "  warnings.warn(\n"
     ]
    },
    {
     "name": "stdout",
     "output_type": "stream",
     "text": [
      "Total time: 4.74s (training model: 0.70s, training explainer: 0.00s, experiment: 4.04s)\n",
      "Accuracy: 1.0, precision: 1.0, recall: 1.0\n",
      "dataset: heart categorical, model: neural network (repetition 5)\n"
     ]
    },
    {
     "name": "stderr",
     "output_type": "stream",
     "text": [
      "c:\\users\\ml_ks\\venvs\\xai_new\\lib\\site-packages\\sklearn\\neural_network\\_multilayer_perceptron.py:702: ConvergenceWarning: Stochastic Optimizer: Maximum iterations (200) reached and the optimization hasn't converged yet.\n",
      "  warnings.warn(\n"
     ]
    },
    {
     "name": "stdout",
     "output_type": "stream",
     "text": [
      "Total time: 4.84s (training model: 0.69s, training explainer: 0.00s, experiment: 4.15s)\n",
      "Accuracy: 1.0, precision: 1.0, recall: 1.0\n",
      "dataset: heart categorical, model: neural network (repetition 6)\n"
     ]
    },
    {
     "name": "stderr",
     "output_type": "stream",
     "text": [
      "c:\\users\\ml_ks\\venvs\\xai_new\\lib\\site-packages\\sklearn\\neural_network\\_multilayer_perceptron.py:702: ConvergenceWarning: Stochastic Optimizer: Maximum iterations (200) reached and the optimization hasn't converged yet.\n",
      "  warnings.warn(\n"
     ]
    },
    {
     "name": "stdout",
     "output_type": "stream",
     "text": [
      "Total time: 4.86s (training model: 0.67s, training explainer: 0.00s, experiment: 4.18s)\n",
      "Accuracy: 1.0, precision: 1.0, recall: 1.0\n",
      "dataset: heart categorical, model: neural network (repetition 7)\n"
     ]
    },
    {
     "name": "stderr",
     "output_type": "stream",
     "text": [
      "c:\\users\\ml_ks\\venvs\\xai_new\\lib\\site-packages\\sklearn\\neural_network\\_multilayer_perceptron.py:702: ConvergenceWarning: Stochastic Optimizer: Maximum iterations (200) reached and the optimization hasn't converged yet.\n",
      "  warnings.warn(\n"
     ]
    },
    {
     "name": "stdout",
     "output_type": "stream",
     "text": [
      "Total time: 4.83s (training model: 0.67s, training explainer: 0.00s, experiment: 4.16s)\n",
      "Accuracy: 1.0, precision: 1.0, recall: 1.0\n",
      "dataset: heart categorical, model: neural network (repetition 8)\n"
     ]
    },
    {
     "name": "stderr",
     "output_type": "stream",
     "text": [
      "c:\\users\\ml_ks\\venvs\\xai_new\\lib\\site-packages\\sklearn\\neural_network\\_multilayer_perceptron.py:702: ConvergenceWarning: Stochastic Optimizer: Maximum iterations (200) reached and the optimization hasn't converged yet.\n",
      "  warnings.warn(\n"
     ]
    },
    {
     "name": "stdout",
     "output_type": "stream",
     "text": [
      "Total time: 4.92s (training model: 0.67s, training explainer: 0.00s, experiment: 4.24s)\n",
      "Accuracy: 1.0, precision: 1.0, recall: 1.0\n",
      "dataset: heart categorical, model: neural network (repetition 9)\n"
     ]
    },
    {
     "name": "stderr",
     "output_type": "stream",
     "text": [
      "c:\\users\\ml_ks\\venvs\\xai_new\\lib\\site-packages\\sklearn\\neural_network\\_multilayer_perceptron.py:702: ConvergenceWarning: Stochastic Optimizer: Maximum iterations (200) reached and the optimization hasn't converged yet.\n",
      "  warnings.warn(\n"
     ]
    },
    {
     "name": "stdout",
     "output_type": "stream",
     "text": [
      "Total time: 4.96s (training model: 0.69s, training explainer: 0.02s, experiment: 4.26s)\n",
      "Accuracy: 1.0, precision: 1.0, recall: 1.0\n",
      "dataset: census, model: decision tree (repetition 0)\n",
      "Total time: 32.35s (training model: 0.20s, training explainer: 0.01s, experiment: 32.14s)\n",
      "Accuracy: 1.0, precision: 1.0, recall: 1.0\n",
      "dataset: census, model: decision tree (repetition 1)\n",
      "Total time: 30.81s (training model: 0.16s, training explainer: 0.02s, experiment: 30.64s)\n",
      "Accuracy: 1.0, precision: 1.0, recall: 1.0\n",
      "dataset: census, model: decision tree (repetition 2)\n",
      "Total time: 30.75s (training model: 0.22s, training explainer: 0.02s, experiment: 30.52s)\n",
      "Accuracy: 1.0, precision: 1.0, recall: 1.0\n",
      "dataset: census, model: decision tree (repetition 3)\n",
      "Total time: 29.03s (training model: 0.17s, training explainer: 0.01s, experiment: 28.85s)\n",
      "Accuracy: 1.0, precision: 1.0, recall: 1.0\n",
      "dataset: census, model: decision tree (repetition 4)\n",
      "Total time: 29.11s (training model: 0.16s, training explainer: 0.02s, experiment: 28.94s)\n",
      "Accuracy: 1.0, precision: 1.0, recall: 1.0\n",
      "dataset: census, model: decision tree (repetition 5)\n",
      "Total time: 29.07s (training model: 0.16s, training explainer: 0.02s, experiment: 28.90s)\n",
      "Accuracy: 1.0, precision: 1.0, recall: 1.0\n",
      "dataset: census, model: decision tree (repetition 6)\n",
      "Total time: 29.04s (training model: 0.19s, training explainer: 0.02s, experiment: 28.84s)\n",
      "Accuracy: 1.0, precision: 1.0, recall: 1.0\n",
      "dataset: census, model: decision tree (repetition 7)\n",
      "Total time: 28.72s (training model: 0.17s, training explainer: 0.00s, experiment: 28.55s)\n",
      "Accuracy: 1.0, precision: 1.0, recall: 1.0\n",
      "dataset: census, model: decision tree (repetition 8)\n",
      "Total time: 28.87s (training model: 0.16s, training explainer: 0.02s, experiment: 28.70s)\n",
      "Accuracy: 1.0, precision: 1.0, recall: 1.0\n",
      "dataset: census, model: decision tree (repetition 9)\n",
      "Total time: 28.93s (training model: 0.16s, training explainer: 0.02s, experiment: 28.75s)\n",
      "Accuracy: 1.0, precision: 1.0, recall: 1.0\n",
      "dataset: census, model: random forest (repetition 0)\n",
      "Total time: 31.54s (training model: 2.94s, training explainer: 0.02s, experiment: 28.59s)\n",
      "Accuracy: 1.0, precision: 1.0, recall: 1.0\n",
      "dataset: census, model: random forest (repetition 1)\n",
      "Total time: 31.42s (training model: 2.88s, training explainer: 0.02s, experiment: 28.53s)\n",
      "Accuracy: 1.0, precision: 1.0, recall: 1.0\n",
      "dataset: census, model: random forest (repetition 2)\n",
      "Total time: 31.39s (training model: 2.86s, training explainer: 0.00s, experiment: 28.53s)\n",
      "Accuracy: 1.0, precision: 1.0, recall: 1.0\n",
      "dataset: census, model: random forest (repetition 3)\n",
      "Total time: 32.21s (training model: 2.94s, training explainer: 0.00s, experiment: 29.27s)\n",
      "Accuracy: 1.0, precision: 1.0, recall: 1.0\n",
      "dataset: census, model: random forest (repetition 4)\n",
      "Total time: 31.72s (training model: 3.00s, training explainer: 0.00s, experiment: 28.72s)\n",
      "Accuracy: 1.0, precision: 1.0, recall: 1.0\n",
      "dataset: census, model: random forest (repetition 5)\n",
      "Total time: 31.83s (training model: 2.96s, training explainer: 0.02s, experiment: 28.86s)\n",
      "Accuracy: 1.0, precision: 1.0, recall: 1.0\n",
      "dataset: census, model: random forest (repetition 6)\n",
      "Total time: 31.74s (training model: 2.89s, training explainer: 0.02s, experiment: 28.83s)\n",
      "Accuracy: 1.0, precision: 1.0, recall: 1.0\n",
      "dataset: census, model: random forest (repetition 7)\n",
      "Total time: 31.81s (training model: 2.91s, training explainer: 0.02s, experiment: 28.89s)\n",
      "Accuracy: 1.0, precision: 1.0, recall: 1.0\n",
      "dataset: census, model: random forest (repetition 8)\n",
      "Total time: 31.57s (training model: 2.86s, training explainer: 0.02s, experiment: 28.69s)\n",
      "Accuracy: 1.0, precision: 1.0, recall: 1.0\n",
      "dataset: census, model: random forest (repetition 9)\n",
      "Total time: 31.63s (training model: 2.89s, training explainer: 0.02s, experiment: 28.72s)\n",
      "Accuracy: 1.0, precision: 1.0, recall: 1.0\n",
      "dataset: census, model: neural network (repetition 0)\n"
     ]
    },
    {
     "name": "stderr",
     "output_type": "stream",
     "text": [
      "c:\\users\\ml_ks\\venvs\\xai_new\\lib\\site-packages\\sklearn\\neural_network\\_multilayer_perceptron.py:702: ConvergenceWarning: Stochastic Optimizer: Maximum iterations (200) reached and the optimization hasn't converged yet.\n",
      "  warnings.warn(\n"
     ]
    },
    {
     "name": "stdout",
     "output_type": "stream",
     "text": [
      "Total time: 45.70s (training model: 16.49s, training explainer: 0.02s, experiment: 29.19s)\n",
      "Accuracy: 1.0, precision: 1.0, recall: 1.0\n",
      "dataset: census, model: neural network (repetition 1)\n"
     ]
    },
    {
     "name": "stderr",
     "output_type": "stream",
     "text": [
      "c:\\users\\ml_ks\\venvs\\xai_new\\lib\\site-packages\\sklearn\\neural_network\\_multilayer_perceptron.py:702: ConvergenceWarning: Stochastic Optimizer: Maximum iterations (200) reached and the optimization hasn't converged yet.\n",
      "  warnings.warn(\n"
     ]
    },
    {
     "name": "stdout",
     "output_type": "stream",
     "text": [
      "Total time: 45.48s (training model: 16.67s, training explainer: 0.02s, experiment: 28.80s)\n",
      "Accuracy: 1.0, precision: 1.0, recall: 1.0\n",
      "dataset: census, model: neural network (repetition 2)\n"
     ]
    },
    {
     "name": "stderr",
     "output_type": "stream",
     "text": [
      "c:\\users\\ml_ks\\venvs\\xai_new\\lib\\site-packages\\sklearn\\neural_network\\_multilayer_perceptron.py:702: ConvergenceWarning: Stochastic Optimizer: Maximum iterations (200) reached and the optimization hasn't converged yet.\n",
      "  warnings.warn(\n"
     ]
    },
    {
     "name": "stdout",
     "output_type": "stream",
     "text": [
      "Total time: 45.46s (training model: 16.54s, training explainer: 0.02s, experiment: 28.90s)\n",
      "Accuracy: 1.0, precision: 1.0, recall: 1.0\n",
      "dataset: census, model: neural network (repetition 3)\n"
     ]
    },
    {
     "name": "stderr",
     "output_type": "stream",
     "text": [
      "c:\\users\\ml_ks\\venvs\\xai_new\\lib\\site-packages\\sklearn\\neural_network\\_multilayer_perceptron.py:702: ConvergenceWarning: Stochastic Optimizer: Maximum iterations (200) reached and the optimization hasn't converged yet.\n",
      "  warnings.warn(\n"
     ]
    },
    {
     "name": "stdout",
     "output_type": "stream",
     "text": [
      "Total time: 45.42s (training model: 16.54s, training explainer: 0.02s, experiment: 28.87s)\n",
      "Accuracy: 1.0, precision: 1.0, recall: 1.0\n",
      "dataset: census, model: neural network (repetition 4)\n"
     ]
    },
    {
     "name": "stderr",
     "output_type": "stream",
     "text": [
      "c:\\users\\ml_ks\\venvs\\xai_new\\lib\\site-packages\\sklearn\\neural_network\\_multilayer_perceptron.py:702: ConvergenceWarning: Stochastic Optimizer: Maximum iterations (200) reached and the optimization hasn't converged yet.\n",
      "  warnings.warn(\n"
     ]
    },
    {
     "name": "stdout",
     "output_type": "stream",
     "text": [
      "Total time: 45.56s (training model: 16.63s, training explainer: 0.02s, experiment: 28.91s)\n",
      "Accuracy: 1.0, precision: 1.0, recall: 1.0\n",
      "dataset: census, model: neural network (repetition 5)\n"
     ]
    },
    {
     "name": "stderr",
     "output_type": "stream",
     "text": [
      "c:\\users\\ml_ks\\venvs\\xai_new\\lib\\site-packages\\sklearn\\neural_network\\_multilayer_perceptron.py:702: ConvergenceWarning: Stochastic Optimizer: Maximum iterations (200) reached and the optimization hasn't converged yet.\n",
      "  warnings.warn(\n"
     ]
    },
    {
     "name": "stdout",
     "output_type": "stream",
     "text": [
      "Total time: 45.80s (training model: 16.74s, training explainer: 0.02s, experiment: 29.04s)\n",
      "Accuracy: 1.0, precision: 1.0, recall: 1.0\n",
      "dataset: census, model: neural network (repetition 6)\n"
     ]
    },
    {
     "name": "stderr",
     "output_type": "stream",
     "text": [
      "c:\\users\\ml_ks\\venvs\\xai_new\\lib\\site-packages\\sklearn\\neural_network\\_multilayer_perceptron.py:702: ConvergenceWarning: Stochastic Optimizer: Maximum iterations (200) reached and the optimization hasn't converged yet.\n",
      "  warnings.warn(\n"
     ]
    },
    {
     "name": "stdout",
     "output_type": "stream",
     "text": [
      "Total time: 45.70s (training model: 16.53s, training explainer: 0.02s, experiment: 29.15s)\n",
      "Accuracy: 1.0, precision: 1.0, recall: 1.0\n",
      "dataset: census, model: neural network (repetition 7)\n"
     ]
    },
    {
     "name": "stderr",
     "output_type": "stream",
     "text": [
      "c:\\users\\ml_ks\\venvs\\xai_new\\lib\\site-packages\\sklearn\\neural_network\\_multilayer_perceptron.py:702: ConvergenceWarning: Stochastic Optimizer: Maximum iterations (200) reached and the optimization hasn't converged yet.\n",
      "  warnings.warn(\n"
     ]
    },
    {
     "name": "stdout",
     "output_type": "stream",
     "text": [
      "Total time: 45.31s (training model: 16.68s, training explainer: 0.00s, experiment: 28.63s)\n",
      "Accuracy: 1.0, precision: 1.0, recall: 1.0\n",
      "dataset: census, model: neural network (repetition 8)\n"
     ]
    },
    {
     "name": "stderr",
     "output_type": "stream",
     "text": [
      "c:\\users\\ml_ks\\venvs\\xai_new\\lib\\site-packages\\sklearn\\neural_network\\_multilayer_perceptron.py:702: ConvergenceWarning: Stochastic Optimizer: Maximum iterations (200) reached and the optimization hasn't converged yet.\n",
      "  warnings.warn(\n"
     ]
    },
    {
     "name": "stdout",
     "output_type": "stream",
     "text": [
      "Total time: 45.47s (training model: 16.52s, training explainer: 0.02s, experiment: 28.93s)\n",
      "Accuracy: 1.0, precision: 1.0, recall: 1.0\n",
      "dataset: census, model: neural network (repetition 9)\n"
     ]
    },
    {
     "name": "stderr",
     "output_type": "stream",
     "text": [
      "c:\\users\\ml_ks\\venvs\\xai_new\\lib\\site-packages\\sklearn\\neural_network\\_multilayer_perceptron.py:702: ConvergenceWarning: Stochastic Optimizer: Maximum iterations (200) reached and the optimization hasn't converged yet.\n",
      "  warnings.warn(\n"
     ]
    },
    {
     "name": "stdout",
     "output_type": "stream",
     "text": [
      "Total time: 45.46s (training model: 16.67s, training explainer: 0.02s, experiment: 28.77s)\n",
      "Accuracy: 1.0, precision: 1.0, recall: 1.0\n",
      "dataset: census numeric, model: decision tree (repetition 0)\n",
      "Total time: 9.04s (training model: 0.02s, training explainer: 0.00s, experiment: 9.02s)\n",
      "Accuracy: 1.0, precision: 1.0, recall: 1.0\n",
      "dataset: census numeric, model: decision tree (repetition 1)\n",
      "Total time: 8.86s (training model: 0.02s, training explainer: 0.00s, experiment: 8.84s)\n",
      "Accuracy: 1.0, precision: 1.0, recall: 1.0\n",
      "dataset: census numeric, model: decision tree (repetition 2)\n",
      "Total time: 8.84s (training model: 0.02s, training explainer: 0.00s, experiment: 8.82s)\n",
      "Accuracy: 1.0, precision: 1.0, recall: 1.0\n",
      "dataset: census numeric, model: decision tree (repetition 3)\n",
      "Total time: 8.83s (training model: 0.02s, training explainer: 0.00s, experiment: 8.81s)\n",
      "Accuracy: 1.0, precision: 1.0, recall: 1.0\n",
      "dataset: census numeric, model: decision tree (repetition 4)\n",
      "Total time: 8.75s (training model: 0.00s, training explainer: 0.02s, experiment: 8.74s)\n",
      "Accuracy: 1.0, precision: 1.0, recall: 1.0\n",
      "dataset: census numeric, model: decision tree (repetition 5)\n",
      "Total time: 8.99s (training model: 0.02s, training explainer: 0.00s, experiment: 8.97s)\n",
      "Accuracy: 1.0, precision: 1.0, recall: 1.0\n",
      "dataset: census numeric, model: decision tree (repetition 6)\n",
      "Total time: 8.85s (training model: 0.02s, training explainer: 0.00s, experiment: 8.84s)\n",
      "Accuracy: 1.0, precision: 1.0, recall: 1.0\n",
      "dataset: census numeric, model: decision tree (repetition 7)\n",
      "Total time: 9.04s (training model: 0.01s, training explainer: 0.00s, experiment: 9.03s)\n",
      "Accuracy: 1.0, precision: 1.0, recall: 1.0\n",
      "dataset: census numeric, model: decision tree (repetition 8)\n",
      "Total time: 8.78s (training model: 0.00s, training explainer: 0.00s, experiment: 8.78s)\n",
      "Accuracy: 1.0, precision: 1.0, recall: 1.0\n",
      "dataset: census numeric, model: decision tree (repetition 9)\n",
      "Total time: 8.84s (training model: 0.00s, training explainer: 0.02s, experiment: 8.82s)\n",
      "Accuracy: 1.0, precision: 1.0, recall: 1.0\n",
      "dataset: census numeric, model: random forest (repetition 0)\n",
      "Total time: 9.12s (training model: 0.28s, training explainer: 0.02s, experiment: 8.83s)\n",
      "Accuracy: 1.0, precision: 1.0, recall: 1.0\n",
      "dataset: census numeric, model: random forest (repetition 1)\n",
      "Total time: 9.18s (training model: 0.34s, training explainer: 0.02s, experiment: 8.82s)\n",
      "Accuracy: 1.0, precision: 1.0, recall: 1.0\n",
      "dataset: census numeric, model: random forest (repetition 2)\n",
      "Total time: 9.17s (training model: 0.35s, training explainer: 0.00s, experiment: 8.83s)\n",
      "Accuracy: 1.0, precision: 1.0, recall: 1.0\n",
      "dataset: census numeric, model: random forest (repetition 3)\n",
      "Total time: 9.21s (training model: 0.31s, training explainer: 0.00s, experiment: 8.89s)\n",
      "Accuracy: 1.0, precision: 1.0, recall: 1.0\n",
      "dataset: census numeric, model: random forest (repetition 4)\n",
      "Total time: 9.12s (training model: 0.29s, training explainer: 0.02s, experiment: 8.81s)\n",
      "Accuracy: 1.0, precision: 1.0, recall: 1.0\n",
      "dataset: census numeric, model: random forest (repetition 5)\n",
      "Total time: 9.22s (training model: 0.33s, training explainer: 0.00s, experiment: 8.89s)\n",
      "Accuracy: 1.0, precision: 1.0, recall: 1.0\n",
      "dataset: census numeric, model: random forest (repetition 6)\n",
      "Total time: 9.09s (training model: 0.33s, training explainer: 0.02s, experiment: 8.75s)\n",
      "Accuracy: 1.0, precision: 1.0, recall: 1.0\n",
      "dataset: census numeric, model: random forest (repetition 7)\n",
      "Total time: 9.10s (training model: 0.29s, training explainer: 0.00s, experiment: 8.81s)\n",
      "Accuracy: 1.0, precision: 1.0, recall: 1.0\n",
      "dataset: census numeric, model: random forest (repetition 8)\n",
      "Total time: 9.14s (training model: 0.31s, training explainer: 0.00s, experiment: 8.82s)\n",
      "Accuracy: 1.0, precision: 1.0, recall: 1.0\n",
      "dataset: census numeric, model: random forest (repetition 9)\n",
      "Total time: 9.11s (training model: 0.30s, training explainer: 0.00s, experiment: 8.81s)\n",
      "Accuracy: 1.0, precision: 1.0, recall: 1.0\n",
      "dataset: census numeric, model: neural network (repetition 0)\n"
     ]
    },
    {
     "name": "stderr",
     "output_type": "stream",
     "text": [
      "c:\\users\\ml_ks\\venvs\\xai_new\\lib\\site-packages\\sklearn\\neural_network\\_multilayer_perceptron.py:702: ConvergenceWarning: Stochastic Optimizer: Maximum iterations (200) reached and the optimization hasn't converged yet.\n",
      "  warnings.warn(\n"
     ]
    },
    {
     "name": "stdout",
     "output_type": "stream",
     "text": [
      "Total time: 13.03s (training model: 4.08s, training explainer: 0.02s, experiment: 8.93s)\n",
      "Accuracy: 1.0, precision: 1.0, recall: 1.0\n",
      "dataset: census numeric, model: neural network (repetition 1)\n"
     ]
    },
    {
     "name": "stderr",
     "output_type": "stream",
     "text": [
      "c:\\users\\ml_ks\\venvs\\xai_new\\lib\\site-packages\\sklearn\\neural_network\\_multilayer_perceptron.py:702: ConvergenceWarning: Stochastic Optimizer: Maximum iterations (200) reached and the optimization hasn't converged yet.\n",
      "  warnings.warn(\n"
     ]
    },
    {
     "name": "stdout",
     "output_type": "stream",
     "text": [
      "Total time: 12.70s (training model: 4.02s, training explainer: 0.00s, experiment: 8.67s)\n",
      "Accuracy: 1.0, precision: 1.0, recall: 1.0\n",
      "dataset: census numeric, model: neural network (repetition 2)\n"
     ]
    },
    {
     "name": "stderr",
     "output_type": "stream",
     "text": [
      "c:\\users\\ml_ks\\venvs\\xai_new\\lib\\site-packages\\sklearn\\neural_network\\_multilayer_perceptron.py:702: ConvergenceWarning: Stochastic Optimizer: Maximum iterations (200) reached and the optimization hasn't converged yet.\n",
      "  warnings.warn(\n"
     ]
    },
    {
     "name": "stdout",
     "output_type": "stream",
     "text": [
      "Total time: 12.64s (training model: 3.99s, training explainer: 0.00s, experiment: 8.66s)\n",
      "Accuracy: 1.0, precision: 1.0, recall: 1.0\n",
      "dataset: census numeric, model: neural network (repetition 3)\n"
     ]
    },
    {
     "name": "stderr",
     "output_type": "stream",
     "text": [
      "c:\\users\\ml_ks\\venvs\\xai_new\\lib\\site-packages\\sklearn\\neural_network\\_multilayer_perceptron.py:702: ConvergenceWarning: Stochastic Optimizer: Maximum iterations (200) reached and the optimization hasn't converged yet.\n",
      "  warnings.warn(\n"
     ]
    },
    {
     "name": "stdout",
     "output_type": "stream",
     "text": [
      "Total time: 13.00s (training model: 4.16s, training explainer: 0.00s, experiment: 8.84s)\n",
      "Accuracy: 1.0, precision: 1.0, recall: 1.0\n",
      "dataset: census numeric, model: neural network (repetition 4)\n"
     ]
    },
    {
     "name": "stderr",
     "output_type": "stream",
     "text": [
      "c:\\users\\ml_ks\\venvs\\xai_new\\lib\\site-packages\\sklearn\\neural_network\\_multilayer_perceptron.py:702: ConvergenceWarning: Stochastic Optimizer: Maximum iterations (200) reached and the optimization hasn't converged yet.\n",
      "  warnings.warn(\n"
     ]
    },
    {
     "name": "stdout",
     "output_type": "stream",
     "text": [
      "Total time: 13.80s (training model: 4.82s, training explainer: 0.01s, experiment: 8.98s)\n",
      "Accuracy: 1.0, precision: 1.0, recall: 1.0\n",
      "dataset: census numeric, model: neural network (repetition 5)\n"
     ]
    },
    {
     "name": "stderr",
     "output_type": "stream",
     "text": [
      "c:\\users\\ml_ks\\venvs\\xai_new\\lib\\site-packages\\sklearn\\neural_network\\_multilayer_perceptron.py:702: ConvergenceWarning: Stochastic Optimizer: Maximum iterations (200) reached and the optimization hasn't converged yet.\n",
      "  warnings.warn(\n"
     ]
    },
    {
     "name": "stdout",
     "output_type": "stream",
     "text": [
      "Total time: 13.11s (training model: 4.13s, training explainer: 0.00s, experiment: 8.98s)\n",
      "Accuracy: 1.0, precision: 1.0, recall: 1.0\n",
      "dataset: census numeric, model: neural network (repetition 6)\n"
     ]
    },
    {
     "name": "stderr",
     "output_type": "stream",
     "text": [
      "c:\\users\\ml_ks\\venvs\\xai_new\\lib\\site-packages\\sklearn\\neural_network\\_multilayer_perceptron.py:702: ConvergenceWarning: Stochastic Optimizer: Maximum iterations (200) reached and the optimization hasn't converged yet.\n",
      "  warnings.warn(\n"
     ]
    },
    {
     "name": "stdout",
     "output_type": "stream",
     "text": [
      "Total time: 12.67s (training model: 3.85s, training explainer: 0.00s, experiment: 8.82s)\n",
      "Accuracy: 1.0, precision: 1.0, recall: 1.0\n",
      "dataset: census numeric, model: neural network (repetition 7)\n"
     ]
    },
    {
     "name": "stderr",
     "output_type": "stream",
     "text": [
      "c:\\users\\ml_ks\\venvs\\xai_new\\lib\\site-packages\\sklearn\\neural_network\\_multilayer_perceptron.py:702: ConvergenceWarning: Stochastic Optimizer: Maximum iterations (200) reached and the optimization hasn't converged yet.\n",
      "  warnings.warn(\n"
     ]
    },
    {
     "name": "stdout",
     "output_type": "stream",
     "text": [
      "Total time: 14.10s (training model: 4.75s, training explainer: 0.01s, experiment: 9.34s)\n",
      "Accuracy: 1.0, precision: 1.0, recall: 1.0\n",
      "dataset: census numeric, model: neural network (repetition 8)\n"
     ]
    },
    {
     "name": "stderr",
     "output_type": "stream",
     "text": [
      "c:\\users\\ml_ks\\venvs\\xai_new\\lib\\site-packages\\sklearn\\neural_network\\_multilayer_perceptron.py:702: ConvergenceWarning: Stochastic Optimizer: Maximum iterations (200) reached and the optimization hasn't converged yet.\n",
      "  warnings.warn(\n"
     ]
    },
    {
     "name": "stdout",
     "output_type": "stream",
     "text": [
      "Total time: 14.35s (training model: 4.74s, training explainer: 0.00s, experiment: 9.61s)\n",
      "Accuracy: 1.0, precision: 1.0, recall: 1.0\n",
      "dataset: census numeric, model: neural network (repetition 9)\n"
     ]
    },
    {
     "name": "stderr",
     "output_type": "stream",
     "text": [
      "c:\\users\\ml_ks\\venvs\\xai_new\\lib\\site-packages\\sklearn\\neural_network\\_multilayer_perceptron.py:702: ConvergenceWarning: Stochastic Optimizer: Maximum iterations (200) reached and the optimization hasn't converged yet.\n",
      "  warnings.warn(\n"
     ]
    },
    {
     "name": "stdout",
     "output_type": "stream",
     "text": [
      "Total time: 14.13s (training model: 4.28s, training explainer: 0.00s, experiment: 9.85s)\n",
      "Accuracy: 1.0, precision: 1.0, recall: 1.0\n",
      "dataset: census categorical, model: decision tree (repetition 0)\n",
      "Total time: 24.12s (training model: 0.11s, training explainer: 0.01s, experiment: 24.00s)\n",
      "Accuracy: 1.0, precision: 1.0, recall: 1.0\n",
      "dataset: census categorical, model: decision tree (repetition 1)\n",
      "Total time: 23.77s (training model: 0.12s, training explainer: 0.01s, experiment: 23.63s)\n",
      "Accuracy: 1.0, precision: 1.0, recall: 1.0\n",
      "dataset: census categorical, model: decision tree (repetition 2)\n",
      "Total time: 24.15s (training model: 0.11s, training explainer: 0.01s, experiment: 24.03s)\n",
      "Accuracy: 1.0, precision: 1.0, recall: 1.0\n",
      "dataset: census categorical, model: decision tree (repetition 3)\n",
      "Total time: 23.52s (training model: 0.11s, training explainer: 0.01s, experiment: 23.39s)\n",
      "Accuracy: 1.0, precision: 1.0, recall: 1.0\n",
      "dataset: census categorical, model: decision tree (repetition 4)\n",
      "Total time: 23.43s (training model: 0.10s, training explainer: 0.01s, experiment: 23.32s)\n",
      "Accuracy: 1.0, precision: 1.0, recall: 1.0\n",
      "dataset: census categorical, model: decision tree (repetition 5)\n",
      "Total time: 23.60s (training model: 0.12s, training explainer: 0.01s, experiment: 23.47s)\n",
      "Accuracy: 1.0, precision: 1.0, recall: 1.0\n",
      "dataset: census categorical, model: decision tree (repetition 6)\n",
      "Total time: 22.39s (training model: 0.09s, training explainer: 0.01s, experiment: 22.29s)\n",
      "Accuracy: 1.0, precision: 1.0, recall: 1.0\n",
      "dataset: census categorical, model: decision tree (repetition 7)\n",
      "Total time: 21.14s (training model: 0.07s, training explainer: 0.02s, experiment: 21.06s)\n",
      "Accuracy: 1.0, precision: 1.0, recall: 1.0\n",
      "dataset: census categorical, model: decision tree (repetition 8)\n",
      "Total time: 21.19s (training model: 0.08s, training explainer: 0.02s, experiment: 21.09s)\n",
      "Accuracy: 1.0, precision: 1.0, recall: 1.0\n",
      "dataset: census categorical, model: decision tree (repetition 9)\n",
      "Total time: 21.33s (training model: 0.08s, training explainer: 0.02s, experiment: 21.24s)\n",
      "Accuracy: 1.0, precision: 1.0, recall: 1.0\n",
      "dataset: census categorical, model: random forest (repetition 0)\n",
      "Total time: 22.70s (training model: 1.41s, training explainer: 0.00s, experiment: 21.28s)\n",
      "Accuracy: 1.0, precision: 1.0, recall: 1.0\n",
      "dataset: census categorical, model: random forest (repetition 1)\n",
      "Total time: 22.38s (training model: 1.40s, training explainer: 0.01s, experiment: 20.98s)\n",
      "Accuracy: 1.0, precision: 1.0, recall: 1.0\n",
      "dataset: census categorical, model: random forest (repetition 2)\n",
      "Total time: 22.82s (training model: 1.39s, training explainer: 0.02s, experiment: 21.41s)\n",
      "Accuracy: 1.0, precision: 1.0, recall: 1.0\n",
      "dataset: census categorical, model: random forest (repetition 3)\n",
      "Total time: 22.47s (training model: 1.38s, training explainer: 0.01s, experiment: 21.08s)\n",
      "Accuracy: 1.0, precision: 1.0, recall: 1.0\n",
      "dataset: census categorical, model: random forest (repetition 4)\n",
      "Total time: 22.47s (training model: 1.42s, training explainer: 0.00s, experiment: 21.05s)\n",
      "Accuracy: 1.0, precision: 1.0, recall: 1.0\n",
      "dataset: census categorical, model: random forest (repetition 5)\n",
      "Total time: 23.37s (training model: 1.40s, training explainer: 0.02s, experiment: 21.96s)\n",
      "Accuracy: 1.0, precision: 1.0, recall: 1.0\n",
      "dataset: census categorical, model: random forest (repetition 6)\n",
      "Total time: 24.82s (training model: 1.59s, training explainer: 0.00s, experiment: 23.22s)\n",
      "Accuracy: 1.0, precision: 1.0, recall: 1.0\n",
      "dataset: census categorical, model: random forest (repetition 7)\n",
      "Total time: 23.75s (training model: 1.38s, training explainer: 0.01s, experiment: 22.36s)\n",
      "Accuracy: 1.0, precision: 1.0, recall: 1.0\n",
      "dataset: census categorical, model: random forest (repetition 8)\n",
      "Total time: 22.61s (training model: 1.38s, training explainer: 0.00s, experiment: 21.23s)\n",
      "Accuracy: 1.0, precision: 1.0, recall: 1.0\n",
      "dataset: census categorical, model: random forest (repetition 9)\n",
      "Total time: 22.47s (training model: 1.38s, training explainer: 0.01s, experiment: 21.08s)\n",
      "Accuracy: 1.0, precision: 1.0, recall: 1.0\n",
      "dataset: census categorical, model: neural network (repetition 0)\n"
     ]
    },
    {
     "name": "stderr",
     "output_type": "stream",
     "text": [
      "c:\\users\\ml_ks\\venvs\\xai_new\\lib\\site-packages\\sklearn\\neural_network\\_multilayer_perceptron.py:702: ConvergenceWarning: Stochastic Optimizer: Maximum iterations (200) reached and the optimization hasn't converged yet.\n",
      "  warnings.warn(\n"
     ]
    },
    {
     "name": "stdout",
     "output_type": "stream",
     "text": [
      "Total time: 33.52s (training model: 10.91s, training explainer: 0.02s, experiment: 22.59s)\n",
      "Accuracy: 1.0, precision: 1.0, recall: 1.0\n",
      "dataset: census categorical, model: neural network (repetition 1)\n"
     ]
    },
    {
     "name": "stderr",
     "output_type": "stream",
     "text": [
      "c:\\users\\ml_ks\\venvs\\xai_new\\lib\\site-packages\\sklearn\\neural_network\\_multilayer_perceptron.py:702: ConvergenceWarning: Stochastic Optimizer: Maximum iterations (200) reached and the optimization hasn't converged yet.\n",
      "  warnings.warn(\n"
     ]
    },
    {
     "name": "stdout",
     "output_type": "stream",
     "text": [
      "Total time: 32.48s (training model: 11.39s, training explainer: 0.01s, experiment: 21.08s)\n",
      "Accuracy: 1.0, precision: 1.0, recall: 1.0\n",
      "dataset: census categorical, model: neural network (repetition 2)\n"
     ]
    },
    {
     "name": "stderr",
     "output_type": "stream",
     "text": [
      "c:\\users\\ml_ks\\venvs\\xai_new\\lib\\site-packages\\sklearn\\neural_network\\_multilayer_perceptron.py:702: ConvergenceWarning: Stochastic Optimizer: Maximum iterations (200) reached and the optimization hasn't converged yet.\n",
      "  warnings.warn(\n"
     ]
    },
    {
     "name": "stdout",
     "output_type": "stream",
     "text": [
      "Total time: 32.27s (training model: 11.35s, training explainer: 0.02s, experiment: 20.91s)\n",
      "Accuracy: 1.0, precision: 1.0, recall: 1.0\n",
      "dataset: census categorical, model: neural network (repetition 3)\n"
     ]
    },
    {
     "name": "stderr",
     "output_type": "stream",
     "text": [
      "c:\\users\\ml_ks\\venvs\\xai_new\\lib\\site-packages\\sklearn\\neural_network\\_multilayer_perceptron.py:702: ConvergenceWarning: Stochastic Optimizer: Maximum iterations (200) reached and the optimization hasn't converged yet.\n",
      "  warnings.warn(\n"
     ]
    },
    {
     "name": "stdout",
     "output_type": "stream",
     "text": [
      "Total time: 33.03s (training model: 11.72s, training explainer: 0.01s, experiment: 21.30s)\n",
      "Accuracy: 1.0, precision: 1.0, recall: 1.0\n",
      "dataset: census categorical, model: neural network (repetition 4)\n"
     ]
    },
    {
     "name": "stderr",
     "output_type": "stream",
     "text": [
      "c:\\users\\ml_ks\\venvs\\xai_new\\lib\\site-packages\\sklearn\\neural_network\\_multilayer_perceptron.py:702: ConvergenceWarning: Stochastic Optimizer: Maximum iterations (200) reached and the optimization hasn't converged yet.\n",
      "  warnings.warn(\n"
     ]
    },
    {
     "name": "stdout",
     "output_type": "stream",
     "text": [
      "Total time: 32.52s (training model: 11.57s, training explainer: 0.00s, experiment: 20.95s)\n",
      "Accuracy: 1.0, precision: 1.0, recall: 1.0\n",
      "dataset: census categorical, model: neural network (repetition 5)\n"
     ]
    },
    {
     "name": "stderr",
     "output_type": "stream",
     "text": [
      "c:\\users\\ml_ks\\venvs\\xai_new\\lib\\site-packages\\sklearn\\neural_network\\_multilayer_perceptron.py:702: ConvergenceWarning: Stochastic Optimizer: Maximum iterations (200) reached and the optimization hasn't converged yet.\n",
      "  warnings.warn(\n"
     ]
    },
    {
     "name": "stdout",
     "output_type": "stream",
     "text": [
      "Total time: 32.67s (training model: 11.17s, training explainer: 0.00s, experiment: 21.50s)\n",
      "Accuracy: 1.0, precision: 1.0, recall: 1.0\n",
      "dataset: census categorical, model: neural network (repetition 6)\n"
     ]
    },
    {
     "name": "stderr",
     "output_type": "stream",
     "text": [
      "c:\\users\\ml_ks\\venvs\\xai_new\\lib\\site-packages\\sklearn\\neural_network\\_multilayer_perceptron.py:702: ConvergenceWarning: Stochastic Optimizer: Maximum iterations (200) reached and the optimization hasn't converged yet.\n",
      "  warnings.warn(\n"
     ]
    },
    {
     "name": "stdout",
     "output_type": "stream",
     "text": [
      "Total time: 32.92s (training model: 11.73s, training explainer: 0.01s, experiment: 21.18s)\n",
      "Accuracy: 1.0, precision: 1.0, recall: 1.0\n",
      "dataset: census categorical, model: neural network (repetition 7)\n"
     ]
    },
    {
     "name": "stderr",
     "output_type": "stream",
     "text": [
      "c:\\users\\ml_ks\\venvs\\xai_new\\lib\\site-packages\\sklearn\\neural_network\\_multilayer_perceptron.py:702: ConvergenceWarning: Stochastic Optimizer: Maximum iterations (200) reached and the optimization hasn't converged yet.\n",
      "  warnings.warn(\n"
     ]
    },
    {
     "name": "stdout",
     "output_type": "stream",
     "text": [
      "Total time: 32.67s (training model: 11.71s, training explainer: 0.00s, experiment: 20.96s)\n",
      "Accuracy: 1.0, precision: 1.0, recall: 1.0\n",
      "dataset: census categorical, model: neural network (repetition 8)\n"
     ]
    },
    {
     "name": "stderr",
     "output_type": "stream",
     "text": [
      "c:\\users\\ml_ks\\venvs\\xai_new\\lib\\site-packages\\sklearn\\neural_network\\_multilayer_perceptron.py:702: ConvergenceWarning: Stochastic Optimizer: Maximum iterations (200) reached and the optimization hasn't converged yet.\n",
      "  warnings.warn(\n"
     ]
    },
    {
     "name": "stdout",
     "output_type": "stream",
     "text": [
      "Total time: 32.47s (training model: 11.55s, training explainer: 0.01s, experiment: 20.91s)\n",
      "Accuracy: 1.0, precision: 1.0, recall: 1.0\n",
      "dataset: census categorical, model: neural network (repetition 9)\n"
     ]
    },
    {
     "name": "stderr",
     "output_type": "stream",
     "text": [
      "c:\\users\\ml_ks\\venvs\\xai_new\\lib\\site-packages\\sklearn\\neural_network\\_multilayer_perceptron.py:702: ConvergenceWarning: Stochastic Optimizer: Maximum iterations (200) reached and the optimization hasn't converged yet.\n",
      "  warnings.warn(\n"
     ]
    },
    {
     "name": "stdout",
     "output_type": "stream",
     "text": [
      "Total time: 33.07s (training model: 11.81s, training explainer: 0.01s, experiment: 21.25s)\n",
      "Accuracy: 1.0, precision: 1.0, recall: 1.0\n"
     ]
    }
   ],
   "source": [
    "# This will run the experiment for each dataset and model combination\n",
    "\n",
    "results = run_all_experiments(KnnMembershipInference, dataset_dicts, model_dicts, random_state=0, num_queries=None, model_access=False, threads=threads, repeat=10)"
   ]
  },
  {
   "cell_type": "markdown",
   "id": "a1feb9a8",
   "metadata": {},
   "source": [
    "# Results\n",
    "\n",
    "The results of all variations of the membership inference experiment with KNN. In every experiment, we executed the membership inference attack on each sample of the training data and each sample of the test data. Both datasets are of equal size and originate from the same source dataset.\n",
    "\n",
    "Accuracy is the percentage of samples whose membership (true or false) was correctly inferred. An algorithm guessing at random would achieve an accuracy of 50 percent.\n",
    "\n",
    "Precision is the percentage of predicted training samples that is actually in the training data.\n",
    "\n",
    "Recall is the percentage of training samples whose membership (true) was correctly inferred."
   ]
  },
  {
   "cell_type": "code",
   "execution_count": 11,
   "id": "39bb0af8",
   "metadata": {
    "tags": []
   },
   "outputs": [
    {
     "data": {
      "text/plain": "                dataset           model  repetition  accuracy  precision  \\\n0                 heart   decision tree           0       1.0        1.0   \n1                 heart   decision tree           1       1.0        1.0   \n2                 heart   decision tree           2       1.0        1.0   \n3                 heart   decision tree           3       1.0        1.0   \n4                 heart   decision tree           4       1.0        1.0   \n..                  ...             ...         ...       ...        ...   \n175  census categorical  neural network           5       1.0        1.0   \n176  census categorical  neural network           6       1.0        1.0   \n177  census categorical  neural network           7       1.0        1.0   \n178  census categorical  neural network           8       1.0        1.0   \n179  census categorical  neural network           9       1.0        1.0   \n\n     recall  \n0       1.0  \n1       1.0  \n2       1.0  \n3       1.0  \n4       1.0  \n..      ...  \n175     1.0  \n176     1.0  \n177     1.0  \n178     1.0  \n179     1.0  \n\n[180 rows x 6 columns]",
      "text/html": "<div>\n<style scoped>\n    .dataframe tbody tr th:only-of-type {\n        vertical-align: middle;\n    }\n\n    .dataframe tbody tr th {\n        vertical-align: top;\n    }\n\n    .dataframe thead th {\n        text-align: right;\n    }\n</style>\n<table border=\"1\" class=\"dataframe\">\n  <thead>\n    <tr style=\"text-align: right;\">\n      <th></th>\n      <th>dataset</th>\n      <th>model</th>\n      <th>repetition</th>\n      <th>accuracy</th>\n      <th>precision</th>\n      <th>recall</th>\n    </tr>\n  </thead>\n  <tbody>\n    <tr>\n      <th>0</th>\n      <td>heart</td>\n      <td>decision tree</td>\n      <td>0</td>\n      <td>1.0</td>\n      <td>1.0</td>\n      <td>1.0</td>\n    </tr>\n    <tr>\n      <th>1</th>\n      <td>heart</td>\n      <td>decision tree</td>\n      <td>1</td>\n      <td>1.0</td>\n      <td>1.0</td>\n      <td>1.0</td>\n    </tr>\n    <tr>\n      <th>2</th>\n      <td>heart</td>\n      <td>decision tree</td>\n      <td>2</td>\n      <td>1.0</td>\n      <td>1.0</td>\n      <td>1.0</td>\n    </tr>\n    <tr>\n      <th>3</th>\n      <td>heart</td>\n      <td>decision tree</td>\n      <td>3</td>\n      <td>1.0</td>\n      <td>1.0</td>\n      <td>1.0</td>\n    </tr>\n    <tr>\n      <th>4</th>\n      <td>heart</td>\n      <td>decision tree</td>\n      <td>4</td>\n      <td>1.0</td>\n      <td>1.0</td>\n      <td>1.0</td>\n    </tr>\n    <tr>\n      <th>...</th>\n      <td>...</td>\n      <td>...</td>\n      <td>...</td>\n      <td>...</td>\n      <td>...</td>\n      <td>...</td>\n    </tr>\n    <tr>\n      <th>175</th>\n      <td>census categorical</td>\n      <td>neural network</td>\n      <td>5</td>\n      <td>1.0</td>\n      <td>1.0</td>\n      <td>1.0</td>\n    </tr>\n    <tr>\n      <th>176</th>\n      <td>census categorical</td>\n      <td>neural network</td>\n      <td>6</td>\n      <td>1.0</td>\n      <td>1.0</td>\n      <td>1.0</td>\n    </tr>\n    <tr>\n      <th>177</th>\n      <td>census categorical</td>\n      <td>neural network</td>\n      <td>7</td>\n      <td>1.0</td>\n      <td>1.0</td>\n      <td>1.0</td>\n    </tr>\n    <tr>\n      <th>178</th>\n      <td>census categorical</td>\n      <td>neural network</td>\n      <td>8</td>\n      <td>1.0</td>\n      <td>1.0</td>\n      <td>1.0</td>\n    </tr>\n    <tr>\n      <th>179</th>\n      <td>census categorical</td>\n      <td>neural network</td>\n      <td>9</td>\n      <td>1.0</td>\n      <td>1.0</td>\n      <td>1.0</td>\n    </tr>\n  </tbody>\n</table>\n<p>180 rows × 6 columns</p>\n</div>"
     },
     "execution_count": 11,
     "metadata": {},
     "output_type": "execute_result"
    }
   ],
   "source": [
    "results"
   ]
  },
  {
   "cell_type": "code",
   "execution_count": 12,
   "id": "31380dcf",
   "metadata": {
    "tags": []
   },
   "outputs": [],
   "source": [
    "file_name = 'results/1-4-knn-membership-inference-results'\n",
    "if DATASET_HALF:\n",
    "    file_name += '_dataset_size_halved'\n",
    "results.to_csv(file_name + '.csv', index=False, na_rep='NaN', float_format='%.3f')"
   ]
  },
  {
   "cell_type": "markdown",
   "id": "776fa6ec-8416-4947-aafd-e528c82f9bbb",
   "metadata": {},
   "source": [
    "# Discussion\n",
    "\n",
    "Just as expected, the attack has an accuracy of 100%. No false positives or false negatives occur."
   ]
  },
  {
   "cell_type": "code",
   "execution_count": 12,
   "id": "5b68b48c",
   "metadata": {},
   "outputs": [],
   "source": []
  }
 ],
 "metadata": {
  "kernelspec": {
   "display_name": "Python 3 (ipykernel)",
   "language": "python",
   "name": "python3"
  },
  "language_info": {
   "codemirror_mode": {
    "name": "ipython",
    "version": 3
   },
   "file_extension": ".py",
   "mimetype": "text/x-python",
   "name": "python",
   "nbconvert_exporter": "python",
   "pygments_lexer": "ipython3",
   "version": "3.8.10"
  }
 },
 "nbformat": 4,
 "nbformat_minor": 5
}