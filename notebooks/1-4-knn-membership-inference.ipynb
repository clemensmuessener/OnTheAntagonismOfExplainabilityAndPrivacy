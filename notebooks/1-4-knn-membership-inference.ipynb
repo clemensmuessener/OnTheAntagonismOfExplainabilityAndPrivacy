{
 "cells": [
  {
   "cell_type": "markdown",
   "id": "75916e17",
   "metadata": {},
   "source": [
    "# K-Nearest-Neighbors Membership Inference Experiment"
   ]
  },
  {
   "cell_type": "code",
   "execution_count": 1,
   "id": "f6661d3f",
   "metadata": {
    "tags": []
   },
   "outputs": [],
   "source": [
    "import pandas as pd\n",
    "import sklearn.ensemble as es\n",
    "from sklearn.tree import DecisionTreeClassifier\n",
    "from sklearn.neural_network import MLPClassifier\n",
    "import numpy as np\n",
    "import logging"
   ]
  },
  {
   "cell_type": "code",
   "execution_count": 2,
   "id": "d5e1de41-a5ee-4520-8060-00873915a3a8",
   "metadata": {
    "tags": []
   },
   "outputs": [],
   "source": [
    "threads = 15\n",
    "\n",
    "logging.basicConfig()\n",
    "\n",
    "logger = logging.getLogger('xai-privacy')"
   ]
  },
  {
   "cell_type": "code",
   "execution_count": 3,
   "id": "f17097ef",
   "metadata": {
    "tags": []
   },
   "outputs": [],
   "source": [
    "from experiment_setup import run_all_experiments\n",
    "from experiment_setup import get_heart_disease_dataset\n",
    "from experiment_setup import get_census_dataset"
   ]
  },
  {
   "cell_type": "code",
   "execution_count": 4,
   "id": "b77aa19b-a2fb-4a9b-95ae-0b44e584390e",
   "metadata": {
    "tags": []
   },
   "outputs": [
    {
     "name": "stdout",
     "output_type": "stream",
     "text": [
      "Feature Age: removed 0 rows for missing values.\n",
      "Feature RestingBP: removed 59 rows for missing values.\n",
      "Feature Cholesterol: removed 27 rows for missing values.\n",
      "Feature FastingBS: add unknown category 2.0\n",
      "Feature RestingECG: add unknown category 3.0\n",
      "Feature MaxHR: removed 0 rows for missing values.\n",
      "Feature Oldpeak: removed 7 rows for missing values.\n",
      "Feature ST_Slope: add unknown category 4.0\n",
      "Feature CA: add unknown category 4.0\n",
      "Feature Thal: add unknown category 8.0\n",
      "Dropped 271 of 1097\n",
      "Dropped 273 of 1097\n",
      "Dropped 277 of 1097\n",
      "Dropped: 2399 of 32561\n",
      "census: Dropped 3848 of 30162\n",
      "num: Dropped 19859 of 30162\n",
      "cat: Dropped 12136 of 30162\n"
     ]
    }
   ],
   "source": [
    "DATASET_HALF = False\n",
    "\n",
    "data_heart_dict, data_heart_num_dict, data_heart_cat_dict = get_heart_disease_dataset(halve_dataset=DATASET_HALF)\n",
    "data_census_dict, data_census_num_dict, data_census_cat_dict = get_census_dataset(halve_dataset=DATASET_HALF)\n",
    "\n",
    "data_heart = data_heart_dict['dataset']\n",
    "outcome_name_heart = data_heart_dict['outcome']\n",
    "numeric_features_heart = data_heart_dict['num']\n",
    "\n",
    "census_num = data_census_num_dict['dataset']\n",
    "outcome_name_census = data_census_num_dict['outcome']\n",
    "numeric_features_census = data_census_num_dict['num']"
   ]
  },
  {
   "cell_type": "markdown",
   "id": "c6a61bbc",
   "metadata": {},
   "source": [
    "This notebook will go through the experiment for membership inference with KNN as an explanation. Membership inference means an attacker with access to the explanation can tell for a sample whether it was included in the training data or not.\n",
    "\n",
    "The idea for KNN membership inference is as follows: Enter the given sample and check whether the sample is returned as one of its own nearest neighbors. If it is, it is part of the training data. Otherwise it is not."
   ]
  },
  {
   "cell_type": "markdown",
   "id": "488dc98b",
   "metadata": {},
   "source": [
    "First, we have to create our own wrapper class for the default scikit-learn KNN classifier. This is necessary because the scikit-learn implementation only returns the indices of the nearest neighbors. However, in order to be useful explanation to a user, the actual feature values of the nearest neighbors need to be returned. This is done by the wrapper class."
   ]
  },
  {
   "cell_type": "code",
   "execution_count": 5,
   "id": "9dccb92a",
   "metadata": {
    "tags": []
   },
   "outputs": [],
   "source": [
    "# Attack code must be imported so that multiprocessing pool works. Check out knn_attack.py for the implementation of the attack.\n",
    "from knn_attack import KnnExplainer"
   ]
  },
  {
   "cell_type": "markdown",
   "id": "773a4d5a",
   "metadata": {},
   "source": [
    "Then, we implement the `train_explainer` and `membership_inference_attack_no_model_access` functions:"
   ]
  },
  {
   "cell_type": "code",
   "execution_count": 6,
   "id": "3a58eda4",
   "metadata": {
    "tags": []
   },
   "outputs": [],
   "source": [
    "# Attack code must be imported so that multiprocessing pool works. Check out ice_attack.py for the implementation of the attack.\n",
    "from knn_attack import KnnMembershipInference"
   ]
  },
  {
   "cell_type": "markdown",
   "id": "d2ef61e5",
   "metadata": {},
   "source": [
    "# Dataset 1: Heart Disease"
   ]
  },
  {
   "cell_type": "markdown",
   "id": "d02a2083",
   "metadata": {},
   "source": [
    "We now generate a KNN explaination for a random sample from the training data as a demonstration of the concept."
   ]
  },
  {
   "cell_type": "code",
   "execution_count": 7,
   "id": "64c4cf59",
   "metadata": {
    "tags": []
   },
   "outputs": [
    {
     "name": "stdout",
     "output_type": "stream",
     "text": [
      "Given sample: [[ 57.    1.    3.  150.  168.    0.    0.  174.    0.    1.6   1.    0.\n",
      "    3. ]]\n",
      "Model prediction: 0.0\n",
      "Nearest Neighbors: \n",
      " [[ 57.    1.    3.  150.  168.    0.    0.  174.    0.    1.6   1.    0.\n",
      "    3.    0. ]\n",
      " [ 59.    1.    4.  140.  177.    0.    0.  162.    1.    0.    1.    1.\n",
      "    7.    1. ]\n",
      " [ 58.    1.    3.  140.  179.    0.    0.  160.    0.    0.    4.    4.\n",
      "    8.    0. ]\n",
      " [ 46.    0.    3.  142.  177.    0.    2.  160.    1.    1.4   3.    0.\n",
      "    3.    0. ]\n",
      " [ 36.    1.    3.  150.  160.    0.    0.  172.    0.    0.    4.    4.\n",
      "    8.    0. ]]\n"
     ]
    }
   ],
   "source": [
    "features = data_heart.drop(outcome_name_heart, axis=1)\n",
    "labels = data_heart[outcome_name_heart]\n",
    "\n",
    "# Train a random forest on training data.\n",
    "model = es.RandomForestClassifier(random_state=0)\n",
    "model = model.fit(features, labels)\n",
    "\n",
    "# Train explainer\n",
    "exp = KnnExplainer(data_heart, outcome_name_heart)\n",
    "\n",
    "given_sample = features.sample()\n",
    "print(f'Given sample: {given_sample.to_numpy()}')\n",
    "\n",
    "pred = model.predict(given_sample)\n",
    "print(f'Model prediction: {pred[0]}')\n",
    "\n",
    "neighbors = exp.explain(given_sample)\n",
    "print(f'Nearest Neighbors: \\n {neighbors.to_numpy()}')"
   ]
  },
  {
   "cell_type": "markdown",
   "id": "084cf1e0",
   "metadata": {},
   "source": [
    "We will now do a small proof of concept of the experiment with logging enabled to demonstrate how it works."
   ]
  },
  {
   "cell_type": "code",
   "execution_count": 8,
   "id": "cacf1093",
   "metadata": {
    "scrolled": true,
    "tags": []
   },
   "outputs": [
    {
     "name": "stderr",
     "output_type": "stream",
     "text": [
      "DEBUG:xai-privacy:Numeric Features: ['age', 'education_num', 'capital_gain', 'capital_loss', 'hours_per_week']\n",
      "DEBUG:xai-privacy:Categorical Features: []\n",
      "DEBUG:xai-privacy:Removed 0 test samples due to unknown category.\n",
      "DEBUG:xai-privacy:[[35 11  0  0 45  0]] taken from training data\n",
      "DEBUG:xai-privacy:[[   21    10 99999     0    40     1]] taken from test data\n",
      "DEBUG:xai-privacy:[[   46    16 25236     0    65     1]] taken from training data\n",
      "DEBUG:xai-privacy:[[17  8  0  0 15  0]] taken from test data\n",
      "DEBUG:xai-privacy:[[  39   14 7688    0   65    1]] taken from training data\n",
      "DEBUG:xai-privacy:[[48 10  0  0 65  1]] taken from test data\n",
      "DEBUG:xai-privacy:[[29 13  0  0 35  0]] taken from training data\n",
      "DEBUG:xai-privacy:[[   53    14 15024     0    55     1]] taken from test data\n",
      "DEBUG:xai-privacy:[[55  9  0  0 40  0]] taken from training data\n",
      "DEBUG:xai-privacy:[[56 10  0  0 41  1]] taken from test data\n",
      "DEBUG:xai-privacy:Checking sample 0: [35. 11.  0.  0. 45.  0.]\n",
      "DEBUG:xai-privacy:Input sample:     age  education_num  capital_gain  capital_loss  hours_per_week\n",
      "0  35.0           11.0           0.0           0.0            45.0\n",
      "DEBUG:xai-privacy:Indices: [[1098 1700 3138 5114 2581]]\n",
      "DEBUG:xai-privacy:K nearest neighbors: \n",
      " [[35 11  0  0 45  0]\n",
      " [35 12  0  0 45  0]\n",
      " [35 10  0  0 45  0]\n",
      " [34 11  0  0 45  0]\n",
      " [34 12  0  0 45  0]]\n",
      "DEBUG:xai-privacy:Inferred membership: True\n",
      "DEBUG:xai-privacy:Checking sample 1: [2.1000e+01 1.0000e+01 9.9999e+04 0.0000e+00 4.0000e+01 1.0000e+00]\n",
      "DEBUG:xai-privacy:Input sample:     age  education_num  capital_gain  capital_loss  hours_per_week\n",
      "1  21.0           10.0       99999.0           0.0            40.0\n",
      "DEBUG:xai-privacy:Indices: [[3167 5078  789 4379 2352]]\n",
      "DEBUG:xai-privacy:K nearest neighbors: \n",
      " [[   22     9 99999     0    40     1]\n",
      " [   30    13 99999     0    35     1]\n",
      " [   33    13 99999     0    40     1]\n",
      " [   30     9 99999     0    50     1]\n",
      " [   33    10 99999     0    30     1]]\n",
      "DEBUG:xai-privacy:Inferred membership: False\n",
      "DEBUG:xai-privacy:Checking sample 2: [4.6000e+01 1.6000e+01 2.5236e+04 0.0000e+00 6.5000e+01 1.0000e+00]\n",
      "DEBUG:xai-privacy:Input sample:     age  education_num  capital_gain  capital_loss  hours_per_week\n",
      "2  46.0           16.0       25236.0           0.0            65.0\n",
      "DEBUG:xai-privacy:Indices: [[4177 2364 2212 1349 2272]]\n",
      "DEBUG:xai-privacy:K nearest neighbors: \n",
      " [[   46    16 25236     0    65     1]\n",
      " [   51    14 25236     0    50     1]\n",
      " [   45    14 25236     0    42     1]\n",
      " [   45    15 25236     0    36     1]\n",
      " [   47    13 25236     0    35     1]]\n",
      "DEBUG:xai-privacy:Inferred membership: True\n",
      "DEBUG:xai-privacy:Checking sample 3: [17.  8.  0.  0. 15.  0.]\n",
      "DEBUG:xai-privacy:Input sample:     age  education_num  capital_gain  capital_loss  hours_per_week\n",
      "3  17.0            8.0           0.0           0.0            15.0\n",
      "DEBUG:xai-privacy:Indices: [[4103 5075 3182 4117 2775]]\n",
      "DEBUG:xai-privacy:K nearest neighbors: \n",
      " [[18  8  0  0 15  0]\n",
      " [17  7  0  0 15  0]\n",
      " [18  9  0  0 15  0]\n",
      " [17  6  0  0 15  0]\n",
      " [19  8  0  0 15  0]]\n",
      "DEBUG:xai-privacy:Inferred membership: False\n",
      "DEBUG:xai-privacy:Checking sample 4: [3.900e+01 1.400e+01 7.688e+03 0.000e+00 6.500e+01 1.000e+00]\n",
      "DEBUG:xai-privacy:Input sample:     age  education_num  capital_gain  capital_loss  hours_per_week\n",
      "4  39.0           14.0        7688.0           0.0            65.0\n",
      "DEBUG:xai-privacy:Indices: [[2548 2998 3356 4706 1132]]\n",
      "DEBUG:xai-privacy:K nearest neighbors: \n",
      " [[  39   14 7688    0   65    1]\n",
      " [  38    9 7688    0   70    1]\n",
      " [  34   15 7688    0   60    1]\n",
      " [  44   13 7688    0   60    1]\n",
      " [  37    9 7688    0   60    1]]\n",
      "DEBUG:xai-privacy:Inferred membership: True\n",
      "DEBUG:xai-privacy:Checking sample 5: [48. 10.  0.  0. 65.  1.]\n",
      "DEBUG:xai-privacy:Input sample:     age  education_num  capital_gain  capital_loss  hours_per_week\n",
      "5  48.0           10.0           0.0           0.0            65.0\n",
      "DEBUG:xai-privacy:Indices: [[3321 1365   91 5068 3452]]\n",
      "DEBUG:xai-privacy:K nearest neighbors: \n",
      " [[48  9  0  0 65  0]\n",
      " [45 10  0  0 65  1]\n",
      " [47 12  0  0 67  0]\n",
      " [46 11  0  0 63  0]\n",
      " [47 13  0  0 65  0]]\n",
      "DEBUG:xai-privacy:Inferred membership: False\n",
      "DEBUG:xai-privacy:Checking sample 6: [29. 13.  0.  0. 35.  0.]\n",
      "DEBUG:xai-privacy:Input sample:     age  education_num  capital_gain  capital_loss  hours_per_week\n",
      "6  29.0           13.0           0.0           0.0            35.0\n",
      "DEBUG:xai-privacy:Indices: [[ 188 3213 1680  150 2754]]\n",
      "DEBUG:xai-privacy:K nearest neighbors: \n",
      " [[29 13  0  0 35  0]\n",
      " [29 14  0  0 36  0]\n",
      " [28 12  0  0 35  0]\n",
      " [30 13  0  0 36  1]\n",
      " [29 12  0  0 36  0]]\n",
      "DEBUG:xai-privacy:Inferred membership: True\n",
      "DEBUG:xai-privacy:Checking sample 7: [5.3000e+01 1.4000e+01 1.5024e+04 0.0000e+00 5.5000e+01 1.0000e+00]\n",
      "DEBUG:xai-privacy:Input sample:     age  education_num  capital_gain  capital_loss  hours_per_week\n",
      "7  53.0           14.0       15024.0           0.0            55.0\n",
      "DEBUG:xai-privacy:Indices: [[2661 4886 2837 3960 3727]]\n",
      "DEBUG:xai-privacy:K nearest neighbors: \n",
      " [[   52    13 15024     0    55     1]\n",
      " [   55    13 15024     0    55     1]\n",
      " [   52    10 15024     0    55     1]\n",
      " [   54    13 15024     0    60     1]\n",
      " [   52    13 15024     0    50     1]]\n",
      "DEBUG:xai-privacy:Inferred membership: False\n",
      "DEBUG:xai-privacy:Checking sample 8: [55.  9.  0.  0. 40.  0.]\n",
      "DEBUG:xai-privacy:Input sample:     age  education_num  capital_gain  capital_loss  hours_per_week\n",
      "8  55.0            9.0           0.0           0.0            40.0\n",
      "DEBUG:xai-privacy:Indices: [[2245 1547 2161 1044 1653]]\n",
      "DEBUG:xai-privacy:K nearest neighbors: \n",
      " [[55  9  0  0 40  0]\n",
      " [55 10  0  0 40  0]\n",
      " [56 10  0  0 40  0]\n",
      " [54  8  0  0 40  0]\n",
      " [56  9  0  0 41  0]]\n",
      "DEBUG:xai-privacy:Inferred membership: True\n",
      "DEBUG:xai-privacy:Checking sample 9: [56. 10.  0.  0. 41.  1.]\n",
      "DEBUG:xai-privacy:Input sample:     age  education_num  capital_gain  capital_loss  hours_per_week\n",
      "9  56.0           10.0           0.0           0.0            41.0\n",
      "DEBUG:xai-privacy:Indices: [[1653 2161 3504 3008 1547]]\n",
      "DEBUG:xai-privacy:K nearest neighbors: \n",
      " [[56  9  0  0 41  0]\n",
      " [56 10  0  0 40  0]\n",
      " [56 11  0  0 40  1]\n",
      " [57 10  0  0 42  0]\n",
      " [55 10  0  0 40  0]]\n",
      "DEBUG:xai-privacy:Inferred membership: False\n"
     ]
    },
    {
     "name": "stdout",
     "output_type": "stream",
     "text": [
      "Total time: 0.15s (training model: 0.02s, training explainer: 0.00s, experiment: 0.13s)\n",
      "Accuracy: 1.0, precision: 1.0, recall: 1.0\n"
     ]
    }
   ],
   "source": [
    "logger.setLevel(logging.DEBUG)\n",
    "\n",
    "EXP = KnnMembershipInference(census_num, numeric_features_census, outcome_name_census, random_state=0)\n",
    "EXP.membership_inference_experiment(num_queries=10, model=DecisionTreeClassifier(random_state=0), model_access=False, threads=1)\n",
    "\n",
    "logger.setLevel(logging.INFO)"
   ]
  },
  {
   "cell_type": "markdown",
   "id": "1ce9ba36",
   "metadata": {},
   "source": [
    "The proof of concept should show that the membership inference function predicts membership very accurately."
   ]
  },
  {
   "cell_type": "markdown",
   "id": "3d8971c1",
   "metadata": {},
   "source": [
    "Now we begin executing the actual experiment. We begin by defining the table that will hold the results for all our different experiment variations. Then we execute all variations of the experiment for this dataset. We vary the model between a decision tree, a random forest and a neural network. Each model uses the default configuration of scikit-learn."
   ]
  },
  {
   "cell_type": "code",
   "execution_count": 9,
   "id": "f3f11f2c-e5e5-4d5f-b4e8-0c2a53bf5528",
   "metadata": {},
   "outputs": [],
   "source": [
    "dataset_dicts = [data_heart_dict, data_heart_num_dict, data_heart_cat_dict, data_census_dict, data_census_num_dict, data_census_cat_dict]\n",
    "\n",
    "dt_dict = {'name': 'decision tree', 'model': DecisionTreeClassifier}\n",
    "rf_dict = {'name': 'random forest', 'model': es.RandomForestClassifier}\n",
    "nn_dict = {'name': 'neural network', 'model': MLPClassifier}\n",
    "\n",
    "model_dicts = [dt_dict, rf_dict, nn_dict]"
   ]
  },
  {
   "cell_type": "code",
   "execution_count": 10,
   "id": "1c8661dd-d019-4034-9a0b-15365aee7065",
   "metadata": {
    "scrolled": false
   },
   "outputs": [
    {
     "name": "stdout",
     "output_type": "stream",
     "text": [
      "dataset: heart, model: decision tree (repetition 0)\n",
      "Total time: 4.75s (training model: 0.01s, training explainer: 0.00s, experiment: 4.74s)\n",
      "Accuracy: 1.0, precision: 1.0, recall: 1.0\n",
      "dataset: heart, model: decision tree (repetition 1)\n",
      "Total time: 4.82s (training model: 0.02s, training explainer: 0.00s, experiment: 4.81s)\n",
      "Accuracy: 1.0, precision: 1.0, recall: 1.0\n",
      "dataset: heart, model: decision tree (repetition 2)\n",
      "Total time: 4.83s (training model: 0.00s, training explainer: 0.02s, experiment: 4.81s)\n",
      "Accuracy: 1.0, precision: 1.0, recall: 1.0\n",
      "dataset: heart, model: decision tree (repetition 3)\n",
      "Total time: 4.80s (training model: 0.02s, training explainer: 0.00s, experiment: 4.78s)\n",
      "Accuracy: 1.0, precision: 1.0, recall: 1.0\n",
      "dataset: heart, model: decision tree (repetition 4)\n",
      "Total time: 4.82s (training model: 0.02s, training explainer: 0.00s, experiment: 4.81s)\n",
      "Accuracy: 1.0, precision: 1.0, recall: 1.0\n",
      "dataset: heart, model: decision tree (repetition 5)\n",
      "Total time: 5.02s (training model: 0.02s, training explainer: 0.00s, experiment: 5.00s)\n",
      "Accuracy: 1.0, precision: 1.0, recall: 1.0\n",
      "dataset: heart, model: decision tree (repetition 6)\n",
      "Total time: 5.60s (training model: 0.02s, training explainer: 0.00s, experiment: 5.59s)\n",
      "Accuracy: 1.0, precision: 1.0, recall: 1.0\n",
      "dataset: heart, model: decision tree (repetition 7)\n",
      "Total time: 4.79s (training model: 0.02s, training explainer: 0.00s, experiment: 4.77s)\n",
      "Accuracy: 1.0, precision: 1.0, recall: 1.0\n",
      "dataset: heart, model: decision tree (repetition 8)\n",
      "Total time: 4.84s (training model: 0.02s, training explainer: 0.00s, experiment: 4.82s)\n",
      "Accuracy: 1.0, precision: 1.0, recall: 1.0\n",
      "dataset: heart, model: decision tree (repetition 9)\n",
      "Total time: 4.96s (training model: 0.02s, training explainer: 0.00s, experiment: 4.94s)\n",
      "Accuracy: 1.0, precision: 1.0, recall: 1.0\n",
      "dataset: heart, model: random forest (repetition 0)\n",
      "Total time: 5.58s (training model: 0.16s, training explainer: 0.00s, experiment: 5.42s)\n",
      "Accuracy: 1.0, precision: 1.0, recall: 1.0\n",
      "dataset: heart, model: random forest (repetition 1)\n",
      "Total time: 5.02s (training model: 0.19s, training explainer: 0.01s, experiment: 4.82s)\n",
      "Accuracy: 1.0, precision: 1.0, recall: 1.0\n",
      "dataset: heart, model: random forest (repetition 2)\n",
      "Total time: 4.93s (training model: 0.14s, training explainer: 0.00s, experiment: 4.78s)\n",
      "Accuracy: 1.0, precision: 1.0, recall: 1.0\n",
      "dataset: heart, model: random forest (repetition 3)\n",
      "Total time: 4.99s (training model: 0.14s, training explainer: 0.00s, experiment: 4.84s)\n",
      "Accuracy: 1.0, precision: 1.0, recall: 1.0\n",
      "dataset: heart, model: random forest (repetition 4)\n",
      "Total time: 4.96s (training model: 0.16s, training explainer: 0.00s, experiment: 4.80s)\n",
      "Accuracy: 1.0, precision: 1.0, recall: 1.0\n",
      "dataset: heart, model: random forest (repetition 5)\n",
      "Total time: 5.00s (training model: 0.18s, training explainer: 0.00s, experiment: 4.82s)\n",
      "Accuracy: 1.0, precision: 1.0, recall: 1.0\n",
      "dataset: heart, model: random forest (repetition 6)\n",
      "Total time: 5.07s (training model: 0.15s, training explainer: 0.00s, experiment: 4.92s)\n",
      "Accuracy: 1.0, precision: 1.0, recall: 1.0\n",
      "dataset: heart, model: random forest (repetition 7)\n",
      "Total time: 5.01s (training model: 0.15s, training explainer: 0.00s, experiment: 4.86s)\n",
      "Accuracy: 1.0, precision: 1.0, recall: 1.0\n",
      "dataset: heart, model: random forest (repetition 8)\n",
      "Total time: 4.93s (training model: 0.12s, training explainer: 0.00s, experiment: 4.82s)\n",
      "Accuracy: 1.0, precision: 1.0, recall: 1.0\n",
      "dataset: heart, model: random forest (repetition 9)\n",
      "Total time: 4.95s (training model: 0.14s, training explainer: 0.02s, experiment: 4.79s)\n",
      "Accuracy: 1.0, precision: 1.0, recall: 1.0\n",
      "dataset: heart, model: neural network (repetition 0)\n"
     ]
    },
    {
     "name": "stderr",
     "output_type": "stream",
     "text": [
      "c:\\users\\ml_ks\\venvs\\xai_new\\lib\\site-packages\\sklearn\\neural_network\\_multilayer_perceptron.py:702: ConvergenceWarning: Stochastic Optimizer: Maximum iterations (200) reached and the optimization hasn't converged yet.\n",
      "  warnings.warn(\n"
     ]
    },
    {
     "name": "stdout",
     "output_type": "stream",
     "text": [
      "Total time: 5.90s (training model: 1.02s, training explainer: 0.00s, experiment: 4.88s)\n",
      "Accuracy: 1.0, precision: 1.0, recall: 1.0\n",
      "dataset: heart, model: neural network (repetition 1)\n"
     ]
    },
    {
     "name": "stderr",
     "output_type": "stream",
     "text": [
      "c:\\users\\ml_ks\\venvs\\xai_new\\lib\\site-packages\\sklearn\\neural_network\\_multilayer_perceptron.py:702: ConvergenceWarning: Stochastic Optimizer: Maximum iterations (200) reached and the optimization hasn't converged yet.\n",
      "  warnings.warn(\n"
     ]
    },
    {
     "name": "stdout",
     "output_type": "stream",
     "text": [
      "Total time: 5.81s (training model: 0.97s, training explainer: 0.00s, experiment: 4.84s)\n",
      "Accuracy: 1.0, precision: 1.0, recall: 1.0\n",
      "dataset: heart, model: neural network (repetition 2)\n"
     ]
    },
    {
     "name": "stderr",
     "output_type": "stream",
     "text": [
      "c:\\users\\ml_ks\\venvs\\xai_new\\lib\\site-packages\\sklearn\\neural_network\\_multilayer_perceptron.py:702: ConvergenceWarning: Stochastic Optimizer: Maximum iterations (200) reached and the optimization hasn't converged yet.\n",
      "  warnings.warn(\n"
     ]
    },
    {
     "name": "stdout",
     "output_type": "stream",
     "text": [
      "Total time: 5.80s (training model: 0.99s, training explainer: 0.00s, experiment: 4.80s)\n",
      "Accuracy: 1.0, precision: 1.0, recall: 1.0\n",
      "dataset: heart, model: neural network (repetition 3)\n"
     ]
    },
    {
     "name": "stderr",
     "output_type": "stream",
     "text": [
      "c:\\users\\ml_ks\\venvs\\xai_new\\lib\\site-packages\\sklearn\\neural_network\\_multilayer_perceptron.py:702: ConvergenceWarning: Stochastic Optimizer: Maximum iterations (200) reached and the optimization hasn't converged yet.\n",
      "  warnings.warn(\n"
     ]
    },
    {
     "name": "stdout",
     "output_type": "stream",
     "text": [
      "Total time: 5.79s (training model: 1.00s, training explainer: 0.00s, experiment: 4.80s)\n",
      "Accuracy: 1.0, precision: 1.0, recall: 1.0\n",
      "dataset: heart, model: neural network (repetition 4)\n"
     ]
    },
    {
     "name": "stderr",
     "output_type": "stream",
     "text": [
      "c:\\users\\ml_ks\\venvs\\xai_new\\lib\\site-packages\\sklearn\\neural_network\\_multilayer_perceptron.py:702: ConvergenceWarning: Stochastic Optimizer: Maximum iterations (200) reached and the optimization hasn't converged yet.\n",
      "  warnings.warn(\n"
     ]
    },
    {
     "name": "stdout",
     "output_type": "stream",
     "text": [
      "Total time: 5.79s (training model: 0.98s, training explainer: 0.00s, experiment: 4.81s)\n",
      "Accuracy: 1.0, precision: 1.0, recall: 1.0\n",
      "dataset: heart, model: neural network (repetition 5)\n"
     ]
    },
    {
     "name": "stderr",
     "output_type": "stream",
     "text": [
      "c:\\users\\ml_ks\\venvs\\xai_new\\lib\\site-packages\\sklearn\\neural_network\\_multilayer_perceptron.py:702: ConvergenceWarning: Stochastic Optimizer: Maximum iterations (200) reached and the optimization hasn't converged yet.\n",
      "  warnings.warn(\n"
     ]
    },
    {
     "name": "stdout",
     "output_type": "stream",
     "text": [
      "Total time: 5.79s (training model: 0.99s, training explainer: 0.00s, experiment: 4.80s)\n",
      "Accuracy: 1.0, precision: 1.0, recall: 1.0\n",
      "dataset: heart, model: neural network (repetition 6)\n"
     ]
    },
    {
     "name": "stderr",
     "output_type": "stream",
     "text": [
      "c:\\users\\ml_ks\\venvs\\xai_new\\lib\\site-packages\\sklearn\\neural_network\\_multilayer_perceptron.py:702: ConvergenceWarning: Stochastic Optimizer: Maximum iterations (200) reached and the optimization hasn't converged yet.\n",
      "  warnings.warn(\n"
     ]
    },
    {
     "name": "stdout",
     "output_type": "stream",
     "text": [
      "Total time: 5.76s (training model: 0.98s, training explainer: 0.00s, experiment: 4.78s)\n",
      "Accuracy: 1.0, precision: 1.0, recall: 1.0\n",
      "dataset: heart, model: neural network (repetition 7)\n"
     ]
    },
    {
     "name": "stderr",
     "output_type": "stream",
     "text": [
      "c:\\users\\ml_ks\\venvs\\xai_new\\lib\\site-packages\\sklearn\\neural_network\\_multilayer_perceptron.py:702: ConvergenceWarning: Stochastic Optimizer: Maximum iterations (200) reached and the optimization hasn't converged yet.\n",
      "  warnings.warn(\n"
     ]
    },
    {
     "name": "stdout",
     "output_type": "stream",
     "text": [
      "Total time: 5.83s (training model: 1.00s, training explainer: 0.00s, experiment: 4.83s)\n",
      "Accuracy: 1.0, precision: 1.0, recall: 1.0\n",
      "dataset: heart, model: neural network (repetition 8)\n"
     ]
    },
    {
     "name": "stderr",
     "output_type": "stream",
     "text": [
      "c:\\users\\ml_ks\\venvs\\xai_new\\lib\\site-packages\\sklearn\\neural_network\\_multilayer_perceptron.py:702: ConvergenceWarning: Stochastic Optimizer: Maximum iterations (200) reached and the optimization hasn't converged yet.\n",
      "  warnings.warn(\n"
     ]
    },
    {
     "name": "stdout",
     "output_type": "stream",
     "text": [
      "Total time: 5.89s (training model: 0.98s, training explainer: 0.00s, experiment: 4.91s)\n",
      "Accuracy: 1.0, precision: 1.0, recall: 1.0\n",
      "dataset: heart, model: neural network (repetition 9)\n"
     ]
    },
    {
     "name": "stderr",
     "output_type": "stream",
     "text": [
      "c:\\users\\ml_ks\\venvs\\xai_new\\lib\\site-packages\\sklearn\\neural_network\\_multilayer_perceptron.py:702: ConvergenceWarning: Stochastic Optimizer: Maximum iterations (200) reached and the optimization hasn't converged yet.\n",
      "  warnings.warn(\n"
     ]
    },
    {
     "name": "stdout",
     "output_type": "stream",
     "text": [
      "Total time: 5.81s (training model: 0.99s, training explainer: 0.00s, experiment: 4.82s)\n",
      "Accuracy: 1.0, precision: 1.0, recall: 1.0\n",
      "dataset: heart numeric, model: decision tree (repetition 0)\n",
      "Total time: 3.85s (training model: 0.00s, training explainer: 0.02s, experiment: 3.84s)\n",
      "Accuracy: 1.0, precision: 1.0, recall: 1.0\n",
      "dataset: heart numeric, model: decision tree (repetition 1)\n",
      "Total time: 3.91s (training model: 0.00s, training explainer: 0.00s, experiment: 3.91s)\n",
      "Accuracy: 1.0, precision: 1.0, recall: 1.0\n",
      "dataset: heart numeric, model: decision tree (repetition 2)\n",
      "Total time: 3.89s (training model: 0.01s, training explainer: 0.00s, experiment: 3.88s)\n",
      "Accuracy: 1.0, precision: 1.0, recall: 1.0\n",
      "dataset: heart numeric, model: decision tree (repetition 3)\n",
      "Total time: 3.90s (training model: 0.02s, training explainer: 0.00s, experiment: 3.88s)\n",
      "Accuracy: 1.0, precision: 1.0, recall: 1.0\n",
      "dataset: heart numeric, model: decision tree (repetition 4)\n",
      "Total time: 3.87s (training model: 0.02s, training explainer: 0.00s, experiment: 3.85s)\n",
      "Accuracy: 1.0, precision: 1.0, recall: 1.0\n",
      "dataset: heart numeric, model: decision tree (repetition 5)\n",
      "Total time: 3.89s (training model: 0.00s, training explainer: 0.00s, experiment: 3.89s)\n",
      "Accuracy: 1.0, precision: 1.0, recall: 1.0\n",
      "dataset: heart numeric, model: decision tree (repetition 6)\n",
      "Total time: 3.88s (training model: 0.00s, training explainer: 0.00s, experiment: 3.88s)\n",
      "Accuracy: 1.0, precision: 1.0, recall: 1.0\n",
      "dataset: heart numeric, model: decision tree (repetition 7)\n",
      "Total time: 3.90s (training model: 0.00s, training explainer: 0.02s, experiment: 3.88s)\n",
      "Accuracy: 1.0, precision: 1.0, recall: 1.0\n",
      "dataset: heart numeric, model: decision tree (repetition 8)\n",
      "Total time: 3.90s (training model: 0.02s, training explainer: 0.00s, experiment: 3.89s)\n",
      "Accuracy: 1.0, precision: 1.0, recall: 1.0\n",
      "dataset: heart numeric, model: decision tree (repetition 9)\n",
      "Total time: 3.87s (training model: 0.02s, training explainer: 0.00s, experiment: 3.85s)\n",
      "Accuracy: 1.0, precision: 1.0, recall: 1.0\n",
      "dataset: heart numeric, model: random forest (repetition 0)\n",
      "Total time: 4.01s (training model: 0.14s, training explainer: 0.00s, experiment: 3.87s)\n",
      "Accuracy: 1.0, precision: 1.0, recall: 1.0\n",
      "dataset: heart numeric, model: random forest (repetition 1)\n",
      "Total time: 4.04s (training model: 0.11s, training explainer: 0.02s, experiment: 3.92s)\n",
      "Accuracy: 1.0, precision: 1.0, recall: 1.0\n",
      "dataset: heart numeric, model: random forest (repetition 2)\n",
      "Total time: 4.00s (training model: 0.14s, training explainer: 0.00s, experiment: 3.85s)\n",
      "Accuracy: 1.0, precision: 1.0, recall: 1.0\n",
      "dataset: heart numeric, model: random forest (repetition 3)\n",
      "Total time: 4.00s (training model: 0.11s, training explainer: 0.00s, experiment: 3.89s)\n",
      "Accuracy: 1.0, precision: 1.0, recall: 1.0\n",
      "dataset: heart numeric, model: random forest (repetition 4)\n",
      "Total time: 4.02s (training model: 0.12s, training explainer: 0.00s, experiment: 3.90s)\n",
      "Accuracy: 1.0, precision: 1.0, recall: 1.0\n",
      "dataset: heart numeric, model: random forest (repetition 5)\n",
      "Total time: 4.01s (training model: 0.11s, training explainer: 0.00s, experiment: 3.90s)\n",
      "Accuracy: 1.0, precision: 1.0, recall: 1.0\n",
      "dataset: heart numeric, model: random forest (repetition 6)\n",
      "Total time: 4.00s (training model: 0.14s, training explainer: 0.00s, experiment: 3.85s)\n",
      "Accuracy: 1.0, precision: 1.0, recall: 1.0\n",
      "dataset: heart numeric, model: random forest (repetition 7)\n",
      "Total time: 3.98s (training model: 0.11s, training explainer: 0.02s, experiment: 3.86s)\n",
      "Accuracy: 1.0, precision: 1.0, recall: 1.0\n",
      "dataset: heart numeric, model: random forest (repetition 8)\n",
      "Total time: 4.00s (training model: 0.11s, training explainer: 0.02s, experiment: 3.88s)\n",
      "Accuracy: 1.0, precision: 1.0, recall: 1.0\n",
      "dataset: heart numeric, model: random forest (repetition 9)\n",
      "Total time: 4.01s (training model: 0.13s, training explainer: 0.00s, experiment: 3.89s)\n",
      "Accuracy: 1.0, precision: 1.0, recall: 1.0\n",
      "dataset: heart numeric, model: neural network (repetition 0)\n"
     ]
    },
    {
     "name": "stderr",
     "output_type": "stream",
     "text": [
      "c:\\users\\ml_ks\\venvs\\xai_new\\lib\\site-packages\\sklearn\\neural_network\\_multilayer_perceptron.py:702: ConvergenceWarning: Stochastic Optimizer: Maximum iterations (200) reached and the optimization hasn't converged yet.\n",
      "  warnings.warn(\n"
     ]
    },
    {
     "name": "stdout",
     "output_type": "stream",
     "text": [
      "Total time: 4.52s (training model: 0.59s, training explainer: 0.00s, experiment: 3.93s)\n",
      "Accuracy: 1.0, precision: 1.0, recall: 1.0\n",
      "dataset: heart numeric, model: neural network (repetition 1)\n",
      "Total time: 4.45s (training model: 0.60s, training explainer: 0.00s, experiment: 3.85s)\n",
      "Accuracy: 1.0, precision: 1.0, recall: 1.0\n",
      "dataset: heart numeric, model: neural network (repetition 2)\n"
     ]
    },
    {
     "name": "stderr",
     "output_type": "stream",
     "text": [
      "c:\\users\\ml_ks\\venvs\\xai_new\\lib\\site-packages\\sklearn\\neural_network\\_multilayer_perceptron.py:702: ConvergenceWarning: Stochastic Optimizer: Maximum iterations (200) reached and the optimization hasn't converged yet.\n",
      "  warnings.warn(\n"
     ]
    },
    {
     "name": "stdout",
     "output_type": "stream",
     "text": [
      "Total time: 4.48s (training model: 0.60s, training explainer: 0.00s, experiment: 3.88s)\n",
      "Accuracy: 1.0, precision: 1.0, recall: 1.0\n",
      "dataset: heart numeric, model: neural network (repetition 3)\n"
     ]
    },
    {
     "name": "stderr",
     "output_type": "stream",
     "text": [
      "c:\\users\\ml_ks\\venvs\\xai_new\\lib\\site-packages\\sklearn\\neural_network\\_multilayer_perceptron.py:702: ConvergenceWarning: Stochastic Optimizer: Maximum iterations (200) reached and the optimization hasn't converged yet.\n",
      "  warnings.warn(\n"
     ]
    },
    {
     "name": "stdout",
     "output_type": "stream",
     "text": [
      "Total time: 4.57s (training model: 0.69s, training explainer: 0.00s, experiment: 3.87s)\n",
      "Accuracy: 1.0, precision: 1.0, recall: 1.0\n",
      "dataset: heart numeric, model: neural network (repetition 4)\n"
     ]
    },
    {
     "name": "stderr",
     "output_type": "stream",
     "text": [
      "c:\\users\\ml_ks\\venvs\\xai_new\\lib\\site-packages\\sklearn\\neural_network\\_multilayer_perceptron.py:702: ConvergenceWarning: Stochastic Optimizer: Maximum iterations (200) reached and the optimization hasn't converged yet.\n",
      "  warnings.warn(\n"
     ]
    },
    {
     "name": "stdout",
     "output_type": "stream",
     "text": [
      "Total time: 4.46s (training model: 0.64s, training explainer: 0.00s, experiment: 3.82s)\n",
      "Accuracy: 1.0, precision: 1.0, recall: 1.0\n",
      "dataset: heart numeric, model: neural network (repetition 5)\n"
     ]
    },
    {
     "name": "stderr",
     "output_type": "stream",
     "text": [
      "c:\\users\\ml_ks\\venvs\\xai_new\\lib\\site-packages\\sklearn\\neural_network\\_multilayer_perceptron.py:702: ConvergenceWarning: Stochastic Optimizer: Maximum iterations (200) reached and the optimization hasn't converged yet.\n",
      "  warnings.warn(\n"
     ]
    },
    {
     "name": "stdout",
     "output_type": "stream",
     "text": [
      "Total time: 4.45s (training model: 0.58s, training explainer: 0.00s, experiment: 3.87s)\n",
      "Accuracy: 1.0, precision: 1.0, recall: 1.0\n",
      "dataset: heart numeric, model: neural network (repetition 6)\n"
     ]
    },
    {
     "name": "stderr",
     "output_type": "stream",
     "text": [
      "c:\\users\\ml_ks\\venvs\\xai_new\\lib\\site-packages\\sklearn\\neural_network\\_multilayer_perceptron.py:702: ConvergenceWarning: Stochastic Optimizer: Maximum iterations (200) reached and the optimization hasn't converged yet.\n",
      "  warnings.warn(\n"
     ]
    },
    {
     "name": "stdout",
     "output_type": "stream",
     "text": [
      "Total time: 4.43s (training model: 0.58s, training explainer: 0.00s, experiment: 3.85s)\n",
      "Accuracy: 1.0, precision: 1.0, recall: 1.0\n",
      "dataset: heart numeric, model: neural network (repetition 7)\n"
     ]
    },
    {
     "name": "stderr",
     "output_type": "stream",
     "text": [
      "c:\\users\\ml_ks\\venvs\\xai_new\\lib\\site-packages\\sklearn\\neural_network\\_multilayer_perceptron.py:702: ConvergenceWarning: Stochastic Optimizer: Maximum iterations (200) reached and the optimization hasn't converged yet.\n",
      "  warnings.warn(\n"
     ]
    },
    {
     "name": "stdout",
     "output_type": "stream",
     "text": [
      "Total time: 4.45s (training model: 0.58s, training explainer: 0.00s, experiment: 3.87s)\n",
      "Accuracy: 1.0, precision: 1.0, recall: 1.0\n",
      "dataset: heart numeric, model: neural network (repetition 8)\n"
     ]
    },
    {
     "name": "stderr",
     "output_type": "stream",
     "text": [
      "c:\\users\\ml_ks\\venvs\\xai_new\\lib\\site-packages\\sklearn\\neural_network\\_multilayer_perceptron.py:702: ConvergenceWarning: Stochastic Optimizer: Maximum iterations (200) reached and the optimization hasn't converged yet.\n",
      "  warnings.warn(\n"
     ]
    },
    {
     "name": "stdout",
     "output_type": "stream",
     "text": [
      "Total time: 4.44s (training model: 0.58s, training explainer: 0.00s, experiment: 3.86s)\n",
      "Accuracy: 1.0, precision: 1.0, recall: 1.0\n",
      "dataset: heart numeric, model: neural network (repetition 9)\n"
     ]
    },
    {
     "name": "stderr",
     "output_type": "stream",
     "text": [
      "c:\\users\\ml_ks\\venvs\\xai_new\\lib\\site-packages\\sklearn\\neural_network\\_multilayer_perceptron.py:702: ConvergenceWarning: Stochastic Optimizer: Maximum iterations (200) reached and the optimization hasn't converged yet.\n",
      "  warnings.warn(\n"
     ]
    },
    {
     "name": "stdout",
     "output_type": "stream",
     "text": [
      "Total time: 4.60s (training model: 0.61s, training explainer: 0.00s, experiment: 3.99s)\n",
      "Accuracy: 1.0, precision: 1.0, recall: 1.0\n",
      "dataset: heart categorical, model: decision tree (repetition 0)\n",
      "Total time: 5.24s (training model: 0.01s, training explainer: 0.00s, experiment: 5.23s)\n",
      "Accuracy: 1.0, precision: 1.0, recall: 1.0\n",
      "dataset: heart categorical, model: decision tree (repetition 1)\n",
      "Total time: 5.34s (training model: 0.02s, training explainer: 0.01s, experiment: 5.31s)\n",
      "Accuracy: 1.0, precision: 1.0, recall: 1.0\n",
      "dataset: heart categorical, model: decision tree (repetition 2)\n",
      "Total time: 4.84s (training model: 0.01s, training explainer: 0.00s, experiment: 4.83s)\n",
      "Accuracy: 1.0, precision: 1.0, recall: 1.0\n",
      "dataset: heart categorical, model: decision tree (repetition 3)\n",
      "Total time: 4.84s (training model: 0.02s, training explainer: 0.00s, experiment: 4.82s)\n",
      "Accuracy: 1.0, precision: 1.0, recall: 1.0\n",
      "dataset: heart categorical, model: decision tree (repetition 4)\n",
      "Total time: 4.84s (training model: 0.00s, training explainer: 0.00s, experiment: 4.84s)\n",
      "Accuracy: 1.0, precision: 1.0, recall: 1.0\n",
      "dataset: heart categorical, model: decision tree (repetition 5)\n",
      "Total time: 4.87s (training model: 0.01s, training explainer: 0.00s, experiment: 4.86s)\n",
      "Accuracy: 1.0, precision: 1.0, recall: 1.0\n",
      "dataset: heart categorical, model: decision tree (repetition 6)\n",
      "Total time: 4.99s (training model: 0.00s, training explainer: 0.00s, experiment: 4.99s)\n",
      "Accuracy: 1.0, precision: 1.0, recall: 1.0\n",
      "dataset: heart categorical, model: decision tree (repetition 7)\n",
      "Total time: 4.94s (training model: 0.02s, training explainer: 0.00s, experiment: 4.92s)\n",
      "Accuracy: 1.0, precision: 1.0, recall: 1.0\n",
      "dataset: heart categorical, model: decision tree (repetition 8)\n",
      "Total time: 4.90s (training model: 0.00s, training explainer: 0.00s, experiment: 4.90s)\n",
      "Accuracy: 1.0, precision: 1.0, recall: 1.0\n",
      "dataset: heart categorical, model: decision tree (repetition 9)\n",
      "Total time: 4.83s (training model: 0.02s, training explainer: 0.00s, experiment: 4.82s)\n",
      "Accuracy: 1.0, precision: 1.0, recall: 1.0\n",
      "dataset: heart categorical, model: random forest (repetition 0)\n",
      "Total time: 4.94s (training model: 0.13s, training explainer: 0.00s, experiment: 4.81s)\n",
      "Accuracy: 1.0, precision: 1.0, recall: 1.0\n",
      "dataset: heart categorical, model: random forest (repetition 1)\n",
      "Total time: 5.14s (training model: 0.17s, training explainer: 0.00s, experiment: 4.97s)\n",
      "Accuracy: 1.0, precision: 1.0, recall: 1.0\n",
      "dataset: heart categorical, model: random forest (repetition 2)\n",
      "Total time: 4.95s (training model: 0.16s, training explainer: 0.00s, experiment: 4.79s)\n",
      "Accuracy: 1.0, precision: 1.0, recall: 1.0\n",
      "dataset: heart categorical, model: random forest (repetition 3)\n",
      "Total time: 4.93s (training model: 0.13s, training explainer: 0.00s, experiment: 4.81s)\n",
      "Accuracy: 1.0, precision: 1.0, recall: 1.0\n",
      "dataset: heart categorical, model: random forest (repetition 4)\n",
      "Total time: 4.96s (training model: 0.17s, training explainer: 0.01s, experiment: 4.77s)\n",
      "Accuracy: 1.0, precision: 1.0, recall: 1.0\n",
      "dataset: heart categorical, model: random forest (repetition 5)\n",
      "Total time: 4.97s (training model: 0.19s, training explainer: 0.00s, experiment: 4.78s)\n",
      "Accuracy: 1.0, precision: 1.0, recall: 1.0\n",
      "dataset: heart categorical, model: random forest (repetition 6)\n",
      "Total time: 4.96s (training model: 0.20s, training explainer: 0.00s, experiment: 4.76s)\n",
      "Accuracy: 1.0, precision: 1.0, recall: 1.0\n",
      "dataset: heart categorical, model: random forest (repetition 7)\n",
      "Total time: 4.94s (training model: 0.17s, training explainer: 0.00s, experiment: 4.76s)\n",
      "Accuracy: 1.0, precision: 1.0, recall: 1.0\n",
      "dataset: heart categorical, model: random forest (repetition 8)\n",
      "Total time: 4.94s (training model: 0.17s, training explainer: 0.00s, experiment: 4.76s)\n",
      "Accuracy: 1.0, precision: 1.0, recall: 1.0\n",
      "dataset: heart categorical, model: random forest (repetition 9)\n",
      "Total time: 5.01s (training model: 0.20s, training explainer: 0.00s, experiment: 4.80s)\n",
      "Accuracy: 1.0, precision: 1.0, recall: 1.0\n",
      "dataset: heart categorical, model: neural network (repetition 0)\n"
     ]
    },
    {
     "name": "stderr",
     "output_type": "stream",
     "text": [
      "c:\\users\\ml_ks\\venvs\\xai_new\\lib\\site-packages\\sklearn\\neural_network\\_multilayer_perceptron.py:702: ConvergenceWarning: Stochastic Optimizer: Maximum iterations (200) reached and the optimization hasn't converged yet.\n",
      "  warnings.warn(\n"
     ]
    },
    {
     "name": "stdout",
     "output_type": "stream",
     "text": [
      "Total time: 5.69s (training model: 0.91s, training explainer: 0.00s, experiment: 4.78s)\n",
      "Accuracy: 1.0, precision: 1.0, recall: 1.0\n",
      "dataset: heart categorical, model: neural network (repetition 1)\n"
     ]
    },
    {
     "name": "stderr",
     "output_type": "stream",
     "text": [
      "c:\\users\\ml_ks\\venvs\\xai_new\\lib\\site-packages\\sklearn\\neural_network\\_multilayer_perceptron.py:702: ConvergenceWarning: Stochastic Optimizer: Maximum iterations (200) reached and the optimization hasn't converged yet.\n",
      "  warnings.warn(\n"
     ]
    },
    {
     "name": "stdout",
     "output_type": "stream",
     "text": [
      "Total time: 5.67s (training model: 0.88s, training explainer: 0.00s, experiment: 4.79s)\n",
      "Accuracy: 1.0, precision: 1.0, recall: 1.0\n",
      "dataset: heart categorical, model: neural network (repetition 2)\n"
     ]
    },
    {
     "name": "stderr",
     "output_type": "stream",
     "text": [
      "c:\\users\\ml_ks\\venvs\\xai_new\\lib\\site-packages\\sklearn\\neural_network\\_multilayer_perceptron.py:702: ConvergenceWarning: Stochastic Optimizer: Maximum iterations (200) reached and the optimization hasn't converged yet.\n",
      "  warnings.warn(\n"
     ]
    },
    {
     "name": "stdout",
     "output_type": "stream",
     "text": [
      "Total time: 5.64s (training model: 0.85s, training explainer: 0.00s, experiment: 4.79s)\n",
      "Accuracy: 1.0, precision: 1.0, recall: 1.0\n",
      "dataset: heart categorical, model: neural network (repetition 3)\n"
     ]
    },
    {
     "name": "stderr",
     "output_type": "stream",
     "text": [
      "c:\\users\\ml_ks\\venvs\\xai_new\\lib\\site-packages\\sklearn\\neural_network\\_multilayer_perceptron.py:702: ConvergenceWarning: Stochastic Optimizer: Maximum iterations (200) reached and the optimization hasn't converged yet.\n",
      "  warnings.warn(\n"
     ]
    },
    {
     "name": "stdout",
     "output_type": "stream",
     "text": [
      "Total time: 5.64s (training model: 0.86s, training explainer: 0.00s, experiment: 4.78s)\n",
      "Accuracy: 1.0, precision: 1.0, recall: 1.0\n",
      "dataset: heart categorical, model: neural network (repetition 4)\n"
     ]
    },
    {
     "name": "stderr",
     "output_type": "stream",
     "text": [
      "c:\\users\\ml_ks\\venvs\\xai_new\\lib\\site-packages\\sklearn\\neural_network\\_multilayer_perceptron.py:702: ConvergenceWarning: Stochastic Optimizer: Maximum iterations (200) reached and the optimization hasn't converged yet.\n",
      "  warnings.warn(\n"
     ]
    },
    {
     "name": "stdout",
     "output_type": "stream",
     "text": [
      "Total time: 5.73s (training model: 0.86s, training explainer: 0.00s, experiment: 4.87s)\n",
      "Accuracy: 1.0, precision: 1.0, recall: 1.0\n",
      "dataset: heart categorical, model: neural network (repetition 5)\n"
     ]
    },
    {
     "name": "stderr",
     "output_type": "stream",
     "text": [
      "c:\\users\\ml_ks\\venvs\\xai_new\\lib\\site-packages\\sklearn\\neural_network\\_multilayer_perceptron.py:702: ConvergenceWarning: Stochastic Optimizer: Maximum iterations (200) reached and the optimization hasn't converged yet.\n",
      "  warnings.warn(\n"
     ]
    },
    {
     "name": "stdout",
     "output_type": "stream",
     "text": [
      "Total time: 5.68s (training model: 0.88s, training explainer: 0.00s, experiment: 4.80s)\n",
      "Accuracy: 1.0, precision: 1.0, recall: 1.0\n",
      "dataset: heart categorical, model: neural network (repetition 6)\n"
     ]
    },
    {
     "name": "stderr",
     "output_type": "stream",
     "text": [
      "c:\\users\\ml_ks\\venvs\\xai_new\\lib\\site-packages\\sklearn\\neural_network\\_multilayer_perceptron.py:702: ConvergenceWarning: Stochastic Optimizer: Maximum iterations (200) reached and the optimization hasn't converged yet.\n",
      "  warnings.warn(\n"
     ]
    },
    {
     "name": "stdout",
     "output_type": "stream",
     "text": [
      "Total time: 5.68s (training model: 0.88s, training explainer: 0.00s, experiment: 4.80s)\n",
      "Accuracy: 1.0, precision: 1.0, recall: 1.0\n",
      "dataset: heart categorical, model: neural network (repetition 7)\n"
     ]
    },
    {
     "name": "stderr",
     "output_type": "stream",
     "text": [
      "c:\\users\\ml_ks\\venvs\\xai_new\\lib\\site-packages\\sklearn\\neural_network\\_multilayer_perceptron.py:702: ConvergenceWarning: Stochastic Optimizer: Maximum iterations (200) reached and the optimization hasn't converged yet.\n",
      "  warnings.warn(\n"
     ]
    },
    {
     "name": "stdout",
     "output_type": "stream",
     "text": [
      "Total time: 5.64s (training model: 0.86s, training explainer: 0.00s, experiment: 4.78s)\n",
      "Accuracy: 1.0, precision: 1.0, recall: 1.0\n",
      "dataset: heart categorical, model: neural network (repetition 8)\n"
     ]
    },
    {
     "name": "stderr",
     "output_type": "stream",
     "text": [
      "c:\\users\\ml_ks\\venvs\\xai_new\\lib\\site-packages\\sklearn\\neural_network\\_multilayer_perceptron.py:702: ConvergenceWarning: Stochastic Optimizer: Maximum iterations (200) reached and the optimization hasn't converged yet.\n",
      "  warnings.warn(\n"
     ]
    },
    {
     "name": "stdout",
     "output_type": "stream",
     "text": [
      "Total time: 5.65s (training model: 0.85s, training explainer: 0.02s, experiment: 4.79s)\n",
      "Accuracy: 1.0, precision: 1.0, recall: 1.0\n",
      "dataset: heart categorical, model: neural network (repetition 9)\n"
     ]
    },
    {
     "name": "stderr",
     "output_type": "stream",
     "text": [
      "c:\\users\\ml_ks\\venvs\\xai_new\\lib\\site-packages\\sklearn\\neural_network\\_multilayer_perceptron.py:702: ConvergenceWarning: Stochastic Optimizer: Maximum iterations (200) reached and the optimization hasn't converged yet.\n",
      "  warnings.warn(\n"
     ]
    },
    {
     "name": "stdout",
     "output_type": "stream",
     "text": [
      "Total time: 5.65s (training model: 0.86s, training explainer: 0.00s, experiment: 4.79s)\n",
      "Accuracy: 1.0, precision: 1.0, recall: 1.0\n",
      "dataset: census, model: decision tree (repetition 0)\n",
      "Total time: 54.53s (training model: 0.32s, training explainer: 0.03s, experiment: 54.18s)\n",
      "Accuracy: 1.0, precision: 1.0, recall: 1.0\n",
      "dataset: census, model: decision tree (repetition 1)\n",
      "Total time: 54.49s (training model: 0.31s, training explainer: 0.03s, experiment: 54.15s)\n",
      "Accuracy: 1.0, precision: 1.0, recall: 1.0\n",
      "dataset: census, model: decision tree (repetition 2)\n",
      "Total time: 54.55s (training model: 0.33s, training explainer: 0.03s, experiment: 54.19s)\n",
      "Accuracy: 1.0, precision: 1.0, recall: 1.0\n",
      "dataset: census, model: decision tree (repetition 3)\n",
      "Total time: 54.47s (training model: 0.31s, training explainer: 0.02s, experiment: 54.14s)\n",
      "Accuracy: 1.0, precision: 1.0, recall: 1.0\n",
      "dataset: census, model: decision tree (repetition 4)\n",
      "Total time: 54.67s (training model: 0.33s, training explainer: 0.02s, experiment: 54.32s)\n",
      "Accuracy: 1.0, precision: 1.0, recall: 1.0\n",
      "dataset: census, model: decision tree (repetition 5)\n",
      "Total time: 54.64s (training model: 0.36s, training explainer: 0.03s, experiment: 54.25s)\n",
      "Accuracy: 1.0, precision: 1.0, recall: 1.0\n",
      "dataset: census, model: decision tree (repetition 6)\n",
      "Total time: 54.36s (training model: 0.31s, training explainer: 0.03s, experiment: 54.02s)\n",
      "Accuracy: 1.0, precision: 1.0, recall: 1.0\n",
      "dataset: census, model: decision tree (repetition 7)\n",
      "Total time: 54.48s (training model: 0.36s, training explainer: 0.03s, experiment: 54.09s)\n",
      "Accuracy: 1.0, precision: 1.0, recall: 1.0\n",
      "dataset: census, model: decision tree (repetition 8)\n",
      "Total time: 54.35s (training model: 0.35s, training explainer: 0.02s, experiment: 53.99s)\n",
      "Accuracy: 1.0, precision: 1.0, recall: 1.0\n",
      "dataset: census, model: decision tree (repetition 9)\n",
      "Total time: 54.10s (training model: 0.33s, training explainer: 0.02s, experiment: 53.75s)\n",
      "Accuracy: 1.0, precision: 1.0, recall: 1.0\n",
      "dataset: census, model: random forest (repetition 0)\n",
      "Total time: 59.61s (training model: 5.83s, training explainer: 0.02s, experiment: 53.76s)\n",
      "Accuracy: 1.0, precision: 1.0, recall: 1.0\n",
      "dataset: census, model: random forest (repetition 1)\n",
      "Total time: 59.76s (training model: 5.97s, training explainer: 0.03s, experiment: 53.76s)\n",
      "Accuracy: 1.0, precision: 1.0, recall: 1.0\n",
      "dataset: census, model: random forest (repetition 2)\n",
      "Total time: 60.02s (training model: 5.90s, training explainer: 0.02s, experiment: 54.10s)\n",
      "Accuracy: 1.0, precision: 1.0, recall: 1.0\n",
      "dataset: census, model: random forest (repetition 3)\n",
      "Total time: 60.85s (training model: 5.97s, training explainer: 0.02s, experiment: 54.86s)\n",
      "Accuracy: 1.0, precision: 1.0, recall: 1.0\n",
      "dataset: census, model: random forest (repetition 4)\n",
      "Total time: 59.55s (training model: 5.75s, training explainer: 0.02s, experiment: 53.78s)\n",
      "Accuracy: 1.0, precision: 1.0, recall: 1.0\n",
      "dataset: census, model: random forest (repetition 5)\n",
      "Total time: 59.77s (training model: 5.90s, training explainer: 0.02s, experiment: 53.85s)\n",
      "Accuracy: 1.0, precision: 1.0, recall: 1.0\n",
      "dataset: census, model: random forest (repetition 6)\n",
      "Total time: 59.87s (training model: 5.86s, training explainer: 0.03s, experiment: 53.98s)\n",
      "Accuracy: 1.0, precision: 1.0, recall: 1.0\n",
      "dataset: census, model: random forest (repetition 7)\n",
      "Total time: 60.02s (training model: 5.96s, training explainer: 0.03s, experiment: 54.04s)\n",
      "Accuracy: 1.0, precision: 1.0, recall: 1.0\n",
      "dataset: census, model: random forest (repetition 8)\n",
      "Total time: 59.93s (training model: 5.76s, training explainer: 0.03s, experiment: 54.14s)\n",
      "Accuracy: 1.0, precision: 1.0, recall: 1.0\n",
      "dataset: census, model: random forest (repetition 9)\n",
      "Total time: 60.16s (training model: 6.04s, training explainer: 0.02s, experiment: 54.11s)\n",
      "Accuracy: 1.0, precision: 1.0, recall: 1.0\n",
      "dataset: census, model: neural network (repetition 0)\n"
     ]
    },
    {
     "name": "stderr",
     "output_type": "stream",
     "text": [
      "c:\\users\\ml_ks\\venvs\\xai_new\\lib\\site-packages\\sklearn\\neural_network\\_multilayer_perceptron.py:702: ConvergenceWarning: Stochastic Optimizer: Maximum iterations (200) reached and the optimization hasn't converged yet.\n",
      "  warnings.warn(\n"
     ]
    },
    {
     "name": "stdout",
     "output_type": "stream",
     "text": [
      "Total time: 86.74s (training model: 27.42s, training explainer: 0.02s, experiment: 59.31s)\n",
      "Accuracy: 1.0, precision: 1.0, recall: 1.0\n",
      "dataset: census, model: neural network (repetition 1)\n"
     ]
    },
    {
     "name": "stderr",
     "output_type": "stream",
     "text": [
      "c:\\users\\ml_ks\\venvs\\xai_new\\lib\\site-packages\\sklearn\\neural_network\\_multilayer_perceptron.py:702: ConvergenceWarning: Stochastic Optimizer: Maximum iterations (200) reached and the optimization hasn't converged yet.\n",
      "  warnings.warn(\n"
     ]
    },
    {
     "name": "stdout",
     "output_type": "stream",
     "text": [
      "Total time: 85.23s (training model: 28.03s, training explainer: 0.03s, experiment: 57.17s)\n",
      "Accuracy: 1.0, precision: 1.0, recall: 1.0\n",
      "dataset: census, model: neural network (repetition 2)\n"
     ]
    },
    {
     "name": "stderr",
     "output_type": "stream",
     "text": [
      "c:\\users\\ml_ks\\venvs\\xai_new\\lib\\site-packages\\sklearn\\neural_network\\_multilayer_perceptron.py:702: ConvergenceWarning: Stochastic Optimizer: Maximum iterations (200) reached and the optimization hasn't converged yet.\n",
      "  warnings.warn(\n"
     ]
    },
    {
     "name": "stdout",
     "output_type": "stream",
     "text": [
      "Total time: 86.74s (training model: 32.39s, training explainer: 0.02s, experiment: 54.33s)\n",
      "Accuracy: 1.0, precision: 1.0, recall: 1.0\n",
      "dataset: census, model: neural network (repetition 3)\n"
     ]
    },
    {
     "name": "stderr",
     "output_type": "stream",
     "text": [
      "c:\\users\\ml_ks\\venvs\\xai_new\\lib\\site-packages\\sklearn\\neural_network\\_multilayer_perceptron.py:702: ConvergenceWarning: Stochastic Optimizer: Maximum iterations (200) reached and the optimization hasn't converged yet.\n",
      "  warnings.warn(\n"
     ]
    },
    {
     "name": "stdout",
     "output_type": "stream",
     "text": [
      "Total time: 81.88s (training model: 27.71s, training explainer: 0.03s, experiment: 54.15s)\n",
      "Accuracy: 1.0, precision: 1.0, recall: 1.0\n",
      "dataset: census, model: neural network (repetition 4)\n"
     ]
    },
    {
     "name": "stderr",
     "output_type": "stream",
     "text": [
      "c:\\users\\ml_ks\\venvs\\xai_new\\lib\\site-packages\\sklearn\\neural_network\\_multilayer_perceptron.py:702: ConvergenceWarning: Stochastic Optimizer: Maximum iterations (200) reached and the optimization hasn't converged yet.\n",
      "  warnings.warn(\n"
     ]
    },
    {
     "name": "stdout",
     "output_type": "stream",
     "text": [
      "Total time: 81.20s (training model: 27.35s, training explainer: 0.02s, experiment: 53.84s)\n",
      "Accuracy: 1.0, precision: 1.0, recall: 1.0\n",
      "dataset: census, model: neural network (repetition 5)\n"
     ]
    },
    {
     "name": "stderr",
     "output_type": "stream",
     "text": [
      "c:\\users\\ml_ks\\venvs\\xai_new\\lib\\site-packages\\sklearn\\neural_network\\_multilayer_perceptron.py:702: ConvergenceWarning: Stochastic Optimizer: Maximum iterations (200) reached and the optimization hasn't converged yet.\n",
      "  warnings.warn(\n"
     ]
    },
    {
     "name": "stdout",
     "output_type": "stream",
     "text": [
      "Total time: 81.66s (training model: 27.69s, training explainer: 0.02s, experiment: 53.96s)\n",
      "Accuracy: 1.0, precision: 1.0, recall: 1.0\n",
      "dataset: census, model: neural network (repetition 6)\n"
     ]
    },
    {
     "name": "stderr",
     "output_type": "stream",
     "text": [
      "c:\\users\\ml_ks\\venvs\\xai_new\\lib\\site-packages\\sklearn\\neural_network\\_multilayer_perceptron.py:702: ConvergenceWarning: Stochastic Optimizer: Maximum iterations (200) reached and the optimization hasn't converged yet.\n",
      "  warnings.warn(\n"
     ]
    },
    {
     "name": "stdout",
     "output_type": "stream",
     "text": [
      "Total time: 81.69s (training model: 27.44s, training explainer: 0.02s, experiment: 54.23s)\n",
      "Accuracy: 1.0, precision: 1.0, recall: 1.0\n",
      "dataset: census, model: neural network (repetition 7)\n"
     ]
    },
    {
     "name": "stderr",
     "output_type": "stream",
     "text": [
      "c:\\users\\ml_ks\\venvs\\xai_new\\lib\\site-packages\\sklearn\\neural_network\\_multilayer_perceptron.py:702: ConvergenceWarning: Stochastic Optimizer: Maximum iterations (200) reached and the optimization hasn't converged yet.\n",
      "  warnings.warn(\n"
     ]
    },
    {
     "name": "stdout",
     "output_type": "stream",
     "text": [
      "Total time: 81.99s (training model: 27.59s, training explainer: 0.01s, experiment: 54.38s)\n",
      "Accuracy: 1.0, precision: 1.0, recall: 1.0\n",
      "dataset: census, model: neural network (repetition 8)\n"
     ]
    },
    {
     "name": "stderr",
     "output_type": "stream",
     "text": [
      "c:\\users\\ml_ks\\venvs\\xai_new\\lib\\site-packages\\sklearn\\neural_network\\_multilayer_perceptron.py:702: ConvergenceWarning: Stochastic Optimizer: Maximum iterations (200) reached and the optimization hasn't converged yet.\n",
      "  warnings.warn(\n"
     ]
    },
    {
     "name": "stdout",
     "output_type": "stream",
     "text": [
      "Total time: 81.12s (training model: 27.09s, training explainer: 0.02s, experiment: 54.02s)\n",
      "Accuracy: 1.0, precision: 1.0, recall: 1.0\n",
      "dataset: census, model: neural network (repetition 9)\n"
     ]
    },
    {
     "name": "stderr",
     "output_type": "stream",
     "text": [
      "c:\\users\\ml_ks\\venvs\\xai_new\\lib\\site-packages\\sklearn\\neural_network\\_multilayer_perceptron.py:702: ConvergenceWarning: Stochastic Optimizer: Maximum iterations (200) reached and the optimization hasn't converged yet.\n",
      "  warnings.warn(\n"
     ]
    },
    {
     "name": "stdout",
     "output_type": "stream",
     "text": [
      "Total time: 81.01s (training model: 27.30s, training explainer: 0.02s, experiment: 53.69s)\n",
      "Accuracy: 1.0, precision: 1.0, recall: 1.0\n",
      "dataset: census numeric, model: decision tree (repetition 0)\n",
      "Total time: 13.02s (training model: 0.02s, training explainer: 0.01s, experiment: 12.99s)\n",
      "Accuracy: 1.0, precision: 1.0, recall: 1.0\n",
      "dataset: census numeric, model: decision tree (repetition 1)\n",
      "Total time: 13.02s (training model: 0.02s, training explainer: 0.00s, experiment: 13.00s)\n",
      "Accuracy: 1.0, precision: 1.0, recall: 1.0\n",
      "dataset: census numeric, model: decision tree (repetition 2)\n",
      "Total time: 13.02s (training model: 0.01s, training explainer: 0.02s, experiment: 12.99s)\n",
      "Accuracy: 1.0, precision: 1.0, recall: 1.0\n",
      "dataset: census numeric, model: decision tree (repetition 3)\n",
      "Total time: 13.02s (training model: 0.01s, training explainer: 0.00s, experiment: 13.01s)\n",
      "Accuracy: 1.0, precision: 1.0, recall: 1.0\n",
      "dataset: census numeric, model: decision tree (repetition 4)\n",
      "Total time: 13.03s (training model: 0.01s, training explainer: 0.01s, experiment: 13.01s)\n",
      "Accuracy: 1.0, precision: 1.0, recall: 1.0\n",
      "dataset: census numeric, model: decision tree (repetition 5)\n",
      "Total time: 13.69s (training model: 0.01s, training explainer: 0.00s, experiment: 13.67s)\n",
      "Accuracy: 1.0, precision: 1.0, recall: 1.0\n",
      "dataset: census numeric, model: decision tree (repetition 6)\n",
      "Total time: 14.21s (training model: 0.02s, training explainer: 0.00s, experiment: 14.19s)\n",
      "Accuracy: 1.0, precision: 1.0, recall: 1.0\n",
      "dataset: census numeric, model: decision tree (repetition 7)\n",
      "Total time: 13.59s (training model: 0.00s, training explainer: 0.02s, experiment: 13.57s)\n",
      "Accuracy: 1.0, precision: 1.0, recall: 1.0\n",
      "dataset: census numeric, model: decision tree (repetition 8)\n",
      "Total time: 13.15s (training model: 0.01s, training explainer: 0.00s, experiment: 13.14s)\n",
      "Accuracy: 1.0, precision: 1.0, recall: 1.0\n",
      "dataset: census numeric, model: decision tree (repetition 9)\n",
      "Total time: 13.55s (training model: 0.02s, training explainer: 0.00s, experiment: 13.53s)\n",
      "Accuracy: 1.0, precision: 1.0, recall: 1.0\n",
      "dataset: census numeric, model: random forest (repetition 0)\n",
      "Total time: 13.47s (training model: 0.38s, training explainer: 0.00s, experiment: 13.10s)\n",
      "Accuracy: 1.0, precision: 1.0, recall: 1.0\n",
      "dataset: census numeric, model: random forest (repetition 1)\n",
      "Total time: 13.40s (training model: 0.35s, training explainer: 0.00s, experiment: 13.06s)\n",
      "Accuracy: 1.0, precision: 1.0, recall: 1.0\n",
      "dataset: census numeric, model: random forest (repetition 2)\n",
      "Total time: 13.54s (training model: 0.41s, training explainer: 0.00s, experiment: 13.13s)\n",
      "Accuracy: 1.0, precision: 1.0, recall: 1.0\n",
      "dataset: census numeric, model: random forest (repetition 3)\n",
      "Total time: 13.44s (training model: 0.37s, training explainer: 0.00s, experiment: 13.07s)\n",
      "Accuracy: 1.0, precision: 1.0, recall: 1.0\n",
      "dataset: census numeric, model: random forest (repetition 4)\n",
      "Total time: 13.38s (training model: 0.36s, training explainer: 0.00s, experiment: 13.02s)\n",
      "Accuracy: 1.0, precision: 1.0, recall: 1.0\n",
      "dataset: census numeric, model: random forest (repetition 5)\n",
      "Total time: 13.55s (training model: 0.33s, training explainer: 0.00s, experiment: 13.22s)\n",
      "Accuracy: 1.0, precision: 1.0, recall: 1.0\n",
      "dataset: census numeric, model: random forest (repetition 6)\n",
      "Total time: 13.33s (training model: 0.35s, training explainer: 0.00s, experiment: 12.97s)\n",
      "Accuracy: 1.0, precision: 1.0, recall: 1.0\n",
      "dataset: census numeric, model: random forest (repetition 7)\n",
      "Total time: 13.37s (training model: 0.37s, training explainer: 0.02s, experiment: 12.99s)\n",
      "Accuracy: 1.0, precision: 1.0, recall: 1.0\n",
      "dataset: census numeric, model: random forest (repetition 8)\n",
      "Total time: 13.42s (training model: 0.37s, training explainer: 0.00s, experiment: 13.04s)\n",
      "Accuracy: 1.0, precision: 1.0, recall: 1.0\n",
      "dataset: census numeric, model: random forest (repetition 9)\n",
      "Total time: 13.45s (training model: 0.40s, training explainer: 0.00s, experiment: 13.05s)\n",
      "Accuracy: 1.0, precision: 1.0, recall: 1.0\n",
      "dataset: census numeric, model: neural network (repetition 0)\n"
     ]
    },
    {
     "name": "stderr",
     "output_type": "stream",
     "text": [
      "c:\\users\\ml_ks\\venvs\\xai_new\\lib\\site-packages\\sklearn\\neural_network\\_multilayer_perceptron.py:702: ConvergenceWarning: Stochastic Optimizer: Maximum iterations (200) reached and the optimization hasn't converged yet.\n",
      "  warnings.warn(\n"
     ]
    },
    {
     "name": "stdout",
     "output_type": "stream",
     "text": [
      "Total time: 19.01s (training model: 6.09s, training explainer: 0.01s, experiment: 12.92s)\n",
      "Accuracy: 1.0, precision: 1.0, recall: 1.0\n",
      "dataset: census numeric, model: neural network (repetition 1)\n"
     ]
    },
    {
     "name": "stderr",
     "output_type": "stream",
     "text": [
      "c:\\users\\ml_ks\\venvs\\xai_new\\lib\\site-packages\\sklearn\\neural_network\\_multilayer_perceptron.py:702: ConvergenceWarning: Stochastic Optimizer: Maximum iterations (200) reached and the optimization hasn't converged yet.\n",
      "  warnings.warn(\n"
     ]
    },
    {
     "name": "stdout",
     "output_type": "stream",
     "text": [
      "Total time: 19.07s (training model: 6.11s, training explainer: 0.00s, experiment: 12.96s)\n",
      "Accuracy: 1.0, precision: 1.0, recall: 1.0\n",
      "dataset: census numeric, model: neural network (repetition 2)\n"
     ]
    },
    {
     "name": "stderr",
     "output_type": "stream",
     "text": [
      "c:\\users\\ml_ks\\venvs\\xai_new\\lib\\site-packages\\sklearn\\neural_network\\_multilayer_perceptron.py:702: ConvergenceWarning: Stochastic Optimizer: Maximum iterations (200) reached and the optimization hasn't converged yet.\n",
      "  warnings.warn(\n"
     ]
    },
    {
     "name": "stdout",
     "output_type": "stream",
     "text": [
      "Total time: 19.07s (training model: 6.12s, training explainer: 0.00s, experiment: 12.96s)\n",
      "Accuracy: 1.0, precision: 1.0, recall: 1.0\n",
      "dataset: census numeric, model: neural network (repetition 3)\n"
     ]
    },
    {
     "name": "stderr",
     "output_type": "stream",
     "text": [
      "c:\\users\\ml_ks\\venvs\\xai_new\\lib\\site-packages\\sklearn\\neural_network\\_multilayer_perceptron.py:702: ConvergenceWarning: Stochastic Optimizer: Maximum iterations (200) reached and the optimization hasn't converged yet.\n",
      "  warnings.warn(\n"
     ]
    },
    {
     "name": "stdout",
     "output_type": "stream",
     "text": [
      "Total time: 19.30s (training model: 6.35s, training explainer: 0.00s, experiment: 12.96s)\n",
      "Accuracy: 1.0, precision: 1.0, recall: 1.0\n",
      "dataset: census numeric, model: neural network (repetition 4)\n"
     ]
    },
    {
     "name": "stderr",
     "output_type": "stream",
     "text": [
      "c:\\users\\ml_ks\\venvs\\xai_new\\lib\\site-packages\\sklearn\\neural_network\\_multilayer_perceptron.py:702: ConvergenceWarning: Stochastic Optimizer: Maximum iterations (200) reached and the optimization hasn't converged yet.\n",
      "  warnings.warn(\n"
     ]
    },
    {
     "name": "stdout",
     "output_type": "stream",
     "text": [
      "Total time: 18.99s (training model: 6.01s, training explainer: 0.00s, experiment: 12.98s)\n",
      "Accuracy: 1.0, precision: 1.0, recall: 1.0\n",
      "dataset: census numeric, model: neural network (repetition 5)\n"
     ]
    },
    {
     "name": "stderr",
     "output_type": "stream",
     "text": [
      "c:\\users\\ml_ks\\venvs\\xai_new\\lib\\site-packages\\sklearn\\neural_network\\_multilayer_perceptron.py:702: ConvergenceWarning: Stochastic Optimizer: Maximum iterations (200) reached and the optimization hasn't converged yet.\n",
      "  warnings.warn(\n"
     ]
    },
    {
     "name": "stdout",
     "output_type": "stream",
     "text": [
      "Total time: 19.54s (training model: 6.54s, training explainer: 0.00s, experiment: 13.01s)\n",
      "Accuracy: 1.0, precision: 1.0, recall: 1.0\n",
      "dataset: census numeric, model: neural network (repetition 6)\n",
      "Total time: 18.31s (training model: 5.40s, training explainer: 0.00s, experiment: 12.91s)\n",
      "Accuracy: 1.0, precision: 1.0, recall: 1.0\n",
      "dataset: census numeric, model: neural network (repetition 7)\n"
     ]
    },
    {
     "name": "stderr",
     "output_type": "stream",
     "text": [
      "c:\\users\\ml_ks\\venvs\\xai_new\\lib\\site-packages\\sklearn\\neural_network\\_multilayer_perceptron.py:702: ConvergenceWarning: Stochastic Optimizer: Maximum iterations (200) reached and the optimization hasn't converged yet.\n",
      "  warnings.warn(\n"
     ]
    },
    {
     "name": "stdout",
     "output_type": "stream",
     "text": [
      "Total time: 18.97s (training model: 5.98s, training explainer: 0.01s, experiment: 12.99s)\n",
      "Accuracy: 1.0, precision: 1.0, recall: 1.0\n",
      "dataset: census numeric, model: neural network (repetition 8)\n"
     ]
    },
    {
     "name": "stderr",
     "output_type": "stream",
     "text": [
      "c:\\users\\ml_ks\\venvs\\xai_new\\lib\\site-packages\\sklearn\\neural_network\\_multilayer_perceptron.py:702: ConvergenceWarning: Stochastic Optimizer: Maximum iterations (200) reached and the optimization hasn't converged yet.\n",
      "  warnings.warn(\n"
     ]
    },
    {
     "name": "stdout",
     "output_type": "stream",
     "text": [
      "Total time: 19.04s (training model: 6.00s, training explainer: 0.02s, experiment: 13.02s)\n",
      "Accuracy: 1.0, precision: 1.0, recall: 1.0\n",
      "dataset: census numeric, model: neural network (repetition 9)\n"
     ]
    },
    {
     "name": "stderr",
     "output_type": "stream",
     "text": [
      "c:\\users\\ml_ks\\venvs\\xai_new\\lib\\site-packages\\sklearn\\neural_network\\_multilayer_perceptron.py:702: ConvergenceWarning: Stochastic Optimizer: Maximum iterations (200) reached and the optimization hasn't converged yet.\n",
      "  warnings.warn(\n"
     ]
    },
    {
     "name": "stdout",
     "output_type": "stream",
     "text": [
      "Total time: 19.17s (training model: 6.12s, training explainer: 0.00s, experiment: 13.05s)\n",
      "Accuracy: 1.0, precision: 1.0, recall: 1.0\n",
      "dataset: census categorical, model: decision tree (repetition 0)\n",
      "Total time: 36.54s (training model: 0.19s, training explainer: 0.02s, experiment: 36.33s)\n",
      "Accuracy: 1.0, precision: 1.0, recall: 1.0\n",
      "dataset: census categorical, model: decision tree (repetition 1)\n",
      "Total time: 36.30s (training model: 0.18s, training explainer: 0.02s, experiment: 36.11s)\n",
      "Accuracy: 1.0, precision: 1.0, recall: 1.0\n",
      "dataset: census categorical, model: decision tree (repetition 2)\n",
      "Total time: 36.14s (training model: 0.17s, training explainer: 0.02s, experiment: 35.95s)\n",
      "Accuracy: 1.0, precision: 1.0, recall: 1.0\n",
      "dataset: census categorical, model: decision tree (repetition 3)\n",
      "Total time: 36.45s (training model: 0.19s, training explainer: 0.02s, experiment: 36.24s)\n",
      "Accuracy: 1.0, precision: 1.0, recall: 1.0\n",
      "dataset: census categorical, model: decision tree (repetition 4)\n",
      "Total time: 36.20s (training model: 0.19s, training explainer: 0.02s, experiment: 35.99s)\n",
      "Accuracy: 1.0, precision: 1.0, recall: 1.0\n",
      "dataset: census categorical, model: decision tree (repetition 5)\n",
      "Total time: 36.28s (training model: 0.18s, training explainer: 0.01s, experiment: 36.09s)\n",
      "Accuracy: 1.0, precision: 1.0, recall: 1.0\n",
      "dataset: census categorical, model: decision tree (repetition 6)\n",
      "Total time: 36.26s (training model: 0.23s, training explainer: 0.02s, experiment: 36.01s)\n",
      "Accuracy: 1.0, precision: 1.0, recall: 1.0\n",
      "dataset: census categorical, model: decision tree (repetition 7)\n",
      "Total time: 36.31s (training model: 0.19s, training explainer: 0.02s, experiment: 36.10s)\n",
      "Accuracy: 1.0, precision: 1.0, recall: 1.0\n",
      "dataset: census categorical, model: decision tree (repetition 8)\n",
      "Total time: 36.44s (training model: 0.22s, training explainer: 0.03s, experiment: 36.19s)\n",
      "Accuracy: 1.0, precision: 1.0, recall: 1.0\n",
      "dataset: census categorical, model: decision tree (repetition 9)\n",
      "Total time: 36.33s (training model: 0.19s, training explainer: 0.02s, experiment: 36.12s)\n",
      "Accuracy: 1.0, precision: 1.0, recall: 1.0\n",
      "dataset: census categorical, model: random forest (repetition 0)\n",
      "Total time: 38.95s (training model: 3.08s, training explainer: 0.02s, experiment: 35.85s)\n",
      "Accuracy: 1.0, precision: 1.0, recall: 1.0\n",
      "dataset: census categorical, model: random forest (repetition 1)\n",
      "Total time: 39.01s (training model: 3.00s, training explainer: 0.02s, experiment: 36.00s)\n",
      "Accuracy: 1.0, precision: 1.0, recall: 1.0\n",
      "dataset: census categorical, model: random forest (repetition 2)\n",
      "Total time: 38.93s (training model: 3.10s, training explainer: 0.02s, experiment: 35.81s)\n",
      "Accuracy: 1.0, precision: 1.0, recall: 1.0\n",
      "dataset: census categorical, model: random forest (repetition 3)\n",
      "Total time: 39.14s (training model: 3.08s, training explainer: 0.02s, experiment: 36.04s)\n",
      "Accuracy: 1.0, precision: 1.0, recall: 1.0\n",
      "dataset: census categorical, model: random forest (repetition 4)\n",
      "Total time: 39.25s (training model: 3.09s, training explainer: 0.02s, experiment: 36.15s)\n",
      "Accuracy: 1.0, precision: 1.0, recall: 1.0\n",
      "dataset: census categorical, model: random forest (repetition 5)\n",
      "Total time: 39.09s (training model: 3.10s, training explainer: 0.02s, experiment: 35.98s)\n",
      "Accuracy: 1.0, precision: 1.0, recall: 1.0\n",
      "dataset: census categorical, model: random forest (repetition 6)\n",
      "Total time: 39.25s (training model: 3.13s, training explainer: 0.02s, experiment: 36.10s)\n",
      "Accuracy: 1.0, precision: 1.0, recall: 1.0\n",
      "dataset: census categorical, model: random forest (repetition 7)\n",
      "Total time: 39.07s (training model: 3.05s, training explainer: 0.02s, experiment: 36.01s)\n",
      "Accuracy: 1.0, precision: 1.0, recall: 1.0\n",
      "dataset: census categorical, model: random forest (repetition 8)\n",
      "Total time: 39.03s (training model: 3.10s, training explainer: 0.02s, experiment: 35.92s)\n",
      "Accuracy: 1.0, precision: 1.0, recall: 1.0\n",
      "dataset: census categorical, model: random forest (repetition 9)\n",
      "Total time: 38.93s (training model: 3.06s, training explainer: 0.02s, experiment: 35.85s)\n",
      "Accuracy: 1.0, precision: 1.0, recall: 1.0\n",
      "dataset: census categorical, model: neural network (repetition 0)\n"
     ]
    },
    {
     "name": "stderr",
     "output_type": "stream",
     "text": [
      "c:\\users\\ml_ks\\venvs\\xai_new\\lib\\site-packages\\sklearn\\neural_network\\_multilayer_perceptron.py:702: ConvergenceWarning: Stochastic Optimizer: Maximum iterations (200) reached and the optimization hasn't converged yet.\n",
      "  warnings.warn(\n"
     ]
    },
    {
     "name": "stdout",
     "output_type": "stream",
     "text": [
      "Total time: 55.13s (training model: 19.17s, training explainer: 0.02s, experiment: 35.94s)\n",
      "Accuracy: 1.0, precision: 1.0, recall: 1.0\n",
      "dataset: census categorical, model: neural network (repetition 1)\n"
     ]
    },
    {
     "name": "stderr",
     "output_type": "stream",
     "text": [
      "c:\\users\\ml_ks\\venvs\\xai_new\\lib\\site-packages\\sklearn\\neural_network\\_multilayer_perceptron.py:702: ConvergenceWarning: Stochastic Optimizer: Maximum iterations (200) reached and the optimization hasn't converged yet.\n",
      "  warnings.warn(\n"
     ]
    },
    {
     "name": "stdout",
     "output_type": "stream",
     "text": [
      "Total time: 54.88s (training model: 19.02s, training explainer: 0.03s, experiment: 35.83s)\n",
      "Accuracy: 1.0, precision: 1.0, recall: 1.0\n",
      "dataset: census categorical, model: neural network (repetition 2)\n"
     ]
    },
    {
     "name": "stderr",
     "output_type": "stream",
     "text": [
      "c:\\users\\ml_ks\\venvs\\xai_new\\lib\\site-packages\\sklearn\\neural_network\\_multilayer_perceptron.py:702: ConvergenceWarning: Stochastic Optimizer: Maximum iterations (200) reached and the optimization hasn't converged yet.\n",
      "  warnings.warn(\n"
     ]
    },
    {
     "name": "stdout",
     "output_type": "stream",
     "text": [
      "Total time: 54.75s (training model: 18.80s, training explainer: 0.01s, experiment: 35.94s)\n",
      "Accuracy: 1.0, precision: 1.0, recall: 1.0\n",
      "dataset: census categorical, model: neural network (repetition 3)\n"
     ]
    },
    {
     "name": "stderr",
     "output_type": "stream",
     "text": [
      "c:\\users\\ml_ks\\venvs\\xai_new\\lib\\site-packages\\sklearn\\neural_network\\_multilayer_perceptron.py:702: ConvergenceWarning: Stochastic Optimizer: Maximum iterations (200) reached and the optimization hasn't converged yet.\n",
      "  warnings.warn(\n"
     ]
    },
    {
     "name": "stdout",
     "output_type": "stream",
     "text": [
      "Total time: 54.40s (training model: 18.69s, training explainer: 0.02s, experiment: 35.69s)\n",
      "Accuracy: 1.0, precision: 1.0, recall: 1.0\n",
      "dataset: census categorical, model: neural network (repetition 4)\n"
     ]
    },
    {
     "name": "stderr",
     "output_type": "stream",
     "text": [
      "c:\\users\\ml_ks\\venvs\\xai_new\\lib\\site-packages\\sklearn\\neural_network\\_multilayer_perceptron.py:702: ConvergenceWarning: Stochastic Optimizer: Maximum iterations (200) reached and the optimization hasn't converged yet.\n",
      "  warnings.warn(\n"
     ]
    },
    {
     "name": "stdout",
     "output_type": "stream",
     "text": [
      "Total time: 54.70s (training model: 18.82s, training explainer: 0.02s, experiment: 35.87s)\n",
      "Accuracy: 1.0, precision: 1.0, recall: 1.0\n",
      "dataset: census categorical, model: neural network (repetition 5)\n"
     ]
    },
    {
     "name": "stderr",
     "output_type": "stream",
     "text": [
      "c:\\users\\ml_ks\\venvs\\xai_new\\lib\\site-packages\\sklearn\\neural_network\\_multilayer_perceptron.py:702: ConvergenceWarning: Stochastic Optimizer: Maximum iterations (200) reached and the optimization hasn't converged yet.\n",
      "  warnings.warn(\n"
     ]
    },
    {
     "name": "stdout",
     "output_type": "stream",
     "text": [
      "Total time: 54.87s (training model: 18.85s, training explainer: 0.02s, experiment: 36.00s)\n",
      "Accuracy: 1.0, precision: 1.0, recall: 1.0\n",
      "dataset: census categorical, model: neural network (repetition 6)\n"
     ]
    },
    {
     "name": "stderr",
     "output_type": "stream",
     "text": [
      "c:\\users\\ml_ks\\venvs\\xai_new\\lib\\site-packages\\sklearn\\neural_network\\_multilayer_perceptron.py:702: ConvergenceWarning: Stochastic Optimizer: Maximum iterations (200) reached and the optimization hasn't converged yet.\n",
      "  warnings.warn(\n"
     ]
    },
    {
     "name": "stdout",
     "output_type": "stream",
     "text": [
      "Total time: 54.82s (training model: 18.89s, training explainer: 0.02s, experiment: 35.92s)\n",
      "Accuracy: 1.0, precision: 1.0, recall: 1.0\n",
      "dataset: census categorical, model: neural network (repetition 7)\n"
     ]
    },
    {
     "name": "stderr",
     "output_type": "stream",
     "text": [
      "c:\\users\\ml_ks\\venvs\\xai_new\\lib\\site-packages\\sklearn\\neural_network\\_multilayer_perceptron.py:702: ConvergenceWarning: Stochastic Optimizer: Maximum iterations (200) reached and the optimization hasn't converged yet.\n",
      "  warnings.warn(\n"
     ]
    },
    {
     "name": "stdout",
     "output_type": "stream",
     "text": [
      "Total time: 55.60s (training model: 19.38s, training explainer: 0.02s, experiment: 36.21s)\n",
      "Accuracy: 1.0, precision: 1.0, recall: 1.0\n",
      "dataset: census categorical, model: neural network (repetition 8)\n"
     ]
    },
    {
     "name": "stderr",
     "output_type": "stream",
     "text": [
      "c:\\users\\ml_ks\\venvs\\xai_new\\lib\\site-packages\\sklearn\\neural_network\\_multilayer_perceptron.py:702: ConvergenceWarning: Stochastic Optimizer: Maximum iterations (200) reached and the optimization hasn't converged yet.\n",
      "  warnings.warn(\n"
     ]
    },
    {
     "name": "stdout",
     "output_type": "stream",
     "text": [
      "Total time: 55.22s (training model: 18.88s, training explainer: 0.02s, experiment: 36.32s)\n",
      "Accuracy: 1.0, precision: 1.0, recall: 1.0\n",
      "dataset: census categorical, model: neural network (repetition 9)\n"
     ]
    },
    {
     "name": "stderr",
     "output_type": "stream",
     "text": [
      "c:\\users\\ml_ks\\venvs\\xai_new\\lib\\site-packages\\sklearn\\neural_network\\_multilayer_perceptron.py:702: ConvergenceWarning: Stochastic Optimizer: Maximum iterations (200) reached and the optimization hasn't converged yet.\n",
      "  warnings.warn(\n"
     ]
    },
    {
     "name": "stdout",
     "output_type": "stream",
     "text": [
      "Total time: 55.50s (training model: 19.11s, training explainer: 0.01s, experiment: 36.38s)\n",
      "Accuracy: 1.0, precision: 1.0, recall: 1.0\n"
     ]
    }
   ],
   "source": [
    "# This will run the experiment for each dataset and model combination\n",
    "\n",
    "results = run_all_experiments(KnnMembershipInference, dataset_dicts, model_dicts, random_state=0, num_queries=None, model_access=False, threads=threads, repeat=10)"
   ]
  },
  {
   "cell_type": "markdown",
   "id": "a1feb9a8",
   "metadata": {},
   "source": [
    "# Results\n",
    "\n",
    "The results of all variations of the membership inference experiment with KNN. In every experiment, we executed the membership inference attack on each sample of the training data and each sample of the test data. Both datasets are of equal size and originate from the same source dataset.\n",
    "\n",
    "Accuracy is the percentage of samples whose membership (true or false) was correctly inferred. An algorithm guessing at random would achieve an accuracy of 50 percent.\n",
    "\n",
    "Precision is the percentage of predicted training samples that is actually in the training data.\n",
    "\n",
    "Recall is the percentage of training samples whose membership (true) was correctly inferred."
   ]
  },
  {
   "cell_type": "code",
   "execution_count": 11,
   "id": "39bb0af8",
   "metadata": {
    "tags": []
   },
   "outputs": [
    {
     "data": {
      "text/plain": "                dataset           model  repetition  accuracy  precision  \\\n0                 heart   decision tree           0       1.0        1.0   \n1                 heart   decision tree           1       1.0        1.0   \n2                 heart   decision tree           2       1.0        1.0   \n3                 heart   decision tree           3       1.0        1.0   \n4                 heart   decision tree           4       1.0        1.0   \n..                  ...             ...         ...       ...        ...   \n175  census categorical  neural network           5       1.0        1.0   \n176  census categorical  neural network           6       1.0        1.0   \n177  census categorical  neural network           7       1.0        1.0   \n178  census categorical  neural network           8       1.0        1.0   \n179  census categorical  neural network           9       1.0        1.0   \n\n     recall  \n0       1.0  \n1       1.0  \n2       1.0  \n3       1.0  \n4       1.0  \n..      ...  \n175     1.0  \n176     1.0  \n177     1.0  \n178     1.0  \n179     1.0  \n\n[180 rows x 6 columns]",
      "text/html": "<div>\n<style scoped>\n    .dataframe tbody tr th:only-of-type {\n        vertical-align: middle;\n    }\n\n    .dataframe tbody tr th {\n        vertical-align: top;\n    }\n\n    .dataframe thead th {\n        text-align: right;\n    }\n</style>\n<table border=\"1\" class=\"dataframe\">\n  <thead>\n    <tr style=\"text-align: right;\">\n      <th></th>\n      <th>dataset</th>\n      <th>model</th>\n      <th>repetition</th>\n      <th>accuracy</th>\n      <th>precision</th>\n      <th>recall</th>\n    </tr>\n  </thead>\n  <tbody>\n    <tr>\n      <th>0</th>\n      <td>heart</td>\n      <td>decision tree</td>\n      <td>0</td>\n      <td>1.0</td>\n      <td>1.0</td>\n      <td>1.0</td>\n    </tr>\n    <tr>\n      <th>1</th>\n      <td>heart</td>\n      <td>decision tree</td>\n      <td>1</td>\n      <td>1.0</td>\n      <td>1.0</td>\n      <td>1.0</td>\n    </tr>\n    <tr>\n      <th>2</th>\n      <td>heart</td>\n      <td>decision tree</td>\n      <td>2</td>\n      <td>1.0</td>\n      <td>1.0</td>\n      <td>1.0</td>\n    </tr>\n    <tr>\n      <th>3</th>\n      <td>heart</td>\n      <td>decision tree</td>\n      <td>3</td>\n      <td>1.0</td>\n      <td>1.0</td>\n      <td>1.0</td>\n    </tr>\n    <tr>\n      <th>4</th>\n      <td>heart</td>\n      <td>decision tree</td>\n      <td>4</td>\n      <td>1.0</td>\n      <td>1.0</td>\n      <td>1.0</td>\n    </tr>\n    <tr>\n      <th>...</th>\n      <td>...</td>\n      <td>...</td>\n      <td>...</td>\n      <td>...</td>\n      <td>...</td>\n      <td>...</td>\n    </tr>\n    <tr>\n      <th>175</th>\n      <td>census categorical</td>\n      <td>neural network</td>\n      <td>5</td>\n      <td>1.0</td>\n      <td>1.0</td>\n      <td>1.0</td>\n    </tr>\n    <tr>\n      <th>176</th>\n      <td>census categorical</td>\n      <td>neural network</td>\n      <td>6</td>\n      <td>1.0</td>\n      <td>1.0</td>\n      <td>1.0</td>\n    </tr>\n    <tr>\n      <th>177</th>\n      <td>census categorical</td>\n      <td>neural network</td>\n      <td>7</td>\n      <td>1.0</td>\n      <td>1.0</td>\n      <td>1.0</td>\n    </tr>\n    <tr>\n      <th>178</th>\n      <td>census categorical</td>\n      <td>neural network</td>\n      <td>8</td>\n      <td>1.0</td>\n      <td>1.0</td>\n      <td>1.0</td>\n    </tr>\n    <tr>\n      <th>179</th>\n      <td>census categorical</td>\n      <td>neural network</td>\n      <td>9</td>\n      <td>1.0</td>\n      <td>1.0</td>\n      <td>1.0</td>\n    </tr>\n  </tbody>\n</table>\n<p>180 rows × 6 columns</p>\n</div>"
     },
     "execution_count": 11,
     "metadata": {},
     "output_type": "execute_result"
    }
   ],
   "source": [
    "results"
   ]
  },
  {
   "cell_type": "code",
   "execution_count": 12,
   "id": "31380dcf",
   "metadata": {
    "tags": []
   },
   "outputs": [],
   "source": [
    "file_name = 'results/1-4-knn-membership-inference-results'\n",
    "if DATASET_HALF:\n",
    "    file_name += '_dataset_size_halved'\n",
    "results.to_csv(file_name + '.csv', index=False, na_rep='NaN', float_format='%.3f')"
   ]
  },
  {
   "cell_type": "markdown",
   "id": "776fa6ec-8416-4947-aafd-e528c82f9bbb",
   "metadata": {},
   "source": [
    "# Discussion\n",
    "\n",
    "Just as expected, the attack has an accuracy of 100%. No false positives or false negatives occur."
   ]
  },
  {
   "cell_type": "code",
   "execution_count": 12,
   "id": "5b68b48c",
   "metadata": {},
   "outputs": [],
   "source": []
  }
 ],
 "metadata": {
  "kernelspec": {
   "display_name": "Python 3 (ipykernel)",
   "language": "python",
   "name": "python3"
  },
  "language_info": {
   "codemirror_mode": {
    "name": "ipython",
    "version": 3
   },
   "file_extension": ".py",
   "mimetype": "text/x-python",
   "name": "python",
   "nbconvert_exporter": "python",
   "pygments_lexer": "ipython3",
   "version": "3.8.10"
  }
 },
 "nbformat": 4,
 "nbformat_minor": 5
}