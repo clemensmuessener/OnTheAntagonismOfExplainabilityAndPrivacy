{
 "cells": [
  {
   "cell_type": "markdown",
   "id": "75916e17",
   "metadata": {},
   "source": [
    "# K-Nearest-Neighbors Membership Inference Experiment"
   ]
  },
  {
   "cell_type": "code",
   "execution_count": 9,
   "id": "f6661d3f",
   "metadata": {
    "tags": []
   },
   "outputs": [],
   "source": [
    "import pandas as pd\n",
    "import sklearn.ensemble as es\n",
    "from sklearn.tree import DecisionTreeClassifier\n",
    "from sklearn.neural_network import MLPClassifier\n",
    "import numpy as np\n",
    "import logging"
   ]
  },
  {
   "cell_type": "code",
   "execution_count": 10,
   "id": "d5e1de41-a5ee-4520-8060-00873915a3a8",
   "metadata": {
    "tags": []
   },
   "outputs": [],
   "source": [
    "threads = 15\n",
    "\n",
    "logging.basicConfig()\n",
    "\n",
    "logger = logging.getLogger('xai-privacy')"
   ]
  },
  {
   "cell_type": "code",
   "execution_count": 11,
   "id": "f17097ef",
   "metadata": {
    "tags": []
   },
   "outputs": [],
   "source": [
    "from experiment_setup import run_all_experiments\n",
    "from experiment_setup import get_heart_disease_dataset\n",
    "from experiment_setup import get_census_dataset"
   ]
  },
  {
   "cell_type": "code",
   "execution_count": 12,
   "id": "b77aa19b-a2fb-4a9b-95ae-0b44e584390e",
   "metadata": {
    "tags": []
   },
   "outputs": [
    {
     "name": "stderr",
     "output_type": "stream",
     "text": [
      "INFO:xai-privacy:Loading dataset 1: heart disease (numeric features) ...\n",
      "INFO:xai-privacy:Loading dataset 2: census income (categorical features) ...\n"
     ]
    },
    {
     "name": "stdout",
     "output_type": "stream",
     "text": [
      "Feature Age: removed 0 rows for missing values.\n",
      "Feature RestingBP: removed 59 rows for missing values.\n",
      "Feature Cholesterol: removed 27 rows for missing values.\n",
      "Feature FastingBS: add unknown category 2.0\n",
      "Feature RestingECG: add unknown category 3.0\n",
      "Feature MaxHR: removed 0 rows for missing values.\n",
      "Feature Oldpeak: removed 7 rows for missing values.\n",
      "Feature ST_Slope: add unknown category 4.0\n",
      "Feature CA: add unknown category 4.0\n",
      "Feature Thal: add unknown category 8.0\n",
      "Dropped 71 of 548\n",
      "Dropped 72 of 548\n",
      "Dropped 71 of 548\n",
      "Dropped: 2399 of 32561\n",
      "census: Dropped 1256 of 15081\n",
      "num: Dropped 8827 of 15081\n",
      "cat: Dropped 4850 of 15081\n"
     ]
    }
   ],
   "source": [
    "DATASET_HALF = True\n",
    "\n",
    "data_heart_dict, data_heart_num_dict, data_heart_cat_dict = get_heart_disease_dataset(halve_dataset=DATASET_HALF)\n",
    "data_census_dict, data_census_num_dict, data_census_cat_dict = get_census_dataset(halve_dataset=DATASET_HALF)\n",
    "\n",
    "data_heart = data_heart_dict['dataset']\n",
    "outcome_name_heart = data_heart_dict['outcome']\n",
    "numeric_features_heart = data_heart_dict['num']\n",
    "\n",
    "census_num = data_census_num_dict['dataset']\n",
    "outcome_name_census = data_census_num_dict['outcome']\n",
    "numeric_features_census = data_census_num_dict['num']"
   ]
  },
  {
   "cell_type": "markdown",
   "id": "c6a61bbc",
   "metadata": {},
   "source": [
    "This notebook will go through the experiment for membership inference with KNN as an explanation. Membership inference means an attacker with access to the explanation can tell for a sample whether it was included in the training data or not.\n",
    "\n",
    "The idea for KNN membership inference is as follows: Enter the given sample and check whether the sample is returned as one of its own nearest neighbors. If it is, it is part of the training data. Otherwise it is not."
   ]
  },
  {
   "cell_type": "markdown",
   "id": "488dc98b",
   "metadata": {},
   "source": [
    "First, we have to create our own wrapper class for the default scikit-learn KNN classifier. This is necessary because the scikit-learn implementation only returns the indices of the nearest neighbors. However, in order to be useful explanation to a user, the actual feature values of the nearest neighbors need to be returned. This is done by the wrapper class."
   ]
  },
  {
   "cell_type": "code",
   "execution_count": 13,
   "id": "9dccb92a",
   "metadata": {
    "tags": []
   },
   "outputs": [],
   "source": [
    "# Attack code must be imported so that multiprocessing pool works. Check out knn_attack.py for the implementation of the attack.\n",
    "from knn_attack import KnnExplainer"
   ]
  },
  {
   "cell_type": "markdown",
   "id": "773a4d5a",
   "metadata": {},
   "source": [
    "Then, we implement the `train_explainer` and `membership_inference_attack_no_model_access` functions:"
   ]
  },
  {
   "cell_type": "code",
   "execution_count": 14,
   "id": "3a58eda4",
   "metadata": {
    "tags": []
   },
   "outputs": [],
   "source": [
    "# Attack code must be imported so that multiprocessing pool works. Check out ice_attack.py for the implementation of the attack.\n",
    "from knn_attack import KnnMembershipInference"
   ]
  },
  {
   "cell_type": "markdown",
   "id": "d2ef61e5",
   "metadata": {},
   "source": [
    "# Dataset 1: Heart Disease"
   ]
  },
  {
   "cell_type": "markdown",
   "id": "d02a2083",
   "metadata": {},
   "source": [
    "We now generate a KNN explaination for a random sample from the training data as a demonstration of the concept."
   ]
  },
  {
   "cell_type": "code",
   "execution_count": 15,
   "id": "64c4cf59",
   "metadata": {
    "tags": []
   },
   "outputs": [
    {
     "name": "stdout",
     "output_type": "stream",
     "text": [
      "Given sample: [[ 59.   1.   2. 140. 221.   0.   0. 164.   1.   0.   1.   0.   3.]]\n",
      "Model prediction: 0.0\n",
      "Nearest Neighbors: \n",
      " [[ 59.    1.    2.  140.  221.    0.    0.  164.    1.    0.    1.    0.\n",
      "    3.    0. ]\n",
      " [ 58.    1.    3.  140.  211.    1.    2.  165.    0.    0.    1.    0.\n",
      "    3.    0. ]\n",
      " [ 50.    1.    2.  140.  216.    0.    0.  170.    0.    0.    4.    4.\n",
      "    3.    0. ]\n",
      " [ 58.    1.    3.  132.  224.    0.    2.  173.    0.    3.2   1.    2.\n",
      "    7.    1. ]\n",
      " [ 59.    1.    4.  135.  234.    0.    0.  161.    0.    0.5   2.    0.\n",
      "    7.    0. ]]\n"
     ]
    }
   ],
   "source": [
    "features = data_heart.drop(outcome_name_heart, axis=1)\n",
    "labels = data_heart[outcome_name_heart]\n",
    "\n",
    "# Train a random forest on training data.\n",
    "model = es.RandomForestClassifier(random_state=0)\n",
    "model = model.fit(features, labels)\n",
    "\n",
    "# Train explainer\n",
    "exp = KnnExplainer(data_heart, outcome_name_heart)\n",
    "\n",
    "given_sample = features.sample()\n",
    "print(f'Given sample: {given_sample.to_numpy()}')\n",
    "\n",
    "pred = model.predict(given_sample)\n",
    "print(f'Model prediction: {pred[0]}')\n",
    "\n",
    "neighbors = exp.explain(given_sample)\n",
    "print(f'Nearest Neighbors: \\n {neighbors.to_numpy()}')"
   ]
  },
  {
   "cell_type": "markdown",
   "id": "084cf1e0",
   "metadata": {},
   "source": [
    "We will now do a small proof of concept of the experiment with logging enabled to demonstrate how it works."
   ]
  },
  {
   "cell_type": "code",
   "execution_count": 16,
   "id": "cacf1093",
   "metadata": {
    "scrolled": true,
    "tags": []
   },
   "outputs": [
    {
     "name": "stderr",
     "output_type": "stream",
     "text": [
      "DEBUG:xai-privacy:Numeric Features: ['age', 'education_num', 'capital_gain', 'capital_loss', 'hours_per_week']\n",
      "DEBUG:xai-privacy:Categorical Features: []\n",
      "DEBUG:xai-privacy:Removed 0 test samples due to unknown category.\n",
      "DEBUG:xai-privacy:[[67  9  0  0 60  0]] taken from training data\n",
      "DEBUG:xai-privacy:[[35 10  0  0 38  0]] taken from test data\n",
      "DEBUG:xai-privacy:[[  35    9 7298    0   35    1]] taken from training data\n",
      "DEBUG:xai-privacy:[[37  8  0  0 40  0]] taken from test data\n",
      "DEBUG:xai-privacy:[[34 11  0  0 60  1]] taken from training data\n",
      "DEBUG:xai-privacy:[[54 10  0  0 50  0]] taken from test data\n",
      "DEBUG:xai-privacy:[[   60     9 15024     0    15     1]] taken from training data\n",
      "DEBUG:xai-privacy:[[22 10  0  0 60  0]] taken from test data\n",
      "DEBUG:xai-privacy:[[40  9  0  0 35  0]] taken from training data\n",
      "DEBUG:xai-privacy:[[21  8  0  0 25  0]] taken from test data\n",
      "DEBUG:xai-privacy:Checking sample 0: [67.  9.  0.  0. 60.  0.]\n",
      "DEBUG:xai-privacy:Input sample:     age  education_num  capital_gain  capital_loss  hours_per_week\n",
      "0  67.0            9.0           0.0           0.0            60.0\n",
      "DEBUG:xai-privacy:Indices: [[2539 2866 2897  214 2017]]\n",
      "DEBUG:xai-privacy:K nearest neighbors: \n",
      " [[67  9  0  0 60  0]\n",
      " [67  9  0  0 65  0]\n",
      " [64  9  0  0 65  1]\n",
      " [61 10  0  0 60  1]\n",
      " [64 11  0  0 55  0]]\n",
      "DEBUG:xai-privacy:Inferred membership: True\n",
      "DEBUG:xai-privacy:Checking sample 1: [35. 10.  0.  0. 38.  0.]\n",
      "DEBUG:xai-privacy:Input sample:     age  education_num  capital_gain  capital_loss  hours_per_week\n",
      "1  35.0           10.0           0.0           0.0            38.0\n",
      "DEBUG:xai-privacy:Indices: [[2134  262 1553 2069 1741]]\n",
      "DEBUG:xai-privacy:K nearest neighbors: \n",
      " [[36 10  0  0 38  0]\n",
      " [36  9  0  0 38  0]\n",
      " [36 10  0  0 39  0]\n",
      " [37 10  0  0 38  0]\n",
      " [33 10  0  0 38  0]]\n",
      "DEBUG:xai-privacy:Inferred membership: False\n",
      "DEBUG:xai-privacy:Checking sample 2: [3.500e+01 9.000e+00 7.298e+03 0.000e+00 3.500e+01 1.000e+00]\n",
      "DEBUG:xai-privacy:Input sample:     age  education_num  capital_gain  capital_loss  hours_per_week\n",
      "2  35.0            9.0        7298.0           0.0            35.0\n",
      "DEBUG:xai-privacy:Indices: [[1373  100 2643 2504 3027]]\n",
      "DEBUG:xai-privacy:K nearest neighbors: \n",
      " [[  35    9 7298    0   35    1]\n",
      " [  35    9 7298    0   40    1]\n",
      " [  36    9 7298    0   40    1]\n",
      " [  34   14 7298    0   35    1]\n",
      " [  36   10 7298    0   40    1]]\n",
      "DEBUG:xai-privacy:Inferred membership: True\n",
      "DEBUG:xai-privacy:Checking sample 3: [37.  8.  0.  0. 40.  0.]\n",
      "DEBUG:xai-privacy:Input sample:     age  education_num  capital_gain  capital_loss  hours_per_week\n",
      "3  37.0            8.0           0.0           0.0            40.0\n",
      "DEBUG:xai-privacy:Indices: [[1954 1814    1  354 1553]]\n",
      "DEBUG:xai-privacy:K nearest neighbors: \n",
      " [[36  8  0  0 40  0]\n",
      " [36  9  0  0 41  0]\n",
      " [37  9  0  0 38  0]\n",
      " [37  9  0  0 42  0]\n",
      " [36 10  0  0 39  0]]\n",
      "DEBUG:xai-privacy:Inferred membership: False\n",
      "DEBUG:xai-privacy:Checking sample 4: [34. 11.  0.  0. 60.  1.]\n",
      "DEBUG:xai-privacy:Input sample:     age  education_num  capital_gain  capital_loss  hours_per_week\n",
      "4  34.0           11.0           0.0           0.0            60.0\n",
      "DEBUG:xai-privacy:Indices: [[2223 3064 2679 2450  843]]\n",
      "DEBUG:xai-privacy:K nearest neighbors: \n",
      " [[34 11  0  0 60  1]\n",
      " [34 12  0  0 60  0]\n",
      " [34 10  0  0 60  0]\n",
      " [35 12  0  0 60  0]\n",
      " [34  9  0  0 60  1]]\n",
      "DEBUG:xai-privacy:Inferred membership: True\n",
      "DEBUG:xai-privacy:Checking sample 5: [54. 10.  0.  0. 50.  0.]\n",
      "DEBUG:xai-privacy:Input sample:     age  education_num  capital_gain  capital_loss  hours_per_week\n",
      "5  54.0           10.0           0.0           0.0            50.0\n",
      "DEBUG:xai-privacy:Indices: [[1657  232  229  350  941]]\n",
      "DEBUG:xai-privacy:K nearest neighbors: \n",
      " [[53 10  0  0 50  0]\n",
      " [54 11  0  0 50  0]\n",
      " [55 10  0  0 50  0]\n",
      " [56 10  0  0 50  1]\n",
      " [52  9  0  0 50  0]]\n",
      "DEBUG:xai-privacy:Inferred membership: False\n",
      "DEBUG:xai-privacy:Checking sample 6: [6.0000e+01 9.0000e+00 1.5024e+04 0.0000e+00 1.5000e+01 1.0000e+00]\n",
      "DEBUG:xai-privacy:Input sample:     age  education_num  capital_gain  capital_loss  hours_per_week\n",
      "6  60.0            9.0       15024.0           0.0            15.0\n",
      "DEBUG:xai-privacy:Indices: [[2378 2022 1918  816 2217]]\n",
      "DEBUG:xai-privacy:K nearest neighbors: \n",
      " [[   60     9 15024     0    15     1]\n",
      " [   61    10 15024     0    18     1]\n",
      " [   61    15 15024     0    20     1]\n",
      " [   55    16 15024     0    30     1]\n",
      " [   64    13 15024     0    35     1]]\n",
      "DEBUG:xai-privacy:Inferred membership: True\n",
      "DEBUG:xai-privacy:Checking sample 7: [22. 10.  0.  0. 60.  0.]\n",
      "DEBUG:xai-privacy:Input sample:     age  education_num  capital_gain  capital_loss  hours_per_week\n",
      "7  22.0           10.0           0.0           0.0            60.0\n",
      "DEBUG:xai-privacy:Indices: [[ 366 1307  807 1491 1074]]\n",
      "DEBUG:xai-privacy:K nearest neighbors: \n",
      " [[21 10  0  0 60  0]\n",
      " [23 11  0  0 60  0]\n",
      " [23  9  0  0 60  0]\n",
      " [24 10  0  0 60  0]\n",
      " [20  9  0  0 60  0]]\n",
      "DEBUG:xai-privacy:Inferred membership: False\n",
      "DEBUG:xai-privacy:Checking sample 8: [40.  9.  0.  0. 35.  0.]\n",
      "DEBUG:xai-privacy:Input sample:     age  education_num  capital_gain  capital_loss  hours_per_week\n",
      "8  40.0            9.0           0.0           0.0            35.0\n",
      "DEBUG:xai-privacy:Indices: [[ 151   91 1225 2682  626]]\n",
      "DEBUG:xai-privacy:K nearest neighbors: \n",
      " [[40  9  0  0 35  0]\n",
      " [40  9  0  0 36  0]\n",
      " [41  9  0  0 35  0]\n",
      " [41 10  0  0 35  1]\n",
      " [41  9  0  0 36  0]]\n",
      "DEBUG:xai-privacy:Inferred membership: True\n",
      "DEBUG:xai-privacy:Checking sample 9: [21.  8.  0.  0. 25.  0.]\n",
      "DEBUG:xai-privacy:Input sample:     age  education_num  capital_gain  capital_loss  hours_per_week\n",
      "9  21.0            8.0           0.0           0.0            25.0\n",
      "DEBUG:xai-privacy:Indices: [[2331  406 2853   36 2668]]\n",
      "DEBUG:xai-privacy:K nearest neighbors: \n",
      " [[22  9  0  0 24  0]\n",
      " [20  9  0  0 24  0]\n",
      " [19  8  0  0 25  0]\n",
      " [23  9  0  0 24  0]\n",
      " [20 10  0  0 26  0]]\n",
      "DEBUG:xai-privacy:Inferred membership: False\n"
     ]
    },
    {
     "name": "stdout",
     "output_type": "stream",
     "text": [
      "Total time: 0.37s (training model: 0.05s, training explainer: 0.01s, experiment: 0.32s)\n",
      "Accuracy: 1.0, precision: 1.0, recall: 1.0\n"
     ]
    }
   ],
   "source": [
    "logger.setLevel(logging.DEBUG)\n",
    "\n",
    "EXP = KnnMembershipInference(census_num, numeric_features_census, outcome_name_census, random_state=0)\n",
    "EXP.membership_inference_experiment(num_queries=10, model=DecisionTreeClassifier(random_state=0), model_access=False, threads=1)\n",
    "\n",
    "logger.setLevel(logging.INFO)"
   ]
  },
  {
   "cell_type": "markdown",
   "id": "1ce9ba36",
   "metadata": {},
   "source": [
    "The proof of concept should show that the membership inference function predicts membership very accurately."
   ]
  },
  {
   "cell_type": "markdown",
   "id": "3d8971c1",
   "metadata": {},
   "source": [
    "Now we begin executing the actual experiment. We begin by defining the table that will hold the results for all our different experiment variations. Then we execute all variations of the experiment for this dataset. We vary the model between a decision tree, a random forest and a neural network. Each model uses the default configuration of scikit-learn."
   ]
  },
  {
   "cell_type": "code",
   "execution_count": 17,
   "id": "10674b35",
   "metadata": {
    "scrolled": true,
    "tags": []
   },
   "outputs": [],
   "source": [
    "results_ = {'dataset': [], 'model': [], 'accuracy': [], 'precision': [], 'recall': []}\n",
    "\n",
    "results = pd.DataFrame(data = results_)"
   ]
  },
  {
   "cell_type": "code",
   "execution_count": 18,
   "id": "f3f11f2c-e5e5-4d5f-b4e8-0c2a53bf5528",
   "metadata": {},
   "outputs": [],
   "source": [
    "dataset_dicts = [data_heart_dict, data_heart_num_dict, data_heart_cat_dict, data_census_dict, data_census_num_dict, data_census_cat_dict]\n",
    "\n",
    "dt_dict = {'name': 'decision tree', 'model': DecisionTreeClassifier}\n",
    "rf_dict = {'name': 'random forest', 'model': es.RandomForestClassifier}\n",
    "nn_dict = {'name': 'neural network', 'model': MLPClassifier}\n",
    "\n",
    "model_dicts = [dt_dict, rf_dict, nn_dict]"
   ]
  },
  {
   "cell_type": "code",
   "execution_count": 19,
   "id": "1c8661dd-d019-4034-9a0b-15365aee7065",
   "metadata": {
    "scrolled": false
   },
   "outputs": [
    {
     "name": "stdout",
     "output_type": "stream",
     "text": [
      "dataset: heart, model: decision tree\n",
      "Total time: 5.36s (training model: 0.03s, training explainer: 0.01s, experiment: 5.33s)\n",
      "Accuracy: 1.0, precision: 1.0, recall: 1.0\n",
      "dataset: heart, model: random forest\n",
      "Total time: 5.68s (training model: 0.29s, training explainer: 0.00s, experiment: 5.39s)\n",
      "Accuracy: 1.0, precision: 1.0, recall: 1.0\n",
      "dataset: heart, model: neural network\n"
     ]
    },
    {
     "name": "stderr",
     "output_type": "stream",
     "text": [
      "c:\\users\\ml_ks\\venvs\\xai_new\\lib\\site-packages\\sklearn\\neural_network\\_multilayer_perceptron.py:702: ConvergenceWarning: Stochastic Optimizer: Maximum iterations (200) reached and the optimization hasn't converged yet.\n",
      "  warnings.warn(\n"
     ]
    },
    {
     "name": "stdout",
     "output_type": "stream",
     "text": [
      "Total time: 6.19s (training model: 1.02s, training explainer: 0.00s, experiment: 5.17s)\n",
      "Accuracy: 1.0, precision: 1.0, recall: 1.0\n",
      "dataset: heart numeric, model: decision tree\n",
      "Total time: 4.51s (training model: 0.02s, training explainer: 0.00s, experiment: 4.50s)\n",
      "Accuracy: 1.0, precision: 1.0, recall: 1.0\n",
      "dataset: heart numeric, model: random forest\n",
      "Total time: 4.71s (training model: 0.21s, training explainer: 0.01s, experiment: 4.49s)\n",
      "Accuracy: 1.0, precision: 1.0, recall: 1.0\n",
      "dataset: heart numeric, model: neural network\n"
     ]
    },
    {
     "name": "stderr",
     "output_type": "stream",
     "text": [
      "c:\\users\\ml_ks\\venvs\\xai_new\\lib\\site-packages\\sklearn\\neural_network\\_multilayer_perceptron.py:702: ConvergenceWarning: Stochastic Optimizer: Maximum iterations (200) reached and the optimization hasn't converged yet.\n",
      "  warnings.warn(\n"
     ]
    },
    {
     "name": "stdout",
     "output_type": "stream",
     "text": [
      "Total time: 5.26s (training model: 0.68s, training explainer: 0.00s, experiment: 4.57s)\n",
      "Accuracy: 1.0, precision: 1.0, recall: 1.0\n",
      "dataset: heart categorical, model: decision tree\n",
      "Total time: 5.17s (training model: 0.01s, training explainer: 0.00s, experiment: 5.15s)\n",
      "Accuracy: 1.0, precision: 1.0, recall: 1.0\n",
      "dataset: heart categorical, model: random forest\n",
      "Total time: 5.60s (training model: 0.26s, training explainer: 0.00s, experiment: 5.34s)\n",
      "Accuracy: 1.0, precision: 1.0, recall: 1.0\n",
      "dataset: heart categorical, model: neural network\n"
     ]
    },
    {
     "name": "stderr",
     "output_type": "stream",
     "text": [
      "c:\\users\\ml_ks\\venvs\\xai_new\\lib\\site-packages\\sklearn\\neural_network\\_multilayer_perceptron.py:702: ConvergenceWarning: Stochastic Optimizer: Maximum iterations (200) reached and the optimization hasn't converged yet.\n",
      "  warnings.warn(\n"
     ]
    },
    {
     "name": "stdout",
     "output_type": "stream",
     "text": [
      "Total time: 6.31s (training model: 0.97s, training explainer: 0.00s, experiment: 5.34s)\n",
      "Accuracy: 1.0, precision: 1.0, recall: 1.0\n",
      "dataset: census, model: decision tree\n",
      "Total time: 40.92s (training model: 0.33s, training explainer: 0.02s, experiment: 40.57s)\n",
      "Accuracy: 1.0, precision: 1.0, recall: 1.0\n",
      "dataset: census, model: random forest\n",
      "Total time: 45.18s (training model: 5.27s, training explainer: 0.01s, experiment: 39.90s)\n",
      "Accuracy: 1.0, precision: 1.0, recall: 1.0\n",
      "dataset: census, model: neural network\n"
     ]
    },
    {
     "name": "stderr",
     "output_type": "stream",
     "text": [
      "c:\\users\\ml_ks\\venvs\\xai_new\\lib\\site-packages\\sklearn\\neural_network\\_multilayer_perceptron.py:702: ConvergenceWarning: Stochastic Optimizer: Maximum iterations (200) reached and the optimization hasn't converged yet.\n",
      "  warnings.warn(\n"
     ]
    },
    {
     "name": "stdout",
     "output_type": "stream",
     "text": [
      "Total time: 67.23s (training model: 27.14s, training explainer: 0.03s, experiment: 40.06s)\n",
      "Accuracy: 1.0, precision: 1.0, recall: 1.0\n",
      "dataset: census numeric, model: decision tree\n",
      "Total time: 12.32s (training model: 0.02s, training explainer: 0.02s, experiment: 12.29s)\n",
      "Accuracy: 1.0, precision: 1.0, recall: 1.0\n",
      "dataset: census numeric, model: random forest\n",
      "Total time: 12.92s (training model: 0.57s, training explainer: 0.00s, experiment: 12.36s)\n",
      "Accuracy: 1.0, precision: 1.0, recall: 1.0\n",
      "dataset: census numeric, model: neural network\n"
     ]
    },
    {
     "name": "stderr",
     "output_type": "stream",
     "text": [
      "c:\\users\\ml_ks\\venvs\\xai_new\\lib\\site-packages\\sklearn\\neural_network\\_multilayer_perceptron.py:702: ConvergenceWarning: Stochastic Optimizer: Maximum iterations (200) reached and the optimization hasn't converged yet.\n",
      "  warnings.warn(\n"
     ]
    },
    {
     "name": "stdout",
     "output_type": "stream",
     "text": [
      "Total time: 19.39s (training model: 7.05s, training explainer: 0.00s, experiment: 12.34s)\n",
      "Accuracy: 1.0, precision: 1.0, recall: 1.0\n",
      "dataset: census categorical, model: decision tree\n",
      "Total time: 29.06s (training model: 0.17s, training explainer: 0.02s, experiment: 28.87s)\n",
      "Accuracy: 1.0, precision: 1.0, recall: 1.0\n",
      "dataset: census categorical, model: random forest\n",
      "Total time: 25.95s (training model: 3.18s, training explainer: 0.02s, experiment: 22.76s)\n",
      "Accuracy: 1.0, precision: 1.0, recall: 1.0\n",
      "dataset: census categorical, model: neural network\n"
     ]
    },
    {
     "name": "stderr",
     "output_type": "stream",
     "text": [
      "c:\\users\\ml_ks\\venvs\\xai_new\\lib\\site-packages\\sklearn\\neural_network\\_multilayer_perceptron.py:702: ConvergenceWarning: Stochastic Optimizer: Maximum iterations (200) reached and the optimization hasn't converged yet.\n",
      "  warnings.warn(\n"
     ]
    },
    {
     "name": "stdout",
     "output_type": "stream",
     "text": [
      "Total time: 33.31s (training model: 12.28s, training explainer: 0.00s, experiment: 21.04s)\n",
      "Accuracy: 1.0, precision: 1.0, recall: 1.0\n"
     ]
    }
   ],
   "source": [
    "# This will run the experiment for each dataset and model combination\n",
    "\n",
    "results = run_all_experiments(KnnMembershipInference, dataset_dicts, model_dicts, random_state=0, num_queries=None, model_access=False, threads=threads, results_table=results)"
   ]
  },
  {
   "cell_type": "markdown",
   "id": "a1feb9a8",
   "metadata": {},
   "source": [
    "# Results\n",
    "\n",
    "The results of all variations of the membership inference experiment with KNN. In every experiment, we executed the membership inference attack on each sample of the training data and each sample of the test data. Both datasets are of equal size and originate from the same source dataset.\n",
    "\n",
    "Accuracy is the percentage of samples whose membership (true or false) was correctly inferred. An algorithm guessing at random would achieve an accuracy of 50 percent.\n",
    "\n",
    "Precision is the percentage of predicted training samples that is actually in the training data.\n",
    "\n",
    "Recall is the percentage of training samples whose membership (true) was correctly inferred."
   ]
  },
  {
   "cell_type": "code",
   "execution_count": 20,
   "id": "39bb0af8",
   "metadata": {
    "tags": []
   },
   "outputs": [
    {
     "data": {
      "text/html": [
       "<div>\n",
       "<style scoped>\n",
       "    .dataframe tbody tr th:only-of-type {\n",
       "        vertical-align: middle;\n",
       "    }\n",
       "\n",
       "    .dataframe tbody tr th {\n",
       "        vertical-align: top;\n",
       "    }\n",
       "\n",
       "    .dataframe thead th {\n",
       "        text-align: right;\n",
       "    }\n",
       "</style>\n",
       "<table border=\"1\" class=\"dataframe\">\n",
       "  <thead>\n",
       "    <tr style=\"text-align: right;\">\n",
       "      <th></th>\n",
       "      <th>dataset</th>\n",
       "      <th>model</th>\n",
       "      <th>accuracy</th>\n",
       "      <th>precision</th>\n",
       "      <th>recall</th>\n",
       "    </tr>\n",
       "  </thead>\n",
       "  <tbody>\n",
       "    <tr>\n",
       "      <th>0</th>\n",
       "      <td>heart</td>\n",
       "      <td>decision tree</td>\n",
       "      <td>1.0</td>\n",
       "      <td>1.0</td>\n",
       "      <td>1.0</td>\n",
       "    </tr>\n",
       "    <tr>\n",
       "      <th>1</th>\n",
       "      <td>heart</td>\n",
       "      <td>random forest</td>\n",
       "      <td>1.0</td>\n",
       "      <td>1.0</td>\n",
       "      <td>1.0</td>\n",
       "    </tr>\n",
       "    <tr>\n",
       "      <th>2</th>\n",
       "      <td>heart</td>\n",
       "      <td>neural network</td>\n",
       "      <td>1.0</td>\n",
       "      <td>1.0</td>\n",
       "      <td>1.0</td>\n",
       "    </tr>\n",
       "    <tr>\n",
       "      <th>3</th>\n",
       "      <td>heart numeric</td>\n",
       "      <td>decision tree</td>\n",
       "      <td>1.0</td>\n",
       "      <td>1.0</td>\n",
       "      <td>1.0</td>\n",
       "    </tr>\n",
       "    <tr>\n",
       "      <th>4</th>\n",
       "      <td>heart numeric</td>\n",
       "      <td>random forest</td>\n",
       "      <td>1.0</td>\n",
       "      <td>1.0</td>\n",
       "      <td>1.0</td>\n",
       "    </tr>\n",
       "    <tr>\n",
       "      <th>5</th>\n",
       "      <td>heart numeric</td>\n",
       "      <td>neural network</td>\n",
       "      <td>1.0</td>\n",
       "      <td>1.0</td>\n",
       "      <td>1.0</td>\n",
       "    </tr>\n",
       "    <tr>\n",
       "      <th>6</th>\n",
       "      <td>heart categorical</td>\n",
       "      <td>decision tree</td>\n",
       "      <td>1.0</td>\n",
       "      <td>1.0</td>\n",
       "      <td>1.0</td>\n",
       "    </tr>\n",
       "    <tr>\n",
       "      <th>7</th>\n",
       "      <td>heart categorical</td>\n",
       "      <td>random forest</td>\n",
       "      <td>1.0</td>\n",
       "      <td>1.0</td>\n",
       "      <td>1.0</td>\n",
       "    </tr>\n",
       "    <tr>\n",
       "      <th>8</th>\n",
       "      <td>heart categorical</td>\n",
       "      <td>neural network</td>\n",
       "      <td>1.0</td>\n",
       "      <td>1.0</td>\n",
       "      <td>1.0</td>\n",
       "    </tr>\n",
       "    <tr>\n",
       "      <th>9</th>\n",
       "      <td>census</td>\n",
       "      <td>decision tree</td>\n",
       "      <td>1.0</td>\n",
       "      <td>1.0</td>\n",
       "      <td>1.0</td>\n",
       "    </tr>\n",
       "    <tr>\n",
       "      <th>10</th>\n",
       "      <td>census</td>\n",
       "      <td>random forest</td>\n",
       "      <td>1.0</td>\n",
       "      <td>1.0</td>\n",
       "      <td>1.0</td>\n",
       "    </tr>\n",
       "    <tr>\n",
       "      <th>11</th>\n",
       "      <td>census</td>\n",
       "      <td>neural network</td>\n",
       "      <td>1.0</td>\n",
       "      <td>1.0</td>\n",
       "      <td>1.0</td>\n",
       "    </tr>\n",
       "    <tr>\n",
       "      <th>12</th>\n",
       "      <td>census numeric</td>\n",
       "      <td>decision tree</td>\n",
       "      <td>1.0</td>\n",
       "      <td>1.0</td>\n",
       "      <td>1.0</td>\n",
       "    </tr>\n",
       "    <tr>\n",
       "      <th>13</th>\n",
       "      <td>census numeric</td>\n",
       "      <td>random forest</td>\n",
       "      <td>1.0</td>\n",
       "      <td>1.0</td>\n",
       "      <td>1.0</td>\n",
       "    </tr>\n",
       "    <tr>\n",
       "      <th>14</th>\n",
       "      <td>census numeric</td>\n",
       "      <td>neural network</td>\n",
       "      <td>1.0</td>\n",
       "      <td>1.0</td>\n",
       "      <td>1.0</td>\n",
       "    </tr>\n",
       "    <tr>\n",
       "      <th>15</th>\n",
       "      <td>census categorical</td>\n",
       "      <td>decision tree</td>\n",
       "      <td>1.0</td>\n",
       "      <td>1.0</td>\n",
       "      <td>1.0</td>\n",
       "    </tr>\n",
       "    <tr>\n",
       "      <th>16</th>\n",
       "      <td>census categorical</td>\n",
       "      <td>random forest</td>\n",
       "      <td>1.0</td>\n",
       "      <td>1.0</td>\n",
       "      <td>1.0</td>\n",
       "    </tr>\n",
       "    <tr>\n",
       "      <th>17</th>\n",
       "      <td>census categorical</td>\n",
       "      <td>neural network</td>\n",
       "      <td>1.0</td>\n",
       "      <td>1.0</td>\n",
       "      <td>1.0</td>\n",
       "    </tr>\n",
       "  </tbody>\n",
       "</table>\n",
       "</div>"
      ],
      "text/plain": [
       "               dataset           model  accuracy  precision  recall\n",
       "0                heart   decision tree       1.0        1.0     1.0\n",
       "1                heart   random forest       1.0        1.0     1.0\n",
       "2                heart  neural network       1.0        1.0     1.0\n",
       "3        heart numeric   decision tree       1.0        1.0     1.0\n",
       "4        heart numeric   random forest       1.0        1.0     1.0\n",
       "5        heart numeric  neural network       1.0        1.0     1.0\n",
       "6    heart categorical   decision tree       1.0        1.0     1.0\n",
       "7    heart categorical   random forest       1.0        1.0     1.0\n",
       "8    heart categorical  neural network       1.0        1.0     1.0\n",
       "9               census   decision tree       1.0        1.0     1.0\n",
       "10              census   random forest       1.0        1.0     1.0\n",
       "11              census  neural network       1.0        1.0     1.0\n",
       "12      census numeric   decision tree       1.0        1.0     1.0\n",
       "13      census numeric   random forest       1.0        1.0     1.0\n",
       "14      census numeric  neural network       1.0        1.0     1.0\n",
       "15  census categorical   decision tree       1.0        1.0     1.0\n",
       "16  census categorical   random forest       1.0        1.0     1.0\n",
       "17  census categorical  neural network       1.0        1.0     1.0"
      ]
     },
     "execution_count": 20,
     "metadata": {},
     "output_type": "execute_result"
    }
   ],
   "source": [
    "results"
   ]
  },
  {
   "cell_type": "code",
   "execution_count": 21,
   "id": "31380dcf",
   "metadata": {
    "tags": []
   },
   "outputs": [],
   "source": [
    "file_name = 'results/1-4-knn-membership-inference-results'\n",
    "if DATASET_HALF:\n",
    "    file_name += '_dataset_size_halved'\n",
    "results.to_csv(file_name + '.csv', index=False, na_rep='NaN', float_format='%.3f')"
   ]
  },
  {
   "cell_type": "markdown",
   "id": "776fa6ec-8416-4947-aafd-e528c82f9bbb",
   "metadata": {},
   "source": [
    "# Discussion\n",
    "\n",
    "Just as expected, the attack has an accuracy of 100%. No false positives or false negatives occur."
   ]
  },
  {
   "cell_type": "code",
   "execution_count": null,
   "id": "5b68b48c",
   "metadata": {},
   "outputs": [],
   "source": []
  }
 ],
 "metadata": {
  "kernelspec": {
   "display_name": "Python 3 (ipykernel)",
   "language": "python",
   "name": "python3"
  },
  "language_info": {
   "codemirror_mode": {
    "name": "ipython",
    "version": 3
   },
   "file_extension": ".py",
   "mimetype": "text/x-python",
   "name": "python",
   "nbconvert_exporter": "python",
   "pygments_lexer": "ipython3",
   "version": "3.8.10"
  }
 },
 "nbformat": 4,
 "nbformat_minor": 5
}