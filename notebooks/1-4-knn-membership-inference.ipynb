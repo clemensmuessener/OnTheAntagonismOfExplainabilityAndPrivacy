{
 "cells": [
  {
   "cell_type": "markdown",
   "id": "75916e17",
   "metadata": {},
   "source": [
    "# K-Nearest-Neighbors Membership Inference Experiment"
   ]
  },
  {
   "cell_type": "code",
   "execution_count": 1,
   "id": "f6661d3f",
   "metadata": {
    "tags": []
   },
   "outputs": [],
   "source": [
    "import pandas as pd\n",
    "import sklearn.ensemble as es\n",
    "from sklearn.tree import DecisionTreeClassifier\n",
    "from sklearn.neural_network import MLPClassifier\n",
    "import numpy as np\n",
    "import logging"
   ]
  },
  {
   "cell_type": "code",
   "execution_count": 2,
   "id": "d5e1de41-a5ee-4520-8060-00873915a3a8",
   "metadata": {
    "tags": []
   },
   "outputs": [],
   "source": [
    "threads = 15\n",
    "\n",
    "logging.basicConfig()\n",
    "\n",
    "logger = logging.getLogger('xai-privacy')"
   ]
  },
  {
   "cell_type": "code",
   "execution_count": 3,
   "id": "f17097ef",
   "metadata": {
    "tags": []
   },
   "outputs": [],
   "source": [
    "from experiment_setup import run_all_experiments\n",
    "from experiment_setup import get_heart_disease_dataset\n",
    "from experiment_setup import get_census_dataset"
   ]
  },
  {
   "cell_type": "code",
   "execution_count": 4,
   "id": "b77aa19b-a2fb-4a9b-95ae-0b44e584390e",
   "metadata": {
    "tags": []
   },
   "outputs": [
    {
     "name": "stdout",
     "output_type": "stream",
     "text": [
      "Feature Age: removed 0 rows for missing values.\n",
      "Feature RestingBP: removed 59 rows for missing values.\n",
      "Feature Cholesterol: removed 27 rows for missing values.\n",
      "Feature FastingBS: add unknown category 2.0\n",
      "Feature RestingECG: add unknown category 3.0\n",
      "Feature MaxHR: removed 0 rows for missing values.\n",
      "Feature Oldpeak: removed 7 rows for missing values.\n",
      "Feature ST_Slope: add unknown category 4.0\n",
      "Feature CA: add unknown category 4.0\n",
      "Feature Thal: add unknown category 8.0\n",
      "Dropped 271 of 1097\n",
      "Dropped 273 of 1097\n",
      "Dropped 277 of 1097\n",
      "Dropped: 2399 of 32561\n",
      "census: Dropped 3848 of 30162\n",
      "num: Dropped 19859 of 30162\n",
      "cat: Dropped 12136 of 30162\n"
     ]
    }
   ],
   "source": [
    "DATASET_HALF = False\n",
    "\n",
    "data_heart_dict, data_heart_num_dict, data_heart_cat_dict = get_heart_disease_dataset(halve_dataset=DATASET_HALF)\n",
    "data_census_dict, data_census_num_dict, data_census_cat_dict = get_census_dataset(halve_dataset=DATASET_HALF)\n",
    "\n",
    "data_heart = data_heart_dict['dataset']\n",
    "outcome_name_heart = data_heart_dict['outcome']\n",
    "numeric_features_heart = data_heart_dict['num']\n",
    "\n",
    "census_num = data_census_num_dict['dataset']\n",
    "outcome_name_census = data_census_num_dict['outcome']\n",
    "numeric_features_census = data_census_num_dict['num']"
   ]
  },
  {
   "cell_type": "markdown",
   "id": "c6a61bbc",
   "metadata": {},
   "source": [
    "This notebook will go through the experiment for membership inference with KNN as an explanation. Membership inference means an attacker with access to the explanation can tell for a sample whether it was included in the training data or not.\n",
    "\n",
    "The idea for KNN membership inference is as follows: Enter the given sample and check whether the sample is returned as one of its own nearest neighbors. If it is, it is part of the training data. Otherwise it is not."
   ]
  },
  {
   "cell_type": "markdown",
   "id": "488dc98b",
   "metadata": {},
   "source": [
    "First, we have to create our own wrapper class for the default scikit-learn KNN classifier. This is necessary because the scikit-learn implementation only returns the indices of the nearest neighbors. However, in order to be useful explanation to a user, the actual feature values of the nearest neighbors need to be returned. This is done by the wrapper class."
   ]
  },
  {
   "cell_type": "code",
   "execution_count": 5,
   "id": "9dccb92a",
   "metadata": {
    "tags": []
   },
   "outputs": [],
   "source": [
    "# Attack code must be imported so that multiprocessing pool works. Check out knn_attack.py for the implementation of the attack.\n",
    "from knn_attack import KnnExplainer"
   ]
  },
  {
   "cell_type": "markdown",
   "id": "773a4d5a",
   "metadata": {},
   "source": [
    "Then, we implement the `train_explainer` and `membership_inference_attack_no_model_access` functions:"
   ]
  },
  {
   "cell_type": "code",
   "execution_count": 6,
   "id": "3a58eda4",
   "metadata": {
    "tags": []
   },
   "outputs": [],
   "source": [
    "# Attack code must be imported so that multiprocessing pool works. Check out ice_attack.py for the implementation of the attack.\n",
    "from knn_attack import KnnMembershipInference"
   ]
  },
  {
   "cell_type": "markdown",
   "id": "d2ef61e5",
   "metadata": {},
   "source": [
    "# Dataset 1: Heart Disease"
   ]
  },
  {
   "cell_type": "markdown",
   "id": "d02a2083",
   "metadata": {},
   "source": [
    "We now generate a KNN explaination for a random sample from the training data as a demonstration of the concept."
   ]
  },
  {
   "cell_type": "code",
   "execution_count": 7,
   "id": "64c4cf59",
   "metadata": {
    "tags": []
   },
   "outputs": [
    {
     "name": "stdout",
     "output_type": "stream",
     "text": [
      "Given sample: [[ 57.    1.    3.  150.  168.    0.    0.  174.    0.    1.6   1.    0.\n",
      "    3. ]]\n",
      "Model prediction: 0.0\n",
      "Nearest Neighbors: \n",
      " [[ 57.    1.    3.  150.  168.    0.    0.  174.    0.    1.6   1.    0.\n",
      "    3.    0. ]\n",
      " [ 59.    1.    4.  140.  177.    0.    0.  162.    1.    0.    1.    1.\n",
      "    7.    1. ]\n",
      " [ 58.    1.    3.  140.  179.    0.    0.  160.    0.    0.    4.    4.\n",
      "    8.    0. ]\n",
      " [ 46.    0.    3.  142.  177.    0.    2.  160.    1.    1.4   3.    0.\n",
      "    3.    0. ]\n",
      " [ 36.    1.    3.  150.  160.    0.    0.  172.    0.    0.    4.    4.\n",
      "    8.    0. ]]\n"
     ]
    }
   ],
   "source": [
    "features = data_heart.drop(outcome_name_heart, axis=1)\n",
    "labels = data_heart[outcome_name_heart]\n",
    "\n",
    "# Train a random forest on training data.\n",
    "model = es.RandomForestClassifier(random_state=0)\n",
    "model = model.fit(features, labels)\n",
    "\n",
    "# Train explainer\n",
    "exp = KnnExplainer(data_heart, outcome_name_heart)\n",
    "\n",
    "given_sample = features.sample()\n",
    "print(f'Given sample: {given_sample.to_numpy()}')\n",
    "\n",
    "pred = model.predict(given_sample)\n",
    "print(f'Model prediction: {pred[0]}')\n",
    "\n",
    "neighbors = exp.explain(given_sample)\n",
    "print(f'Nearest Neighbors: \\n {neighbors.to_numpy()}')"
   ]
  },
  {
   "cell_type": "markdown",
   "id": "084cf1e0",
   "metadata": {},
   "source": [
    "We will now do a small proof of concept of the experiment with logging enabled to demonstrate how it works."
   ]
  },
  {
   "cell_type": "code",
   "execution_count": 8,
   "id": "cacf1093",
   "metadata": {
    "scrolled": true,
    "tags": []
   },
   "outputs": [
    {
     "name": "stderr",
     "output_type": "stream",
     "text": [
      "DEBUG:xai-privacy:Numeric Features: ['age', 'education_num', 'capital_gain', 'capital_loss', 'hours_per_week']\n",
      "DEBUG:xai-privacy:Categorical Features: []\n",
      "DEBUG:xai-privacy:Removed 0 test samples due to unknown category.\n",
      "DEBUG:xai-privacy:[[35 11  0  0 45  0]] taken from training data\n",
      "DEBUG:xai-privacy:[[   21    10 99999     0    40     1]] taken from test data\n",
      "DEBUG:xai-privacy:[[   46    16 25236     0    65     1]] taken from training data\n",
      "DEBUG:xai-privacy:[[17  8  0  0 15  0]] taken from test data\n",
      "DEBUG:xai-privacy:[[  39   14 7688    0   65    1]] taken from training data\n",
      "DEBUG:xai-privacy:[[48 10  0  0 65  1]] taken from test data\n",
      "DEBUG:xai-privacy:[[29 13  0  0 35  0]] taken from training data\n",
      "DEBUG:xai-privacy:[[   53    14 15024     0    55     1]] taken from test data\n",
      "DEBUG:xai-privacy:[[55  9  0  0 40  0]] taken from training data\n",
      "DEBUG:xai-privacy:[[56 10  0  0 41  1]] taken from test data\n",
      "DEBUG:xai-privacy:Checking sample 0: [35. 11.  0.  0. 45.  0.]\n",
      "DEBUG:xai-privacy:Input sample:     age  education_num  capital_gain  capital_loss  hours_per_week\n",
      "0  35.0           11.0           0.0           0.0            45.0\n",
      "DEBUG:xai-privacy:Indices: [[1098 1700 3138 5114 2581]]\n",
      "DEBUG:xai-privacy:K nearest neighbors: \n",
      " [[35 11  0  0 45  0]\n",
      " [35 12  0  0 45  0]\n",
      " [35 10  0  0 45  0]\n",
      " [34 11  0  0 45  0]\n",
      " [34 12  0  0 45  0]]\n",
      "DEBUG:xai-privacy:Inferred membership: True\n",
      "DEBUG:xai-privacy:Checking sample 1: [2.1000e+01 1.0000e+01 9.9999e+04 0.0000e+00 4.0000e+01 1.0000e+00]\n",
      "DEBUG:xai-privacy:Input sample:     age  education_num  capital_gain  capital_loss  hours_per_week\n",
      "1  21.0           10.0       99999.0           0.0            40.0\n",
      "DEBUG:xai-privacy:Indices: [[3167 5078  789 4379 2352]]\n",
      "DEBUG:xai-privacy:K nearest neighbors: \n",
      " [[   22     9 99999     0    40     1]\n",
      " [   30    13 99999     0    35     1]\n",
      " [   33    13 99999     0    40     1]\n",
      " [   30     9 99999     0    50     1]\n",
      " [   33    10 99999     0    30     1]]\n",
      "DEBUG:xai-privacy:Inferred membership: False\n",
      "DEBUG:xai-privacy:Checking sample 2: [4.6000e+01 1.6000e+01 2.5236e+04 0.0000e+00 6.5000e+01 1.0000e+00]\n",
      "DEBUG:xai-privacy:Input sample:     age  education_num  capital_gain  capital_loss  hours_per_week\n",
      "2  46.0           16.0       25236.0           0.0            65.0\n",
      "DEBUG:xai-privacy:Indices: [[4177 2364 2212 1349 2272]]\n",
      "DEBUG:xai-privacy:K nearest neighbors: \n",
      " [[   46    16 25236     0    65     1]\n",
      " [   51    14 25236     0    50     1]\n",
      " [   45    14 25236     0    42     1]\n",
      " [   45    15 25236     0    36     1]\n",
      " [   47    13 25236     0    35     1]]\n",
      "DEBUG:xai-privacy:Inferred membership: True\n",
      "DEBUG:xai-privacy:Checking sample 3: [17.  8.  0.  0. 15.  0.]\n",
      "DEBUG:xai-privacy:Input sample:     age  education_num  capital_gain  capital_loss  hours_per_week\n",
      "3  17.0            8.0           0.0           0.0            15.0\n",
      "DEBUG:xai-privacy:Indices: [[4103 5075 3182 4117 2775]]\n",
      "DEBUG:xai-privacy:K nearest neighbors: \n",
      " [[18  8  0  0 15  0]\n",
      " [17  7  0  0 15  0]\n",
      " [18  9  0  0 15  0]\n",
      " [17  6  0  0 15  0]\n",
      " [19  8  0  0 15  0]]\n",
      "DEBUG:xai-privacy:Inferred membership: False\n",
      "DEBUG:xai-privacy:Checking sample 4: [3.900e+01 1.400e+01 7.688e+03 0.000e+00 6.500e+01 1.000e+00]\n",
      "DEBUG:xai-privacy:Input sample:     age  education_num  capital_gain  capital_loss  hours_per_week\n",
      "4  39.0           14.0        7688.0           0.0            65.0\n",
      "DEBUG:xai-privacy:Indices: [[2548 2998 3356 4706 1132]]\n",
      "DEBUG:xai-privacy:K nearest neighbors: \n",
      " [[  39   14 7688    0   65    1]\n",
      " [  38    9 7688    0   70    1]\n",
      " [  34   15 7688    0   60    1]\n",
      " [  44   13 7688    0   60    1]\n",
      " [  37    9 7688    0   60    1]]\n",
      "DEBUG:xai-privacy:Inferred membership: True\n",
      "DEBUG:xai-privacy:Checking sample 5: [48. 10.  0.  0. 65.  1.]\n",
      "DEBUG:xai-privacy:Input sample:     age  education_num  capital_gain  capital_loss  hours_per_week\n",
      "5  48.0           10.0           0.0           0.0            65.0\n",
      "DEBUG:xai-privacy:Indices: [[3321 1365   91 5068 3452]]\n",
      "DEBUG:xai-privacy:K nearest neighbors: \n",
      " [[48  9  0  0 65  0]\n",
      " [45 10  0  0 65  1]\n",
      " [47 12  0  0 67  0]\n",
      " [46 11  0  0 63  0]\n",
      " [47 13  0  0 65  0]]\n",
      "DEBUG:xai-privacy:Inferred membership: False\n",
      "DEBUG:xai-privacy:Checking sample 6: [29. 13.  0.  0. 35.  0.]\n",
      "DEBUG:xai-privacy:Input sample:     age  education_num  capital_gain  capital_loss  hours_per_week\n",
      "6  29.0           13.0           0.0           0.0            35.0\n",
      "DEBUG:xai-privacy:Indices: [[ 188 3213 1680  150 2754]]\n",
      "DEBUG:xai-privacy:K nearest neighbors: \n",
      " [[29 13  0  0 35  0]\n",
      " [29 14  0  0 36  0]\n",
      " [28 12  0  0 35  0]\n",
      " [30 13  0  0 36  1]\n",
      " [29 12  0  0 36  0]]\n",
      "DEBUG:xai-privacy:Inferred membership: True\n",
      "DEBUG:xai-privacy:Checking sample 7: [5.3000e+01 1.4000e+01 1.5024e+04 0.0000e+00 5.5000e+01 1.0000e+00]\n",
      "DEBUG:xai-privacy:Input sample:     age  education_num  capital_gain  capital_loss  hours_per_week\n",
      "7  53.0           14.0       15024.0           0.0            55.0\n",
      "DEBUG:xai-privacy:Indices: [[2661 4886 2837 3960 3727]]\n",
      "DEBUG:xai-privacy:K nearest neighbors: \n",
      " [[   52    13 15024     0    55     1]\n",
      " [   55    13 15024     0    55     1]\n",
      " [   52    10 15024     0    55     1]\n",
      " [   54    13 15024     0    60     1]\n",
      " [   52    13 15024     0    50     1]]\n",
      "DEBUG:xai-privacy:Inferred membership: False\n",
      "DEBUG:xai-privacy:Checking sample 8: [55.  9.  0.  0. 40.  0.]\n",
      "DEBUG:xai-privacy:Input sample:     age  education_num  capital_gain  capital_loss  hours_per_week\n",
      "8  55.0            9.0           0.0           0.0            40.0\n",
      "DEBUG:xai-privacy:Indices: [[2245 1547 2161 1044 1653]]\n",
      "DEBUG:xai-privacy:K nearest neighbors: \n",
      " [[55  9  0  0 40  0]\n",
      " [55 10  0  0 40  0]\n",
      " [56 10  0  0 40  0]\n",
      " [54  8  0  0 40  0]\n",
      " [56  9  0  0 41  0]]\n",
      "DEBUG:xai-privacy:Inferred membership: True\n",
      "DEBUG:xai-privacy:Checking sample 9: [56. 10.  0.  0. 41.  1.]\n",
      "DEBUG:xai-privacy:Input sample:     age  education_num  capital_gain  capital_loss  hours_per_week\n",
      "9  56.0           10.0           0.0           0.0            41.0\n",
      "DEBUG:xai-privacy:Indices: [[1653 2161 3504 3008 1547]]\n",
      "DEBUG:xai-privacy:K nearest neighbors: \n",
      " [[56  9  0  0 41  0]\n",
      " [56 10  0  0 40  0]\n",
      " [56 11  0  0 40  1]\n",
      " [57 10  0  0 42  0]\n",
      " [55 10  0  0 40  0]]\n",
      "DEBUG:xai-privacy:Inferred membership: False\n"
     ]
    },
    {
     "name": "stdout",
     "output_type": "stream",
     "text": [
      "Total time: 0.15s (training model: 0.02s, training explainer: 0.00s, experiment: 0.13s)\n",
      "Accuracy: 1.0, precision: 1.0, recall: 1.0\n"
     ]
    }
   ],
   "source": [
    "logger.setLevel(logging.DEBUG)\n",
    "\n",
    "EXP = KnnMembershipInference(census_num, numeric_features_census, outcome_name_census, random_state=0)\n",
    "EXP.membership_inference_experiment(num_queries=10, model=DecisionTreeClassifier(random_state=0), model_access=False, threads=1)\n",
    "\n",
    "logger.setLevel(logging.INFO)"
   ]
  },
  {
   "cell_type": "markdown",
   "id": "1ce9ba36",
   "metadata": {},
   "source": [
    "The proof of concept should show that the membership inference function predicts membership very accurately."
   ]
  },
  {
   "cell_type": "markdown",
   "id": "3d8971c1",
   "metadata": {},
   "source": [
    "Now we begin executing the actual experiment. We begin by defining the table that will hold the results for all our different experiment variations. Then we execute all variations of the experiment for this dataset. We vary the model between a decision tree, a random forest and a neural network. Each model uses the default configuration of scikit-learn."
   ]
  },
  {
   "cell_type": "code",
   "execution_count": 9,
   "id": "f3f11f2c-e5e5-4d5f-b4e8-0c2a53bf5528",
   "metadata": {},
   "outputs": [],
   "source": [
    "dataset_dicts = [data_heart_dict, data_heart_num_dict, data_heart_cat_dict, data_census_dict, data_census_num_dict, data_census_cat_dict]\n",
    "\n",
    "dt_dict = {'name': 'decision tree', 'model': DecisionTreeClassifier}\n",
    "rf_dict = {'name': 'random forest', 'model': es.RandomForestClassifier}\n",
    "nn_dict = {'name': 'neural network', 'model': MLPClassifier}\n",
    "\n",
    "model_dicts = [dt_dict, rf_dict, nn_dict]"
   ]
  },
  {
   "cell_type": "code",
   "execution_count": null,
   "id": "1c8661dd-d019-4034-9a0b-15365aee7065",
   "metadata": {
    "scrolled": false,
    "pycharm": {
     "is_executing": true
    }
   },
   "outputs": [
    {
     "name": "stdout",
     "output_type": "stream",
     "text": [
      "dataset: heart, model: decision tree (repetition 0)\n",
      "Total time: 4.75s (training model: 0.01s, training explainer: 0.00s, experiment: 4.74s)\n",
      "Accuracy: 1.0, precision: 1.0, recall: 1.0\n",
      "dataset: heart, model: decision tree (repetition 1)\n",
      "Total time: 4.82s (training model: 0.02s, training explainer: 0.00s, experiment: 4.81s)\n",
      "Accuracy: 1.0, precision: 1.0, recall: 1.0\n",
      "dataset: heart, model: decision tree (repetition 2)\n",
      "Total time: 4.83s (training model: 0.00s, training explainer: 0.02s, experiment: 4.81s)\n",
      "Accuracy: 1.0, precision: 1.0, recall: 1.0\n",
      "dataset: heart, model: decision tree (repetition 3)\n",
      "Total time: 4.80s (training model: 0.02s, training explainer: 0.00s, experiment: 4.78s)\n",
      "Accuracy: 1.0, precision: 1.0, recall: 1.0\n",
      "dataset: heart, model: decision tree (repetition 4)\n",
      "Total time: 4.82s (training model: 0.02s, training explainer: 0.00s, experiment: 4.81s)\n",
      "Accuracy: 1.0, precision: 1.0, recall: 1.0\n",
      "dataset: heart, model: decision tree (repetition 5)\n",
      "Total time: 5.02s (training model: 0.02s, training explainer: 0.00s, experiment: 5.00s)\n",
      "Accuracy: 1.0, precision: 1.0, recall: 1.0\n",
      "dataset: heart, model: decision tree (repetition 6)\n",
      "Total time: 5.60s (training model: 0.02s, training explainer: 0.00s, experiment: 5.59s)\n",
      "Accuracy: 1.0, precision: 1.0, recall: 1.0\n",
      "dataset: heart, model: decision tree (repetition 7)\n",
      "Total time: 4.79s (training model: 0.02s, training explainer: 0.00s, experiment: 4.77s)\n",
      "Accuracy: 1.0, precision: 1.0, recall: 1.0\n",
      "dataset: heart, model: decision tree (repetition 8)\n",
      "Total time: 4.84s (training model: 0.02s, training explainer: 0.00s, experiment: 4.82s)\n",
      "Accuracy: 1.0, precision: 1.0, recall: 1.0\n",
      "dataset: heart, model: decision tree (repetition 9)\n"
     ]
    }
   ],
   "source": [
    "# This will run the experiment for each dataset and model combination\n",
    "\n",
    "results = run_all_experiments(KnnMembershipInference, dataset_dicts, model_dicts, random_state=0, num_queries=None, model_access=False, threads=threads, repeat=10)"
   ]
  },
  {
   "cell_type": "markdown",
   "id": "a1feb9a8",
   "metadata": {},
   "source": [
    "# Results\n",
    "\n",
    "The results of all variations of the membership inference experiment with KNN. In every experiment, we executed the membership inference attack on each sample of the training data and each sample of the test data. Both datasets are of equal size and originate from the same source dataset.\n",
    "\n",
    "Accuracy is the percentage of samples whose membership (true or false) was correctly inferred. An algorithm guessing at random would achieve an accuracy of 50 percent.\n",
    "\n",
    "Precision is the percentage of predicted training samples that is actually in the training data.\n",
    "\n",
    "Recall is the percentage of training samples whose membership (true) was correctly inferred."
   ]
  },
  {
   "cell_type": "code",
   "execution_count": null,
   "id": "39bb0af8",
   "metadata": {
    "tags": [],
    "pycharm": {
     "is_executing": true
    }
   },
   "outputs": [],
   "source": [
    "results"
   ]
  },
  {
   "cell_type": "code",
   "execution_count": null,
   "id": "31380dcf",
   "metadata": {
    "tags": [],
    "pycharm": {
     "is_executing": true
    }
   },
   "outputs": [],
   "source": [
    "file_name = 'results/1-4-knn-membership-inference-results'\n",
    "if DATASET_HALF:\n",
    "    file_name += '_dataset_size_halved'\n",
    "results.to_csv(file_name + '.csv', index=False, na_rep='NaN', float_format='%.3f')"
   ]
  },
  {
   "cell_type": "markdown",
   "id": "776fa6ec-8416-4947-aafd-e528c82f9bbb",
   "metadata": {},
   "source": [
    "# Discussion\n",
    "\n",
    "Just as expected, the attack has an accuracy of 100%. No false positives or false negatives occur."
   ]
  },
  {
   "cell_type": "code",
   "execution_count": null,
   "id": "5b68b48c",
   "metadata": {
    "pycharm": {
     "is_executing": true
    }
   },
   "outputs": [],
   "source": []
  }
 ],
 "metadata": {
  "kernelspec": {
   "display_name": "Python 3 (ipykernel)",
   "language": "python",
   "name": "python3"
  },
  "language_info": {
   "codemirror_mode": {
    "name": "ipython",
    "version": 3
   },
   "file_extension": ".py",
   "mimetype": "text/x-python",
   "name": "python",
   "nbconvert_exporter": "python",
   "pygments_lexer": "ipython3",
   "version": "3.8.10"
  }
 },
 "nbformat": 4,
 "nbformat_minor": 5
}