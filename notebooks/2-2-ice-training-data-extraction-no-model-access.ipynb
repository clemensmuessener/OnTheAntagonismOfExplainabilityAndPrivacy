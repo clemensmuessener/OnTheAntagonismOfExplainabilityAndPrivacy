{
 "cells": [
  {
   "cell_type": "markdown",
   "id": "75916e17",
   "metadata": {},
   "source": [
    "# ICE Training Data Extraction Experiment"
   ]
  },
  {
   "cell_type": "code",
   "execution_count": 1,
   "id": "f6661d3f",
   "metadata": {
    "tags": []
   },
   "outputs": [
    {
     "name": "stderr",
     "output_type": "stream",
     "text": [
      "Intel(R) Extension for Scikit-learn* enabled (https://github.com/intel/scikit-learn-intelex)\n"
     ]
    }
   ],
   "source": [
    "import pandas as pd\n",
    "from sklearnex import patch_sklearn\n",
    "patch_sklearn()\n",
    "import sklearn.ensemble as es\n",
    "from sklearn.tree import DecisionTreeClassifier\n",
    "from sklearn.neural_network import MLPClassifier\n",
    "import matplotlib.pyplot as plt\n",
    "from sklearn.inspection import partial_dependence\n",
    "from sklearn.inspection import PartialDependenceDisplay\n",
    "import numpy as np\n",
    "import logging\n",
    "from tqdm.notebook import tqdm"
   ]
  },
  {
   "cell_type": "code",
   "execution_count": 2,
   "id": "5fe0f9a7",
   "metadata": {
    "tags": []
   },
   "outputs": [],
   "source": [
    "logging.basicConfig()\n",
    "\n",
    "logger = logging.getLogger('xai-privacy')\n",
    "\n",
    "from experiment_setup import run_all_experiments\n",
    "from experiment_setup import get_heart_disease_dataset\n",
    "from experiment_setup import get_census_dataset\n",
    "from experiment_setup import TrainingDataExtraction"
   ]
  },
  {
   "cell_type": "code",
   "execution_count": 3,
   "id": "71b71c31-84e0-4006-ae76-ccb0eb67a1cb",
   "metadata": {
    "tags": []
   },
   "outputs": [
    {
     "name": "stdout",
     "output_type": "stream",
     "text": [
      "Feature Age: removed 0 rows for missing values.\n",
      "Feature RestingBP: removed 59 rows for missing values.\n",
      "Feature Cholesterol: removed 27 rows for missing values.\n",
      "Feature FastingBS: add unknown category 2.0\n",
      "Feature RestingECG: add unknown category 3.0\n",
      "Feature MaxHR: removed 0 rows for missing values.\n",
      "Feature Oldpeak: removed 7 rows for missing values.\n",
      "Feature ST_Slope: add unknown category 4.0\n",
      "Feature CA: add unknown category 4.0\n",
      "Feature Thal: add unknown category 8.0\n",
      "Dropped 71 of 548\n",
      "Dropped 72 of 548\n",
      "Dropped 71 of 548\n",
      "Dropped: 2399 of 32561\n",
      "census: Dropped 1256 of 15081\n",
      "num: Dropped 8827 of 15081\n",
      "cat: Dropped 4850 of 15081\n"
     ]
    }
   ],
   "source": [
    "DATASET_HALF = True\n",
    "\n",
    "data_heart_dict, data_heart_num_dict, data_heart_cat_dict = get_heart_disease_dataset(halve_dataset=DATASET_HALF)\n",
    "data_census_dict, data_census_num_dict, data_census_cat_dict = get_census_dataset(halve_dataset=DATASET_HALF)\n",
    "\n",
    "data_heart = data_heart_dict['dataset']\n",
    "data_heart_num = data_heart_num_dict['dataset']\n",
    "data_heart_cat = data_heart_cat_dict['dataset']\n",
    "outcome_name_heart = data_heart_dict['outcome']\n",
    "numeric_features_heart = data_heart_dict['num']"
   ]
  },
  {
   "cell_type": "markdown",
   "id": "c6a61bbc",
   "metadata": {},
   "source": [
    "This notebook will go through the experiment for training data extraction with individual conditional expectation (ICE). The experiments will be performed without attacker access to the model. Training data extraction means an attacker can find out the feature values of samples from the training data without prior knowledge of them. The attacker only has access to the explanation.\n",
    "\n",
    "The idea for ICE training data extraction is as follows: The attacker can check which predictions values are the same for different ICE lines from the same training sample (each training sample has one ICE line for every feature). If there is only one possible combination of feature values with the same prediction value, then these feature values must make up the original sample. If multiple possibilites exist, then an unambiguous extraction is impossible (without access to the model). In this case the sample cannot be extracted by the attacker.\n",
    "\n",
    "First, we implement the `train_explainer` and `training_data_extraction_no_model_access` functions:"
   ]
  },
  {
   "cell_type": "code",
   "execution_count": 4,
   "id": "e54a7eed",
   "metadata": {
    "tags": []
   },
   "outputs": [],
   "source": [
    "class ICETDE(TrainingDataExtraction):\n",
    "    def train_explainer(self, data_train, model):\n",
    "        # Calculate ICE\n",
    "        ice_features = []\n",
    "\n",
    "        x_train = data_train.drop(self.outcome_name, axis=1)\n",
    "        num_samples = len(x_train)\n",
    "        \n",
    "        for i in range(self.features.shape[1]):\n",
    "            # training data extraction needs the ICE plots to be complete. Every possible feature value needs to be evaluated. Therefore,\n",
    "            # we set the grid resolution one higher than the number of samples.\n",
    "            ice_features.append(partial_dependence(estimator=model, X=x_train, features=[i], percentiles=(0,1),\\\n",
    "                                                   grid_resolution=num_samples + 1, kind='individual'))\n",
    "            \n",
    "        return ice_features\n",
    "        \n",
    "    @staticmethod\n",
    "    def training_data_extraction_no_model_access(explainer, num_queries, feature_formats, rng):\n",
    "        # Get all feature names\n",
    "        feature_names = []\n",
    "        \n",
    "        for feature in feature_formats:\n",
    "            feature_names.append(feature['name'])\n",
    "            \n",
    "        # better parameter name\n",
    "        ice_features = explainer\n",
    "        \n",
    "        # Collect all extracted samples in this list\n",
    "        extracted_samples = []\n",
    "\n",
    "        # Get proper number of extractions to attempt based on input.\n",
    "        if num_queries is None:\n",
    "            index_range = len(ice_features[0]['individual'][0])\n",
    "        else:\n",
    "            index_range = num_queries\n",
    "\n",
    "        # Attempt extraction for each sample until index_range\n",
    "        for sample_index in tqdm(range(index_range)):\n",
    "\n",
    "            num_of_features = len(ice_features)\n",
    "\n",
    "            # Create array that contains all predictions values that are shared across all ICE lines for this sample.\n",
    "            shared_preds = ice_features[0]['individual'][0][sample_index]\n",
    "            for i in range(num_of_features):\n",
    "                shared_preds = np.intersect1d(shared_preds, ice_features[i]['individual'][0][sample_index])\n",
    "\n",
    "            # If the lines share no prediction values then they cannot be part of the same sample (they must at least share\n",
    "            # one prediction value: the original prediction value of the sample).\n",
    "            if len(shared_preds) == 0:\n",
    "                logger.debug(f'Sample index {sample_index}: No extraction possible: There are no shared prediction values.')\n",
    "                continue\n",
    "\n",
    "            # If the lines share multiple prediction values then the attacker cannot be sure which one belongs to the original \n",
    "            # sample. Extraction is aborted because it is not possible to extract a single definite sample.\n",
    "            if len(shared_preds) > 1:\n",
    "                logger.debug(f'Sample index {sample_index}: Unambiguous extraction impossible: Multiple shared prediction values: {shared_preds}')\n",
    "                continue\n",
    "\n",
    "            logger.debug(f'Sample index {sample_index}: Shared prediction value: {shared_preds[0]}')\n",
    "\n",
    "            # This array will contain the feature values where the shared prediction value occurs. This the extracted sample.\n",
    "            extracted_sample = np.zeros(num_of_features)\n",
    "\n",
    "            # This boolean tracks whether an unambiguous extraction is still possible. It becomes False if there are multiple\n",
    "            # feature values for one feature for the shared prediction value. In that case, no unambiguous extraction is possible\n",
    "            # anymore.\n",
    "            unambiguous_extraction_possible = True\n",
    "\n",
    "            for i in range(num_of_features):\n",
    "\n",
    "                # Get indices where the ICE lines prediction is equal to the shared prediction.\n",
    "                indices = np.where(ice_features[i]['individual'][0][sample_index] == shared_preds[0])[0]\n",
    "\n",
    "                # If multiple feature values for one feature with the shared prediction value occur, then unamiguous extraction\n",
    "                # is no longer possible. Abort the extraction process for this sample.\n",
    "                if len(indices) > 1:\n",
    "                    unambiguous_extraction_possible = False\n",
    "                    break\n",
    "\n",
    "                # Get the feature value for index with shared prediction value and add it to the extracted sample.\n",
    "                values = ice_features[i]['values'][0][indices]\n",
    "                extracted_sample[i] = values[0]\n",
    "\n",
    "            # Abort extraction process if unambiguous extraction is not possible\n",
    "            if not unambiguous_extraction_possible:\n",
    "                logger.debug(\"Sample index %s: Unambiguous extraction impossible (multiple values for shared prediction).\" \\\n",
    "                              % (sample_index))\n",
    "                continue\n",
    "\n",
    "            extracted_samples.append(extracted_sample)\n",
    "\n",
    "            logger.debug(f'Sample index {sample_index}: Extracted sample: {extracted_sample}')\n",
    "\n",
    "        extracted_samples_df = pd.DataFrame(extracted_samples, columns=feature_names)\n",
    "            \n",
    "        # Return all extracted samples\n",
    "        return extracted_samples_df"
   ]
  },
  {
   "cell_type": "markdown",
   "id": "d2ef61e5",
   "metadata": {},
   "source": [
    "# Dataset 1: Heart Disease (numeric)"
   ]
  },
  {
   "cell_type": "markdown",
   "id": "bdb2e40d",
   "metadata": {},
   "source": [
    "Before running the experiment, we we will have a short look at the visual explanation of ICE. The underlying data of these graphs will be our attack vector for training data extraction.\n",
    "\n",
    "The dark blue lines represent the average change in predictions for a change in the specified feature. The light blue lines are the change in prediction for single samples from the training data. These are the ICE lines for individual samples from the training data."
   ]
  },
  {
   "cell_type": "code",
   "execution_count": 5,
   "id": "64c4cf59",
   "metadata": {
    "tags": []
   },
   "outputs": [
    {
     "data": {
      "text/plain": "<Figure size 1400x1400 with 6 Axes>",
      "image/png": "[encoded data removed]"
     },
     "metadata": {},
     "output_type": "display_data"
    }
   ],
   "source": [
    "# Train a random forest on training data.\n",
    "features = data_heart.drop(outcome_name_heart, axis=1)\n",
    "labels = data_heart[outcome_name_heart]\n",
    "\n",
    "model = es.RandomForestClassifier(random_state=0)\n",
    "model = model.fit(features, labels)\n",
    "\n",
    "num_of_features = 8\n",
    "\n",
    "fig, ax = plt.subplots(figsize=(14, 14))\n",
    "\n",
    "display = PartialDependenceDisplay.from_estimator(\n",
    "       model, features, numeric_features_heart, kind=\"both\", subsample=10,\n",
    "       n_jobs=3, grid_resolution=20, random_state=0, percentiles = (0.05, 0.95), ax=ax\n",
    ")"
   ]
  },
  {
   "cell_type": "markdown",
   "id": "883edb84",
   "metadata": {},
   "source": [
    "As a proof of concept for our privacy attack, we run the experiment for a few iterations with logging to show how the training data extraction function works in principle."
   ]
  },
  {
   "cell_type": "code",
   "execution_count": 6,
   "id": "813b7a63",
   "metadata": {
    "scrolled": true,
    "tags": []
   },
   "outputs": [
    {
     "name": "stderr",
     "output_type": "stream",
     "text": [
      "DEBUG:xai-privacy:Numeric Features: ['Age', 'RestingBP', 'Cholesterol', 'MaxHR', 'Oldpeak']\n",
      "DEBUG:xai-privacy:Categorical Features: ['CA', 'ChestPainType', 'ExerciseAngina', 'FastingBS', 'RestingECG', 'ST_Slope', 'Sex', 'Thal']\n",
      "c:\\users\\ml_ks\\venvs\\xai_new\\lib\\site-packages\\sklearn\\neural_network\\_multilayer_perceptron.py:702: ConvergenceWarning: Stochastic Optimizer: Maximum iterations (200) reached and the optimization hasn't converged yet.\n",
      "  warnings.warn(\n"
     ]
    },
    {
     "data": {
      "text/plain": "  0%|          | 0/10 [00:00<?, ?it/s]",
      "application/vnd.jupyter.widget-view+json": {
       "version_major": 2,
       "version_minor": 0,
       "model_id": "780bb58ae99e40cbafd5320f83edd9ef"
      },
      "application/json": {
       "n": 0,
       "total": 10,
       "elapsed": 0.0,
       "ncols": null,
       "nrows": null,
       "prefix": "",
       "ascii": false,
       "unit": "it",
       "unit_scale": false,
       "rate": null,
       "bar_format": null,
       "postfix": null,
       "unit_divisor": 1000,
       "initial": 0,
       "colour": null
      }
     },
     "metadata": {},
     "output_type": "display_data"
    },
    {
     "name": "stderr",
     "output_type": "stream",
     "text": [
      "DEBUG:xai-privacy:Sample index 0: Shared prediction value: 0.9963223482430343\n",
      "DEBUG:xai-privacy:Sample index 0: Extracted sample: [ 55.    0.    4.  180.  327.    0.    1.  117.    1.    3.4   2.    0.\n",
      "   3. ]\n",
      "DEBUG:xai-privacy:Sample index 1: Shared prediction value: 0.0141335350168537\n",
      "DEBUG:xai-privacy:Sample index 1: Extracted sample: [ 44.   1.   2. 130. 219.   0.   2. 188.   0.   0.   1.   0.   3.]\n",
      "DEBUG:xai-privacy:Sample index 2: Shared prediction value: 0.009469768443598389\n",
      "DEBUG:xai-privacy:Sample index 2: Extracted sample: [ 44.   1.   2. 120. 220.   0.   0. 170.   0.   0.   1.   0.   3.]\n",
      "DEBUG:xai-privacy:Sample index 3: Shared prediction value: 0.9998069674115502\n",
      "DEBUG:xai-privacy:Sample index 3: Extracted sample: [ 51.    1.    4.   95.    0.    2.    0.  126.    0.    2.2   2.    4.\n",
      "   8. ]\n",
      "DEBUG:xai-privacy:Sample index 4: Shared prediction value: 0.9055440560983494\n",
      "DEBUG:xai-privacy:Sample index 4: Extracted sample: [ 69.   1.   4. 135.   0.   0.   0. 130.   0.   0.   2.   4.   6.]\n",
      "DEBUG:xai-privacy:Sample index 5: Shared prediction value: 0.9947465923791041\n",
      "DEBUG:xai-privacy:Sample index 5: Extracted sample: [ 67.   1.   4. 140. 219.   0.   1. 122.   1.   2.   2.   4.   7.]\n",
      "DEBUG:xai-privacy:Sample index 6: Shared prediction value: 0.9947760065818827\n",
      "DEBUG:xai-privacy:Sample index 6: Extracted sample: [ 65.    1.    4.  140.  306.    1.    0.   87.    1.    1.5   2.    4.\n",
      "   8. ]\n",
      "DEBUG:xai-privacy:Sample index 7: Shared prediction value: 0.9650879244127316\n",
      "DEBUG:xai-privacy:Sample index 7: Extracted sample: [ 54.   1.   4. 125. 224.   0.   0. 122.   0.   2.   2.   4.   8.]\n",
      "DEBUG:xai-privacy:Sample index 8: Shared prediction value: 0.007879819421630845\n",
      "DEBUG:xai-privacy:Sample index 8: Extracted sample: [ 56.    1.    2.  120.  236.    0.    0.  178.    0.    0.8   1.    0.\n",
      "   3. ]\n",
      "DEBUG:xai-privacy:Sample index 9: Shared prediction value: 0.057698393170321605\n",
      "DEBUG:xai-privacy:Sample index 9: Extracted sample: [ 67.   0.   3. 152. 277.   0.   0. 172.   0.   0.   1.   1.   3.]\n",
      "DEBUG:xai-privacy:Extracted sample: [ 44.   1.   2. 120. 220.   0.   0. 170.   0.   0.   1.   0.   3.]\n",
      "DEBUG:xai-privacy:Appears in training data at indices [86]\n",
      "DEBUG:xai-privacy:Extracted sample: [ 44.   1.   2. 130. 219.   0.   2. 188.   0.   0.   1.   0.   3.]\n",
      "DEBUG:xai-privacy:Appears in training data at indices [88]\n",
      "DEBUG:xai-privacy:Extracted sample: [ 51.    1.    4.   95.    0.    2.    0.  126.    0.    2.2   2.    4.\n",
      "   8. ]\n",
      "DEBUG:xai-privacy:Appears in training data at indices [181]\n",
      "DEBUG:xai-privacy:Extracted sample: [ 54.   1.   4. 125. 224.   0.   0. 122.   0.   2.   2.   4.   8.]\n",
      "DEBUG:xai-privacy:Appears in training data at indices [239]\n",
      "DEBUG:xai-privacy:Extracted sample: [ 55.    0.    4.  180.  327.    0.    1.  117.    1.    3.4   2.    0.\n",
      "   3. ]\n",
      "DEBUG:xai-privacy:Appears in training data at indices [248]\n",
      "DEBUG:xai-privacy:Extracted sample: [ 56.    1.    2.  120.  236.    0.    0.  178.    0.    0.8   1.    0.\n",
      "   3. ]\n",
      "DEBUG:xai-privacy:Appears in training data at indices [269]\n",
      "DEBUG:xai-privacy:Extracted sample: [ 65.    1.    4.  140.  306.    1.    0.   87.    1.    1.5   2.    4.\n",
      "   8. ]\n",
      "DEBUG:xai-privacy:Appears in training data at indices [432]\n",
      "DEBUG:xai-privacy:Extracted sample: [ 67.   0.   3. 152. 277.   0.   0. 172.   0.   0.   1.   1.   3.]\n",
      "DEBUG:xai-privacy:Appears in training data at indices [446]\n",
      "DEBUG:xai-privacy:Extracted sample: [ 67.   1.   4. 140. 219.   0.   1. 122.   1.   2.   2.   4.   7.]\n",
      "DEBUG:xai-privacy:Appears in training data at indices [454]\n",
      "DEBUG:xai-privacy:Extracted sample: [ 69.   1.   4. 135.   0.   0.   0. 130.   0.   0.   2.   4.   6.]\n",
      "DEBUG:xai-privacy:Appears in training data at indices [465]\n"
     ]
    },
    {
     "name": "stdout",
     "output_type": "stream",
     "text": [
      "Total time: 4.80s (training model: 1.22s, training explainer: 3.51s, experiment: 0.07s)\n",
      "Number of extracted samples: 10\n",
      "Number of accurate extracted samples: 10\n",
      "Precision: 1.0, recall: 1.0\n"
     ]
    }
   ],
   "source": [
    "logger.setLevel(logging.DEBUG)\n",
    "\n",
    "EXP = ICETDE(data_heart, numeric_features_heart, outcome_name_heart, random_state=0)\n",
    "EXP.training_data_extraction_experiment(num_queries=10, model=MLPClassifier(random_state=0), model_access=False)\n",
    "\n",
    "logger.setLevel(logging.INFO)"
   ]
  },
  {
   "cell_type": "markdown",
   "id": "3192b2eb",
   "metadata": {},
   "source": [
    "The proof of concept shows that training data extraction with ICE can be highly accurate and complete (recall 100%)."
   ]
  },
  {
   "cell_type": "markdown",
   "id": "4dcb3db0",
   "metadata": {},
   "source": [
    "Now we begin executing the actual experiment. We begin by defining the table that will hold the results for all our different experiment variations. Then we execute all variations of the experiment for this dataset. We vary the model between a decision tree, a random forest and a neural network. Each model uses the default configuration of scikit-learn."
   ]
  },
  {
   "cell_type": "code",
   "execution_count": 6,
   "id": "e60d9c33",
   "metadata": {
    "tags": []
   },
   "outputs": [],
   "source": []
  },
  {
   "cell_type": "code",
   "execution_count": 7,
   "id": "98de7f8f-b2b2-43eb-b4b9-a2e9fb992630",
   "metadata": {},
   "outputs": [],
   "source": [
    "dataset_dicts = [data_heart_dict, data_heart_num_dict, data_heart_cat_dict, data_census_dict, data_census_num_dict, data_census_cat_dict]\n",
    "\n",
    "dt_dict = {'name': 'decision tree', 'model': DecisionTreeClassifier}\n",
    "rf_dict = {'name': 'random forest', 'model': es.RandomForestClassifier}\n",
    "nn_dict = {'name': 'neural network', 'model': MLPClassifier}\n",
    "\n",
    "model_dicts = [dt_dict, rf_dict, nn_dict]"
   ]
  },
  {
   "cell_type": "code",
   "execution_count": 8,
   "id": "92ada447-7764-439a-9b2b-976ebc974bfa",
   "metadata": {},
   "outputs": [
    {
     "name": "stdout",
     "output_type": "stream",
     "text": [
      "dataset: heart, model: decision tree (repetition 0)\n"
     ]
    },
    {
     "data": {
      "text/plain": "  0%|          | 0/477 [00:00<?, ?it/s]",
      "application/vnd.jupyter.widget-view+json": {
       "version_major": 2,
       "version_minor": 0,
       "model_id": "e21c4f5fa750497bb7b416b7a9032846"
      },
      "application/json": {
       "n": 0,
       "total": 477,
       "elapsed": 0.004433870315551758,
       "ncols": null,
       "nrows": null,
       "prefix": "",
       "ascii": false,
       "unit": "it",
       "unit_scale": false,
       "rate": null,
       "bar_format": null,
       "postfix": null,
       "unit_divisor": 1000,
       "initial": 0,
       "colour": null
      }
     },
     "metadata": {},
     "output_type": "display_data"
    },
    {
     "name": "stdout",
     "output_type": "stream",
     "text": [
      "Total time: 2.65s (training model: 0.01s, training explainer: 2.43s, experiment: 0.20s)\n",
      "Number of extracted samples: 0\n",
      "Number of accurate extracted samples: 0\n",
      "Precision: nan, recall: 0.0\n",
      "dataset: heart, model: decision tree (repetition 1)\n"
     ]
    },
    {
     "data": {
      "text/plain": "  0%|          | 0/477 [00:00<?, ?it/s]",
      "application/vnd.jupyter.widget-view+json": {
       "version_major": 2,
       "version_minor": 0,
       "model_id": "ae80cec6ef9643178c2914e1ff90c0f0"
      },
      "application/json": {
       "n": 0,
       "total": 477,
       "elapsed": 0.0,
       "ncols": null,
       "nrows": null,
       "prefix": "",
       "ascii": false,
       "unit": "it",
       "unit_scale": false,
       "rate": null,
       "bar_format": null,
       "postfix": null,
       "unit_divisor": 1000,
       "initial": 0,
       "colour": null
      }
     },
     "metadata": {},
     "output_type": "display_data"
    },
    {
     "name": "stdout",
     "output_type": "stream",
     "text": [
      "Total time: 2.55s (training model: 0.01s, training explainer: 2.32s, experiment: 0.22s)\n",
      "Number of extracted samples: 0\n",
      "Number of accurate extracted samples: 0\n",
      "Precision: nan, recall: 0.0\n",
      "dataset: heart, model: decision tree (repetition 2)\n"
     ]
    },
    {
     "data": {
      "text/plain": "  0%|          | 0/477 [00:00<?, ?it/s]",
      "application/vnd.jupyter.widget-view+json": {
       "version_major": 2,
       "version_minor": 0,
       "model_id": "3cfa44bde7ad4c04aa1a6ec4777dc901"
      },
      "application/json": {
       "n": 0,
       "total": 477,
       "elapsed": 0.015623092651367188,
       "ncols": null,
       "nrows": null,
       "prefix": "",
       "ascii": false,
       "unit": "it",
       "unit_scale": false,
       "rate": null,
       "bar_format": null,
       "postfix": null,
       "unit_divisor": 1000,
       "initial": 0,
       "colour": null
      }
     },
     "metadata": {},
     "output_type": "display_data"
    },
    {
     "name": "stdout",
     "output_type": "stream",
     "text": [
      "Total time: 2.58s (training model: 0.02s, training explainer: 2.37s, experiment: 0.19s)\n",
      "Number of extracted samples: 0\n",
      "Number of accurate extracted samples: 0\n",
      "Precision: nan, recall: 0.0\n",
      "dataset: heart, model: decision tree (repetition 3)\n"
     ]
    },
    {
     "data": {
      "text/plain": "  0%|          | 0/477 [00:00<?, ?it/s]",
      "application/vnd.jupyter.widget-view+json": {
       "version_major": 2,
       "version_minor": 0,
       "model_id": "e753c7c0bac34bc4bc36db2335b67ce5"
      },
      "application/json": {
       "n": 0,
       "total": 477,
       "elapsed": 0.0,
       "ncols": null,
       "nrows": null,
       "prefix": "",
       "ascii": false,
       "unit": "it",
       "unit_scale": false,
       "rate": null,
       "bar_format": null,
       "postfix": null,
       "unit_divisor": 1000,
       "initial": 0,
       "colour": null
      }
     },
     "metadata": {},
     "output_type": "display_data"
    },
    {
     "name": "stdout",
     "output_type": "stream",
     "text": [
      "Total time: 3.09s (training model: 0.02s, training explainer: 2.83s, experiment: 0.23s)\n",
      "Number of extracted samples: 0\n",
      "Number of accurate extracted samples: 0\n",
      "Precision: nan, recall: 0.0\n",
      "dataset: heart, model: decision tree (repetition 4)\n"
     ]
    },
    {
     "data": {
      "text/plain": "  0%|          | 0/477 [00:00<?, ?it/s]",
      "application/vnd.jupyter.widget-view+json": {
       "version_major": 2,
       "version_minor": 0,
       "model_id": "cea8177b97894d6b9f2f8741226c6a45"
      },
      "application/json": {
       "n": 0,
       "total": 477,
       "elapsed": 0.0,
       "ncols": null,
       "nrows": null,
       "prefix": "",
       "ascii": false,
       "unit": "it",
       "unit_scale": false,
       "rate": null,
       "bar_format": null,
       "postfix": null,
       "unit_divisor": 1000,
       "initial": 0,
       "colour": null
      }
     },
     "metadata": {},
     "output_type": "display_data"
    },
    {
     "name": "stdout",
     "output_type": "stream",
     "text": [
      "Total time: 2.62s (training model: 0.01s, training explainer: 2.41s, experiment: 0.20s)\n",
      "Number of extracted samples: 0\n",
      "Number of accurate extracted samples: 0\n",
      "Precision: nan, recall: 0.0\n",
      "dataset: heart, model: decision tree (repetition 5)\n"
     ]
    },
    {
     "data": {
      "text/plain": "  0%|          | 0/477 [00:00<?, ?it/s]",
      "application/vnd.jupyter.widget-view+json": {
       "version_major": 2,
       "version_minor": 0,
       "model_id": "861a785d82584dc69f97af3c38de149f"
      },
      "application/json": {
       "n": 0,
       "total": 477,
       "elapsed": 0.0,
       "ncols": null,
       "nrows": null,
       "prefix": "",
       "ascii": false,
       "unit": "it",
       "unit_scale": false,
       "rate": null,
       "bar_format": null,
       "postfix": null,
       "unit_divisor": 1000,
       "initial": 0,
       "colour": null
      }
     },
     "metadata": {},
     "output_type": "display_data"
    },
    {
     "name": "stdout",
     "output_type": "stream",
     "text": [
      "Total time: 2.98s (training model: 0.02s, training explainer: 2.76s, experiment: 0.21s)\n",
      "Number of extracted samples: 0\n",
      "Number of accurate extracted samples: 0\n",
      "Precision: nan, recall: 0.0\n",
      "dataset: heart, model: decision tree (repetition 6)\n"
     ]
    },
    {
     "data": {
      "text/plain": "  0%|          | 0/477 [00:00<?, ?it/s]",
      "application/vnd.jupyter.widget-view+json": {
       "version_major": 2,
       "version_minor": 0,
       "model_id": "7d26e6a110cd4d74a2d070575022497f"
      },
      "application/json": {
       "n": 0,
       "total": 477,
       "elapsed": 0.011015892028808594,
       "ncols": null,
       "nrows": null,
       "prefix": "",
       "ascii": false,
       "unit": "it",
       "unit_scale": false,
       "rate": null,
       "bar_format": null,
       "postfix": null,
       "unit_divisor": 1000,
       "initial": 0,
       "colour": null
      }
     },
     "metadata": {},
     "output_type": "display_data"
    },
    {
     "name": "stdout",
     "output_type": "stream",
     "text": [
      "Total time: 2.43s (training model: 0.02s, training explainer: 2.23s, experiment: 0.18s)\n",
      "Number of extracted samples: 0\n",
      "Number of accurate extracted samples: 0\n",
      "Precision: nan, recall: 0.0\n",
      "dataset: heart, model: decision tree (repetition 7)\n"
     ]
    },
    {
     "data": {
      "text/plain": "  0%|          | 0/477 [00:00<?, ?it/s]",
      "application/vnd.jupyter.widget-view+json": {
       "version_major": 2,
       "version_minor": 0,
       "model_id": "c35a396f92004cc0b67362a0c48cead9"
      },
      "application/json": {
       "n": 0,
       "total": 477,
       "elapsed": 0.0,
       "ncols": null,
       "nrows": null,
       "prefix": "",
       "ascii": false,
       "unit": "it",
       "unit_scale": false,
       "rate": null,
       "bar_format": null,
       "postfix": null,
       "unit_divisor": 1000,
       "initial": 0,
       "colour": null
      }
     },
     "metadata": {},
     "output_type": "display_data"
    },
    {
     "name": "stdout",
     "output_type": "stream",
     "text": [
      "Total time: 2.49s (training model: 0.02s, training explainer: 2.26s, experiment: 0.20s)\n",
      "Number of extracted samples: 0\n",
      "Number of accurate extracted samples: 0\n",
      "Precision: nan, recall: 0.0\n",
      "dataset: heart, model: decision tree (repetition 8)\n"
     ]
    },
    {
     "data": {
      "text/plain": "  0%|          | 0/477 [00:00<?, ?it/s]",
      "application/vnd.jupyter.widget-view+json": {
       "version_major": 2,
       "version_minor": 0,
       "model_id": "195129bbf8ab4bb094d9cbfdf9a7bb8d"
      },
      "application/json": {
       "n": 0,
       "total": 477,
       "elapsed": 0.0,
       "ncols": null,
       "nrows": null,
       "prefix": "",
       "ascii": false,
       "unit": "it",
       "unit_scale": false,
       "rate": null,
       "bar_format": null,
       "postfix": null,
       "unit_divisor": 1000,
       "initial": 0,
       "colour": null
      }
     },
     "metadata": {},
     "output_type": "display_data"
    },
    {
     "name": "stdout",
     "output_type": "stream",
     "text": [
      "Total time: 2.41s (training model: 0.02s, training explainer: 2.19s, experiment: 0.21s)\n",
      "Number of extracted samples: 0\n",
      "Number of accurate extracted samples: 0\n",
      "Precision: nan, recall: 0.0\n",
      "dataset: heart, model: decision tree (repetition 9)\n"
     ]
    },
    {
     "data": {
      "text/plain": "  0%|          | 0/477 [00:00<?, ?it/s]",
      "application/vnd.jupyter.widget-view+json": {
       "version_major": 2,
       "version_minor": 0,
       "model_id": "f591e493a6d44f9189c2633e4e11d017"
      },
      "application/json": {
       "n": 0,
       "total": 477,
       "elapsed": 0.0,
       "ncols": null,
       "nrows": null,
       "prefix": "",
       "ascii": false,
       "unit": "it",
       "unit_scale": false,
       "rate": null,
       "bar_format": null,
       "postfix": null,
       "unit_divisor": 1000,
       "initial": 0,
       "colour": null
      }
     },
     "metadata": {},
     "output_type": "display_data"
    },
    {
     "name": "stdout",
     "output_type": "stream",
     "text": [
      "Total time: 2.55s (training model: 0.01s, training explainer: 2.34s, experiment: 0.20s)\n",
      "Number of extracted samples: 0\n",
      "Number of accurate extracted samples: 0\n",
      "Precision: nan, recall: 0.0\n",
      "dataset: heart, model: random forest (repetition 0)\n"
     ]
    },
    {
     "data": {
      "text/plain": "  0%|          | 0/477 [00:00<?, ?it/s]",
      "application/vnd.jupyter.widget-view+json": {
       "version_major": 2,
       "version_minor": 0,
       "model_id": "d497866f7afb40469d829aa97c4b2891"
      },
      "application/json": {
       "n": 0,
       "total": 477,
       "elapsed": 0.0,
       "ncols": null,
       "nrows": null,
       "prefix": "",
       "ascii": false,
       "unit": "it",
       "unit_scale": false,
       "rate": null,
       "bar_format": null,
       "postfix": null,
       "unit_divisor": 1000,
       "initial": 0,
       "colour": null
      }
     },
     "metadata": {},
     "output_type": "display_data"
    },
    {
     "name": "stdout",
     "output_type": "stream",
     "text": [
      "Total time: 3.48s (training model: 0.05s, training explainer: 3.25s, experiment: 0.19s)\n",
      "Number of extracted samples: 0\n",
      "Number of accurate extracted samples: 0\n",
      "Precision: nan, recall: 0.0\n",
      "dataset: heart, model: random forest (repetition 1)\n"
     ]
    },
    {
     "data": {
      "text/plain": "  0%|          | 0/477 [00:00<?, ?it/s]",
      "application/vnd.jupyter.widget-view+json": {
       "version_major": 2,
       "version_minor": 0,
       "model_id": "0fd0c8dc4357456b8fa32e0ef193e20b"
      },
      "application/json": {
       "n": 0,
       "total": 477,
       "elapsed": 0.0,
       "ncols": null,
       "nrows": null,
       "prefix": "",
       "ascii": false,
       "unit": "it",
       "unit_scale": false,
       "rate": null,
       "bar_format": null,
       "postfix": null,
       "unit_divisor": 1000,
       "initial": 0,
       "colour": null
      }
     },
     "metadata": {},
     "output_type": "display_data"
    },
    {
     "name": "stdout",
     "output_type": "stream",
     "text": [
      "Total time: 3.46s (training model: 0.05s, training explainer: 3.21s, experiment: 0.20s)\n",
      "Number of extracted samples: 0\n",
      "Number of accurate extracted samples: 0\n",
      "Precision: nan, recall: 0.0\n",
      "dataset: heart, model: random forest (repetition 2)\n"
     ]
    },
    {
     "data": {
      "text/plain": "  0%|          | 0/477 [00:00<?, ?it/s]",
      "application/vnd.jupyter.widget-view+json": {
       "version_major": 2,
       "version_minor": 0,
       "model_id": "60dcac3eefed4a0cac990939263542db"
      },
      "application/json": {
       "n": 0,
       "total": 477,
       "elapsed": 0.0,
       "ncols": null,
       "nrows": null,
       "prefix": "",
       "ascii": false,
       "unit": "it",
       "unit_scale": false,
       "rate": null,
       "bar_format": null,
       "postfix": null,
       "unit_divisor": 1000,
       "initial": 0,
       "colour": null
      }
     },
     "metadata": {},
     "output_type": "display_data"
    },
    {
     "name": "stdout",
     "output_type": "stream",
     "text": [
      "Total time: 3.45s (training model: 0.04s, training explainer: 3.21s, experiment: 0.19s)\n",
      "Number of extracted samples: 0\n",
      "Number of accurate extracted samples: 0\n",
      "Precision: nan, recall: 0.0\n",
      "dataset: heart, model: random forest (repetition 3)\n"
     ]
    },
    {
     "data": {
      "text/plain": "  0%|          | 0/477 [00:00<?, ?it/s]",
      "application/vnd.jupyter.widget-view+json": {
       "version_major": 2,
       "version_minor": 0,
       "model_id": "916f3722074d4d9283628a5891f37df2"
      },
      "application/json": {
       "n": 0,
       "total": 477,
       "elapsed": 0.00552821159362793,
       "ncols": null,
       "nrows": null,
       "prefix": "",
       "ascii": false,
       "unit": "it",
       "unit_scale": false,
       "rate": null,
       "bar_format": null,
       "postfix": null,
       "unit_divisor": 1000,
       "initial": 0,
       "colour": null
      }
     },
     "metadata": {},
     "output_type": "display_data"
    },
    {
     "name": "stdout",
     "output_type": "stream",
     "text": [
      "Total time: 3.64s (training model: 0.04s, training explainer: 3.41s, experiment: 0.19s)\n",
      "Number of extracted samples: 0\n",
      "Number of accurate extracted samples: 0\n",
      "Precision: nan, recall: 0.0\n",
      "dataset: heart, model: random forest (repetition 4)\n"
     ]
    },
    {
     "data": {
      "text/plain": "  0%|          | 0/477 [00:00<?, ?it/s]",
      "application/vnd.jupyter.widget-view+json": {
       "version_major": 2,
       "version_minor": 0,
       "model_id": "bb83d5ef5c734fdc806bebc7de1c84f2"
      },
      "application/json": {
       "n": 0,
       "total": 477,
       "elapsed": 0.0,
       "ncols": null,
       "nrows": null,
       "prefix": "",
       "ascii": false,
       "unit": "it",
       "unit_scale": false,
       "rate": null,
       "bar_format": null,
       "postfix": null,
       "unit_divisor": 1000,
       "initial": 0,
       "colour": null
      }
     },
     "metadata": {},
     "output_type": "display_data"
    },
    {
     "name": "stdout",
     "output_type": "stream",
     "text": [
      "Total time: 3.49s (training model: 0.05s, training explainer: 3.25s, experiment: 0.19s)\n",
      "Number of extracted samples: 1\n",
      "Number of accurate extracted samples: 1\n",
      "Precision: 1.0, recall: 0.0020964360587002098\n",
      "dataset: heart, model: random forest (repetition 5)\n"
     ]
    },
    {
     "data": {
      "text/plain": "  0%|          | 0/477 [00:00<?, ?it/s]",
      "application/vnd.jupyter.widget-view+json": {
       "version_major": 2,
       "version_minor": 0,
       "model_id": "6bc2d4ae3bcc49dc8d1e2632811034a8"
      },
      "application/json": {
       "n": 0,
       "total": 477,
       "elapsed": 0.0,
       "ncols": null,
       "nrows": null,
       "prefix": "",
       "ascii": false,
       "unit": "it",
       "unit_scale": false,
       "rate": null,
       "bar_format": null,
       "postfix": null,
       "unit_divisor": 1000,
       "initial": 0,
       "colour": null
      }
     },
     "metadata": {},
     "output_type": "display_data"
    },
    {
     "name": "stdout",
     "output_type": "stream",
     "text": [
      "Total time: 3.59s (training model: 0.04s, training explainer: 3.31s, experiment: 0.24s)\n",
      "Number of extracted samples: 0\n",
      "Number of accurate extracted samples: 0\n",
      "Precision: nan, recall: 0.0\n",
      "dataset: heart, model: random forest (repetition 6)\n"
     ]
    },
    {
     "data": {
      "text/plain": "  0%|          | 0/477 [00:00<?, ?it/s]",
      "application/vnd.jupyter.widget-view+json": {
       "version_major": 2,
       "version_minor": 0,
       "model_id": "0d11ae86cd8049d8bd955536a35f5eab"
      },
      "application/json": {
       "n": 0,
       "total": 477,
       "elapsed": 0.015624761581420898,
       "ncols": null,
       "nrows": null,
       "prefix": "",
       "ascii": false,
       "unit": "it",
       "unit_scale": false,
       "rate": null,
       "bar_format": null,
       "postfix": null,
       "unit_divisor": 1000,
       "initial": 0,
       "colour": null
      }
     },
     "metadata": {},
     "output_type": "display_data"
    },
    {
     "name": "stdout",
     "output_type": "stream",
     "text": [
      "Total time: 3.50s (training model: 0.05s, training explainer: 3.25s, experiment: 0.20s)\n",
      "Number of extracted samples: 1\n",
      "Number of accurate extracted samples: 1\n",
      "Precision: 1.0, recall: 0.0020964360587002098\n",
      "dataset: heart, model: random forest (repetition 7)\n"
     ]
    },
    {
     "data": {
      "text/plain": "  0%|          | 0/477 [00:00<?, ?it/s]",
      "application/vnd.jupyter.widget-view+json": {
       "version_major": 2,
       "version_minor": 0,
       "model_id": "ea483bda47ab4870a4a3d5691e3dc6ab"
      },
      "application/json": {
       "n": 0,
       "total": 477,
       "elapsed": 0.0,
       "ncols": null,
       "nrows": null,
       "prefix": "",
       "ascii": false,
       "unit": "it",
       "unit_scale": false,
       "rate": null,
       "bar_format": null,
       "postfix": null,
       "unit_divisor": 1000,
       "initial": 0,
       "colour": null
      }
     },
     "metadata": {},
     "output_type": "display_data"
    },
    {
     "name": "stdout",
     "output_type": "stream",
     "text": [
      "Total time: 3.49s (training model: 0.05s, training explainer: 3.24s, experiment: 0.20s)\n",
      "Number of extracted samples: 0\n",
      "Number of accurate extracted samples: 0\n",
      "Precision: nan, recall: 0.0\n",
      "dataset: heart, model: random forest (repetition 8)\n"
     ]
    },
    {
     "data": {
      "text/plain": "  0%|          | 0/477 [00:00<?, ?it/s]",
      "application/vnd.jupyter.widget-view+json": {
       "version_major": 2,
       "version_minor": 0,
       "model_id": "00539643bd8d4ad8a747ed3be1f60811"
      },
      "application/json": {
       "n": 0,
       "total": 477,
       "elapsed": 0.0,
       "ncols": null,
       "nrows": null,
       "prefix": "",
       "ascii": false,
       "unit": "it",
       "unit_scale": false,
       "rate": null,
       "bar_format": null,
       "postfix": null,
       "unit_divisor": 1000,
       "initial": 0,
       "colour": null
      }
     },
     "metadata": {},
     "output_type": "display_data"
    },
    {
     "name": "stdout",
     "output_type": "stream",
     "text": [
      "Total time: 3.43s (training model: 0.04s, training explainer: 3.21s, experiment: 0.18s)\n",
      "Number of extracted samples: 0\n",
      "Number of accurate extracted samples: 0\n",
      "Precision: nan, recall: 0.0\n",
      "dataset: heart, model: random forest (repetition 9)\n"
     ]
    },
    {
     "data": {
      "text/plain": "  0%|          | 0/477 [00:00<?, ?it/s]",
      "application/vnd.jupyter.widget-view+json": {
       "version_major": 2,
       "version_minor": 0,
       "model_id": "4bad7dc9098b4f37bf0676b0969d3261"
      },
      "application/json": {
       "n": 0,
       "total": 477,
       "elapsed": 0.015627622604370117,
       "ncols": null,
       "nrows": null,
       "prefix": "",
       "ascii": false,
       "unit": "it",
       "unit_scale": false,
       "rate": null,
       "bar_format": null,
       "postfix": null,
       "unit_divisor": 1000,
       "initial": 0,
       "colour": null
      }
     },
     "metadata": {},
     "output_type": "display_data"
    },
    {
     "name": "stdout",
     "output_type": "stream",
     "text": [
      "Total time: 3.49s (training model: 0.05s, training explainer: 3.25s, experiment: 0.20s)\n",
      "Number of extracted samples: 0\n",
      "Number of accurate extracted samples: 0\n",
      "Precision: nan, recall: 0.0\n",
      "dataset: heart, model: neural network (repetition 0)\n"
     ]
    },
    {
     "name": "stderr",
     "output_type": "stream",
     "text": [
      "c:\\users\\ml_ks\\venvs\\xai_new\\lib\\site-packages\\sklearn\\neural_network\\_multilayer_perceptron.py:702: ConvergenceWarning: Stochastic Optimizer: Maximum iterations (200) reached and the optimization hasn't converged yet.\n",
      "  warnings.warn(\n"
     ]
    },
    {
     "data": {
      "text/plain": "  0%|          | 0/477 [00:00<?, ?it/s]",
      "application/vnd.jupyter.widget-view+json": {
       "version_major": 2,
       "version_minor": 0,
       "model_id": "6f9600161e534a0c812242a1099d9a9e"
      },
      "application/json": {
       "n": 0,
       "total": 477,
       "elapsed": 0.015624761581420898,
       "ncols": null,
       "nrows": null,
       "prefix": "",
       "ascii": false,
       "unit": "it",
       "unit_scale": false,
       "rate": null,
       "bar_format": null,
       "postfix": null,
       "unit_divisor": 1000,
       "initial": 0,
       "colour": null
      }
     },
     "metadata": {},
     "output_type": "display_data"
    },
    {
     "name": "stdout",
     "output_type": "stream",
     "text": [
      "Total time: 4.62s (training model: 0.95s, training explainer: 3.25s, experiment: 0.41s)\n",
      "Number of extracted samples: 477\n",
      "Number of accurate extracted samples: 477\n",
      "Precision: 1.0, recall: 1.0\n",
      "dataset: heart, model: neural network (repetition 1)\n"
     ]
    },
    {
     "name": "stderr",
     "output_type": "stream",
     "text": [
      "c:\\users\\ml_ks\\venvs\\xai_new\\lib\\site-packages\\sklearn\\neural_network\\_multilayer_perceptron.py:702: ConvergenceWarning: Stochastic Optimizer: Maximum iterations (200) reached and the optimization hasn't converged yet.\n",
      "  warnings.warn(\n"
     ]
    },
    {
     "data": {
      "text/plain": "  0%|          | 0/477 [00:00<?, ?it/s]",
      "application/vnd.jupyter.widget-view+json": {
       "version_major": 2,
       "version_minor": 0,
       "model_id": "ebbd7854c6d84d19a9b4d6889a66d7f3"
      },
      "application/json": {
       "n": 0,
       "total": 477,
       "elapsed": 0.015625,
       "ncols": null,
       "nrows": null,
       "prefix": "",
       "ascii": false,
       "unit": "it",
       "unit_scale": false,
       "rate": null,
       "bar_format": null,
       "postfix": null,
       "unit_divisor": 1000,
       "initial": 0,
       "colour": null
      }
     },
     "metadata": {},
     "output_type": "display_data"
    },
    {
     "name": "stdout",
     "output_type": "stream",
     "text": [
      "Total time: 4.68s (training model: 0.93s, training explainer: 3.30s, experiment: 0.45s)\n",
      "Number of extracted samples: 477\n",
      "Number of accurate extracted samples: 477\n",
      "Precision: 1.0, recall: 1.0\n",
      "dataset: heart, model: neural network (repetition 2)\n"
     ]
    },
    {
     "name": "stderr",
     "output_type": "stream",
     "text": [
      "c:\\users\\ml_ks\\venvs\\xai_new\\lib\\site-packages\\sklearn\\neural_network\\_multilayer_perceptron.py:702: ConvergenceWarning: Stochastic Optimizer: Maximum iterations (200) reached and the optimization hasn't converged yet.\n",
      "  warnings.warn(\n"
     ]
    },
    {
     "data": {
      "text/plain": "  0%|          | 0/477 [00:00<?, ?it/s]",
      "application/vnd.jupyter.widget-view+json": {
       "version_major": 2,
       "version_minor": 0,
       "model_id": "03185f25b6f34eb4bbf64b167ff3b128"
      },
      "application/json": {
       "n": 0,
       "total": 477,
       "elapsed": 0.0,
       "ncols": null,
       "nrows": null,
       "prefix": "",
       "ascii": false,
       "unit": "it",
       "unit_scale": false,
       "rate": null,
       "bar_format": null,
       "postfix": null,
       "unit_divisor": 1000,
       "initial": 0,
       "colour": null
      }
     },
     "metadata": {},
     "output_type": "display_data"
    },
    {
     "name": "stdout",
     "output_type": "stream",
     "text": [
      "Total time: 4.67s (training model: 0.92s, training explainer: 3.32s, experiment: 0.43s)\n",
      "Number of extracted samples: 477\n",
      "Number of accurate extracted samples: 477\n",
      "Precision: 1.0, recall: 1.0\n",
      "dataset: heart, model: neural network (repetition 3)\n"
     ]
    },
    {
     "name": "stderr",
     "output_type": "stream",
     "text": [
      "c:\\users\\ml_ks\\venvs\\xai_new\\lib\\site-packages\\sklearn\\neural_network\\_multilayer_perceptron.py:702: ConvergenceWarning: Stochastic Optimizer: Maximum iterations (200) reached and the optimization hasn't converged yet.\n",
      "  warnings.warn(\n"
     ]
    },
    {
     "data": {
      "text/plain": "  0%|          | 0/477 [00:00<?, ?it/s]",
      "application/vnd.jupyter.widget-view+json": {
       "version_major": 2,
       "version_minor": 0,
       "model_id": "485206b7e1024dd2938ffcfc4a2726ce"
      },
      "application/json": {
       "n": 0,
       "total": 477,
       "elapsed": 0.0,
       "ncols": null,
       "nrows": null,
       "prefix": "",
       "ascii": false,
       "unit": "it",
       "unit_scale": false,
       "rate": null,
       "bar_format": null,
       "postfix": null,
       "unit_divisor": 1000,
       "initial": 0,
       "colour": null
      }
     },
     "metadata": {},
     "output_type": "display_data"
    },
    {
     "name": "stdout",
     "output_type": "stream",
     "text": [
      "Total time: 4.45s (training model: 0.84s, training explainer: 3.16s, experiment: 0.45s)\n",
      "Number of extracted samples: 477\n",
      "Number of accurate extracted samples: 477\n",
      "Precision: 1.0, recall: 1.0\n",
      "dataset: heart, model: neural network (repetition 4)\n"
     ]
    },
    {
     "name": "stderr",
     "output_type": "stream",
     "text": [
      "c:\\users\\ml_ks\\venvs\\xai_new\\lib\\site-packages\\sklearn\\neural_network\\_multilayer_perceptron.py:702: ConvergenceWarning: Stochastic Optimizer: Maximum iterations (200) reached and the optimization hasn't converged yet.\n",
      "  warnings.warn(\n"
     ]
    },
    {
     "data": {
      "text/plain": "  0%|          | 0/477 [00:00<?, ?it/s]",
      "application/vnd.jupyter.widget-view+json": {
       "version_major": 2,
       "version_minor": 0,
       "model_id": "b17ac29b21b047e1a498a7182ac4e575"
      },
      "application/json": {
       "n": 0,
       "total": 477,
       "elapsed": 0.0156252384185791,
       "ncols": null,
       "nrows": null,
       "prefix": "",
       "ascii": false,
       "unit": "it",
       "unit_scale": false,
       "rate": null,
       "bar_format": null,
       "postfix": null,
       "unit_divisor": 1000,
       "initial": 0,
       "colour": null
      }
     },
     "metadata": {},
     "output_type": "display_data"
    },
    {
     "name": "stdout",
     "output_type": "stream",
     "text": [
      "Total time: 4.63s (training model: 0.91s, training explainer: 3.28s, experiment: 0.44s)\n",
      "Number of extracted samples: 477\n",
      "Number of accurate extracted samples: 477\n",
      "Precision: 1.0, recall: 1.0\n",
      "dataset: heart, model: neural network (repetition 5)\n"
     ]
    },
    {
     "name": "stderr",
     "output_type": "stream",
     "text": [
      "c:\\users\\ml_ks\\venvs\\xai_new\\lib\\site-packages\\sklearn\\neural_network\\_multilayer_perceptron.py:702: ConvergenceWarning: Stochastic Optimizer: Maximum iterations (200) reached and the optimization hasn't converged yet.\n",
      "  warnings.warn(\n"
     ]
    },
    {
     "data": {
      "text/plain": "  0%|          | 0/477 [00:00<?, ?it/s]",
      "application/vnd.jupyter.widget-view+json": {
       "version_major": 2,
       "version_minor": 0,
       "model_id": "5c9cc1073577497e8bd51099b84de5b1"
      },
      "application/json": {
       "n": 0,
       "total": 477,
       "elapsed": 0.0156252384185791,
       "ncols": null,
       "nrows": null,
       "prefix": "",
       "ascii": false,
       "unit": "it",
       "unit_scale": false,
       "rate": null,
       "bar_format": null,
       "postfix": null,
       "unit_divisor": 1000,
       "initial": 0,
       "colour": null
      }
     },
     "metadata": {},
     "output_type": "display_data"
    },
    {
     "name": "stdout",
     "output_type": "stream",
     "text": [
      "Total time: 4.72s (training model: 0.96s, training explainer: 3.28s, experiment: 0.48s)\n",
      "Number of extracted samples: 477\n",
      "Number of accurate extracted samples: 477\n",
      "Precision: 1.0, recall: 1.0\n",
      "dataset: heart, model: neural network (repetition 6)\n"
     ]
    },
    {
     "name": "stderr",
     "output_type": "stream",
     "text": [
      "c:\\users\\ml_ks\\venvs\\xai_new\\lib\\site-packages\\sklearn\\neural_network\\_multilayer_perceptron.py:702: ConvergenceWarning: Stochastic Optimizer: Maximum iterations (200) reached and the optimization hasn't converged yet.\n",
      "  warnings.warn(\n"
     ]
    },
    {
     "data": {
      "text/plain": "  0%|          | 0/477 [00:00<?, ?it/s]",
      "application/vnd.jupyter.widget-view+json": {
       "version_major": 2,
       "version_minor": 0,
       "model_id": "26c836d05d664929a2cf4732d2960bd9"
      },
      "application/json": {
       "n": 0,
       "total": 477,
       "elapsed": 0.0,
       "ncols": null,
       "nrows": null,
       "prefix": "",
       "ascii": false,
       "unit": "it",
       "unit_scale": false,
       "rate": null,
       "bar_format": null,
       "postfix": null,
       "unit_divisor": 1000,
       "initial": 0,
       "colour": null
      }
     },
     "metadata": {},
     "output_type": "display_data"
    },
    {
     "name": "stdout",
     "output_type": "stream",
     "text": [
      "Total time: 4.69s (training model: 0.95s, training explainer: 3.30s, experiment: 0.43s)\n",
      "Number of extracted samples: 477\n",
      "Number of accurate extracted samples: 477\n",
      "Precision: 1.0, recall: 1.0\n",
      "dataset: heart, model: neural network (repetition 7)\n"
     ]
    },
    {
     "name": "stderr",
     "output_type": "stream",
     "text": [
      "c:\\users\\ml_ks\\venvs\\xai_new\\lib\\site-packages\\sklearn\\neural_network\\_multilayer_perceptron.py:702: ConvergenceWarning: Stochastic Optimizer: Maximum iterations (200) reached and the optimization hasn't converged yet.\n",
      "  warnings.warn(\n"
     ]
    },
    {
     "data": {
      "text/plain": "  0%|          | 0/477 [00:00<?, ?it/s]",
      "application/vnd.jupyter.widget-view+json": {
       "version_major": 2,
       "version_minor": 0,
       "model_id": "61226e36d02e4e5d8c1eb59eede86c59"
      },
      "application/json": {
       "n": 0,
       "total": 477,
       "elapsed": 0.0,
       "ncols": null,
       "nrows": null,
       "prefix": "",
       "ascii": false,
       "unit": "it",
       "unit_scale": false,
       "rate": null,
       "bar_format": null,
       "postfix": null,
       "unit_divisor": 1000,
       "initial": 0,
       "colour": null
      }
     },
     "metadata": {},
     "output_type": "display_data"
    },
    {
     "name": "stdout",
     "output_type": "stream",
     "text": [
      "Total time: 4.56s (training model: 0.95s, training explainer: 3.17s, experiment: 0.43s)\n",
      "Number of extracted samples: 477\n",
      "Number of accurate extracted samples: 477\n",
      "Precision: 1.0, recall: 1.0\n",
      "dataset: heart, model: neural network (repetition 8)\n"
     ]
    },
    {
     "name": "stderr",
     "output_type": "stream",
     "text": [
      "c:\\users\\ml_ks\\venvs\\xai_new\\lib\\site-packages\\sklearn\\neural_network\\_multilayer_perceptron.py:702: ConvergenceWarning: Stochastic Optimizer: Maximum iterations (200) reached and the optimization hasn't converged yet.\n",
      "  warnings.warn(\n"
     ]
    },
    {
     "data": {
      "text/plain": "  0%|          | 0/477 [00:00<?, ?it/s]",
      "application/vnd.jupyter.widget-view+json": {
       "version_major": 2,
       "version_minor": 0,
       "model_id": "aa4bd10147814081b0e175f7efed747e"
      },
      "application/json": {
       "n": 0,
       "total": 477,
       "elapsed": 0.015625,
       "ncols": null,
       "nrows": null,
       "prefix": "",
       "ascii": false,
       "unit": "it",
       "unit_scale": false,
       "rate": null,
       "bar_format": null,
       "postfix": null,
       "unit_divisor": 1000,
       "initial": 0,
       "colour": null
      }
     },
     "metadata": {},
     "output_type": "display_data"
    },
    {
     "name": "stdout",
     "output_type": "stream",
     "text": [
      "Total time: 4.69s (training model: 0.95s, training explainer: 3.30s, experiment: 0.44s)\n",
      "Number of extracted samples: 477\n",
      "Number of accurate extracted samples: 477\n",
      "Precision: 1.0, recall: 1.0\n",
      "dataset: heart, model: neural network (repetition 9)\n"
     ]
    },
    {
     "name": "stderr",
     "output_type": "stream",
     "text": [
      "c:\\users\\ml_ks\\venvs\\xai_new\\lib\\site-packages\\sklearn\\neural_network\\_multilayer_perceptron.py:702: ConvergenceWarning: Stochastic Optimizer: Maximum iterations (200) reached and the optimization hasn't converged yet.\n",
      "  warnings.warn(\n"
     ]
    },
    {
     "data": {
      "text/plain": "  0%|          | 0/477 [00:00<?, ?it/s]",
      "application/vnd.jupyter.widget-view+json": {
       "version_major": 2,
       "version_minor": 0,
       "model_id": "8e028813a46a4fcfaa07a0813b8adeaf"
      },
      "application/json": {
       "n": 0,
       "total": 477,
       "elapsed": 0.015625,
       "ncols": null,
       "nrows": null,
       "prefix": "",
       "ascii": false,
       "unit": "it",
       "unit_scale": false,
       "rate": null,
       "bar_format": null,
       "postfix": null,
       "unit_divisor": 1000,
       "initial": 0,
       "colour": null
      }
     },
     "metadata": {},
     "output_type": "display_data"
    },
    {
     "name": "stdout",
     "output_type": "stream",
     "text": [
      "Total time: 4.99s (training model: 1.17s, training explainer: 3.36s, experiment: 0.46s)\n",
      "Number of extracted samples: 477\n",
      "Number of accurate extracted samples: 477\n",
      "Precision: 1.0, recall: 1.0\n",
      "dataset: heart numeric, model: decision tree (repetition 0)\n"
     ]
    },
    {
     "data": {
      "text/plain": "  0%|          | 0/476 [00:00<?, ?it/s]",
      "application/vnd.jupyter.widget-view+json": {
       "version_major": 2,
       "version_minor": 0,
       "model_id": "7ac20f5c51d94244b19471d0a507714e"
      },
      "application/json": {
       "n": 0,
       "total": 476,
       "elapsed": 0.0,
       "ncols": null,
       "nrows": null,
       "prefix": "",
       "ascii": false,
       "unit": "it",
       "unit_scale": false,
       "rate": null,
       "bar_format": null,
       "postfix": null,
       "unit_divisor": 1000,
       "initial": 0,
       "colour": null
      }
     },
     "metadata": {},
     "output_type": "display_data"
    },
    {
     "name": "stdout",
     "output_type": "stream",
     "text": [
      "Total time: 1.03s (training model: 0.00s, training explainer: 0.92s, experiment: 0.11s)\n",
      "Number of extracted samples: 0\n",
      "Number of accurate extracted samples: 0\n",
      "Precision: nan, recall: 0.0\n",
      "dataset: heart numeric, model: decision tree (repetition 1)\n"
     ]
    },
    {
     "data": {
      "text/plain": "  0%|          | 0/476 [00:00<?, ?it/s]",
      "application/vnd.jupyter.widget-view+json": {
       "version_major": 2,
       "version_minor": 0,
       "model_id": "dca18526d1f847b182d300717d356d81"
      },
      "application/json": {
       "n": 0,
       "total": 476,
       "elapsed": 0.0,
       "ncols": null,
       "nrows": null,
       "prefix": "",
       "ascii": false,
       "unit": "it",
       "unit_scale": false,
       "rate": null,
       "bar_format": null,
       "postfix": null,
       "unit_divisor": 1000,
       "initial": 0,
       "colour": null
      }
     },
     "metadata": {},
     "output_type": "display_data"
    },
    {
     "name": "stdout",
     "output_type": "stream",
     "text": [
      "Total time: 1.03s (training model: 0.01s, training explainer: 0.92s, experiment: 0.10s)\n",
      "Number of extracted samples: 0\n",
      "Number of accurate extracted samples: 0\n",
      "Precision: nan, recall: 0.0\n",
      "dataset: heart numeric, model: decision tree (repetition 2)\n"
     ]
    },
    {
     "data": {
      "text/plain": "  0%|          | 0/476 [00:00<?, ?it/s]",
      "application/vnd.jupyter.widget-view+json": {
       "version_major": 2,
       "version_minor": 0,
       "model_id": "77f232af2baa490c808940e143a4a45f"
      },
      "application/json": {
       "n": 0,
       "total": 476,
       "elapsed": 0.0,
       "ncols": null,
       "nrows": null,
       "prefix": "",
       "ascii": false,
       "unit": "it",
       "unit_scale": false,
       "rate": null,
       "bar_format": null,
       "postfix": null,
       "unit_divisor": 1000,
       "initial": 0,
       "colour": null
      }
     },
     "metadata": {},
     "output_type": "display_data"
    },
    {
     "name": "stdout",
     "output_type": "stream",
     "text": [
      "Total time: 1.05s (training model: 0.01s, training explainer: 0.92s, experiment: 0.12s)\n",
      "Number of extracted samples: 0\n",
      "Number of accurate extracted samples: 0\n",
      "Precision: nan, recall: 0.0\n",
      "dataset: heart numeric, model: decision tree (repetition 3)\n"
     ]
    },
    {
     "data": {
      "text/plain": "  0%|          | 0/476 [00:00<?, ?it/s]",
      "application/vnd.jupyter.widget-view+json": {
       "version_major": 2,
       "version_minor": 0,
       "model_id": "bb32f13f4fa544619bcce7f1f3d4608c"
      },
      "application/json": {
       "n": 0,
       "total": 476,
       "elapsed": 0.0156252384185791,
       "ncols": null,
       "nrows": null,
       "prefix": "",
       "ascii": false,
       "unit": "it",
       "unit_scale": false,
       "rate": null,
       "bar_format": null,
       "postfix": null,
       "unit_divisor": 1000,
       "initial": 0,
       "colour": null
      }
     },
     "metadata": {},
     "output_type": "display_data"
    },
    {
     "name": "stdout",
     "output_type": "stream",
     "text": [
      "Total time: 1.09s (training model: 0.01s, training explainer: 0.95s, experiment: 0.13s)\n",
      "Number of extracted samples: 0\n",
      "Number of accurate extracted samples: 0\n",
      "Precision: nan, recall: 0.0\n",
      "dataset: heart numeric, model: decision tree (repetition 4)\n"
     ]
    },
    {
     "data": {
      "text/plain": "  0%|          | 0/476 [00:00<?, ?it/s]",
      "application/vnd.jupyter.widget-view+json": {
       "version_major": 2,
       "version_minor": 0,
       "model_id": "ef2f461558c746cba0eb6a520921e159"
      },
      "application/json": {
       "n": 0,
       "total": 476,
       "elapsed": 0.0156707763671875,
       "ncols": null,
       "nrows": null,
       "prefix": "",
       "ascii": false,
       "unit": "it",
       "unit_scale": false,
       "rate": null,
       "bar_format": null,
       "postfix": null,
       "unit_divisor": 1000,
       "initial": 0,
       "colour": null
      }
     },
     "metadata": {},
     "output_type": "display_data"
    },
    {
     "name": "stdout",
     "output_type": "stream",
     "text": [
      "Total time: 1.06s (training model: 0.00s, training explainer: 0.94s, experiment: 0.12s)\n",
      "Number of extracted samples: 0\n",
      "Number of accurate extracted samples: 0\n",
      "Precision: nan, recall: 0.0\n",
      "dataset: heart numeric, model: decision tree (repetition 5)\n"
     ]
    },
    {
     "data": {
      "text/plain": "  0%|          | 0/476 [00:00<?, ?it/s]",
      "application/vnd.jupyter.widget-view+json": {
       "version_major": 2,
       "version_minor": 0,
       "model_id": "24bcb74560724d8d93c426f44dfd9a67"
      },
      "application/json": {
       "n": 0,
       "total": 476,
       "elapsed": 0.0,
       "ncols": null,
       "nrows": null,
       "prefix": "",
       "ascii": false,
       "unit": "it",
       "unit_scale": false,
       "rate": null,
       "bar_format": null,
       "postfix": null,
       "unit_divisor": 1000,
       "initial": 0,
       "colour": null
      }
     },
     "metadata": {},
     "output_type": "display_data"
    },
    {
     "name": "stdout",
     "output_type": "stream",
     "text": [
      "Total time: 1.09s (training model: 0.01s, training explainer: 0.96s, experiment: 0.12s)\n",
      "Number of extracted samples: 0\n",
      "Number of accurate extracted samples: 0\n",
      "Precision: nan, recall: 0.0\n",
      "dataset: heart numeric, model: decision tree (repetition 6)\n"
     ]
    },
    {
     "data": {
      "text/plain": "  0%|          | 0/476 [00:00<?, ?it/s]",
      "application/vnd.jupyter.widget-view+json": {
       "version_major": 2,
       "version_minor": 0,
       "model_id": "b386dd4e18b04e52a6cde852e75f7e5c"
      },
      "application/json": {
       "n": 0,
       "total": 476,
       "elapsed": 0.0,
       "ncols": null,
       "nrows": null,
       "prefix": "",
       "ascii": false,
       "unit": "it",
       "unit_scale": false,
       "rate": null,
       "bar_format": null,
       "postfix": null,
       "unit_divisor": 1000,
       "initial": 0,
       "colour": null
      }
     },
     "metadata": {},
     "output_type": "display_data"
    },
    {
     "name": "stdout",
     "output_type": "stream",
     "text": [
      "Total time: 1.07s (training model: 0.00s, training explainer: 0.96s, experiment: 0.12s)\n",
      "Number of extracted samples: 0\n",
      "Number of accurate extracted samples: 0\n",
      "Precision: nan, recall: 0.0\n",
      "dataset: heart numeric, model: decision tree (repetition 7)\n"
     ]
    },
    {
     "data": {
      "text/plain": "  0%|          | 0/476 [00:00<?, ?it/s]",
      "application/vnd.jupyter.widget-view+json": {
       "version_major": 2,
       "version_minor": 0,
       "model_id": "3dc54506986b477bb71486ef5f1a36b3"
      },
      "application/json": {
       "n": 0,
       "total": 476,
       "elapsed": 0.0,
       "ncols": null,
       "nrows": null,
       "prefix": "",
       "ascii": false,
       "unit": "it",
       "unit_scale": false,
       "rate": null,
       "bar_format": null,
       "postfix": null,
       "unit_divisor": 1000,
       "initial": 0,
       "colour": null
      }
     },
     "metadata": {},
     "output_type": "display_data"
    },
    {
     "name": "stdout",
     "output_type": "stream",
     "text": [
      "Total time: 1.07s (training model: 0.01s, training explainer: 0.94s, experiment: 0.12s)\n",
      "Number of extracted samples: 0\n",
      "Number of accurate extracted samples: 0\n",
      "Precision: nan, recall: 0.0\n",
      "dataset: heart numeric, model: decision tree (repetition 8)\n"
     ]
    },
    {
     "data": {
      "text/plain": "  0%|          | 0/476 [00:00<?, ?it/s]",
      "application/vnd.jupyter.widget-view+json": {
       "version_major": 2,
       "version_minor": 0,
       "model_id": "05a40553dede4899b84b3044bdc6b535"
      },
      "application/json": {
       "n": 0,
       "total": 476,
       "elapsed": 0.015625,
       "ncols": null,
       "nrows": null,
       "prefix": "",
       "ascii": false,
       "unit": "it",
       "unit_scale": false,
       "rate": null,
       "bar_format": null,
       "postfix": null,
       "unit_divisor": 1000,
       "initial": 0,
       "colour": null
      }
     },
     "metadata": {},
     "output_type": "display_data"
    },
    {
     "name": "stdout",
     "output_type": "stream",
     "text": [
      "Total time: 1.09s (training model: 0.00s, training explainer: 0.97s, experiment: 0.12s)\n",
      "Number of extracted samples: 0\n",
      "Number of accurate extracted samples: 0\n",
      "Precision: nan, recall: 0.0\n",
      "dataset: heart numeric, model: decision tree (repetition 9)\n"
     ]
    },
    {
     "data": {
      "text/plain": "  0%|          | 0/476 [00:00<?, ?it/s]",
      "application/vnd.jupyter.widget-view+json": {
       "version_major": 2,
       "version_minor": 0,
       "model_id": "6c5c6b1a831643f7a518cef70ae3f06c"
      },
      "application/json": {
       "n": 0,
       "total": 476,
       "elapsed": 0.0,
       "ncols": null,
       "nrows": null,
       "prefix": "",
       "ascii": false,
       "unit": "it",
       "unit_scale": false,
       "rate": null,
       "bar_format": null,
       "postfix": null,
       "unit_divisor": 1000,
       "initial": 0,
       "colour": null
      }
     },
     "metadata": {},
     "output_type": "display_data"
    },
    {
     "name": "stdout",
     "output_type": "stream",
     "text": [
      "Total time: 1.06s (training model: 0.01s, training explainer: 0.95s, experiment: 0.10s)\n",
      "Number of extracted samples: 0\n",
      "Number of accurate extracted samples: 0\n",
      "Precision: nan, recall: 0.0\n",
      "dataset: heart numeric, model: random forest (repetition 0)\n"
     ]
    },
    {
     "data": {
      "text/plain": "  0%|          | 0/476 [00:00<?, ?it/s]",
      "application/vnd.jupyter.widget-view+json": {
       "version_major": 2,
       "version_minor": 0,
       "model_id": "d31652cd60734561a6c26e9bcbeb8cea"
      },
      "application/json": {
       "n": 0,
       "total": 476,
       "elapsed": 0.0,
       "ncols": null,
       "nrows": null,
       "prefix": "",
       "ascii": false,
       "unit": "it",
       "unit_scale": false,
       "rate": null,
       "bar_format": null,
       "postfix": null,
       "unit_divisor": 1000,
       "initial": 0,
       "colour": null
      }
     },
     "metadata": {},
     "output_type": "display_data"
    },
    {
     "name": "stdout",
     "output_type": "stream",
     "text": [
      "Total time: 2.13s (training model: 0.05s, training explainer: 1.94s, experiment: 0.14s)\n",
      "Number of extracted samples: 3\n",
      "Number of accurate extracted samples: 3\n",
      "Precision: 1.0, recall: 0.0063025210084033615\n",
      "dataset: heart numeric, model: random forest (repetition 1)\n"
     ]
    },
    {
     "data": {
      "text/plain": "  0%|          | 0/476 [00:00<?, ?it/s]",
      "application/vnd.jupyter.widget-view+json": {
       "version_major": 2,
       "version_minor": 0,
       "model_id": "74e0773d2d354d9d94c64632faf5874b"
      },
      "application/json": {
       "n": 0,
       "total": 476,
       "elapsed": 0.009637117385864258,
       "ncols": null,
       "nrows": null,
       "prefix": "",
       "ascii": false,
       "unit": "it",
       "unit_scale": false,
       "rate": null,
       "bar_format": null,
       "postfix": null,
       "unit_divisor": 1000,
       "initial": 0,
       "colour": null
      }
     },
     "metadata": {},
     "output_type": "display_data"
    },
    {
     "name": "stdout",
     "output_type": "stream",
     "text": [
      "Total time: 2.11s (training model: 0.03s, training explainer: 1.95s, experiment: 0.13s)\n",
      "Number of extracted samples: 3\n",
      "Number of accurate extracted samples: 3\n",
      "Precision: 1.0, recall: 0.0063025210084033615\n",
      "dataset: heart numeric, model: random forest (repetition 2)\n"
     ]
    },
    {
     "data": {
      "text/plain": "  0%|          | 0/476 [00:00<?, ?it/s]",
      "application/vnd.jupyter.widget-view+json": {
       "version_major": 2,
       "version_minor": 0,
       "model_id": "063cffd7c2c545a1963479db26c092c0"
      },
      "application/json": {
       "n": 0,
       "total": 476,
       "elapsed": 0.021141767501831055,
       "ncols": null,
       "nrows": null,
       "prefix": "",
       "ascii": false,
       "unit": "it",
       "unit_scale": false,
       "rate": null,
       "bar_format": null,
       "postfix": null,
       "unit_divisor": 1000,
       "initial": 0,
       "colour": null
      }
     },
     "metadata": {},
     "output_type": "display_data"
    },
    {
     "name": "stdout",
     "output_type": "stream",
     "text": [
      "Total time: 2.11s (training model: 0.03s, training explainer: 1.92s, experiment: 0.16s)\n",
      "Number of extracted samples: 4\n",
      "Number of accurate extracted samples: 4\n",
      "Precision: 1.0, recall: 0.008403361344537815\n",
      "dataset: heart numeric, model: random forest (repetition 3)\n"
     ]
    },
    {
     "data": {
      "text/plain": "  0%|          | 0/476 [00:00<?, ?it/s]",
      "application/vnd.jupyter.widget-view+json": {
       "version_major": 2,
       "version_minor": 0,
       "model_id": "907fb6c60a9f4fbea35a9969c6a65a4b"
      },
      "application/json": {
       "n": 0,
       "total": 476,
       "elapsed": 0.01303720474243164,
       "ncols": null,
       "nrows": null,
       "prefix": "",
       "ascii": false,
       "unit": "it",
       "unit_scale": false,
       "rate": null,
       "bar_format": null,
       "postfix": null,
       "unit_divisor": 1000,
       "initial": 0,
       "colour": null
      }
     },
     "metadata": {},
     "output_type": "display_data"
    },
    {
     "name": "stdout",
     "output_type": "stream",
     "text": [
      "Total time: 2.18s (training model: 0.03s, training explainer: 1.99s, experiment: 0.15s)\n",
      "Number of extracted samples: 6\n",
      "Number of accurate extracted samples: 6\n",
      "Precision: 1.0, recall: 0.012605042016806723\n",
      "dataset: heart numeric, model: random forest (repetition 4)\n"
     ]
    },
    {
     "data": {
      "text/plain": "  0%|          | 0/476 [00:00<?, ?it/s]",
      "application/vnd.jupyter.widget-view+json": {
       "version_major": 2,
       "version_minor": 0,
       "model_id": "3d76a1ade11c446bad54309bb6d7e1c3"
      },
      "application/json": {
       "n": 0,
       "total": 476,
       "elapsed": 0.0,
       "ncols": null,
       "nrows": null,
       "prefix": "",
       "ascii": false,
       "unit": "it",
       "unit_scale": false,
       "rate": null,
       "bar_format": null,
       "postfix": null,
       "unit_divisor": 1000,
       "initial": 0,
       "colour": null
      }
     },
     "metadata": {},
     "output_type": "display_data"
    },
    {
     "name": "stdout",
     "output_type": "stream",
     "text": [
      "Total time: 2.09s (training model: 0.05s, training explainer: 1.91s, experiment: 0.13s)\n",
      "Number of extracted samples: 5\n",
      "Number of accurate extracted samples: 5\n",
      "Precision: 1.0, recall: 0.01050420168067227\n",
      "dataset: heart numeric, model: random forest (repetition 5)\n"
     ]
    },
    {
     "data": {
      "text/plain": "  0%|          | 0/476 [00:00<?, ?it/s]",
      "application/vnd.jupyter.widget-view+json": {
       "version_major": 2,
       "version_minor": 0,
       "model_id": "0ac84e7f97344091a84ee55c3b861249"
      },
      "application/json": {
       "n": 0,
       "total": 476,
       "elapsed": 0.009603500366210938,
       "ncols": null,
       "nrows": null,
       "prefix": "",
       "ascii": false,
       "unit": "it",
       "unit_scale": false,
       "rate": null,
       "bar_format": null,
       "postfix": null,
       "unit_divisor": 1000,
       "initial": 0,
       "colour": null
      }
     },
     "metadata": {},
     "output_type": "display_data"
    },
    {
     "name": "stdout",
     "output_type": "stream",
     "text": [
      "Total time: 2.20s (training model: 0.03s, training explainer: 2.00s, experiment: 0.17s)\n",
      "Number of extracted samples: 6\n",
      "Number of accurate extracted samples: 6\n",
      "Precision: 1.0, recall: 0.012605042016806723\n",
      "dataset: heart numeric, model: random forest (repetition 6)\n"
     ]
    },
    {
     "data": {
      "text/plain": "  0%|          | 0/476 [00:00<?, ?it/s]",
      "application/vnd.jupyter.widget-view+json": {
       "version_major": 2,
       "version_minor": 0,
       "model_id": "c279f6787aff414ab3376fa063ded7d2"
      },
      "application/json": {
       "n": 0,
       "total": 476,
       "elapsed": 0.008476495742797852,
       "ncols": null,
       "nrows": null,
       "prefix": "",
       "ascii": false,
       "unit": "it",
       "unit_scale": false,
       "rate": null,
       "bar_format": null,
       "postfix": null,
       "unit_divisor": 1000,
       "initial": 0,
       "colour": null
      }
     },
     "metadata": {},
     "output_type": "display_data"
    },
    {
     "name": "stdout",
     "output_type": "stream",
     "text": [
      "Total time: 2.12s (training model: 0.03s, training explainer: 1.93s, experiment: 0.15s)\n",
      "Number of extracted samples: 6\n",
      "Number of accurate extracted samples: 6\n",
      "Precision: 1.0, recall: 0.012605042016806723\n",
      "dataset: heart numeric, model: random forest (repetition 7)\n"
     ]
    },
    {
     "data": {
      "text/plain": "  0%|          | 0/476 [00:00<?, ?it/s]",
      "application/vnd.jupyter.widget-view+json": {
       "version_major": 2,
       "version_minor": 0,
       "model_id": "9ad8750f373549e894c1f7566501668a"
      },
      "application/json": {
       "n": 0,
       "total": 476,
       "elapsed": 0.018004417419433594,
       "ncols": null,
       "nrows": null,
       "prefix": "",
       "ascii": false,
       "unit": "it",
       "unit_scale": false,
       "rate": null,
       "bar_format": null,
       "postfix": null,
       "unit_divisor": 1000,
       "initial": 0,
       "colour": null
      }
     },
     "metadata": {},
     "output_type": "display_data"
    },
    {
     "name": "stdout",
     "output_type": "stream",
     "text": [
      "Total time: 2.11s (training model: 0.04s, training explainer: 1.92s, experiment: 0.15s)\n",
      "Number of extracted samples: 4\n",
      "Number of accurate extracted samples: 4\n",
      "Precision: 1.0, recall: 0.008403361344537815\n",
      "dataset: heart numeric, model: random forest (repetition 8)\n"
     ]
    },
    {
     "data": {
      "text/plain": "  0%|          | 0/476 [00:00<?, ?it/s]",
      "application/vnd.jupyter.widget-view+json": {
       "version_major": 2,
       "version_minor": 0,
       "model_id": "3b5c9d18c7a541f1a08f4f05c817ffc9"
      },
      "application/json": {
       "n": 0,
       "total": 476,
       "elapsed": 0.010042667388916016,
       "ncols": null,
       "nrows": null,
       "prefix": "",
       "ascii": false,
       "unit": "it",
       "unit_scale": false,
       "rate": null,
       "bar_format": null,
       "postfix": null,
       "unit_divisor": 1000,
       "initial": 0,
       "colour": null
      }
     },
     "metadata": {},
     "output_type": "display_data"
    },
    {
     "name": "stdout",
     "output_type": "stream",
     "text": [
      "Total time: 2.09s (training model: 0.04s, training explainer: 1.91s, experiment: 0.14s)\n",
      "Number of extracted samples: 3\n",
      "Number of accurate extracted samples: 3\n",
      "Precision: 1.0, recall: 0.0063025210084033615\n",
      "dataset: heart numeric, model: random forest (repetition 9)\n"
     ]
    },
    {
     "data": {
      "text/plain": "  0%|          | 0/476 [00:00<?, ?it/s]",
      "application/vnd.jupyter.widget-view+json": {
       "version_major": 2,
       "version_minor": 0,
       "model_id": "9fa74d4469a74824af1c82daff406b7d"
      },
      "application/json": {
       "n": 0,
       "total": 476,
       "elapsed": 0.016017436981201172,
       "ncols": null,
       "nrows": null,
       "prefix": "",
       "ascii": false,
       "unit": "it",
       "unit_scale": false,
       "rate": null,
       "bar_format": null,
       "postfix": null,
       "unit_divisor": 1000,
       "initial": 0,
       "colour": null
      }
     },
     "metadata": {},
     "output_type": "display_data"
    },
    {
     "name": "stdout",
     "output_type": "stream",
     "text": [
      "Total time: 2.18s (training model: 0.04s, training explainer: 2.00s, experiment: 0.15s)\n",
      "Number of extracted samples: 9\n",
      "Number of accurate extracted samples: 9\n",
      "Precision: 1.0, recall: 0.018907563025210083\n",
      "dataset: heart numeric, model: neural network (repetition 0)\n"
     ]
    },
    {
     "name": "stderr",
     "output_type": "stream",
     "text": [
      "c:\\users\\ml_ks\\venvs\\xai_new\\lib\\site-packages\\sklearn\\neural_network\\_multilayer_perceptron.py:702: ConvergenceWarning: Stochastic Optimizer: Maximum iterations (200) reached and the optimization hasn't converged yet.\n",
      "  warnings.warn(\n"
     ]
    },
    {
     "data": {
      "text/plain": "  0%|          | 0/476 [00:00<?, ?it/s]",
      "application/vnd.jupyter.widget-view+json": {
       "version_major": 2,
       "version_minor": 0,
       "model_id": "55994d88af9141bfb801657eceda25bf"
      },
      "application/json": {
       "n": 0,
       "total": 476,
       "elapsed": 0.005641460418701172,
       "ncols": null,
       "nrows": null,
       "prefix": "",
       "ascii": false,
       "unit": "it",
       "unit_scale": false,
       "rate": null,
       "bar_format": null,
       "postfix": null,
       "unit_divisor": 1000,
       "initial": 0,
       "colour": null
      }
     },
     "metadata": {},
     "output_type": "display_data"
    },
    {
     "name": "stdout",
     "output_type": "stream",
     "text": [
      "Total time: 2.51s (training model: 0.68s, training explainer: 1.56s, experiment: 0.28s)\n",
      "Number of extracted samples: 476\n",
      "Number of accurate extracted samples: 476\n",
      "Precision: 1.0, recall: 1.0\n",
      "dataset: heart numeric, model: neural network (repetition 1)\n"
     ]
    },
    {
     "name": "stderr",
     "output_type": "stream",
     "text": [
      "c:\\users\\ml_ks\\venvs\\xai_new\\lib\\site-packages\\sklearn\\neural_network\\_multilayer_perceptron.py:702: ConvergenceWarning: Stochastic Optimizer: Maximum iterations (200) reached and the optimization hasn't converged yet.\n",
      "  warnings.warn(\n"
     ]
    },
    {
     "data": {
      "text/plain": "  0%|          | 0/476 [00:00<?, ?it/s]",
      "application/vnd.jupyter.widget-view+json": {
       "version_major": 2,
       "version_minor": 0,
       "model_id": "76d5ea8b3eec494ba56c8a34d5d9a3bf"
      },
      "application/json": {
       "n": 0,
       "total": 476,
       "elapsed": 0.015625,
       "ncols": null,
       "nrows": null,
       "prefix": "",
       "ascii": false,
       "unit": "it",
       "unit_scale": false,
       "rate": null,
       "bar_format": null,
       "postfix": null,
       "unit_divisor": 1000,
       "initial": 0,
       "colour": null
      }
     },
     "metadata": {},
     "output_type": "display_data"
    },
    {
     "name": "stdout",
     "output_type": "stream",
     "text": [
      "Total time: 2.56s (training model: 0.67s, training explainer: 1.61s, experiment: 0.28s)\n",
      "Number of extracted samples: 476\n",
      "Number of accurate extracted samples: 476\n",
      "Precision: 1.0, recall: 1.0\n",
      "dataset: heart numeric, model: neural network (repetition 2)\n"
     ]
    },
    {
     "name": "stderr",
     "output_type": "stream",
     "text": [
      "c:\\users\\ml_ks\\venvs\\xai_new\\lib\\site-packages\\sklearn\\neural_network\\_multilayer_perceptron.py:702: ConvergenceWarning: Stochastic Optimizer: Maximum iterations (200) reached and the optimization hasn't converged yet.\n",
      "  warnings.warn(\n"
     ]
    },
    {
     "data": {
      "text/plain": "  0%|          | 0/476 [00:00<?, ?it/s]",
      "application/vnd.jupyter.widget-view+json": {
       "version_major": 2,
       "version_minor": 0,
       "model_id": "45b5ee7fab3a4054915d62204f276a13"
      },
      "application/json": {
       "n": 0,
       "total": 476,
       "elapsed": 0.015870332717895508,
       "ncols": null,
       "nrows": null,
       "prefix": "",
       "ascii": false,
       "unit": "it",
       "unit_scale": false,
       "rate": null,
       "bar_format": null,
       "postfix": null,
       "unit_divisor": 1000,
       "initial": 0,
       "colour": null
      }
     },
     "metadata": {},
     "output_type": "display_data"
    },
    {
     "name": "stdout",
     "output_type": "stream",
     "text": [
      "Total time: 2.53s (training model: 0.67s, training explainer: 1.58s, experiment: 0.28s)\n",
      "Number of extracted samples: 476\n",
      "Number of accurate extracted samples: 476\n",
      "Precision: 1.0, recall: 1.0\n",
      "dataset: heart numeric, model: neural network (repetition 3)\n"
     ]
    },
    {
     "name": "stderr",
     "output_type": "stream",
     "text": [
      "c:\\users\\ml_ks\\venvs\\xai_new\\lib\\site-packages\\sklearn\\neural_network\\_multilayer_perceptron.py:702: ConvergenceWarning: Stochastic Optimizer: Maximum iterations (200) reached and the optimization hasn't converged yet.\n",
      "  warnings.warn(\n"
     ]
    },
    {
     "data": {
      "text/plain": "  0%|          | 0/476 [00:00<?, ?it/s]",
      "application/vnd.jupyter.widget-view+json": {
       "version_major": 2,
       "version_minor": 0,
       "model_id": "b71a47e02b5e4b61a642e3bc66295d9e"
      },
      "application/json": {
       "n": 0,
       "total": 476,
       "elapsed": 0.0070421695709228516,
       "ncols": null,
       "nrows": null,
       "prefix": "",
       "ascii": false,
       "unit": "it",
       "unit_scale": false,
       "rate": null,
       "bar_format": null,
       "postfix": null,
       "unit_divisor": 1000,
       "initial": 0,
       "colour": null
      }
     },
     "metadata": {},
     "output_type": "display_data"
    },
    {
     "name": "stdout",
     "output_type": "stream",
     "text": [
      "Total time: 2.59s (training model: 0.72s, training explainer: 1.59s, experiment: 0.28s)\n",
      "Number of extracted samples: 476\n",
      "Number of accurate extracted samples: 476\n",
      "Precision: 1.0, recall: 1.0\n",
      "dataset: heart numeric, model: neural network (repetition 4)\n"
     ]
    },
    {
     "name": "stderr",
     "output_type": "stream",
     "text": [
      "c:\\users\\ml_ks\\venvs\\xai_new\\lib\\site-packages\\sklearn\\neural_network\\_multilayer_perceptron.py:702: ConvergenceWarning: Stochastic Optimizer: Maximum iterations (200) reached and the optimization hasn't converged yet.\n",
      "  warnings.warn(\n"
     ]
    },
    {
     "data": {
      "text/plain": "  0%|          | 0/476 [00:00<?, ?it/s]",
      "application/vnd.jupyter.widget-view+json": {
       "version_major": 2,
       "version_minor": 0,
       "model_id": "d3d7447ab5684ababf9fe6722726f474"
      },
      "application/json": {
       "n": 0,
       "total": 476,
       "elapsed": 0.015841007232666016,
       "ncols": null,
       "nrows": null,
       "prefix": "",
       "ascii": false,
       "unit": "it",
       "unit_scale": false,
       "rate": null,
       "bar_format": null,
       "postfix": null,
       "unit_divisor": 1000,
       "initial": 0,
       "colour": null
      }
     },
     "metadata": {},
     "output_type": "display_data"
    },
    {
     "name": "stdout",
     "output_type": "stream",
     "text": [
      "Total time: 2.49s (training model: 0.65s, training explainer: 1.55s, experiment: 0.30s)\n",
      "Number of extracted samples: 476\n",
      "Number of accurate extracted samples: 476\n",
      "Precision: 1.0, recall: 1.0\n",
      "dataset: heart numeric, model: neural network (repetition 5)\n"
     ]
    },
    {
     "name": "stderr",
     "output_type": "stream",
     "text": [
      "c:\\users\\ml_ks\\venvs\\xai_new\\lib\\site-packages\\sklearn\\neural_network\\_multilayer_perceptron.py:702: ConvergenceWarning: Stochastic Optimizer: Maximum iterations (200) reached and the optimization hasn't converged yet.\n",
      "  warnings.warn(\n"
     ]
    },
    {
     "data": {
      "text/plain": "  0%|          | 0/476 [00:00<?, ?it/s]",
      "application/vnd.jupyter.widget-view+json": {
       "version_major": 2,
       "version_minor": 0,
       "model_id": "3f9a0b4c2cc84bf1b03c8740950708ba"
      },
      "application/json": {
       "n": 0,
       "total": 476,
       "elapsed": 0.0156252384185791,
       "ncols": null,
       "nrows": null,
       "prefix": "",
       "ascii": false,
       "unit": "it",
       "unit_scale": false,
       "rate": null,
       "bar_format": null,
       "postfix": null,
       "unit_divisor": 1000,
       "initial": 0,
       "colour": null
      }
     },
     "metadata": {},
     "output_type": "display_data"
    },
    {
     "name": "stdout",
     "output_type": "stream",
     "text": [
      "Total time: 2.50s (training model: 0.67s, training explainer: 1.52s, experiment: 0.31s)\n",
      "Number of extracted samples: 476\n",
      "Number of accurate extracted samples: 476\n",
      "Precision: 1.0, recall: 1.0\n",
      "dataset: heart numeric, model: neural network (repetition 6)\n"
     ]
    },
    {
     "name": "stderr",
     "output_type": "stream",
     "text": [
      "c:\\users\\ml_ks\\venvs\\xai_new\\lib\\site-packages\\sklearn\\neural_network\\_multilayer_perceptron.py:702: ConvergenceWarning: Stochastic Optimizer: Maximum iterations (200) reached and the optimization hasn't converged yet.\n",
      "  warnings.warn(\n"
     ]
    },
    {
     "data": {
      "text/plain": "  0%|          | 0/476 [00:00<?, ?it/s]",
      "application/vnd.jupyter.widget-view+json": {
       "version_major": 2,
       "version_minor": 0,
       "model_id": "da2e34b69e3447baa0eb04c3e147cc43"
      },
      "application/json": {
       "n": 0,
       "total": 476,
       "elapsed": 0.01567244529724121,
       "ncols": null,
       "nrows": null,
       "prefix": "",
       "ascii": false,
       "unit": "it",
       "unit_scale": false,
       "rate": null,
       "bar_format": null,
       "postfix": null,
       "unit_divisor": 1000,
       "initial": 0,
       "colour": null
      }
     },
     "metadata": {},
     "output_type": "display_data"
    },
    {
     "name": "stdout",
     "output_type": "stream",
     "text": [
      "Total time: 2.56s (training model: 0.66s, training explainer: 1.61s, experiment: 0.29s)\n",
      "Number of extracted samples: 476\n",
      "Number of accurate extracted samples: 476\n",
      "Precision: 1.0, recall: 1.0\n",
      "dataset: heart numeric, model: neural network (repetition 7)\n"
     ]
    },
    {
     "name": "stderr",
     "output_type": "stream",
     "text": [
      "c:\\users\\ml_ks\\venvs\\xai_new\\lib\\site-packages\\sklearn\\neural_network\\_multilayer_perceptron.py:702: ConvergenceWarning: Stochastic Optimizer: Maximum iterations (200) reached and the optimization hasn't converged yet.\n",
      "  warnings.warn(\n"
     ]
    },
    {
     "data": {
      "text/plain": "  0%|          | 0/476 [00:00<?, ?it/s]",
      "application/vnd.jupyter.widget-view+json": {
       "version_major": 2,
       "version_minor": 0,
       "model_id": "3337051292854cb88ca40fb90dfe0bfd"
      },
      "application/json": {
       "n": 0,
       "total": 476,
       "elapsed": 0.0076792240142822266,
       "ncols": null,
       "nrows": null,
       "prefix": "",
       "ascii": false,
       "unit": "it",
       "unit_scale": false,
       "rate": null,
       "bar_format": null,
       "postfix": null,
       "unit_divisor": 1000,
       "initial": 0,
       "colour": null
      }
     },
     "metadata": {},
     "output_type": "display_data"
    },
    {
     "name": "stdout",
     "output_type": "stream",
     "text": [
      "Total time: 2.57s (training model: 0.72s, training explainer: 1.57s, experiment: 0.28s)\n",
      "Number of extracted samples: 476\n",
      "Number of accurate extracted samples: 476\n",
      "Precision: 1.0, recall: 1.0\n",
      "dataset: heart numeric, model: neural network (repetition 8)\n"
     ]
    },
    {
     "name": "stderr",
     "output_type": "stream",
     "text": [
      "c:\\users\\ml_ks\\venvs\\xai_new\\lib\\site-packages\\sklearn\\neural_network\\_multilayer_perceptron.py:702: ConvergenceWarning: Stochastic Optimizer: Maximum iterations (200) reached and the optimization hasn't converged yet.\n",
      "  warnings.warn(\n"
     ]
    },
    {
     "data": {
      "text/plain": "  0%|          | 0/476 [00:00<?, ?it/s]",
      "application/vnd.jupyter.widget-view+json": {
       "version_major": 2,
       "version_minor": 0,
       "model_id": "cc9fe825085d4ce3b03b58acad79580e"
      },
      "application/json": {
       "n": 0,
       "total": 476,
       "elapsed": 0.0,
       "ncols": null,
       "nrows": null,
       "prefix": "",
       "ascii": false,
       "unit": "it",
       "unit_scale": false,
       "rate": null,
       "bar_format": null,
       "postfix": null,
       "unit_divisor": 1000,
       "initial": 0,
       "colour": null
      }
     },
     "metadata": {},
     "output_type": "display_data"
    },
    {
     "name": "stdout",
     "output_type": "stream",
     "text": [
      "Total time: 2.54s (training model: 0.69s, training explainer: 1.56s, experiment: 0.29s)\n",
      "Number of extracted samples: 476\n",
      "Number of accurate extracted samples: 476\n",
      "Precision: 1.0, recall: 1.0\n",
      "dataset: heart numeric, model: neural network (repetition 9)\n"
     ]
    },
    {
     "name": "stderr",
     "output_type": "stream",
     "text": [
      "c:\\users\\ml_ks\\venvs\\xai_new\\lib\\site-packages\\sklearn\\neural_network\\_multilayer_perceptron.py:702: ConvergenceWarning: Stochastic Optimizer: Maximum iterations (200) reached and the optimization hasn't converged yet.\n",
      "  warnings.warn(\n"
     ]
    },
    {
     "data": {
      "text/plain": "  0%|          | 0/476 [00:00<?, ?it/s]",
      "application/vnd.jupyter.widget-view+json": {
       "version_major": 2,
       "version_minor": 0,
       "model_id": "f13ac02bcc364c06998005cd58eb6249"
      },
      "application/json": {
       "n": 0,
       "total": 476,
       "elapsed": 0.0,
       "ncols": null,
       "nrows": null,
       "prefix": "",
       "ascii": false,
       "unit": "it",
       "unit_scale": false,
       "rate": null,
       "bar_format": null,
       "postfix": null,
       "unit_divisor": 1000,
       "initial": 0,
       "colour": null
      }
     },
     "metadata": {},
     "output_type": "display_data"
    },
    {
     "name": "stdout",
     "output_type": "stream",
     "text": [
      "Total time: 2.55s (training model: 0.70s, training explainer: 1.53s, experiment: 0.31s)\n",
      "Number of extracted samples: 476\n",
      "Number of accurate extracted samples: 476\n",
      "Precision: 1.0, recall: 1.0\n",
      "dataset: heart categorical, model: decision tree (repetition 0)\n"
     ]
    },
    {
     "data": {
      "text/plain": "  0%|          | 0/477 [00:00<?, ?it/s]",
      "application/vnd.jupyter.widget-view+json": {
       "version_major": 2,
       "version_minor": 0,
       "model_id": "fc32e915b4ab4dc1ad26f91051b00254"
      },
      "application/json": {
       "n": 0,
       "total": 477,
       "elapsed": 0.0,
       "ncols": null,
       "nrows": null,
       "prefix": "",
       "ascii": false,
       "unit": "it",
       "unit_scale": false,
       "rate": null,
       "bar_format": null,
       "postfix": null,
       "unit_divisor": 1000,
       "initial": 0,
       "colour": null
      }
     },
     "metadata": {},
     "output_type": "display_data"
    },
    {
     "name": "stdout",
     "output_type": "stream",
     "text": [
      "Total time: 0.69s (training model: 0.00s, training explainer: 0.43s, experiment: 0.26s)\n",
      "Number of extracted samples: 0\n",
      "Number of accurate extracted samples: 0\n",
      "Precision: nan, recall: 0.0\n",
      "dataset: heart categorical, model: decision tree (repetition 1)\n"
     ]
    },
    {
     "data": {
      "text/plain": "  0%|          | 0/477 [00:00<?, ?it/s]",
      "application/vnd.jupyter.widget-view+json": {
       "version_major": 2,
       "version_minor": 0,
       "model_id": "501423cb3eed4c968d8f98d0a76feb90"
      },
      "application/json": {
       "n": 0,
       "total": 477,
       "elapsed": 0.007999181747436523,
       "ncols": null,
       "nrows": null,
       "prefix": "",
       "ascii": false,
       "unit": "it",
       "unit_scale": false,
       "rate": null,
       "bar_format": null,
       "postfix": null,
       "unit_divisor": 1000,
       "initial": 0,
       "colour": null
      }
     },
     "metadata": {},
     "output_type": "display_data"
    },
    {
     "name": "stdout",
     "output_type": "stream",
     "text": [
      "Total time: 0.61s (training model: 0.01s, training explainer: 0.40s, experiment: 0.19s)\n",
      "Number of extracted samples: 0\n",
      "Number of accurate extracted samples: 0\n",
      "Precision: nan, recall: 0.0\n",
      "dataset: heart categorical, model: decision tree (repetition 2)\n"
     ]
    },
    {
     "data": {
      "text/plain": "  0%|          | 0/477 [00:00<?, ?it/s]",
      "application/vnd.jupyter.widget-view+json": {
       "version_major": 2,
       "version_minor": 0,
       "model_id": "21e0b636307940d89c3e34af1dbc21fa"
      },
      "application/json": {
       "n": 0,
       "total": 477,
       "elapsed": 0.00802755355834961,
       "ncols": null,
       "nrows": null,
       "prefix": "",
       "ascii": false,
       "unit": "it",
       "unit_scale": false,
       "rate": null,
       "bar_format": null,
       "postfix": null,
       "unit_divisor": 1000,
       "initial": 0,
       "colour": null
      }
     },
     "metadata": {},
     "output_type": "display_data"
    },
    {
     "name": "stdout",
     "output_type": "stream",
     "text": [
      "Total time: 0.59s (training model: 0.01s, training explainer: 0.38s, experiment: 0.20s)\n",
      "Number of extracted samples: 0\n",
      "Number of accurate extracted samples: 0\n",
      "Precision: nan, recall: 0.0\n",
      "dataset: heart categorical, model: decision tree (repetition 3)\n"
     ]
    },
    {
     "data": {
      "text/plain": "  0%|          | 0/477 [00:00<?, ?it/s]",
      "application/vnd.jupyter.widget-view+json": {
       "version_major": 2,
       "version_minor": 0,
       "model_id": "71d9393d969e4a9eb08f18cc681a9ff2"
      },
      "application/json": {
       "n": 0,
       "total": 477,
       "elapsed": 0.0,
       "ncols": null,
       "nrows": null,
       "prefix": "",
       "ascii": false,
       "unit": "it",
       "unit_scale": false,
       "rate": null,
       "bar_format": null,
       "postfix": null,
       "unit_divisor": 1000,
       "initial": 0,
       "colour": null
      }
     },
     "metadata": {},
     "output_type": "display_data"
    },
    {
     "name": "stdout",
     "output_type": "stream",
     "text": [
      "Total time: 0.57s (training model: 0.01s, training explainer: 0.36s, experiment: 0.20s)\n",
      "Number of extracted samples: 0\n",
      "Number of accurate extracted samples: 0\n",
      "Precision: nan, recall: 0.0\n",
      "dataset: heart categorical, model: decision tree (repetition 4)\n"
     ]
    },
    {
     "data": {
      "text/plain": "  0%|          | 0/477 [00:00<?, ?it/s]",
      "application/vnd.jupyter.widget-view+json": {
       "version_major": 2,
       "version_minor": 0,
       "model_id": "940dbcdb831c44e79575980dab9a759e"
      },
      "application/json": {
       "n": 0,
       "total": 477,
       "elapsed": 0.0,
       "ncols": null,
       "nrows": null,
       "prefix": "",
       "ascii": false,
       "unit": "it",
       "unit_scale": false,
       "rate": null,
       "bar_format": null,
       "postfix": null,
       "unit_divisor": 1000,
       "initial": 0,
       "colour": null
      }
     },
     "metadata": {},
     "output_type": "display_data"
    },
    {
     "name": "stdout",
     "output_type": "stream",
     "text": [
      "Total time: 0.58s (training model: 0.01s, training explainer: 0.37s, experiment: 0.20s)\n",
      "Number of extracted samples: 0\n",
      "Number of accurate extracted samples: 0\n",
      "Precision: nan, recall: 0.0\n",
      "dataset: heart categorical, model: decision tree (repetition 5)\n"
     ]
    },
    {
     "data": {
      "text/plain": "  0%|          | 0/477 [00:00<?, ?it/s]",
      "application/vnd.jupyter.widget-view+json": {
       "version_major": 2,
       "version_minor": 0,
       "model_id": "626818e3000147dd8cf90e4593f1ffc1"
      },
      "application/json": {
       "n": 0,
       "total": 477,
       "elapsed": 0.023179292678833008,
       "ncols": null,
       "nrows": null,
       "prefix": "",
       "ascii": false,
       "unit": "it",
       "unit_scale": false,
       "rate": null,
       "bar_format": null,
       "postfix": null,
       "unit_divisor": 1000,
       "initial": 0,
       "colour": null
      }
     },
     "metadata": {},
     "output_type": "display_data"
    },
    {
     "name": "stdout",
     "output_type": "stream",
     "text": [
      "Total time: 0.63s (training model: 0.01s, training explainer: 0.39s, experiment: 0.23s)\n",
      "Number of extracted samples: 0\n",
      "Number of accurate extracted samples: 0\n",
      "Precision: nan, recall: 0.0\n",
      "dataset: heart categorical, model: decision tree (repetition 6)\n"
     ]
    },
    {
     "data": {
      "text/plain": "  0%|          | 0/477 [00:00<?, ?it/s]",
      "application/vnd.jupyter.widget-view+json": {
       "version_major": 2,
       "version_minor": 0,
       "model_id": "9f92a646aec841559fdaf6fa45eaab4d"
      },
      "application/json": {
       "n": 0,
       "total": 477,
       "elapsed": 0.0,
       "ncols": null,
       "nrows": null,
       "prefix": "",
       "ascii": false,
       "unit": "it",
       "unit_scale": false,
       "rate": null,
       "bar_format": null,
       "postfix": null,
       "unit_divisor": 1000,
       "initial": 0,
       "colour": null
      }
     },
     "metadata": {},
     "output_type": "display_data"
    },
    {
     "name": "stdout",
     "output_type": "stream",
     "text": [
      "Total time: 0.56s (training model: 0.01s, training explainer: 0.37s, experiment: 0.18s)\n",
      "Number of extracted samples: 0\n",
      "Number of accurate extracted samples: 0\n",
      "Precision: nan, recall: 0.0\n",
      "dataset: heart categorical, model: decision tree (repetition 7)\n"
     ]
    },
    {
     "data": {
      "text/plain": "  0%|          | 0/477 [00:00<?, ?it/s]",
      "application/vnd.jupyter.widget-view+json": {
       "version_major": 2,
       "version_minor": 0,
       "model_id": "93c9d2e7465f48c0a8d0c1efc82e4fb4"
      },
      "application/json": {
       "n": 0,
       "total": 477,
       "elapsed": 0.015619993209838867,
       "ncols": null,
       "nrows": null,
       "prefix": "",
       "ascii": false,
       "unit": "it",
       "unit_scale": false,
       "rate": null,
       "bar_format": null,
       "postfix": null,
       "unit_divisor": 1000,
       "initial": 0,
       "colour": null
      }
     },
     "metadata": {},
     "output_type": "display_data"
    },
    {
     "name": "stdout",
     "output_type": "stream",
     "text": [
      "Total time: 0.64s (training model: 0.02s, training explainer: 0.43s, experiment: 0.20s)\n",
      "Number of extracted samples: 0\n",
      "Number of accurate extracted samples: 0\n",
      "Precision: nan, recall: 0.0\n",
      "dataset: heart categorical, model: decision tree (repetition 8)\n"
     ]
    },
    {
     "data": {
      "text/plain": "  0%|          | 0/477 [00:00<?, ?it/s]",
      "application/vnd.jupyter.widget-view+json": {
       "version_major": 2,
       "version_minor": 0,
       "model_id": "c059c521413742e0accbd1f7b71a955f"
      },
      "application/json": {
       "n": 0,
       "total": 477,
       "elapsed": 0.0,
       "ncols": null,
       "nrows": null,
       "prefix": "",
       "ascii": false,
       "unit": "it",
       "unit_scale": false,
       "rate": null,
       "bar_format": null,
       "postfix": null,
       "unit_divisor": 1000,
       "initial": 0,
       "colour": null
      }
     },
     "metadata": {},
     "output_type": "display_data"
    },
    {
     "name": "stdout",
     "output_type": "stream",
     "text": [
      "Total time: 0.59s (training model: 0.01s, training explainer: 0.36s, experiment: 0.22s)\n",
      "Number of extracted samples: 0\n",
      "Number of accurate extracted samples: 0\n",
      "Precision: nan, recall: 0.0\n",
      "dataset: heart categorical, model: decision tree (repetition 9)\n"
     ]
    },
    {
     "data": {
      "text/plain": "  0%|          | 0/477 [00:00<?, ?it/s]",
      "application/vnd.jupyter.widget-view+json": {
       "version_major": 2,
       "version_minor": 0,
       "model_id": "3e20882345954017b938335c952507b4"
      },
      "application/json": {
       "n": 0,
       "total": 477,
       "elapsed": 0.017928600311279297,
       "ncols": null,
       "nrows": null,
       "prefix": "",
       "ascii": false,
       "unit": "it",
       "unit_scale": false,
       "rate": null,
       "bar_format": null,
       "postfix": null,
       "unit_divisor": 1000,
       "initial": 0,
       "colour": null
      }
     },
     "metadata": {},
     "output_type": "display_data"
    },
    {
     "name": "stdout",
     "output_type": "stream",
     "text": [
      "Total time: 0.58s (training model: 0.02s, training explainer: 0.36s, experiment: 0.20s)\n",
      "Number of extracted samples: 0\n",
      "Number of accurate extracted samples: 0\n",
      "Precision: nan, recall: 0.0\n",
      "dataset: heart categorical, model: random forest (repetition 0)\n"
     ]
    },
    {
     "name": "stderr",
     "output_type": "stream",
     "text": [
      "c:\\users\\ml_ks\\venvs\\xai_new\\lib\\site-packages\\sklearn\\ensemble\\_forest.py:427: FutureWarning: `max_features='auto'` has been deprecated in 1.1 and will be removed in 1.3. To keep the past behaviour, explicitly set `max_features='sqrt'` or remove this parameter as it is also the default value for RandomForestClassifiers and ExtraTreesClassifiers.\n",
      "  warn(\n"
     ]
    },
    {
     "data": {
      "text/plain": "  0%|          | 0/477 [00:00<?, ?it/s]",
      "application/vnd.jupyter.widget-view+json": {
       "version_major": 2,
       "version_minor": 0,
       "model_id": "0f4cc765d76c4ac9b5686f60063972f2"
      },
      "application/json": {
       "n": 0,
       "total": 477,
       "elapsed": 0.015289306640625,
       "ncols": null,
       "nrows": null,
       "prefix": "",
       "ascii": false,
       "unit": "it",
       "unit_scale": false,
       "rate": null,
       "bar_format": null,
       "postfix": null,
       "unit_divisor": 1000,
       "initial": 0,
       "colour": null
      }
     },
     "metadata": {},
     "output_type": "display_data"
    },
    {
     "name": "stdout",
     "output_type": "stream",
     "text": [
      "Total time: 1.78s (training model: 0.18s, training explainer: 1.38s, experiment: 0.22s)\n",
      "Number of extracted samples: 59\n",
      "Number of accurate extracted samples: 59\n",
      "Precision: 1.0, recall: 0.12368972746331237\n",
      "dataset: heart categorical, model: random forest (repetition 1)\n"
     ]
    },
    {
     "name": "stderr",
     "output_type": "stream",
     "text": [
      "c:\\users\\ml_ks\\venvs\\xai_new\\lib\\site-packages\\sklearn\\ensemble\\_forest.py:427: FutureWarning: `max_features='auto'` has been deprecated in 1.1 and will be removed in 1.3. To keep the past behaviour, explicitly set `max_features='sqrt'` or remove this parameter as it is also the default value for RandomForestClassifiers and ExtraTreesClassifiers.\n",
      "  warn(\n"
     ]
    },
    {
     "data": {
      "text/plain": "  0%|          | 0/477 [00:00<?, ?it/s]",
      "application/vnd.jupyter.widget-view+json": {
       "version_major": 2,
       "version_minor": 0,
       "model_id": "46b4ee842c5042319cf7d43880dee2f4"
      },
      "application/json": {
       "n": 0,
       "total": 477,
       "elapsed": 0.0,
       "ncols": null,
       "nrows": null,
       "prefix": "",
       "ascii": false,
       "unit": "it",
       "unit_scale": false,
       "rate": null,
       "bar_format": null,
       "postfix": null,
       "unit_divisor": 1000,
       "initial": 0,
       "colour": null
      }
     },
     "metadata": {},
     "output_type": "display_data"
    },
    {
     "name": "stdout",
     "output_type": "stream",
     "text": [
      "Total time: 1.88s (training model: 0.20s, training explainer: 1.40s, experiment: 0.27s)\n",
      "Number of extracted samples: 57\n",
      "Number of accurate extracted samples: 57\n",
      "Precision: 1.0, recall: 0.11949685534591195\n",
      "dataset: heart categorical, model: random forest (repetition 2)\n"
     ]
    },
    {
     "name": "stderr",
     "output_type": "stream",
     "text": [
      "c:\\users\\ml_ks\\venvs\\xai_new\\lib\\site-packages\\sklearn\\ensemble\\_forest.py:427: FutureWarning: `max_features='auto'` has been deprecated in 1.1 and will be removed in 1.3. To keep the past behaviour, explicitly set `max_features='sqrt'` or remove this parameter as it is also the default value for RandomForestClassifiers and ExtraTreesClassifiers.\n",
      "  warn(\n"
     ]
    },
    {
     "data": {
      "text/plain": "  0%|          | 0/477 [00:00<?, ?it/s]",
      "application/vnd.jupyter.widget-view+json": {
       "version_major": 2,
       "version_minor": 0,
       "model_id": "d9486477d11c424fbc78524011c6fd78"
      },
      "application/json": {
       "n": 0,
       "total": 477,
       "elapsed": 0.015625,
       "ncols": null,
       "nrows": null,
       "prefix": "",
       "ascii": false,
       "unit": "it",
       "unit_scale": false,
       "rate": null,
       "bar_format": null,
       "postfix": null,
       "unit_divisor": 1000,
       "initial": 0,
       "colour": null
      }
     },
     "metadata": {},
     "output_type": "display_data"
    },
    {
     "name": "stdout",
     "output_type": "stream",
     "text": [
      "Total time: 1.83s (training model: 0.17s, training explainer: 1.39s, experiment: 0.26s)\n",
      "Number of extracted samples: 69\n",
      "Number of accurate extracted samples: 69\n",
      "Precision: 1.0, recall: 0.14465408805031446\n",
      "dataset: heart categorical, model: random forest (repetition 3)\n"
     ]
    },
    {
     "name": "stderr",
     "output_type": "stream",
     "text": [
      "c:\\users\\ml_ks\\venvs\\xai_new\\lib\\site-packages\\sklearn\\ensemble\\_forest.py:427: FutureWarning: `max_features='auto'` has been deprecated in 1.1 and will be removed in 1.3. To keep the past behaviour, explicitly set `max_features='sqrt'` or remove this parameter as it is also the default value for RandomForestClassifiers and ExtraTreesClassifiers.\n",
      "  warn(\n"
     ]
    },
    {
     "data": {
      "text/plain": "  0%|          | 0/477 [00:00<?, ?it/s]",
      "application/vnd.jupyter.widget-view+json": {
       "version_major": 2,
       "version_minor": 0,
       "model_id": "af6caa570a974534900a95b2b81d2c24"
      },
      "application/json": {
       "n": 0,
       "total": 477,
       "elapsed": 0.005544185638427734,
       "ncols": null,
       "nrows": null,
       "prefix": "",
       "ascii": false,
       "unit": "it",
       "unit_scale": false,
       "rate": null,
       "bar_format": null,
       "postfix": null,
       "unit_divisor": 1000,
       "initial": 0,
       "colour": null
      }
     },
     "metadata": {},
     "output_type": "display_data"
    },
    {
     "name": "stdout",
     "output_type": "stream",
     "text": [
      "Total time: 1.84s (training model: 0.18s, training explainer: 1.42s, experiment: 0.24s)\n",
      "Number of extracted samples: 63\n",
      "Number of accurate extracted samples: 63\n",
      "Precision: 1.0, recall: 0.1320754716981132\n",
      "dataset: heart categorical, model: random forest (repetition 4)\n"
     ]
    },
    {
     "name": "stderr",
     "output_type": "stream",
     "text": [
      "c:\\users\\ml_ks\\venvs\\xai_new\\lib\\site-packages\\sklearn\\ensemble\\_forest.py:427: FutureWarning: `max_features='auto'` has been deprecated in 1.1 and will be removed in 1.3. To keep the past behaviour, explicitly set `max_features='sqrt'` or remove this parameter as it is also the default value for RandomForestClassifiers and ExtraTreesClassifiers.\n",
      "  warn(\n"
     ]
    },
    {
     "data": {
      "text/plain": "  0%|          | 0/477 [00:00<?, ?it/s]",
      "application/vnd.jupyter.widget-view+json": {
       "version_major": 2,
       "version_minor": 0,
       "model_id": "df6d63675bb84531b8488e515c2bf2a1"
      },
      "application/json": {
       "n": 0,
       "total": 477,
       "elapsed": 0.0,
       "ncols": null,
       "nrows": null,
       "prefix": "",
       "ascii": false,
       "unit": "it",
       "unit_scale": false,
       "rate": null,
       "bar_format": null,
       "postfix": null,
       "unit_divisor": 1000,
       "initial": 0,
       "colour": null
      }
     },
     "metadata": {},
     "output_type": "display_data"
    },
    {
     "name": "stdout",
     "output_type": "stream",
     "text": [
      "Total time: 1.88s (training model: 0.19s, training explainer: 1.41s, experiment: 0.28s)\n",
      "Number of extracted samples: 62\n",
      "Number of accurate extracted samples: 62\n",
      "Precision: 1.0, recall: 0.129979035639413\n",
      "dataset: heart categorical, model: random forest (repetition 5)\n"
     ]
    },
    {
     "name": "stderr",
     "output_type": "stream",
     "text": [
      "c:\\users\\ml_ks\\venvs\\xai_new\\lib\\site-packages\\sklearn\\ensemble\\_forest.py:427: FutureWarning: `max_features='auto'` has been deprecated in 1.1 and will be removed in 1.3. To keep the past behaviour, explicitly set `max_features='sqrt'` or remove this parameter as it is also the default value for RandomForestClassifiers and ExtraTreesClassifiers.\n",
      "  warn(\n"
     ]
    },
    {
     "data": {
      "text/plain": "  0%|          | 0/477 [00:00<?, ?it/s]",
      "application/vnd.jupyter.widget-view+json": {
       "version_major": 2,
       "version_minor": 0,
       "model_id": "c05b33d8cfa1448b906e6cc836981fcd"
      },
      "application/json": {
       "n": 0,
       "total": 477,
       "elapsed": 0.0,
       "ncols": null,
       "nrows": null,
       "prefix": "",
       "ascii": false,
       "unit": "it",
       "unit_scale": false,
       "rate": null,
       "bar_format": null,
       "postfix": null,
       "unit_divisor": 1000,
       "initial": 0,
       "colour": null
      }
     },
     "metadata": {},
     "output_type": "display_data"
    },
    {
     "name": "stdout",
     "output_type": "stream",
     "text": [
      "Total time: 1.85s (training model: 0.21s, training explainer: 1.39s, experiment: 0.25s)\n",
      "Number of extracted samples: 59\n",
      "Number of accurate extracted samples: 59\n",
      "Precision: 1.0, recall: 0.12368972746331237\n",
      "dataset: heart categorical, model: random forest (repetition 6)\n"
     ]
    },
    {
     "name": "stderr",
     "output_type": "stream",
     "text": [
      "c:\\users\\ml_ks\\venvs\\xai_new\\lib\\site-packages\\sklearn\\ensemble\\_forest.py:427: FutureWarning: `max_features='auto'` has been deprecated in 1.1 and will be removed in 1.3. To keep the past behaviour, explicitly set `max_features='sqrt'` or remove this parameter as it is also the default value for RandomForestClassifiers and ExtraTreesClassifiers.\n",
      "  warn(\n"
     ]
    },
    {
     "data": {
      "text/plain": "  0%|          | 0/477 [00:00<?, ?it/s]",
      "application/vnd.jupyter.widget-view+json": {
       "version_major": 2,
       "version_minor": 0,
       "model_id": "fbff1e8576944a32afd095f532b1c9f0"
      },
      "application/json": {
       "n": 0,
       "total": 477,
       "elapsed": 0.0,
       "ncols": null,
       "nrows": null,
       "prefix": "",
       "ascii": false,
       "unit": "it",
       "unit_scale": false,
       "rate": null,
       "bar_format": null,
       "postfix": null,
       "unit_divisor": 1000,
       "initial": 0,
       "colour": null
      }
     },
     "metadata": {},
     "output_type": "display_data"
    },
    {
     "name": "stdout",
     "output_type": "stream",
     "text": [
      "Total time: 1.94s (training model: 0.18s, training explainer: 1.50s, experiment: 0.26s)\n",
      "Number of extracted samples: 64\n",
      "Number of accurate extracted samples: 64\n",
      "Precision: 1.0, recall: 0.13417190775681342\n",
      "dataset: heart categorical, model: random forest (repetition 7)\n"
     ]
    },
    {
     "name": "stderr",
     "output_type": "stream",
     "text": [
      "c:\\users\\ml_ks\\venvs\\xai_new\\lib\\site-packages\\sklearn\\ensemble\\_forest.py:427: FutureWarning: `max_features='auto'` has been deprecated in 1.1 and will be removed in 1.3. To keep the past behaviour, explicitly set `max_features='sqrt'` or remove this parameter as it is also the default value for RandomForestClassifiers and ExtraTreesClassifiers.\n",
      "  warn(\n"
     ]
    },
    {
     "data": {
      "text/plain": "  0%|          | 0/477 [00:00<?, ?it/s]",
      "application/vnd.jupyter.widget-view+json": {
       "version_major": 2,
       "version_minor": 0,
       "model_id": "c697517ab7da4477916ce03430247c86"
      },
      "application/json": {
       "n": 0,
       "total": 477,
       "elapsed": 0.0156252384185791,
       "ncols": null,
       "nrows": null,
       "prefix": "",
       "ascii": false,
       "unit": "it",
       "unit_scale": false,
       "rate": null,
       "bar_format": null,
       "postfix": null,
       "unit_divisor": 1000,
       "initial": 0,
       "colour": null
      }
     },
     "metadata": {},
     "output_type": "display_data"
    },
    {
     "name": "stdout",
     "output_type": "stream",
     "text": [
      "Total time: 1.98s (training model: 0.17s, training explainer: 1.57s, experiment: 0.24s)\n",
      "Number of extracted samples: 63\n",
      "Number of accurate extracted samples: 63\n",
      "Precision: 1.0, recall: 0.1320754716981132\n",
      "dataset: heart categorical, model: random forest (repetition 8)\n"
     ]
    },
    {
     "name": "stderr",
     "output_type": "stream",
     "text": [
      "c:\\users\\ml_ks\\venvs\\xai_new\\lib\\site-packages\\sklearn\\ensemble\\_forest.py:427: FutureWarning: `max_features='auto'` has been deprecated in 1.1 and will be removed in 1.3. To keep the past behaviour, explicitly set `max_features='sqrt'` or remove this parameter as it is also the default value for RandomForestClassifiers and ExtraTreesClassifiers.\n",
      "  warn(\n"
     ]
    },
    {
     "data": {
      "text/plain": "  0%|          | 0/477 [00:00<?, ?it/s]",
      "application/vnd.jupyter.widget-view+json": {
       "version_major": 2,
       "version_minor": 0,
       "model_id": "6407359ef30c48a8b34a72fd85e1607e"
      },
      "application/json": {
       "n": 0,
       "total": 477,
       "elapsed": 0.0,
       "ncols": null,
       "nrows": null,
       "prefix": "",
       "ascii": false,
       "unit": "it",
       "unit_scale": false,
       "rate": null,
       "bar_format": null,
       "postfix": null,
       "unit_divisor": 1000,
       "initial": 0,
       "colour": null
      }
     },
     "metadata": {},
     "output_type": "display_data"
    },
    {
     "name": "stdout",
     "output_type": "stream",
     "text": [
      "Total time: 1.77s (training model: 0.17s, training explainer: 1.36s, experiment: 0.24s)\n",
      "Number of extracted samples: 62\n",
      "Number of accurate extracted samples: 62\n",
      "Precision: 1.0, recall: 0.129979035639413\n",
      "dataset: heart categorical, model: random forest (repetition 9)\n"
     ]
    },
    {
     "name": "stderr",
     "output_type": "stream",
     "text": [
      "c:\\users\\ml_ks\\venvs\\xai_new\\lib\\site-packages\\sklearn\\ensemble\\_forest.py:427: FutureWarning: `max_features='auto'` has been deprecated in 1.1 and will be removed in 1.3. To keep the past behaviour, explicitly set `max_features='sqrt'` or remove this parameter as it is also the default value for RandomForestClassifiers and ExtraTreesClassifiers.\n",
      "  warn(\n"
     ]
    },
    {
     "data": {
      "text/plain": "  0%|          | 0/477 [00:00<?, ?it/s]",
      "application/vnd.jupyter.widget-view+json": {
       "version_major": 2,
       "version_minor": 0,
       "model_id": "fd30cc522a8240ebb546abc4d4c1b908"
      },
      "application/json": {
       "n": 0,
       "total": 477,
       "elapsed": 0.0,
       "ncols": null,
       "nrows": null,
       "prefix": "",
       "ascii": false,
       "unit": "it",
       "unit_scale": false,
       "rate": null,
       "bar_format": null,
       "postfix": null,
       "unit_divisor": 1000,
       "initial": 0,
       "colour": null
      }
     },
     "metadata": {},
     "output_type": "display_data"
    },
    {
     "name": "stdout",
     "output_type": "stream",
     "text": [
      "Total time: 1.80s (training model: 0.18s, training explainer: 1.38s, experiment: 0.24s)\n",
      "Number of extracted samples: 65\n",
      "Number of accurate extracted samples: 65\n",
      "Precision: 1.0, recall: 0.13626834381551362\n",
      "dataset: heart categorical, model: neural network (repetition 0)\n"
     ]
    },
    {
     "name": "stderr",
     "output_type": "stream",
     "text": [
      "c:\\users\\ml_ks\\venvs\\xai_new\\lib\\site-packages\\sklearn\\neural_network\\_multilayer_perceptron.py:702: ConvergenceWarning: Stochastic Optimizer: Maximum iterations (200) reached and the optimization hasn't converged yet.\n",
      "  warnings.warn(\n"
     ]
    },
    {
     "data": {
      "text/plain": "  0%|          | 0/477 [00:00<?, ?it/s]",
      "application/vnd.jupyter.widget-view+json": {
       "version_major": 2,
       "version_minor": 0,
       "model_id": "4452405bb68740fc9f9cf7f7a3a3d2c8"
      },
      "application/json": {
       "n": 0,
       "total": 477,
       "elapsed": 0.0,
       "ncols": null,
       "nrows": null,
       "prefix": "",
       "ascii": false,
       "unit": "it",
       "unit_scale": false,
       "rate": null,
       "bar_format": null,
       "postfix": null,
       "unit_divisor": 1000,
       "initial": 0,
       "colour": null
      }
     },
     "metadata": {},
     "output_type": "display_data"
    },
    {
     "name": "stdout",
     "output_type": "stream",
     "text": [
      "Total time: 2.02s (training model: 1.11s, training explainer: 0.50s, experiment: 0.41s)\n",
      "Number of extracted samples: 477\n",
      "Number of accurate extracted samples: 477\n",
      "Precision: 1.0, recall: 1.0\n",
      "dataset: heart categorical, model: neural network (repetition 1)\n"
     ]
    },
    {
     "name": "stderr",
     "output_type": "stream",
     "text": [
      "c:\\users\\ml_ks\\venvs\\xai_new\\lib\\site-packages\\sklearn\\neural_network\\_multilayer_perceptron.py:702: ConvergenceWarning: Stochastic Optimizer: Maximum iterations (200) reached and the optimization hasn't converged yet.\n",
      "  warnings.warn(\n"
     ]
    },
    {
     "data": {
      "text/plain": "  0%|          | 0/477 [00:00<?, ?it/s]",
      "application/vnd.jupyter.widget-view+json": {
       "version_major": 2,
       "version_minor": 0,
       "model_id": "f8be593d5f7f48ad96b2b4149ae85c2f"
      },
      "application/json": {
       "n": 0,
       "total": 477,
       "elapsed": 0.0156252384185791,
       "ncols": null,
       "nrows": null,
       "prefix": "",
       "ascii": false,
       "unit": "it",
       "unit_scale": false,
       "rate": null,
       "bar_format": null,
       "postfix": null,
       "unit_divisor": 1000,
       "initial": 0,
       "colour": null
      }
     },
     "metadata": {},
     "output_type": "display_data"
    },
    {
     "name": "stdout",
     "output_type": "stream",
     "text": [
      "Total time: 2.21s (training model: 1.25s, training explainer: 0.50s, experiment: 0.45s)\n",
      "Number of extracted samples: 477\n",
      "Number of accurate extracted samples: 477\n",
      "Precision: 1.0, recall: 1.0\n",
      "dataset: heart categorical, model: neural network (repetition 2)\n"
     ]
    },
    {
     "name": "stderr",
     "output_type": "stream",
     "text": [
      "c:\\users\\ml_ks\\venvs\\xai_new\\lib\\site-packages\\sklearn\\neural_network\\_multilayer_perceptron.py:702: ConvergenceWarning: Stochastic Optimizer: Maximum iterations (200) reached and the optimization hasn't converged yet.\n",
      "  warnings.warn(\n"
     ]
    },
    {
     "data": {
      "text/plain": "  0%|          | 0/477 [00:00<?, ?it/s]",
      "application/vnd.jupyter.widget-view+json": {
       "version_major": 2,
       "version_minor": 0,
       "model_id": "52bb521d534b46e0bf66ae653a5facfc"
      },
      "application/json": {
       "n": 0,
       "total": 477,
       "elapsed": 0.0,
       "ncols": null,
       "nrows": null,
       "prefix": "",
       "ascii": false,
       "unit": "it",
       "unit_scale": false,
       "rate": null,
       "bar_format": null,
       "postfix": null,
       "unit_divisor": 1000,
       "initial": 0,
       "colour": null
      }
     },
     "metadata": {},
     "output_type": "display_data"
    },
    {
     "name": "stdout",
     "output_type": "stream",
     "text": [
      "Total time: 2.08s (training model: 1.13s, training explainer: 0.50s, experiment: 0.46s)\n",
      "Number of extracted samples: 477\n",
      "Number of accurate extracted samples: 477\n",
      "Precision: 1.0, recall: 1.0\n",
      "dataset: heart categorical, model: neural network (repetition 3)\n"
     ]
    },
    {
     "name": "stderr",
     "output_type": "stream",
     "text": [
      "c:\\users\\ml_ks\\venvs\\xai_new\\lib\\site-packages\\sklearn\\neural_network\\_multilayer_perceptron.py:702: ConvergenceWarning: Stochastic Optimizer: Maximum iterations (200) reached and the optimization hasn't converged yet.\n",
      "  warnings.warn(\n"
     ]
    },
    {
     "data": {
      "text/plain": "  0%|          | 0/477 [00:00<?, ?it/s]",
      "application/vnd.jupyter.widget-view+json": {
       "version_major": 2,
       "version_minor": 0,
       "model_id": "d39cbc0206364c229734953cca176ac5"
      },
      "application/json": {
       "n": 0,
       "total": 477,
       "elapsed": 0.015588521957397461,
       "ncols": null,
       "nrows": null,
       "prefix": "",
       "ascii": false,
       "unit": "it",
       "unit_scale": false,
       "rate": null,
       "bar_format": null,
       "postfix": null,
       "unit_divisor": 1000,
       "initial": 0,
       "colour": null
      }
     },
     "metadata": {},
     "output_type": "display_data"
    },
    {
     "name": "stdout",
     "output_type": "stream",
     "text": [
      "Total time: 2.04s (training model: 1.12s, training explainer: 0.48s, experiment: 0.44s)\n",
      "Number of extracted samples: 477\n",
      "Number of accurate extracted samples: 477\n",
      "Precision: 1.0, recall: 1.0\n",
      "dataset: heart categorical, model: neural network (repetition 4)\n"
     ]
    },
    {
     "name": "stderr",
     "output_type": "stream",
     "text": [
      "c:\\users\\ml_ks\\venvs\\xai_new\\lib\\site-packages\\sklearn\\neural_network\\_multilayer_perceptron.py:702: ConvergenceWarning: Stochastic Optimizer: Maximum iterations (200) reached and the optimization hasn't converged yet.\n",
      "  warnings.warn(\n"
     ]
    },
    {
     "data": {
      "text/plain": "  0%|          | 0/477 [00:00<?, ?it/s]",
      "application/vnd.jupyter.widget-view+json": {
       "version_major": 2,
       "version_minor": 0,
       "model_id": "5a6f4149b04348d8afbda37fefc5d289"
      },
      "application/json": {
       "n": 0,
       "total": 477,
       "elapsed": 0.0156252384185791,
       "ncols": null,
       "nrows": null,
       "prefix": "",
       "ascii": false,
       "unit": "it",
       "unit_scale": false,
       "rate": null,
       "bar_format": null,
       "postfix": null,
       "unit_divisor": 1000,
       "initial": 0,
       "colour": null
      }
     },
     "metadata": {},
     "output_type": "display_data"
    },
    {
     "name": "stdout",
     "output_type": "stream",
     "text": [
      "Total time: 2.00s (training model: 1.09s, training explainer: 0.50s, experiment: 0.42s)\n",
      "Number of extracted samples: 477\n",
      "Number of accurate extracted samples: 477\n",
      "Precision: 1.0, recall: 1.0\n",
      "dataset: heart categorical, model: neural network (repetition 5)\n"
     ]
    },
    {
     "name": "stderr",
     "output_type": "stream",
     "text": [
      "c:\\users\\ml_ks\\venvs\\xai_new\\lib\\site-packages\\sklearn\\neural_network\\_multilayer_perceptron.py:702: ConvergenceWarning: Stochastic Optimizer: Maximum iterations (200) reached and the optimization hasn't converged yet.\n",
      "  warnings.warn(\n"
     ]
    },
    {
     "data": {
      "text/plain": "  0%|          | 0/477 [00:00<?, ?it/s]",
      "application/vnd.jupyter.widget-view+json": {
       "version_major": 2,
       "version_minor": 0,
       "model_id": "1647d9d0d72144b885be57999bd8bdaf"
      },
      "application/json": {
       "n": 0,
       "total": 477,
       "elapsed": 0.0,
       "ncols": null,
       "nrows": null,
       "prefix": "",
       "ascii": false,
       "unit": "it",
       "unit_scale": false,
       "rate": null,
       "bar_format": null,
       "postfix": null,
       "unit_divisor": 1000,
       "initial": 0,
       "colour": null
      }
     },
     "metadata": {},
     "output_type": "display_data"
    },
    {
     "name": "stdout",
     "output_type": "stream",
     "text": [
      "Total time: 2.06s (training model: 1.23s, training explainer: 0.46s, experiment: 0.37s)\n",
      "Number of extracted samples: 477\n",
      "Number of accurate extracted samples: 477\n",
      "Precision: 1.0, recall: 1.0\n",
      "dataset: heart categorical, model: neural network (repetition 6)\n"
     ]
    },
    {
     "name": "stderr",
     "output_type": "stream",
     "text": [
      "c:\\users\\ml_ks\\venvs\\xai_new\\lib\\site-packages\\sklearn\\neural_network\\_multilayer_perceptron.py:702: ConvergenceWarning: Stochastic Optimizer: Maximum iterations (200) reached and the optimization hasn't converged yet.\n",
      "  warnings.warn(\n"
     ]
    },
    {
     "data": {
      "text/plain": "  0%|          | 0/477 [00:00<?, ?it/s]",
      "application/vnd.jupyter.widget-view+json": {
       "version_major": 2,
       "version_minor": 0,
       "model_id": "4adc14292eb8420e92f999348bda0d60"
      },
      "application/json": {
       "n": 0,
       "total": 477,
       "elapsed": 0.00801229476928711,
       "ncols": null,
       "nrows": null,
       "prefix": "",
       "ascii": false,
       "unit": "it",
       "unit_scale": false,
       "rate": null,
       "bar_format": null,
       "postfix": null,
       "unit_divisor": 1000,
       "initial": 0,
       "colour": null
      }
     },
     "metadata": {},
     "output_type": "display_data"
    },
    {
     "name": "stdout",
     "output_type": "stream",
     "text": [
      "Total time: 2.19s (training model: 1.20s, training explainer: 0.56s, experiment: 0.43s)\n",
      "Number of extracted samples: 477\n",
      "Number of accurate extracted samples: 477\n",
      "Precision: 1.0, recall: 1.0\n",
      "dataset: heart categorical, model: neural network (repetition 7)\n"
     ]
    },
    {
     "name": "stderr",
     "output_type": "stream",
     "text": [
      "c:\\users\\ml_ks\\venvs\\xai_new\\lib\\site-packages\\sklearn\\neural_network\\_multilayer_perceptron.py:702: ConvergenceWarning: Stochastic Optimizer: Maximum iterations (200) reached and the optimization hasn't converged yet.\n",
      "  warnings.warn(\n"
     ]
    },
    {
     "data": {
      "text/plain": "  0%|          | 0/477 [00:00<?, ?it/s]",
      "application/vnd.jupyter.widget-view+json": {
       "version_major": 2,
       "version_minor": 0,
       "model_id": "7942968c85634897950973ddacc11f59"
      },
      "application/json": {
       "n": 0,
       "total": 477,
       "elapsed": 0.006752490997314453,
       "ncols": null,
       "nrows": null,
       "prefix": "",
       "ascii": false,
       "unit": "it",
       "unit_scale": false,
       "rate": null,
       "bar_format": null,
       "postfix": null,
       "unit_divisor": 1000,
       "initial": 0,
       "colour": null
      }
     },
     "metadata": {},
     "output_type": "display_data"
    },
    {
     "name": "stdout",
     "output_type": "stream",
     "text": [
      "Total time: 2.36s (training model: 1.22s, training explainer: 0.60s, experiment: 0.54s)\n",
      "Number of extracted samples: 477\n",
      "Number of accurate extracted samples: 477\n",
      "Precision: 1.0, recall: 1.0\n",
      "dataset: heart categorical, model: neural network (repetition 8)\n"
     ]
    },
    {
     "name": "stderr",
     "output_type": "stream",
     "text": [
      "c:\\users\\ml_ks\\venvs\\xai_new\\lib\\site-packages\\sklearn\\neural_network\\_multilayer_perceptron.py:702: ConvergenceWarning: Stochastic Optimizer: Maximum iterations (200) reached and the optimization hasn't converged yet.\n",
      "  warnings.warn(\n"
     ]
    },
    {
     "data": {
      "text/plain": "  0%|          | 0/477 [00:00<?, ?it/s]",
      "application/vnd.jupyter.widget-view+json": {
       "version_major": 2,
       "version_minor": 0,
       "model_id": "67a3c223bcac41d1a04870b65412f6e0"
      },
      "application/json": {
       "n": 0,
       "total": 477,
       "elapsed": 0.005862712860107422,
       "ncols": null,
       "nrows": null,
       "prefix": "",
       "ascii": false,
       "unit": "it",
       "unit_scale": false,
       "rate": null,
       "bar_format": null,
       "postfix": null,
       "unit_divisor": 1000,
       "initial": 0,
       "colour": null
      }
     },
     "metadata": {},
     "output_type": "display_data"
    },
    {
     "name": "stdout",
     "output_type": "stream",
     "text": [
      "Total time: 2.19s (training model: 1.26s, training explainer: 0.50s, experiment: 0.43s)\n",
      "Number of extracted samples: 477\n",
      "Number of accurate extracted samples: 477\n",
      "Precision: 1.0, recall: 1.0\n",
      "dataset: heart categorical, model: neural network (repetition 9)\n"
     ]
    },
    {
     "name": "stderr",
     "output_type": "stream",
     "text": [
      "c:\\users\\ml_ks\\venvs\\xai_new\\lib\\site-packages\\sklearn\\neural_network\\_multilayer_perceptron.py:702: ConvergenceWarning: Stochastic Optimizer: Maximum iterations (200) reached and the optimization hasn't converged yet.\n",
      "  warnings.warn(\n"
     ]
    },
    {
     "data": {
      "text/plain": "  0%|          | 0/477 [00:00<?, ?it/s]",
      "application/vnd.jupyter.widget-view+json": {
       "version_major": 2,
       "version_minor": 0,
       "model_id": "a20bae7e7cd948f68b7aa68abfe2e52f"
      },
      "application/json": {
       "n": 0,
       "total": 477,
       "elapsed": 0.005349636077880859,
       "ncols": null,
       "nrows": null,
       "prefix": "",
       "ascii": false,
       "unit": "it",
       "unit_scale": false,
       "rate": null,
       "bar_format": null,
       "postfix": null,
       "unit_divisor": 1000,
       "initial": 0,
       "colour": null
      }
     },
     "metadata": {},
     "output_type": "display_data"
    },
    {
     "name": "stdout",
     "output_type": "stream",
     "text": [
      "Total time: 2.01s (training model: 1.09s, training explainer: 0.48s, experiment: 0.44s)\n",
      "Number of extracted samples: 477\n",
      "Number of accurate extracted samples: 477\n",
      "Precision: 1.0, recall: 1.0\n",
      "dataset: census, model: decision tree (repetition 0)\n"
     ]
    },
    {
     "data": {
      "text/plain": "  0%|          | 0/13825 [00:00<?, ?it/s]",
      "application/vnd.jupyter.widget-view+json": {
       "version_major": 2,
       "version_minor": 0,
       "model_id": "650dde15f24941f9bf8bd102d6f38c71"
      },
      "application/json": {
       "n": 0,
       "total": 13825,
       "elapsed": 0.0,
       "ncols": null,
       "nrows": null,
       "prefix": "",
       "ascii": false,
       "unit": "it",
       "unit_scale": false,
       "rate": null,
       "bar_format": null,
       "postfix": null,
       "unit_divisor": 1000,
       "initial": 0,
       "colour": null
      }
     },
     "metadata": {},
     "output_type": "display_data"
    },
    {
     "name": "stdout",
     "output_type": "stream",
     "text": [
      "Total time: 14.06s (training model: 0.42s, training explainer: 8.78s, experiment: 4.86s)\n",
      "Number of extracted samples: 0\n",
      "Number of accurate extracted samples: 0\n",
      "Precision: nan, recall: 0.0\n",
      "dataset: census, model: decision tree (repetition 1)\n"
     ]
    },
    {
     "data": {
      "text/plain": "  0%|          | 0/13825 [00:00<?, ?it/s]",
      "application/vnd.jupyter.widget-view+json": {
       "version_major": 2,
       "version_minor": 0,
       "model_id": "c2b60bdbf3ca42c29771cdf3019bf46d"
      },
      "application/json": {
       "n": 0,
       "total": 13825,
       "elapsed": 0.0,
       "ncols": null,
       "nrows": null,
       "prefix": "",
       "ascii": false,
       "unit": "it",
       "unit_scale": false,
       "rate": null,
       "bar_format": null,
       "postfix": null,
       "unit_divisor": 1000,
       "initial": 0,
       "colour": null
      }
     },
     "metadata": {},
     "output_type": "display_data"
    },
    {
     "name": "stdout",
     "output_type": "stream",
     "text": [
      "Total time: 13.91s (training model: 0.41s, training explainer: 8.58s, experiment: 4.92s)\n",
      "Number of extracted samples: 0\n",
      "Number of accurate extracted samples: 0\n",
      "Precision: nan, recall: 0.0\n",
      "dataset: census, model: decision tree (repetition 2)\n"
     ]
    },
    {
     "data": {
      "text/plain": "  0%|          | 0/13825 [00:00<?, ?it/s]",
      "application/vnd.jupyter.widget-view+json": {
       "version_major": 2,
       "version_minor": 0,
       "model_id": "47f7c681d53c448a87fe65ab52015ef5"
      },
      "application/json": {
       "n": 0,
       "total": 13825,
       "elapsed": 0.0,
       "ncols": null,
       "nrows": null,
       "prefix": "",
       "ascii": false,
       "unit": "it",
       "unit_scale": false,
       "rate": null,
       "bar_format": null,
       "postfix": null,
       "unit_divisor": 1000,
       "initial": 0,
       "colour": null
      }
     },
     "metadata": {},
     "output_type": "display_data"
    },
    {
     "name": "stdout",
     "output_type": "stream",
     "text": [
      "Total time: 13.56s (training model: 0.42s, training explainer: 8.23s, experiment: 4.91s)\n",
      "Number of extracted samples: 0\n",
      "Number of accurate extracted samples: 0\n",
      "Precision: nan, recall: 0.0\n",
      "dataset: census, model: decision tree (repetition 3)\n"
     ]
    },
    {
     "data": {
      "text/plain": "  0%|          | 0/13825 [00:00<?, ?it/s]",
      "application/vnd.jupyter.widget-view+json": {
       "version_major": 2,
       "version_minor": 0,
       "model_id": "7323516a99d84aa498dec264268b0478"
      },
      "application/json": {
       "n": 0,
       "total": 13825,
       "elapsed": 0.01583266258239746,
       "ncols": null,
       "nrows": null,
       "prefix": "",
       "ascii": false,
       "unit": "it",
       "unit_scale": false,
       "rate": null,
       "bar_format": null,
       "postfix": null,
       "unit_divisor": 1000,
       "initial": 0,
       "colour": null
      }
     },
     "metadata": {},
     "output_type": "display_data"
    },
    {
     "name": "stdout",
     "output_type": "stream",
     "text": [
      "Total time: 13.61s (training model: 0.42s, training explainer: 8.37s, experiment: 4.82s)\n",
      "Number of extracted samples: 0\n",
      "Number of accurate extracted samples: 0\n",
      "Precision: nan, recall: 0.0\n",
      "dataset: census, model: decision tree (repetition 4)\n"
     ]
    },
    {
     "data": {
      "text/plain": "  0%|          | 0/13825 [00:00<?, ?it/s]",
      "application/vnd.jupyter.widget-view+json": {
       "version_major": 2,
       "version_minor": 0,
       "model_id": "687f27d4b34e4da6bbba5fc57f23d45a"
      },
      "application/json": {
       "n": 0,
       "total": 13825,
       "elapsed": 0.0,
       "ncols": null,
       "nrows": null,
       "prefix": "",
       "ascii": false,
       "unit": "it",
       "unit_scale": false,
       "rate": null,
       "bar_format": null,
       "postfix": null,
       "unit_divisor": 1000,
       "initial": 0,
       "colour": null
      }
     },
     "metadata": {},
     "output_type": "display_data"
    },
    {
     "name": "stdout",
     "output_type": "stream",
     "text": [
      "Total time: 13.57s (training model: 0.41s, training explainer: 8.18s, experiment: 4.98s)\n",
      "Number of extracted samples: 0\n",
      "Number of accurate extracted samples: 0\n",
      "Precision: nan, recall: 0.0\n",
      "dataset: census, model: decision tree (repetition 5)\n"
     ]
    },
    {
     "data": {
      "text/plain": "  0%|          | 0/13825 [00:00<?, ?it/s]",
      "application/vnd.jupyter.widget-view+json": {
       "version_major": 2,
       "version_minor": 0,
       "model_id": "d1a80bae11c8427eb2f77fa1f90782c9"
      },
      "application/json": {
       "n": 0,
       "total": 13825,
       "elapsed": 0.009325981140136719,
       "ncols": null,
       "nrows": null,
       "prefix": "",
       "ascii": false,
       "unit": "it",
       "unit_scale": false,
       "rate": null,
       "bar_format": null,
       "postfix": null,
       "unit_divisor": 1000,
       "initial": 0,
       "colour": null
      }
     },
     "metadata": {},
     "output_type": "display_data"
    },
    {
     "name": "stdout",
     "output_type": "stream",
     "text": [
      "Total time: 13.71s (training model: 0.42s, training explainer: 8.35s, experiment: 4.95s)\n",
      "Number of extracted samples: 0\n",
      "Number of accurate extracted samples: 0\n",
      "Precision: nan, recall: 0.0\n",
      "dataset: census, model: decision tree (repetition 6)\n"
     ]
    },
    {
     "data": {
      "text/plain": "  0%|          | 0/13825 [00:00<?, ?it/s]",
      "application/vnd.jupyter.widget-view+json": {
       "version_major": 2,
       "version_minor": 0,
       "model_id": "bc7c544075174a5b8a364f3dde6a6b16"
      },
      "application/json": {
       "n": 0,
       "total": 13825,
       "elapsed": 0.0,
       "ncols": null,
       "nrows": null,
       "prefix": "",
       "ascii": false,
       "unit": "it",
       "unit_scale": false,
       "rate": null,
       "bar_format": null,
       "postfix": null,
       "unit_divisor": 1000,
       "initial": 0,
       "colour": null
      }
     },
     "metadata": {},
     "output_type": "display_data"
    },
    {
     "name": "stdout",
     "output_type": "stream",
     "text": [
      "Total time: 14.05s (training model: 0.44s, training explainer: 8.48s, experiment: 5.14s)\n",
      "Number of extracted samples: 0\n",
      "Number of accurate extracted samples: 0\n",
      "Precision: nan, recall: 0.0\n",
      "dataset: census, model: decision tree (repetition 7)\n"
     ]
    },
    {
     "data": {
      "text/plain": "  0%|          | 0/13825 [00:00<?, ?it/s]",
      "application/vnd.jupyter.widget-view+json": {
       "version_major": 2,
       "version_minor": 0,
       "model_id": "d4578cae7b0d4399bc0403976fcc9cbe"
      },
      "application/json": {
       "n": 0,
       "total": 13825,
       "elapsed": 0.01690673828125,
       "ncols": null,
       "nrows": null,
       "prefix": "",
       "ascii": false,
       "unit": "it",
       "unit_scale": false,
       "rate": null,
       "bar_format": null,
       "postfix": null,
       "unit_divisor": 1000,
       "initial": 0,
       "colour": null
      }
     },
     "metadata": {},
     "output_type": "display_data"
    },
    {
     "name": "stdout",
     "output_type": "stream",
     "text": [
      "Total time: 13.58s (training model: 0.41s, training explainer: 8.35s, experiment: 4.82s)\n",
      "Number of extracted samples: 0\n",
      "Number of accurate extracted samples: 0\n",
      "Precision: nan, recall: 0.0\n",
      "dataset: census, model: decision tree (repetition 8)\n"
     ]
    },
    {
     "data": {
      "text/plain": "  0%|          | 0/13825 [00:00<?, ?it/s]",
      "application/vnd.jupyter.widget-view+json": {
       "version_major": 2,
       "version_minor": 0,
       "model_id": "d4da3860709a45008fc0d6a9cbf4ff81"
      },
      "application/json": {
       "n": 0,
       "total": 13825,
       "elapsed": 0.0,
       "ncols": null,
       "nrows": null,
       "prefix": "",
       "ascii": false,
       "unit": "it",
       "unit_scale": false,
       "rate": null,
       "bar_format": null,
       "postfix": null,
       "unit_divisor": 1000,
       "initial": 0,
       "colour": null
      }
     },
     "metadata": {},
     "output_type": "display_data"
    },
    {
     "name": "stdout",
     "output_type": "stream",
     "text": [
      "Total time: 13.57s (training model: 0.43s, training explainer: 8.29s, experiment: 4.85s)\n",
      "Number of extracted samples: 0\n",
      "Number of accurate extracted samples: 0\n",
      "Precision: nan, recall: 0.0\n",
      "dataset: census, model: decision tree (repetition 9)\n"
     ]
    },
    {
     "data": {
      "text/plain": "  0%|          | 0/13825 [00:00<?, ?it/s]",
      "application/vnd.jupyter.widget-view+json": {
       "version_major": 2,
       "version_minor": 0,
       "model_id": "096069cf0fab4facb6241134c6b81996"
      },
      "application/json": {
       "n": 0,
       "total": 13825,
       "elapsed": 0.005501270294189453,
       "ncols": null,
       "nrows": null,
       "prefix": "",
       "ascii": false,
       "unit": "it",
       "unit_scale": false,
       "rate": null,
       "bar_format": null,
       "postfix": null,
       "unit_divisor": 1000,
       "initial": 0,
       "colour": null
      }
     },
     "metadata": {},
     "output_type": "display_data"
    },
    {
     "name": "stdout",
     "output_type": "stream",
     "text": [
      "Total time: 13.81s (training model: 0.43s, training explainer: 8.42s, experiment: 4.96s)\n",
      "Number of extracted samples: 0\n",
      "Number of accurate extracted samples: 0\n",
      "Precision: nan, recall: 0.0\n",
      "dataset: census, model: random forest (repetition 0)\n"
     ]
    },
    {
     "name": "stderr",
     "output_type": "stream",
     "text": [
      "c:\\users\\ml_ks\\venvs\\xai_new\\lib\\site-packages\\sklearn\\ensemble\\_forest.py:427: FutureWarning: `max_features='auto'` has been deprecated in 1.1 and will be removed in 1.3. To keep the past behaviour, explicitly set `max_features='sqrt'` or remove this parameter as it is also the default value for RandomForestClassifiers and ExtraTreesClassifiers.\n",
      "  warn(\n"
     ]
    },
    {
     "data": {
      "text/plain": "  0%|          | 0/13825 [00:00<?, ?it/s]",
      "application/vnd.jupyter.widget-view+json": {
       "version_major": 2,
       "version_minor": 0,
       "model_id": "23f029639ffb485e8d8e05add93addda"
      },
      "application/json": {
       "n": 0,
       "total": 13825,
       "elapsed": 0.01562666893005371,
       "ncols": null,
       "nrows": null,
       "prefix": "",
       "ascii": false,
       "unit": "it",
       "unit_scale": false,
       "rate": null,
       "bar_format": null,
       "postfix": null,
       "unit_divisor": 1000,
       "initial": 0,
       "colour": null
      }
     },
     "metadata": {},
     "output_type": "display_data"
    },
    {
     "name": "stdout",
     "output_type": "stream",
     "text": [
      "Total time: 119.17s (training model: 7.91s, training explainer: 105.96s, experiment: 5.30s)\n",
      "Number of extracted samples: 2\n",
      "Number of accurate extracted samples: 2\n",
      "Precision: 1.0, recall: 0.00014466546112115733\n",
      "dataset: census, model: random forest (repetition 1)\n"
     ]
    },
    {
     "name": "stderr",
     "output_type": "stream",
     "text": [
      "c:\\users\\ml_ks\\venvs\\xai_new\\lib\\site-packages\\sklearn\\ensemble\\_forest.py:427: FutureWarning: `max_features='auto'` has been deprecated in 1.1 and will be removed in 1.3. To keep the past behaviour, explicitly set `max_features='sqrt'` or remove this parameter as it is also the default value for RandomForestClassifiers and ExtraTreesClassifiers.\n",
      "  warn(\n"
     ]
    },
    {
     "data": {
      "text/plain": "  0%|          | 0/13825 [00:00<?, ?it/s]",
      "application/vnd.jupyter.widget-view+json": {
       "version_major": 2,
       "version_minor": 0,
       "model_id": "db10ca533b6d4aa488b83c73aece8fe5"
      },
      "application/json": {
       "n": 0,
       "total": 13825,
       "elapsed": 0.0,
       "ncols": null,
       "nrows": null,
       "prefix": "",
       "ascii": false,
       "unit": "it",
       "unit_scale": false,
       "rate": null,
       "bar_format": null,
       "postfix": null,
       "unit_divisor": 1000,
       "initial": 0,
       "colour": null
      }
     },
     "metadata": {},
     "output_type": "display_data"
    },
    {
     "name": "stdout",
     "output_type": "stream",
     "text": [
      "Total time: 119.34s (training model: 7.89s, training explainer: 106.36s, experiment: 5.10s)\n",
      "Number of extracted samples: 6\n",
      "Number of accurate extracted samples: 6\n",
      "Precision: 1.0, recall: 0.00043399638336347196\n",
      "dataset: census, model: random forest (repetition 2)\n"
     ]
    },
    {
     "name": "stderr",
     "output_type": "stream",
     "text": [
      "c:\\users\\ml_ks\\venvs\\xai_new\\lib\\site-packages\\sklearn\\ensemble\\_forest.py:427: FutureWarning: `max_features='auto'` has been deprecated in 1.1 and will be removed in 1.3. To keep the past behaviour, explicitly set `max_features='sqrt'` or remove this parameter as it is also the default value for RandomForestClassifiers and ExtraTreesClassifiers.\n",
      "  warn(\n"
     ]
    },
    {
     "data": {
      "text/plain": "  0%|          | 0/13825 [00:00<?, ?it/s]",
      "application/vnd.jupyter.widget-view+json": {
       "version_major": 2,
       "version_minor": 0,
       "model_id": "db1038647aa64bd488cbdef5bc6f58e7"
      },
      "application/json": {
       "n": 0,
       "total": 13825,
       "elapsed": 0.010528087615966797,
       "ncols": null,
       "nrows": null,
       "prefix": "",
       "ascii": false,
       "unit": "it",
       "unit_scale": false,
       "rate": null,
       "bar_format": null,
       "postfix": null,
       "unit_divisor": 1000,
       "initial": 0,
       "colour": null
      }
     },
     "metadata": {},
     "output_type": "display_data"
    },
    {
     "name": "stdout",
     "output_type": "stream",
     "text": [
      "Total time: 118.43s (training model: 7.89s, training explainer: 105.33s, experiment: 5.21s)\n",
      "Number of extracted samples: 1\n",
      "Number of accurate extracted samples: 1\n",
      "Precision: 1.0, recall: 7.233273056057866e-05\n",
      "dataset: census, model: random forest (repetition 3)\n"
     ]
    },
    {
     "name": "stderr",
     "output_type": "stream",
     "text": [
      "c:\\users\\ml_ks\\venvs\\xai_new\\lib\\site-packages\\sklearn\\ensemble\\_forest.py:427: FutureWarning: `max_features='auto'` has been deprecated in 1.1 and will be removed in 1.3. To keep the past behaviour, explicitly set `max_features='sqrt'` or remove this parameter as it is also the default value for RandomForestClassifiers and ExtraTreesClassifiers.\n",
      "  warn(\n"
     ]
    },
    {
     "data": {
      "text/plain": "  0%|          | 0/13825 [00:00<?, ?it/s]",
      "application/vnd.jupyter.widget-view+json": {
       "version_major": 2,
       "version_minor": 0,
       "model_id": "964ff8a22822487d96418c54b09d3ccb"
      },
      "application/json": {
       "n": 0,
       "total": 13825,
       "elapsed": 0.0,
       "ncols": null,
       "nrows": null,
       "prefix": "",
       "ascii": false,
       "unit": "it",
       "unit_scale": false,
       "rate": null,
       "bar_format": null,
       "postfix": null,
       "unit_divisor": 1000,
       "initial": 0,
       "colour": null
      }
     },
     "metadata": {},
     "output_type": "display_data"
    },
    {
     "name": "stdout",
     "output_type": "stream",
     "text": [
      "Total time: 119.03s (training model: 7.98s, training explainer: 105.89s, experiment: 5.16s)\n",
      "Number of extracted samples: 6\n",
      "Number of accurate extracted samples: 6\n",
      "Precision: 1.0, recall: 0.00043399638336347196\n",
      "dataset: census, model: random forest (repetition 4)\n"
     ]
    },
    {
     "name": "stderr",
     "output_type": "stream",
     "text": [
      "c:\\users\\ml_ks\\venvs\\xai_new\\lib\\site-packages\\sklearn\\ensemble\\_forest.py:427: FutureWarning: `max_features='auto'` has been deprecated in 1.1 and will be removed in 1.3. To keep the past behaviour, explicitly set `max_features='sqrt'` or remove this parameter as it is also the default value for RandomForestClassifiers and ExtraTreesClassifiers.\n",
      "  warn(\n"
     ]
    },
    {
     "data": {
      "text/plain": "  0%|          | 0/13825 [00:00<?, ?it/s]",
      "application/vnd.jupyter.widget-view+json": {
       "version_major": 2,
       "version_minor": 0,
       "model_id": "4a33e66f1b5745f6a402171f115451e5"
      },
      "application/json": {
       "n": 0,
       "total": 13825,
       "elapsed": 0.0,
       "ncols": null,
       "nrows": null,
       "prefix": "",
       "ascii": false,
       "unit": "it",
       "unit_scale": false,
       "rate": null,
       "bar_format": null,
       "postfix": null,
       "unit_divisor": 1000,
       "initial": 0,
       "colour": null
      }
     },
     "metadata": {},
     "output_type": "display_data"
    },
    {
     "name": "stdout",
     "output_type": "stream",
     "text": [
      "Total time: 119.52s (training model: 8.05s, training explainer: 106.12s, experiment: 5.34s)\n",
      "Number of extracted samples: 3\n",
      "Number of accurate extracted samples: 3\n",
      "Precision: 1.0, recall: 0.00021699819168173598\n",
      "dataset: census, model: random forest (repetition 5)\n"
     ]
    },
    {
     "name": "stderr",
     "output_type": "stream",
     "text": [
      "c:\\users\\ml_ks\\venvs\\xai_new\\lib\\site-packages\\sklearn\\ensemble\\_forest.py:427: FutureWarning: `max_features='auto'` has been deprecated in 1.1 and will be removed in 1.3. To keep the past behaviour, explicitly set `max_features='sqrt'` or remove this parameter as it is also the default value for RandomForestClassifiers and ExtraTreesClassifiers.\n",
      "  warn(\n"
     ]
    },
    {
     "data": {
      "text/plain": "  0%|          | 0/13825 [00:00<?, ?it/s]",
      "application/vnd.jupyter.widget-view+json": {
       "version_major": 2,
       "version_minor": 0,
       "model_id": "6c5d8f2229ae4f88a1009b665f55cdf0"
      },
      "application/json": {
       "n": 0,
       "total": 13825,
       "elapsed": 0.011195182800292969,
       "ncols": null,
       "nrows": null,
       "prefix": "",
       "ascii": false,
       "unit": "it",
       "unit_scale": false,
       "rate": null,
       "bar_format": null,
       "postfix": null,
       "unit_divisor": 1000,
       "initial": 0,
       "colour": null
      }
     },
     "metadata": {},
     "output_type": "display_data"
    },
    {
     "name": "stdout",
     "output_type": "stream",
     "text": [
      "Total time: 119.63s (training model: 7.97s, training explainer: 106.32s, experiment: 5.33s)\n",
      "Number of extracted samples: 3\n",
      "Number of accurate extracted samples: 3\n",
      "Precision: 1.0, recall: 0.00021699819168173598\n",
      "dataset: census, model: random forest (repetition 6)\n"
     ]
    },
    {
     "name": "stderr",
     "output_type": "stream",
     "text": [
      "c:\\users\\ml_ks\\venvs\\xai_new\\lib\\site-packages\\sklearn\\ensemble\\_forest.py:427: FutureWarning: `max_features='auto'` has been deprecated in 1.1 and will be removed in 1.3. To keep the past behaviour, explicitly set `max_features='sqrt'` or remove this parameter as it is also the default value for RandomForestClassifiers and ExtraTreesClassifiers.\n",
      "  warn(\n"
     ]
    },
    {
     "data": {
      "text/plain": "  0%|          | 0/13825 [00:00<?, ?it/s]",
      "application/vnd.jupyter.widget-view+json": {
       "version_major": 2,
       "version_minor": 0,
       "model_id": "1f9bfab6dab54941a6274dc1923ef273"
      },
      "application/json": {
       "n": 0,
       "total": 13825,
       "elapsed": 0.0044176578521728516,
       "ncols": null,
       "nrows": null,
       "prefix": "",
       "ascii": false,
       "unit": "it",
       "unit_scale": false,
       "rate": null,
       "bar_format": null,
       "postfix": null,
       "unit_divisor": 1000,
       "initial": 0,
       "colour": null
      }
     },
     "metadata": {},
     "output_type": "display_data"
    },
    {
     "name": "stdout",
     "output_type": "stream",
     "text": [
      "Total time: 119.93s (training model: 7.93s, training explainer: 106.81s, experiment: 5.19s)\n",
      "Number of extracted samples: 2\n",
      "Number of accurate extracted samples: 2\n",
      "Precision: 1.0, recall: 0.00014466546112115733\n",
      "dataset: census, model: random forest (repetition 7)\n"
     ]
    },
    {
     "name": "stderr",
     "output_type": "stream",
     "text": [
      "c:\\users\\ml_ks\\venvs\\xai_new\\lib\\site-packages\\sklearn\\ensemble\\_forest.py:427: FutureWarning: `max_features='auto'` has been deprecated in 1.1 and will be removed in 1.3. To keep the past behaviour, explicitly set `max_features='sqrt'` or remove this parameter as it is also the default value for RandomForestClassifiers and ExtraTreesClassifiers.\n",
      "  warn(\n"
     ]
    },
    {
     "data": {
      "text/plain": "  0%|          | 0/13825 [00:00<?, ?it/s]",
      "application/vnd.jupyter.widget-view+json": {
       "version_major": 2,
       "version_minor": 0,
       "model_id": "648e7d9944324080bac0c7099c6d631d"
      },
      "application/json": {
       "n": 0,
       "total": 13825,
       "elapsed": 0.008881568908691406,
       "ncols": null,
       "nrows": null,
       "prefix": "",
       "ascii": false,
       "unit": "it",
       "unit_scale": false,
       "rate": null,
       "bar_format": null,
       "postfix": null,
       "unit_divisor": 1000,
       "initial": 0,
       "colour": null
      }
     },
     "metadata": {},
     "output_type": "display_data"
    },
    {
     "name": "stdout",
     "output_type": "stream",
     "text": [
      "Total time: 119.32s (training model: 7.94s, training explainer: 106.10s, experiment: 5.28s)\n",
      "Number of extracted samples: 6\n",
      "Number of accurate extracted samples: 6\n",
      "Precision: 1.0, recall: 0.00043399638336347196\n",
      "dataset: census, model: random forest (repetition 8)\n"
     ]
    },
    {
     "name": "stderr",
     "output_type": "stream",
     "text": [
      "c:\\users\\ml_ks\\venvs\\xai_new\\lib\\site-packages\\sklearn\\ensemble\\_forest.py:427: FutureWarning: `max_features='auto'` has been deprecated in 1.1 and will be removed in 1.3. To keep the past behaviour, explicitly set `max_features='sqrt'` or remove this parameter as it is also the default value for RandomForestClassifiers and ExtraTreesClassifiers.\n",
      "  warn(\n"
     ]
    },
    {
     "data": {
      "text/plain": "  0%|          | 0/13825 [00:00<?, ?it/s]",
      "application/vnd.jupyter.widget-view+json": {
       "version_major": 2,
       "version_minor": 0,
       "model_id": "bf2b7449af0042c59f161c7dfbf80ef7"
      },
      "application/json": {
       "n": 0,
       "total": 13825,
       "elapsed": 0.009839534759521484,
       "ncols": null,
       "nrows": null,
       "prefix": "",
       "ascii": false,
       "unit": "it",
       "unit_scale": false,
       "rate": null,
       "bar_format": null,
       "postfix": null,
       "unit_divisor": 1000,
       "initial": 0,
       "colour": null
      }
     },
     "metadata": {},
     "output_type": "display_data"
    },
    {
     "name": "stdout",
     "output_type": "stream",
     "text": [
      "Total time: 119.63s (training model: 7.99s, training explainer: 106.30s, experiment: 5.34s)\n",
      "Number of extracted samples: 6\n",
      "Number of accurate extracted samples: 6\n",
      "Precision: 1.0, recall: 0.00043399638336347196\n",
      "dataset: census, model: random forest (repetition 9)\n"
     ]
    },
    {
     "name": "stderr",
     "output_type": "stream",
     "text": [
      "c:\\users\\ml_ks\\venvs\\xai_new\\lib\\site-packages\\sklearn\\ensemble\\_forest.py:427: FutureWarning: `max_features='auto'` has been deprecated in 1.1 and will be removed in 1.3. To keep the past behaviour, explicitly set `max_features='sqrt'` or remove this parameter as it is also the default value for RandomForestClassifiers and ExtraTreesClassifiers.\n",
      "  warn(\n"
     ]
    },
    {
     "data": {
      "text/plain": "  0%|          | 0/13825 [00:00<?, ?it/s]",
      "application/vnd.jupyter.widget-view+json": {
       "version_major": 2,
       "version_minor": 0,
       "model_id": "d689d5e518294cec881a1ef3f1319d34"
      },
      "application/json": {
       "n": 0,
       "total": 13825,
       "elapsed": 0.006257057189941406,
       "ncols": null,
       "nrows": null,
       "prefix": "",
       "ascii": false,
       "unit": "it",
       "unit_scale": false,
       "rate": null,
       "bar_format": null,
       "postfix": null,
       "unit_divisor": 1000,
       "initial": 0,
       "colour": null
      }
     },
     "metadata": {},
     "output_type": "display_data"
    },
    {
     "name": "stdout",
     "output_type": "stream",
     "text": [
      "Total time: 120.11s (training model: 7.93s, training explainer: 106.99s, experiment: 5.19s)\n",
      "Number of extracted samples: 4\n",
      "Number of accurate extracted samples: 4\n",
      "Precision: 1.0, recall: 0.00028933092224231466\n",
      "dataset: census, model: neural network (repetition 0)\n"
     ]
    },
    {
     "name": "stderr",
     "output_type": "stream",
     "text": [
      "c:\\users\\ml_ks\\venvs\\xai_new\\lib\\site-packages\\sklearn\\neural_network\\_multilayer_perceptron.py:702: ConvergenceWarning: Stochastic Optimizer: Maximum iterations (200) reached and the optimization hasn't converged yet.\n",
      "  warnings.warn(\n"
     ]
    },
    {
     "data": {
      "text/plain": "  0%|          | 0/13825 [00:00<?, ?it/s]",
      "application/vnd.jupyter.widget-view+json": {
       "version_major": 2,
       "version_minor": 0,
       "model_id": "cd077b68327d422085548ccbce4dba8b"
      },
      "application/json": {
       "n": 0,
       "total": 13825,
       "elapsed": 0.015466690063476562,
       "ncols": null,
       "nrows": null,
       "prefix": "",
       "ascii": false,
       "unit": "it",
       "unit_scale": false,
       "rate": null,
       "bar_format": null,
       "postfix": null,
       "unit_divisor": 1000,
       "initial": 0,
       "colour": null
      }
     },
     "metadata": {},
     "output_type": "display_data"
    },
    {
     "name": "stdout",
     "output_type": "stream",
     "text": [
      "Total time: 79.97s (training model: 30.76s, training explainer: 17.25s, experiment: 31.96s)\n",
      "Number of extracted samples: 13754\n",
      "Number of accurate extracted samples: 13754\n",
      "Precision: 1.0, recall: 0.994864376130199\n",
      "dataset: census, model: neural network (repetition 1)\n"
     ]
    },
    {
     "name": "stderr",
     "output_type": "stream",
     "text": [
      "c:\\users\\ml_ks\\venvs\\xai_new\\lib\\site-packages\\sklearn\\neural_network\\_multilayer_perceptron.py:702: ConvergenceWarning: Stochastic Optimizer: Maximum iterations (200) reached and the optimization hasn't converged yet.\n",
      "  warnings.warn(\n"
     ]
    },
    {
     "data": {
      "text/plain": "  0%|          | 0/13825 [00:00<?, ?it/s]",
      "application/vnd.jupyter.widget-view+json": {
       "version_major": 2,
       "version_minor": 0,
       "model_id": "0c4da969c4fc439e8a070e76b4ef597d"
      },
      "application/json": {
       "n": 0,
       "total": 13825,
       "elapsed": 0.0,
       "ncols": null,
       "nrows": null,
       "prefix": "",
       "ascii": false,
       "unit": "it",
       "unit_scale": false,
       "rate": null,
       "bar_format": null,
       "postfix": null,
       "unit_divisor": 1000,
       "initial": 0,
       "colour": null
      }
     },
     "metadata": {},
     "output_type": "display_data"
    },
    {
     "name": "stdout",
     "output_type": "stream",
     "text": [
      "Total time: 79.45s (training model: 30.70s, training explainer: 17.21s, experiment: 31.54s)\n",
      "Number of extracted samples: 13754\n",
      "Number of accurate extracted samples: 13754\n",
      "Precision: 1.0, recall: 0.994864376130199\n",
      "dataset: census, model: neural network (repetition 2)\n"
     ]
    },
    {
     "name": "stderr",
     "output_type": "stream",
     "text": [
      "c:\\users\\ml_ks\\venvs\\xai_new\\lib\\site-packages\\sklearn\\neural_network\\_multilayer_perceptron.py:702: ConvergenceWarning: Stochastic Optimizer: Maximum iterations (200) reached and the optimization hasn't converged yet.\n",
      "  warnings.warn(\n"
     ]
    },
    {
     "data": {
      "text/plain": "  0%|          | 0/13825 [00:00<?, ?it/s]",
      "application/vnd.jupyter.widget-view+json": {
       "version_major": 2,
       "version_minor": 0,
       "model_id": "c93134ce7ec24cd2be8855ea2df05987"
      },
      "application/json": {
       "n": 0,
       "total": 13825,
       "elapsed": 0.0,
       "ncols": null,
       "nrows": null,
       "prefix": "",
       "ascii": false,
       "unit": "it",
       "unit_scale": false,
       "rate": null,
       "bar_format": null,
       "postfix": null,
       "unit_divisor": 1000,
       "initial": 0,
       "colour": null
      }
     },
     "metadata": {},
     "output_type": "display_data"
    },
    {
     "name": "stdout",
     "output_type": "stream",
     "text": [
      "Total time: 79.52s (training model: 30.91s, training explainer: 17.11s, experiment: 31.50s)\n",
      "Number of extracted samples: 13754\n",
      "Number of accurate extracted samples: 13754\n",
      "Precision: 1.0, recall: 0.994864376130199\n",
      "dataset: census, model: neural network (repetition 3)\n"
     ]
    },
    {
     "name": "stderr",
     "output_type": "stream",
     "text": [
      "c:\\users\\ml_ks\\venvs\\xai_new\\lib\\site-packages\\sklearn\\neural_network\\_multilayer_perceptron.py:702: ConvergenceWarning: Stochastic Optimizer: Maximum iterations (200) reached and the optimization hasn't converged yet.\n",
      "  warnings.warn(\n"
     ]
    },
    {
     "data": {
      "text/plain": "  0%|          | 0/13825 [00:00<?, ?it/s]",
      "application/vnd.jupyter.widget-view+json": {
       "version_major": 2,
       "version_minor": 0,
       "model_id": "1a89b93801804e88aa4e38355b41960c"
      },
      "application/json": {
       "n": 0,
       "total": 13825,
       "elapsed": 0.011245965957641602,
       "ncols": null,
       "nrows": null,
       "prefix": "",
       "ascii": false,
       "unit": "it",
       "unit_scale": false,
       "rate": null,
       "bar_format": null,
       "postfix": null,
       "unit_divisor": 1000,
       "initial": 0,
       "colour": null
      }
     },
     "metadata": {},
     "output_type": "display_data"
    },
    {
     "name": "stdout",
     "output_type": "stream",
     "text": [
      "Total time: 79.33s (training model: 30.72s, training explainer: 17.12s, experiment: 31.48s)\n",
      "Number of extracted samples: 13775\n",
      "Number of accurate extracted samples: 13775\n",
      "Precision: 1.0, recall: 0.9963833634719711\n",
      "dataset: census, model: neural network (repetition 4)\n"
     ]
    },
    {
     "name": "stderr",
     "output_type": "stream",
     "text": [
      "c:\\users\\ml_ks\\venvs\\xai_new\\lib\\site-packages\\sklearn\\neural_network\\_multilayer_perceptron.py:702: ConvergenceWarning: Stochastic Optimizer: Maximum iterations (200) reached and the optimization hasn't converged yet.\n",
      "  warnings.warn(\n"
     ]
    },
    {
     "data": {
      "text/plain": "  0%|          | 0/13825 [00:00<?, ?it/s]",
      "application/vnd.jupyter.widget-view+json": {
       "version_major": 2,
       "version_minor": 0,
       "model_id": "55e3bacf2567431289197c15556b0fc2"
      },
      "application/json": {
       "n": 0,
       "total": 13825,
       "elapsed": 0.01158285140991211,
       "ncols": null,
       "nrows": null,
       "prefix": "",
       "ascii": false,
       "unit": "it",
       "unit_scale": false,
       "rate": null,
       "bar_format": null,
       "postfix": null,
       "unit_divisor": 1000,
       "initial": 0,
       "colour": null
      }
     },
     "metadata": {},
     "output_type": "display_data"
    },
    {
     "name": "stdout",
     "output_type": "stream",
     "text": [
      "Total time: 79.48s (training model: 30.66s, training explainer: 17.05s, experiment: 31.77s)\n",
      "Number of extracted samples: 13789\n",
      "Number of accurate extracted samples: 13789\n",
      "Precision: 1.0, recall: 0.9973960216998191\n",
      "dataset: census, model: neural network (repetition 5)\n"
     ]
    },
    {
     "name": "stderr",
     "output_type": "stream",
     "text": [
      "c:\\users\\ml_ks\\venvs\\xai_new\\lib\\site-packages\\sklearn\\neural_network\\_multilayer_perceptron.py:702: ConvergenceWarning: Stochastic Optimizer: Maximum iterations (200) reached and the optimization hasn't converged yet.\n",
      "  warnings.warn(\n"
     ]
    },
    {
     "data": {
      "text/plain": "  0%|          | 0/13825 [00:00<?, ?it/s]",
      "application/vnd.jupyter.widget-view+json": {
       "version_major": 2,
       "version_minor": 0,
       "model_id": "d375a4d8e8784b6eabc302de721587c2"
      },
      "application/json": {
       "n": 0,
       "total": 13825,
       "elapsed": 0.0,
       "ncols": null,
       "nrows": null,
       "prefix": "",
       "ascii": false,
       "unit": "it",
       "unit_scale": false,
       "rate": null,
       "bar_format": null,
       "postfix": null,
       "unit_divisor": 1000,
       "initial": 0,
       "colour": null
      }
     },
     "metadata": {},
     "output_type": "display_data"
    },
    {
     "name": "stdout",
     "output_type": "stream",
     "text": [
      "Total time: 79.52s (training model: 30.70s, training explainer: 17.25s, experiment: 31.57s)\n",
      "Number of extracted samples: 13754\n",
      "Number of accurate extracted samples: 13754\n",
      "Precision: 1.0, recall: 0.994864376130199\n",
      "dataset: census, model: neural network (repetition 6)\n"
     ]
    },
    {
     "name": "stderr",
     "output_type": "stream",
     "text": [
      "c:\\users\\ml_ks\\venvs\\xai_new\\lib\\site-packages\\sklearn\\neural_network\\_multilayer_perceptron.py:702: ConvergenceWarning: Stochastic Optimizer: Maximum iterations (200) reached and the optimization hasn't converged yet.\n",
      "  warnings.warn(\n"
     ]
    },
    {
     "data": {
      "text/plain": "  0%|          | 0/13825 [00:00<?, ?it/s]",
      "application/vnd.jupyter.widget-view+json": {
       "version_major": 2,
       "version_minor": 0,
       "model_id": "ab2ad840aac143849143b1446f1efcf0"
      },
      "application/json": {
       "n": 0,
       "total": 13825,
       "elapsed": 0.0,
       "ncols": null,
       "nrows": null,
       "prefix": "",
       "ascii": false,
       "unit": "it",
       "unit_scale": false,
       "rate": null,
       "bar_format": null,
       "postfix": null,
       "unit_divisor": 1000,
       "initial": 0,
       "colour": null
      }
     },
     "metadata": {},
     "output_type": "display_data"
    },
    {
     "name": "stdout",
     "output_type": "stream",
     "text": [
      "Total time: 81.27s (training model: 32.29s, training explainer: 17.21s, experiment: 31.77s)\n",
      "Number of extracted samples: 13754\n",
      "Number of accurate extracted samples: 13754\n",
      "Precision: 1.0, recall: 0.994864376130199\n",
      "dataset: census, model: neural network (repetition 7)\n"
     ]
    },
    {
     "name": "stderr",
     "output_type": "stream",
     "text": [
      "c:\\users\\ml_ks\\venvs\\xai_new\\lib\\site-packages\\sklearn\\neural_network\\_multilayer_perceptron.py:702: ConvergenceWarning: Stochastic Optimizer: Maximum iterations (200) reached and the optimization hasn't converged yet.\n",
      "  warnings.warn(\n"
     ]
    },
    {
     "data": {
      "text/plain": "  0%|          | 0/13825 [00:00<?, ?it/s]",
      "application/vnd.jupyter.widget-view+json": {
       "version_major": 2,
       "version_minor": 0,
       "model_id": "42f52832b8764d7b8da045d4e8c772e9"
      },
      "application/json": {
       "n": 0,
       "total": 13825,
       "elapsed": 0.015672922134399414,
       "ncols": null,
       "nrows": null,
       "prefix": "",
       "ascii": false,
       "unit": "it",
       "unit_scale": false,
       "rate": null,
       "bar_format": null,
       "postfix": null,
       "unit_divisor": 1000,
       "initial": 0,
       "colour": null
      }
     },
     "metadata": {},
     "output_type": "display_data"
    },
    {
     "name": "stdout",
     "output_type": "stream",
     "text": [
      "Total time: 79.40s (training model: 30.84s, training explainer: 17.13s, experiment: 31.43s)\n",
      "Number of extracted samples: 13754\n",
      "Number of accurate extracted samples: 13754\n",
      "Precision: 1.0, recall: 0.994864376130199\n",
      "dataset: census, model: neural network (repetition 8)\n"
     ]
    },
    {
     "name": "stderr",
     "output_type": "stream",
     "text": [
      "c:\\users\\ml_ks\\venvs\\xai_new\\lib\\site-packages\\sklearn\\neural_network\\_multilayer_perceptron.py:702: ConvergenceWarning: Stochastic Optimizer: Maximum iterations (200) reached and the optimization hasn't converged yet.\n",
      "  warnings.warn(\n"
     ]
    },
    {
     "data": {
      "text/plain": "  0%|          | 0/13825 [00:00<?, ?it/s]",
      "application/vnd.jupyter.widget-view+json": {
       "version_major": 2,
       "version_minor": 0,
       "model_id": "762be1b180e345d9b7cfe242169ed2f0"
      },
      "application/json": {
       "n": 0,
       "total": 13825,
       "elapsed": 0.01604294776916504,
       "ncols": null,
       "nrows": null,
       "prefix": "",
       "ascii": false,
       "unit": "it",
       "unit_scale": false,
       "rate": null,
       "bar_format": null,
       "postfix": null,
       "unit_divisor": 1000,
       "initial": 0,
       "colour": null
      }
     },
     "metadata": {},
     "output_type": "display_data"
    },
    {
     "name": "stdout",
     "output_type": "stream",
     "text": [
      "Total time: 78.97s (training model: 30.51s, training explainer: 16.95s, experiment: 31.51s)\n",
      "Number of extracted samples: 13754\n",
      "Number of accurate extracted samples: 13754\n",
      "Precision: 1.0, recall: 0.994864376130199\n",
      "dataset: census, model: neural network (repetition 9)\n"
     ]
    },
    {
     "name": "stderr",
     "output_type": "stream",
     "text": [
      "c:\\users\\ml_ks\\venvs\\xai_new\\lib\\site-packages\\sklearn\\neural_network\\_multilayer_perceptron.py:702: ConvergenceWarning: Stochastic Optimizer: Maximum iterations (200) reached and the optimization hasn't converged yet.\n",
      "  warnings.warn(\n"
     ]
    },
    {
     "data": {
      "text/plain": "  0%|          | 0/13825 [00:00<?, ?it/s]",
      "application/vnd.jupyter.widget-view+json": {
       "version_major": 2,
       "version_minor": 0,
       "model_id": "5b8a3d30dee5444392d152be5056a9bb"
      },
      "application/json": {
       "n": 0,
       "total": 13825,
       "elapsed": 0.0,
       "ncols": null,
       "nrows": null,
       "prefix": "",
       "ascii": false,
       "unit": "it",
       "unit_scale": false,
       "rate": null,
       "bar_format": null,
       "postfix": null,
       "unit_divisor": 1000,
       "initial": 0,
       "colour": null
      }
     },
     "metadata": {},
     "output_type": "display_data"
    },
    {
     "name": "stdout",
     "output_type": "stream",
     "text": [
      "Total time: 79.37s (training model: 30.72s, training explainer: 16.96s, experiment: 31.69s)\n",
      "Number of extracted samples: 13754\n",
      "Number of accurate extracted samples: 13754\n",
      "Precision: 1.0, recall: 0.994864376130199\n",
      "dataset: census numeric, model: decision tree (repetition 0)\n"
     ]
    },
    {
     "data": {
      "text/plain": "  0%|          | 0/6254 [00:00<?, ?it/s]",
      "application/vnd.jupyter.widget-view+json": {
       "version_major": 2,
       "version_minor": 0,
       "model_id": "4edb517657c44c8c8aca82d0608b8926"
      },
      "application/json": {
       "n": 0,
       "total": 6254,
       "elapsed": 0.0,
       "ncols": null,
       "nrows": null,
       "prefix": "",
       "ascii": false,
       "unit": "it",
       "unit_scale": false,
       "rate": null,
       "bar_format": null,
       "postfix": null,
       "unit_divisor": 1000,
       "initial": 0,
       "colour": null
      }
     },
     "metadata": {},
     "output_type": "display_data"
    },
    {
     "name": "stdout",
     "output_type": "stream",
     "text": [
      "Total time: 2.53s (training model: 0.01s, training explainer: 1.12s, experiment: 1.40s)\n",
      "Number of extracted samples: 0\n",
      "Number of accurate extracted samples: 0\n",
      "Precision: nan, recall: 0.0\n",
      "dataset: census numeric, model: decision tree (repetition 1)\n"
     ]
    },
    {
     "data": {
      "text/plain": "  0%|          | 0/6254 [00:00<?, ?it/s]",
      "application/vnd.jupyter.widget-view+json": {
       "version_major": 2,
       "version_minor": 0,
       "model_id": "80f13dc5a2734ddb8623c8c4dade8036"
      },
      "application/json": {
       "n": 0,
       "total": 6254,
       "elapsed": 0.024863243103027344,
       "ncols": null,
       "nrows": null,
       "prefix": "",
       "ascii": false,
       "unit": "it",
       "unit_scale": false,
       "rate": null,
       "bar_format": null,
       "postfix": null,
       "unit_divisor": 1000,
       "initial": 0,
       "colour": null
      }
     },
     "metadata": {},
     "output_type": "display_data"
    },
    {
     "name": "stdout",
     "output_type": "stream",
     "text": [
      "Total time: 2.63s (training model: 0.02s, training explainer: 1.26s, experiment: 1.34s)\n",
      "Number of extracted samples: 0\n",
      "Number of accurate extracted samples: 0\n",
      "Precision: nan, recall: 0.0\n",
      "dataset: census numeric, model: decision tree (repetition 2)\n"
     ]
    },
    {
     "data": {
      "text/plain": "  0%|          | 0/6254 [00:00<?, ?it/s]",
      "application/vnd.jupyter.widget-view+json": {
       "version_major": 2,
       "version_minor": 0,
       "model_id": "551f190edf1c4d929fc605e8a2b3a1b1"
      },
      "application/json": {
       "n": 0,
       "total": 6254,
       "elapsed": 0.0,
       "ncols": null,
       "nrows": null,
       "prefix": "",
       "ascii": false,
       "unit": "it",
       "unit_scale": false,
       "rate": null,
       "bar_format": null,
       "postfix": null,
       "unit_divisor": 1000,
       "initial": 0,
       "colour": null
      }
     },
     "metadata": {},
     "output_type": "display_data"
    },
    {
     "name": "stdout",
     "output_type": "stream",
     "text": [
      "Total time: 2.43s (training model: 0.01s, training explainer: 1.11s, experiment: 1.30s)\n",
      "Number of extracted samples: 0\n",
      "Number of accurate extracted samples: 0\n",
      "Precision: nan, recall: 0.0\n",
      "dataset: census numeric, model: decision tree (repetition 3)\n"
     ]
    },
    {
     "data": {
      "text/plain": "  0%|          | 0/6254 [00:00<?, ?it/s]",
      "application/vnd.jupyter.widget-view+json": {
       "version_major": 2,
       "version_minor": 0,
       "model_id": "3d7074f91950494185236f34603a95c9"
      },
      "application/json": {
       "n": 0,
       "total": 6254,
       "elapsed": 0.009265661239624023,
       "ncols": null,
       "nrows": null,
       "prefix": "",
       "ascii": false,
       "unit": "it",
       "unit_scale": false,
       "rate": null,
       "bar_format": null,
       "postfix": null,
       "unit_divisor": 1000,
       "initial": 0,
       "colour": null
      }
     },
     "metadata": {},
     "output_type": "display_data"
    },
    {
     "name": "stdout",
     "output_type": "stream",
     "text": [
      "Total time: 2.53s (training model: 0.02s, training explainer: 1.13s, experiment: 1.38s)\n",
      "Number of extracted samples: 0\n",
      "Number of accurate extracted samples: 0\n",
      "Precision: nan, recall: 0.0\n",
      "dataset: census numeric, model: decision tree (repetition 4)\n"
     ]
    },
    {
     "data": {
      "text/plain": "  0%|          | 0/6254 [00:00<?, ?it/s]",
      "application/vnd.jupyter.widget-view+json": {
       "version_major": 2,
       "version_minor": 0,
       "model_id": "0715fef00fe044118ac2fddc59dfbd8d"
      },
      "application/json": {
       "n": 0,
       "total": 6254,
       "elapsed": 0.0053253173828125,
       "ncols": null,
       "nrows": null,
       "prefix": "",
       "ascii": false,
       "unit": "it",
       "unit_scale": false,
       "rate": null,
       "bar_format": null,
       "postfix": null,
       "unit_divisor": 1000,
       "initial": 0,
       "colour": null
      }
     },
     "metadata": {},
     "output_type": "display_data"
    },
    {
     "name": "stdout",
     "output_type": "stream",
     "text": [
      "Total time: 2.61s (training model: 0.01s, training explainer: 1.29s, experiment: 1.32s)\n",
      "Number of extracted samples: 0\n",
      "Number of accurate extracted samples: 0\n",
      "Precision: nan, recall: 0.0\n",
      "dataset: census numeric, model: decision tree (repetition 5)\n"
     ]
    },
    {
     "data": {
      "text/plain": "  0%|          | 0/6254 [00:00<?, ?it/s]",
      "application/vnd.jupyter.widget-view+json": {
       "version_major": 2,
       "version_minor": 0,
       "model_id": "225a1c3aa1804e30a37d6772d2a2c423"
      },
      "application/json": {
       "n": 0,
       "total": 6254,
       "elapsed": 0.015623092651367188,
       "ncols": null,
       "nrows": null,
       "prefix": "",
       "ascii": false,
       "unit": "it",
       "unit_scale": false,
       "rate": null,
       "bar_format": null,
       "postfix": null,
       "unit_divisor": 1000,
       "initial": 0,
       "colour": null
      }
     },
     "metadata": {},
     "output_type": "display_data"
    },
    {
     "name": "stdout",
     "output_type": "stream",
     "text": [
      "Total time: 2.63s (training model: 0.01s, training explainer: 1.27s, experiment: 1.35s)\n",
      "Number of extracted samples: 0\n",
      "Number of accurate extracted samples: 0\n",
      "Precision: nan, recall: 0.0\n",
      "dataset: census numeric, model: decision tree (repetition 6)\n"
     ]
    },
    {
     "data": {
      "text/plain": "  0%|          | 0/6254 [00:00<?, ?it/s]",
      "application/vnd.jupyter.widget-view+json": {
       "version_major": 2,
       "version_minor": 0,
       "model_id": "a0f17b7c7ede442fbe23b77873acb041"
      },
      "application/json": {
       "n": 0,
       "total": 6254,
       "elapsed": 0.016815185546875,
       "ncols": null,
       "nrows": null,
       "prefix": "",
       "ascii": false,
       "unit": "it",
       "unit_scale": false,
       "rate": null,
       "bar_format": null,
       "postfix": null,
       "unit_divisor": 1000,
       "initial": 0,
       "colour": null
      }
     },
     "metadata": {},
     "output_type": "display_data"
    },
    {
     "name": "stdout",
     "output_type": "stream",
     "text": [
      "Total time: 2.44s (training model: 0.02s, training explainer: 1.13s, experiment: 1.29s)\n",
      "Number of extracted samples: 0\n",
      "Number of accurate extracted samples: 0\n",
      "Precision: nan, recall: 0.0\n",
      "dataset: census numeric, model: decision tree (repetition 7)\n"
     ]
    },
    {
     "data": {
      "text/plain": "  0%|          | 0/6254 [00:00<?, ?it/s]",
      "application/vnd.jupyter.widget-view+json": {
       "version_major": 2,
       "version_minor": 0,
       "model_id": "ba6573b36bf74ad188b6424cd3fa9804"
      },
      "application/json": {
       "n": 0,
       "total": 6254,
       "elapsed": 0.0,
       "ncols": null,
       "nrows": null,
       "prefix": "",
       "ascii": false,
       "unit": "it",
       "unit_scale": false,
       "rate": null,
       "bar_format": null,
       "postfix": null,
       "unit_divisor": 1000,
       "initial": 0,
       "colour": null
      }
     },
     "metadata": {},
     "output_type": "display_data"
    },
    {
     "name": "stdout",
     "output_type": "stream",
     "text": [
      "Total time: 2.42s (training model: 0.01s, training explainer: 1.14s, experiment: 1.27s)\n",
      "Number of extracted samples: 0\n",
      "Number of accurate extracted samples: 0\n",
      "Precision: nan, recall: 0.0\n",
      "dataset: census numeric, model: decision tree (repetition 8)\n"
     ]
    },
    {
     "data": {
      "text/plain": "  0%|          | 0/6254 [00:00<?, ?it/s]",
      "application/vnd.jupyter.widget-view+json": {
       "version_major": 2,
       "version_minor": 0,
       "model_id": "d87e02d5c15b4eb3bd402bada935dc31"
      },
      "application/json": {
       "n": 0,
       "total": 6254,
       "elapsed": 0.0,
       "ncols": null,
       "nrows": null,
       "prefix": "",
       "ascii": false,
       "unit": "it",
       "unit_scale": false,
       "rate": null,
       "bar_format": null,
       "postfix": null,
       "unit_divisor": 1000,
       "initial": 0,
       "colour": null
      }
     },
     "metadata": {},
     "output_type": "display_data"
    },
    {
     "name": "stdout",
     "output_type": "stream",
     "text": [
      "Total time: 2.56s (training model: 0.02s, training explainer: 1.15s, experiment: 1.39s)\n",
      "Number of extracted samples: 0\n",
      "Number of accurate extracted samples: 0\n",
      "Precision: nan, recall: 0.0\n",
      "dataset: census numeric, model: decision tree (repetition 9)\n"
     ]
    },
    {
     "data": {
      "text/plain": "  0%|          | 0/6254 [00:00<?, ?it/s]",
      "application/vnd.jupyter.widget-view+json": {
       "version_major": 2,
       "version_minor": 0,
       "model_id": "2dce7951a0514bbe8c3d75b64f81bcb2"
      },
      "application/json": {
       "n": 0,
       "total": 6254,
       "elapsed": 0.0,
       "ncols": null,
       "nrows": null,
       "prefix": "",
       "ascii": false,
       "unit": "it",
       "unit_scale": false,
       "rate": null,
       "bar_format": null,
       "postfix": null,
       "unit_divisor": 1000,
       "initial": 0,
       "colour": null
      }
     },
     "metadata": {},
     "output_type": "display_data"
    },
    {
     "name": "stdout",
     "output_type": "stream",
     "text": [
      "Total time: 2.58s (training model: 0.02s, training explainer: 1.25s, experiment: 1.31s)\n",
      "Number of extracted samples: 0\n",
      "Number of accurate extracted samples: 0\n",
      "Precision: nan, recall: 0.0\n",
      "dataset: census numeric, model: random forest (repetition 0)\n"
     ]
    },
    {
     "data": {
      "text/plain": "  0%|          | 0/6254 [00:00<?, ?it/s]",
      "application/vnd.jupyter.widget-view+json": {
       "version_major": 2,
       "version_minor": 0,
       "model_id": "f7fe1a2f54ba43e6b4b95cb68f6416a0"
      },
      "application/json": {
       "n": 0,
       "total": 6254,
       "elapsed": 0.0,
       "ncols": null,
       "nrows": null,
       "prefix": "",
       "ascii": false,
       "unit": "it",
       "unit_scale": false,
       "rate": null,
       "bar_format": null,
       "postfix": null,
       "unit_divisor": 1000,
       "initial": 0,
       "colour": null
      }
     },
     "metadata": {},
     "output_type": "display_data"
    },
    {
     "name": "stdout",
     "output_type": "stream",
     "text": [
      "Total time: 5.98s (training model: 0.10s, training explainer: 4.65s, experiment: 1.24s)\n",
      "Number of extracted samples: 38\n",
      "Number of accurate extracted samples: 38\n",
      "Precision: 1.0, recall: 0.006076111288775184\n",
      "dataset: census numeric, model: random forest (repetition 1)\n"
     ]
    },
    {
     "data": {
      "text/plain": "  0%|          | 0/6254 [00:00<?, ?it/s]",
      "application/vnd.jupyter.widget-view+json": {
       "version_major": 2,
       "version_minor": 0,
       "model_id": "0abaea4ace884567a8d3e38eae177ef0"
      },
      "application/json": {
       "n": 0,
       "total": 6254,
       "elapsed": 0.0,
       "ncols": null,
       "nrows": null,
       "prefix": "",
       "ascii": false,
       "unit": "it",
       "unit_scale": false,
       "rate": null,
       "bar_format": null,
       "postfix": null,
       "unit_divisor": 1000,
       "initial": 0,
       "colour": null
      }
     },
     "metadata": {},
     "output_type": "display_data"
    },
    {
     "name": "stdout",
     "output_type": "stream",
     "text": [
      "Total time: 6.13s (training model: 0.10s, training explainer: 4.75s, experiment: 1.28s)\n",
      "Number of extracted samples: 148\n",
      "Number of accurate extracted samples: 148\n",
      "Precision: 1.0, recall: 0.0236648544931244\n",
      "dataset: census numeric, model: random forest (repetition 2)\n"
     ]
    },
    {
     "data": {
      "text/plain": "  0%|          | 0/6254 [00:00<?, ?it/s]",
      "application/vnd.jupyter.widget-view+json": {
       "version_major": 2,
       "version_minor": 0,
       "model_id": "7cd83684ae6644a2800fdfc5e4b9462b"
      },
      "application/json": {
       "n": 0,
       "total": 6254,
       "elapsed": 0.0,
       "ncols": null,
       "nrows": null,
       "prefix": "",
       "ascii": false,
       "unit": "it",
       "unit_scale": false,
       "rate": null,
       "bar_format": null,
       "postfix": null,
       "unit_divisor": 1000,
       "initial": 0,
       "colour": null
      }
     },
     "metadata": {},
     "output_type": "display_data"
    },
    {
     "name": "stdout",
     "output_type": "stream",
     "text": [
      "Total time: 6.22s (training model: 0.07s, training explainer: 4.77s, experiment: 1.39s)\n",
      "Number of extracted samples: 154\n",
      "Number of accurate extracted samples: 154\n",
      "Precision: 1.0, recall: 0.024624240486088904\n",
      "dataset: census numeric, model: random forest (repetition 3)\n"
     ]
    },
    {
     "data": {
      "text/plain": "  0%|          | 0/6254 [00:00<?, ?it/s]",
      "application/vnd.jupyter.widget-view+json": {
       "version_major": 2,
       "version_minor": 0,
       "model_id": "455cf55f27bd4e998c92e75bccebf513"
      },
      "application/json": {
       "n": 0,
       "total": 6254,
       "elapsed": 0.0,
       "ncols": null,
       "nrows": null,
       "prefix": "",
       "ascii": false,
       "unit": "it",
       "unit_scale": false,
       "rate": null,
       "bar_format": null,
       "postfix": null,
       "unit_divisor": 1000,
       "initial": 0,
       "colour": null
      }
     },
     "metadata": {},
     "output_type": "display_data"
    },
    {
     "name": "stdout",
     "output_type": "stream",
     "text": [
      "Total time: 6.07s (training model: 0.09s, training explainer: 4.65s, experiment: 1.32s)\n",
      "Number of extracted samples: 200\n",
      "Number of accurate extracted samples: 200\n",
      "Precision: 1.0, recall: 0.03197953309881676\n",
      "dataset: census numeric, model: random forest (repetition 4)\n"
     ]
    },
    {
     "data": {
      "text/plain": "  0%|          | 0/6254 [00:00<?, ?it/s]",
      "application/vnd.jupyter.widget-view+json": {
       "version_major": 2,
       "version_minor": 0,
       "model_id": "2ccac70547bc47d7927d27bcc62292a4"
      },
      "application/json": {
       "n": 0,
       "total": 6254,
       "elapsed": 0.01694965362548828,
       "ncols": null,
       "nrows": null,
       "prefix": "",
       "ascii": false,
       "unit": "it",
       "unit_scale": false,
       "rate": null,
       "bar_format": null,
       "postfix": null,
       "unit_divisor": 1000,
       "initial": 0,
       "colour": null
      }
     },
     "metadata": {},
     "output_type": "display_data"
    },
    {
     "name": "stdout",
     "output_type": "stream",
     "text": [
      "Total time: 6.02s (training model: 0.09s, training explainer: 4.64s, experiment: 1.29s)\n",
      "Number of extracted samples: 96\n",
      "Number of accurate extracted samples: 96\n",
      "Precision: 1.0, recall: 0.015350175887432043\n",
      "dataset: census numeric, model: random forest (repetition 5)\n"
     ]
    },
    {
     "data": {
      "text/plain": "  0%|          | 0/6254 [00:00<?, ?it/s]",
      "application/vnd.jupyter.widget-view+json": {
       "version_major": 2,
       "version_minor": 0,
       "model_id": "4e7a3658564848ae9b902966261015af"
      },
      "application/json": {
       "n": 0,
       "total": 6254,
       "elapsed": 0.015630006790161133,
       "ncols": null,
       "nrows": null,
       "prefix": "",
       "ascii": false,
       "unit": "it",
       "unit_scale": false,
       "rate": null,
       "bar_format": null,
       "postfix": null,
       "unit_divisor": 1000,
       "initial": 0,
       "colour": null
      }
     },
     "metadata": {},
     "output_type": "display_data"
    },
    {
     "name": "stdout",
     "output_type": "stream",
     "text": [
      "Total time: 5.99s (training model: 0.10s, training explainer: 4.61s, experiment: 1.29s)\n",
      "Number of extracted samples: 78\n",
      "Number of accurate extracted samples: 78\n",
      "Precision: 1.0, recall: 0.012472017908538535\n",
      "dataset: census numeric, model: random forest (repetition 6)\n"
     ]
    },
    {
     "data": {
      "text/plain": "  0%|          | 0/6254 [00:00<?, ?it/s]",
      "application/vnd.jupyter.widget-view+json": {
       "version_major": 2,
       "version_minor": 0,
       "model_id": "c4792a2679a643fa94e95605214c49a5"
      },
      "application/json": {
       "n": 0,
       "total": 6254,
       "elapsed": 0.0,
       "ncols": null,
       "nrows": null,
       "prefix": "",
       "ascii": false,
       "unit": "it",
       "unit_scale": false,
       "rate": null,
       "bar_format": null,
       "postfix": null,
       "unit_divisor": 1000,
       "initial": 0,
       "colour": null
      }
     },
     "metadata": {},
     "output_type": "display_data"
    },
    {
     "name": "stdout",
     "output_type": "stream",
     "text": [
      "Total time: 6.27s (training model: 0.09s, training explainer: 4.78s, experiment: 1.40s)\n",
      "Number of extracted samples: 177\n",
      "Number of accurate extracted samples: 177\n",
      "Precision: 1.0, recall: 0.02830188679245283\n",
      "dataset: census numeric, model: random forest (repetition 7)\n"
     ]
    },
    {
     "data": {
      "text/plain": "  0%|          | 0/6254 [00:00<?, ?it/s]",
      "application/vnd.jupyter.widget-view+json": {
       "version_major": 2,
       "version_minor": 0,
       "model_id": "217b803aff44439b8e2ecd30fa5fa316"
      },
      "application/json": {
       "n": 0,
       "total": 6254,
       "elapsed": 0.0,
       "ncols": null,
       "nrows": null,
       "prefix": "",
       "ascii": false,
       "unit": "it",
       "unit_scale": false,
       "rate": null,
       "bar_format": null,
       "postfix": null,
       "unit_divisor": 1000,
       "initial": 0,
       "colour": null
      }
     },
     "metadata": {},
     "output_type": "display_data"
    },
    {
     "name": "stdout",
     "output_type": "stream",
     "text": [
      "Total time: 6.04s (training model: 0.10s, training explainer: 4.67s, experiment: 1.27s)\n",
      "Number of extracted samples: 133\n",
      "Number of accurate extracted samples: 133\n",
      "Precision: 1.0, recall: 0.021266389510713142\n",
      "dataset: census numeric, model: random forest (repetition 8)\n"
     ]
    },
    {
     "data": {
      "text/plain": "  0%|          | 0/6254 [00:00<?, ?it/s]",
      "application/vnd.jupyter.widget-view+json": {
       "version_major": 2,
       "version_minor": 0,
       "model_id": "a84c39f06ea841fab4c77164bbcc6418"
      },
      "application/json": {
       "n": 0,
       "total": 6254,
       "elapsed": 5.323886871337891E-4,
       "ncols": null,
       "nrows": null,
       "prefix": "",
       "ascii": false,
       "unit": "it",
       "unit_scale": false,
       "rate": null,
       "bar_format": null,
       "postfix": null,
       "unit_divisor": 1000,
       "initial": 0,
       "colour": null
      }
     },
     "metadata": {},
     "output_type": "display_data"
    },
    {
     "name": "stdout",
     "output_type": "stream",
     "text": [
      "Total time: 6.04s (training model: 0.08s, training explainer: 4.64s, experiment: 1.32s)\n",
      "Number of extracted samples: 186\n",
      "Number of accurate extracted samples: 186\n",
      "Precision: 1.0, recall: 0.029740965781899584\n",
      "dataset: census numeric, model: random forest (repetition 9)\n"
     ]
    },
    {
     "data": {
      "text/plain": "  0%|          | 0/6254 [00:00<?, ?it/s]",
      "application/vnd.jupyter.widget-view+json": {
       "version_major": 2,
       "version_minor": 0,
       "model_id": "ee4bc5d62dff403b9771366a67223e4c"
      },
      "application/json": {
       "n": 0,
       "total": 6254,
       "elapsed": 0.0,
       "ncols": null,
       "nrows": null,
       "prefix": "",
       "ascii": false,
       "unit": "it",
       "unit_scale": false,
       "rate": null,
       "bar_format": null,
       "postfix": null,
       "unit_divisor": 1000,
       "initial": 0,
       "colour": null
      }
     },
     "metadata": {},
     "output_type": "display_data"
    },
    {
     "name": "stdout",
     "output_type": "stream",
     "text": [
      "Total time: 6.33s (training model: 0.11s, training explainer: 4.88s, experiment: 1.34s)\n",
      "Number of extracted samples: 200\n",
      "Number of accurate extracted samples: 200\n",
      "Precision: 1.0, recall: 0.03197953309881676\n",
      "dataset: census numeric, model: neural network (repetition 0)\n"
     ]
    },
    {
     "name": "stderr",
     "output_type": "stream",
     "text": [
      "c:\\users\\ml_ks\\venvs\\xai_new\\lib\\site-packages\\sklearn\\neural_network\\_multilayer_perceptron.py:702: ConvergenceWarning: Stochastic Optimizer: Maximum iterations (200) reached and the optimization hasn't converged yet.\n",
      "  warnings.warn(\n"
     ]
    },
    {
     "data": {
      "text/plain": "  0%|          | 0/6254 [00:00<?, ?it/s]",
      "application/vnd.jupyter.widget-view+json": {
       "version_major": 2,
       "version_minor": 0,
       "model_id": "997d9c34866543d1991926a351f297da"
      },
      "application/json": {
       "n": 0,
       "total": 6254,
       "elapsed": 0.007738351821899414,
       "ncols": null,
       "nrows": null,
       "prefix": "",
       "ascii": false,
       "unit": "it",
       "unit_scale": false,
       "rate": null,
       "bar_format": null,
       "postfix": null,
       "unit_divisor": 1000,
       "initial": 0,
       "colour": null
      }
     },
     "metadata": {},
     "output_type": "display_data"
    },
    {
     "name": "stdout",
     "output_type": "stream",
     "text": [
      "Total time: 15.47s (training model: 7.66s, training explainer: 3.46s, experiment: 4.34s)\n",
      "Number of extracted samples: 6253\n",
      "Number of accurate extracted samples: 6253\n",
      "Precision: 1.0, recall: 0.9998401023345059\n",
      "dataset: census numeric, model: neural network (repetition 1)\n"
     ]
    },
    {
     "name": "stderr",
     "output_type": "stream",
     "text": [
      "c:\\users\\ml_ks\\venvs\\xai_new\\lib\\site-packages\\sklearn\\neural_network\\_multilayer_perceptron.py:702: ConvergenceWarning: Stochastic Optimizer: Maximum iterations (200) reached and the optimization hasn't converged yet.\n",
      "  warnings.warn(\n"
     ]
    },
    {
     "data": {
      "text/plain": "  0%|          | 0/6254 [00:00<?, ?it/s]",
      "application/vnd.jupyter.widget-view+json": {
       "version_major": 2,
       "version_minor": 0,
       "model_id": "fc8618cd4713412998db23278350c152"
      },
      "application/json": {
       "n": 0,
       "total": 6254,
       "elapsed": 0.01641368865966797,
       "ncols": null,
       "nrows": null,
       "prefix": "",
       "ascii": false,
       "unit": "it",
       "unit_scale": false,
       "rate": null,
       "bar_format": null,
       "postfix": null,
       "unit_divisor": 1000,
       "initial": 0,
       "colour": null
      }
     },
     "metadata": {},
     "output_type": "display_data"
    },
    {
     "name": "stdout",
     "output_type": "stream",
     "text": [
      "Total time: 15.46s (training model: 7.62s, training explainer: 3.64s, experiment: 4.20s)\n",
      "Number of extracted samples: 6254\n",
      "Number of accurate extracted samples: 6254\n",
      "Precision: 1.0, recall: 1.0\n",
      "dataset: census numeric, model: neural network (repetition 2)\n"
     ]
    },
    {
     "name": "stderr",
     "output_type": "stream",
     "text": [
      "c:\\users\\ml_ks\\venvs\\xai_new\\lib\\site-packages\\sklearn\\neural_network\\_multilayer_perceptron.py:702: ConvergenceWarning: Stochastic Optimizer: Maximum iterations (200) reached and the optimization hasn't converged yet.\n",
      "  warnings.warn(\n"
     ]
    },
    {
     "data": {
      "text/plain": "  0%|          | 0/6254 [00:00<?, ?it/s]",
      "application/vnd.jupyter.widget-view+json": {
       "version_major": 2,
       "version_minor": 0,
       "model_id": "be94d3b6491a4bb089d3f2cca0c63b07"
      },
      "application/json": {
       "n": 0,
       "total": 6254,
       "elapsed": 0.008624792098999023,
       "ncols": null,
       "nrows": null,
       "prefix": "",
       "ascii": false,
       "unit": "it",
       "unit_scale": false,
       "rate": null,
       "bar_format": null,
       "postfix": null,
       "unit_divisor": 1000,
       "initial": 0,
       "colour": null
      }
     },
     "metadata": {},
     "output_type": "display_data"
    },
    {
     "name": "stdout",
     "output_type": "stream",
     "text": [
      "Total time: 15.48s (training model: 7.50s, training explainer: 3.69s, experiment: 4.29s)\n",
      "Number of extracted samples: 6254\n",
      "Number of accurate extracted samples: 6254\n",
      "Precision: 1.0, recall: 1.0\n",
      "dataset: census numeric, model: neural network (repetition 3)\n"
     ]
    },
    {
     "name": "stderr",
     "output_type": "stream",
     "text": [
      "c:\\users\\ml_ks\\venvs\\xai_new\\lib\\site-packages\\sklearn\\neural_network\\_multilayer_perceptron.py:702: ConvergenceWarning: Stochastic Optimizer: Maximum iterations (200) reached and the optimization hasn't converged yet.\n",
      "  warnings.warn(\n"
     ]
    },
    {
     "data": {
      "text/plain": "  0%|          | 0/6254 [00:00<?, ?it/s]",
      "application/vnd.jupyter.widget-view+json": {
       "version_major": 2,
       "version_minor": 0,
       "model_id": "551a213d552543b48506474be93cf7cc"
      },
      "application/json": {
       "n": 0,
       "total": 6254,
       "elapsed": 0.0,
       "ncols": null,
       "nrows": null,
       "prefix": "",
       "ascii": false,
       "unit": "it",
       "unit_scale": false,
       "rate": null,
       "bar_format": null,
       "postfix": null,
       "unit_divisor": 1000,
       "initial": 0,
       "colour": null
      }
     },
     "metadata": {},
     "output_type": "display_data"
    },
    {
     "name": "stdout",
     "output_type": "stream",
     "text": [
      "Total time: 15.28s (training model: 7.47s, training explainer: 3.50s, experiment: 4.30s)\n",
      "Number of extracted samples: 6254\n",
      "Number of accurate extracted samples: 6254\n",
      "Precision: 1.0, recall: 1.0\n",
      "dataset: census numeric, model: neural network (repetition 4)\n"
     ]
    },
    {
     "name": "stderr",
     "output_type": "stream",
     "text": [
      "c:\\users\\ml_ks\\venvs\\xai_new\\lib\\site-packages\\sklearn\\neural_network\\_multilayer_perceptron.py:702: ConvergenceWarning: Stochastic Optimizer: Maximum iterations (200) reached and the optimization hasn't converged yet.\n",
      "  warnings.warn(\n"
     ]
    },
    {
     "data": {
      "text/plain": "  0%|          | 0/6254 [00:00<?, ?it/s]",
      "application/vnd.jupyter.widget-view+json": {
       "version_major": 2,
       "version_minor": 0,
       "model_id": "6debb51e48db4f02bae8d10657942fc3"
      },
      "application/json": {
       "n": 0,
       "total": 6254,
       "elapsed": 0.0,
       "ncols": null,
       "nrows": null,
       "prefix": "",
       "ascii": false,
       "unit": "it",
       "unit_scale": false,
       "rate": null,
       "bar_format": null,
       "postfix": null,
       "unit_divisor": 1000,
       "initial": 0,
       "colour": null
      }
     },
     "metadata": {},
     "output_type": "display_data"
    },
    {
     "name": "stdout",
     "output_type": "stream",
     "text": [
      "Total time: 15.80s (training model: 7.69s, training explainer: 3.47s, experiment: 4.63s)\n",
      "Number of extracted samples: 6254\n",
      "Number of accurate extracted samples: 6254\n",
      "Precision: 1.0, recall: 1.0\n",
      "dataset: census numeric, model: neural network (repetition 5)\n"
     ]
    },
    {
     "name": "stderr",
     "output_type": "stream",
     "text": [
      "c:\\users\\ml_ks\\venvs\\xai_new\\lib\\site-packages\\sklearn\\neural_network\\_multilayer_perceptron.py:702: ConvergenceWarning: Stochastic Optimizer: Maximum iterations (200) reached and the optimization hasn't converged yet.\n",
      "  warnings.warn(\n"
     ]
    },
    {
     "data": {
      "text/plain": "  0%|          | 0/6254 [00:00<?, ?it/s]",
      "application/vnd.jupyter.widget-view+json": {
       "version_major": 2,
       "version_minor": 0,
       "model_id": "f07ff2e6299146d697158e8b086a8676"
      },
      "application/json": {
       "n": 0,
       "total": 6254,
       "elapsed": 0.015625,
       "ncols": null,
       "nrows": null,
       "prefix": "",
       "ascii": false,
       "unit": "it",
       "unit_scale": false,
       "rate": null,
       "bar_format": null,
       "postfix": null,
       "unit_divisor": 1000,
       "initial": 0,
       "colour": null
      }
     },
     "metadata": {},
     "output_type": "display_data"
    },
    {
     "name": "stdout",
     "output_type": "stream",
     "text": [
      "Total time: 15.27s (training model: 7.58s, training explainer: 3.46s, experiment: 4.23s)\n",
      "Number of extracted samples: 6254\n",
      "Number of accurate extracted samples: 6254\n",
      "Precision: 1.0, recall: 1.0\n",
      "dataset: census numeric, model: neural network (repetition 6)\n"
     ]
    },
    {
     "data": {
      "text/plain": "  0%|          | 0/6254 [00:00<?, ?it/s]",
      "application/vnd.jupyter.widget-view+json": {
       "version_major": 2,
       "version_minor": 0,
       "model_id": "b313c443e8db4693974b52accab0b3bf"
      },
      "application/json": {
       "n": 0,
       "total": 6254,
       "elapsed": 0.0,
       "ncols": null,
       "nrows": null,
       "prefix": "",
       "ascii": false,
       "unit": "it",
       "unit_scale": false,
       "rate": null,
       "bar_format": null,
       "postfix": null,
       "unit_divisor": 1000,
       "initial": 0,
       "colour": null
      }
     },
     "metadata": {},
     "output_type": "display_data"
    },
    {
     "name": "stdout",
     "output_type": "stream",
     "text": [
      "Total time: 14.39s (training model: 6.55s, training explainer: 3.52s, experiment: 4.33s)\n",
      "Number of extracted samples: 6239\n",
      "Number of accurate extracted samples: 6239\n",
      "Precision: 1.0, recall: 0.9976015350175887\n",
      "dataset: census numeric, model: neural network (repetition 7)\n"
     ]
    },
    {
     "name": "stderr",
     "output_type": "stream",
     "text": [
      "c:\\users\\ml_ks\\venvs\\xai_new\\lib\\site-packages\\sklearn\\neural_network\\_multilayer_perceptron.py:702: ConvergenceWarning: Stochastic Optimizer: Maximum iterations (200) reached and the optimization hasn't converged yet.\n",
      "  warnings.warn(\n"
     ]
    },
    {
     "data": {
      "text/plain": "  0%|          | 0/6254 [00:00<?, ?it/s]",
      "application/vnd.jupyter.widget-view+json": {
       "version_major": 2,
       "version_minor": 0,
       "model_id": "3141c5c1783b45e1a8ae20dc9732ff0c"
      },
      "application/json": {
       "n": 0,
       "total": 6254,
       "elapsed": 0.015624761581420898,
       "ncols": null,
       "nrows": null,
       "prefix": "",
       "ascii": false,
       "unit": "it",
       "unit_scale": false,
       "rate": null,
       "bar_format": null,
       "postfix": null,
       "unit_divisor": 1000,
       "initial": 0,
       "colour": null
      }
     },
     "metadata": {},
     "output_type": "display_data"
    },
    {
     "name": "stdout",
     "output_type": "stream",
     "text": [
      "Total time: 15.22s (training model: 7.47s, training explainer: 3.47s, experiment: 4.28s)\n",
      "Number of extracted samples: 6254\n",
      "Number of accurate extracted samples: 6254\n",
      "Precision: 1.0, recall: 1.0\n",
      "dataset: census numeric, model: neural network (repetition 8)\n"
     ]
    },
    {
     "name": "stderr",
     "output_type": "stream",
     "text": [
      "c:\\users\\ml_ks\\venvs\\xai_new\\lib\\site-packages\\sklearn\\neural_network\\_multilayer_perceptron.py:702: ConvergenceWarning: Stochastic Optimizer: Maximum iterations (200) reached and the optimization hasn't converged yet.\n",
      "  warnings.warn(\n"
     ]
    },
    {
     "data": {
      "text/plain": "  0%|          | 0/6254 [00:00<?, ?it/s]",
      "application/vnd.jupyter.widget-view+json": {
       "version_major": 2,
       "version_minor": 0,
       "model_id": "7930d5904b504fdd979ee832246a07a9"
      },
      "application/json": {
       "n": 0,
       "total": 6254,
       "elapsed": 0.015625,
       "ncols": null,
       "nrows": null,
       "prefix": "",
       "ascii": false,
       "unit": "it",
       "unit_scale": false,
       "rate": null,
       "bar_format": null,
       "postfix": null,
       "unit_divisor": 1000,
       "initial": 0,
       "colour": null
      }
     },
     "metadata": {},
     "output_type": "display_data"
    },
    {
     "name": "stdout",
     "output_type": "stream",
     "text": [
      "Total time: 15.49s (training model: 7.57s, training explainer: 3.50s, experiment: 4.42s)\n",
      "Number of extracted samples: 6254\n",
      "Number of accurate extracted samples: 6254\n",
      "Precision: 1.0, recall: 1.0\n",
      "dataset: census numeric, model: neural network (repetition 9)\n"
     ]
    },
    {
     "name": "stderr",
     "output_type": "stream",
     "text": [
      "c:\\users\\ml_ks\\venvs\\xai_new\\lib\\site-packages\\sklearn\\neural_network\\_multilayer_perceptron.py:702: ConvergenceWarning: Stochastic Optimizer: Maximum iterations (200) reached and the optimization hasn't converged yet.\n",
      "  warnings.warn(\n"
     ]
    },
    {
     "data": {
      "text/plain": "  0%|          | 0/6254 [00:00<?, ?it/s]",
      "application/vnd.jupyter.widget-view+json": {
       "version_major": 2,
       "version_minor": 0,
       "model_id": "6d12fae90c52422d9d3d36cddd9d1edf"
      },
      "application/json": {
       "n": 0,
       "total": 6254,
       "elapsed": 0.0,
       "ncols": null,
       "nrows": null,
       "prefix": "",
       "ascii": false,
       "unit": "it",
       "unit_scale": false,
       "rate": null,
       "bar_format": null,
       "postfix": null,
       "unit_divisor": 1000,
       "initial": 0,
       "colour": null
      }
     },
     "metadata": {},
     "output_type": "display_data"
    },
    {
     "name": "stdout",
     "output_type": "stream",
     "text": [
      "Total time: 15.33s (training model: 7.63s, training explainer: 3.50s, experiment: 4.20s)\n",
      "Number of extracted samples: 6254\n",
      "Number of accurate extracted samples: 6254\n",
      "Precision: 1.0, recall: 1.0\n",
      "dataset: census categorical, model: decision tree (repetition 0)\n"
     ]
    },
    {
     "data": {
      "text/plain": "  0%|          | 0/10231 [00:00<?, ?it/s]",
      "application/vnd.jupyter.widget-view+json": {
       "version_major": 2,
       "version_minor": 0,
       "model_id": "f790d3bc0377496ab5bc04deb9848b3b"
      },
      "application/json": {
       "n": 0,
       "total": 10231,
       "elapsed": 0.015624761581420898,
       "ncols": null,
       "nrows": null,
       "prefix": "",
       "ascii": false,
       "unit": "it",
       "unit_scale": false,
       "rate": null,
       "bar_format": null,
       "postfix": null,
       "unit_divisor": 1000,
       "initial": 0,
       "colour": null
      }
     },
     "metadata": {},
     "output_type": "display_data"
    },
    {
     "name": "stdout",
     "output_type": "stream",
     "text": [
      "Total time: 5.48s (training model: 0.25s, training explainer: 1.67s, experiment: 3.56s)\n",
      "Number of extracted samples: 0\n",
      "Number of accurate extracted samples: 0\n",
      "Precision: nan, recall: 0.0\n",
      "dataset: census categorical, model: decision tree (repetition 1)\n"
     ]
    },
    {
     "data": {
      "text/plain": "  0%|          | 0/10231 [00:00<?, ?it/s]",
      "application/vnd.jupyter.widget-view+json": {
       "version_major": 2,
       "version_minor": 0,
       "model_id": "5b319df3b4414d4f918d43946c18788f"
      },
      "application/json": {
       "n": 0,
       "total": 10231,
       "elapsed": 0.0,
       "ncols": null,
       "nrows": null,
       "prefix": "",
       "ascii": false,
       "unit": "it",
       "unit_scale": false,
       "rate": null,
       "bar_format": null,
       "postfix": null,
       "unit_divisor": 1000,
       "initial": 0,
       "colour": null
      }
     },
     "metadata": {},
     "output_type": "display_data"
    },
    {
     "name": "stdout",
     "output_type": "stream",
     "text": [
      "Total time: 5.50s (training model: 0.28s, training explainer: 1.61s, experiment: 3.61s)\n",
      "Number of extracted samples: 0\n",
      "Number of accurate extracted samples: 0\n",
      "Precision: nan, recall: 0.0\n",
      "dataset: census categorical, model: decision tree (repetition 2)\n"
     ]
    },
    {
     "data": {
      "text/plain": "  0%|          | 0/10231 [00:00<?, ?it/s]",
      "application/vnd.jupyter.widget-view+json": {
       "version_major": 2,
       "version_minor": 0,
       "model_id": "628574f8b43b4c62a4ce831bc66008a6"
      },
      "application/json": {
       "n": 0,
       "total": 10231,
       "elapsed": 0.0,
       "ncols": null,
       "nrows": null,
       "prefix": "",
       "ascii": false,
       "unit": "it",
       "unit_scale": false,
       "rate": null,
       "bar_format": null,
       "postfix": null,
       "unit_divisor": 1000,
       "initial": 0,
       "colour": null
      }
     },
     "metadata": {},
     "output_type": "display_data"
    },
    {
     "name": "stdout",
     "output_type": "stream",
     "text": [
      "Total time: 5.60s (training model: 0.27s, training explainer: 1.63s, experiment: 3.70s)\n",
      "Number of extracted samples: 0\n",
      "Number of accurate extracted samples: 0\n",
      "Precision: nan, recall: 0.0\n",
      "dataset: census categorical, model: decision tree (repetition 3)\n"
     ]
    },
    {
     "data": {
      "text/plain": "  0%|          | 0/10231 [00:00<?, ?it/s]",
      "application/vnd.jupyter.widget-view+json": {
       "version_major": 2,
       "version_minor": 0,
       "model_id": "b47a8980421c49ac8c71d7b64725ca2f"
      },
      "application/json": {
       "n": 0,
       "total": 10231,
       "elapsed": 0.0,
       "ncols": null,
       "nrows": null,
       "prefix": "",
       "ascii": false,
       "unit": "it",
       "unit_scale": false,
       "rate": null,
       "bar_format": null,
       "postfix": null,
       "unit_divisor": 1000,
       "initial": 0,
       "colour": null
      }
     },
     "metadata": {},
     "output_type": "display_data"
    },
    {
     "name": "stdout",
     "output_type": "stream",
     "text": [
      "Total time: 5.49s (training model: 0.27s, training explainer: 1.63s, experiment: 3.59s)\n",
      "Number of extracted samples: 0\n",
      "Number of accurate extracted samples: 0\n",
      "Precision: nan, recall: 0.0\n",
      "dataset: census categorical, model: decision tree (repetition 4)\n"
     ]
    },
    {
     "data": {
      "text/plain": "  0%|          | 0/10231 [00:00<?, ?it/s]",
      "application/vnd.jupyter.widget-view+json": {
       "version_major": 2,
       "version_minor": 0,
       "model_id": "d03a56b197fb445fa7632ec67458d08c"
      },
      "application/json": {
       "n": 0,
       "total": 10231,
       "elapsed": 0.0,
       "ncols": null,
       "nrows": null,
       "prefix": "",
       "ascii": false,
       "unit": "it",
       "unit_scale": false,
       "rate": null,
       "bar_format": null,
       "postfix": null,
       "unit_divisor": 1000,
       "initial": 0,
       "colour": null
      }
     },
     "metadata": {},
     "output_type": "display_data"
    },
    {
     "name": "stdout",
     "output_type": "stream",
     "text": [
      "Total time: 5.43s (training model: 0.27s, training explainer: 1.67s, experiment: 3.49s)\n",
      "Number of extracted samples: 0\n",
      "Number of accurate extracted samples: 0\n",
      "Precision: nan, recall: 0.0\n",
      "dataset: census categorical, model: decision tree (repetition 5)\n"
     ]
    },
    {
     "data": {
      "text/plain": "  0%|          | 0/10231 [00:00<?, ?it/s]",
      "application/vnd.jupyter.widget-view+json": {
       "version_major": 2,
       "version_minor": 0,
       "model_id": "cfef8ee067814bbb8226e476fcd71d0e"
      },
      "application/json": {
       "n": 0,
       "total": 10231,
       "elapsed": 0.015625,
       "ncols": null,
       "nrows": null,
       "prefix": "",
       "ascii": false,
       "unit": "it",
       "unit_scale": false,
       "rate": null,
       "bar_format": null,
       "postfix": null,
       "unit_divisor": 1000,
       "initial": 0,
       "colour": null
      }
     },
     "metadata": {},
     "output_type": "display_data"
    },
    {
     "name": "stdout",
     "output_type": "stream",
     "text": [
      "Total time: 5.67s (training model: 0.28s, training explainer: 1.69s, experiment: 3.70s)\n",
      "Number of extracted samples: 0\n",
      "Number of accurate extracted samples: 0\n",
      "Precision: nan, recall: 0.0\n",
      "dataset: census categorical, model: decision tree (repetition 6)\n"
     ]
    },
    {
     "data": {
      "text/plain": "  0%|          | 0/10231 [00:00<?, ?it/s]",
      "application/vnd.jupyter.widget-view+json": {
       "version_major": 2,
       "version_minor": 0,
       "model_id": "ff8b6991edc04dc0b42110ce6dd5b898"
      },
      "application/json": {
       "n": 0,
       "total": 10231,
       "elapsed": 0.0,
       "ncols": null,
       "nrows": null,
       "prefix": "",
       "ascii": false,
       "unit": "it",
       "unit_scale": false,
       "rate": null,
       "bar_format": null,
       "postfix": null,
       "unit_divisor": 1000,
       "initial": 0,
       "colour": null
      }
     },
     "metadata": {},
     "output_type": "display_data"
    },
    {
     "name": "stdout",
     "output_type": "stream",
     "text": [
      "Total time: 5.49s (training model: 0.25s, training explainer: 1.61s, experiment: 3.63s)\n",
      "Number of extracted samples: 0\n",
      "Number of accurate extracted samples: 0\n",
      "Precision: nan, recall: 0.0\n",
      "dataset: census categorical, model: decision tree (repetition 7)\n"
     ]
    },
    {
     "data": {
      "text/plain": "  0%|          | 0/10231 [00:00<?, ?it/s]",
      "application/vnd.jupyter.widget-view+json": {
       "version_major": 2,
       "version_minor": 0,
       "model_id": "2f1ef4a96df249f0ae81266b0022e15e"
      },
      "application/json": {
       "n": 0,
       "total": 10231,
       "elapsed": 0.015624761581420898,
       "ncols": null,
       "nrows": null,
       "prefix": "",
       "ascii": false,
       "unit": "it",
       "unit_scale": false,
       "rate": null,
       "bar_format": null,
       "postfix": null,
       "unit_divisor": 1000,
       "initial": 0,
       "colour": null
      }
     },
     "metadata": {},
     "output_type": "display_data"
    },
    {
     "name": "stdout",
     "output_type": "stream",
     "text": [
      "Total time: 5.55s (training model: 0.26s, training explainer: 1.70s, experiment: 3.59s)\n",
      "Number of extracted samples: 0\n",
      "Number of accurate extracted samples: 0\n",
      "Precision: nan, recall: 0.0\n",
      "dataset: census categorical, model: decision tree (repetition 8)\n"
     ]
    },
    {
     "data": {
      "text/plain": "  0%|          | 0/10231 [00:00<?, ?it/s]",
      "application/vnd.jupyter.widget-view+json": {
       "version_major": 2,
       "version_minor": 0,
       "model_id": "9536e707aeab47e0bb300f9331574f3a"
      },
      "application/json": {
       "n": 0,
       "total": 10231,
       "elapsed": 0.0,
       "ncols": null,
       "nrows": null,
       "prefix": "",
       "ascii": false,
       "unit": "it",
       "unit_scale": false,
       "rate": null,
       "bar_format": null,
       "postfix": null,
       "unit_divisor": 1000,
       "initial": 0,
       "colour": null
      }
     },
     "metadata": {},
     "output_type": "display_data"
    },
    {
     "name": "stdout",
     "output_type": "stream",
     "text": [
      "Total time: 5.50s (training model: 0.27s, training explainer: 1.64s, experiment: 3.59s)\n",
      "Number of extracted samples: 0\n",
      "Number of accurate extracted samples: 0\n",
      "Precision: nan, recall: 0.0\n",
      "dataset: census categorical, model: decision tree (repetition 9)\n"
     ]
    },
    {
     "data": {
      "text/plain": "  0%|          | 0/10231 [00:00<?, ?it/s]",
      "application/vnd.jupyter.widget-view+json": {
       "version_major": 2,
       "version_minor": 0,
       "model_id": "71f9115f7d58497cb6b7de6362708a2e"
      },
      "application/json": {
       "n": 0,
       "total": 10231,
       "elapsed": 0.015644311904907227,
       "ncols": null,
       "nrows": null,
       "prefix": "",
       "ascii": false,
       "unit": "it",
       "unit_scale": false,
       "rate": null,
       "bar_format": null,
       "postfix": null,
       "unit_divisor": 1000,
       "initial": 0,
       "colour": null
      }
     },
     "metadata": {},
     "output_type": "display_data"
    },
    {
     "name": "stdout",
     "output_type": "stream",
     "text": [
      "Total time: 5.52s (training model: 0.26s, training explainer: 1.67s, experiment: 3.59s)\n",
      "Number of extracted samples: 0\n",
      "Number of accurate extracted samples: 0\n",
      "Precision: nan, recall: 0.0\n",
      "dataset: census categorical, model: random forest (repetition 0)\n"
     ]
    },
    {
     "name": "stderr",
     "output_type": "stream",
     "text": [
      "c:\\users\\ml_ks\\venvs\\xai_new\\lib\\site-packages\\sklearn\\ensemble\\_forest.py:427: FutureWarning: `max_features='auto'` has been deprecated in 1.1 and will be removed in 1.3. To keep the past behaviour, explicitly set `max_features='sqrt'` or remove this parameter as it is also the default value for RandomForestClassifiers and ExtraTreesClassifiers.\n",
      "  warn(\n"
     ]
    },
    {
     "data": {
      "text/plain": "  0%|          | 0/10231 [00:00<?, ?it/s]",
      "application/vnd.jupyter.widget-view+json": {
       "version_major": 2,
       "version_minor": 0,
       "model_id": "8f7bf756e55046c684166a319772d04f"
      },
      "application/json": {
       "n": 0,
       "total": 10231,
       "elapsed": 0.015625,
       "ncols": null,
       "nrows": null,
       "prefix": "",
       "ascii": false,
       "unit": "it",
       "unit_scale": false,
       "rate": null,
       "bar_format": null,
       "postfix": null,
       "unit_divisor": 1000,
       "initial": 0,
       "colour": null
      }
     },
     "metadata": {},
     "output_type": "display_data"
    },
    {
     "name": "stdout",
     "output_type": "stream",
     "text": [
      "Total time: 33.18s (training model: 4.71s, training explainer: 22.85s, experiment: 5.62s)\n",
      "Number of extracted samples: 1029\n",
      "Number of accurate extracted samples: 1029\n",
      "Precision: 1.0, recall: 0.1005766787215326\n",
      "dataset: census categorical, model: random forest (repetition 1)\n"
     ]
    },
    {
     "name": "stderr",
     "output_type": "stream",
     "text": [
      "c:\\users\\ml_ks\\venvs\\xai_new\\lib\\site-packages\\sklearn\\ensemble\\_forest.py:427: FutureWarning: `max_features='auto'` has been deprecated in 1.1 and will be removed in 1.3. To keep the past behaviour, explicitly set `max_features='sqrt'` or remove this parameter as it is also the default value for RandomForestClassifiers and ExtraTreesClassifiers.\n",
      "  warn(\n"
     ]
    },
    {
     "data": {
      "text/plain": "  0%|          | 0/10231 [00:00<?, ?it/s]",
      "application/vnd.jupyter.widget-view+json": {
       "version_major": 2,
       "version_minor": 0,
       "model_id": "70b7008c3ffd48c38c3e673b557f1e4f"
      },
      "application/json": {
       "n": 0,
       "total": 10231,
       "elapsed": 0.0,
       "ncols": null,
       "nrows": null,
       "prefix": "",
       "ascii": false,
       "unit": "it",
       "unit_scale": false,
       "rate": null,
       "bar_format": null,
       "postfix": null,
       "unit_divisor": 1000,
       "initial": 0,
       "colour": null
      }
     },
     "metadata": {},
     "output_type": "display_data"
    },
    {
     "name": "stdout",
     "output_type": "stream",
     "text": [
      "Total time: 32.87s (training model: 4.67s, training explainer: 22.80s, experiment: 5.40s)\n",
      "Number of extracted samples: 987\n",
      "Number of accurate extracted samples: 987\n",
      "Precision: 1.0, recall: 0.09647150816147004\n",
      "dataset: census categorical, model: random forest (repetition 2)\n"
     ]
    },
    {
     "name": "stderr",
     "output_type": "stream",
     "text": [
      "c:\\users\\ml_ks\\venvs\\xai_new\\lib\\site-packages\\sklearn\\ensemble\\_forest.py:427: FutureWarning: `max_features='auto'` has been deprecated in 1.1 and will be removed in 1.3. To keep the past behaviour, explicitly set `max_features='sqrt'` or remove this parameter as it is also the default value for RandomForestClassifiers and ExtraTreesClassifiers.\n",
      "  warn(\n"
     ]
    },
    {
     "data": {
      "text/plain": "  0%|          | 0/10231 [00:00<?, ?it/s]",
      "application/vnd.jupyter.widget-view+json": {
       "version_major": 2,
       "version_minor": 0,
       "model_id": "e2e7ceb389654f9ba12cd4820ecbdfab"
      },
      "application/json": {
       "n": 0,
       "total": 10231,
       "elapsed": 0.0,
       "ncols": null,
       "nrows": null,
       "prefix": "",
       "ascii": false,
       "unit": "it",
       "unit_scale": false,
       "rate": null,
       "bar_format": null,
       "postfix": null,
       "unit_divisor": 1000,
       "initial": 0,
       "colour": null
      }
     },
     "metadata": {},
     "output_type": "display_data"
    },
    {
     "name": "stdout",
     "output_type": "stream",
     "text": [
      "Total time: 32.93s (training model: 4.74s, training explainer: 22.87s, experiment: 5.33s)\n",
      "Number of extracted samples: 990\n",
      "Number of accurate extracted samples: 990\n",
      "Precision: 1.0, recall: 0.09676473463004594\n",
      "dataset: census categorical, model: random forest (repetition 3)\n"
     ]
    },
    {
     "name": "stderr",
     "output_type": "stream",
     "text": [
      "c:\\users\\ml_ks\\venvs\\xai_new\\lib\\site-packages\\sklearn\\ensemble\\_forest.py:427: FutureWarning: `max_features='auto'` has been deprecated in 1.1 and will be removed in 1.3. To keep the past behaviour, explicitly set `max_features='sqrt'` or remove this parameter as it is also the default value for RandomForestClassifiers and ExtraTreesClassifiers.\n",
      "  warn(\n"
     ]
    },
    {
     "data": {
      "text/plain": "  0%|          | 0/10231 [00:00<?, ?it/s]",
      "application/vnd.jupyter.widget-view+json": {
       "version_major": 2,
       "version_minor": 0,
       "model_id": "47cdc3696e304db791f0e43641637dc3"
      },
      "application/json": {
       "n": 0,
       "total": 10231,
       "elapsed": 0.0,
       "ncols": null,
       "nrows": null,
       "prefix": "",
       "ascii": false,
       "unit": "it",
       "unit_scale": false,
       "rate": null,
       "bar_format": null,
       "postfix": null,
       "unit_divisor": 1000,
       "initial": 0,
       "colour": null
      }
     },
     "metadata": {},
     "output_type": "display_data"
    },
    {
     "name": "stdout",
     "output_type": "stream",
     "text": [
      "Total time: 32.97s (training model: 4.66s, training explainer: 22.74s, experiment: 5.56s)\n",
      "Number of extracted samples: 1046\n",
      "Number of accurate extracted samples: 1046\n",
      "Precision: 1.0, recall: 0.10223829537679602\n",
      "dataset: census categorical, model: random forest (repetition 4)\n"
     ]
    },
    {
     "name": "stderr",
     "output_type": "stream",
     "text": [
      "c:\\users\\ml_ks\\venvs\\xai_new\\lib\\site-packages\\sklearn\\ensemble\\_forest.py:427: FutureWarning: `max_features='auto'` has been deprecated in 1.1 and will be removed in 1.3. To keep the past behaviour, explicitly set `max_features='sqrt'` or remove this parameter as it is also the default value for RandomForestClassifiers and ExtraTreesClassifiers.\n",
      "  warn(\n"
     ]
    },
    {
     "data": {
      "text/plain": "  0%|          | 0/10231 [00:00<?, ?it/s]",
      "application/vnd.jupyter.widget-view+json": {
       "version_major": 2,
       "version_minor": 0,
       "model_id": "03799281115243db988cd671e8cca74a"
      },
      "application/json": {
       "n": 0,
       "total": 10231,
       "elapsed": 0.0,
       "ncols": null,
       "nrows": null,
       "prefix": "",
       "ascii": false,
       "unit": "it",
       "unit_scale": false,
       "rate": null,
       "bar_format": null,
       "postfix": null,
       "unit_divisor": 1000,
       "initial": 0,
       "colour": null
      }
     },
     "metadata": {},
     "output_type": "display_data"
    },
    {
     "name": "stdout",
     "output_type": "stream",
     "text": [
      "Total time: 32.88s (training model: 4.68s, training explainer: 22.80s, experiment: 5.40s)\n",
      "Number of extracted samples: 1046\n",
      "Number of accurate extracted samples: 1046\n",
      "Precision: 1.0, recall: 0.10223829537679602\n",
      "dataset: census categorical, model: random forest (repetition 5)\n"
     ]
    },
    {
     "name": "stderr",
     "output_type": "stream",
     "text": [
      "c:\\users\\ml_ks\\venvs\\xai_new\\lib\\site-packages\\sklearn\\ensemble\\_forest.py:427: FutureWarning: `max_features='auto'` has been deprecated in 1.1 and will be removed in 1.3. To keep the past behaviour, explicitly set `max_features='sqrt'` or remove this parameter as it is also the default value for RandomForestClassifiers and ExtraTreesClassifiers.\n",
      "  warn(\n"
     ]
    },
    {
     "data": {
      "text/plain": "  0%|          | 0/10231 [00:00<?, ?it/s]",
      "application/vnd.jupyter.widget-view+json": {
       "version_major": 2,
       "version_minor": 0,
       "model_id": "8a3879c12c984aa78309a31fba188e69"
      },
      "application/json": {
       "n": 0,
       "total": 10231,
       "elapsed": 0.0,
       "ncols": null,
       "nrows": null,
       "prefix": "",
       "ascii": false,
       "unit": "it",
       "unit_scale": false,
       "rate": null,
       "bar_format": null,
       "postfix": null,
       "unit_divisor": 1000,
       "initial": 0,
       "colour": null
      }
     },
     "metadata": {},
     "output_type": "display_data"
    },
    {
     "name": "stdout",
     "output_type": "stream",
     "text": [
      "Total time: 33.40s (training model: 4.68s, training explainer: 23.22s, experiment: 5.50s)\n",
      "Number of extracted samples: 1030\n",
      "Number of accurate extracted samples: 1030\n",
      "Precision: 1.0, recall: 0.10067442087772456\n",
      "dataset: census categorical, model: random forest (repetition 6)\n"
     ]
    },
    {
     "name": "stderr",
     "output_type": "stream",
     "text": [
      "c:\\users\\ml_ks\\venvs\\xai_new\\lib\\site-packages\\sklearn\\ensemble\\_forest.py:427: FutureWarning: `max_features='auto'` has been deprecated in 1.1 and will be removed in 1.3. To keep the past behaviour, explicitly set `max_features='sqrt'` or remove this parameter as it is also the default value for RandomForestClassifiers and ExtraTreesClassifiers.\n",
      "  warn(\n"
     ]
    },
    {
     "data": {
      "text/plain": "  0%|          | 0/10231 [00:00<?, ?it/s]",
      "application/vnd.jupyter.widget-view+json": {
       "version_major": 2,
       "version_minor": 0,
       "model_id": "9b6c334a160a4c6685208a3b16d0ca69"
      },
      "application/json": {
       "n": 0,
       "total": 10231,
       "elapsed": 0.0,
       "ncols": null,
       "nrows": null,
       "prefix": "",
       "ascii": false,
       "unit": "it",
       "unit_scale": false,
       "rate": null,
       "bar_format": null,
       "postfix": null,
       "unit_divisor": 1000,
       "initial": 0,
       "colour": null
      }
     },
     "metadata": {},
     "output_type": "display_data"
    },
    {
     "name": "stdout",
     "output_type": "stream",
     "text": [
      "Total time: 33.53s (training model: 4.69s, training explainer: 23.43s, experiment: 5.41s)\n",
      "Number of extracted samples: 1036\n",
      "Number of accurate extracted samples: 1036\n",
      "Precision: 1.0, recall: 0.10126087381487636\n",
      "dataset: census categorical, model: random forest (repetition 7)\n"
     ]
    },
    {
     "name": "stderr",
     "output_type": "stream",
     "text": [
      "c:\\users\\ml_ks\\venvs\\xai_new\\lib\\site-packages\\sklearn\\ensemble\\_forest.py:427: FutureWarning: `max_features='auto'` has been deprecated in 1.1 and will be removed in 1.3. To keep the past behaviour, explicitly set `max_features='sqrt'` or remove this parameter as it is also the default value for RandomForestClassifiers and ExtraTreesClassifiers.\n",
      "  warn(\n"
     ]
    },
    {
     "data": {
      "text/plain": "  0%|          | 0/10231 [00:00<?, ?it/s]",
      "application/vnd.jupyter.widget-view+json": {
       "version_major": 2,
       "version_minor": 0,
       "model_id": "0346892b6c834f70a91a1876ef09f917"
      },
      "application/json": {
       "n": 0,
       "total": 10231,
       "elapsed": 0.015645503997802734,
       "ncols": null,
       "nrows": null,
       "prefix": "",
       "ascii": false,
       "unit": "it",
       "unit_scale": false,
       "rate": null,
       "bar_format": null,
       "postfix": null,
       "unit_divisor": 1000,
       "initial": 0,
       "colour": null
      }
     },
     "metadata": {},
     "output_type": "display_data"
    },
    {
     "name": "stdout",
     "output_type": "stream",
     "text": [
      "Total time: 33.25s (training model: 4.83s, training explainer: 22.95s, experiment: 5.47s)\n",
      "Number of extracted samples: 1043\n",
      "Number of accurate extracted samples: 1043\n",
      "Precision: 1.0, recall: 0.10194506890822011\n",
      "dataset: census categorical, model: random forest (repetition 8)\n"
     ]
    },
    {
     "name": "stderr",
     "output_type": "stream",
     "text": [
      "c:\\users\\ml_ks\\venvs\\xai_new\\lib\\site-packages\\sklearn\\ensemble\\_forest.py:427: FutureWarning: `max_features='auto'` has been deprecated in 1.1 and will be removed in 1.3. To keep the past behaviour, explicitly set `max_features='sqrt'` or remove this parameter as it is also the default value for RandomForestClassifiers and ExtraTreesClassifiers.\n",
      "  warn(\n"
     ]
    },
    {
     "data": {
      "text/plain": "  0%|          | 0/10231 [00:00<?, ?it/s]",
      "application/vnd.jupyter.widget-view+json": {
       "version_major": 2,
       "version_minor": 0,
       "model_id": "070ec4824ae74371b412068619ee6c06"
      },
      "application/json": {
       "n": 0,
       "total": 10231,
       "elapsed": 0.0,
       "ncols": null,
       "nrows": null,
       "prefix": "",
       "ascii": false,
       "unit": "it",
       "unit_scale": false,
       "rate": null,
       "bar_format": null,
       "postfix": null,
       "unit_divisor": 1000,
       "initial": 0,
       "colour": null
      }
     },
     "metadata": {},
     "output_type": "display_data"
    },
    {
     "name": "stdout",
     "output_type": "stream",
     "text": [
      "Total time: 33.05s (training model: 4.66s, training explainer: 22.91s, experiment: 5.48s)\n",
      "Number of extracted samples: 977\n",
      "Number of accurate extracted samples: 977\n",
      "Precision: 1.0, recall: 0.09549408659955039\n",
      "dataset: census categorical, model: random forest (repetition 9)\n"
     ]
    },
    {
     "name": "stderr",
     "output_type": "stream",
     "text": [
      "c:\\users\\ml_ks\\venvs\\xai_new\\lib\\site-packages\\sklearn\\ensemble\\_forest.py:427: FutureWarning: `max_features='auto'` has been deprecated in 1.1 and will be removed in 1.3. To keep the past behaviour, explicitly set `max_features='sqrt'` or remove this parameter as it is also the default value for RandomForestClassifiers and ExtraTreesClassifiers.\n",
      "  warn(\n"
     ]
    },
    {
     "data": {
      "text/plain": "  0%|          | 0/10231 [00:00<?, ?it/s]",
      "application/vnd.jupyter.widget-view+json": {
       "version_major": 2,
       "version_minor": 0,
       "model_id": "052caac6dabe4d109ac4dcbc243b9be3"
      },
      "application/json": {
       "n": 0,
       "total": 10231,
       "elapsed": 0.0,
       "ncols": null,
       "nrows": null,
       "prefix": "",
       "ascii": false,
       "unit": "it",
       "unit_scale": false,
       "rate": null,
       "bar_format": null,
       "postfix": null,
       "unit_divisor": 1000,
       "initial": 0,
       "colour": null
      }
     },
     "metadata": {},
     "output_type": "display_data"
    },
    {
     "name": "stdout",
     "output_type": "stream",
     "text": [
      "Total time: 33.06s (training model: 4.68s, training explainer: 22.87s, experiment: 5.51s)\n",
      "Number of extracted samples: 1012\n",
      "Number of accurate extracted samples: 1012\n",
      "Precision: 1.0, recall: 0.09891506206626918\n",
      "dataset: census categorical, model: neural network (repetition 0)\n"
     ]
    },
    {
     "name": "stderr",
     "output_type": "stream",
     "text": [
      "c:\\users\\ml_ks\\venvs\\xai_new\\lib\\site-packages\\sklearn\\neural_network\\_multilayer_perceptron.py:702: ConvergenceWarning: Stochastic Optimizer: Maximum iterations (200) reached and the optimization hasn't converged yet.\n",
      "  warnings.warn(\n"
     ]
    },
    {
     "data": {
      "text/plain": "  0%|          | 0/10231 [00:00<?, ?it/s]",
      "application/vnd.jupyter.widget-view+json": {
       "version_major": 2,
       "version_minor": 0,
       "model_id": "ef04d495aee24e3f9ce0debfd87decaf"
      },
      "application/json": {
       "n": 0,
       "total": 10231,
       "elapsed": 0.0,
       "ncols": null,
       "nrows": null,
       "prefix": "",
       "ascii": false,
       "unit": "it",
       "unit_scale": false,
       "rate": null,
       "bar_format": null,
       "postfix": null,
       "unit_divisor": 1000,
       "initial": 0,
       "colour": null
      }
     },
     "metadata": {},
     "output_type": "display_data"
    },
    {
     "name": "stdout",
     "output_type": "stream",
     "text": [
      "Total time: 46.35s (training model: 23.05s, training explainer: 3.71s, experiment: 19.59s)\n",
      "Number of extracted samples: 10231\n",
      "Number of accurate extracted samples: 10231\n",
      "Precision: 1.0, recall: 1.0\n",
      "dataset: census categorical, model: neural network (repetition 1)\n"
     ]
    },
    {
     "name": "stderr",
     "output_type": "stream",
     "text": [
      "c:\\users\\ml_ks\\venvs\\xai_new\\lib\\site-packages\\sklearn\\neural_network\\_multilayer_perceptron.py:702: ConvergenceWarning: Stochastic Optimizer: Maximum iterations (200) reached and the optimization hasn't converged yet.\n",
      "  warnings.warn(\n"
     ]
    },
    {
     "data": {
      "text/plain": "  0%|          | 0/10231 [00:00<?, ?it/s]",
      "application/vnd.jupyter.widget-view+json": {
       "version_major": 2,
       "version_minor": 0,
       "model_id": "abdd576b86734178ade87b980e7a6de1"
      },
      "application/json": {
       "n": 0,
       "total": 10231,
       "elapsed": 0.0,
       "ncols": null,
       "nrows": null,
       "prefix": "",
       "ascii": false,
       "unit": "it",
       "unit_scale": false,
       "rate": null,
       "bar_format": null,
       "postfix": null,
       "unit_divisor": 1000,
       "initial": 0,
       "colour": null
      }
     },
     "metadata": {},
     "output_type": "display_data"
    },
    {
     "name": "stdout",
     "output_type": "stream",
     "text": [
      "Total time: 46.63s (training model: 23.36s, training explainer: 3.68s, experiment: 19.59s)\n",
      "Number of extracted samples: 10231\n",
      "Number of accurate extracted samples: 10231\n",
      "Precision: 1.0, recall: 1.0\n",
      "dataset: census categorical, model: neural network (repetition 2)\n"
     ]
    },
    {
     "name": "stderr",
     "output_type": "stream",
     "text": [
      "c:\\users\\ml_ks\\venvs\\xai_new\\lib\\site-packages\\sklearn\\neural_network\\_multilayer_perceptron.py:702: ConvergenceWarning: Stochastic Optimizer: Maximum iterations (200) reached and the optimization hasn't converged yet.\n",
      "  warnings.warn(\n"
     ]
    },
    {
     "data": {
      "text/plain": "  0%|          | 0/10231 [00:00<?, ?it/s]",
      "application/vnd.jupyter.widget-view+json": {
       "version_major": 2,
       "version_minor": 0,
       "model_id": "dff66cdc59394a1da7547d1bbf79b2fa"
      },
      "application/json": {
       "n": 0,
       "total": 10231,
       "elapsed": 0.0,
       "ncols": null,
       "nrows": null,
       "prefix": "",
       "ascii": false,
       "unit": "it",
       "unit_scale": false,
       "rate": null,
       "bar_format": null,
       "postfix": null,
       "unit_divisor": 1000,
       "initial": 0,
       "colour": null
      }
     },
     "metadata": {},
     "output_type": "display_data"
    },
    {
     "name": "stdout",
     "output_type": "stream",
     "text": [
      "Total time: 46.86s (training model: 23.29s, training explainer: 3.66s, experiment: 19.91s)\n",
      "Number of extracted samples: 10231\n",
      "Number of accurate extracted samples: 10231\n",
      "Precision: 1.0, recall: 1.0\n",
      "dataset: census categorical, model: neural network (repetition 3)\n"
     ]
    },
    {
     "name": "stderr",
     "output_type": "stream",
     "text": [
      "c:\\users\\ml_ks\\venvs\\xai_new\\lib\\site-packages\\sklearn\\neural_network\\_multilayer_perceptron.py:702: ConvergenceWarning: Stochastic Optimizer: Maximum iterations (200) reached and the optimization hasn't converged yet.\n",
      "  warnings.warn(\n"
     ]
    },
    {
     "data": {
      "text/plain": "  0%|          | 0/10231 [00:00<?, ?it/s]",
      "application/vnd.jupyter.widget-view+json": {
       "version_major": 2,
       "version_minor": 0,
       "model_id": "8d6196dd07f44b12abe0c44dd76635d0"
      },
      "application/json": {
       "n": 0,
       "total": 10231,
       "elapsed": 0.0,
       "ncols": null,
       "nrows": null,
       "prefix": "",
       "ascii": false,
       "unit": "it",
       "unit_scale": false,
       "rate": null,
       "bar_format": null,
       "postfix": null,
       "unit_divisor": 1000,
       "initial": 0,
       "colour": null
      }
     },
     "metadata": {},
     "output_type": "display_data"
    },
    {
     "name": "stdout",
     "output_type": "stream",
     "text": [
      "Total time: 46.75s (training model: 23.21s, training explainer: 3.72s, experiment: 19.81s)\n",
      "Number of extracted samples: 10231\n",
      "Number of accurate extracted samples: 10231\n",
      "Precision: 1.0, recall: 1.0\n",
      "dataset: census categorical, model: neural network (repetition 4)\n"
     ]
    },
    {
     "name": "stderr",
     "output_type": "stream",
     "text": [
      "c:\\users\\ml_ks\\venvs\\xai_new\\lib\\site-packages\\sklearn\\neural_network\\_multilayer_perceptron.py:702: ConvergenceWarning: Stochastic Optimizer: Maximum iterations (200) reached and the optimization hasn't converged yet.\n",
      "  warnings.warn(\n"
     ]
    },
    {
     "data": {
      "text/plain": "  0%|          | 0/10231 [00:00<?, ?it/s]",
      "application/vnd.jupyter.widget-view+json": {
       "version_major": 2,
       "version_minor": 0,
       "model_id": "fb241516d612415fab8e5e07d7fb85f6"
      },
      "application/json": {
       "n": 0,
       "total": 10231,
       "elapsed": 0.0,
       "ncols": null,
       "nrows": null,
       "prefix": "",
       "ascii": false,
       "unit": "it",
       "unit_scale": false,
       "rate": null,
       "bar_format": null,
       "postfix": null,
       "unit_divisor": 1000,
       "initial": 0,
       "colour": null
      }
     },
     "metadata": {},
     "output_type": "display_data"
    },
    {
     "name": "stdout",
     "output_type": "stream",
     "text": [
      "Total time: 46.62s (training model: 23.19s, training explainer: 3.71s, experiment: 19.72s)\n",
      "Number of extracted samples: 10231\n",
      "Number of accurate extracted samples: 10231\n",
      "Precision: 1.0, recall: 1.0\n",
      "dataset: census categorical, model: neural network (repetition 5)\n"
     ]
    },
    {
     "name": "stderr",
     "output_type": "stream",
     "text": [
      "c:\\users\\ml_ks\\venvs\\xai_new\\lib\\site-packages\\sklearn\\neural_network\\_multilayer_perceptron.py:702: ConvergenceWarning: Stochastic Optimizer: Maximum iterations (200) reached and the optimization hasn't converged yet.\n",
      "  warnings.warn(\n"
     ]
    },
    {
     "data": {
      "text/plain": "  0%|          | 0/10231 [00:00<?, ?it/s]",
      "application/vnd.jupyter.widget-view+json": {
       "version_major": 2,
       "version_minor": 0,
       "model_id": "8c7e0507be4540d991d7989384ab5dcc"
      },
      "application/json": {
       "n": 0,
       "total": 10231,
       "elapsed": 0.015297889709472656,
       "ncols": null,
       "nrows": null,
       "prefix": "",
       "ascii": false,
       "unit": "it",
       "unit_scale": false,
       "rate": null,
       "bar_format": null,
       "postfix": null,
       "unit_divisor": 1000,
       "initial": 0,
       "colour": null
      }
     },
     "metadata": {},
     "output_type": "display_data"
    },
    {
     "name": "stdout",
     "output_type": "stream",
     "text": [
      "Total time: 48.04s (training model: 24.75s, training explainer: 3.74s, experiment: 19.55s)\n",
      "Number of extracted samples: 10231\n",
      "Number of accurate extracted samples: 10231\n",
      "Precision: 1.0, recall: 1.0\n",
      "dataset: census categorical, model: neural network (repetition 6)\n"
     ]
    },
    {
     "name": "stderr",
     "output_type": "stream",
     "text": [
      "c:\\users\\ml_ks\\venvs\\xai_new\\lib\\site-packages\\sklearn\\neural_network\\_multilayer_perceptron.py:702: ConvergenceWarning: Stochastic Optimizer: Maximum iterations (200) reached and the optimization hasn't converged yet.\n",
      "  warnings.warn(\n"
     ]
    },
    {
     "data": {
      "text/plain": "  0%|          | 0/10231 [00:00<?, ?it/s]",
      "application/vnd.jupyter.widget-view+json": {
       "version_major": 2,
       "version_minor": 0,
       "model_id": "b2dbcac816c943609f72fc869517c237"
      },
      "application/json": {
       "n": 0,
       "total": 10231,
       "elapsed": 0.01573038101196289,
       "ncols": null,
       "nrows": null,
       "prefix": "",
       "ascii": false,
       "unit": "it",
       "unit_scale": false,
       "rate": null,
       "bar_format": null,
       "postfix": null,
       "unit_divisor": 1000,
       "initial": 0,
       "colour": null
      }
     },
     "metadata": {},
     "output_type": "display_data"
    },
    {
     "name": "stdout",
     "output_type": "stream",
     "text": [
      "Total time: 46.47s (training model: 23.17s, training explainer: 3.63s, experiment: 19.67s)\n",
      "Number of extracted samples: 10231\n",
      "Number of accurate extracted samples: 10231\n",
      "Precision: 1.0, recall: 1.0\n",
      "dataset: census categorical, model: neural network (repetition 7)\n"
     ]
    },
    {
     "name": "stderr",
     "output_type": "stream",
     "text": [
      "c:\\users\\ml_ks\\venvs\\xai_new\\lib\\site-packages\\sklearn\\neural_network\\_multilayer_perceptron.py:702: ConvergenceWarning: Stochastic Optimizer: Maximum iterations (200) reached and the optimization hasn't converged yet.\n",
      "  warnings.warn(\n"
     ]
    },
    {
     "data": {
      "text/plain": "  0%|          | 0/10231 [00:00<?, ?it/s]",
      "application/vnd.jupyter.widget-view+json": {
       "version_major": 2,
       "version_minor": 0,
       "model_id": "c78cc99cc40e469a806fc652c5f90b2f"
      },
      "application/json": {
       "n": 0,
       "total": 10231,
       "elapsed": 0.015406370162963867,
       "ncols": null,
       "nrows": null,
       "prefix": "",
       "ascii": false,
       "unit": "it",
       "unit_scale": false,
       "rate": null,
       "bar_format": null,
       "postfix": null,
       "unit_divisor": 1000,
       "initial": 0,
       "colour": null
      }
     },
     "metadata": {},
     "output_type": "display_data"
    },
    {
     "name": "stdout",
     "output_type": "stream",
     "text": [
      "Total time: 46.49s (training model: 23.20s, training explainer: 3.66s, experiment: 19.63s)\n",
      "Number of extracted samples: 10231\n",
      "Number of accurate extracted samples: 10231\n",
      "Precision: 1.0, recall: 1.0\n",
      "dataset: census categorical, model: neural network (repetition 8)\n"
     ]
    },
    {
     "name": "stderr",
     "output_type": "stream",
     "text": [
      "c:\\users\\ml_ks\\venvs\\xai_new\\lib\\site-packages\\sklearn\\neural_network\\_multilayer_perceptron.py:702: ConvergenceWarning: Stochastic Optimizer: Maximum iterations (200) reached and the optimization hasn't converged yet.\n",
      "  warnings.warn(\n"
     ]
    },
    {
     "data": {
      "text/plain": "  0%|          | 0/10231 [00:00<?, ?it/s]",
      "application/vnd.jupyter.widget-view+json": {
       "version_major": 2,
       "version_minor": 0,
       "model_id": "bbe24658b3b7468d83e6ed46cc30401d"
      },
      "application/json": {
       "n": 0,
       "total": 10231,
       "elapsed": 0.015641212463378906,
       "ncols": null,
       "nrows": null,
       "prefix": "",
       "ascii": false,
       "unit": "it",
       "unit_scale": false,
       "rate": null,
       "bar_format": null,
       "postfix": null,
       "unit_divisor": 1000,
       "initial": 0,
       "colour": null
      }
     },
     "metadata": {},
     "output_type": "display_data"
    },
    {
     "name": "stdout",
     "output_type": "stream",
     "text": [
      "Total time: 46.57s (training model: 23.25s, training explainer: 3.71s, experiment: 19.61s)\n",
      "Number of extracted samples: 10231\n",
      "Number of accurate extracted samples: 10231\n",
      "Precision: 1.0, recall: 1.0\n",
      "dataset: census categorical, model: neural network (repetition 9)\n"
     ]
    },
    {
     "name": "stderr",
     "output_type": "stream",
     "text": [
      "c:\\users\\ml_ks\\venvs\\xai_new\\lib\\site-packages\\sklearn\\neural_network\\_multilayer_perceptron.py:702: ConvergenceWarning: Stochastic Optimizer: Maximum iterations (200) reached and the optimization hasn't converged yet.\n",
      "  warnings.warn(\n"
     ]
    },
    {
     "data": {
      "text/plain": "  0%|          | 0/10231 [00:00<?, ?it/s]",
      "application/vnd.jupyter.widget-view+json": {
       "version_major": 2,
       "version_minor": 0,
       "model_id": "9efabbdc68b6402eae851f5658de1f50"
      },
      "application/json": {
       "n": 0,
       "total": 10231,
       "elapsed": 0.0,
       "ncols": null,
       "nrows": null,
       "prefix": "",
       "ascii": false,
       "unit": "it",
       "unit_scale": false,
       "rate": null,
       "bar_format": null,
       "postfix": null,
       "unit_divisor": 1000,
       "initial": 0,
       "colour": null
      }
     },
     "metadata": {},
     "output_type": "display_data"
    },
    {
     "name": "stdout",
     "output_type": "stream",
     "text": [
      "Total time: 46.56s (training model: 23.03s, training explainer: 3.71s, experiment: 19.83s)\n",
      "Number of extracted samples: 10231\n",
      "Number of accurate extracted samples: 10231\n",
      "Precision: 1.0, recall: 1.0\n"
     ]
    }
   ],
   "source": [
    "# This will run the experiment for each dataset and model combination\n",
    "\n",
    "results = run_all_experiments(ICETDE, dataset_dicts, model_dicts, random_state=0, num_queries=None, model_access=False, threads=1, is_mem_inf=False, repeat=10)"
   ]
  },
  {
   "cell_type": "markdown",
   "id": "771e68de",
   "metadata": {},
   "source": [
    "# Results\n",
    "\n",
    "The results of all variations of the training data extraction experiment with ICE. In each experiment, sample extraction was attempted for each sample in the training data.\n",
    "\n",
    "Precision measures the precentage of extracted samples that actually appear in the training data.\n",
    "\n",
    "Recall measures the percentage of training samples that were succesfully extracted by the attack."
   ]
  },
  {
   "cell_type": "code",
   "execution_count": 9,
   "id": "1efac983",
   "metadata": {
    "tags": []
   },
   "outputs": [
    {
     "data": {
      "text/plain": "                dataset           model  repetition  accuracy  precision  \\\n0                 heart   decision tree           0      -1.0        NaN   \n1                 heart   decision tree           1      -1.0        NaN   \n2                 heart   decision tree           2      -1.0        NaN   \n3                 heart   decision tree           3      -1.0        NaN   \n4                 heart   decision tree           4      -1.0        NaN   \n..                  ...             ...         ...       ...        ...   \n175  census categorical  neural network           5      -1.0        1.0   \n176  census categorical  neural network           6      -1.0        1.0   \n177  census categorical  neural network           7      -1.0        1.0   \n178  census categorical  neural network           8      -1.0        1.0   \n179  census categorical  neural network           9      -1.0        1.0   \n\n     recall  \n0       0.0  \n1       0.0  \n2       0.0  \n3       0.0  \n4       0.0  \n..      ...  \n175     1.0  \n176     1.0  \n177     1.0  \n178     1.0  \n179     1.0  \n\n[180 rows x 6 columns]",
      "text/html": "<div>\n<style scoped>\n    .dataframe tbody tr th:only-of-type {\n        vertical-align: middle;\n    }\n\n    .dataframe tbody tr th {\n        vertical-align: top;\n    }\n\n    .dataframe thead th {\n        text-align: right;\n    }\n</style>\n<table border=\"1\" class=\"dataframe\">\n  <thead>\n    <tr style=\"text-align: right;\">\n      <th></th>\n      <th>dataset</th>\n      <th>model</th>\n      <th>repetition</th>\n      <th>accuracy</th>\n      <th>precision</th>\n      <th>recall</th>\n    </tr>\n  </thead>\n  <tbody>\n    <tr>\n      <th>0</th>\n      <td>heart</td>\n      <td>decision tree</td>\n      <td>0</td>\n      <td>-1.0</td>\n      <td>NaN</td>\n      <td>0.0</td>\n    </tr>\n    <tr>\n      <th>1</th>\n      <td>heart</td>\n      <td>decision tree</td>\n      <td>1</td>\n      <td>-1.0</td>\n      <td>NaN</td>\n      <td>0.0</td>\n    </tr>\n    <tr>\n      <th>2</th>\n      <td>heart</td>\n      <td>decision tree</td>\n      <td>2</td>\n      <td>-1.0</td>\n      <td>NaN</td>\n      <td>0.0</td>\n    </tr>\n    <tr>\n      <th>3</th>\n      <td>heart</td>\n      <td>decision tree</td>\n      <td>3</td>\n      <td>-1.0</td>\n      <td>NaN</td>\n      <td>0.0</td>\n    </tr>\n    <tr>\n      <th>4</th>\n      <td>heart</td>\n      <td>decision tree</td>\n      <td>4</td>\n      <td>-1.0</td>\n      <td>NaN</td>\n      <td>0.0</td>\n    </tr>\n    <tr>\n      <th>...</th>\n      <td>...</td>\n      <td>...</td>\n      <td>...</td>\n      <td>...</td>\n      <td>...</td>\n      <td>...</td>\n    </tr>\n    <tr>\n      <th>175</th>\n      <td>census categorical</td>\n      <td>neural network</td>\n      <td>5</td>\n      <td>-1.0</td>\n      <td>1.0</td>\n      <td>1.0</td>\n    </tr>\n    <tr>\n      <th>176</th>\n      <td>census categorical</td>\n      <td>neural network</td>\n      <td>6</td>\n      <td>-1.0</td>\n      <td>1.0</td>\n      <td>1.0</td>\n    </tr>\n    <tr>\n      <th>177</th>\n      <td>census categorical</td>\n      <td>neural network</td>\n      <td>7</td>\n      <td>-1.0</td>\n      <td>1.0</td>\n      <td>1.0</td>\n    </tr>\n    <tr>\n      <th>178</th>\n      <td>census categorical</td>\n      <td>neural network</td>\n      <td>8</td>\n      <td>-1.0</td>\n      <td>1.0</td>\n      <td>1.0</td>\n    </tr>\n    <tr>\n      <th>179</th>\n      <td>census categorical</td>\n      <td>neural network</td>\n      <td>9</td>\n      <td>-1.0</td>\n      <td>1.0</td>\n      <td>1.0</td>\n    </tr>\n  </tbody>\n</table>\n<p>180 rows × 6 columns</p>\n</div>"
     },
     "execution_count": 9,
     "metadata": {},
     "output_type": "execute_result"
    }
   ],
   "source": [
    "results"
   ]
  },
  {
   "cell_type": "code",
   "execution_count": 10,
   "id": "52dd63d4",
   "metadata": {},
   "outputs": [],
   "source": [
    "file_name = 'results/2-2-ice-training-data-extraction-results'\n",
    "if DATASET_HALF:\n",
    "    file_name += '_dataset_size_halved'\n",
    "results.to_csv(file_name + '.csv', index=False, na_rep='NaN', float_format='%.3f')"
   ]
  },
  {
   "cell_type": "markdown",
   "id": "36a2f082-58c3-49fb-a9a0-58652e15f3ca",
   "metadata": {},
   "source": [
    "# Discussion\n",
    "\n",
    "In our experiments, training data extraction with ICE has a recall of 0% for a decision tree, 0% to 15% for a random forest and 100% for a neural network. Since the attack cannot produce any false positive samples, precision is always 100% (when it was measureable, i.e. when any samples were extracted).\n",
    "\n",
    "The non-existent recall of the decision tree can easily be explained by it's low number of different predictions (only 1 or 0, see discussion of experiment 1.3). This means there can never be an unambiguous extraction from ICE lines if all features have two or more possible feature values. In this situation, one of two cases must occur:\n",
    "\n",
    "1. The ICE lines share multiple prediction values: This means no unambiguous extraction is possible.\n",
    "\n",
    "2. They only share one common prediction value, w.l.o.g. 1. This means every line contains the prediction 1 at least once, and at least one line does not contain the prediction 0 (otherwise 0 would also be a common prediction value). This line must only contain the prediction 1 and since it has more than two feature values, it contains the prediction 1 at least at two different values. This means no unambiguous prediction is possible.\n",
    "\n",
    "Therefore, this training data extraction attack against ICE with a decision tree always has recall 0 if all features have at least two different feature values (this is generally the case, otherwise no information would be conveyed by that feature).\n",
    "\n",
    "While the number of unique prediction values of a random forest is much higher than a decision tree (69 vs 2, see discussion of 1.3), it is still much lower than that of a neural network (69 vs 3800, see discussion of 1.3). This explains why training data extraction has a much higher recall for a neural network than a random forest. With fewer different prediction values, it becomes more likely that multiple ICE lines have multiple common prediction values or that one prediction value occurs multiple times in an ICE line. Both events can cause the extraction to become impossible due to ambiguity.\n",
    "\n",
    "However, how do we explain the difference in recall for a random forest between numeric data (0%) and categorical data (15%)? Let's have a look at the number of unique values per feature in the numeric dataset and the categorical dataset:"
   ]
  },
  {
   "cell_type": "code",
   "execution_count": 11,
   "id": "6dc0cde3-8881-483a-8fe5-3079ea22f251",
   "metadata": {},
   "outputs": [
    {
     "name": "stdout",
     "output_type": "stream",
     "text": [
      "\n",
      "Unique values per column in the numeric dataset:\n",
      "Column Age: 45\n",
      "Column RestingBP: 55\n",
      "Column Cholesterol: 180\n",
      "Column MaxHR: 101\n",
      "Column Oldpeak: 45\n",
      "Column HeartDisease: 2\n",
      "\n",
      "Unique values per column in the categorical dataset:\n",
      "Column Age: 10\n",
      "Column Sex: 2\n",
      "Column ChestPainType: 4\n",
      "Column RestingBP: 10\n",
      "Column Cholesterol: 9\n",
      "Column FastingBS: 3\n",
      "Column RestingECG: 3\n",
      "Column MaxHR: 10\n",
      "Column ExerciseAngina: 2\n",
      "Column Oldpeak: 9\n",
      "Column ST_Slope: 4\n",
      "Column CA: 5\n",
      "Column Thal: 4\n",
      "Column HeartDisease: 2\n"
     ]
    }
   ],
   "source": [
    "print('\\nUnique values per column in the numeric dataset:')\n",
    "for col in data_heart_num.columns:\n",
    "    unique_values = data_heart_num[col].unique()\n",
    "    print(f'Column {col}: {len(unique_values)}')\n",
    "    \n",
    "print('\\nUnique values per column in the categorical dataset:')\n",
    "for col in data_heart_cat.columns:\n",
    "    unique_values = data_heart_cat[col].unique()\n",
    "    print(f'Column {col}: {len(unique_values)}')"
   ]
  },
  {
   "cell_type": "markdown",
   "id": "3e483fee-7719-4fca-b32d-27fd2b817a99",
   "metadata": {},
   "source": [
    "We can see that the numeric dataset generally has much more different values per feature than the categorical dataset (as one would expect). In this experiment, each ICE line was made up of the same number of points as there are different values for that feature in the training data. Therefore, if a feature has a large number of different values then its ICE lines will also contain many more values. This means it becomes more likely for one prediction value to occur multiple times and cause ambiguity in the extraction process, thereby making the extraction for that sample impossible. This explains the difference in recall between continous and categorical data well."
   ]
  },
  {
   "cell_type": "code",
   "execution_count": 11,
   "id": "63203747-495b-4c11-a236-dcd453774480",
   "metadata": {},
   "outputs": [],
   "source": []
  }
 ],
 "metadata": {
  "kernelspec": {
   "display_name": "Python 3 (ipykernel)",
   "language": "python",
   "name": "python3"
  },
  "language_info": {
   "codemirror_mode": {
    "name": "ipython",
    "version": 3
   },
   "file_extension": ".py",
   "mimetype": "text/x-python",
   "name": "python",
   "nbconvert_exporter": "python",
   "pygments_lexer": "ipython3",
   "version": "3.8.10"
  },
  "widgets": {
   "application/vnd.jupyter.widget-state+json": {
    "state": {
     "01f8ab2055834f51a39d4b333773bcec": {
      "model_module": "@jupyter-widgets/controls",
      "model_module_version": "1.5.0",
      "model_name": "DescriptionStyleModel",
      "state": {
       "_model_module": "@jupyter-widgets/controls",
       "_model_module_version": "1.5.0",
       "_model_name": "DescriptionStyleModel",
       "_view_count": null,
       "_view_module": "@jupyter-widgets/base",
       "_view_module_version": "1.2.0",
       "_view_name": "StyleView",
       "description_width": ""
      }
     },
     "02b693d869254308b0ea78c01d864eff": {
      "model_module": "@jupyter-widgets/controls",
      "model_module_version": "1.5.0",
      "model_name": "DescriptionStyleModel",
      "state": {
       "_model_module": "@jupyter-widgets/controls",
       "_model_module_version": "1.5.0",
       "_model_name": "DescriptionStyleModel",
       "_view_count": null,
       "_view_module": "@jupyter-widgets/base",
       "_view_module_version": "1.2.0",
       "_view_name": "StyleView",
       "description_width": ""
      }
     },
     "0470c8e2a0784640a795f59d752c142a": {
      "model_module": "@jupyter-widgets/base",
      "model_module_version": "1.2.0",
      "model_name": "LayoutModel",
      "state": {
       "_model_module": "@jupyter-widgets/base",
       "_model_module_version": "1.2.0",
       "_model_name": "LayoutModel",
       "_view_count": null,
       "_view_module": "@jupyter-widgets/base",
       "_view_module_version": "1.2.0",
       "_view_name": "LayoutView",
       "align_content": null,
       "align_items": null,
       "align_self": null,
       "border": null,
       "bottom": null,
       "display": null,
       "flex": null,
       "flex_flow": null,
       "grid_area": null,
       "grid_auto_columns": null,
       "grid_auto_flow": null,
       "grid_auto_rows": null,
       "grid_column": null,
       "grid_gap": null,
       "grid_row": null,
       "grid_template_areas": null,
       "grid_template_columns": null,
       "grid_template_rows": null,
       "height": null,
       "justify_content": null,
       "justify_items": null,
       "left": null,
       "margin": null,
       "max_height": null,
       "max_width": null,
       "min_height": null,
       "min_width": null,
       "object_fit": null,
       "object_position": null,
       "order": null,
       "overflow": null,
       "overflow_x": null,
       "overflow_y": null,
       "padding": null,
       "right": null,
       "top": null,
       "visibility": null,
       "width": null
      }
     },
     "068a5eca731642db9f7b814062ce30ca": {
      "model_module": "@jupyter-widgets/controls",
      "model_module_version": "1.5.0",
      "model_name": "HBoxModel",
      "state": {
       "_dom_classes": [],
       "_model_module": "@jupyter-widgets/controls",
       "_model_module_version": "1.5.0",
       "_model_name": "HBoxModel",
       "_view_count": null,
       "_view_module": "@jupyter-widgets/controls",
       "_view_module_version": "1.5.0",
       "_view_name": "HBoxView",
       "box_style": "",
       "children": [
        "IPY_MODEL_807c888387004fa5beee62d82ac62b14",
        "IPY_MODEL_82c33d432f31413993a3b40b0c8844bc",
        "IPY_MODEL_0d497341fc1b40fda4723d14b8223300"
       ],
       "layout": "IPY_MODEL_b7d8447fc9f14b7da73c8a2d3cb4baa8"
      }
     },
     "06a2f2459dea4dc580213b6f95fa20f7": {
      "model_module": "@jupyter-widgets/controls",
      "model_module_version": "1.5.0",
      "model_name": "DescriptionStyleModel",
      "state": {
       "_model_module": "@jupyter-widgets/controls",
       "_model_module_version": "1.5.0",
       "_model_name": "DescriptionStyleModel",
       "_view_count": null,
       "_view_module": "@jupyter-widgets/base",
       "_view_module_version": "1.2.0",
       "_view_name": "StyleView",
       "description_width": ""
      }
     },
     "08b12076e25d41f2a4d287e2853199ee": {
      "model_module": "@jupyter-widgets/base",
      "model_module_version": "1.2.0",
      "model_name": "LayoutModel",
      "state": {
       "_model_module": "@jupyter-widgets/base",
       "_model_module_version": "1.2.0",
       "_model_name": "LayoutModel",
       "_view_count": null,
       "_view_module": "@jupyter-widgets/base",
       "_view_module_version": "1.2.0",
       "_view_name": "LayoutView",
       "align_content": null,
       "align_items": null,
       "align_self": null,
       "border": null,
       "bottom": null,
       "display": null,
       "flex": null,
       "flex_flow": null,
       "grid_area": null,
       "grid_auto_columns": null,
       "grid_auto_flow": null,
       "grid_auto_rows": null,
       "grid_column": null,
       "grid_gap": null,
       "grid_row": null,
       "grid_template_areas": null,
       "grid_template_columns": null,
       "grid_template_rows": null,
       "height": null,
       "justify_content": null,
       "justify_items": null,
       "left": null,
       "margin": null,
       "max_height": null,
       "max_width": null,
       "min_height": null,
       "min_width": null,
       "object_fit": null,
       "object_position": null,
       "order": null,
       "overflow": null,
       "overflow_x": null,
       "overflow_y": null,
       "padding": null,
       "right": null,
       "top": null,
       "visibility": null,
       "width": null
      }
     },
     "0bdff5d6fa7e4d1abe454d781ba8ae94": {
      "model_module": "@jupyter-widgets/controls",
      "model_module_version": "1.5.0",
      "model_name": "HTMLModel",
      "state": {
       "_dom_classes": [],
       "_model_module": "@jupyter-widgets/controls",
       "_model_module_version": "1.5.0",
       "_model_name": "HTMLModel",
       "_view_count": null,
       "_view_module": "@jupyter-widgets/controls",
       "_view_module_version": "1.5.0",
       "_view_name": "HTMLView",
       "description": "",
       "description_tooltip": null,
       "layout": "IPY_MODEL_c28e1b5198574a138c1fc9528d8a69ec",
       "placeholder": "​",
       "style": "IPY_MODEL_d059530dcffb424cae78d54df05f78ab",
       "value": " 7722/7722 [00:03&lt;00:00, 2305.04it/s]"
      }
     },
     "0c154024d9cd416ca29c5e3896f2b4b3": {
      "model_module": "@jupyter-widgets/controls",
      "model_module_version": "1.5.0",
      "model_name": "HTMLModel",
      "state": {
       "_dom_classes": [],
       "_model_module": "@jupyter-widgets/controls",
       "_model_module_version": "1.5.0",
       "_model_name": "HTMLModel",
       "_view_count": null,
       "_view_module": "@jupyter-widgets/controls",
       "_view_module_version": "1.5.0",
       "_view_name": "HTMLView",
       "description": "",
       "description_tooltip": null,
       "layout": "IPY_MODEL_ffd430afa7cc4d7089b28501ad874cb9",
       "placeholder": "​",
       "style": "IPY_MODEL_d5180fe471534e7bbbb0b5898b69fe7b",
       "value": " 26314/26314 [00:10&lt;00:00, 2515.12it/s]"
      }
     },
     "0d497341fc1b40fda4723d14b8223300": {
      "model_module": "@jupyter-widgets/controls",
      "model_module_version": "1.5.0",
      "model_name": "HTMLModel",
      "state": {
       "_dom_classes": [],
       "_model_module": "@jupyter-widgets/controls",
       "_model_module_version": "1.5.0",
       "_model_name": "HTMLModel",
       "_view_count": null,
       "_view_module": "@jupyter-widgets/controls",
       "_view_module_version": "1.5.0",
       "_view_name": "HTMLView",
       "description": "",
       "description_tooltip": null,
       "layout": "IPY_MODEL_a2446b66e4d949bc82cada988af00e36",
       "placeholder": "​",
       "style": "IPY_MODEL_8a1d69689ed446a086307bc1d4e78240",
       "value": " 824/824 [00:00&lt;00:00, 2618.38it/s]"
      }
     },
     "0ea390df0bfe4ad28c21f20290506758": {
      "model_module": "@jupyter-widgets/controls",
      "model_module_version": "1.5.0",
      "model_name": "DescriptionStyleModel",
      "state": {
       "_model_module": "@jupyter-widgets/controls",
       "_model_module_version": "1.5.0",
       "_model_name": "DescriptionStyleModel",
       "_view_count": null,
       "_view_module": "@jupyter-widgets/base",
       "_view_module_version": "1.2.0",
       "_view_name": "StyleView",
       "description_width": ""
      }
     },
     "0fc348e90e8e4765ace31292efd0595a": {
      "model_module": "@jupyter-widgets/base",
      "model_module_version": "1.2.0",
      "model_name": "LayoutModel",
      "state": {
       "_model_module": "@jupyter-widgets/base",
       "_model_module_version": "1.2.0",
       "_model_name": "LayoutModel",
       "_view_count": null,
       "_view_module": "@jupyter-widgets/base",
       "_view_module_version": "1.2.0",
       "_view_name": "LayoutView",
       "align_content": null,
       "align_items": null,
       "align_self": null,
       "border": null,
       "bottom": null,
       "display": null,
       "flex": null,
       "flex_flow": null,
       "grid_area": null,
       "grid_auto_columns": null,
       "grid_auto_flow": null,
       "grid_auto_rows": null,
       "grid_column": null,
       "grid_gap": null,
       "grid_row": null,
       "grid_template_areas": null,
       "grid_template_columns": null,
       "grid_template_rows": null,
       "height": null,
       "justify_content": null,
       "justify_items": null,
       "left": null,
       "margin": null,
       "max_height": null,
       "max_width": null,
       "min_height": null,
       "min_width": null,
       "object_fit": null,
       "object_position": null,
       "order": null,
       "overflow": null,
       "overflow_x": null,
       "overflow_y": null,
       "padding": null,
       "right": null,
       "top": null,
       "visibility": null,
       "width": null
      }
     },
     "112f323b17e84838bef42c2feefee29d": {
      "model_module": "@jupyter-widgets/base",
      "model_module_version": "1.2.0",
      "model_name": "LayoutModel",
      "state": {
       "_model_module": "@jupyter-widgets/base",
       "_model_module_version": "1.2.0",
       "_model_name": "LayoutModel",
       "_view_count": null,
       "_view_module": "@jupyter-widgets/base",
       "_view_module_version": "1.2.0",
       "_view_name": "LayoutView",
       "align_content": null,
       "align_items": null,
       "align_self": null,
       "border": null,
       "bottom": null,
       "display": null,
       "flex": null,
       "flex_flow": null,
       "grid_area": null,
       "grid_auto_columns": null,
       "grid_auto_flow": null,
       "grid_auto_rows": null,
       "grid_column": null,
       "grid_gap": null,
       "grid_row": null,
       "grid_template_areas": null,
       "grid_template_columns": null,
       "grid_template_rows": null,
       "height": null,
       "justify_content": null,
       "justify_items": null,
       "left": null,
       "margin": null,
       "max_height": null,
       "max_width": null,
       "min_height": null,
       "min_width": null,
       "object_fit": null,
       "object_position": null,
       "order": null,
       "overflow": null,
       "overflow_x": null,
       "overflow_y": null,
       "padding": null,
       "right": null,
       "top": null,
       "visibility": null,
       "width": null
      }
     },
     "1979b65faecd414ebb3130a0cb5acc9d": {
      "model_module": "@jupyter-widgets/base",
      "model_module_version": "1.2.0",
      "model_name": "LayoutModel",
      "state": {
       "_model_module": "@jupyter-widgets/base",
       "_model_module_version": "1.2.0",
       "_model_name": "LayoutModel",
       "_view_count": null,
       "_view_module": "@jupyter-widgets/base",
       "_view_module_version": "1.2.0",
       "_view_name": "LayoutView",
       "align_content": null,
       "align_items": null,
       "align_self": null,
       "border": null,
       "bottom": null,
       "display": null,
       "flex": null,
       "flex_flow": null,
       "grid_area": null,
       "grid_auto_columns": null,
       "grid_auto_flow": null,
       "grid_auto_rows": null,
       "grid_column": null,
       "grid_gap": null,
       "grid_row": null,
       "grid_template_areas": null,
       "grid_template_columns": null,
       "grid_template_rows": null,
       "height": null,
       "justify_content": null,
       "justify_items": null,
       "left": null,
       "margin": null,
       "max_height": null,
       "max_width": null,
       "min_height": null,
       "min_width": null,
       "object_fit": null,
       "object_position": null,
       "order": null,
       "overflow": null,
       "overflow_x": null,
       "overflow_y": null,
       "padding": null,
       "right": null,
       "top": null,
       "visibility": null,
       "width": null
      }
     },
     "1abeeab86b1a49018a8a169cc931a89d": {
      "model_module": "@jupyter-widgets/controls",
      "model_module_version": "1.5.0",
      "model_name": "FloatProgressModel",
      "state": {
       "_dom_classes": [],
       "_model_module": "@jupyter-widgets/controls",
       "_model_module_version": "1.5.0",
       "_model_name": "FloatProgressModel",
       "_view_count": null,
       "_view_module": "@jupyter-widgets/controls",
       "_view_module_version": "1.5.0",
       "_view_name": "ProgressView",
       "bar_style": "success",
       "description": "",
       "description_tooltip": null,
       "layout": "IPY_MODEL_5a77a4bce1f746ab8e0b757d346b9386",
       "max": 7722,
       "min": 0,
       "orientation": "horizontal",
       "style": "IPY_MODEL_3d599d53ae804ca7be5f77c7e489078d",
       "value": 7722
      }
     },
     "1eb4eebe76f84ea193203b54672e3d87": {
      "model_module": "@jupyter-widgets/controls",
      "model_module_version": "1.5.0",
      "model_name": "ProgressStyleModel",
      "state": {
       "_model_module": "@jupyter-widgets/controls",
       "_model_module_version": "1.5.0",
       "_model_name": "ProgressStyleModel",
       "_view_count": null,
       "_view_module": "@jupyter-widgets/base",
       "_view_module_version": "1.2.0",
       "_view_name": "StyleView",
       "bar_color": null,
       "description_width": ""
      }
     },
     "216af4d0389542cfb1c83ac2beab58e8": {
      "model_module": "@jupyter-widgets/controls",
      "model_module_version": "1.5.0",
      "model_name": "FloatProgressModel",
      "state": {
       "_dom_classes": [],
       "_model_module": "@jupyter-widgets/controls",
       "_model_module_version": "1.5.0",
       "_model_name": "FloatProgressModel",
       "_view_count": null,
       "_view_module": "@jupyter-widgets/controls",
       "_view_module_version": "1.5.0",
       "_view_name": "ProgressView",
       "bar_style": "success",
       "description": "",
       "description_tooltip": null,
       "layout": "IPY_MODEL_b89f389c53204bf3b6c48fd97e86adbb",
       "max": 26314,
       "min": 0,
       "orientation": "horizontal",
       "style": "IPY_MODEL_72b64838cb114b448e72e0654745a193",
       "value": 26314
      }
     },
     "227700c7eaef44dca75d4cd2e556cccd": {
      "model_module": "@jupyter-widgets/base",
      "model_module_version": "1.2.0",
      "model_name": "LayoutModel",
      "state": {
       "_model_module": "@jupyter-widgets/base",
       "_model_module_version": "1.2.0",
       "_model_name": "LayoutModel",
       "_view_count": null,
       "_view_module": "@jupyter-widgets/base",
       "_view_module_version": "1.2.0",
       "_view_name": "LayoutView",
       "align_content": null,
       "align_items": null,
       "align_self": null,
       "border": null,
       "bottom": null,
       "display": null,
       "flex": null,
       "flex_flow": null,
       "grid_area": null,
       "grid_auto_columns": null,
       "grid_auto_flow": null,
       "grid_auto_rows": null,
       "grid_column": null,
       "grid_gap": null,
       "grid_row": null,
       "grid_template_areas": null,
       "grid_template_columns": null,
       "grid_template_rows": null,
       "height": null,
       "justify_content": null,
       "justify_items": null,
       "left": null,
       "margin": null,
       "max_height": null,
       "max_width": null,
       "min_height": null,
       "min_width": null,
       "object_fit": null,
       "object_position": null,
       "order": null,
       "overflow": null,
       "overflow_x": null,
       "overflow_y": null,
       "padding": null,
       "right": null,
       "top": null,
       "visibility": null,
       "width": null
      }
     },
     "24277246cd144ed0ad6f83face6ae38d": {
      "model_module": "@jupyter-widgets/base",
      "model_module_version": "1.2.0",
      "model_name": "LayoutModel",
      "state": {
       "_model_module": "@jupyter-widgets/base",
       "_model_module_version": "1.2.0",
       "_model_name": "LayoutModel",
       "_view_count": null,
       "_view_module": "@jupyter-widgets/base",
       "_view_module_version": "1.2.0",
       "_view_name": "LayoutView",
       "align_content": null,
       "align_items": null,
       "align_self": null,
       "border": null,
       "bottom": null,
       "display": null,
       "flex": null,
       "flex_flow": null,
       "grid_area": null,
       "grid_auto_columns": null,
       "grid_auto_flow": null,
       "grid_auto_rows": null,
       "grid_column": null,
       "grid_gap": null,
       "grid_row": null,
       "grid_template_areas": null,
       "grid_template_columns": null,
       "grid_template_rows": null,
       "height": null,
       "justify_content": null,
       "justify_items": null,
       "left": null,
       "margin": null,
       "max_height": null,
       "max_width": null,
       "min_height": null,
       "min_width": null,
       "object_fit": null,
       "object_position": null,
       "order": null,
       "overflow": null,
       "overflow_x": null,
       "overflow_y": null,
       "padding": null,
       "right": null,
       "top": null,
       "visibility": null,
       "width": null
      }
     },
     "2612aa073a7041b18859ff5f3ba15ba0": {
      "model_module": "@jupyter-widgets/controls",
      "model_module_version": "1.5.0",
      "model_name": "DescriptionStyleModel",
      "state": {
       "_model_module": "@jupyter-widgets/controls",
       "_model_module_version": "1.5.0",
       "_model_name": "DescriptionStyleModel",
       "_view_count": null,
       "_view_module": "@jupyter-widgets/base",
       "_view_module_version": "1.2.0",
       "_view_name": "StyleView",
       "description_width": ""
      }
     },
     "2685fe3dbaac4d4ea9618c21a08b4da6": {
      "model_module": "@jupyter-widgets/controls",
      "model_module_version": "1.5.0",
      "model_name": "HBoxModel",
      "state": {
       "_dom_classes": [],
       "_model_module": "@jupyter-widgets/controls",
       "_model_module_version": "1.5.0",
       "_model_name": "HBoxModel",
       "_view_count": null,
       "_view_module": "@jupyter-widgets/controls",
       "_view_module_version": "1.5.0",
       "_view_name": "HBoxView",
       "box_style": "",
       "children": [
        "IPY_MODEL_e29412c872754fe38da27ad8d2960557",
        "IPY_MODEL_b5afcde5fa1544ea9861cf868a9f94fb",
        "IPY_MODEL_0c154024d9cd416ca29c5e3896f2b4b3"
       ],
       "layout": "IPY_MODEL_5f47520e97944887bbd2e76137c33ecd"
      }
     },
     "38a5c29966ef4230964fef39e38b9567": {
      "model_module": "@jupyter-widgets/controls",
      "model_module_version": "1.5.0",
      "model_name": "DescriptionStyleModel",
      "state": {
       "_model_module": "@jupyter-widgets/controls",
       "_model_module_version": "1.5.0",
       "_model_name": "DescriptionStyleModel",
       "_view_count": null,
       "_view_module": "@jupyter-widgets/base",
       "_view_module_version": "1.2.0",
       "_view_name": "StyleView",
       "description_width": ""
      }
     },
     "38bd0fc21722457ab1f6a3928dc0c427": {
      "model_module": "@jupyter-widgets/controls",
      "model_module_version": "1.5.0",
      "model_name": "HTMLModel",
      "state": {
       "_dom_classes": [],
       "_model_module": "@jupyter-widgets/controls",
       "_model_module_version": "1.5.0",
       "_model_name": "HTMLModel",
       "_view_count": null,
       "_view_module": "@jupyter-widgets/controls",
       "_view_module_version": "1.5.0",
       "_view_name": "HTMLView",
       "description": "",
       "description_tooltip": null,
       "layout": "IPY_MODEL_67d0195b6a8542cd84fbd923364a80d1",
       "placeholder": "​",
       "style": "IPY_MODEL_83a043132a51469686a8b93b01dd8910",
       "value": "100%"
      }
     },
     "39614e2749a44552bebc224c618c9807": {
      "model_module": "@jupyter-widgets/base",
      "model_module_version": "1.2.0",
      "model_name": "LayoutModel",
      "state": {
       "_model_module": "@jupyter-widgets/base",
       "_model_module_version": "1.2.0",
       "_model_name": "LayoutModel",
       "_view_count": null,
       "_view_module": "@jupyter-widgets/base",
       "_view_module_version": "1.2.0",
       "_view_name": "LayoutView",
       "align_content": null,
       "align_items": null,
       "align_self": null,
       "border": null,
       "bottom": null,
       "display": null,
       "flex": null,
       "flex_flow": null,
       "grid_area": null,
       "grid_auto_columns": null,
       "grid_auto_flow": null,
       "grid_auto_rows": null,
       "grid_column": null,
       "grid_gap": null,
       "grid_row": null,
       "grid_template_areas": null,
       "grid_template_columns": null,
       "grid_template_rows": null,
       "height": null,
       "justify_content": null,
       "justify_items": null,
       "left": null,
       "margin": null,
       "max_height": null,
       "max_width": null,
       "min_height": null,
       "min_width": null,
       "object_fit": null,
       "object_position": null,
       "order": null,
       "overflow": null,
       "overflow_x": null,
       "overflow_y": null,
       "padding": null,
       "right": null,
       "top": null,
       "visibility": null,
       "width": null
      }
     },
     "3aea2c8dccfb405ba6f1b05aad2d5a00": {
      "model_module": "@jupyter-widgets/controls",
      "model_module_version": "1.5.0",
      "model_name": "DescriptionStyleModel",
      "state": {
       "_model_module": "@jupyter-widgets/controls",
       "_model_module_version": "1.5.0",
       "_model_name": "DescriptionStyleModel",
       "_view_count": null,
       "_view_module": "@jupyter-widgets/base",
       "_view_module_version": "1.2.0",
       "_view_name": "StyleView",
       "description_width": ""
      }
     },
     "3d599d53ae804ca7be5f77c7e489078d": {
      "model_module": "@jupyter-widgets/controls",
      "model_module_version": "1.5.0",
      "model_name": "ProgressStyleModel",
      "state": {
       "_model_module": "@jupyter-widgets/controls",
       "_model_module_version": "1.5.0",
       "_model_name": "ProgressStyleModel",
       "_view_count": null,
       "_view_module": "@jupyter-widgets/base",
       "_view_module_version": "1.2.0",
       "_view_name": "StyleView",
       "bar_color": null,
       "description_width": ""
      }
     },
     "3efbb4675d964540970592873bd845c9": {
      "model_module": "@jupyter-widgets/base",
      "model_module_version": "1.2.0",
      "model_name": "LayoutModel",
      "state": {
       "_model_module": "@jupyter-widgets/base",
       "_model_module_version": "1.2.0",
       "_model_name": "LayoutModel",
       "_view_count": null,
       "_view_module": "@jupyter-widgets/base",
       "_view_module_version": "1.2.0",
       "_view_name": "LayoutView",
       "align_content": null,
       "align_items": null,
       "align_self": null,
       "border": null,
       "bottom": null,
       "display": null,
       "flex": null,
       "flex_flow": null,
       "grid_area": null,
       "grid_auto_columns": null,
       "grid_auto_flow": null,
       "grid_auto_rows": null,
       "grid_column": null,
       "grid_gap": null,
       "grid_row": null,
       "grid_template_areas": null,
       "grid_template_columns": null,
       "grid_template_rows": null,
       "height": null,
       "justify_content": null,
       "justify_items": null,
       "left": null,
       "margin": null,
       "max_height": null,
       "max_width": null,
       "min_height": null,
       "min_width": null,
       "object_fit": null,
       "object_position": null,
       "order": null,
       "overflow": null,
       "overflow_x": null,
       "overflow_y": null,
       "padding": null,
       "right": null,
       "top": null,
       "visibility": null,
       "width": null
      }
     },
     "3f78abaf59604c3aa4696fd30d4c7af9": {
      "model_module": "@jupyter-widgets/base",
      "model_module_version": "1.2.0",
      "model_name": "LayoutModel",
      "state": {
       "_model_module": "@jupyter-widgets/base",
       "_model_module_version": "1.2.0",
       "_model_name": "LayoutModel",
       "_view_count": null,
       "_view_module": "@jupyter-widgets/base",
       "_view_module_version": "1.2.0",
       "_view_name": "LayoutView",
       "align_content": null,
       "align_items": null,
       "align_self": null,
       "border": null,
       "bottom": null,
       "display": null,
       "flex": null,
       "flex_flow": null,
       "grid_area": null,
       "grid_auto_columns": null,
       "grid_auto_flow": null,
       "grid_auto_rows": null,
       "grid_column": null,
       "grid_gap": null,
       "grid_row": null,
       "grid_template_areas": null,
       "grid_template_columns": null,
       "grid_template_rows": null,
       "height": null,
       "justify_content": null,
       "justify_items": null,
       "left": null,
       "margin": null,
       "max_height": null,
       "max_width": null,
       "min_height": null,
       "min_width": null,
       "object_fit": null,
       "object_position": null,
       "order": null,
       "overflow": null,
       "overflow_x": null,
       "overflow_y": null,
       "padding": null,
       "right": null,
       "top": null,
       "visibility": null,
       "width": null
      }
     },
     "3fb39e84f9ae414e9005946bae1cbeb9": {
      "model_module": "@jupyter-widgets/controls",
      "model_module_version": "1.5.0",
      "model_name": "DescriptionStyleModel",
      "state": {
       "_model_module": "@jupyter-widgets/controls",
       "_model_module_version": "1.5.0",
       "_model_name": "DescriptionStyleModel",
       "_view_count": null,
       "_view_module": "@jupyter-widgets/base",
       "_view_module_version": "1.2.0",
       "_view_name": "StyleView",
       "description_width": ""
      }
     },
     "449c9887c1f44ec1a0c0b662ce410224": {
      "model_module": "@jupyter-widgets/base",
      "model_module_version": "1.2.0",
      "model_name": "LayoutModel",
      "state": {
       "_model_module": "@jupyter-widgets/base",
       "_model_module_version": "1.2.0",
       "_model_name": "LayoutModel",
       "_view_count": null,
       "_view_module": "@jupyter-widgets/base",
       "_view_module_version": "1.2.0",
       "_view_name": "LayoutView",
       "align_content": null,
       "align_items": null,
       "align_self": null,
       "border": null,
       "bottom": null,
       "display": null,
       "flex": null,
       "flex_flow": null,
       "grid_area": null,
       "grid_auto_columns": null,
       "grid_auto_flow": null,
       "grid_auto_rows": null,
       "grid_column": null,
       "grid_gap": null,
       "grid_row": null,
       "grid_template_areas": null,
       "grid_template_columns": null,
       "grid_template_rows": null,
       "height": null,
       "justify_content": null,
       "justify_items": null,
       "left": null,
       "margin": null,
       "max_height": null,
       "max_width": null,
       "min_height": null,
       "min_width": null,
       "object_fit": null,
       "object_position": null,
       "order": null,
       "overflow": null,
       "overflow_x": null,
       "overflow_y": null,
       "padding": null,
       "right": null,
       "top": null,
       "visibility": null,
       "width": null
      }
     },
     "44d47d9922374cf7b43536df5c12ef00": {
      "model_module": "@jupyter-widgets/controls",
      "model_module_version": "1.5.0",
      "model_name": "HTMLModel",
      "state": {
       "_dom_classes": [],
       "_model_module": "@jupyter-widgets/controls",
       "_model_module_version": "1.5.0",
       "_model_name": "HTMLModel",
       "_view_count": null,
       "_view_module": "@jupyter-widgets/controls",
       "_view_module_version": "1.5.0",
       "_view_name": "HTMLView",
       "description": "",
       "description_tooltip": null,
       "layout": "IPY_MODEL_227700c7eaef44dca75d4cd2e556cccd",
       "placeholder": "​",
       "style": "IPY_MODEL_3fb39e84f9ae414e9005946bae1cbeb9",
       "value": "100%"
      }
     },
     "455adad1bc08451eba2887e261ce34dc": {
      "model_module": "@jupyter-widgets/controls",
      "model_module_version": "1.5.0",
      "model_name": "HTMLModel",
      "state": {
       "_dom_classes": [],
       "_model_module": "@jupyter-widgets/controls",
       "_model_module_version": "1.5.0",
       "_model_name": "HTMLModel",
       "_view_count": null,
       "_view_module": "@jupyter-widgets/controls",
       "_view_module_version": "1.5.0",
       "_view_name": "HTMLView",
       "description": "",
       "description_tooltip": null,
       "layout": "IPY_MODEL_24277246cd144ed0ad6f83face6ae38d",
       "placeholder": "​",
       "style": "IPY_MODEL_06a2f2459dea4dc580213b6f95fa20f7",
       "value": " 10/10 [00:00&lt;00:00, 199.50it/s]"
      }
     },
     "472fd247f794444fbb3801864155bb36": {
      "model_module": "@jupyter-widgets/controls",
      "model_module_version": "1.5.0",
      "model_name": "DescriptionStyleModel",
      "state": {
       "_model_module": "@jupyter-widgets/controls",
       "_model_module_version": "1.5.0",
       "_model_name": "DescriptionStyleModel",
       "_view_count": null,
       "_view_module": "@jupyter-widgets/base",
       "_view_module_version": "1.2.0",
       "_view_name": "StyleView",
       "description_width": ""
      }
     },
     "47ea5c290b9c4ba4be329ecbef3dec8b": {
      "model_module": "@jupyter-widgets/controls",
      "model_module_version": "1.5.0",
      "model_name": "HBoxModel",
      "state": {
       "_dom_classes": [],
       "_model_module": "@jupyter-widgets/controls",
       "_model_module_version": "1.5.0",
       "_model_name": "HBoxModel",
       "_view_count": null,
       "_view_module": "@jupyter-widgets/controls",
       "_view_module_version": "1.5.0",
       "_view_name": "HBoxView",
       "box_style": "",
       "children": [
        "IPY_MODEL_ca1586ec532347b49fe24c54e1e93a1d",
        "IPY_MODEL_ae9eeff7bb924446babf88847b9d6329",
        "IPY_MODEL_cb5693eab38d4edaab2922e6e64afe32"
       ],
       "layout": "IPY_MODEL_3f78abaf59604c3aa4696fd30d4c7af9"
      }
     },
     "480ef60c51b0425a808c989f4fab081a": {
      "model_module": "@jupyter-widgets/controls",
      "model_module_version": "1.5.0",
      "model_name": "ProgressStyleModel",
      "state": {
       "_model_module": "@jupyter-widgets/controls",
       "_model_module_version": "1.5.0",
       "_model_name": "ProgressStyleModel",
       "_view_count": null,
       "_view_module": "@jupyter-widgets/base",
       "_view_module_version": "1.2.0",
       "_view_name": "StyleView",
       "bar_color": null,
       "description_width": ""
      }
     },
     "4d14ed67552a4e1882fb977a868b2a75": {
      "model_module": "@jupyter-widgets/base",
      "model_module_version": "1.2.0",
      "model_name": "LayoutModel",
      "state": {
       "_model_module": "@jupyter-widgets/base",
       "_model_module_version": "1.2.0",
       "_model_name": "LayoutModel",
       "_view_count": null,
       "_view_module": "@jupyter-widgets/base",
       "_view_module_version": "1.2.0",
       "_view_name": "LayoutView",
       "align_content": null,
       "align_items": null,
       "align_self": null,
       "border": null,
       "bottom": null,
       "display": null,
       "flex": null,
       "flex_flow": null,
       "grid_area": null,
       "grid_auto_columns": null,
       "grid_auto_flow": null,
       "grid_auto_rows": null,
       "grid_column": null,
       "grid_gap": null,
       "grid_row": null,
       "grid_template_areas": null,
       "grid_template_columns": null,
       "grid_template_rows": null,
       "height": null,
       "justify_content": null,
       "justify_items": null,
       "left": null,
       "margin": null,
       "max_height": null,
       "max_width": null,
       "min_height": null,
       "min_width": null,
       "object_fit": null,
       "object_position": null,
       "order": null,
       "overflow": null,
       "overflow_x": null,
       "overflow_y": null,
       "padding": null,
       "right": null,
       "top": null,
       "visibility": null,
       "width": null
      }
     },
     "4ecf6ec1372d44debe77c0383eeacc5e": {
      "model_module": "@jupyter-widgets/controls",
      "model_module_version": "1.5.0",
      "model_name": "DescriptionStyleModel",
      "state": {
       "_model_module": "@jupyter-widgets/controls",
       "_model_module_version": "1.5.0",
       "_model_name": "DescriptionStyleModel",
       "_view_count": null,
       "_view_module": "@jupyter-widgets/base",
       "_view_module_version": "1.2.0",
       "_view_name": "StyleView",
       "description_width": ""
      }
     },
     "53203a99e0c341158f7ad8d255727a87": {
      "model_module": "@jupyter-widgets/controls",
      "model_module_version": "1.5.0",
      "model_name": "DescriptionStyleModel",
      "state": {
       "_model_module": "@jupyter-widgets/controls",
       "_model_module_version": "1.5.0",
       "_model_name": "DescriptionStyleModel",
       "_view_count": null,
       "_view_module": "@jupyter-widgets/base",
       "_view_module_version": "1.2.0",
       "_view_name": "StyleView",
       "description_width": ""
      }
     },
     "5a77a4bce1f746ab8e0b757d346b9386": {
      "model_module": "@jupyter-widgets/base",
      "model_module_version": "1.2.0",
      "model_name": "LayoutModel",
      "state": {
       "_model_module": "@jupyter-widgets/base",
       "_model_module_version": "1.2.0",
       "_model_name": "LayoutModel",
       "_view_count": null,
       "_view_module": "@jupyter-widgets/base",
       "_view_module_version": "1.2.0",
       "_view_name": "LayoutView",
       "align_content": null,
       "align_items": null,
       "align_self": null,
       "border": null,
       "bottom": null,
       "display": null,
       "flex": null,
       "flex_flow": null,
       "grid_area": null,
       "grid_auto_columns": null,
       "grid_auto_flow": null,
       "grid_auto_rows": null,
       "grid_column": null,
       "grid_gap": null,
       "grid_row": null,
       "grid_template_areas": null,
       "grid_template_columns": null,
       "grid_template_rows": null,
       "height": null,
       "justify_content": null,
       "justify_items": null,
       "left": null,
       "margin": null,
       "max_height": null,
       "max_width": null,
       "min_height": null,
       "min_width": null,
       "object_fit": null,
       "object_position": null,
       "order": null,
       "overflow": null,
       "overflow_x": null,
       "overflow_y": null,
       "padding": null,
       "right": null,
       "top": null,
       "visibility": null,
       "width": null
      }
     },
     "5f47520e97944887bbd2e76137c33ecd": {
      "model_module": "@jupyter-widgets/base",
      "model_module_version": "1.2.0",
      "model_name": "LayoutModel",
      "state": {
       "_model_module": "@jupyter-widgets/base",
       "_model_module_version": "1.2.0",
       "_model_name": "LayoutModel",
       "_view_count": null,
       "_view_module": "@jupyter-widgets/base",
       "_view_module_version": "1.2.0",
       "_view_name": "LayoutView",
       "align_content": null,
       "align_items": null,
       "align_self": null,
       "border": null,
       "bottom": null,
       "display": null,
       "flex": null,
       "flex_flow": null,
       "grid_area": null,
       "grid_auto_columns": null,
       "grid_auto_flow": null,
       "grid_auto_rows": null,
       "grid_column": null,
       "grid_gap": null,
       "grid_row": null,
       "grid_template_areas": null,
       "grid_template_columns": null,
       "grid_template_rows": null,
       "height": null,
       "justify_content": null,
       "justify_items": null,
       "left": null,
       "margin": null,
       "max_height": null,
       "max_width": null,
       "min_height": null,
       "min_width": null,
       "object_fit": null,
       "object_position": null,
       "order": null,
       "overflow": null,
       "overflow_x": null,
       "overflow_y": null,
       "padding": null,
       "right": null,
       "top": null,
       "visibility": null,
       "width": null
      }
     },
     "5f6ce849455e42da8f06216814f8ed78": {
      "model_module": "@jupyter-widgets/controls",
      "model_module_version": "1.5.0",
      "model_name": "HTMLModel",
      "state": {
       "_dom_classes": [],
       "_model_module": "@jupyter-widgets/controls",
       "_model_module_version": "1.5.0",
       "_model_name": "HTMLModel",
       "_view_count": null,
       "_view_module": "@jupyter-widgets/controls",
       "_view_module_version": "1.5.0",
       "_view_name": "HTMLView",
       "description": "",
       "description_tooltip": null,
       "layout": "IPY_MODEL_39614e2749a44552bebc224c618c9807",
       "placeholder": "​",
       "style": "IPY_MODEL_3aea2c8dccfb405ba6f1b05aad2d5a00",
       "value": "100%"
      }
     },
     "630f6fb6424c4de4a81e87ff73b1dd2c": {
      "model_module": "@jupyter-widgets/base",
      "model_module_version": "1.2.0",
      "model_name": "LayoutModel",
      "state": {
       "_model_module": "@jupyter-widgets/base",
       "_model_module_version": "1.2.0",
       "_model_name": "LayoutModel",
       "_view_count": null,
       "_view_module": "@jupyter-widgets/base",
       "_view_module_version": "1.2.0",
       "_view_name": "LayoutView",
       "align_content": null,
       "align_items": null,
       "align_self": null,
       "border": null,
       "bottom": null,
       "display": null,
       "flex": null,
       "flex_flow": null,
       "grid_area": null,
       "grid_auto_columns": null,
       "grid_auto_flow": null,
       "grid_auto_rows": null,
       "grid_column": null,
       "grid_gap": null,
       "grid_row": null,
       "grid_template_areas": null,
       "grid_template_columns": null,
       "grid_template_rows": null,
       "height": null,
       "justify_content": null,
       "justify_items": null,
       "left": null,
       "margin": null,
       "max_height": null,
       "max_width": null,
       "min_height": null,
       "min_width": null,
       "object_fit": null,
       "object_position": null,
       "order": null,
       "overflow": null,
       "overflow_x": null,
       "overflow_y": null,
       "padding": null,
       "right": null,
       "top": null,
       "visibility": null,
       "width": null
      }
     },
     "665a353ba8b14883b30aef33cd2ce84b": {
      "model_module": "@jupyter-widgets/controls",
      "model_module_version": "1.5.0",
      "model_name": "ProgressStyleModel",
      "state": {
       "_model_module": "@jupyter-widgets/controls",
       "_model_module_version": "1.5.0",
       "_model_name": "ProgressStyleModel",
       "_view_count": null,
       "_view_module": "@jupyter-widgets/base",
       "_view_module_version": "1.2.0",
       "_view_name": "StyleView",
       "bar_color": null,
       "description_width": ""
      }
     },
     "67d0195b6a8542cd84fbd923364a80d1": {
      "model_module": "@jupyter-widgets/base",
      "model_module_version": "1.2.0",
      "model_name": "LayoutModel",
      "state": {
       "_model_module": "@jupyter-widgets/base",
       "_model_module_version": "1.2.0",
       "_model_name": "LayoutModel",
       "_view_count": null,
       "_view_module": "@jupyter-widgets/base",
       "_view_module_version": "1.2.0",
       "_view_name": "LayoutView",
       "align_content": null,
       "align_items": null,
       "align_self": null,
       "border": null,
       "bottom": null,
       "display": null,
       "flex": null,
       "flex_flow": null,
       "grid_area": null,
       "grid_auto_columns": null,
       "grid_auto_flow": null,
       "grid_auto_rows": null,
       "grid_column": null,
       "grid_gap": null,
       "grid_row": null,
       "grid_template_areas": null,
       "grid_template_columns": null,
       "grid_template_rows": null,
       "height": null,
       "justify_content": null,
       "justify_items": null,
       "left": null,
       "margin": null,
       "max_height": null,
       "max_width": null,
       "min_height": null,
       "min_width": null,
       "object_fit": null,
       "object_position": null,
       "order": null,
       "overflow": null,
       "overflow_x": null,
       "overflow_y": null,
       "padding": null,
       "right": null,
       "top": null,
       "visibility": null,
       "width": null
      }
     },
     "68623b76eaeb4d4ea0c42580b63cea5e": {
      "model_module": "@jupyter-widgets/controls",
      "model_module_version": "1.5.0",
      "model_name": "HTMLModel",
      "state": {
       "_dom_classes": [],
       "_model_module": "@jupyter-widgets/controls",
       "_model_module_version": "1.5.0",
       "_model_name": "HTMLModel",
       "_view_count": null,
       "_view_module": "@jupyter-widgets/controls",
       "_view_module_version": "1.5.0",
       "_view_name": "HTMLView",
       "description": "",
       "description_tooltip": null,
       "layout": "IPY_MODEL_c10d95d335354f6ca8c94293effea310",
       "placeholder": "​",
       "style": "IPY_MODEL_0ea390df0bfe4ad28c21f20290506758",
       "value": " 26314/26314 [00:17&lt;00:00, 1518.44it/s]"
      }
     },
     "6d99dcfdb15f48f0976ebdb1214ee68b": {
      "model_module": "@jupyter-widgets/controls",
      "model_module_version": "1.5.0",
      "model_name": "HTMLModel",
      "state": {
       "_dom_classes": [],
       "_model_module": "@jupyter-widgets/controls",
       "_model_module_version": "1.5.0",
       "_model_name": "HTMLModel",
       "_view_count": null,
       "_view_module": "@jupyter-widgets/controls",
       "_view_module_version": "1.5.0",
       "_view_name": "HTMLView",
       "description": "",
       "description_tooltip": null,
       "layout": "IPY_MODEL_809de50fa9114725bb42a01ff0f6c7e0",
       "placeholder": "​",
       "style": "IPY_MODEL_38a5c29966ef4230964fef39e38b9567",
       "value": " 824/824 [00:00&lt;00:00, 4093.54it/s]"
      }
     },
     "6d9eee39ca0140eab35c88d81f79589b": {
      "model_module": "@jupyter-widgets/controls",
      "model_module_version": "1.5.0",
      "model_name": "HTMLModel",
      "state": {
       "_dom_classes": [],
       "_model_module": "@jupyter-widgets/controls",
       "_model_module_version": "1.5.0",
       "_model_name": "HTMLModel",
       "_view_count": null,
       "_view_module": "@jupyter-widgets/controls",
       "_view_module_version": "1.5.0",
       "_view_name": "HTMLView",
       "description": "",
       "description_tooltip": null,
       "layout": "IPY_MODEL_9d34e71cc3c947459ff3e16677dc5cbe",
       "placeholder": "​",
       "style": "IPY_MODEL_472fd247f794444fbb3801864155bb36",
       "value": " 824/824 [00:00&lt;00:00, 3334.31it/s]"
      }
     },
     "6de8ed84b18649d8b9ae67c5cd759ad4": {
      "model_module": "@jupyter-widgets/controls",
      "model_module_version": "1.5.0",
      "model_name": "HBoxModel",
      "state": {
       "_dom_classes": [],
       "_model_module": "@jupyter-widgets/controls",
       "_model_module_version": "1.5.0",
       "_model_name": "HBoxModel",
       "_view_count": null,
       "_view_module": "@jupyter-widgets/controls",
       "_view_module_version": "1.5.0",
       "_view_name": "HBoxView",
       "box_style": "",
       "children": [
        "IPY_MODEL_5f6ce849455e42da8f06216814f8ed78",
        "IPY_MODEL_7f590adefae8402e9e8810b638a912df",
        "IPY_MODEL_6d99dcfdb15f48f0976ebdb1214ee68b"
       ],
       "layout": "IPY_MODEL_08b12076e25d41f2a4d287e2853199ee"
      }
     },
     "7253cc5feabc47dd9c771b5a00221ee4": {
      "model_module": "@jupyter-widgets/controls",
      "model_module_version": "1.5.0",
      "model_name": "HTMLModel",
      "state": {
       "_dom_classes": [],
       "_model_module": "@jupyter-widgets/controls",
       "_model_module_version": "1.5.0",
       "_model_name": "HTMLModel",
       "_view_count": null,
       "_view_module": "@jupyter-widgets/controls",
       "_view_module_version": "1.5.0",
       "_view_name": "HTMLView",
       "description": "",
       "description_tooltip": null,
       "layout": "IPY_MODEL_630f6fb6424c4de4a81e87ff73b1dd2c",
       "placeholder": "​",
       "style": "IPY_MODEL_c7dce407c8e64e24b38e01fccd92a7c7",
       "value": "100%"
      }
     },
     "72b64838cb114b448e72e0654745a193": {
      "model_module": "@jupyter-widgets/controls",
      "model_module_version": "1.5.0",
      "model_name": "ProgressStyleModel",
      "state": {
       "_model_module": "@jupyter-widgets/controls",
       "_model_module_version": "1.5.0",
       "_model_name": "ProgressStyleModel",
       "_view_count": null,
       "_view_module": "@jupyter-widgets/base",
       "_view_module_version": "1.2.0",
       "_view_name": "StyleView",
       "bar_color": null,
       "description_width": ""
      }
     },
     "74abc2c2513f4d139a558f17bacf4060": {
      "model_module": "@jupyter-widgets/controls",
      "model_module_version": "1.5.0",
      "model_name": "HBoxModel",
      "state": {
       "_dom_classes": [],
       "_model_module": "@jupyter-widgets/controls",
       "_model_module_version": "1.5.0",
       "_model_name": "HBoxModel",
       "_view_count": null,
       "_view_module": "@jupyter-widgets/controls",
       "_view_module_version": "1.5.0",
       "_view_name": "HBoxView",
       "box_style": "",
       "children": [
        "IPY_MODEL_d2dd1817f7794cfcb21e52977436b179",
        "IPY_MODEL_b4cc006f3c754927b553fec397e2f2fc",
        "IPY_MODEL_6d9eee39ca0140eab35c88d81f79589b"
       ],
       "layout": "IPY_MODEL_3efbb4675d964540970592873bd845c9"
      }
     },
     "75553cdb41d9415e9f850b946dff5d58": {
      "model_module": "@jupyter-widgets/controls",
      "model_module_version": "1.5.0",
      "model_name": "HTMLModel",
      "state": {
       "_dom_classes": [],
       "_model_module": "@jupyter-widgets/controls",
       "_model_module_version": "1.5.0",
       "_model_name": "HTMLModel",
       "_view_count": null,
       "_view_module": "@jupyter-widgets/controls",
       "_view_module_version": "1.5.0",
       "_view_name": "HTMLView",
       "description": "",
       "description_tooltip": null,
       "layout": "IPY_MODEL_449c9887c1f44ec1a0c0b662ce410224",
       "placeholder": "​",
       "style": "IPY_MODEL_02b693d869254308b0ea78c01d864eff",
       "value": " 7722/7722 [00:02&lt;00:00, 3467.11it/s]"
      }
     },
     "7f590adefae8402e9e8810b638a912df": {
      "model_module": "@jupyter-widgets/controls",
      "model_module_version": "1.5.0",
      "model_name": "FloatProgressModel",
      "state": {
       "_dom_classes": [],
       "_model_module": "@jupyter-widgets/controls",
       "_model_module_version": "1.5.0",
       "_model_name": "FloatProgressModel",
       "_view_count": null,
       "_view_module": "@jupyter-widgets/controls",
       "_view_module_version": "1.5.0",
       "_view_name": "ProgressView",
       "bar_style": "success",
       "description": "",
       "description_tooltip": null,
       "layout": "IPY_MODEL_ca932e43db1445ae8a41fd8e3c1c38ab",
       "max": 824,
       "min": 0,
       "orientation": "horizontal",
       "style": "IPY_MODEL_b1f189e9899c408c8bb984d6f496b1b0",
       "value": 824
      }
     },
     "807c888387004fa5beee62d82ac62b14": {
      "model_module": "@jupyter-widgets/controls",
      "model_module_version": "1.5.0",
      "model_name": "HTMLModel",
      "state": {
       "_dom_classes": [],
       "_model_module": "@jupyter-widgets/controls",
       "_model_module_version": "1.5.0",
       "_model_name": "HTMLModel",
       "_view_count": null,
       "_view_module": "@jupyter-widgets/controls",
       "_view_module_version": "1.5.0",
       "_view_name": "HTMLView",
       "description": "",
       "description_tooltip": null,
       "layout": "IPY_MODEL_0470c8e2a0784640a795f59d752c142a",
       "placeholder": "​",
       "style": "IPY_MODEL_8ce759da14cb42548862f98b8d7b048e",
       "value": "100%"
      }
     },
     "809de50fa9114725bb42a01ff0f6c7e0": {
      "model_module": "@jupyter-widgets/base",
      "model_module_version": "1.2.0",
      "model_name": "LayoutModel",
      "state": {
       "_model_module": "@jupyter-widgets/base",
       "_model_module_version": "1.2.0",
       "_model_name": "LayoutModel",
       "_view_count": null,
       "_view_module": "@jupyter-widgets/base",
       "_view_module_version": "1.2.0",
       "_view_name": "LayoutView",
       "align_content": null,
       "align_items": null,
       "align_self": null,
       "border": null,
       "bottom": null,
       "display": null,
       "flex": null,
       "flex_flow": null,
       "grid_area": null,
       "grid_auto_columns": null,
       "grid_auto_flow": null,
       "grid_auto_rows": null,
       "grid_column": null,
       "grid_gap": null,
       "grid_row": null,
       "grid_template_areas": null,
       "grid_template_columns": null,
       "grid_template_rows": null,
       "height": null,
       "justify_content": null,
       "justify_items": null,
       "left": null,
       "margin": null,
       "max_height": null,
       "max_width": null,
       "min_height": null,
       "min_width": null,
       "object_fit": null,
       "object_position": null,
       "order": null,
       "overflow": null,
       "overflow_x": null,
       "overflow_y": null,
       "padding": null,
       "right": null,
       "top": null,
       "visibility": null,
       "width": null
      }
     },
     "8205567da72e46329e4dece1710ada66": {
      "model_module": "@jupyter-widgets/controls",
      "model_module_version": "1.5.0",
      "model_name": "ProgressStyleModel",
      "state": {
       "_model_module": "@jupyter-widgets/controls",
       "_model_module_version": "1.5.0",
       "_model_name": "ProgressStyleModel",
       "_view_count": null,
       "_view_module": "@jupyter-widgets/base",
       "_view_module_version": "1.2.0",
       "_view_name": "StyleView",
       "bar_color": null,
       "description_width": ""
      }
     },
     "82c33d432f31413993a3b40b0c8844bc": {
      "model_module": "@jupyter-widgets/controls",
      "model_module_version": "1.5.0",
      "model_name": "FloatProgressModel",
      "state": {
       "_dom_classes": [],
       "_model_module": "@jupyter-widgets/controls",
       "_model_module_version": "1.5.0",
       "_model_name": "FloatProgressModel",
       "_view_count": null,
       "_view_module": "@jupyter-widgets/controls",
       "_view_module_version": "1.5.0",
       "_view_name": "ProgressView",
       "bar_style": "success",
       "description": "",
       "description_tooltip": null,
       "layout": "IPY_MODEL_9c40fb646c44488a9b89b75c22b681d9",
       "max": 824,
       "min": 0,
       "orientation": "horizontal",
       "style": "IPY_MODEL_8205567da72e46329e4dece1710ada66",
       "value": 824
      }
     },
     "82c80aaf8f8b47f2bc8c7773cbf3f245": {
      "model_module": "@jupyter-widgets/base",
      "model_module_version": "1.2.0",
      "model_name": "LayoutModel",
      "state": {
       "_model_module": "@jupyter-widgets/base",
       "_model_module_version": "1.2.0",
       "_model_name": "LayoutModel",
       "_view_count": null,
       "_view_module": "@jupyter-widgets/base",
       "_view_module_version": "1.2.0",
       "_view_name": "LayoutView",
       "align_content": null,
       "align_items": null,
       "align_self": null,
       "border": null,
       "bottom": null,
       "display": null,
       "flex": null,
       "flex_flow": null,
       "grid_area": null,
       "grid_auto_columns": null,
       "grid_auto_flow": null,
       "grid_auto_rows": null,
       "grid_column": null,
       "grid_gap": null,
       "grid_row": null,
       "grid_template_areas": null,
       "grid_template_columns": null,
       "grid_template_rows": null,
       "height": null,
       "justify_content": null,
       "justify_items": null,
       "left": null,
       "margin": null,
       "max_height": null,
       "max_width": null,
       "min_height": null,
       "min_width": null,
       "object_fit": null,
       "object_position": null,
       "order": null,
       "overflow": null,
       "overflow_x": null,
       "overflow_y": null,
       "padding": null,
       "right": null,
       "top": null,
       "visibility": null,
       "width": null
      }
     },
     "83a043132a51469686a8b93b01dd8910": {
      "model_module": "@jupyter-widgets/controls",
      "model_module_version": "1.5.0",
      "model_name": "DescriptionStyleModel",
      "state": {
       "_model_module": "@jupyter-widgets/controls",
       "_model_module_version": "1.5.0",
       "_model_name": "DescriptionStyleModel",
       "_view_count": null,
       "_view_module": "@jupyter-widgets/base",
       "_view_module_version": "1.2.0",
       "_view_name": "StyleView",
       "description_width": ""
      }
     },
     "83bad14809f74d5690db654b21db7757": {
      "model_module": "@jupyter-widgets/base",
      "model_module_version": "1.2.0",
      "model_name": "LayoutModel",
      "state": {
       "_model_module": "@jupyter-widgets/base",
       "_model_module_version": "1.2.0",
       "_model_name": "LayoutModel",
       "_view_count": null,
       "_view_module": "@jupyter-widgets/base",
       "_view_module_version": "1.2.0",
       "_view_name": "LayoutView",
       "align_content": null,
       "align_items": null,
       "align_self": null,
       "border": null,
       "bottom": null,
       "display": null,
       "flex": null,
       "flex_flow": null,
       "grid_area": null,
       "grid_auto_columns": null,
       "grid_auto_flow": null,
       "grid_auto_rows": null,
       "grid_column": null,
       "grid_gap": null,
       "grid_row": null,
       "grid_template_areas": null,
       "grid_template_columns": null,
       "grid_template_rows": null,
       "height": null,
       "justify_content": null,
       "justify_items": null,
       "left": null,
       "margin": null,
       "max_height": null,
       "max_width": null,
       "min_height": null,
       "min_width": null,
       "object_fit": null,
       "object_position": null,
       "order": null,
       "overflow": null,
       "overflow_x": null,
       "overflow_y": null,
       "padding": null,
       "right": null,
       "top": null,
       "visibility": null,
       "width": null
      }
     },
     "871edf331ca643868ba986edb5a0092c": {
      "model_module": "@jupyter-widgets/base",
      "model_module_version": "1.2.0",
      "model_name": "LayoutModel",
      "state": {
       "_model_module": "@jupyter-widgets/base",
       "_model_module_version": "1.2.0",
       "_model_name": "LayoutModel",
       "_view_count": null,
       "_view_module": "@jupyter-widgets/base",
       "_view_module_version": "1.2.0",
       "_view_name": "LayoutView",
       "align_content": null,
       "align_items": null,
       "align_self": null,
       "border": null,
       "bottom": null,
       "display": null,
       "flex": null,
       "flex_flow": null,
       "grid_area": null,
       "grid_auto_columns": null,
       "grid_auto_flow": null,
       "grid_auto_rows": null,
       "grid_column": null,
       "grid_gap": null,
       "grid_row": null,
       "grid_template_areas": null,
       "grid_template_columns": null,
       "grid_template_rows": null,
       "height": null,
       "justify_content": null,
       "justify_items": null,
       "left": null,
       "margin": null,
       "max_height": null,
       "max_width": null,
       "min_height": null,
       "min_width": null,
       "object_fit": null,
       "object_position": null,
       "order": null,
       "overflow": null,
       "overflow_x": null,
       "overflow_y": null,
       "padding": null,
       "right": null,
       "top": null,
       "visibility": null,
       "width": null
      }
     },
     "88fc913b52f348c0b914b875dbe7920b": {
      "model_module": "@jupyter-widgets/base",
      "model_module_version": "1.2.0",
      "model_name": "LayoutModel",
      "state": {
       "_model_module": "@jupyter-widgets/base",
       "_model_module_version": "1.2.0",
       "_model_name": "LayoutModel",
       "_view_count": null,
       "_view_module": "@jupyter-widgets/base",
       "_view_module_version": "1.2.0",
       "_view_name": "LayoutView",
       "align_content": null,
       "align_items": null,
       "align_self": null,
       "border": null,
       "bottom": null,
       "display": null,
       "flex": null,
       "flex_flow": null,
       "grid_area": null,
       "grid_auto_columns": null,
       "grid_auto_flow": null,
       "grid_auto_rows": null,
       "grid_column": null,
       "grid_gap": null,
       "grid_row": null,
       "grid_template_areas": null,
       "grid_template_columns": null,
       "grid_template_rows": null,
       "height": null,
       "justify_content": null,
       "justify_items": null,
       "left": null,
       "margin": null,
       "max_height": null,
       "max_width": null,
       "min_height": null,
       "min_width": null,
       "object_fit": null,
       "object_position": null,
       "order": null,
       "overflow": null,
       "overflow_x": null,
       "overflow_y": null,
       "padding": null,
       "right": null,
       "top": null,
       "visibility": null,
       "width": null
      }
     },
     "890197a3c45347b388446d6362aad861": {
      "model_module": "@jupyter-widgets/controls",
      "model_module_version": "1.5.0",
      "model_name": "HBoxModel",
      "state": {
       "_dom_classes": [],
       "_model_module": "@jupyter-widgets/controls",
       "_model_module_version": "1.5.0",
       "_model_name": "HBoxModel",
       "_view_count": null,
       "_view_module": "@jupyter-widgets/controls",
       "_view_module_version": "1.5.0",
       "_view_name": "HBoxView",
       "box_style": "",
       "children": [
        "IPY_MODEL_38bd0fc21722457ab1f6a3928dc0c427",
        "IPY_MODEL_9154ba83793142b581098c4ddebde8a8",
        "IPY_MODEL_455adad1bc08451eba2887e261ce34dc"
       ],
       "layout": "IPY_MODEL_4d14ed67552a4e1882fb977a868b2a75"
      }
     },
     "89c9e0c072d7463f8a643b57a909f46b": {
      "model_module": "@jupyter-widgets/controls",
      "model_module_version": "1.5.0",
      "model_name": "HTMLModel",
      "state": {
       "_dom_classes": [],
       "_model_module": "@jupyter-widgets/controls",
       "_model_module_version": "1.5.0",
       "_model_name": "HTMLModel",
       "_view_count": null,
       "_view_module": "@jupyter-widgets/controls",
       "_view_module_version": "1.5.0",
       "_view_name": "HTMLView",
       "description": "",
       "description_tooltip": null,
       "layout": "IPY_MODEL_dfe047b914d9463fa7bd68f299db3a73",
       "placeholder": "​",
       "style": "IPY_MODEL_2612aa073a7041b18859ff5f3ba15ba0",
       "value": "100%"
      }
     },
     "8a1d69689ed446a086307bc1d4e78240": {
      "model_module": "@jupyter-widgets/controls",
      "model_module_version": "1.5.0",
      "model_name": "DescriptionStyleModel",
      "state": {
       "_model_module": "@jupyter-widgets/controls",
       "_model_module_version": "1.5.0",
       "_model_name": "DescriptionStyleModel",
       "_view_count": null,
       "_view_module": "@jupyter-widgets/base",
       "_view_module_version": "1.2.0",
       "_view_name": "StyleView",
       "description_width": ""
      }
     },
     "8ce759da14cb42548862f98b8d7b048e": {
      "model_module": "@jupyter-widgets/controls",
      "model_module_version": "1.5.0",
      "model_name": "DescriptionStyleModel",
      "state": {
       "_model_module": "@jupyter-widgets/controls",
       "_model_module_version": "1.5.0",
       "_model_name": "DescriptionStyleModel",
       "_view_count": null,
       "_view_module": "@jupyter-widgets/base",
       "_view_module_version": "1.2.0",
       "_view_name": "StyleView",
       "description_width": ""
      }
     },
     "8ef91127733449f4ab83269bbb9a9ddb": {
      "model_module": "@jupyter-widgets/controls",
      "model_module_version": "1.5.0",
      "model_name": "ProgressStyleModel",
      "state": {
       "_model_module": "@jupyter-widgets/controls",
       "_model_module_version": "1.5.0",
       "_model_name": "ProgressStyleModel",
       "_view_count": null,
       "_view_module": "@jupyter-widgets/base",
       "_view_module_version": "1.2.0",
       "_view_name": "StyleView",
       "bar_color": null,
       "description_width": ""
      }
     },
     "90a84773fc7b4e4085b75f804117d227": {
      "model_module": "@jupyter-widgets/base",
      "model_module_version": "1.2.0",
      "model_name": "LayoutModel",
      "state": {
       "_model_module": "@jupyter-widgets/base",
       "_model_module_version": "1.2.0",
       "_model_name": "LayoutModel",
       "_view_count": null,
       "_view_module": "@jupyter-widgets/base",
       "_view_module_version": "1.2.0",
       "_view_name": "LayoutView",
       "align_content": null,
       "align_items": null,
       "align_self": null,
       "border": null,
       "bottom": null,
       "display": null,
       "flex": null,
       "flex_flow": null,
       "grid_area": null,
       "grid_auto_columns": null,
       "grid_auto_flow": null,
       "grid_auto_rows": null,
       "grid_column": null,
       "grid_gap": null,
       "grid_row": null,
       "grid_template_areas": null,
       "grid_template_columns": null,
       "grid_template_rows": null,
       "height": null,
       "justify_content": null,
       "justify_items": null,
       "left": null,
       "margin": null,
       "max_height": null,
       "max_width": null,
       "min_height": null,
       "min_width": null,
       "object_fit": null,
       "object_position": null,
       "order": null,
       "overflow": null,
       "overflow_x": null,
       "overflow_y": null,
       "padding": null,
       "right": null,
       "top": null,
       "visibility": null,
       "width": null
      }
     },
     "9154ba83793142b581098c4ddebde8a8": {
      "model_module": "@jupyter-widgets/controls",
      "model_module_version": "1.5.0",
      "model_name": "FloatProgressModel",
      "state": {
       "_dom_classes": [],
       "_model_module": "@jupyter-widgets/controls",
       "_model_module_version": "1.5.0",
       "_model_name": "FloatProgressModel",
       "_view_count": null,
       "_view_module": "@jupyter-widgets/controls",
       "_view_module_version": "1.5.0",
       "_view_name": "ProgressView",
       "bar_style": "success",
       "description": "",
       "description_tooltip": null,
       "layout": "IPY_MODEL_a09f53038d7e47ca9ebfb93e234620d7",
       "max": 10,
       "min": 0,
       "orientation": "horizontal",
       "style": "IPY_MODEL_1eb4eebe76f84ea193203b54672e3d87",
       "value": 10
      }
     },
     "9163ef0a2e0c4ef6b6d6891f4aa236f9": {
      "model_module": "@jupyter-widgets/controls",
      "model_module_version": "1.5.0",
      "model_name": "FloatProgressModel",
      "state": {
       "_dom_classes": [],
       "_model_module": "@jupyter-widgets/controls",
       "_model_module_version": "1.5.0",
       "_model_name": "FloatProgressModel",
       "_view_count": null,
       "_view_module": "@jupyter-widgets/controls",
       "_view_module_version": "1.5.0",
       "_view_name": "ProgressView",
       "bar_style": "success",
       "description": "",
       "description_tooltip": null,
       "layout": "IPY_MODEL_1979b65faecd414ebb3130a0cb5acc9d",
       "max": 26314,
       "min": 0,
       "orientation": "horizontal",
       "style": "IPY_MODEL_c439f7bd1bcd496a90a8f1ab2fb0c311",
       "value": 26314
      }
     },
     "919c801d48424315a1408adf3ae1809c": {
      "model_module": "@jupyter-widgets/base",
      "model_module_version": "1.2.0",
      "model_name": "LayoutModel",
      "state": {
       "_model_module": "@jupyter-widgets/base",
       "_model_module_version": "1.2.0",
       "_model_name": "LayoutModel",
       "_view_count": null,
       "_view_module": "@jupyter-widgets/base",
       "_view_module_version": "1.2.0",
       "_view_name": "LayoutView",
       "align_content": null,
       "align_items": null,
       "align_self": null,
       "border": null,
       "bottom": null,
       "display": null,
       "flex": null,
       "flex_flow": null,
       "grid_area": null,
       "grid_auto_columns": null,
       "grid_auto_flow": null,
       "grid_auto_rows": null,
       "grid_column": null,
       "grid_gap": null,
       "grid_row": null,
       "grid_template_areas": null,
       "grid_template_columns": null,
       "grid_template_rows": null,
       "height": null,
       "justify_content": null,
       "justify_items": null,
       "left": null,
       "margin": null,
       "max_height": null,
       "max_width": null,
       "min_height": null,
       "min_width": null,
       "object_fit": null,
       "object_position": null,
       "order": null,
       "overflow": null,
       "overflow_x": null,
       "overflow_y": null,
       "padding": null,
       "right": null,
       "top": null,
       "visibility": null,
       "width": null
      }
     },
     "93a6f93beb9d4479bf66928994b24a67": {
      "model_module": "@jupyter-widgets/controls",
      "model_module_version": "1.5.0",
      "model_name": "DescriptionStyleModel",
      "state": {
       "_model_module": "@jupyter-widgets/controls",
       "_model_module_version": "1.5.0",
       "_model_name": "DescriptionStyleModel",
       "_view_count": null,
       "_view_module": "@jupyter-widgets/base",
       "_view_module_version": "1.2.0",
       "_view_name": "StyleView",
       "description_width": ""
      }
     },
     "9c40fb646c44488a9b89b75c22b681d9": {
      "model_module": "@jupyter-widgets/base",
      "model_module_version": "1.2.0",
      "model_name": "LayoutModel",
      "state": {
       "_model_module": "@jupyter-widgets/base",
       "_model_module_version": "1.2.0",
       "_model_name": "LayoutModel",
       "_view_count": null,
       "_view_module": "@jupyter-widgets/base",
       "_view_module_version": "1.2.0",
       "_view_name": "LayoutView",
       "align_content": null,
       "align_items": null,
       "align_self": null,
       "border": null,
       "bottom": null,
       "display": null,
       "flex": null,
       "flex_flow": null,
       "grid_area": null,
       "grid_auto_columns": null,
       "grid_auto_flow": null,
       "grid_auto_rows": null,
       "grid_column": null,
       "grid_gap": null,
       "grid_row": null,
       "grid_template_areas": null,
       "grid_template_columns": null,
       "grid_template_rows": null,
       "height": null,
       "justify_content": null,
       "justify_items": null,
       "left": null,
       "margin": null,
       "max_height": null,
       "max_width": null,
       "min_height": null,
       "min_width": null,
       "object_fit": null,
       "object_position": null,
       "order": null,
       "overflow": null,
       "overflow_x": null,
       "overflow_y": null,
       "padding": null,
       "right": null,
       "top": null,
       "visibility": null,
       "width": null
      }
     },
     "9d34e71cc3c947459ff3e16677dc5cbe": {
      "model_module": "@jupyter-widgets/base",
      "model_module_version": "1.2.0",
      "model_name": "LayoutModel",
      "state": {
       "_model_module": "@jupyter-widgets/base",
       "_model_module_version": "1.2.0",
       "_model_name": "LayoutModel",
       "_view_count": null,
       "_view_module": "@jupyter-widgets/base",
       "_view_module_version": "1.2.0",
       "_view_name": "LayoutView",
       "align_content": null,
       "align_items": null,
       "align_self": null,
       "border": null,
       "bottom": null,
       "display": null,
       "flex": null,
       "flex_flow": null,
       "grid_area": null,
       "grid_auto_columns": null,
       "grid_auto_flow": null,
       "grid_auto_rows": null,
       "grid_column": null,
       "grid_gap": null,
       "grid_row": null,
       "grid_template_areas": null,
       "grid_template_columns": null,
       "grid_template_rows": null,
       "height": null,
       "justify_content": null,
       "justify_items": null,
       "left": null,
       "margin": null,
       "max_height": null,
       "max_width": null,
       "min_height": null,
       "min_width": null,
       "object_fit": null,
       "object_position": null,
       "order": null,
       "overflow": null,
       "overflow_x": null,
       "overflow_y": null,
       "padding": null,
       "right": null,
       "top": null,
       "visibility": null,
       "width": null
      }
     },
     "a09f53038d7e47ca9ebfb93e234620d7": {
      "model_module": "@jupyter-widgets/base",
      "model_module_version": "1.2.0",
      "model_name": "LayoutModel",
      "state": {
       "_model_module": "@jupyter-widgets/base",
       "_model_module_version": "1.2.0",
       "_model_name": "LayoutModel",
       "_view_count": null,
       "_view_module": "@jupyter-widgets/base",
       "_view_module_version": "1.2.0",
       "_view_name": "LayoutView",
       "align_content": null,
       "align_items": null,
       "align_self": null,
       "border": null,
       "bottom": null,
       "display": null,
       "flex": null,
       "flex_flow": null,
       "grid_area": null,
       "grid_auto_columns": null,
       "grid_auto_flow": null,
       "grid_auto_rows": null,
       "grid_column": null,
       "grid_gap": null,
       "grid_row": null,
       "grid_template_areas": null,
       "grid_template_columns": null,
       "grid_template_rows": null,
       "height": null,
       "justify_content": null,
       "justify_items": null,
       "left": null,
       "margin": null,
       "max_height": null,
       "max_width": null,
       "min_height": null,
       "min_width": null,
       "object_fit": null,
       "object_position": null,
       "order": null,
       "overflow": null,
       "overflow_x": null,
       "overflow_y": null,
       "padding": null,
       "right": null,
       "top": null,
       "visibility": null,
       "width": null
      }
     },
     "a0cd0837263743e4af5731588410979d": {
      "model_module": "@jupyter-widgets/controls",
      "model_module_version": "1.5.0",
      "model_name": "FloatProgressModel",
      "state": {
       "_dom_classes": [],
       "_model_module": "@jupyter-widgets/controls",
       "_model_module_version": "1.5.0",
       "_model_name": "FloatProgressModel",
       "_view_count": null,
       "_view_module": "@jupyter-widgets/controls",
       "_view_module_version": "1.5.0",
       "_view_name": "ProgressView",
       "bar_style": "success",
       "description": "",
       "description_tooltip": null,
       "layout": "IPY_MODEL_f992eb36caf3448da5bb5ca3d824207f",
       "max": 7722,
       "min": 0,
       "orientation": "horizontal",
       "style": "IPY_MODEL_8ef91127733449f4ab83269bbb9a9ddb",
       "value": 7722
      }
     },
     "a2446b66e4d949bc82cada988af00e36": {
      "model_module": "@jupyter-widgets/base",
      "model_module_version": "1.2.0",
      "model_name": "LayoutModel",
      "state": {
       "_model_module": "@jupyter-widgets/base",
       "_model_module_version": "1.2.0",
       "_model_name": "LayoutModel",
       "_view_count": null,
       "_view_module": "@jupyter-widgets/base",
       "_view_module_version": "1.2.0",
       "_view_name": "LayoutView",
       "align_content": null,
       "align_items": null,
       "align_self": null,
       "border": null,
       "bottom": null,
       "display": null,
       "flex": null,
       "flex_flow": null,
       "grid_area": null,
       "grid_auto_columns": null,
       "grid_auto_flow": null,
       "grid_auto_rows": null,
       "grid_column": null,
       "grid_gap": null,
       "grid_row": null,
       "grid_template_areas": null,
       "grid_template_columns": null,
       "grid_template_rows": null,
       "height": null,
       "justify_content": null,
       "justify_items": null,
       "left": null,
       "margin": null,
       "max_height": null,
       "max_width": null,
       "min_height": null,
       "min_width": null,
       "object_fit": null,
       "object_position": null,
       "order": null,
       "overflow": null,
       "overflow_x": null,
       "overflow_y": null,
       "padding": null,
       "right": null,
       "top": null,
       "visibility": null,
       "width": null
      }
     },
     "a4cbc1799f234db0baa7af4c345bd2bc": {
      "model_module": "@jupyter-widgets/controls",
      "model_module_version": "1.5.0",
      "model_name": "HTMLModel",
      "state": {
       "_dom_classes": [],
       "_model_module": "@jupyter-widgets/controls",
       "_model_module_version": "1.5.0",
       "_model_name": "HTMLModel",
       "_view_count": null,
       "_view_module": "@jupyter-widgets/controls",
       "_view_module_version": "1.5.0",
       "_view_name": "HTMLView",
       "description": "",
       "description_tooltip": null,
       "layout": "IPY_MODEL_112f323b17e84838bef42c2feefee29d",
       "placeholder": "​",
       "style": "IPY_MODEL_53203a99e0c341158f7ad8d255727a87",
       "value": "100%"
      }
     },
     "ad6facb9a9bf4fd19005344f0e759a53": {
      "model_module": "@jupyter-widgets/base",
      "model_module_version": "1.2.0",
      "model_name": "LayoutModel",
      "state": {
       "_model_module": "@jupyter-widgets/base",
       "_model_module_version": "1.2.0",
       "_model_name": "LayoutModel",
       "_view_count": null,
       "_view_module": "@jupyter-widgets/base",
       "_view_module_version": "1.2.0",
       "_view_name": "LayoutView",
       "align_content": null,
       "align_items": null,
       "align_self": null,
       "border": null,
       "bottom": null,
       "display": null,
       "flex": null,
       "flex_flow": null,
       "grid_area": null,
       "grid_auto_columns": null,
       "grid_auto_flow": null,
       "grid_auto_rows": null,
       "grid_column": null,
       "grid_gap": null,
       "grid_row": null,
       "grid_template_areas": null,
       "grid_template_columns": null,
       "grid_template_rows": null,
       "height": null,
       "justify_content": null,
       "justify_items": null,
       "left": null,
       "margin": null,
       "max_height": null,
       "max_width": null,
       "min_height": null,
       "min_width": null,
       "object_fit": null,
       "object_position": null,
       "order": null,
       "overflow": null,
       "overflow_x": null,
       "overflow_y": null,
       "padding": null,
       "right": null,
       "top": null,
       "visibility": null,
       "width": null
      }
     },
     "ae9eeff7bb924446babf88847b9d6329": {
      "model_module": "@jupyter-widgets/controls",
      "model_module_version": "1.5.0",
      "model_name": "FloatProgressModel",
      "state": {
       "_dom_classes": [],
       "_model_module": "@jupyter-widgets/controls",
       "_model_module_version": "1.5.0",
       "_model_name": "FloatProgressModel",
       "_view_count": null,
       "_view_module": "@jupyter-widgets/controls",
       "_view_module_version": "1.5.0",
       "_view_name": "ProgressView",
       "bar_style": "success",
       "description": "",
       "description_tooltip": null,
       "layout": "IPY_MODEL_b06c8323e14f425781dd5a8f80542d36",
       "max": 7722,
       "min": 0,
       "orientation": "horizontal",
       "style": "IPY_MODEL_480ef60c51b0425a808c989f4fab081a",
       "value": 7722
      }
     },
     "b06c8323e14f425781dd5a8f80542d36": {
      "model_module": "@jupyter-widgets/base",
      "model_module_version": "1.2.0",
      "model_name": "LayoutModel",
      "state": {
       "_model_module": "@jupyter-widgets/base",
       "_model_module_version": "1.2.0",
       "_model_name": "LayoutModel",
       "_view_count": null,
       "_view_module": "@jupyter-widgets/base",
       "_view_module_version": "1.2.0",
       "_view_name": "LayoutView",
       "align_content": null,
       "align_items": null,
       "align_self": null,
       "border": null,
       "bottom": null,
       "display": null,
       "flex": null,
       "flex_flow": null,
       "grid_area": null,
       "grid_auto_columns": null,
       "grid_auto_flow": null,
       "grid_auto_rows": null,
       "grid_column": null,
       "grid_gap": null,
       "grid_row": null,
       "grid_template_areas": null,
       "grid_template_columns": null,
       "grid_template_rows": null,
       "height": null,
       "justify_content": null,
       "justify_items": null,
       "left": null,
       "margin": null,
       "max_height": null,
       "max_width": null,
       "min_height": null,
       "min_width": null,
       "object_fit": null,
       "object_position": null,
       "order": null,
       "overflow": null,
       "overflow_x": null,
       "overflow_y": null,
       "padding": null,
       "right": null,
       "top": null,
       "visibility": null,
       "width": null
      }
     },
     "b1f189e9899c408c8bb984d6f496b1b0": {
      "model_module": "@jupyter-widgets/controls",
      "model_module_version": "1.5.0",
      "model_name": "ProgressStyleModel",
      "state": {
       "_model_module": "@jupyter-widgets/controls",
       "_model_module_version": "1.5.0",
       "_model_name": "ProgressStyleModel",
       "_view_count": null,
       "_view_module": "@jupyter-widgets/base",
       "_view_module_version": "1.2.0",
       "_view_name": "StyleView",
       "bar_color": null,
       "description_width": ""
      }
     },
     "b4cc006f3c754927b553fec397e2f2fc": {
      "model_module": "@jupyter-widgets/controls",
      "model_module_version": "1.5.0",
      "model_name": "FloatProgressModel",
      "state": {
       "_dom_classes": [],
       "_model_module": "@jupyter-widgets/controls",
       "_model_module_version": "1.5.0",
       "_model_name": "FloatProgressModel",
       "_view_count": null,
       "_view_module": "@jupyter-widgets/controls",
       "_view_module_version": "1.5.0",
       "_view_name": "ProgressView",
       "bar_style": "success",
       "description": "",
       "description_tooltip": null,
       "layout": "IPY_MODEL_f9c3a4b8c06046c3afc93b4ca7c917d3",
       "max": 824,
       "min": 0,
       "orientation": "horizontal",
       "style": "IPY_MODEL_665a353ba8b14883b30aef33cd2ce84b",
       "value": 824
      }
     },
     "b5afcde5fa1544ea9861cf868a9f94fb": {
      "model_module": "@jupyter-widgets/controls",
      "model_module_version": "1.5.0",
      "model_name": "FloatProgressModel",
      "state": {
       "_dom_classes": [],
       "_model_module": "@jupyter-widgets/controls",
       "_model_module_version": "1.5.0",
       "_model_name": "FloatProgressModel",
       "_view_count": null,
       "_view_module": "@jupyter-widgets/controls",
       "_view_module_version": "1.5.0",
       "_view_name": "ProgressView",
       "bar_style": "success",
       "description": "",
       "description_tooltip": null,
       "layout": "IPY_MODEL_82c80aaf8f8b47f2bc8c7773cbf3f245",
       "max": 26314,
       "min": 0,
       "orientation": "horizontal",
       "style": "IPY_MODEL_da2827c62516496d8aff7121d10bb612",
       "value": 26314
      }
     },
     "b7d8447fc9f14b7da73c8a2d3cb4baa8": {
      "model_module": "@jupyter-widgets/base",
      "model_module_version": "1.2.0",
      "model_name": "LayoutModel",
      "state": {
       "_model_module": "@jupyter-widgets/base",
       "_model_module_version": "1.2.0",
       "_model_name": "LayoutModel",
       "_view_count": null,
       "_view_module": "@jupyter-widgets/base",
       "_view_module_version": "1.2.0",
       "_view_name": "LayoutView",
       "align_content": null,
       "align_items": null,
       "align_self": null,
       "border": null,
       "bottom": null,
       "display": null,
       "flex": null,
       "flex_flow": null,
       "grid_area": null,
       "grid_auto_columns": null,
       "grid_auto_flow": null,
       "grid_auto_rows": null,
       "grid_column": null,
       "grid_gap": null,
       "grid_row": null,
       "grid_template_areas": null,
       "grid_template_columns": null,
       "grid_template_rows": null,
       "height": null,
       "justify_content": null,
       "justify_items": null,
       "left": null,
       "margin": null,
       "max_height": null,
       "max_width": null,
       "min_height": null,
       "min_width": null,
       "object_fit": null,
       "object_position": null,
       "order": null,
       "overflow": null,
       "overflow_x": null,
       "overflow_y": null,
       "padding": null,
       "right": null,
       "top": null,
       "visibility": null,
       "width": null
      }
     },
     "b89f389c53204bf3b6c48fd97e86adbb": {
      "model_module": "@jupyter-widgets/base",
      "model_module_version": "1.2.0",
      "model_name": "LayoutModel",
      "state": {
       "_model_module": "@jupyter-widgets/base",
       "_model_module_version": "1.2.0",
       "_model_name": "LayoutModel",
       "_view_count": null,
       "_view_module": "@jupyter-widgets/base",
       "_view_module_version": "1.2.0",
       "_view_name": "LayoutView",
       "align_content": null,
       "align_items": null,
       "align_self": null,
       "border": null,
       "bottom": null,
       "display": null,
       "flex": null,
       "flex_flow": null,
       "grid_area": null,
       "grid_auto_columns": null,
       "grid_auto_flow": null,
       "grid_auto_rows": null,
       "grid_column": null,
       "grid_gap": null,
       "grid_row": null,
       "grid_template_areas": null,
       "grid_template_columns": null,
       "grid_template_rows": null,
       "height": null,
       "justify_content": null,
       "justify_items": null,
       "left": null,
       "margin": null,
       "max_height": null,
       "max_width": null,
       "min_height": null,
       "min_width": null,
       "object_fit": null,
       "object_position": null,
       "order": null,
       "overflow": null,
       "overflow_x": null,
       "overflow_y": null,
       "padding": null,
       "right": null,
       "top": null,
       "visibility": null,
       "width": null
      }
     },
     "c06ba59269ed4136af9814855fac7e46": {
      "model_module": "@jupyter-widgets/controls",
      "model_module_version": "1.5.0",
      "model_name": "HBoxModel",
      "state": {
       "_dom_classes": [],
       "_model_module": "@jupyter-widgets/controls",
       "_model_module_version": "1.5.0",
       "_model_name": "HBoxModel",
       "_view_count": null,
       "_view_module": "@jupyter-widgets/controls",
       "_view_module_version": "1.5.0",
       "_view_name": "HBoxView",
       "box_style": "",
       "children": [
        "IPY_MODEL_89c9e0c072d7463f8a643b57a909f46b",
        "IPY_MODEL_1abeeab86b1a49018a8a169cc931a89d",
        "IPY_MODEL_75553cdb41d9415e9f850b946dff5d58"
       ],
       "layout": "IPY_MODEL_919c801d48424315a1408adf3ae1809c"
      }
     },
     "c10d95d335354f6ca8c94293effea310": {
      "model_module": "@jupyter-widgets/base",
      "model_module_version": "1.2.0",
      "model_name": "LayoutModel",
      "state": {
       "_model_module": "@jupyter-widgets/base",
       "_model_module_version": "1.2.0",
       "_model_name": "LayoutModel",
       "_view_count": null,
       "_view_module": "@jupyter-widgets/base",
       "_view_module_version": "1.2.0",
       "_view_name": "LayoutView",
       "align_content": null,
       "align_items": null,
       "align_self": null,
       "border": null,
       "bottom": null,
       "display": null,
       "flex": null,
       "flex_flow": null,
       "grid_area": null,
       "grid_auto_columns": null,
       "grid_auto_flow": null,
       "grid_auto_rows": null,
       "grid_column": null,
       "grid_gap": null,
       "grid_row": null,
       "grid_template_areas": null,
       "grid_template_columns": null,
       "grid_template_rows": null,
       "height": null,
       "justify_content": null,
       "justify_items": null,
       "left": null,
       "margin": null,
       "max_height": null,
       "max_width": null,
       "min_height": null,
       "min_width": null,
       "object_fit": null,
       "object_position": null,
       "order": null,
       "overflow": null,
       "overflow_x": null,
       "overflow_y": null,
       "padding": null,
       "right": null,
       "top": null,
       "visibility": null,
       "width": null
      }
     },
     "c28e1b5198574a138c1fc9528d8a69ec": {
      "model_module": "@jupyter-widgets/base",
      "model_module_version": "1.2.0",
      "model_name": "LayoutModel",
      "state": {
       "_model_module": "@jupyter-widgets/base",
       "_model_module_version": "1.2.0",
       "_model_name": "LayoutModel",
       "_view_count": null,
       "_view_module": "@jupyter-widgets/base",
       "_view_module_version": "1.2.0",
       "_view_name": "LayoutView",
       "align_content": null,
       "align_items": null,
       "align_self": null,
       "border": null,
       "bottom": null,
       "display": null,
       "flex": null,
       "flex_flow": null,
       "grid_area": null,
       "grid_auto_columns": null,
       "grid_auto_flow": null,
       "grid_auto_rows": null,
       "grid_column": null,
       "grid_gap": null,
       "grid_row": null,
       "grid_template_areas": null,
       "grid_template_columns": null,
       "grid_template_rows": null,
       "height": null,
       "justify_content": null,
       "justify_items": null,
       "left": null,
       "margin": null,
       "max_height": null,
       "max_width": null,
       "min_height": null,
       "min_width": null,
       "object_fit": null,
       "object_position": null,
       "order": null,
       "overflow": null,
       "overflow_x": null,
       "overflow_y": null,
       "padding": null,
       "right": null,
       "top": null,
       "visibility": null,
       "width": null
      }
     },
     "c439f7bd1bcd496a90a8f1ab2fb0c311": {
      "model_module": "@jupyter-widgets/controls",
      "model_module_version": "1.5.0",
      "model_name": "ProgressStyleModel",
      "state": {
       "_model_module": "@jupyter-widgets/controls",
       "_model_module_version": "1.5.0",
       "_model_name": "ProgressStyleModel",
       "_view_count": null,
       "_view_module": "@jupyter-widgets/base",
       "_view_module_version": "1.2.0",
       "_view_name": "StyleView",
       "bar_color": null,
       "description_width": ""
      }
     },
     "c7ca4407c42a463d9e0a65abd38aa6cf": {
      "model_module": "@jupyter-widgets/controls",
      "model_module_version": "1.5.0",
      "model_name": "HBoxModel",
      "state": {
       "_dom_classes": [],
       "_model_module": "@jupyter-widgets/controls",
       "_model_module_version": "1.5.0",
       "_model_name": "HBoxModel",
       "_view_count": null,
       "_view_module": "@jupyter-widgets/controls",
       "_view_module_version": "1.5.0",
       "_view_name": "HBoxView",
       "box_style": "",
       "children": [
        "IPY_MODEL_7253cc5feabc47dd9c771b5a00221ee4",
        "IPY_MODEL_216af4d0389542cfb1c83ac2beab58e8",
        "IPY_MODEL_d9a8ccf0e9974a8291a78ba305777395"
       ],
       "layout": "IPY_MODEL_871edf331ca643868ba986edb5a0092c"
      }
     },
     "c7dce407c8e64e24b38e01fccd92a7c7": {
      "model_module": "@jupyter-widgets/controls",
      "model_module_version": "1.5.0",
      "model_name": "DescriptionStyleModel",
      "state": {
       "_model_module": "@jupyter-widgets/controls",
       "_model_module_version": "1.5.0",
       "_model_name": "DescriptionStyleModel",
       "_view_count": null,
       "_view_module": "@jupyter-widgets/base",
       "_view_module_version": "1.2.0",
       "_view_name": "StyleView",
       "description_width": ""
      }
     },
     "c86138270eff4ac79f2afad52496e66b": {
      "model_module": "@jupyter-widgets/controls",
      "model_module_version": "1.5.0",
      "model_name": "DescriptionStyleModel",
      "state": {
       "_model_module": "@jupyter-widgets/controls",
       "_model_module_version": "1.5.0",
       "_model_name": "DescriptionStyleModel",
       "_view_count": null,
       "_view_module": "@jupyter-widgets/base",
       "_view_module_version": "1.2.0",
       "_view_name": "StyleView",
       "description_width": ""
      }
     },
     "ca1586ec532347b49fe24c54e1e93a1d": {
      "model_module": "@jupyter-widgets/controls",
      "model_module_version": "1.5.0",
      "model_name": "HTMLModel",
      "state": {
       "_dom_classes": [],
       "_model_module": "@jupyter-widgets/controls",
       "_model_module_version": "1.5.0",
       "_model_name": "HTMLModel",
       "_view_count": null,
       "_view_module": "@jupyter-widgets/controls",
       "_view_module_version": "1.5.0",
       "_view_name": "HTMLView",
       "description": "",
       "description_tooltip": null,
       "layout": "IPY_MODEL_0fc348e90e8e4765ace31292efd0595a",
       "placeholder": "​",
       "style": "IPY_MODEL_93a6f93beb9d4479bf66928994b24a67",
       "value": "100%"
      }
     },
     "ca932e43db1445ae8a41fd8e3c1c38ab": {
      "model_module": "@jupyter-widgets/base",
      "model_module_version": "1.2.0",
      "model_name": "LayoutModel",
      "state": {
       "_model_module": "@jupyter-widgets/base",
       "_model_module_version": "1.2.0",
       "_model_name": "LayoutModel",
       "_view_count": null,
       "_view_module": "@jupyter-widgets/base",
       "_view_module_version": "1.2.0",
       "_view_name": "LayoutView",
       "align_content": null,
       "align_items": null,
       "align_self": null,
       "border": null,
       "bottom": null,
       "display": null,
       "flex": null,
       "flex_flow": null,
       "grid_area": null,
       "grid_auto_columns": null,
       "grid_auto_flow": null,
       "grid_auto_rows": null,
       "grid_column": null,
       "grid_gap": null,
       "grid_row": null,
       "grid_template_areas": null,
       "grid_template_columns": null,
       "grid_template_rows": null,
       "height": null,
       "justify_content": null,
       "justify_items": null,
       "left": null,
       "margin": null,
       "max_height": null,
       "max_width": null,
       "min_height": null,
       "min_width": null,
       "object_fit": null,
       "object_position": null,
       "order": null,
       "overflow": null,
       "overflow_x": null,
       "overflow_y": null,
       "padding": null,
       "right": null,
       "top": null,
       "visibility": null,
       "width": null
      }
     },
     "cb5693eab38d4edaab2922e6e64afe32": {
      "model_module": "@jupyter-widgets/controls",
      "model_module_version": "1.5.0",
      "model_name": "HTMLModel",
      "state": {
       "_dom_classes": [],
       "_model_module": "@jupyter-widgets/controls",
       "_model_module_version": "1.5.0",
       "_model_name": "HTMLModel",
       "_view_count": null,
       "_view_module": "@jupyter-widgets/controls",
       "_view_module_version": "1.5.0",
       "_view_name": "HTMLView",
       "description": "",
       "description_tooltip": null,
       "layout": "IPY_MODEL_d1ec0e8c39284a10881150397faa6556",
       "placeholder": "​",
       "style": "IPY_MODEL_01f8ab2055834f51a39d4b333773bcec",
       "value": " 7722/7722 [00:02&lt;00:00, 3872.54it/s]"
      }
     },
     "cfcf0e9168554c6cbafb2074802d7ea7": {
      "model_module": "@jupyter-widgets/base",
      "model_module_version": "1.2.0",
      "model_name": "LayoutModel",
      "state": {
       "_model_module": "@jupyter-widgets/base",
       "_model_module_version": "1.2.0",
       "_model_name": "LayoutModel",
       "_view_count": null,
       "_view_module": "@jupyter-widgets/base",
       "_view_module_version": "1.2.0",
       "_view_name": "LayoutView",
       "align_content": null,
       "align_items": null,
       "align_self": null,
       "border": null,
       "bottom": null,
       "display": null,
       "flex": null,
       "flex_flow": null,
       "grid_area": null,
       "grid_auto_columns": null,
       "grid_auto_flow": null,
       "grid_auto_rows": null,
       "grid_column": null,
       "grid_gap": null,
       "grid_row": null,
       "grid_template_areas": null,
       "grid_template_columns": null,
       "grid_template_rows": null,
       "height": null,
       "justify_content": null,
       "justify_items": null,
       "left": null,
       "margin": null,
       "max_height": null,
       "max_width": null,
       "min_height": null,
       "min_width": null,
       "object_fit": null,
       "object_position": null,
       "order": null,
       "overflow": null,
       "overflow_x": null,
       "overflow_y": null,
       "padding": null,
       "right": null,
       "top": null,
       "visibility": null,
       "width": null
      }
     },
     "d059530dcffb424cae78d54df05f78ab": {
      "model_module": "@jupyter-widgets/controls",
      "model_module_version": "1.5.0",
      "model_name": "DescriptionStyleModel",
      "state": {
       "_model_module": "@jupyter-widgets/controls",
       "_model_module_version": "1.5.0",
       "_model_name": "DescriptionStyleModel",
       "_view_count": null,
       "_view_module": "@jupyter-widgets/base",
       "_view_module_version": "1.2.0",
       "_view_name": "StyleView",
       "description_width": ""
      }
     },
     "d06a5a68e10d4132bf257124d71868aa": {
      "model_module": "@jupyter-widgets/controls",
      "model_module_version": "1.5.0",
      "model_name": "HBoxModel",
      "state": {
       "_dom_classes": [],
       "_model_module": "@jupyter-widgets/controls",
       "_model_module_version": "1.5.0",
       "_model_name": "HBoxModel",
       "_view_count": null,
       "_view_module": "@jupyter-widgets/controls",
       "_view_module_version": "1.5.0",
       "_view_name": "HBoxView",
       "box_style": "",
       "children": [
        "IPY_MODEL_44d47d9922374cf7b43536df5c12ef00",
        "IPY_MODEL_9163ef0a2e0c4ef6b6d6891f4aa236f9",
        "IPY_MODEL_68623b76eaeb4d4ea0c42580b63cea5e"
       ],
       "layout": "IPY_MODEL_83bad14809f74d5690db654b21db7757"
      }
     },
     "d1ec0e8c39284a10881150397faa6556": {
      "model_module": "@jupyter-widgets/base",
      "model_module_version": "1.2.0",
      "model_name": "LayoutModel",
      "state": {
       "_model_module": "@jupyter-widgets/base",
       "_model_module_version": "1.2.0",
       "_model_name": "LayoutModel",
       "_view_count": null,
       "_view_module": "@jupyter-widgets/base",
       "_view_module_version": "1.2.0",
       "_view_name": "LayoutView",
       "align_content": null,
       "align_items": null,
       "align_self": null,
       "border": null,
       "bottom": null,
       "display": null,
       "flex": null,
       "flex_flow": null,
       "grid_area": null,
       "grid_auto_columns": null,
       "grid_auto_flow": null,
       "grid_auto_rows": null,
       "grid_column": null,
       "grid_gap": null,
       "grid_row": null,
       "grid_template_areas": null,
       "grid_template_columns": null,
       "grid_template_rows": null,
       "height": null,
       "justify_content": null,
       "justify_items": null,
       "left": null,
       "margin": null,
       "max_height": null,
       "max_width": null,
       "min_height": null,
       "min_width": null,
       "object_fit": null,
       "object_position": null,
       "order": null,
       "overflow": null,
       "overflow_x": null,
       "overflow_y": null,
       "padding": null,
       "right": null,
       "top": null,
       "visibility": null,
       "width": null
      }
     },
     "d2dd1817f7794cfcb21e52977436b179": {
      "model_module": "@jupyter-widgets/controls",
      "model_module_version": "1.5.0",
      "model_name": "HTMLModel",
      "state": {
       "_dom_classes": [],
       "_model_module": "@jupyter-widgets/controls",
       "_model_module_version": "1.5.0",
       "_model_name": "HTMLModel",
       "_view_count": null,
       "_view_module": "@jupyter-widgets/controls",
       "_view_module_version": "1.5.0",
       "_view_name": "HTMLView",
       "description": "",
       "description_tooltip": null,
       "layout": "IPY_MODEL_ad6facb9a9bf4fd19005344f0e759a53",
       "placeholder": "​",
       "style": "IPY_MODEL_4ecf6ec1372d44debe77c0383eeacc5e",
       "value": "100%"
      }
     },
     "d5180fe471534e7bbbb0b5898b69fe7b": {
      "model_module": "@jupyter-widgets/controls",
      "model_module_version": "1.5.0",
      "model_name": "DescriptionStyleModel",
      "state": {
       "_model_module": "@jupyter-widgets/controls",
       "_model_module_version": "1.5.0",
       "_model_name": "DescriptionStyleModel",
       "_view_count": null,
       "_view_module": "@jupyter-widgets/base",
       "_view_module_version": "1.2.0",
       "_view_name": "StyleView",
       "description_width": ""
      }
     },
     "d9a8ccf0e9974a8291a78ba305777395": {
      "model_module": "@jupyter-widgets/controls",
      "model_module_version": "1.5.0",
      "model_name": "HTMLModel",
      "state": {
       "_dom_classes": [],
       "_model_module": "@jupyter-widgets/controls",
       "_model_module_version": "1.5.0",
       "_model_name": "HTMLModel",
       "_view_count": null,
       "_view_module": "@jupyter-widgets/controls",
       "_view_module_version": "1.5.0",
       "_view_name": "HTMLView",
       "description": "",
       "description_tooltip": null,
       "layout": "IPY_MODEL_90a84773fc7b4e4085b75f804117d227",
       "placeholder": "​",
       "style": "IPY_MODEL_c86138270eff4ac79f2afad52496e66b",
       "value": " 26314/26314 [00:11&lt;00:00, 2389.92it/s]"
      }
     },
     "da2827c62516496d8aff7121d10bb612": {
      "model_module": "@jupyter-widgets/controls",
      "model_module_version": "1.5.0",
      "model_name": "ProgressStyleModel",
      "state": {
       "_model_module": "@jupyter-widgets/controls",
       "_model_module_version": "1.5.0",
       "_model_name": "ProgressStyleModel",
       "_view_count": null,
       "_view_module": "@jupyter-widgets/base",
       "_view_module_version": "1.2.0",
       "_view_name": "StyleView",
       "bar_color": null,
       "description_width": ""
      }
     },
     "dfe047b914d9463fa7bd68f299db3a73": {
      "model_module": "@jupyter-widgets/base",
      "model_module_version": "1.2.0",
      "model_name": "LayoutModel",
      "state": {
       "_model_module": "@jupyter-widgets/base",
       "_model_module_version": "1.2.0",
       "_model_name": "LayoutModel",
       "_view_count": null,
       "_view_module": "@jupyter-widgets/base",
       "_view_module_version": "1.2.0",
       "_view_name": "LayoutView",
       "align_content": null,
       "align_items": null,
       "align_self": null,
       "border": null,
       "bottom": null,
       "display": null,
       "flex": null,
       "flex_flow": null,
       "grid_area": null,
       "grid_auto_columns": null,
       "grid_auto_flow": null,
       "grid_auto_rows": null,
       "grid_column": null,
       "grid_gap": null,
       "grid_row": null,
       "grid_template_areas": null,
       "grid_template_columns": null,
       "grid_template_rows": null,
       "height": null,
       "justify_content": null,
       "justify_items": null,
       "left": null,
       "margin": null,
       "max_height": null,
       "max_width": null,
       "min_height": null,
       "min_width": null,
       "object_fit": null,
       "object_position": null,
       "order": null,
       "overflow": null,
       "overflow_x": null,
       "overflow_y": null,
       "padding": null,
       "right": null,
       "top": null,
       "visibility": null,
       "width": null
      }
     },
     "e29412c872754fe38da27ad8d2960557": {
      "model_module": "@jupyter-widgets/controls",
      "model_module_version": "1.5.0",
      "model_name": "HTMLModel",
      "state": {
       "_dom_classes": [],
       "_model_module": "@jupyter-widgets/controls",
       "_model_module_version": "1.5.0",
       "_model_name": "HTMLModel",
       "_view_count": null,
       "_view_module": "@jupyter-widgets/controls",
       "_view_module_version": "1.5.0",
       "_view_name": "HTMLView",
       "description": "",
       "description_tooltip": null,
       "layout": "IPY_MODEL_88fc913b52f348c0b914b875dbe7920b",
       "placeholder": "​",
       "style": "IPY_MODEL_fbc7df4acd6f4d2c9bac9a70a198d813",
       "value": "100%"
      }
     },
     "f992eb36caf3448da5bb5ca3d824207f": {
      "model_module": "@jupyter-widgets/base",
      "model_module_version": "1.2.0",
      "model_name": "LayoutModel",
      "state": {
       "_model_module": "@jupyter-widgets/base",
       "_model_module_version": "1.2.0",
       "_model_name": "LayoutModel",
       "_view_count": null,
       "_view_module": "@jupyter-widgets/base",
       "_view_module_version": "1.2.0",
       "_view_name": "LayoutView",
       "align_content": null,
       "align_items": null,
       "align_self": null,
       "border": null,
       "bottom": null,
       "display": null,
       "flex": null,
       "flex_flow": null,
       "grid_area": null,
       "grid_auto_columns": null,
       "grid_auto_flow": null,
       "grid_auto_rows": null,
       "grid_column": null,
       "grid_gap": null,
       "grid_row": null,
       "grid_template_areas": null,
       "grid_template_columns": null,
       "grid_template_rows": null,
       "height": null,
       "justify_content": null,
       "justify_items": null,
       "left": null,
       "margin": null,
       "max_height": null,
       "max_width": null,
       "min_height": null,
       "min_width": null,
       "object_fit": null,
       "object_position": null,
       "order": null,
       "overflow": null,
       "overflow_x": null,
       "overflow_y": null,
       "padding": null,
       "right": null,
       "top": null,
       "visibility": null,
       "width": null
      }
     },
     "f9c3a4b8c06046c3afc93b4ca7c917d3": {
      "model_module": "@jupyter-widgets/base",
      "model_module_version": "1.2.0",
      "model_name": "LayoutModel",
      "state": {
       "_model_module": "@jupyter-widgets/base",
       "_model_module_version": "1.2.0",
       "_model_name": "LayoutModel",
       "_view_count": null,
       "_view_module": "@jupyter-widgets/base",
       "_view_module_version": "1.2.0",
       "_view_name": "LayoutView",
       "align_content": null,
       "align_items": null,
       "align_self": null,
       "border": null,
       "bottom": null,
       "display": null,
       "flex": null,
       "flex_flow": null,
       "grid_area": null,
       "grid_auto_columns": null,
       "grid_auto_flow": null,
       "grid_auto_rows": null,
       "grid_column": null,
       "grid_gap": null,
       "grid_row": null,
       "grid_template_areas": null,
       "grid_template_columns": null,
       "grid_template_rows": null,
       "height": null,
       "justify_content": null,
       "justify_items": null,
       "left": null,
       "margin": null,
       "max_height": null,
       "max_width": null,
       "min_height": null,
       "min_width": null,
       "object_fit": null,
       "object_position": null,
       "order": null,
       "overflow": null,
       "overflow_x": null,
       "overflow_y": null,
       "padding": null,
       "right": null,
       "top": null,
       "visibility": null,
       "width": null
      }
     },
     "fbc7df4acd6f4d2c9bac9a70a198d813": {
      "model_module": "@jupyter-widgets/controls",
      "model_module_version": "1.5.0",
      "model_name": "DescriptionStyleModel",
      "state": {
       "_model_module": "@jupyter-widgets/controls",
       "_model_module_version": "1.5.0",
       "_model_name": "DescriptionStyleModel",
       "_view_count": null,
       "_view_module": "@jupyter-widgets/base",
       "_view_module_version": "1.2.0",
       "_view_name": "StyleView",
       "description_width": ""
      }
     },
     "fe5ffb69057a44588b51fa15f226148d": {
      "model_module": "@jupyter-widgets/controls",
      "model_module_version": "1.5.0",
      "model_name": "HBoxModel",
      "state": {
       "_dom_classes": [],
       "_model_module": "@jupyter-widgets/controls",
       "_model_module_version": "1.5.0",
       "_model_name": "HBoxModel",
       "_view_count": null,
       "_view_module": "@jupyter-widgets/controls",
       "_view_module_version": "1.5.0",
       "_view_name": "HBoxView",
       "box_style": "",
       "children": [
        "IPY_MODEL_a4cbc1799f234db0baa7af4c345bd2bc",
        "IPY_MODEL_a0cd0837263743e4af5731588410979d",
        "IPY_MODEL_0bdff5d6fa7e4d1abe454d781ba8ae94"
       ],
       "layout": "IPY_MODEL_cfcf0e9168554c6cbafb2074802d7ea7"
      }
     },
     "ffd430afa7cc4d7089b28501ad874cb9": {
      "model_module": "@jupyter-widgets/base",
      "model_module_version": "1.2.0",
      "model_name": "LayoutModel",
      "state": {
       "_model_module": "@jupyter-widgets/base",
       "_model_module_version": "1.2.0",
       "_model_name": "LayoutModel",
       "_view_count": null,
       "_view_module": "@jupyter-widgets/base",
       "_view_module_version": "1.2.0",
       "_view_name": "LayoutView",
       "align_content": null,
       "align_items": null,
       "align_self": null,
       "border": null,
       "bottom": null,
       "display": null,
       "flex": null,
       "flex_flow": null,
       "grid_area": null,
       "grid_auto_columns": null,
       "grid_auto_flow": null,
       "grid_auto_rows": null,
       "grid_column": null,
       "grid_gap": null,
       "grid_row": null,
       "grid_template_areas": null,
       "grid_template_columns": null,
       "grid_template_rows": null,
       "height": null,
       "justify_content": null,
       "justify_items": null,
       "left": null,
       "margin": null,
       "max_height": null,
       "max_width": null,
       "min_height": null,
       "min_width": null,
       "object_fit": null,
       "object_position": null,
       "order": null,
       "overflow": null,
       "overflow_x": null,
       "overflow_y": null,
       "padding": null,
       "right": null,
       "top": null,
       "visibility": null,
       "width": null
      }
     }
    },
    "version_major": 2,
    "version_minor": 0
   }
  }
 },
 "nbformat": 4,
 "nbformat_minor": 5
}