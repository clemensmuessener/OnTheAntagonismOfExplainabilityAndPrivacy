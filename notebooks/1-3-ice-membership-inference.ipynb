{
 "cells": [
  {
   "cell_type": "markdown",
   "id": "75916e17",
   "metadata": {},
   "source": [
    "# ICE Membership Inference Experiments"
   ]
  },
  {
   "cell_type": "code",
   "execution_count": 1,
   "id": "f6661d3f",
   "metadata": {
    "execution": {
     "iopub.execute_input": "2022-07-27T06:21:08.538209Z",
     "iopub.status.busy": "2022-07-27T06:21:08.534430Z",
     "iopub.status.idle": "2022-07-27T06:21:09.477450Z",
     "shell.execute_reply": "2022-07-27T06:21:09.476271Z"
    },
    "tags": []
   },
   "outputs": [],
   "source": [
    "import pandas as pd\n",
    "import sklearn.ensemble as es\n",
    "from sklearn.tree import DecisionTreeClassifier\n",
    "from sklearn.neural_network import MLPClassifier\n",
    "import matplotlib.pyplot as plt\n",
    "from sklearn.inspection import partial_dependence\n",
    "from sklearn.inspection import PartialDependenceDisplay\n",
    "import numpy as np\n",
    "import logging"
   ]
  },
  {
   "cell_type": "code",
   "execution_count": 2,
   "id": "c9feb214-2e00-4e32-9cca-8cc91333cac0",
   "metadata": {
    "execution": {
     "iopub.execute_input": "2022-07-27T06:21:09.484548Z",
     "iopub.status.busy": "2022-07-27T06:21:09.483507Z",
     "iopub.status.idle": "2022-07-27T06:21:09.487907Z",
     "shell.execute_reply": "2022-07-27T06:21:09.487015Z"
    },
    "tags": []
   },
   "outputs": [],
   "source": [
    "threads = 15"
   ]
  },
  {
   "cell_type": "code",
   "execution_count": 3,
   "id": "9947864e",
   "metadata": {
    "execution": {
     "iopub.execute_input": "2022-07-27T06:21:09.495901Z",
     "iopub.status.busy": "2022-07-27T06:21:09.494852Z",
     "iopub.status.idle": "2022-07-27T06:21:09.813402Z",
     "shell.execute_reply": "2022-07-27T06:21:09.814380Z"
    },
    "tags": []
   },
   "outputs": [
    {
     "name": "stderr",
     "output_type": "stream",
     "text": [
      "INFO:xai-privacy:Loading dataset 1: heart disease (numeric features) ...\n",
      "INFO:xai-privacy:Loading dataset 2: census income (categorical features) ...\n"
     ]
    }
   ],
   "source": [
    "%run experiment_setup.ipynb"
   ]
  },
  {
   "cell_type": "code",
   "execution_count": 4,
   "id": "89ebd7ed-37f0-441b-8dea-6eb42728d787",
   "metadata": {
    "execution": {
     "iopub.execute_input": "2022-07-27T06:21:09.821146Z",
     "iopub.status.busy": "2022-07-27T06:21:09.820105Z",
     "iopub.status.idle": "2022-07-27T06:21:09.824266Z",
     "shell.execute_reply": "2022-07-27T06:21:09.823345Z"
    },
    "tags": []
   },
   "outputs": [],
   "source": [
    "logger = logging.getLogger('xai-privacy')"
   ]
  },
  {
   "cell_type": "markdown",
   "id": "c6a61bbc",
   "metadata": {},
   "source": [
    "This notebook will go through the experiment for membership inference with individual conditional expectation (ICE). Membership inference means an attacker with access to the explanation can tell with high confidence for any sample whether it was included in the training data or not.\n",
    "\n",
    "The idea for ICE membership inference is as follows: The attacker can recreate the ICE lines for any sample and check whether they occur in the given explanation. If they do, there is a high chance that the sample was used in the training data (which was also used to create the ICE explanation). Otherwise the sample was not included in the training data."
   ]
  },
  {
   "cell_type": "markdown",
   "id": "cb6c7286",
   "metadata": {},
   "source": [
    "First, we implement the `train_explainer` and `membership_inference_attack_model_access` functions:"
   ]
  },
  {
   "cell_type": "code",
   "execution_count": 5,
   "id": "14b34ed0",
   "metadata": {
    "execution": {
     "iopub.execute_input": "2022-07-27T06:21:09.836323Z",
     "iopub.status.busy": "2022-07-27T06:21:09.834444Z",
     "iopub.status.idle": "2022-07-27T06:21:09.840570Z",
     "shell.execute_reply": "2022-07-27T06:21:09.839521Z"
    },
    "tags": []
   },
   "outputs": [],
   "source": [
    "class IceMembershipInference(MembershipInference):\n",
    "    def train_explainer(self, data_train, model):\n",
    "        # Calculate ICE\n",
    "        ice_features = []\n",
    "\n",
    "        for i in range(self.features.shape[1]):\n",
    "            logger.debug(f'Calculating ICE for feature {i}')\n",
    "            ice_features.append(partial_dependence(estimator=model, X=data_train.drop(self.outcome_name, axis=1), \n",
    "                                                   features=[i], percentiles=(0,1), kind='individual'))\n",
    "            \n",
    "        return ice_features\n",
    "        \n",
    "    @staticmethod\n",
    "    def membership_inference_attack_model_access(explainer, samples_df, model):\n",
    "        # we only use the features for membership inference, not the target. Therefore we must drop the last column.\n",
    "        samples_df = samples_df.drop(samples_df.columns[-1], axis=1)\n",
    "        samples = samples_df.to_numpy()\n",
    "        ice_features = explainer\n",
    "        pred_func = model.predict_proba\n",
    "        columns = samples_df.columns\n",
    "        \n",
    "        results = np.empty(samples.shape[0])\n",
    "\n",
    "        for i in range(samples.shape[0]):\n",
    "\n",
    "            sample = samples[i]\n",
    "\n",
    "            logger.debug(f'Checking sample {i}: {sample}')\n",
    "\n",
    "            for num, ice in enumerate(ice_features):\n",
    "\n",
    "                # Get the grid for this feature. These are the points at which we will get predictions from the model.\n",
    "                feature_values = ice['values'][0]\n",
    "\n",
    "                # Create array that contains the sample as many times as there are different grid points for this feature.\n",
    "                changed_samples = np.tile(sample, (feature_values.shape[0], 1))\n",
    "\n",
    "                # Change each copied samples feature in question to a point from the grid.\n",
    "                changed_samples[:, num] = feature_values\n",
    "\n",
    "                # create pandas dataframe from numpy array\n",
    "                changed_samples_df = pd.DataFrame(changed_samples, columns=columns)\n",
    "\n",
    "                # Get the predictions for these changed samples.\n",
    "                preds = pred_func(changed_samples_df)[:, 1]\n",
    "\n",
    "                # First, create array with boolean values whether the recreated predictions and the actual ICE predictions match.\n",
    "                # Then check if there is any row where all elements are true. \n",
    "                # That means there is at least one ICE line with identical predictions.\n",
    "                res = np.isclose(preds, ice['individual'][0], rtol=1e-03).all(1).any()\n",
    "\n",
    "                # If there is no identical ICE line for this feature, the sample can't be part of the training data.\n",
    "                # Break out of loop. res is false and will be appended to the list of results.\n",
    "                if res == False:\n",
    "                    logger.debug(f'Recreated ICE line for feature {num} does not match.')\n",
    "                    break;\n",
    "                logger.debug(f'Recreated ICE line for feature {num} matches.')\n",
    "\n",
    "            logger.debug(f'Inferred membership as {res}')\n",
    "\n",
    "            # This appends the last res to the results list. If a matching line for every feature was found, this is true \n",
    "            # (sample is in training data). Otherwise the last res will be false (sample is not in training data)\n",
    "            results[i] = res\n",
    "\n",
    "        return results"
   ]
  },
  {
   "cell_type": "markdown",
   "id": "d2ef61e5",
   "metadata": {},
   "source": [
    "# Executing Membership Inference"
   ]
  },
  {
   "cell_type": "markdown",
   "id": "bdb2e40d",
   "metadata": {},
   "source": [
    "Before running the experiment, we we will have a short look at the visual explanation of ICE. The underlying data of these graphs will be our attack vector for membership inference.\n",
    "\n",
    "The light blue lines are the change in prediction for single samples from the training data. These are the ICE lines for individual samples from the training data."
   ]
  },
  {
   "cell_type": "code",
   "execution_count": 6,
   "id": "887b0ab6-d79a-4d43-8863-fa6761283689",
   "metadata": {
    "execution": {
     "iopub.execute_input": "2022-07-27T06:21:09.850823Z",
     "iopub.status.busy": "2022-07-27T06:21:09.849692Z",
     "iopub.status.idle": "2022-07-27T06:21:10.036276Z",
     "shell.execute_reply": "2022-07-27T06:21:10.035294Z"
    },
    "tags": []
   },
   "outputs": [],
   "source": [
    "# Train a random forest model on training data.\n",
    "features = data_heart.drop(outcome_name_heart, axis=1)\n",
    "labels = data_heart[outcome_name_heart]\n",
    "\n",
    "model = es.RandomForestClassifier(random_state=0)\n",
    "model = model.fit(features, labels)"
   ]
  },
  {
   "cell_type": "code",
   "execution_count": 7,
   "id": "22023b64-37e9-4e41-a3e5-aff3a8e46f30",
   "metadata": {
    "execution": {
     "iopub.execute_input": "2022-07-27T06:21:10.058821Z",
     "iopub.status.busy": "2022-07-27T06:21:10.044790Z",
     "iopub.status.idle": "2022-07-27T06:21:11.364687Z",
     "shell.execute_reply": "2022-07-27T06:21:11.365584Z"
    },
    "tags": []
   },
   "outputs": [
    {
     "data": {
      "image/png": "[encoded data removed]",
      "text/plain": [
       "<Figure size 504x504 with 2 Axes>"
      ]
     },
     "metadata": {
      "needs_background": "light"
     },
     "output_type": "display_data"
    }
   ],
   "source": [
    "fig, ax = plt.subplots(figsize=(7, 7))\n",
    "\n",
    "display = PartialDependenceDisplay.from_estimator(\n",
    "       estimator=model, X=features, features=[0], feature_names=['age'], kind=\"individual\", subsample=20,\n",
    "       n_jobs=3, ice_lines_kw = { 'alpha' : 0.7, 'linewidth' : 2.0 }, grid_resolution=20, random_state=0, percentiles = (0.05, 0.95), ax=ax\n",
    ")\n",
    "\n",
    "plt.ylabel(\"heart disease risk\")\n",
    "plt.xlabel(\"age\")\n",
    "\n",
    "plt.show()"
   ]
  },
  {
   "cell_type": "markdown",
   "id": "883edb84",
   "metadata": {},
   "source": [
    "As a proof of concept for our privacy attack, we run the experiment with a very small amount of repetitions with logging to show that the membership inference function works in principle."
   ]
  },
  {
   "cell_type": "code",
   "execution_count": 8,
   "id": "813b7a63",
   "metadata": {
    "execution": {
     "iopub.execute_input": "2022-07-27T06:21:11.391937Z",
     "iopub.status.busy": "2022-07-27T06:21:11.380272Z",
     "iopub.status.idle": "2022-07-27T06:21:17.509565Z",
     "shell.execute_reply": "2022-07-27T06:21:17.508473Z"
    },
    "scrolled": true
   },
   "outputs": [
    {
     "name": "stderr",
     "output_type": "stream",
     "text": [
      "DEBUG:xai-privacy:Calculating ICE for feature 0\n",
      "DEBUG:xai-privacy:Calculating ICE for feature 1\n",
      "DEBUG:xai-privacy:Calculating ICE for feature 2\n",
      "DEBUG:xai-privacy:Calculating ICE for feature 3\n",
      "DEBUG:xai-privacy:Calculating ICE for feature 4\n",
      "DEBUG:xai-privacy:[[ 46. 110. 240. 140.   0.   0.]] taken from training data\n",
      "DEBUG:xai-privacy:[[ 57.  128.  229.  150.    0.4   1. ]] taken from test data\n",
      "DEBUG:xai-privacy:[[ 56.  140.    0.  121.    1.8   1. ]] taken from training data\n",
      "DEBUG:xai-privacy:[[ 67.  120.    0.  150.    1.5   1. ]] taken from test data\n",
      "DEBUG:xai-privacy:[[ 58. 128. 259. 130.   3.   1.]] taken from training data\n",
      "DEBUG:xai-privacy:[[ 35. 126. 282. 156.   0.   1.]] taken from test data\n",
      "DEBUG:xai-privacy:[[ 71.  160.  302.  162.    0.4   0. ]] taken from training data\n",
      "DEBUG:xai-privacy:[[ 51.  140.  299.  173.    1.6   1. ]] taken from test data\n",
      "DEBUG:xai-privacy:Checking sample 0: [ 46. 110. 240. 140.   0.]\n",
      "DEBUG:xai-privacy:Recreated ICE line for feature 0 matches.\n",
      "DEBUG:xai-privacy:Recreated ICE line for feature 1 matches.\n",
      "DEBUG:xai-privacy:Recreated ICE line for feature 2 matches.\n",
      "DEBUG:xai-privacy:Recreated ICE line for feature 3 matches.\n",
      "DEBUG:xai-privacy:Recreated ICE line for feature 4 matches.\n",
      "DEBUG:xai-privacy:Inferred membership as True\n",
      "DEBUG:xai-privacy:Checking sample 1: [ 57.  128.  229.  150.    0.4]\n",
      "DEBUG:xai-privacy:Recreated ICE line for feature 0 does not match.\n",
      "DEBUG:xai-privacy:Inferred membership as False\n",
      "DEBUG:xai-privacy:Checking sample 2: [ 56.  140.    0.  121.    1.8]\n",
      "DEBUG:xai-privacy:Recreated ICE line for feature 0 matches.\n",
      "DEBUG:xai-privacy:Recreated ICE line for feature 1 matches.\n",
      "DEBUG:xai-privacy:Recreated ICE line for feature 2 matches.\n",
      "DEBUG:xai-privacy:Recreated ICE line for feature 3 matches.\n",
      "DEBUG:xai-privacy:Recreated ICE line for feature 4 matches.\n",
      "DEBUG:xai-privacy:Inferred membership as True\n",
      "DEBUG:xai-privacy:Checking sample 3: [ 67.  120.    0.  150.    1.5]\n",
      "DEBUG:xai-privacy:Recreated ICE line for feature 0 does not match.\n",
      "DEBUG:xai-privacy:Inferred membership as False\n",
      "DEBUG:xai-privacy:Checking sample 4: [ 58. 128. 259. 130.   3.]\n",
      "DEBUG:xai-privacy:Recreated ICE line for feature 0 matches.\n",
      "DEBUG:xai-privacy:Recreated ICE line for feature 1 matches.\n",
      "DEBUG:xai-privacy:Recreated ICE line for feature 2 matches.\n",
      "DEBUG:xai-privacy:Recreated ICE line for feature 3 matches.\n",
      "DEBUG:xai-privacy:Recreated ICE line for feature 4 matches.\n",
      "DEBUG:xai-privacy:Inferred membership as True\n",
      "DEBUG:xai-privacy:Checking sample 5: [ 35. 126. 282. 156.   0.]\n",
      "DEBUG:xai-privacy:Recreated ICE line for feature 0 does not match.\n",
      "DEBUG:xai-privacy:Inferred membership as False\n",
      "DEBUG:xai-privacy:Checking sample 6: [ 71.  160.  302.  162.    0.4]\n",
      "DEBUG:xai-privacy:Recreated ICE line for feature 0 matches.\n",
      "DEBUG:xai-privacy:Recreated ICE line for feature 1 matches.\n",
      "DEBUG:xai-privacy:Recreated ICE line for feature 2 matches.\n",
      "DEBUG:xai-privacy:Recreated ICE line for feature 3 matches.\n",
      "DEBUG:xai-privacy:Recreated ICE line for feature 4 matches.\n",
      "DEBUG:xai-privacy:Inferred membership as True\n",
      "DEBUG:xai-privacy:Checking sample 7: [ 51.  140.  299.  173.    1.6]\n",
      "DEBUG:xai-privacy:Recreated ICE line for feature 0 does not match.\n",
      "DEBUG:xai-privacy:Inferred membership as False\n"
     ]
    },
    {
     "name": "stdout",
     "output_type": "stream",
     "text": [
      "Total time: 6.13s (training model: 0.14s, training explainer: 5.51s, experiment: 0.48s)\n",
      "Accuracy: 1.0, precision: 1.0, recall: 1.0\n"
     ]
    }
   ],
   "source": [
    "logger.setLevel(logging.DEBUG)\n",
    "\n",
    "EXP = IceMembershipInference(data_heart, numeric_features_heart, outcome_name_heart, random_state=0)\n",
    "EXP.membership_inference_experiment(num_queries=8, model=es.RandomForestClassifier(random_state=0), model_access=True, threads=1)\n",
    "\n",
    "logger.setLevel(logging.INFO)"
   ]
  },
  {
   "cell_type": "markdown",
   "id": "3192b2eb",
   "metadata": {},
   "source": [
    "The proof of concept should show that the membership inference function predicts membership very accurately. You can change the random state to try out a few different runs with different chosen samples."
   ]
  },
  {
   "cell_type": "markdown",
   "id": "4dcb3db0",
   "metadata": {},
   "source": [
    "Now we begin executing the actual experiment. We begin by defining the table that will hold the results for all our different experiment variations. Then we execute all variations of the experiment for this dataset. We vary the model between a decision tree, a random forest and a neural network. Each model uses the default configuration of scikit-learn."
   ]
  },
  {
   "cell_type": "code",
   "execution_count": 9,
   "id": "2afeb15f",
   "metadata": {
    "execution": {
     "iopub.execute_input": "2022-07-27T06:21:17.517908Z",
     "iopub.status.busy": "2022-07-27T06:21:17.516815Z",
     "iopub.status.idle": "2022-07-27T06:21:17.521276Z",
     "shell.execute_reply": "2022-07-27T06:21:17.520226Z"
    }
   },
   "outputs": [],
   "source": [
    "results_ = {'dataset': [], 'model': [], 'accuracy': [], 'precision': [], 'recall': []}\n",
    "\n",
    "results = pd.DataFrame(data = results_)"
   ]
  },
  {
   "cell_type": "code",
   "execution_count": 30,
   "id": "85b276da-3317-4aad-b67d-5104154abac3",
   "metadata": {},
   "outputs": [],
   "source": [
    "dataset_dicts = [data_heart_dict, data_heart_num_dict, data_heart_cat_dict, data_census_dict, data_census_num_dict, data_census_cat_dict]\n",
    "\n",
    "dt_dict = {'name': 'decision tree', 'model': DecisionTreeClassifier}\n",
    "rf_dict = {'name': 'random forest', 'model': es.RandomForestClassifier}\n",
    "nn_dict = {'name': 'neural network', 'model': MLPClassifier}\n",
    "\n",
    "model_dicts = [dt_dict, rf_dict, nn_dict]"
   ]
  },
  {
   "cell_type": "code",
   "execution_count": null,
   "id": "05494e77-1eea-486e-9fb0-c240797613ff",
   "metadata": {},
   "outputs": [
    {
     "name": "stdout",
     "output_type": "stream",
     "text": [
      "dataset: heart, model: decision tree\n",
      "Total time: 3.40s (training model: 0.02s, training explainer: 3.12s, experiment: 0.25s)\n",
      "Accuracy: 0.6416464891041163, precision: 0.5825105782792666, recall: 1.0\n",
      "dataset: heart, model: random forest\n"
     ]
    }
   ],
   "source": [
    "# This will run the experiment for each dataset and model combination\n",
    "\n",
    "results = run_all_experiments(IceMembershipInference, dataset_dicts, model_dicts, random_state=0, num_queries=None, model_access=True, threads=threads, results_table=results)"
   ]
  },
  {
   "cell_type": "markdown",
   "id": "b7f06a08",
   "metadata": {},
   "source": [
    "# Results\n",
    "\n",
    "The results of all variations of the membership inference experiment with ICE. In every experiment, we executed the membership inference attack on each sample of the training data and each sample of the test data. Both datasets are of equal size and originate from the same source dataset.\n",
    "\n",
    "Accuracy is the percentage of samples whose membership (true or false) was correctly inferred. An algorithm guessing at random would achieve an accuracy of 50 percent.\n",
    "\n",
    "Precision is the percentage of predicted training samples that is actually in the training data.\n",
    "\n",
    "Recall is the percentage of training samples whose membership (true) was correctly inferred."
   ]
  },
  {
   "cell_type": "code",
   "execution_count": 19,
   "id": "e8cd69e3",
   "metadata": {
    "execution": {
     "iopub.execute_input": "2022-07-27T06:42:41.067740Z",
     "iopub.status.busy": "2022-07-27T06:42:41.060993Z",
     "iopub.status.idle": "2022-07-27T06:42:41.079950Z",
     "shell.execute_reply": "2022-07-27T06:42:41.079055Z"
    }
   },
   "outputs": [
    {
     "data": {
      "text/html": [
       "<div>\n",
       "<style scoped>\n",
       "    .dataframe tbody tr th:only-of-type {\n",
       "        vertical-align: middle;\n",
       "    }\n",
       "\n",
       "    .dataframe tbody tr th {\n",
       "        vertical-align: top;\n",
       "    }\n",
       "\n",
       "    .dataframe thead th {\n",
       "        text-align: right;\n",
       "    }\n",
       "</style>\n",
       "<table border=\"1\" class=\"dataframe\">\n",
       "  <thead>\n",
       "    <tr style=\"text-align: right;\">\n",
       "      <th></th>\n",
       "      <th>dataset</th>\n",
       "      <th>model</th>\n",
       "      <th>accuracy</th>\n",
       "      <th>precision</th>\n",
       "      <th>recall</th>\n",
       "    </tr>\n",
       "  </thead>\n",
       "  <tbody>\n",
       "    <tr>\n",
       "      <th>0</th>\n",
       "      <td>numeric</td>\n",
       "      <td>decision tree</td>\n",
       "      <td>0.535194</td>\n",
       "      <td>0.518239</td>\n",
       "      <td>1.000000</td>\n",
       "    </tr>\n",
       "    <tr>\n",
       "      <th>1</th>\n",
       "      <td>numeric</td>\n",
       "      <td>random forest</td>\n",
       "      <td>1.000000</td>\n",
       "      <td>1.000000</td>\n",
       "      <td>1.000000</td>\n",
       "    </tr>\n",
       "    <tr>\n",
       "      <th>2</th>\n",
       "      <td>numeric</td>\n",
       "      <td>neural network</td>\n",
       "      <td>1.000000</td>\n",
       "      <td>1.000000</td>\n",
       "      <td>1.000000</td>\n",
       "    </tr>\n",
       "    <tr>\n",
       "      <th>3</th>\n",
       "      <td>categorical</td>\n",
       "      <td>decision tree</td>\n",
       "      <td>0.511267</td>\n",
       "      <td>0.505697</td>\n",
       "      <td>1.000000</td>\n",
       "    </tr>\n",
       "    <tr>\n",
       "      <th>4</th>\n",
       "      <td>categorical</td>\n",
       "      <td>random forest</td>\n",
       "      <td>0.998575</td>\n",
       "      <td>0.997159</td>\n",
       "      <td>1.000000</td>\n",
       "    </tr>\n",
       "    <tr>\n",
       "      <th>5</th>\n",
       "      <td>categorical</td>\n",
       "      <td>neural network</td>\n",
       "      <td>0.999352</td>\n",
       "      <td>0.998707</td>\n",
       "      <td>1.000000</td>\n",
       "    </tr>\n",
       "    <tr>\n",
       "      <th>6</th>\n",
       "      <td>mixed</td>\n",
       "      <td>decision tree</td>\n",
       "      <td>0.529376</td>\n",
       "      <td>0.515133</td>\n",
       "      <td>1.000000</td>\n",
       "    </tr>\n",
       "    <tr>\n",
       "      <th>7</th>\n",
       "      <td>mixed</td>\n",
       "      <td>random forest</td>\n",
       "      <td>0.982443</td>\n",
       "      <td>0.966077</td>\n",
       "      <td>1.000000</td>\n",
       "    </tr>\n",
       "    <tr>\n",
       "      <th>8</th>\n",
       "      <td>mixed</td>\n",
       "      <td>neural network</td>\n",
       "      <td>0.985369</td>\n",
       "      <td>0.998828</td>\n",
       "      <td>0.971878</td>\n",
       "    </tr>\n",
       "  </tbody>\n",
       "</table>\n",
       "</div>"
      ],
      "text/plain": [
       "       dataset           model  accuracy  precision    recall\n",
       "0      numeric   decision tree  0.535194   0.518239  1.000000\n",
       "1      numeric   random forest  1.000000   1.000000  1.000000\n",
       "2      numeric  neural network  1.000000   1.000000  1.000000\n",
       "3  categorical   decision tree  0.511267   0.505697  1.000000\n",
       "4  categorical   random forest  0.998575   0.997159  1.000000\n",
       "5  categorical  neural network  0.999352   0.998707  1.000000\n",
       "6        mixed   decision tree  0.529376   0.515133  1.000000\n",
       "7        mixed   random forest  0.982443   0.966077  1.000000\n",
       "8        mixed  neural network  0.985369   0.998828  0.971878"
      ]
     },
     "execution_count": 19,
     "metadata": {},
     "output_type": "execute_result"
    }
   ],
   "source": [
    "results"
   ]
  },
  {
   "cell_type": "code",
   "execution_count": 20,
   "id": "0ff0de03",
   "metadata": {
    "execution": {
     "iopub.execute_input": "2022-07-27T06:42:41.086954Z",
     "iopub.status.busy": "2022-07-27T06:42:41.085907Z",
     "iopub.status.idle": "2022-07-27T06:42:41.091577Z",
     "shell.execute_reply": "2022-07-27T06:42:41.092399Z"
    }
   },
   "outputs": [],
   "source": [
    "results.to_csv('results/1-3-ice-membership-inference-results.csv', index=False, na_rep='NaN', float_format='%.3f')"
   ]
  },
  {
   "cell_type": "markdown",
   "id": "77c758fc-695f-454c-9a78-dd0c7601892e",
   "metadata": {},
   "source": [
    "# Discussion\n",
    "\n",
    "In our experiments, membership inference with ICE has an accuracy between 99% and 100% for a random forest and a neural network, and an accuracy between 51% and 53% for a decision tree. Since no false negatives can occur, recall is always 100%.\n",
    "\n",
    "How do we explain the big difference in accuracy of the attack between a decision tree and a random forest or neural network? Have a look at the number of different predictions each model makes for the numeric dataset:"
   ]
  },
  {
   "cell_type": "code",
   "execution_count": 21,
   "id": "7864e924-e020-4187-baa6-d03cf8842046",
   "metadata": {
    "execution": {
     "iopub.execute_input": "2022-07-27T06:42:41.104878Z",
     "iopub.status.busy": "2022-07-27T06:42:41.103802Z",
     "iopub.status.idle": "2022-07-27T06:42:41.531172Z",
     "shell.execute_reply": "2022-07-27T06:42:41.531689Z"
    }
   },
   "outputs": [
    {
     "name": "stdout",
     "output_type": "stream",
     "text": [
      "Unique predictions by decision tree: [0. 1.] (2) \n",
      "\n",
      "Unique predictions by random forest: [0.   0.01 0.02 0.03 0.04 0.05 0.06 0.07 0.08 0.09 0.1  0.11 0.12 0.13\n",
      " 0.14 0.15 0.16 0.17 0.18 0.19 0.2  0.21 0.22 0.23 0.24 0.25 0.26 0.27\n",
      " 0.28 0.29 0.3  0.31 0.32 0.33 0.34 0.36 0.37 0.38 0.39 0.4  0.41 0.42\n",
      " 0.44 0.47 0.55 0.56 0.6  0.61 0.62 0.63 0.64 0.65 0.66 0.67 0.68 0.69\n",
      " 0.7  0.71 0.72 0.73 0.74 0.75 0.76 0.77 0.78 0.79 0.8  0.81 0.82 0.83\n",
      " 0.84 0.85 0.86 0.87 0.88 0.89 0.9  0.91 0.92 0.93 0.94 0.95 0.96 0.97\n",
      " 0.98 0.99 1.  ] (87) \n",
      "\n",
      "Unique predictions by neural network: [0.00549233 0.02100134 0.02323252 0.02512592 0.02725006 0.02801536\n",
      " 0.03224527 0.0406329  0.04244417 0.04263699 0.05827152 0.05881957\n",
      " 0.05887901 0.06156878 0.06636166 0.07382802 0.08644909 0.099212\n",
      " 0.10740958 0.11486731 0.11685485 0.12361536 0.13122295 0.14238695\n",
      " 0.14855312 0.14915165 0.15537691 0.15878044 0.16698216 0.17167648\n",
      " 0.17999185 0.1799967  0.1812085  0.18610233 0.18912233 0.19025421\n",
      " 0.19079436 0.19111423 0.19698011 0.19884384 0.20117146 0.21018894\n",
      " 0.21516725 0.21545846 0.21663511 0.22095475 0.22193672 0.22243671\n",
      " 0.2240702  0.22602501 0.22703703 0.23168383 0.23291843 0.23560561\n",
      " 0.24188044 0.24462559 0.25288631 0.25841167 0.25866689 0.25910882\n",
      " 0.26022225 0.26039785 0.26177107 0.26664216 0.26780372 0.27049587\n",
      " 0.27167338 0.27267571 0.27505698 0.27605196 0.27821329 0.27954182\n",
      " 0.28124584 0.28375317 0.28397975 0.28563623 0.29239098 0.29401208\n",
      " 0.29411157 0.29415255 0.29731631 0.29822403 0.30102151 0.30112288\n",
      " 0.30383343 0.30412781 0.30443017 0.30519009 0.3057254  0.3089803\n",
      " 0.30979467 0.31107018 0.31135465 0.32075296 0.32207838 0.32371822\n",
      " 0.32458991 0.33373548 0.33464395 0.33491358 0.33828819 0.34014106\n",
      " 0.34203005 0.34271117 0.34380251 0.34461777 0.34941216 0.35655093\n",
      " 0.35968588 0.35995374 0.3604323  0.36316062 0.36548825 0.36910096\n",
      " 0.36981432 0.37194262 0.37226876 0.37313006 0.37905078 0.38075528\n",
      " 0.38088519 0.38381788 0.38596553 0.38677986 0.38720336 0.38827792\n",
      " 0.38909205 0.39004088 0.39020294 0.39042949 0.39126485 0.39127733\n",
      " 0.39541555 0.40160465 0.4033295  0.40505695 0.40596671 0.40765739\n",
      " 0.40795332 0.4086328  0.40885523 0.41044625 0.41195575 0.41501537\n",
      " 0.4163545  0.42278687 0.42309496 0.42333402 0.43321526 0.43715634\n",
      " 0.43726115 0.440328   0.44152809 0.44216054 0.44274291 0.44377435\n",
      " 0.44549373 0.44590602 0.44599743 0.44645273 0.45020886 0.45299138\n",
      " 0.45732474 0.46293662 0.46408636 0.46712157 0.46767392 0.46775278\n",
      " 0.46963741 0.47079257 0.47416938 0.47453751 0.47523441 0.47713285\n",
      " 0.47849818 0.47865984 0.4795401  0.48567311 0.48655547 0.48966019\n",
      " 0.4896909  0.48975893 0.49218757 0.49377711 0.49585282 0.49842025\n",
      " 0.5004866  0.5007728  0.50147867 0.50224809 0.50251654 0.50324241\n",
      " 0.50422815 0.50680711 0.50859306 0.51032149 0.51075784 0.51284549\n",
      " 0.5147406  0.51523565 0.51564    0.51569282 0.5177436  0.51833868\n",
      " 0.51970824 0.51981034 0.5208911  0.52093658 0.52183048 0.52185959\n",
      " 0.52206432 0.52349228 0.52445334 0.52716396 0.52809953 0.53019927\n",
      " 0.53589327 0.53605254 0.5385604  0.54080642 0.54341828 0.55000207\n",
      " 0.55087262 0.5520877  0.55538229 0.55763341 0.55852084 0.55902887\n",
      " 0.55998044 0.56282516 0.56371146 0.56549858 0.56570338 0.56711046\n",
      " 0.56816157 0.56913835 0.56986275 0.57214751 0.57258812 0.5726865\n",
      " 0.57723979 0.57769099 0.57828171 0.58135668 0.58397402 0.58561021\n",
      " 0.58974235 0.59061827 0.59650185 0.59994679 0.60174651 0.60325776\n",
      " 0.60356489 0.60445631 0.60548952 0.60778807 0.60808847 0.60846841\n",
      " 0.60885078 0.61035672 0.61054964 0.61207908 0.61367734 0.61373498\n",
      " 0.61379676 0.61807828 0.62027893 0.62069651 0.62088497 0.62094488\n",
      " 0.6212275  0.62173466 0.6224153  0.62509709 0.62694785 0.62787769\n",
      " 0.63064185 0.63141389 0.63393631 0.6358752  0.63733961 0.64164525\n",
      " 0.64210252 0.64253483 0.64288063 0.64679986 0.64787753 0.65023287\n",
      " 0.65428252 0.65436768 0.66128389 0.66188248 0.66209905 0.66567126\n",
      " 0.66663951 0.6710719  0.67373223 0.6771863  0.67829506 0.67995389\n",
      " 0.68220689 0.68284652 0.68365339 0.68473109 0.68530024 0.68558302\n",
      " 0.68611253 0.68825482 0.68847598 0.68991049 0.69137501 0.69241523\n",
      " 0.69293483 0.69442744 0.6947593  0.69608185 0.69682734 0.69726712\n",
      " 0.69732072 0.69770385 0.6994005  0.70110593 0.70401894 0.70512423\n",
      " 0.70568163 0.70593123 0.70828839 0.70843671 0.70857033 0.71093552\n",
      " 0.71139111 0.71278845 0.71329066 0.71391506 0.71500505 0.71593053\n",
      " 0.71660725 0.71674125 0.71876639 0.72081867 0.72217534 0.72248622\n",
      " 0.72281438 0.72461764 0.72568318 0.7275416  0.72832054 0.72887174\n",
      " 0.72888309 0.73521321 0.73531306 0.73642228 0.73708551 0.738653\n",
      " 0.74053224 0.74104253 0.74170309 0.74720205 0.75000077 0.75032976\n",
      " 0.75034602 0.75041403 0.75066942 0.75084156 0.75164517 0.75199719\n",
      " 0.75214732 0.75290352 0.75437708 0.75504064 0.75638393 0.7578315\n",
      " 0.75933051 0.75940701 0.76174217 0.76188592 0.76313791 0.76508933\n",
      " 0.76577174 0.76714168 0.7674163  0.76989723 0.77092867 0.77102979\n",
      " 0.77161759 0.77162538 0.7718726  0.77224322 0.77453589 0.7748752\n",
      " 0.77554313 0.77672776 0.77747081 0.77747742 0.77890331 0.77896716\n",
      " 0.77917693 0.77949569 0.78081465 0.78090351 0.78204584 0.78330203\n",
      " 0.78340173 0.78624713 0.78664237 0.78840578 0.79001557 0.79312113\n",
      " 0.7932983  0.79341309 0.79492267 0.79503525 0.79721384 0.79899067\n",
      " 0.79933512 0.80197593 0.80212833 0.80269886 0.80282155 0.80327091\n",
      " 0.80565752 0.8066163  0.81081526 0.81081998 0.81160253 0.81170881\n",
      " 0.81219461 0.81543725 0.81553512 0.8157763  0.8162592  0.81638095\n",
      " 0.81790177 0.8181345  0.81834778 0.81995257 0.82013265 0.82037382\n",
      " 0.82039442 0.82129994 0.82341552 0.82528206 0.82656046 0.82681281\n",
      " 0.82695827 0.82736419 0.82744281 0.82784459 0.82913893 0.82920334\n",
      " 0.82961728 0.83282066 0.83341278 0.83464055 0.83677077 0.83807231\n",
      " 0.83978958 0.83980004 0.83984449 0.84058088 0.84178353 0.84236045\n",
      " 0.84262098 0.84290484 0.84344179 0.84682688 0.84744609 0.84745227\n",
      " 0.84811395 0.84876329 0.84879327 0.85052201 0.85149271 0.85157572\n",
      " 0.85339486 0.85523753 0.85547031 0.85633422 0.85658924 0.85956308\n",
      " 0.8598226  0.86097859 0.86111839 0.86118796 0.86156656 0.86283853\n",
      " 0.86283865 0.86315339 0.86319434 0.86339249 0.86376231 0.86485425\n",
      " 0.86533143 0.86607417 0.86737659 0.86796642 0.86827285 0.87002064\n",
      " 0.87073864 0.87170771 0.87283432 0.87290238 0.87356371 0.87377841\n",
      " 0.87422937 0.874307   0.87441806 0.87458577 0.87469827 0.87527214\n",
      " 0.87533398 0.87577183 0.87643887 0.87781955 0.87940903 0.87966336\n",
      " 0.87973515 0.87987383 0.88052201 0.88073641 0.88111028 0.88119062\n",
      " 0.88134911 0.88204439 0.88225052 0.88580053 0.88591775 0.88595651\n",
      " 0.88721526 0.88790506 0.89016535 0.89126871 0.89159456 0.89164362\n",
      " 0.89173844 0.89206141 0.89233351 0.89247632 0.89312554 0.89451419\n",
      " 0.89453935 0.89598815 0.89622324 0.89669267 0.89730781 0.89784723\n",
      " 0.89866286 0.89875017 0.89919951 0.90019011 0.90049119 0.9020907\n",
      " 0.90234807 0.9028123  0.90391745 0.90410517 0.9042813  0.90435438\n",
      " 0.90474421 0.90496336 0.90498282 0.90633076 0.90641789 0.90737032\n",
      " 0.9075498  0.90782766 0.90785068 0.90818434 0.90867295 0.90913982\n",
      " 0.90934376 0.90952883 0.90957887 0.90983638 0.91075408 0.91136129\n",
      " 0.91143586 0.91275243 0.91277808 0.91332722 0.91362094 0.91408143\n",
      " 0.91425487 0.91457427 0.91477806 0.91491948 0.91612511 0.91746767\n",
      " 0.91801802 0.9185227  0.91910563 0.92016557 0.92032043 0.92061936\n",
      " 0.92064189 0.92071655 0.92094192 0.92185094 0.92253408 0.92345638\n",
      " 0.9239045  0.92399819 0.92428865 0.92453678 0.92462437 0.92510329\n",
      " 0.92536175 0.92582257 0.92591979 0.92637544 0.92640138 0.92660845\n",
      " 0.927485   0.92767918 0.92876627 0.92901714 0.92948104 0.92953719\n",
      " 0.92957348 0.92987046 0.93023487 0.93025138 0.93034712 0.93066965\n",
      " 0.93082594 0.93113632 0.93202805 0.93218277 0.93313599 0.93357998\n",
      " 0.93418524 0.93460301 0.93556864 0.93585224 0.93634617 0.93737538\n",
      " 0.93743398 0.93766156 0.93783288 0.93850293 0.93863692 0.93875501\n",
      " 0.93900707 0.93916428 0.93928098 0.93930694 0.93947324 0.93955838\n",
      " 0.93956929 0.93993674 0.94044341 0.94064651 0.94082327 0.94082396\n",
      " 0.9410791  0.94111352 0.94139946 0.94190485 0.94229859 0.94238196\n",
      " 0.94252441 0.9431191  0.94363981 0.94405673 0.94495551 0.94499854\n",
      " 0.94510518 0.94517105 0.9453227  0.94619242 0.94674015 0.94678687\n",
      " 0.94682942 0.94717309 0.94748972 0.94874233 0.94949192 0.94999108\n",
      " 0.95065415 0.95074139 0.950756   0.95092204 0.95099945 0.95106179\n",
      " 0.95182004 0.95243321 0.95245932 0.95280048 0.95402296 0.95414106\n",
      " 0.95518336 0.95520802 0.95587169 0.9560565  0.95622916 0.95677092\n",
      " 0.95701976 0.95787001 0.95793069 0.95801881 0.95858541 0.95868066\n",
      " 0.95895186 0.95946159 0.959649   0.96013905 0.96044142 0.96048165\n",
      " 0.96055426 0.96082182 0.9622044  0.9624037  0.96252313 0.96299211\n",
      " 0.96313404 0.96325483 0.96331834 0.96365654 0.96420451 0.96453086\n",
      " 0.96545358 0.96571071 0.96617275 0.96628663 0.96701299 0.96738164\n",
      " 0.96761897 0.96780702 0.96796795 0.96799938 0.96842326 0.96865803\n",
      " 0.96895255 0.96906871 0.96949579 0.96957284 0.9699948  0.9702091\n",
      " 0.97103017 0.97156191 0.97205746 0.97213474 0.97216467 0.97234092\n",
      " 0.97268105 0.97294259 0.97336935 0.97339105 0.97452482 0.97503529\n",
      " 0.97507766 0.97550569 0.9755634  0.97577552 0.9757867  0.97600063\n",
      " 0.9760302  0.97610355 0.97678504 0.97700748 0.97759019 0.97773816\n",
      " 0.97836368 0.97857875 0.97858109 0.9785861  0.97862798 0.97883216\n",
      " 0.97921716 0.97961415 0.98001866 0.98078039 0.98116844 0.98143539\n",
      " 0.98190976 0.98231229 0.98388717 0.983897   0.9842259  0.98427995\n",
      " 0.98429701 0.98446551 0.9853078  0.98564405 0.98564468 0.98646795\n",
      " 0.98658    0.98717151 0.98769787 0.98774041 0.9878245  0.98789365\n",
      " 0.9880363  0.9880803  0.9883263  0.98839698 0.9886019  0.98877622\n",
      " 0.98950028 0.98951248 0.98975304 0.98992566 0.99041453 0.99064274\n",
      " 0.99097555 0.99168577 0.99180268 0.99196627 0.9923253  0.99331627\n",
      " 0.99347371 0.9935785  0.99484113 0.99585734 0.99603258 0.99607371\n",
      " 0.99616713 0.99628647 0.9963644  0.99648681 0.99690354 0.99779448\n",
      " 0.99892237 0.99997647] (824) \n",
      "\n"
     ]
    }
   ],
   "source": [
    "decision_tree = DecisionTreeClassifier(random_state=0)\n",
    "random_forest = es.RandomForestClassifier(random_state=0)\n",
    "neural_network = MLPClassifier(random_state=0)\n",
    "\n",
    "x_train, y_train = data_num.drop(outcome_name_num, axis=1), data_num[outcome_name_num]\n",
    "\n",
    "decision_tree.fit(x_train, y_train)\n",
    "random_forest.fit(x_train, y_train)\n",
    "neural_network.fit(x_train, y_train)\n",
    "\n",
    "pred_decision_tree = decision_tree.predict_proba(x_train)[:, 1]\n",
    "pred_random_forest = random_forest.predict_proba(x_train)[:, 1]\n",
    "pred_neural_network = neural_network.predict_proba(x_train)[:, 1]\n",
    "\n",
    "unique_pred_dt = np.unique(pred_decision_tree)\n",
    "unique_pred_rf = np.unique(pred_random_forest)\n",
    "unique_pred_nn = np.unique(pred_neural_network)\n",
    "\n",
    "print(f'Unique predictions by decision tree: {unique_pred_dt} ({len(unique_pred_dt)}) \\n')\n",
    "print(f'Unique predictions by random forest: {unique_pred_rf} ({len(unique_pred_rf)}) \\n')\n",
    "print(f'Unique predictions by neural network: {unique_pred_nn} ({len(unique_pred_nn)}) \\n')"
   ]
  },
  {
   "cell_type": "markdown",
   "id": "75f21084-fdb2-403f-b969-35bc55dc30f3",
   "metadata": {},
   "source": [
    "The decision tree only makes two different kinds of predictions: 0 or 1. The random forest averages between all its trees and therefore can make a much higher number of different predictions, while the many neurons and weights in a neural network have an even stronger diversifying effect on the prediction. It is much more likely for two samples to have the same ICE lines if they can only be made up of two different prediction values. Therefore, the attack against the decision tree is much more likely to produce false positives. This explains the difference in accuracy well."
   ]
  },
  {
   "cell_type": "code",
   "execution_count": null,
   "id": "afa29661-0548-458a-9987-3c52d73c5f79",
   "metadata": {},
   "outputs": [],
   "source": []
  }
 ],
 "metadata": {
  "kernelspec": {
   "display_name": "Python 3 (ipykernel)",
   "language": "python",
   "name": "python3"
  },
  "language_info": {
   "codemirror_mode": {
    "name": "ipython",
    "version": 3
   },
   "file_extension": ".py",
   "mimetype": "text/x-python",
   "name": "python",
   "nbconvert_exporter": "python",
   "pygments_lexer": "ipython3",
   "version": "3.9.10"
  }
 },
 "nbformat": 4,
 "nbformat_minor": 5
}
